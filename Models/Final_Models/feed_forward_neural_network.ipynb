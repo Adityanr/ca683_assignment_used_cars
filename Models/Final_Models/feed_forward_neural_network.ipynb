{
 "cells": [
  {
   "cell_type": "code",
   "execution_count": 1,
   "metadata": {},
   "outputs": [],
   "source": [
    "import pandas as pd\n",
    "from sklearn.model_selection import train_test_split\n",
    "from sklearn.metrics import r2_score\n",
    "import keras.backend as K\n",
    "from tensorflow.keras.models import Sequential\n",
    "from tensorflow.keras.layers import Dense\n",
    "from tensorflow.keras.layers import Dropout\n",
    "from tensorflow.keras.callbacks import EarlyStopping\n",
    "import tensorflow as tf\n",
    "from sklearn.decomposition import PCA\n",
    "import seaborn as sns\n",
    "import matplotlib.pyplot as plt\n",
    "import plotly.express as px"
   ]
  },
  {
   "cell_type": "code",
   "execution_count": 2,
   "metadata": {},
   "outputs": [],
   "source": [
    "df = pd.read_csv('../../Dataset/cleaned_used_cars_v3.csv')"
   ]
  },
  {
   "cell_type": "code",
   "execution_count": 3,
   "metadata": {},
   "outputs": [
    {
     "data": {
      "text/plain": [
       "(257567, 313)"
      ]
     },
     "execution_count": 3,
     "metadata": {},
     "output_type": "execute_result"
    }
   ],
   "source": [
    "df.shape"
   ]
  },
  {
   "cell_type": "code",
   "execution_count": 4,
   "metadata": {},
   "outputs": [
    {
     "data": {
      "text/plain": [
       "(257567, 313)"
      ]
     },
     "execution_count": 4,
     "metadata": {},
     "output_type": "execute_result"
    }
   ],
   "source": [
    "df.shape"
   ]
  },
  {
   "cell_type": "code",
   "execution_count": 5,
   "metadata": {},
   "outputs": [
    {
     "data": {
      "text/html": [
       "<div>\n",
       "<style scoped>\n",
       "    .dataframe tbody tr th:only-of-type {\n",
       "        vertical-align: middle;\n",
       "    }\n",
       "\n",
       "    .dataframe tbody tr th {\n",
       "        vertical-align: top;\n",
       "    }\n",
       "\n",
       "    .dataframe thead th {\n",
       "        text-align: right;\n",
       "    }\n",
       "</style>\n",
       "<table border=\"1\" class=\"dataframe\">\n",
       "  <thead>\n",
       "    <tr style=\"text-align: right;\">\n",
       "      <th></th>\n",
       "      <th>seller</th>\n",
       "      <th>offerType</th>\n",
       "      <th>price</th>\n",
       "      <th>abtest</th>\n",
       "      <th>gearbox</th>\n",
       "      <th>powerPS</th>\n",
       "      <th>kilometer</th>\n",
       "      <th>notRepairedDamage</th>\n",
       "      <th>vehicleType.andere</th>\n",
       "      <th>vehicleType.bus</th>\n",
       "      <th>...</th>\n",
       "      <th>model.yeti</th>\n",
       "      <th>model.ypsilon</th>\n",
       "      <th>model.z_reihe</th>\n",
       "      <th>model.zafira</th>\n",
       "      <th>year_range.[1991, 1996)</th>\n",
       "      <th>year_range.[1996, 2001)</th>\n",
       "      <th>year_range.[2001, 2006)</th>\n",
       "      <th>year_range.[2006, 2011)</th>\n",
       "      <th>year_range.[2011, 2016)</th>\n",
       "      <th>year_range.[2016, 2021)</th>\n",
       "    </tr>\n",
       "  </thead>\n",
       "  <tbody>\n",
       "    <tr>\n",
       "      <th>0</th>\n",
       "      <td>0</td>\n",
       "      <td>0</td>\n",
       "      <td>7.313887</td>\n",
       "      <td>0</td>\n",
       "      <td>0</td>\n",
       "      <td>-0.353911</td>\n",
       "      <td>0.647340</td>\n",
       "      <td>0</td>\n",
       "      <td>0</td>\n",
       "      <td>0</td>\n",
       "      <td>...</td>\n",
       "      <td>0</td>\n",
       "      <td>0</td>\n",
       "      <td>0</td>\n",
       "      <td>0</td>\n",
       "      <td>0</td>\n",
       "      <td>0</td>\n",
       "      <td>1</td>\n",
       "      <td>0</td>\n",
       "      <td>0</td>\n",
       "      <td>0</td>\n",
       "    </tr>\n",
       "    <tr>\n",
       "      <th>1</th>\n",
       "      <td>0</td>\n",
       "      <td>0</td>\n",
       "      <td>8.188967</td>\n",
       "      <td>0</td>\n",
       "      <td>0</td>\n",
       "      <td>-0.395023</td>\n",
       "      <td>-0.867131</td>\n",
       "      <td>0</td>\n",
       "      <td>0</td>\n",
       "      <td>0</td>\n",
       "      <td>...</td>\n",
       "      <td>0</td>\n",
       "      <td>0</td>\n",
       "      <td>0</td>\n",
       "      <td>0</td>\n",
       "      <td>0</td>\n",
       "      <td>0</td>\n",
       "      <td>0</td>\n",
       "      <td>1</td>\n",
       "      <td>0</td>\n",
       "      <td>0</td>\n",
       "    </tr>\n",
       "    <tr>\n",
       "      <th>2</th>\n",
       "      <td>0</td>\n",
       "      <td>0</td>\n",
       "      <td>6.478510</td>\n",
       "      <td>0</td>\n",
       "      <td>0</td>\n",
       "      <td>-0.168908</td>\n",
       "      <td>0.647340</td>\n",
       "      <td>1</td>\n",
       "      <td>0</td>\n",
       "      <td>0</td>\n",
       "      <td>...</td>\n",
       "      <td>0</td>\n",
       "      <td>0</td>\n",
       "      <td>0</td>\n",
       "      <td>0</td>\n",
       "      <td>1</td>\n",
       "      <td>0</td>\n",
       "      <td>0</td>\n",
       "      <td>0</td>\n",
       "      <td>0</td>\n",
       "      <td>0</td>\n",
       "    </tr>\n",
       "    <tr>\n",
       "      <th>3</th>\n",
       "      <td>0</td>\n",
       "      <td>0</td>\n",
       "      <td>7.696667</td>\n",
       "      <td>0</td>\n",
       "      <td>0</td>\n",
       "      <td>-0.120944</td>\n",
       "      <td>0.647340</td>\n",
       "      <td>0</td>\n",
       "      <td>0</td>\n",
       "      <td>0</td>\n",
       "      <td>...</td>\n",
       "      <td>0</td>\n",
       "      <td>0</td>\n",
       "      <td>0</td>\n",
       "      <td>0</td>\n",
       "      <td>0</td>\n",
       "      <td>0</td>\n",
       "      <td>1</td>\n",
       "      <td>0</td>\n",
       "      <td>0</td>\n",
       "      <td>0</td>\n",
       "    </tr>\n",
       "    <tr>\n",
       "      <th>4</th>\n",
       "      <td>0</td>\n",
       "      <td>0</td>\n",
       "      <td>7.601402</td>\n",
       "      <td>1</td>\n",
       "      <td>0</td>\n",
       "      <td>-0.148352</td>\n",
       "      <td>0.647340</td>\n",
       "      <td>0</td>\n",
       "      <td>0</td>\n",
       "      <td>0</td>\n",
       "      <td>...</td>\n",
       "      <td>0</td>\n",
       "      <td>0</td>\n",
       "      <td>0</td>\n",
       "      <td>0</td>\n",
       "      <td>0</td>\n",
       "      <td>0</td>\n",
       "      <td>1</td>\n",
       "      <td>0</td>\n",
       "      <td>0</td>\n",
       "      <td>0</td>\n",
       "    </tr>\n",
       "    <tr>\n",
       "      <th>...</th>\n",
       "      <td>...</td>\n",
       "      <td>...</td>\n",
       "      <td>...</td>\n",
       "      <td>...</td>\n",
       "      <td>...</td>\n",
       "      <td>...</td>\n",
       "      <td>...</td>\n",
       "      <td>...</td>\n",
       "      <td>...</td>\n",
       "      <td>...</td>\n",
       "      <td>...</td>\n",
       "      <td>...</td>\n",
       "      <td>...</td>\n",
       "      <td>...</td>\n",
       "      <td>...</td>\n",
       "      <td>...</td>\n",
       "      <td>...</td>\n",
       "      <td>...</td>\n",
       "      <td>...</td>\n",
       "      <td>...</td>\n",
       "      <td>...</td>\n",
       "    </tr>\n",
       "    <tr>\n",
       "      <th>257562</th>\n",
       "      <td>0</td>\n",
       "      <td>0</td>\n",
       "      <td>8.071219</td>\n",
       "      <td>1</td>\n",
       "      <td>0</td>\n",
       "      <td>0.673887</td>\n",
       "      <td>0.647340</td>\n",
       "      <td>1</td>\n",
       "      <td>0</td>\n",
       "      <td>0</td>\n",
       "      <td>...</td>\n",
       "      <td>0</td>\n",
       "      <td>0</td>\n",
       "      <td>0</td>\n",
       "      <td>0</td>\n",
       "      <td>0</td>\n",
       "      <td>0</td>\n",
       "      <td>1</td>\n",
       "      <td>0</td>\n",
       "      <td>0</td>\n",
       "      <td>0</td>\n",
       "    </tr>\n",
       "    <tr>\n",
       "      <th>257563</th>\n",
       "      <td>0</td>\n",
       "      <td>0</td>\n",
       "      <td>7.048386</td>\n",
       "      <td>1</td>\n",
       "      <td>0</td>\n",
       "      <td>-0.867810</td>\n",
       "      <td>0.647340</td>\n",
       "      <td>0</td>\n",
       "      <td>0</td>\n",
       "      <td>1</td>\n",
       "      <td>...</td>\n",
       "      <td>0</td>\n",
       "      <td>0</td>\n",
       "      <td>0</td>\n",
       "      <td>1</td>\n",
       "      <td>0</td>\n",
       "      <td>1</td>\n",
       "      <td>0</td>\n",
       "      <td>0</td>\n",
       "      <td>0</td>\n",
       "      <td>0</td>\n",
       "    </tr>\n",
       "    <tr>\n",
       "      <th>257564</th>\n",
       "      <td>0</td>\n",
       "      <td>0</td>\n",
       "      <td>7.090077</td>\n",
       "      <td>0</td>\n",
       "      <td>1</td>\n",
       "      <td>-0.175760</td>\n",
       "      <td>0.016310</td>\n",
       "      <td>0</td>\n",
       "      <td>0</td>\n",
       "      <td>0</td>\n",
       "      <td>...</td>\n",
       "      <td>0</td>\n",
       "      <td>0</td>\n",
       "      <td>0</td>\n",
       "      <td>0</td>\n",
       "      <td>0</td>\n",
       "      <td>1</td>\n",
       "      <td>0</td>\n",
       "      <td>0</td>\n",
       "      <td>0</td>\n",
       "      <td>0</td>\n",
       "    </tr>\n",
       "    <tr>\n",
       "      <th>257565</th>\n",
       "      <td>0</td>\n",
       "      <td>0</td>\n",
       "      <td>9.127067</td>\n",
       "      <td>0</td>\n",
       "      <td>0</td>\n",
       "      <td>-0.168908</td>\n",
       "      <td>0.647340</td>\n",
       "      <td>0</td>\n",
       "      <td>0</td>\n",
       "      <td>1</td>\n",
       "      <td>...</td>\n",
       "      <td>0</td>\n",
       "      <td>0</td>\n",
       "      <td>0</td>\n",
       "      <td>0</td>\n",
       "      <td>0</td>\n",
       "      <td>1</td>\n",
       "      <td>0</td>\n",
       "      <td>0</td>\n",
       "      <td>0</td>\n",
       "      <td>0</td>\n",
       "    </tr>\n",
       "    <tr>\n",
       "      <th>257566</th>\n",
       "      <td>0</td>\n",
       "      <td>0</td>\n",
       "      <td>9.648595</td>\n",
       "      <td>1</td>\n",
       "      <td>0</td>\n",
       "      <td>1.324825</td>\n",
       "      <td>-1.876779</td>\n",
       "      <td>0</td>\n",
       "      <td>0</td>\n",
       "      <td>0</td>\n",
       "      <td>...</td>\n",
       "      <td>0</td>\n",
       "      <td>0</td>\n",
       "      <td>0</td>\n",
       "      <td>0</td>\n",
       "      <td>0</td>\n",
       "      <td>0</td>\n",
       "      <td>0</td>\n",
       "      <td>0</td>\n",
       "      <td>1</td>\n",
       "      <td>0</td>\n",
       "    </tr>\n",
       "  </tbody>\n",
       "</table>\n",
       "<p>257567 rows × 313 columns</p>\n",
       "</div>"
      ],
      "text/plain": [
       "        seller  offerType     price  abtest  gearbox   powerPS  kilometer  \\\n",
       "0            0          0  7.313887       0        0 -0.353911   0.647340   \n",
       "1            0          0  8.188967       0        0 -0.395023  -0.867131   \n",
       "2            0          0  6.478510       0        0 -0.168908   0.647340   \n",
       "3            0          0  7.696667       0        0 -0.120944   0.647340   \n",
       "4            0          0  7.601402       1        0 -0.148352   0.647340   \n",
       "...        ...        ...       ...     ...      ...       ...        ...   \n",
       "257562       0          0  8.071219       1        0  0.673887   0.647340   \n",
       "257563       0          0  7.048386       1        0 -0.867810   0.647340   \n",
       "257564       0          0  7.090077       0        1 -0.175760   0.016310   \n",
       "257565       0          0  9.127067       0        0 -0.168908   0.647340   \n",
       "257566       0          0  9.648595       1        0  1.324825  -1.876779   \n",
       "\n",
       "        notRepairedDamage  vehicleType.andere  vehicleType.bus  ...  \\\n",
       "0                       0                   0                0  ...   \n",
       "1                       0                   0                0  ...   \n",
       "2                       1                   0                0  ...   \n",
       "3                       0                   0                0  ...   \n",
       "4                       0                   0                0  ...   \n",
       "...                   ...                 ...              ...  ...   \n",
       "257562                  1                   0                0  ...   \n",
       "257563                  0                   0                1  ...   \n",
       "257564                  0                   0                0  ...   \n",
       "257565                  0                   0                1  ...   \n",
       "257566                  0                   0                0  ...   \n",
       "\n",
       "        model.yeti  model.ypsilon  model.z_reihe  model.zafira  \\\n",
       "0                0              0              0             0   \n",
       "1                0              0              0             0   \n",
       "2                0              0              0             0   \n",
       "3                0              0              0             0   \n",
       "4                0              0              0             0   \n",
       "...            ...            ...            ...           ...   \n",
       "257562           0              0              0             0   \n",
       "257563           0              0              0             1   \n",
       "257564           0              0              0             0   \n",
       "257565           0              0              0             0   \n",
       "257566           0              0              0             0   \n",
       "\n",
       "        year_range.[1991, 1996)  year_range.[1996, 2001)  \\\n",
       "0                             0                        0   \n",
       "1                             0                        0   \n",
       "2                             1                        0   \n",
       "3                             0                        0   \n",
       "4                             0                        0   \n",
       "...                         ...                      ...   \n",
       "257562                        0                        0   \n",
       "257563                        0                        1   \n",
       "257564                        0                        1   \n",
       "257565                        0                        1   \n",
       "257566                        0                        0   \n",
       "\n",
       "        year_range.[2001, 2006)  year_range.[2006, 2011)  \\\n",
       "0                             1                        0   \n",
       "1                             0                        1   \n",
       "2                             0                        0   \n",
       "3                             1                        0   \n",
       "4                             1                        0   \n",
       "...                         ...                      ...   \n",
       "257562                        1                        0   \n",
       "257563                        0                        0   \n",
       "257564                        0                        0   \n",
       "257565                        0                        0   \n",
       "257566                        0                        0   \n",
       "\n",
       "        year_range.[2011, 2016)  year_range.[2016, 2021)  \n",
       "0                             0                        0  \n",
       "1                             0                        0  \n",
       "2                             0                        0  \n",
       "3                             0                        0  \n",
       "4                             0                        0  \n",
       "...                         ...                      ...  \n",
       "257562                        0                        0  \n",
       "257563                        0                        0  \n",
       "257564                        0                        0  \n",
       "257565                        0                        0  \n",
       "257566                        1                        0  \n",
       "\n",
       "[257567 rows x 313 columns]"
      ]
     },
     "execution_count": 5,
     "metadata": {},
     "output_type": "execute_result"
    }
   ],
   "source": [
    "df"
   ]
  },
  {
   "cell_type": "code",
   "execution_count": 6,
   "metadata": {},
   "outputs": [],
   "source": [
    "def r2(y_true, y_pred):\n",
    "    SS_res =  K.sum(K.square(y_true - y_pred)) \n",
    "    SS_tot = K.sum(K.square(y_true - K.mean(y_true)))\n",
    "    return ( 1 - SS_res/(SS_tot + K.epsilon()) )"
   ]
  },
  {
   "cell_type": "code",
   "execution_count": 7,
   "metadata": {},
   "outputs": [
    {
     "data": {
      "text/html": [
       "<div>\n",
       "<style scoped>\n",
       "    .dataframe tbody tr th:only-of-type {\n",
       "        vertical-align: middle;\n",
       "    }\n",
       "\n",
       "    .dataframe tbody tr th {\n",
       "        vertical-align: top;\n",
       "    }\n",
       "\n",
       "    .dataframe thead th {\n",
       "        text-align: right;\n",
       "    }\n",
       "</style>\n",
       "<table border=\"1\" class=\"dataframe\">\n",
       "  <thead>\n",
       "    <tr style=\"text-align: right;\">\n",
       "      <th></th>\n",
       "      <th>seller</th>\n",
       "      <th>offerType</th>\n",
       "      <th>abtest</th>\n",
       "      <th>gearbox</th>\n",
       "      <th>powerPS</th>\n",
       "      <th>kilometer</th>\n",
       "      <th>notRepairedDamage</th>\n",
       "      <th>vehicleType.andere</th>\n",
       "      <th>vehicleType.bus</th>\n",
       "      <th>vehicleType.cabrio</th>\n",
       "      <th>...</th>\n",
       "      <th>model.yeti</th>\n",
       "      <th>model.ypsilon</th>\n",
       "      <th>model.z_reihe</th>\n",
       "      <th>model.zafira</th>\n",
       "      <th>year_range.[1991, 1996)</th>\n",
       "      <th>year_range.[1996, 2001)</th>\n",
       "      <th>year_range.[2001, 2006)</th>\n",
       "      <th>year_range.[2006, 2011)</th>\n",
       "      <th>year_range.[2011, 2016)</th>\n",
       "      <th>year_range.[2016, 2021)</th>\n",
       "    </tr>\n",
       "  </thead>\n",
       "  <tbody>\n",
       "    <tr>\n",
       "      <th>0</th>\n",
       "      <td>0</td>\n",
       "      <td>0</td>\n",
       "      <td>0</td>\n",
       "      <td>0</td>\n",
       "      <td>-0.353911</td>\n",
       "      <td>0.647340</td>\n",
       "      <td>0</td>\n",
       "      <td>0</td>\n",
       "      <td>0</td>\n",
       "      <td>0</td>\n",
       "      <td>...</td>\n",
       "      <td>0</td>\n",
       "      <td>0</td>\n",
       "      <td>0</td>\n",
       "      <td>0</td>\n",
       "      <td>0</td>\n",
       "      <td>0</td>\n",
       "      <td>1</td>\n",
       "      <td>0</td>\n",
       "      <td>0</td>\n",
       "      <td>0</td>\n",
       "    </tr>\n",
       "    <tr>\n",
       "      <th>1</th>\n",
       "      <td>0</td>\n",
       "      <td>0</td>\n",
       "      <td>0</td>\n",
       "      <td>0</td>\n",
       "      <td>-0.395023</td>\n",
       "      <td>-0.867131</td>\n",
       "      <td>0</td>\n",
       "      <td>0</td>\n",
       "      <td>0</td>\n",
       "      <td>0</td>\n",
       "      <td>...</td>\n",
       "      <td>0</td>\n",
       "      <td>0</td>\n",
       "      <td>0</td>\n",
       "      <td>0</td>\n",
       "      <td>0</td>\n",
       "      <td>0</td>\n",
       "      <td>0</td>\n",
       "      <td>1</td>\n",
       "      <td>0</td>\n",
       "      <td>0</td>\n",
       "    </tr>\n",
       "    <tr>\n",
       "      <th>2</th>\n",
       "      <td>0</td>\n",
       "      <td>0</td>\n",
       "      <td>0</td>\n",
       "      <td>0</td>\n",
       "      <td>-0.168908</td>\n",
       "      <td>0.647340</td>\n",
       "      <td>1</td>\n",
       "      <td>0</td>\n",
       "      <td>0</td>\n",
       "      <td>0</td>\n",
       "      <td>...</td>\n",
       "      <td>0</td>\n",
       "      <td>0</td>\n",
       "      <td>0</td>\n",
       "      <td>0</td>\n",
       "      <td>1</td>\n",
       "      <td>0</td>\n",
       "      <td>0</td>\n",
       "      <td>0</td>\n",
       "      <td>0</td>\n",
       "      <td>0</td>\n",
       "    </tr>\n",
       "    <tr>\n",
       "      <th>3</th>\n",
       "      <td>0</td>\n",
       "      <td>0</td>\n",
       "      <td>0</td>\n",
       "      <td>0</td>\n",
       "      <td>-0.120944</td>\n",
       "      <td>0.647340</td>\n",
       "      <td>0</td>\n",
       "      <td>0</td>\n",
       "      <td>0</td>\n",
       "      <td>1</td>\n",
       "      <td>...</td>\n",
       "      <td>0</td>\n",
       "      <td>0</td>\n",
       "      <td>0</td>\n",
       "      <td>0</td>\n",
       "      <td>0</td>\n",
       "      <td>0</td>\n",
       "      <td>1</td>\n",
       "      <td>0</td>\n",
       "      <td>0</td>\n",
       "      <td>0</td>\n",
       "    </tr>\n",
       "    <tr>\n",
       "      <th>4</th>\n",
       "      <td>0</td>\n",
       "      <td>0</td>\n",
       "      <td>1</td>\n",
       "      <td>0</td>\n",
       "      <td>-0.148352</td>\n",
       "      <td>0.647340</td>\n",
       "      <td>0</td>\n",
       "      <td>0</td>\n",
       "      <td>0</td>\n",
       "      <td>0</td>\n",
       "      <td>...</td>\n",
       "      <td>0</td>\n",
       "      <td>0</td>\n",
       "      <td>0</td>\n",
       "      <td>0</td>\n",
       "      <td>0</td>\n",
       "      <td>0</td>\n",
       "      <td>1</td>\n",
       "      <td>0</td>\n",
       "      <td>0</td>\n",
       "      <td>0</td>\n",
       "    </tr>\n",
       "    <tr>\n",
       "      <th>...</th>\n",
       "      <td>...</td>\n",
       "      <td>...</td>\n",
       "      <td>...</td>\n",
       "      <td>...</td>\n",
       "      <td>...</td>\n",
       "      <td>...</td>\n",
       "      <td>...</td>\n",
       "      <td>...</td>\n",
       "      <td>...</td>\n",
       "      <td>...</td>\n",
       "      <td>...</td>\n",
       "      <td>...</td>\n",
       "      <td>...</td>\n",
       "      <td>...</td>\n",
       "      <td>...</td>\n",
       "      <td>...</td>\n",
       "      <td>...</td>\n",
       "      <td>...</td>\n",
       "      <td>...</td>\n",
       "      <td>...</td>\n",
       "      <td>...</td>\n",
       "    </tr>\n",
       "    <tr>\n",
       "      <th>257562</th>\n",
       "      <td>0</td>\n",
       "      <td>0</td>\n",
       "      <td>1</td>\n",
       "      <td>0</td>\n",
       "      <td>0.673887</td>\n",
       "      <td>0.647340</td>\n",
       "      <td>1</td>\n",
       "      <td>0</td>\n",
       "      <td>0</td>\n",
       "      <td>0</td>\n",
       "      <td>...</td>\n",
       "      <td>0</td>\n",
       "      <td>0</td>\n",
       "      <td>0</td>\n",
       "      <td>0</td>\n",
       "      <td>0</td>\n",
       "      <td>0</td>\n",
       "      <td>1</td>\n",
       "      <td>0</td>\n",
       "      <td>0</td>\n",
       "      <td>0</td>\n",
       "    </tr>\n",
       "    <tr>\n",
       "      <th>257563</th>\n",
       "      <td>0</td>\n",
       "      <td>0</td>\n",
       "      <td>1</td>\n",
       "      <td>0</td>\n",
       "      <td>-0.867810</td>\n",
       "      <td>0.647340</td>\n",
       "      <td>0</td>\n",
       "      <td>0</td>\n",
       "      <td>1</td>\n",
       "      <td>0</td>\n",
       "      <td>...</td>\n",
       "      <td>0</td>\n",
       "      <td>0</td>\n",
       "      <td>0</td>\n",
       "      <td>1</td>\n",
       "      <td>0</td>\n",
       "      <td>1</td>\n",
       "      <td>0</td>\n",
       "      <td>0</td>\n",
       "      <td>0</td>\n",
       "      <td>0</td>\n",
       "    </tr>\n",
       "    <tr>\n",
       "      <th>257564</th>\n",
       "      <td>0</td>\n",
       "      <td>0</td>\n",
       "      <td>0</td>\n",
       "      <td>1</td>\n",
       "      <td>-0.175760</td>\n",
       "      <td>0.016310</td>\n",
       "      <td>0</td>\n",
       "      <td>0</td>\n",
       "      <td>0</td>\n",
       "      <td>1</td>\n",
       "      <td>...</td>\n",
       "      <td>0</td>\n",
       "      <td>0</td>\n",
       "      <td>0</td>\n",
       "      <td>0</td>\n",
       "      <td>0</td>\n",
       "      <td>1</td>\n",
       "      <td>0</td>\n",
       "      <td>0</td>\n",
       "      <td>0</td>\n",
       "      <td>0</td>\n",
       "    </tr>\n",
       "    <tr>\n",
       "      <th>257565</th>\n",
       "      <td>0</td>\n",
       "      <td>0</td>\n",
       "      <td>0</td>\n",
       "      <td>0</td>\n",
       "      <td>-0.168908</td>\n",
       "      <td>0.647340</td>\n",
       "      <td>0</td>\n",
       "      <td>0</td>\n",
       "      <td>1</td>\n",
       "      <td>0</td>\n",
       "      <td>...</td>\n",
       "      <td>0</td>\n",
       "      <td>0</td>\n",
       "      <td>0</td>\n",
       "      <td>0</td>\n",
       "      <td>0</td>\n",
       "      <td>1</td>\n",
       "      <td>0</td>\n",
       "      <td>0</td>\n",
       "      <td>0</td>\n",
       "      <td>0</td>\n",
       "    </tr>\n",
       "    <tr>\n",
       "      <th>257566</th>\n",
       "      <td>0</td>\n",
       "      <td>0</td>\n",
       "      <td>1</td>\n",
       "      <td>0</td>\n",
       "      <td>1.324825</td>\n",
       "      <td>-1.876779</td>\n",
       "      <td>0</td>\n",
       "      <td>0</td>\n",
       "      <td>0</td>\n",
       "      <td>0</td>\n",
       "      <td>...</td>\n",
       "      <td>0</td>\n",
       "      <td>0</td>\n",
       "      <td>0</td>\n",
       "      <td>0</td>\n",
       "      <td>0</td>\n",
       "      <td>0</td>\n",
       "      <td>0</td>\n",
       "      <td>0</td>\n",
       "      <td>1</td>\n",
       "      <td>0</td>\n",
       "    </tr>\n",
       "  </tbody>\n",
       "</table>\n",
       "<p>257567 rows × 312 columns</p>\n",
       "</div>"
      ],
      "text/plain": [
       "        seller  offerType  abtest  gearbox   powerPS  kilometer  \\\n",
       "0            0          0       0        0 -0.353911   0.647340   \n",
       "1            0          0       0        0 -0.395023  -0.867131   \n",
       "2            0          0       0        0 -0.168908   0.647340   \n",
       "3            0          0       0        0 -0.120944   0.647340   \n",
       "4            0          0       1        0 -0.148352   0.647340   \n",
       "...        ...        ...     ...      ...       ...        ...   \n",
       "257562       0          0       1        0  0.673887   0.647340   \n",
       "257563       0          0       1        0 -0.867810   0.647340   \n",
       "257564       0          0       0        1 -0.175760   0.016310   \n",
       "257565       0          0       0        0 -0.168908   0.647340   \n",
       "257566       0          0       1        0  1.324825  -1.876779   \n",
       "\n",
       "        notRepairedDamage  vehicleType.andere  vehicleType.bus  \\\n",
       "0                       0                   0                0   \n",
       "1                       0                   0                0   \n",
       "2                       1                   0                0   \n",
       "3                       0                   0                0   \n",
       "4                       0                   0                0   \n",
       "...                   ...                 ...              ...   \n",
       "257562                  1                   0                0   \n",
       "257563                  0                   0                1   \n",
       "257564                  0                   0                0   \n",
       "257565                  0                   0                1   \n",
       "257566                  0                   0                0   \n",
       "\n",
       "        vehicleType.cabrio  ...  model.yeti  model.ypsilon  model.z_reihe  \\\n",
       "0                        0  ...           0              0              0   \n",
       "1                        0  ...           0              0              0   \n",
       "2                        0  ...           0              0              0   \n",
       "3                        1  ...           0              0              0   \n",
       "4                        0  ...           0              0              0   \n",
       "...                    ...  ...         ...            ...            ...   \n",
       "257562                   0  ...           0              0              0   \n",
       "257563                   0  ...           0              0              0   \n",
       "257564                   1  ...           0              0              0   \n",
       "257565                   0  ...           0              0              0   \n",
       "257566                   0  ...           0              0              0   \n",
       "\n",
       "        model.zafira  year_range.[1991, 1996)  year_range.[1996, 2001)  \\\n",
       "0                  0                        0                        0   \n",
       "1                  0                        0                        0   \n",
       "2                  0                        1                        0   \n",
       "3                  0                        0                        0   \n",
       "4                  0                        0                        0   \n",
       "...              ...                      ...                      ...   \n",
       "257562             0                        0                        0   \n",
       "257563             1                        0                        1   \n",
       "257564             0                        0                        1   \n",
       "257565             0                        0                        1   \n",
       "257566             0                        0                        0   \n",
       "\n",
       "        year_range.[2001, 2006)  year_range.[2006, 2011)  \\\n",
       "0                             1                        0   \n",
       "1                             0                        1   \n",
       "2                             0                        0   \n",
       "3                             1                        0   \n",
       "4                             1                        0   \n",
       "...                         ...                      ...   \n",
       "257562                        1                        0   \n",
       "257563                        0                        0   \n",
       "257564                        0                        0   \n",
       "257565                        0                        0   \n",
       "257566                        0                        0   \n",
       "\n",
       "        year_range.[2011, 2016)  year_range.[2016, 2021)  \n",
       "0                             0                        0  \n",
       "1                             0                        0  \n",
       "2                             0                        0  \n",
       "3                             0                        0  \n",
       "4                             0                        0  \n",
       "...                         ...                      ...  \n",
       "257562                        0                        0  \n",
       "257563                        0                        0  \n",
       "257564                        0                        0  \n",
       "257565                        0                        0  \n",
       "257566                        1                        0  \n",
       "\n",
       "[257567 rows x 312 columns]"
      ]
     },
     "execution_count": 7,
     "metadata": {},
     "output_type": "execute_result"
    }
   ],
   "source": [
    "X = df.drop(['price'], axis=1)\n",
    "y = df['price']\n",
    "X"
   ]
  },
  {
   "cell_type": "code",
   "execution_count": 8,
   "metadata": {},
   "outputs": [
    {
     "name": "stdout",
     "output_type": "stream",
     "text": [
      "Epoch 1/200\n",
      "1649/1649 [==============================] - 8s 3ms/step - loss: 39.7657 - mae: 6.1869 - r2: -35.2942 - val_loss: 25.6890 - val_mae: 4.9992 - val_r2: -22.2911\n",
      "Epoch 2/200\n",
      "1649/1649 [==============================] - 4s 2ms/step - loss: 14.8963 - mae: 3.6986 - r2: -12.5182 - val_loss: 6.8764 - val_mae: 2.5114 - val_r2: -5.1380\n",
      "Epoch 3/200\n",
      "1649/1649 [==============================] - 3s 2ms/step - loss: 3.0755 - mae: 1.5019 - r2: -1.6832 - val_loss: 0.8371 - val_mae: 0.6974 - val_r2: 0.3695\n",
      "Epoch 4/200\n",
      "1649/1649 [==============================] - 3s 2ms/step - loss: 0.5907 - mae: 0.5160 - r2: 0.5918 - val_loss: 0.3884 - val_mae: 0.3674 - val_r2: 0.7777\n",
      "Epoch 5/200\n",
      "1649/1649 [==============================] - 3s 2ms/step - loss: 0.4383 - mae: 0.4094 - r2: 0.7279 - val_loss: 0.3606 - val_mae: 0.3412 - val_r2: 0.7993\n",
      "Epoch 6/200\n",
      "1649/1649 [==============================] - 3s 2ms/step - loss: 0.4015 - mae: 0.3837 - r2: 0.7576 - val_loss: 0.3389 - val_mae: 0.3271 - val_r2: 0.8142\n",
      "Epoch 7/200\n",
      "1649/1649 [==============================] - 4s 2ms/step - loss: 0.3767 - mae: 0.3673 - r2: 0.7753 - val_loss: 0.3264 - val_mae: 0.3213 - val_r2: 0.8204\n",
      "Epoch 8/200\n",
      "1649/1649 [==============================] - 3s 2ms/step - loss: 0.3576 - mae: 0.3560 - r2: 0.7871 - val_loss: 0.3172 - val_mae: 0.3188 - val_r2: 0.8235\n",
      "Epoch 9/200\n",
      "1649/1649 [==============================] - 5s 3ms/step - loss: 0.3417 - mae: 0.3467 - r2: 0.7961 - val_loss: 0.3054 - val_mae: 0.3096 - val_r2: 0.8288\n",
      "Epoch 10/200\n",
      "1649/1649 [==============================] - 5s 3ms/step - loss: 0.3283 - mae: 0.3396 - r2: 0.8036 - val_loss: 0.2997 - val_mae: 0.3120 - val_r2: 0.8289\n",
      "Epoch 11/200\n",
      "1649/1649 [==============================] - 6s 3ms/step - loss: 0.3171 - mae: 0.3339 - r2: 0.8090 - val_loss: 0.2950 - val_mae: 0.3155 - val_r2: 0.8281\n",
      "Epoch 12/200\n",
      "1649/1649 [==============================] - 5s 3ms/step - loss: 0.3083 - mae: 0.3304 - r2: 0.8120 - val_loss: 0.2817 - val_mae: 0.3032 - val_r2: 0.8355\n",
      "Epoch 13/200\n",
      "1649/1649 [==============================] - 5s 3ms/step - loss: 0.2997 - mae: 0.3268 - r2: 0.8151 - val_loss: 0.2777 - val_mae: 0.3021 - val_r2: 0.8346\n",
      "Epoch 14/200\n",
      "1649/1649 [==============================] - 5s 3ms/step - loss: 0.2913 - mae: 0.3227 - r2: 0.8183 - val_loss: 0.2706 - val_mae: 0.2996 - val_r2: 0.8368\n",
      "Epoch 15/200\n",
      "1649/1649 [==============================] - 5s 3ms/step - loss: 0.2846 - mae: 0.3203 - r2: 0.8206 - val_loss: 0.2662 - val_mae: 0.3020 - val_r2: 0.8369\n",
      "Epoch 16/200\n",
      "1649/1649 [==============================] - 5s 3ms/step - loss: 0.2770 - mae: 0.3170 - r2: 0.8235 - val_loss: 0.2614 - val_mae: 0.2992 - val_r2: 0.8376\n",
      "Epoch 17/200\n",
      "1649/1649 [==============================] - 5s 3ms/step - loss: 0.2717 - mae: 0.3158 - r2: 0.8246 - val_loss: 0.2625 - val_mae: 0.3070 - val_r2: 0.8332\n",
      "Epoch 18/200\n",
      "1649/1649 [==============================] - 5s 3ms/step - loss: 0.2651 - mae: 0.3133 - r2: 0.8276 - val_loss: 0.2608 - val_mae: 0.3073 - val_r2: 0.8316\n",
      "Epoch 19/200\n",
      "1649/1649 [==============================] - 5s 3ms/step - loss: 0.2610 - mae: 0.3120 - r2: 0.8281 - val_loss: 0.2514 - val_mae: 0.3002 - val_r2: 0.8370\n",
      "Epoch 20/200\n",
      "1649/1649 [==============================] - 5s 3ms/step - loss: 0.2568 - mae: 0.3105 - r2: 0.8291 - val_loss: 0.2478 - val_mae: 0.2977 - val_r2: 0.8374\n",
      "Epoch 21/200\n",
      "1649/1649 [==============================] - 5s 3ms/step - loss: 0.2522 - mae: 0.3091 - r2: 0.8304 - val_loss: 0.2440 - val_mae: 0.2942 - val_r2: 0.8383\n",
      "Epoch 22/200\n",
      "1649/1649 [==============================] - 5s 3ms/step - loss: 0.2477 - mae: 0.3074 - r2: 0.8321 - val_loss: 0.2436 - val_mae: 0.3050 - val_r2: 0.8362\n",
      "Epoch 23/200\n",
      "1649/1649 [==============================] - 5s 3ms/step - loss: 0.2446 - mae: 0.3072 - r2: 0.8325 - val_loss: 0.2427 - val_mae: 0.2927 - val_r2: 0.8347\n",
      "Epoch 24/200\n",
      "1649/1649 [==============================] - 5s 3ms/step - loss: 0.2415 - mae: 0.3063 - r2: 0.8331 - val_loss: 0.2430 - val_mae: 0.2932 - val_r2: 0.8323\n",
      "Epoch 25/200\n",
      "1649/1649 [==============================] - 5s 3ms/step - loss: 0.2374 - mae: 0.3043 - r2: 0.8349 - val_loss: 0.2343 - val_mae: 0.3018 - val_r2: 0.8382\n",
      "Epoch 26/200\n",
      "1649/1649 [==============================] - 5s 3ms/step - loss: 0.2344 - mae: 0.3035 - r2: 0.8357 - val_loss: 0.2334 - val_mae: 0.2966 - val_r2: 0.8371\n",
      "Epoch 27/200\n",
      "1649/1649 [==============================] - 5s 3ms/step - loss: 0.2315 - mae: 0.3026 - r2: 0.8364 - val_loss: 0.2312 - val_mae: 0.3021 - val_r2: 0.8372\n",
      "Epoch 28/200\n",
      "1649/1649 [==============================] - 6s 3ms/step - loss: 0.2286 - mae: 0.3016 - r2: 0.8372 - val_loss: 0.2414 - val_mae: 0.2943 - val_r2: 0.8263\n",
      "Epoch 29/200\n",
      "1649/1649 [==============================] - 4s 2ms/step - loss: 0.2262 - mae: 0.3007 - r2: 0.8378 - val_loss: 0.2263 - val_mae: 0.3018 - val_r2: 0.8385\n",
      "Epoch 30/200\n",
      "1649/1649 [==============================] - 3s 2ms/step - loss: 0.2230 - mae: 0.2992 - r2: 0.8392 - val_loss: 0.2271 - val_mae: 0.3032 - val_r2: 0.8362\n",
      "Epoch 31/200\n",
      "1649/1649 [==============================] - 4s 2ms/step - loss: 0.2215 - mae: 0.2995 - r2: 0.8393 - val_loss: 0.2263 - val_mae: 0.3013 - val_r2: 0.8354\n",
      "Epoch 32/200\n",
      "1649/1649 [==============================] - 5s 3ms/step - loss: 0.2199 - mae: 0.2990 - r2: 0.8391 - val_loss: 0.2277 - val_mae: 0.3024 - val_r2: 0.8327\n",
      "Epoch 33/200\n",
      "1649/1649 [==============================] - 5s 3ms/step - loss: 0.2171 - mae: 0.2982 - r2: 0.8406 - val_loss: 0.2250 - val_mae: 0.2910 - val_r2: 0.8340\n",
      "Epoch 34/200\n",
      "1649/1649 [==============================] - 5s 3ms/step - loss: 0.2149 - mae: 0.2967 - r2: 0.8412 - val_loss: 0.2151 - val_mae: 0.2921 - val_r2: 0.8418\n",
      "Epoch 35/200\n",
      "1649/1649 [==============================] - 5s 3ms/step - loss: 0.2138 - mae: 0.2971 - r2: 0.8411 - val_loss: 0.2216 - val_mae: 0.3009 - val_r2: 0.8348\n",
      "Epoch 36/200\n",
      "1649/1649 [==============================] - 5s 3ms/step - loss: 0.2110 - mae: 0.2955 - r2: 0.8426 - val_loss: 0.2181 - val_mae: 0.2930 - val_r2: 0.8369\n",
      "Epoch 37/200\n",
      "1649/1649 [==============================] - 5s 3ms/step - loss: 0.2096 - mae: 0.2951 - r2: 0.8425 - val_loss: 0.2176 - val_mae: 0.3045 - val_r2: 0.8364\n",
      "Epoch 38/200\n",
      "1649/1649 [==============================] - 5s 3ms/step - loss: 0.2081 - mae: 0.2943 - r2: 0.8432 - val_loss: 0.2249 - val_mae: 0.2938 - val_r2: 0.8289\n",
      "Epoch 39/200\n",
      "1649/1649 [==============================] - 5s 3ms/step - loss: 0.2071 - mae: 0.2947 - r2: 0.8430 - val_loss: 0.2156 - val_mae: 0.3002 - val_r2: 0.8362\n",
      "Epoch 40/200\n",
      "1649/1649 [==============================] - 5s 3ms/step - loss: 0.2059 - mae: 0.2944 - r2: 0.8432 - val_loss: 0.2091 - val_mae: 0.2916 - val_r2: 0.8411\n",
      "Epoch 41/200\n",
      "1649/1649 [==============================] - 5s 3ms/step - loss: 0.2031 - mae: 0.2925 - r2: 0.8453 - val_loss: 0.2089 - val_mae: 0.2986 - val_r2: 0.8407\n",
      "Epoch 42/200\n",
      "1649/1649 [==============================] - 5s 3ms/step - loss: 0.2026 - mae: 0.2928 - r2: 0.8444 - val_loss: 0.2285 - val_mae: 0.2898 - val_r2: 0.8222\n",
      "Epoch 43/200\n",
      "1649/1649 [==============================] - 5s 3ms/step - loss: 0.2019 - mae: 0.2924 - r2: 0.8443 - val_loss: 0.2106 - val_mae: 0.2931 - val_r2: 0.8375\n",
      "Epoch 44/200\n",
      "1649/1649 [==============================] - 5s 3ms/step - loss: 0.2003 - mae: 0.2919 - r2: 0.8453 - val_loss: 0.2044 - val_mae: 0.2948 - val_r2: 0.8424\n",
      "Epoch 45/200\n",
      "1649/1649 [==============================] - 5s 3ms/step - loss: 0.1995 - mae: 0.2917 - r2: 0.8450 - val_loss: 0.2077 - val_mae: 0.3021 - val_r2: 0.8387\n",
      "Epoch 46/200\n",
      "1649/1649 [==============================] - 5s 3ms/step - loss: 0.1980 - mae: 0.2912 - r2: 0.8458 - val_loss: 0.2046 - val_mae: 0.2968 - val_r2: 0.8407\n",
      "Epoch 47/200\n",
      "1649/1649 [==============================] - 5s 3ms/step - loss: 0.1968 - mae: 0.2906 - r2: 0.8463 - val_loss: 0.2063 - val_mae: 0.2998 - val_r2: 0.8386\n",
      "Epoch 48/200\n",
      "1649/1649 [==============================] - 5s 3ms/step - loss: 0.1961 - mae: 0.2906 - r2: 0.8461 - val_loss: 0.2129 - val_mae: 0.3078 - val_r2: 0.8323\n",
      "Epoch 49/200\n",
      "1649/1649 [==============================] - 5s 3ms/step - loss: 0.1950 - mae: 0.2900 - r2: 0.8467 - val_loss: 0.2105 - val_mae: 0.3019 - val_r2: 0.8338\n",
      "Epoch 50/200\n",
      "1649/1649 [==============================] - 5s 3ms/step - loss: 0.1943 - mae: 0.2902 - r2: 0.8467 - val_loss: 0.2025 - val_mae: 0.2974 - val_r2: 0.8403\n",
      "Epoch 51/200\n",
      "1649/1649 [==============================] - 5s 3ms/step - loss: 0.1937 - mae: 0.2904 - r2: 0.8468 - val_loss: 0.2030 - val_mae: 0.3041 - val_r2: 0.8393\n",
      "Epoch 52/200\n",
      "1649/1649 [==============================] - 5s 3ms/step - loss: 0.1925 - mae: 0.2897 - r2: 0.8471 - val_loss: 0.2012 - val_mae: 0.2979 - val_r2: 0.8406\n",
      "Epoch 53/200\n",
      "1649/1649 [==============================] - 5s 3ms/step - loss: 0.1918 - mae: 0.2889 - r2: 0.8475 - val_loss: 0.1983 - val_mae: 0.2917 - val_r2: 0.8426\n",
      "Epoch 54/200\n",
      "1649/1649 [==============================] - 5s 3ms/step - loss: 0.1911 - mae: 0.2887 - r2: 0.8477 - val_loss: 0.2121 - val_mae: 0.2961 - val_r2: 0.8297\n",
      "Epoch 55/200\n",
      "1649/1649 [==============================] - 5s 3ms/step - loss: 0.1900 - mae: 0.2881 - r2: 0.8483 - val_loss: 0.2034 - val_mae: 0.2883 - val_r2: 0.8371\n",
      "Epoch 56/200\n",
      "1649/1649 [==============================] - 5s 3ms/step - loss: 0.1890 - mae: 0.2879 - r2: 0.8488 - val_loss: 0.2007 - val_mae: 0.2982 - val_r2: 0.8391\n",
      "Epoch 57/200\n",
      "1649/1649 [==============================] - 5s 3ms/step - loss: 0.1884 - mae: 0.2879 - r2: 0.8488 - val_loss: 0.2019 - val_mae: 0.3077 - val_r2: 0.8375\n",
      "Epoch 58/200\n",
      "1649/1649 [==============================] - 5s 3ms/step - loss: 0.1880 - mae: 0.2875 - r2: 0.8489 - val_loss: 0.1951 - val_mae: 0.2931 - val_r2: 0.8434\n",
      "Epoch 59/200\n",
      "1649/1649 [==============================] - 5s 3ms/step - loss: 0.1875 - mae: 0.2878 - r2: 0.8485 - val_loss: 0.1953 - val_mae: 0.2940 - val_r2: 0.8427\n",
      "Epoch 60/200\n",
      "1649/1649 [==============================] - 5s 3ms/step - loss: 0.1868 - mae: 0.2874 - r2: 0.8491 - val_loss: 0.1945 - val_mae: 0.2931 - val_r2: 0.8430\n",
      "Epoch 61/200\n",
      "1649/1649 [==============================] - 5s 3ms/step - loss: 0.1860 - mae: 0.2864 - r2: 0.8496 - val_loss: 0.2036 - val_mae: 0.3018 - val_r2: 0.8344\n",
      "Epoch 62/200\n",
      "1649/1649 [==============================] - 5s 3ms/step - loss: 0.1851 - mae: 0.2864 - r2: 0.8497 - val_loss: 0.1970 - val_mae: 0.2907 - val_r2: 0.8401\n",
      "Epoch 63/200\n",
      "1649/1649 [==============================] - 5s 3ms/step - loss: 0.1840 - mae: 0.2857 - r2: 0.8503 - val_loss: 0.2007 - val_mae: 0.2954 - val_r2: 0.8365\n",
      "Epoch 64/200\n",
      "1649/1649 [==============================] - 5s 3ms/step - loss: 0.1843 - mae: 0.2865 - r2: 0.8500 - val_loss: 0.2272 - val_mae: 0.2923 - val_r2: 0.8123\n",
      "Epoch 65/200\n",
      "1649/1649 [==============================] - 5s 3ms/step - loss: 0.1842 - mae: 0.2868 - r2: 0.8498 - val_loss: 0.1968 - val_mae: 0.2937 - val_r2: 0.8393\n",
      "Epoch 66/200\n",
      "1649/1649 [==============================] - 5s 3ms/step - loss: 0.1829 - mae: 0.2860 - r2: 0.8506 - val_loss: 0.2001 - val_mae: 0.2931 - val_r2: 0.8361\n",
      "Epoch 67/200\n",
      "1649/1649 [==============================] - 5s 3ms/step - loss: 0.1828 - mae: 0.2859 - r2: 0.8505 - val_loss: 0.2022 - val_mae: 0.2955 - val_r2: 0.8337\n",
      "Epoch 68/200\n",
      "1649/1649 [==============================] - 5s 3ms/step - loss: 0.1819 - mae: 0.2853 - r2: 0.8508 - val_loss: 0.1999 - val_mae: 0.3018 - val_r2: 0.8356\n",
      "Epoch 69/200\n",
      "1649/1649 [==============================] - 5s 3ms/step - loss: 0.1814 - mae: 0.2852 - r2: 0.8512 - val_loss: 0.1970 - val_mae: 0.3018 - val_r2: 0.8381\n",
      "Epoch 70/200\n",
      "1649/1649 [==============================] - 5s 3ms/step - loss: 0.1814 - mae: 0.2851 - r2: 0.8508 - val_loss: 0.1954 - val_mae: 0.2848 - val_r2: 0.8395\n",
      "Epoch 71/200\n",
      "1649/1649 [==============================] - 5s 3ms/step - loss: 0.1809 - mae: 0.2850 - r2: 0.8511 - val_loss: 0.1988 - val_mae: 0.2946 - val_r2: 0.8358\n",
      "Epoch 72/200\n",
      "1649/1649 [==============================] - 5s 3ms/step - loss: 0.1803 - mae: 0.2843 - r2: 0.8512 - val_loss: 0.1960 - val_mae: 0.2987 - val_r2: 0.8383\n",
      "Epoch 73/200\n",
      "1649/1649 [==============================] - 5s 3ms/step - loss: 0.1798 - mae: 0.2842 - r2: 0.8517 - val_loss: 0.1962 - val_mae: 0.2890 - val_r2: 0.8379\n",
      "Epoch 74/200\n",
      "1649/1649 [==============================] - 5s 3ms/step - loss: 0.1789 - mae: 0.2838 - r2: 0.8524 - val_loss: 0.1981 - val_mae: 0.2985 - val_r2: 0.8359\n",
      "Epoch 75/200\n",
      "1649/1649 [==============================] - 5s 3ms/step - loss: 0.1791 - mae: 0.2840 - r2: 0.8517 - val_loss: 0.1859 - val_mae: 0.2901 - val_r2: 0.8467\n",
      "Epoch 76/200\n",
      "1649/1649 [==============================] - 5s 3ms/step - loss: 0.1785 - mae: 0.2837 - r2: 0.8521 - val_loss: 0.1900 - val_mae: 0.2879 - val_r2: 0.8428\n",
      "Epoch 77/200\n",
      "1649/1649 [==============================] - 5s 3ms/step - loss: 0.1778 - mae: 0.2834 - r2: 0.8526 - val_loss: 0.1981 - val_mae: 0.2876 - val_r2: 0.8353\n",
      "Epoch 78/200\n",
      "1649/1649 [==============================] - 5s 3ms/step - loss: 0.1775 - mae: 0.2830 - r2: 0.8524 - val_loss: 0.1893 - val_mae: 0.2948 - val_r2: 0.8429\n",
      "Epoch 79/200\n",
      "1649/1649 [==============================] - 5s 3ms/step - loss: 0.1768 - mae: 0.2828 - r2: 0.8531 - val_loss: 0.1937 - val_mae: 0.2940 - val_r2: 0.8386\n",
      "Epoch 80/200\n",
      "1649/1649 [==============================] - 5s 3ms/step - loss: 0.1770 - mae: 0.2830 - r2: 0.8525 - val_loss: 0.1972 - val_mae: 0.3031 - val_r2: 0.8356\n",
      "Epoch 81/200\n",
      "1649/1649 [==============================] - 5s 3ms/step - loss: 0.1765 - mae: 0.2825 - r2: 0.8530 - val_loss: 0.1948 - val_mae: 0.3033 - val_r2: 0.8373\n",
      "Epoch 82/200\n",
      "1649/1649 [==============================] - 6s 3ms/step - loss: 0.1759 - mae: 0.2827 - r2: 0.8533 - val_loss: 0.1922 - val_mae: 0.2963 - val_r2: 0.8395\n",
      "Epoch 83/200\n",
      "1649/1649 [==============================] - 5s 3ms/step - loss: 0.1753 - mae: 0.2821 - r2: 0.8537 - val_loss: 0.1942 - val_mae: 0.2881 - val_r2: 0.8375\n",
      "Epoch 84/200\n",
      "1649/1649 [==============================] - 5s 3ms/step - loss: 0.1759 - mae: 0.2829 - r2: 0.8530 - val_loss: 0.1933 - val_mae: 0.2993 - val_r2: 0.8383\n",
      "Epoch 85/200\n",
      "1649/1649 [==============================] - 5s 3ms/step - loss: 0.1748 - mae: 0.2822 - r2: 0.8537 - val_loss: 0.1916 - val_mae: 0.2920 - val_r2: 0.8398\n",
      "Epoch 86/200\n",
      "1649/1649 [==============================] - 5s 3ms/step - loss: 0.1746 - mae: 0.2820 - r2: 0.8536 - val_loss: 0.1907 - val_mae: 0.2959 - val_r2: 0.8403\n",
      "Epoch 87/200\n",
      "1649/1649 [==============================] - 5s 3ms/step - loss: 0.1749 - mae: 0.2826 - r2: 0.8533 - val_loss: 0.1904 - val_mae: 0.2965 - val_r2: 0.8406\n",
      "Epoch 88/200\n",
      "1649/1649 [==============================] - 5s 3ms/step - loss: 0.1741 - mae: 0.2819 - r2: 0.8540 - val_loss: 0.1909 - val_mae: 0.2958 - val_r2: 0.8398\n",
      "Epoch 89/200\n",
      "1649/1649 [==============================] - 5s 3ms/step - loss: 0.1737 - mae: 0.2814 - r2: 0.8544 - val_loss: 0.1982 - val_mae: 0.2840 - val_r2: 0.8332\n",
      "Epoch 90/200\n",
      "1649/1649 [==============================] - 5s 3ms/step - loss: 0.1740 - mae: 0.2816 - r2: 0.8538 - val_loss: 0.1869 - val_mae: 0.2959 - val_r2: 0.8431\n",
      "Epoch 91/200\n",
      "1649/1649 [==============================] - 5s 3ms/step - loss: 0.1732 - mae: 0.2814 - r2: 0.8545 - val_loss: 0.1892 - val_mae: 0.2975 - val_r2: 0.8410\n",
      "Epoch 92/200\n",
      "1649/1649 [==============================] - 5s 3ms/step - loss: 0.1733 - mae: 0.2820 - r2: 0.8542 - val_loss: 0.1872 - val_mae: 0.2919 - val_r2: 0.8427\n",
      "Epoch 93/200\n",
      "1649/1649 [==============================] - 5s 3ms/step - loss: 0.1724 - mae: 0.2808 - r2: 0.8549 - val_loss: 0.1926 - val_mae: 0.2893 - val_r2: 0.8378\n",
      "Epoch 94/200\n",
      "1649/1649 [==============================] - 5s 3ms/step - loss: 0.1724 - mae: 0.2811 - r2: 0.8547 - val_loss: 0.1907 - val_mae: 0.2980 - val_r2: 0.8392\n",
      "Epoch 95/200\n",
      "1649/1649 [==============================] - 5s 3ms/step - loss: 0.1719 - mae: 0.2809 - r2: 0.8550 - val_loss: 0.1931 - val_mae: 0.2919 - val_r2: 0.8371\n",
      "1610/1610 [==============================] - 2s 1ms/step - loss: 0.1979 - mae: 0.2926 - r2: 0.8266\n",
      "Deep Learning Regression Mean Absolute Error: 0.29\n",
      "Deep Learning Regression R-squared Score: 0.83\n"
     ]
    }
   ],
   "source": [
    "from tensorflow.keras.layers import BatchNormalization, Activation\n",
    "from tensorflow.keras.regularizers import L2\n",
    "\n",
    "X_train, X_test, y_train, y_test = train_test_split(X, y, test_size=0.2, random_state=42)\n",
    "\n",
    "model = Sequential()\n",
    "model.add(Dense(128, input_shape=(X_train.shape[1],)))\n",
    "model.add(BatchNormalization())\n",
    "model.add(Activation('relu'))\n",
    "model.add(Dense(64, kernel_regularizer=L2(0.001)))\n",
    "model.add(BatchNormalization())\n",
    "model.add(Activation('relu'))\n",
    "model.add(Dense(32, kernel_regularizer=L2(0.001)))\n",
    "model.add(BatchNormalization())\n",
    "model.add(Activation('relu'))\n",
    "model.add(Dense(16, kernel_regularizer=L2(0.001)))\n",
    "model.add(BatchNormalization())\n",
    "model.add(Activation('relu'))\n",
    "model.add(Dense(1))\n",
    "\n",
    "model.compile(optimizer=tf.keras.optimizers.Adam(learning_rate=0.0001), loss='mse', metrics=['mae', r2])\n",
    "\n",
    "early_stop = EarlyStopping(monitor='val_loss', patience=20)\n",
    "history = model.fit(X_train, y_train, validation_split=0.2, batch_size=100, epochs=200, callbacks=[early_stop])\n",
    "\n",
    "score = model.evaluate(X_test, y_test)\n",
    "print(f'Deep Learning Regression Mean Absolute Error: {score[1]:.2f}')\n",
    "print(f'Deep Learning Regression R-squared Score: {score[2]:.2f}')\n"
   ]
  },
  {
   "cell_type": "code",
   "execution_count": 9,
   "metadata": {},
   "outputs": [
    {
     "name": "stdout",
     "output_type": "stream",
     "text": [
      "Model: \"sequential\"\n",
      "_________________________________________________________________\n",
      " Layer (type)                Output Shape              Param #   \n",
      "=================================================================\n",
      " dense (Dense)               (None, 128)               40064     \n",
      "                                                                 \n",
      " batch_normalization (BatchN  (None, 128)              512       \n",
      " ormalization)                                                   \n",
      "                                                                 \n",
      " activation (Activation)     (None, 128)               0         \n",
      "                                                                 \n",
      " dense_1 (Dense)             (None, 64)                8256      \n",
      "                                                                 \n",
      " batch_normalization_1 (Batc  (None, 64)               256       \n",
      " hNormalization)                                                 \n",
      "                                                                 \n",
      " activation_1 (Activation)   (None, 64)                0         \n",
      "                                                                 \n",
      " dense_2 (Dense)             (None, 32)                2080      \n",
      "                                                                 \n",
      " batch_normalization_2 (Batc  (None, 32)               128       \n",
      " hNormalization)                                                 \n",
      "                                                                 \n",
      " activation_2 (Activation)   (None, 32)                0         \n",
      "                                                                 \n",
      " dense_3 (Dense)             (None, 16)                528       \n",
      "                                                                 \n",
      " batch_normalization_3 (Batc  (None, 16)               64        \n",
      " hNormalization)                                                 \n",
      "                                                                 \n",
      " activation_3 (Activation)   (None, 16)                0         \n",
      "                                                                 \n",
      " dense_4 (Dense)             (None, 1)                 17        \n",
      "                                                                 \n",
      "=================================================================\n",
      "Total params: 51,905\n",
      "Trainable params: 51,425\n",
      "Non-trainable params: 480\n",
      "_________________________________________________________________\n"
     ]
    }
   ],
   "source": [
    "model.summary()"
   ]
  },
  {
   "cell_type": "code",
   "execution_count": 10,
   "metadata": {},
   "outputs": [
    {
     "data": {
      "text/plain": [
       "[array([[-0.02476488, -0.03233286, -0.12268435, ..., -0.02130151,\n",
       "          0.02794982, -0.09671581],\n",
       "        [ 0.06158083, -0.14092186,  0.07704749, ..., -0.04137959,\n",
       "          0.1710925 ,  0.16897114],\n",
       "        [ 0.00977157,  0.02766536, -0.01247021, ..., -0.01611195,\n",
       "         -0.01693338,  0.02855022],\n",
       "        ...,\n",
       "        [ 0.09547324,  0.04725882,  0.0979272 , ..., -0.02905407,\n",
       "         -0.10735063, -0.03961473],\n",
       "        [-0.04241914,  0.0441306 , -0.04827134, ...,  0.03821047,\n",
       "         -0.06546972,  0.02542025],\n",
       "        [ 0.16235821, -0.17820801, -0.04089845, ...,  0.1707306 ,\n",
       "          0.08378506, -0.18474913]], dtype=float32),\n",
       " array([-2.1058614e-03,  4.7589163e-03,  1.3300653e-03, -1.4281822e-03,\n",
       "         8.7412749e-04, -4.5973068e-04, -3.9729290e-03,  1.6876655e-05,\n",
       "        -1.1427091e-03,  3.1884329e-03, -1.9788858e-03, -2.9813095e-03,\n",
       "        -3.6354815e-03, -6.1345412e-03, -6.6787065e-03, -1.3108886e-03,\n",
       "        -4.7642447e-04,  3.8269986e-03,  1.9108643e-03, -3.0844237e-03,\n",
       "        -8.9301157e-04, -1.5467671e-03, -2.7236892e-03,  2.1177111e-03,\n",
       "        -3.8109010e-03,  2.1568139e-03,  3.8210666e-03,  1.7750298e-03,\n",
       "         3.1101090e-04, -4.3087117e-03, -4.3413733e-04,  3.1778156e-03,\n",
       "         1.6996432e-03,  3.3210323e-03,  4.6941172e-03,  2.2722811e-03,\n",
       "         6.1945763e-04, -9.3883078e-04, -9.3014693e-05,  3.0086765e-03,\n",
       "        -2.5822509e-03,  4.8545790e-03,  5.7680954e-05, -1.5837355e-03,\n",
       "         2.0850524e-03, -7.0437480e-04, -5.4443171e-06,  4.0876390e-03,\n",
       "        -3.5879798e-03,  2.2472159e-03, -2.8030076e-03, -4.2665226e-04,\n",
       "         9.4928290e-04, -5.3852797e-03, -7.5654540e-04,  1.6420591e-03,\n",
       "        -2.3720767e-03,  1.5607160e-03,  1.8483914e-03, -3.7922626e-03,\n",
       "        -2.2601190e-03,  1.5715923e-05, -6.5574382e-04,  3.1452507e-03,\n",
       "        -1.5562634e-03, -1.0597906e-03, -1.3606143e-03, -3.3395372e-03,\n",
       "         3.7987420e-04, -9.4946270e-04, -2.9481442e-03, -5.3574624e-03,\n",
       "         6.5091178e-03,  5.2080076e-04,  9.7811350e-04,  5.1021618e-03,\n",
       "         9.7442674e-04, -4.1134660e-03, -2.6293455e-03, -5.0156185e-04,\n",
       "         1.5974367e-03,  2.0691874e-03, -7.9532641e-05,  1.2915047e-03,\n",
       "        -2.9793761e-03, -9.0916868e-04,  2.3799886e-03,  4.2624824e-04,\n",
       "         3.0104473e-04, -1.5376383e-03,  1.1702655e-03, -1.8818532e-03,\n",
       "         4.9282622e-04,  1.9775475e-03,  6.1662763e-04, -3.7631725e-03,\n",
       "         3.9209807e-03, -8.8162912e-04, -1.3033133e-03,  2.5194194e-03,\n",
       "        -1.8141029e-04,  3.5577838e-03, -1.8829190e-03,  8.6992135e-04,\n",
       "        -6.3063684e-03,  2.5964072e-03, -3.5209639e-04, -2.4931834e-03,\n",
       "        -2.9578202e-03,  1.4856063e-04, -3.5248192e-03, -1.5935671e-03,\n",
       "         5.9222529e-04, -1.0469914e-03, -2.9698287e-03,  5.0817565e-03,\n",
       "        -2.5711290e-03,  2.6776560e-03,  2.1683171e-03,  4.6907375e-05,\n",
       "        -1.3581362e-03,  2.2346342e-03, -7.0641335e-04,  1.5719781e-03,\n",
       "        -1.5253924e-03, -2.3038094e-03, -2.6017912e-03, -2.4655315e-03],\n",
       "       dtype=float32),\n",
       " array([0.9397505 , 0.96139216, 0.97826135, 0.97044945, 0.9221722 ,\n",
       "        0.97604144, 0.9708239 , 1.001738  , 1.0116522 , 0.91089207,\n",
       "        0.99939483, 0.9570659 , 0.9831075 , 0.9343621 , 0.92881227,\n",
       "        1.0443426 , 0.983021  , 1.0264511 , 1.0183035 , 0.96110445,\n",
       "        1.0655801 , 0.948056  , 0.972152  , 1.0251175 , 0.8947996 ,\n",
       "        0.9997887 , 0.95926636, 0.958592  , 1.0086192 , 1.0199077 ,\n",
       "        1.0559062 , 0.92263126, 0.9406739 , 0.9920025 , 1.0346701 ,\n",
       "        0.97943765, 0.8981292 , 0.9115529 , 0.9583654 , 0.96767795,\n",
       "        1.063065  , 1.0153744 , 1.0672524 , 0.9737098 , 1.1220546 ,\n",
       "        1.0654904 , 1.0183355 , 0.941826  , 0.9745448 , 1.0036736 ,\n",
       "        1.0916864 , 1.0127437 , 1.0616089 , 1.0720762 , 0.9338938 ,\n",
       "        0.9391318 , 1.0405512 , 1.0176275 , 0.96056414, 1.0724324 ,\n",
       "        1.0721202 , 0.96942437, 1.1105732 , 1.0389879 , 1.0809569 ,\n",
       "        0.9899979 , 0.9890439 , 1.0249931 , 0.9332643 , 0.9448024 ,\n",
       "        1.0938478 , 0.96179074, 0.9913674 , 0.9210419 , 0.93083954,\n",
       "        0.96568066, 1.0049331 , 0.94795257, 0.94522494, 0.9805009 ,\n",
       "        1.0130488 , 0.97702086, 1.1735007 , 0.96782345, 0.90747833,\n",
       "        1.0261146 , 0.97270304, 1.0605124 , 1.0751653 , 1.0895284 ,\n",
       "        0.94821376, 0.9195735 , 1.0430503 , 1.0669203 , 0.9983643 ,\n",
       "        1.0267967 , 0.9409071 , 0.9206963 , 0.91181314, 1.0491683 ,\n",
       "        1.0411855 , 1.0001189 , 0.9735205 , 1.1577685 , 0.9471109 ,\n",
       "        0.9830135 , 1.123451  , 1.0307934 , 0.9885335 , 0.95897025,\n",
       "        0.9160369 , 0.91189057, 0.9129952 , 1.008619  , 0.93485993,\n",
       "        1.0072408 , 1.0220779 , 1.0548322 , 1.0485111 , 1.1029274 ,\n",
       "        1.0398601 , 0.97475004, 0.9526926 , 1.0162928 , 1.0400721 ,\n",
       "        1.0391395 , 0.98954   , 0.97938067], dtype=float32),\n",
       " array([ 0.06155214, -0.05085218, -0.06992498,  0.01264585, -0.04991933,\n",
       "        -0.07500003,  0.01803452,  0.01308105, -0.09873307, -0.04358886,\n",
       "        -0.13704993, -0.04912709, -0.02562441,  0.09767075, -0.01926753,\n",
       "         0.06749252, -0.07570601,  0.04580802, -0.03850223, -0.03921345,\n",
       "         0.08153945, -0.0284499 ,  0.0662051 , -0.0680408 , -0.05324712,\n",
       "         0.08802496, -0.04908864, -0.01386449, -0.00053541,  0.00464971,\n",
       "        -0.04359615, -0.05026304, -0.0951299 ,  0.03197566, -0.09589041,\n",
       "         0.03628611, -0.10959566, -0.07562585, -0.00605682,  0.03249793,\n",
       "         0.01508121, -0.09363218, -0.0165322 , -0.0338841 , -0.0206939 ,\n",
       "         0.00484516, -0.01842406, -0.05315998,  0.01803004, -0.01113464,\n",
       "        -0.00717761,  0.02226276, -0.03943195,  0.22122939, -0.13680056,\n",
       "         0.04397684, -0.03712102, -0.09759533,  0.11758988, -0.10606854,\n",
       "         0.13923782,  0.09007508, -0.04756811, -0.02264946, -0.02023462,\n",
       "        -0.00508053, -0.04532317,  0.01333846, -0.06531728,  0.05679938,\n",
       "         0.10172905, -0.0765612 , -0.05211163, -0.09196596,  0.03685384,\n",
       "        -0.03068431, -0.02942948,  0.10594995, -0.0011246 ,  0.01778621,\n",
       "         0.04885479, -0.00554085, -0.06726792, -0.02616024, -0.17103292,\n",
       "        -0.00913823,  0.07729968,  0.01481913,  0.07521519,  0.02956452,\n",
       "        -0.08160987, -0.02461026, -0.02793444,  0.02797233,  0.22632957,\n",
       "         0.24729846,  0.01007076,  0.00714546, -0.03557391, -0.03051257,\n",
       "         0.0075822 , -0.09430987, -0.12935627,  0.06696476, -0.06764756,\n",
       "         0.02748797,  0.00771809, -0.19197951, -0.1078199 , -0.05311308,\n",
       "        -0.12141868, -0.02727438, -0.11259862,  0.0214299 , -0.06213085,\n",
       "         0.04916809, -0.12584229,  0.00891673,  0.07349093,  0.10927802,\n",
       "         0.01808482,  0.1395892 , -0.04629049, -0.16387577, -0.14691712,\n",
       "         0.00524512, -0.12403189, -0.05889754], dtype=float32),\n",
       " array([ 0.03107384,  0.05043609, -0.01283211, -0.07269683, -0.20265512,\n",
       "         0.00280342,  0.01213732,  0.16432574, -0.01258477, -0.02146849,\n",
       "        -0.08978575, -0.03210578, -0.09147928, -0.03042752,  0.06571977,\n",
       "         0.10758276,  0.07811191,  0.11472645, -0.15178306, -0.24195822,\n",
       "         0.07144102, -0.02114334, -0.05324991,  0.08660843, -0.13072151,\n",
       "         0.09109993,  0.09532251, -0.00306384,  0.10755214, -0.16860087,\n",
       "         0.03923561, -0.01297139, -0.01712543,  0.04354975,  0.06884795,\n",
       "         0.04217636, -0.06392615,  0.09257755,  0.06517666,  0.03981761,\n",
       "         0.01584382, -0.01415278, -0.05380852,  0.04223241, -0.12970051,\n",
       "        -0.02455675,  0.03685187,  0.04636304,  0.11923038,  0.05780829,\n",
       "         0.07240646, -0.1505186 ,  0.12268347,  0.01440907, -0.00723328,\n",
       "         0.05947186,  0.02578299, -0.12349199,  0.05568178, -0.04247355,\n",
       "        -0.03567412,  0.0541485 , -0.1931636 ,  0.03551469, -0.11350597,\n",
       "        -0.02460205, -0.15163021, -0.07423873, -0.08213558,  0.03984151,\n",
       "        -0.07786534, -0.134315  ,  0.04865487, -0.01923506, -0.12311495,\n",
       "        -0.06093168, -0.1228321 ,  0.02884084, -0.03507585,  0.01439214,\n",
       "         0.1030997 ,  0.03693277,  0.1371773 ,  0.02583827, -0.09894346,\n",
       "        -0.02221694,  0.17400113,  0.03156759, -0.01819939, -0.05479972,\n",
       "         0.01409119,  0.19503264,  0.13067624,  0.06285363,  0.03802666,\n",
       "        -0.01849813,  0.10478297, -0.03663171, -0.14592297, -0.05727841,\n",
       "        -0.03533   , -0.02413283, -0.03092846,  0.16994584,  0.01972585,\n",
       "         0.01525235, -0.04288396, -0.09148299,  0.02022265,  0.05031947,\n",
       "        -0.10951898, -0.05360178,  0.05587011,  0.1069835 , -0.11661539,\n",
       "        -0.0536195 , -0.03761799,  0.01918626, -0.18409199,  0.08576884,\n",
       "        -0.05606505,  0.0355155 , -0.19867004, -0.08011437,  0.03663839,\n",
       "         0.09684581, -0.11052621, -0.10924969], dtype=float32),\n",
       " array([0.03271461, 0.03194678, 0.03270581, 0.02965071, 0.03528093,\n",
       "        0.01937698, 0.04143933, 0.02193195, 0.04182921, 0.02769278,\n",
       "        0.03633768, 0.05058804, 0.04836858, 0.04441973, 0.0243373 ,\n",
       "        0.08515329, 0.03443116, 0.04621708, 0.03842451, 0.04411799,\n",
       "        0.03422457, 0.03602093, 0.05056831, 0.05816706, 0.05761595,\n",
       "        0.0425072 , 0.03527258, 0.03490473, 0.04269385, 0.03172388,\n",
       "        0.03788719, 0.02337238, 0.03867871, 0.03957565, 0.06671797,\n",
       "        0.02603236, 0.02535675, 0.0382277 , 0.02800974, 0.05186257,\n",
       "        0.04213001, 0.02929021, 0.0328951 , 0.03564325, 0.08044799,\n",
       "        0.03741699, 0.06300982, 0.04714129, 0.04862168, 0.01649118,\n",
       "        0.04254873, 0.05071386, 0.04347544, 0.04537685, 0.02908886,\n",
       "        0.04534571, 0.03252536, 0.02328054, 0.0468959 , 0.10293261,\n",
       "        0.05390182, 0.02713906, 0.06945581, 0.0537649 , 0.03643654,\n",
       "        0.03666025, 0.03780178, 0.03631645, 0.03543051, 0.03338909,\n",
       "        0.05987235, 0.05216325, 0.02538556, 0.03970234, 0.03936296,\n",
       "        0.03058876, 0.03699048, 0.05610795, 0.0404758 , 0.06213712,\n",
       "        0.04964298, 0.03509633, 0.03140128, 0.03153344, 0.03133139,\n",
       "        0.04654093, 0.03021497, 0.02592867, 0.0320989 , 0.04364358,\n",
       "        0.02769595, 0.02620704, 0.04738833, 0.04715596, 0.13422443,\n",
       "        0.11805195, 0.02559003, 0.02847315, 0.02505711, 0.03319495,\n",
       "        0.04931978, 0.027619  , 0.06153281, 0.02599009, 0.02779822,\n",
       "        0.0445588 , 0.032817  , 0.06698427, 0.02867576, 0.02785665,\n",
       "        0.0329974 , 0.04871107, 0.02568533, 0.03553096, 0.02520399,\n",
       "        0.06792799, 0.04090271, 0.05965145, 0.04073118, 0.04520834,\n",
       "        0.03961463, 0.07296355, 0.02518521, 0.04809391, 0.05105761,\n",
       "        0.03301476, 0.03904679, 0.02672945], dtype=float32),\n",
       " array([[-0.02195021,  0.02231703,  0.01658768, ..., -0.00103921,\n",
       "         -0.00678528, -0.01805721],\n",
       "        [ 0.02723837, -0.01021133, -0.01329273, ..., -0.01678108,\n",
       "         -0.03232571, -0.03874164],\n",
       "        [-0.00570826, -0.04231568, -0.02226192, ...,  0.00191952,\n",
       "         -0.00251191,  0.01086236],\n",
       "        ...,\n",
       "        [-0.01872736,  0.01290738, -0.02979948, ..., -0.0136958 ,\n",
       "          0.03823468,  0.01672831],\n",
       "        [-0.00806249, -0.01794321,  0.00288988, ..., -0.01223615,\n",
       "          0.0125224 , -0.00384247],\n",
       "        [-0.00333696,  0.01495701,  0.03054256, ..., -0.00280299,\n",
       "         -0.01576393, -0.03747236]], dtype=float32),\n",
       " array([-6.5178983e-04,  3.5815403e-05,  2.5715046e-03,  1.2243807e-05,\n",
       "        -2.6093128e-03, -1.2078727e-04, -4.5457578e-04, -5.1250093e-04,\n",
       "         3.5781221e-05, -5.2785606e-04,  1.7384272e-03,  5.2464666e-04,\n",
       "        -2.4955207e-04, -6.1181240e-04,  4.7094215e-04,  1.5269828e-03,\n",
       "        -1.3777958e-03, -8.7349600e-04,  5.1585305e-04,  3.4234864e-03,\n",
       "         3.8204159e-04,  7.9210213e-04, -2.3300055e-04, -7.8392919e-04,\n",
       "         3.5282266e-03,  3.1787725e-03,  1.1040452e-03, -1.8728561e-03,\n",
       "         3.8043922e-04,  2.5375171e-03,  1.5606108e-03,  5.0747610e-04,\n",
       "        -3.1308623e-04, -5.8089336e-04,  4.0962521e-04, -5.6713761e-04,\n",
       "         2.5131735e-03,  9.9158217e-04,  3.5644189e-04,  1.5295838e-03,\n",
       "        -3.1931969e-04, -6.4766774e-04,  2.3108961e-03, -1.1655249e-03,\n",
       "         9.9737465e-04, -2.1793440e-04, -1.1897739e-05,  7.5619348e-04,\n",
       "        -5.2794083e-05, -9.9095854e-04, -2.2518721e-03, -1.4179160e-03,\n",
       "        -5.2426406e-04, -7.1356772e-04,  3.9081299e-03,  9.5160492e-04,\n",
       "        -2.1169314e-03, -2.8515764e-04, -9.4860770e-05, -2.7758123e-03,\n",
       "         3.5566604e-04, -2.3141613e-03, -3.6489265e-04, -3.8829742e-03],\n",
       "       dtype=float32),\n",
       " array([1.0617776 , 1.004308  , 0.80723935, 0.8821166 , 1.0508763 ,\n",
       "        1.1258969 , 1.1138535 , 0.8708284 , 0.966924  , 0.98595095,\n",
       "        0.94973063, 0.9817063 , 0.99251646, 0.98790157, 1.0232085 ,\n",
       "        0.9725917 , 0.95234185, 0.88839936, 1.0225744 , 1.0522059 ,\n",
       "        1.0057353 , 1.0115994 , 1.0358709 , 0.9730626 , 0.9543445 ,\n",
       "        0.9757629 , 1.0066098 , 0.90572274, 0.97209495, 0.904464  ,\n",
       "        0.9775857 , 1.177912  , 1.0728792 , 1.0869851 , 1.0010787 ,\n",
       "        0.981188  , 1.0177106 , 0.8792145 , 1.0310467 , 1.0797123 ,\n",
       "        0.9975372 , 1.151681  , 1.1080995 , 0.92515916, 0.94609725,\n",
       "        1.0396123 , 0.97028583, 1.1493553 , 0.88532823, 1.0245633 ,\n",
       "        0.975265  , 0.98429114, 1.0389632 , 0.96055067, 1.0571097 ,\n",
       "        0.98298   , 0.97137076, 0.97462153, 1.0283432 , 1.0095556 ,\n",
       "        0.8956261 , 0.9310728 , 0.91452026, 1.0191526 ], dtype=float32),\n",
       " array([ 0.15090339, -0.0255029 , -0.09817921,  0.04131617,  0.13698237,\n",
       "         0.22386807,  0.11079469, -0.05351233, -0.01309501, -0.05714346,\n",
       "        -0.25782937,  0.05564862, -0.09727497, -0.12533002,  0.11437226,\n",
       "         0.07938842, -0.06137973, -0.04809459,  0.04403008, -0.01729921,\n",
       "        -0.0184054 , -0.10011458, -0.00179262, -0.02507003,  0.00036469,\n",
       "         0.10777836,  0.06871585,  0.00505368,  0.07617392,  0.00399326,\n",
       "         0.16712902,  0.04054195,  0.04005124,  0.0605142 , -0.05196501,\n",
       "        -0.03332517,  0.02828738, -0.00060112,  0.03068526,  0.12958924,\n",
       "        -0.06490149,  0.07089546, -0.06404383, -0.00811982, -0.01543654,\n",
       "        -0.01201823, -0.01136005,  0.11850443, -0.10295886,  0.11454046,\n",
       "         0.02082215,  0.11645175,  0.16969775, -0.03021856,  0.05214595,\n",
       "        -0.03356717, -0.09990311,  0.04051528, -0.04316402,  0.00123605,\n",
       "         0.00893397, -0.01435989, -0.072765  ,  0.11360969], dtype=float32),\n",
       " array([-0.1889133 , -0.08440916,  0.03818335, -0.19054691, -0.18420723,\n",
       "        -0.02572358, -0.3009278 , -0.14118868, -0.07986809,  0.03799426,\n",
       "         0.29138213,  0.05224349,  0.00126154,  0.03845496,  0.10024232,\n",
       "        -0.2716869 ,  0.1846105 , -0.06695231, -0.04342585, -0.1575198 ,\n",
       "         0.11117124,  0.09688285, -0.26500532, -0.01294591,  0.04197321,\n",
       "        -0.16539277,  0.1783033 , -0.04773607, -0.22333398, -0.00555046,\n",
       "         0.0270643 ,  0.05962415, -0.07890132, -0.00925412,  0.17358722,\n",
       "         0.0671342 , -0.15568736, -0.15301955,  0.11459772,  0.04505089,\n",
       "         0.15205045,  0.10223312,  0.05565769,  0.07635515,  0.02564245,\n",
       "         0.09975029, -0.3857324 , -0.03908238,  0.14794649, -0.14925285,\n",
       "         0.12231702,  0.04518517, -0.12676218, -0.05913439,  0.14592893,\n",
       "         0.2537321 , -0.06685716, -0.06583735, -0.20148727,  0.21299572,\n",
       "        -0.09667809,  0.02307512, -0.17373681, -0.26420122], dtype=float32),\n",
       " array([0.0580815 , 0.0225505 , 0.01898157, 0.02037461, 0.04830007,\n",
       "        0.07381301, 0.05964198, 0.01973763, 0.02742378, 0.04501494,\n",
       "        0.03537102, 0.04763747, 0.02499551, 0.0348146 , 0.08966045,\n",
       "        0.03896042, 0.03577241, 0.02903177, 0.05119495, 0.05142491,\n",
       "        0.05356647, 0.02836215, 0.03608974, 0.03875265, 0.05913437,\n",
       "        0.04232186, 0.05380182, 0.02871705, 0.04626359, 0.04730232,\n",
       "        0.07674994, 0.06421422, 0.03695037, 0.04928875, 0.03806877,\n",
       "        0.03904447, 0.05452542, 0.03035693, 0.05041415, 0.0848832 ,\n",
       "        0.03998771, 0.04819234, 0.05357803, 0.04090431, 0.04792226,\n",
       "        0.03950342, 0.03362139, 0.08501448, 0.02191336, 0.06965759,\n",
       "        0.08329382, 0.04841707, 0.0356182 , 0.03293465, 0.06281734,\n",
       "        0.0624379 , 0.0315268 , 0.04246918, 0.03099411, 0.05136114,\n",
       "        0.02400723, 0.02469052, 0.03458364, 0.06150903], dtype=float32),\n",
       " array([[-0.08180916,  0.00060493, -0.01014887, ...,  0.05431259,\n",
       "          0.01695355,  0.03741316],\n",
       "        [ 0.01641683, -0.0382424 , -0.05865889, ..., -0.003184  ,\n",
       "         -0.02077826,  0.01083412],\n",
       "        [-0.00149686, -0.0198117 , -0.04640564, ..., -0.00695932,\n",
       "          0.01472314, -0.0462676 ],\n",
       "        ...,\n",
       "        [ 0.08896551, -0.0386445 ,  0.08780576, ..., -0.03077332,\n",
       "          0.04461323, -0.00105621],\n",
       "        [ 0.01301501, -0.0301283 , -0.02914885, ...,  0.03598063,\n",
       "         -0.02933083,  0.05548401],\n",
       "        [ 0.06060995, -0.00023126,  0.01953725, ...,  0.01286642,\n",
       "          0.02308435, -0.07369727]], dtype=float32),\n",
       " array([ 9.8372647e-04,  1.7403860e-03, -2.3024392e-03, -2.2672624e-03,\n",
       "        -4.3698502e-04, -2.2763240e-03, -1.3970600e-04,  3.9357976e-03,\n",
       "        -2.8344390e-03, -2.8435164e-03,  1.4788235e-03, -2.5034663e-03,\n",
       "         5.6793550e-03,  2.8842329e-03,  3.6012128e-03, -6.8455306e-04,\n",
       "         7.1289472e-04, -4.4321534e-04, -2.5377204e-03, -2.7941130e-03,\n",
       "         1.0619890e-03,  1.9634599e-03,  1.6815013e-03, -2.1992270e-03,\n",
       "        -5.0678439e-03, -3.0484439e-03, -1.2865390e-03,  3.7004918e-04,\n",
       "         3.4181417e-03, -2.1380717e-03, -8.4034444e-05, -2.5122261e-04],\n",
       "       dtype=float32),\n",
       " array([0.99004173, 1.0834138 , 1.0681952 , 1.0232623 , 1.0213852 ,\n",
       "        0.87251925, 0.98420346, 1.1458789 , 1.0063686 , 0.8078371 ,\n",
       "        1.1256253 , 1.1195055 , 1.0395474 , 0.993337  , 0.9916296 ,\n",
       "        0.9723008 , 1.0337452 , 0.92807215, 0.924567  , 0.9105474 ,\n",
       "        0.93756646, 0.9988952 , 0.92333335, 0.93184084, 1.0358905 ,\n",
       "        1.1360018 , 0.8237344 , 0.8942696 , 1.0040928 , 1.0191551 ,\n",
       "        1.0035449 , 1.0296001 ], dtype=float32),\n",
       " array([ 0.20605761,  0.20453161,  0.0881542 ,  0.18780605,  0.2605809 ,\n",
       "         0.03865822,  0.3433874 ,  0.29732352,  0.1814509 ,  0.2204104 ,\n",
       "        -0.0298865 ,  0.09542684, -0.100221  ,  0.23033626,  0.13832825,\n",
       "         0.11376566, -0.1318526 ,  0.06702733,  0.1926096 ,  0.12421051,\n",
       "        -0.07731827,  0.02639828,  0.06438774,  0.14978832,  0.05692234,\n",
       "         0.033339  , -0.1652206 ,  0.04316992,  0.10110886,  0.106337  ,\n",
       "        -0.0468016 ,  0.05017614], dtype=float32),\n",
       " array([-0.36719248, -0.19757679,  0.17565991,  0.36318675, -0.16047665,\n",
       "        -0.04248479, -0.1598206 , -0.1216881 , -0.03702886, -0.2198814 ,\n",
       "         0.1802438 , -0.04530795,  0.19892594, -0.19829604, -0.2859212 ,\n",
       "        -0.30079606,  0.41794765,  0.12633659, -0.15165538, -0.06584217,\n",
       "         0.1523374 ,  0.04009847, -0.05622493,  0.41420132, -0.09070046,\n",
       "         0.12780163, -0.05859085, -0.1820409 ,  0.14378358, -0.16940239,\n",
       "         0.19513609, -0.13683708], dtype=float32),\n",
       " array([0.16487853, 0.09140339, 0.15928444, 0.29095283, 0.12104166,\n",
       "        0.04877763, 0.13712163, 0.21605487, 0.0857916 , 0.08560018,\n",
       "        0.12937094, 0.13597332, 0.15944077, 0.05545238, 0.15085101,\n",
       "        0.08793759, 0.23038268, 0.09633292, 0.11625669, 0.09682783,\n",
       "        0.1145768 , 0.1008751 , 0.12769221, 0.14577805, 0.07133909,\n",
       "        0.2393954 , 0.03782095, 0.06623476, 0.14307857, 0.12805364,\n",
       "        0.11298316, 0.10035268], dtype=float32),\n",
       " array([[-2.12322976e-02, -4.62378599e-02, -1.35537162e-01,\n",
       "          9.17238444e-02,  9.85499471e-02,  1.11755244e-02,\n",
       "         -2.24197030e-01, -1.72979683e-01,  8.15718994e-03,\n",
       "          7.65932873e-02,  1.56139031e-01, -6.85043037e-02,\n",
       "         -2.19849840e-01,  1.38979375e-01,  1.44962013e-01,\n",
       "         -1.04531711e-02],\n",
       "        [ 5.10956794e-02, -2.52160467e-02, -1.55556858e-01,\n",
       "          3.39327729e-03,  7.47949928e-02,  2.08888352e-01,\n",
       "         -1.64492577e-01,  8.66398886e-02, -1.10323690e-02,\n",
       "          3.40067111e-02, -7.86994919e-02,  1.49077270e-02,\n",
       "          3.72386836e-02, -1.02358676e-01, -1.41543329e-01,\n",
       "          7.21083954e-03],\n",
       "        [ 2.89945137e-02, -2.23211005e-01, -6.23276383e-02,\n",
       "         -2.06633940e-01,  2.58287817e-01,  2.88827196e-02,\n",
       "         -8.06386322e-02, -1.52621821e-01,  2.48767678e-02,\n",
       "          4.85334825e-03,  7.54648671e-02, -4.96438369e-02,\n",
       "         -5.49823008e-02, -2.27854587e-02,  1.41683176e-01,\n",
       "          5.48306182e-02],\n",
       "        [ 4.73581702e-02, -1.80676803e-01,  2.32124656e-01,\n",
       "         -7.93495625e-02, -1.65553629e-01, -1.88806862e-01,\n",
       "          1.46015570e-01, -1.90618694e-01,  7.84218684e-02,\n",
       "         -1.20953983e-02, -1.20036371e-01, -2.60223523e-02,\n",
       "          2.03081612e-02, -1.91878881e-02,  4.77268472e-02,\n",
       "          8.44512694e-03],\n",
       "        [ 7.04796538e-02, -2.16301560e-01, -2.07841575e-01,\n",
       "          6.50109053e-02, -1.47494078e-01, -1.39496908e-01,\n",
       "          7.14835003e-02, -9.49491933e-02, -1.45045994e-02,\n",
       "          8.97029936e-02,  1.58934548e-01, -4.15554382e-02,\n",
       "         -9.30302427e-04,  1.52638465e-01,  1.72436967e-01,\n",
       "          8.18510234e-05],\n",
       "        [ 1.34403966e-02,  3.02491840e-02,  5.76164611e-02,\n",
       "         -8.81427377e-02, -2.01718509e-01,  2.51230914e-02,\n",
       "          5.39061353e-02,  5.82024828e-02, -2.60672905e-02,\n",
       "         -6.24680370e-02,  2.82239038e-02,  2.25030561e-03,\n",
       "         -2.94309184e-02,  5.78412153e-02, -8.91625695e-03,\n",
       "         -3.29473726e-02],\n",
       "        [ 3.03847548e-02,  1.57372188e-02, -1.92070991e-01,\n",
       "         -2.41554454e-02,  1.70887992e-01, -8.38604644e-02,\n",
       "         -1.03179187e-01,  8.14688578e-02, -9.38234478e-03,\n",
       "         -1.70921832e-02,  3.44877690e-02,  4.83203959e-03,\n",
       "         -2.04603691e-02,  1.30137488e-01,  9.09962207e-02,\n",
       "         -1.50340823e-02],\n",
       "        [ 5.86551540e-02,  1.76340416e-01,  1.42676264e-01,\n",
       "          1.68672472e-01, -2.53818154e-01, -1.94565848e-01,\n",
       "         -1.70265675e-01,  4.82332222e-02,  7.57182315e-02,\n",
       "         -7.15194121e-02, -1.34207129e-01, -4.19140421e-02,\n",
       "         -1.38782367e-01, -5.79906702e-02,  1.77806512e-01,\n",
       "          4.18986119e-02],\n",
       "        [ 2.76796557e-02,  1.06700704e-01, -3.03257555e-02,\n",
       "         -8.49382952e-02,  6.66429400e-02,  4.90420535e-02,\n",
       "         -3.26467454e-02,  3.31257358e-02, -5.55724688e-02,\n",
       "         -2.17287671e-02, -7.63374567e-02, -1.00177731e-02,\n",
       "          6.97850809e-02,  9.63004157e-02, -1.45133451e-01,\n",
       "         -5.19121811e-02],\n",
       "        [ 6.41238317e-02, -6.98849782e-02,  4.46618125e-02,\n",
       "          6.15963116e-02, -7.41212144e-02,  2.21944116e-02,\n",
       "          3.59775685e-02, -1.64529625e-02,  5.60713932e-03,\n",
       "         -3.29431258e-02,  6.75834864e-02,  3.89432609e-02,\n",
       "          4.94038984e-02,  1.16116675e-02,  7.83117041e-02,\n",
       "         -1.40660191e-02],\n",
       "        [ 3.78773659e-02, -1.20861299e-01, -1.00805879e-01,\n",
       "          8.75841007e-02, -1.46231338e-01,  6.98673204e-02,\n",
       "          5.66727854e-02,  2.10258961e-01, -6.60892203e-02,\n",
       "         -7.60824308e-02,  1.49247013e-02,  3.29910638e-03,\n",
       "         -8.68265554e-02, -3.76484660e-03, -1.35590404e-01,\n",
       "         -1.86638758e-02],\n",
       "        [ 3.79817598e-02, -1.92366496e-01,  1.76516771e-02,\n",
       "         -6.83684275e-02, -1.03416972e-01, -7.43943639e-03,\n",
       "          1.39603049e-01, -1.26732796e-01,  1.06672458e-01,\n",
       "          1.61111355e-02, -4.33383584e-02, -1.18151437e-02,\n",
       "          2.02174723e-01, -1.08207546e-01, -1.36363730e-01,\n",
       "         -6.86811982e-03],\n",
       "        [ 2.37476118e-02, -8.75758603e-02, -1.25611484e-01,\n",
       "         -1.00689813e-01,  3.87253091e-02, -1.18356854e-01,\n",
       "          5.84874004e-02, -1.20564990e-01,  5.18643018e-03,\n",
       "         -3.40351388e-02,  5.88694885e-02,  1.84908863e-02,\n",
       "         -4.33403850e-02,  3.48534770e-02, -1.52884573e-01,\n",
       "         -6.07538084e-03],\n",
       "        [ 3.09754722e-02, -9.37794670e-02, -1.75494247e-03,\n",
       "         -7.25359470e-02, -1.23170160e-01,  2.16434851e-01,\n",
       "         -1.60797447e-01,  8.55123848e-02,  9.38391387e-02,\n",
       "          2.06902344e-02,  9.89909992e-02,  2.02135881e-03,\n",
       "         -4.65758257e-02,  1.06242470e-01, -9.53511801e-03,\n",
       "         -5.09420559e-02],\n",
       "        [ 8.23332369e-03, -2.13617891e-01,  2.06897259e-02,\n",
       "          1.12445438e-02,  2.14023024e-01,  3.73840891e-02,\n",
       "         -5.63706756e-02, -1.59602046e-01,  1.88753586e-02,\n",
       "         -2.85244174e-02,  6.56071380e-02, -3.66677828e-02,\n",
       "          3.18821408e-02,  8.99062976e-02, -9.94515270e-02,\n",
       "         -1.74443405e-02],\n",
       "        [-2.18282342e-02, -2.21954603e-02, -1.20406225e-01,\n",
       "         -4.36598659e-02, -2.48932362e-01,  7.86562264e-02,\n",
       "          9.66751277e-02, -4.54930216e-02, -5.30211404e-02,\n",
       "          2.54689492e-02, -3.19416961e-03, -1.43046333e-02,\n",
       "          1.70271471e-01,  1.81074627e-02, -7.25736469e-02,\n",
       "          4.38820897e-03],\n",
       "        [ 3.14730220e-02,  1.80896446e-02,  1.34306371e-01,\n",
       "         -9.83760320e-03, -1.44018754e-01, -8.00085813e-02,\n",
       "         -1.01576075e-01, -1.75413027e-01, -7.44556785e-02,\n",
       "         -6.06544688e-02,  6.76418468e-02,  8.08350220e-02,\n",
       "         -1.59840912e-01,  5.96182495e-02, -1.29378632e-01,\n",
       "          5.54401092e-02],\n",
       "        [ 6.64315885e-03,  1.22910447e-01, -8.37419927e-03,\n",
       "          4.97913137e-02, -9.02478024e-02,  6.14002645e-02,\n",
       "         -1.06716789e-01, -8.37284923e-02, -8.93124714e-02,\n",
       "          3.45336609e-02, -1.42230749e-01, -1.27638355e-02,\n",
       "         -1.83298662e-01,  3.73354480e-02,  7.86510706e-02,\n",
       "          5.72599694e-02],\n",
       "        [ 4.09800485e-02,  1.40472502e-01, -3.61779183e-02,\n",
       "         -2.00545276e-03,  4.89846729e-02,  1.80355877e-01,\n",
       "         -2.17066839e-01, -1.34875894e-01,  5.78580890e-03,\n",
       "          1.14386138e-02,  2.05082577e-02,  1.31444086e-03,\n",
       "         -6.60504848e-02, -5.82730621e-02, -3.27568618e-03,\n",
       "         -7.23721236e-02],\n",
       "        [-5.03161736e-03,  1.16011575e-01, -2.07613140e-01,\n",
       "         -8.44680965e-02, -1.03018604e-01,  1.55327797e-01,\n",
       "          1.36101559e-01, -1.04113713e-01, -4.06520702e-02,\n",
       "         -5.44120092e-04, -1.04608744e-01,  6.27610087e-02,\n",
       "         -1.20375715e-02,  1.98860522e-02,  5.79496808e-02,\n",
       "          1.30371926e-02],\n",
       "        [-2.10913457e-02, -8.17116275e-02,  9.59911570e-02,\n",
       "         -8.47720280e-02, -1.22172847e-01,  2.27061018e-01,\n",
       "          9.08576325e-03, -1.39269784e-01, -6.87427968e-02,\n",
       "         -3.05612292e-02, -8.59935731e-02,  1.28838196e-02,\n",
       "         -5.28707169e-02, -7.32485652e-02, -1.01921782e-01,\n",
       "         -5.08594699e-02],\n",
       "        [ 5.11958003e-02,  1.78271696e-01, -2.53101215e-02,\n",
       "         -8.44564140e-02,  8.23644027e-02, -9.60257053e-02,\n",
       "          6.57429248e-02,  1.43967187e-02, -4.31760168e-03,\n",
       "         -3.71721201e-02, -1.88672572e-01, -8.60907882e-03,\n",
       "          6.80207834e-02,  1.09356411e-01,  9.61908512e-03,\n",
       "         -4.68319952e-02],\n",
       "        [ 2.68058516e-02,  3.53071131e-02, -1.45808846e-01,\n",
       "         -8.67310166e-02,  1.51666403e-01,  9.40029249e-02,\n",
       "          3.19629237e-02, -6.98850453e-02,  9.02680401e-03,\n",
       "          2.26838049e-02,  4.52618934e-02, -1.72727574e-02,\n",
       "         -1.31776810e-01,  1.13574602e-02, -1.28467932e-01,\n",
       "         -1.45704132e-02],\n",
       "        [ 3.81531864e-02, -1.86887547e-01, -6.01739474e-02,\n",
       "          1.13881640e-01, -3.55520546e-02, -8.41243342e-02,\n",
       "         -1.21270880e-01,  1.46597534e-01, -8.14017057e-02,\n",
       "          2.64799278e-02,  1.83589950e-01, -2.32207682e-03,\n",
       "          2.93331165e-02, -7.15225786e-02, -1.95108607e-01,\n",
       "          4.25087698e-02],\n",
       "        [ 2.77240071e-02, -1.13418147e-01, -6.83102608e-02,\n",
       "          1.09116007e-02, -6.34946525e-02, -2.30913207e-01,\n",
       "          1.35182157e-01,  1.49162516e-01, -3.35022584e-02,\n",
       "          9.25434604e-02,  6.60223961e-02, -3.07939369e-02,\n",
       "         -1.13096707e-01,  7.91054294e-02,  1.52803613e-02,\n",
       "         -1.88006535e-02],\n",
       "        [ 5.02108522e-02,  5.59669025e-02,  2.77018752e-02,\n",
       "          1.60404444e-01, -2.71736830e-01,  1.28035083e-01,\n",
       "         -1.25124127e-01, -1.39959589e-01,  7.50332996e-02,\n",
       "          2.52114590e-02, -1.98024839e-01, -1.88538935e-02,\n",
       "          1.45850435e-01, -1.27125338e-01, -2.57963687e-01,\n",
       "          3.02355886e-02],\n",
       "        [ 1.48647204e-02, -5.14183789e-02,  2.39562560e-02,\n",
       "          2.98507884e-02,  1.13929532e-01, -1.63925380e-01,\n",
       "          7.07254186e-02, -6.64762631e-02, -3.05980220e-02,\n",
       "          2.70146821e-02, -3.81213091e-02,  4.22690436e-03,\n",
       "         -9.66408011e-03, -8.52762610e-02,  9.57785696e-02,\n",
       "         -7.02823550e-02],\n",
       "        [ 6.43695295e-02, -1.13440305e-01, -5.92216700e-02,\n",
       "         -1.02770299e-01,  9.84198079e-02, -9.58683565e-02,\n",
       "         -7.49820424e-03,  5.84266707e-02, -4.48496863e-02,\n",
       "          1.83795020e-02,  1.25220403e-01, -1.76472198e-02,\n",
       "         -2.53902208e-02, -5.76190762e-02,  1.55867845e-01,\n",
       "          2.86699515e-02],\n",
       "        [ 6.03411198e-02, -2.58401722e-01,  5.59471957e-02,\n",
       "          1.80541307e-01,  6.24968782e-02, -5.72398938e-02,\n",
       "          1.01902544e-01,  1.85536459e-01, -1.07101478e-01,\n",
       "          2.36607324e-02, -1.35371059e-01, -2.43865401e-02,\n",
       "         -7.16696531e-02, -7.16159493e-02, -2.60182582e-02,\n",
       "          1.37424041e-02],\n",
       "        [ 2.77745101e-04,  1.55354977e-01, -8.44453182e-03,\n",
       "         -5.73590919e-02, -1.82070628e-01,  1.30107656e-01,\n",
       "         -1.39614001e-01,  1.89861491e-01,  6.40581027e-02,\n",
       "          3.70403528e-02, -1.55731246e-01, -9.40607628e-04,\n",
       "         -7.94014037e-02, -9.04328302e-02,  5.85288629e-02,\n",
       "         -5.49486876e-02],\n",
       "        [ 2.42747348e-02,  6.02184422e-02, -8.42689127e-02,\n",
       "          2.51295622e-02,  6.20853268e-02, -1.17421448e-01,\n",
       "         -1.55488431e-01, -1.92729428e-01,  4.21335734e-02,\n",
       "         -1.34702083e-02, -4.74784970e-02,  5.42717502e-02,\n",
       "          1.66357160e-01, -1.38354689e-01,  1.27012908e-01,\n",
       "         -6.20241351e-02],\n",
       "        [ 3.49171348e-02,  2.15072975e-01, -3.24782496e-03,\n",
       "         -6.20709434e-02,  1.00284621e-01, -1.47303388e-01,\n",
       "         -6.08199872e-02,  1.61069948e-02, -1.06605794e-02,\n",
       "          4.93051372e-02, -1.03434697e-01, -4.74160574e-02,\n",
       "         -1.28631517e-01, -2.02754140e-02, -1.40030339e-01,\n",
       "         -3.37961726e-02]], dtype=float32),\n",
       " array([ 7.3774578e-03, -1.1277071e-02,  3.4461869e-03,  1.4764847e-03,\n",
       "        -1.4889125e-04,  1.0213246e-02,  1.4411688e-03, -2.7435329e-03,\n",
       "        -2.6190090e-03,  2.2241932e-03, -1.1638107e-03, -1.5498888e-03,\n",
       "        -3.0628816e-04, -1.4317044e-03,  6.5517954e-05, -1.9489859e-04],\n",
       "       dtype=float32),\n",
       " array([0.9011687, 1.3125138, 1.2951323, 1.3567086, 1.2837889, 1.1941062,\n",
       "        1.3833015, 1.2706712, 0.8016905, 0.7423913, 1.244011 , 0.9059719,\n",
       "        1.4649351, 1.2818816, 1.265741 , 0.7518212], dtype=float32),\n",
       " array([-0.0784781 ,  0.592338  ,  0.6262398 ,  0.648023  ,  0.6016531 ,\n",
       "         0.6838874 ,  0.5830375 ,  0.67699134, -0.27798164, -0.3186248 ,\n",
       "         0.622668  ,  0.20693284,  0.72045577,  0.56662947,  0.62921345,\n",
       "        -0.29312813], dtype=float32),\n",
       " array([ 0.45726538, -0.4290708 , -0.48000136, -0.06995902, -0.4128555 ,\n",
       "        -0.02843205, -0.48196715, -0.33943874, -0.03171474,  0.08532658,\n",
       "        -0.1711217 , -0.12064284, -0.3302868 ,  0.05241849, -0.13446273,\n",
       "        -0.10328359], dtype=float32),\n",
       " array([0.01519773, 0.46357253, 0.3464635 , 0.4231567 , 0.5917248 ,\n",
       "        0.48043507, 0.40773308, 0.47772223, 0.05082965, 0.04283231,\n",
       "        0.34036276, 0.01003429, 0.23267989, 0.19451778, 0.3169581 ,\n",
       "        0.0412841 ], dtype=float32),\n",
       " array([[-0.17286693],\n",
       "        [ 0.776722  ],\n",
       "        [ 0.76847583],\n",
       "        [ 0.9817005 ],\n",
       "        [ 0.9255692 ],\n",
       "        [ 0.9151566 ],\n",
       "        [ 0.77686733],\n",
       "        [ 0.9055931 ],\n",
       "        [-0.45682517],\n",
       "        [-0.37164295],\n",
       "        [ 0.76254636],\n",
       "        [ 0.1071345 ],\n",
       "        [ 0.51823664],\n",
       "        [ 0.35969195],\n",
       "        [ 0.60798746],\n",
       "        [-0.3877494 ]], dtype=float32),\n",
       " array([0.5798616], dtype=float32)]"
      ]
     },
     "execution_count": 10,
     "metadata": {},
     "output_type": "execute_result"
    }
   ],
   "source": [
    "model.get_weights()"
   ]
  },
  {
   "cell_type": "code",
   "execution_count": 11,
   "metadata": {},
   "outputs": [
    {
     "name": "stdout",
     "output_type": "stream",
     "text": [
      "1610/1610 [==============================] - 2s 937us/step\n",
      "[[9.758306 ]\n",
      " [6.6748753]\n",
      " [6.6902943]\n",
      " ...\n",
      " [7.0301538]\n",
      " [6.9962068]\n",
      " [6.505438 ]]\n"
     ]
    }
   ],
   "source": [
    "predictions = model.predict(X_test)\n",
    "\n",
    "print(predictions)"
   ]
  },
  {
   "cell_type": "code",
   "execution_count": 12,
   "metadata": {},
   "outputs": [
    {
     "data": {
      "text/plain": [
       "43806     9.648595\n",
       "217182    6.216606\n",
       "137747    7.403061\n",
       "74434     6.216606\n",
       "55548     9.457279\n",
       "            ...   \n",
       "54430     6.216606\n",
       "119793    9.648595\n",
       "139112    7.170120\n",
       "221066    6.216606\n",
       "116067    6.216606\n",
       "Name: price, Length: 51514, dtype: float64"
      ]
     },
     "execution_count": 12,
     "metadata": {},
     "output_type": "execute_result"
    }
   ],
   "source": [
    "y_test"
   ]
  },
  {
   "cell_type": "code",
   "execution_count": 13,
   "metadata": {},
   "outputs": [
    {
     "data": {
      "application/vnd.plotly.v1+json": {
       "config": {
        "plotlyServerURL": "https://plot.ly"
       },
       "data": [
        {
         "hovertemplate": "variable=loss<br>Epoch=%{x}<br>Loss=%{y}<extra></extra>",
         "legendgroup": "loss",
         "line": {
          "color": "#636efa",
          "dash": "solid"
         },
         "marker": {
          "symbol": "circle"
         },
         "mode": "lines",
         "name": "loss",
         "orientation": "v",
         "showlegend": true,
         "type": "scatter",
         "x": [
          1,
          2,
          3,
          4,
          5,
          6,
          7,
          8,
          9,
          10,
          11,
          12,
          13,
          14,
          15,
          16,
          17,
          18,
          19,
          20,
          21,
          22,
          23,
          24,
          25,
          26,
          27,
          28,
          29,
          30,
          31,
          32,
          33,
          34,
          35,
          36,
          37,
          38,
          39,
          40,
          41,
          42,
          43,
          44,
          45,
          46,
          47,
          48,
          49,
          50,
          51,
          52,
          53,
          54,
          55,
          56,
          57,
          58,
          59,
          60,
          61,
          62,
          63,
          64,
          65,
          66,
          67,
          68,
          69,
          70,
          71,
          72,
          73,
          74,
          75,
          76,
          77,
          78,
          79,
          80,
          81,
          82,
          83,
          84,
          85,
          86,
          87,
          88,
          89,
          90,
          91,
          92,
          93,
          94,
          95
         ],
         "xaxis": "x",
         "y": [
          39.76565170288086,
          14.896268844604492,
          3.075464963912964,
          0.590671181678772,
          0.4383409023284912,
          0.40149369835853577,
          0.3767108619213104,
          0.3576422333717346,
          0.3416520059108734,
          0.3283318877220154,
          0.31711283326148987,
          0.308278888463974,
          0.29968711733818054,
          0.2912883162498474,
          0.2845560908317566,
          0.27703404426574707,
          0.271742045879364,
          0.26510220766067505,
          0.2609913945198059,
          0.25684136152267456,
          0.25223982334136963,
          0.24767732620239258,
          0.2445984035730362,
          0.2414882332086563,
          0.23735733330249786,
          0.2344340980052948,
          0.23152144253253937,
          0.2286302000284195,
          0.2261659801006317,
          0.2230164259672165,
          0.22149436175823212,
          0.2199408859014511,
          0.21710197627544403,
          0.21489942073822021,
          0.21379105746746063,
          0.21099473536014557,
          0.20962950587272644,
          0.20808905363082886,
          0.20712250471115112,
          0.20594735443592072,
          0.20305350422859192,
          0.2026066780090332,
          0.20193178951740265,
          0.20028747618198395,
          0.19947446882724762,
          0.1979643702507019,
          0.19677387177944183,
          0.19611281156539917,
          0.19500644505023956,
          0.1943013072013855,
          0.19374944269657135,
          0.19251349568367004,
          0.1918422430753708,
          0.19112302362918854,
          0.1900380551815033,
          0.18903380632400513,
          0.1884414255619049,
          0.18797068297863007,
          0.18754306435585022,
          0.18677659332752228,
          0.18598715960979462,
          0.18510429561138153,
          0.1840444803237915,
          0.18425098061561584,
          0.18417656421661377,
          0.1828891783952713,
          0.1828048974275589,
          0.18185950815677643,
          0.18139366805553436,
          0.18136073648929596,
          0.1808699667453766,
          0.18030738830566406,
          0.17976465821266174,
          0.1789415031671524,
          0.1791115701198578,
          0.1784643530845642,
          0.1777610182762146,
          0.1775221973657608,
          0.17682918906211853,
          0.17699000239372253,
          0.1764504760503769,
          0.1759420484304428,
          0.17529210448265076,
          0.17586754262447357,
          0.17480750381946564,
          0.17463287711143494,
          0.17493712902069092,
          0.1740880161523819,
          0.17372411489486694,
          0.17402133345603943,
          0.17316916584968567,
          0.1733306497335434,
          0.17244009673595428,
          0.17242249846458435,
          0.17185698449611664
         ],
         "yaxis": "y"
        },
        {
         "hovertemplate": "variable=val_loss<br>Epoch=%{x}<br>Loss=%{y}<extra></extra>",
         "legendgroup": "val_loss",
         "line": {
          "color": "#EF553B",
          "dash": "solid"
         },
         "marker": {
          "symbol": "circle"
         },
         "mode": "lines",
         "name": "val_loss",
         "orientation": "v",
         "showlegend": true,
         "type": "scatter",
         "x": [
          1,
          2,
          3,
          4,
          5,
          6,
          7,
          8,
          9,
          10,
          11,
          12,
          13,
          14,
          15,
          16,
          17,
          18,
          19,
          20,
          21,
          22,
          23,
          24,
          25,
          26,
          27,
          28,
          29,
          30,
          31,
          32,
          33,
          34,
          35,
          36,
          37,
          38,
          39,
          40,
          41,
          42,
          43,
          44,
          45,
          46,
          47,
          48,
          49,
          50,
          51,
          52,
          53,
          54,
          55,
          56,
          57,
          58,
          59,
          60,
          61,
          62,
          63,
          64,
          65,
          66,
          67,
          68,
          69,
          70,
          71,
          72,
          73,
          74,
          75,
          76,
          77,
          78,
          79,
          80,
          81,
          82,
          83,
          84,
          85,
          86,
          87,
          88,
          89,
          90,
          91,
          92,
          93,
          94,
          95
         ],
         "xaxis": "x",
         "y": [
          25.688961029052734,
          6.87638521194458,
          0.8370580673217773,
          0.3883889317512512,
          0.36056360602378845,
          0.3389297127723694,
          0.326386421918869,
          0.3171680271625519,
          0.3053942620754242,
          0.2996559143066406,
          0.29503488540649414,
          0.2816849946975708,
          0.27765902876853943,
          0.2706103026866913,
          0.26621001958847046,
          0.26141566038131714,
          0.2625177800655365,
          0.2607725262641907,
          0.25140655040740967,
          0.24780753254890442,
          0.24395771324634552,
          0.24357745051383972,
          0.24271461367607117,
          0.24304674565792084,
          0.23425211012363434,
          0.23339739441871643,
          0.23119434714317322,
          0.24143804609775543,
          0.2262807935476303,
          0.22714759409427643,
          0.2263149470090866,
          0.22769610583782196,
          0.22499491274356842,
          0.21509245038032532,
          0.22158625721931458,
          0.21805670857429504,
          0.21760012209415436,
          0.2249344289302826,
          0.21562965214252472,
          0.20914001762866974,
          0.2088722437620163,
          0.2284868061542511,
          0.2105664163827896,
          0.20436009764671326,
          0.2076856791973114,
          0.20461177825927734,
          0.2063121348619461,
          0.2128676176071167,
          0.21045342087745667,
          0.2024860680103302,
          0.20297646522521973,
          0.20120739936828613,
          0.19826193153858185,
          0.21208423376083374,
          0.20341305434703827,
          0.2006649374961853,
          0.2018691897392273,
          0.19505108892917633,
          0.1953428089618683,
          0.1945207118988037,
          0.20363803207874298,
          0.19698727130889893,
          0.20073619484901428,
          0.227248877286911,
          0.1968344897031784,
          0.2000618577003479,
          0.20217686891555786,
          0.1999278962612152,
          0.19702333211898804,
          0.19536274671554565,
          0.19878306984901428,
          0.1959804892539978,
          0.1961524784564972,
          0.19813068211078644,
          0.18594229221343994,
          0.18999943137168884,
          0.1981310248374939,
          0.1892588585615158,
          0.1936960220336914,
          0.19720032811164856,
          0.19482378661632538,
          0.1921708881855011,
          0.1942438930273056,
          0.19327959418296814,
          0.19163569808006287,
          0.19065028429031372,
          0.19041994214057922,
          0.19094929099082947,
          0.19821274280548096,
          0.1868969053030014,
          0.1892451047897339,
          0.18715238571166992,
          0.1925870180130005,
          0.19074496626853943,
          0.19308240711688995
         ],
         "yaxis": "y"
        }
       ],
       "layout": {
        "legend": {
         "title": {
          "text": "variable"
         },
         "tracegroupgap": 0
        },
        "template": {
         "data": {
          "bar": [
           {
            "error_x": {
             "color": "#2a3f5f"
            },
            "error_y": {
             "color": "#2a3f5f"
            },
            "marker": {
             "line": {
              "color": "#E5ECF6",
              "width": 0.5
             },
             "pattern": {
              "fillmode": "overlay",
              "size": 10,
              "solidity": 0.2
             }
            },
            "type": "bar"
           }
          ],
          "barpolar": [
           {
            "marker": {
             "line": {
              "color": "#E5ECF6",
              "width": 0.5
             },
             "pattern": {
              "fillmode": "overlay",
              "size": 10,
              "solidity": 0.2
             }
            },
            "type": "barpolar"
           }
          ],
          "carpet": [
           {
            "aaxis": {
             "endlinecolor": "#2a3f5f",
             "gridcolor": "white",
             "linecolor": "white",
             "minorgridcolor": "white",
             "startlinecolor": "#2a3f5f"
            },
            "baxis": {
             "endlinecolor": "#2a3f5f",
             "gridcolor": "white",
             "linecolor": "white",
             "minorgridcolor": "white",
             "startlinecolor": "#2a3f5f"
            },
            "type": "carpet"
           }
          ],
          "choropleth": [
           {
            "colorbar": {
             "outlinewidth": 0,
             "ticks": ""
            },
            "type": "choropleth"
           }
          ],
          "contour": [
           {
            "colorbar": {
             "outlinewidth": 0,
             "ticks": ""
            },
            "colorscale": [
             [
              0,
              "#0d0887"
             ],
             [
              0.1111111111111111,
              "#46039f"
             ],
             [
              0.2222222222222222,
              "#7201a8"
             ],
             [
              0.3333333333333333,
              "#9c179e"
             ],
             [
              0.4444444444444444,
              "#bd3786"
             ],
             [
              0.5555555555555556,
              "#d8576b"
             ],
             [
              0.6666666666666666,
              "#ed7953"
             ],
             [
              0.7777777777777778,
              "#fb9f3a"
             ],
             [
              0.8888888888888888,
              "#fdca26"
             ],
             [
              1,
              "#f0f921"
             ]
            ],
            "type": "contour"
           }
          ],
          "contourcarpet": [
           {
            "colorbar": {
             "outlinewidth": 0,
             "ticks": ""
            },
            "type": "contourcarpet"
           }
          ],
          "heatmap": [
           {
            "colorbar": {
             "outlinewidth": 0,
             "ticks": ""
            },
            "colorscale": [
             [
              0,
              "#0d0887"
             ],
             [
              0.1111111111111111,
              "#46039f"
             ],
             [
              0.2222222222222222,
              "#7201a8"
             ],
             [
              0.3333333333333333,
              "#9c179e"
             ],
             [
              0.4444444444444444,
              "#bd3786"
             ],
             [
              0.5555555555555556,
              "#d8576b"
             ],
             [
              0.6666666666666666,
              "#ed7953"
             ],
             [
              0.7777777777777778,
              "#fb9f3a"
             ],
             [
              0.8888888888888888,
              "#fdca26"
             ],
             [
              1,
              "#f0f921"
             ]
            ],
            "type": "heatmap"
           }
          ],
          "heatmapgl": [
           {
            "colorbar": {
             "outlinewidth": 0,
             "ticks": ""
            },
            "colorscale": [
             [
              0,
              "#0d0887"
             ],
             [
              0.1111111111111111,
              "#46039f"
             ],
             [
              0.2222222222222222,
              "#7201a8"
             ],
             [
              0.3333333333333333,
              "#9c179e"
             ],
             [
              0.4444444444444444,
              "#bd3786"
             ],
             [
              0.5555555555555556,
              "#d8576b"
             ],
             [
              0.6666666666666666,
              "#ed7953"
             ],
             [
              0.7777777777777778,
              "#fb9f3a"
             ],
             [
              0.8888888888888888,
              "#fdca26"
             ],
             [
              1,
              "#f0f921"
             ]
            ],
            "type": "heatmapgl"
           }
          ],
          "histogram": [
           {
            "marker": {
             "pattern": {
              "fillmode": "overlay",
              "size": 10,
              "solidity": 0.2
             }
            },
            "type": "histogram"
           }
          ],
          "histogram2d": [
           {
            "colorbar": {
             "outlinewidth": 0,
             "ticks": ""
            },
            "colorscale": [
             [
              0,
              "#0d0887"
             ],
             [
              0.1111111111111111,
              "#46039f"
             ],
             [
              0.2222222222222222,
              "#7201a8"
             ],
             [
              0.3333333333333333,
              "#9c179e"
             ],
             [
              0.4444444444444444,
              "#bd3786"
             ],
             [
              0.5555555555555556,
              "#d8576b"
             ],
             [
              0.6666666666666666,
              "#ed7953"
             ],
             [
              0.7777777777777778,
              "#fb9f3a"
             ],
             [
              0.8888888888888888,
              "#fdca26"
             ],
             [
              1,
              "#f0f921"
             ]
            ],
            "type": "histogram2d"
           }
          ],
          "histogram2dcontour": [
           {
            "colorbar": {
             "outlinewidth": 0,
             "ticks": ""
            },
            "colorscale": [
             [
              0,
              "#0d0887"
             ],
             [
              0.1111111111111111,
              "#46039f"
             ],
             [
              0.2222222222222222,
              "#7201a8"
             ],
             [
              0.3333333333333333,
              "#9c179e"
             ],
             [
              0.4444444444444444,
              "#bd3786"
             ],
             [
              0.5555555555555556,
              "#d8576b"
             ],
             [
              0.6666666666666666,
              "#ed7953"
             ],
             [
              0.7777777777777778,
              "#fb9f3a"
             ],
             [
              0.8888888888888888,
              "#fdca26"
             ],
             [
              1,
              "#f0f921"
             ]
            ],
            "type": "histogram2dcontour"
           }
          ],
          "mesh3d": [
           {
            "colorbar": {
             "outlinewidth": 0,
             "ticks": ""
            },
            "type": "mesh3d"
           }
          ],
          "parcoords": [
           {
            "line": {
             "colorbar": {
              "outlinewidth": 0,
              "ticks": ""
             }
            },
            "type": "parcoords"
           }
          ],
          "pie": [
           {
            "automargin": true,
            "type": "pie"
           }
          ],
          "scatter": [
           {
            "marker": {
             "colorbar": {
              "outlinewidth": 0,
              "ticks": ""
             }
            },
            "type": "scatter"
           }
          ],
          "scatter3d": [
           {
            "line": {
             "colorbar": {
              "outlinewidth": 0,
              "ticks": ""
             }
            },
            "marker": {
             "colorbar": {
              "outlinewidth": 0,
              "ticks": ""
             }
            },
            "type": "scatter3d"
           }
          ],
          "scattercarpet": [
           {
            "marker": {
             "colorbar": {
              "outlinewidth": 0,
              "ticks": ""
             }
            },
            "type": "scattercarpet"
           }
          ],
          "scattergeo": [
           {
            "marker": {
             "colorbar": {
              "outlinewidth": 0,
              "ticks": ""
             }
            },
            "type": "scattergeo"
           }
          ],
          "scattergl": [
           {
            "marker": {
             "colorbar": {
              "outlinewidth": 0,
              "ticks": ""
             }
            },
            "type": "scattergl"
           }
          ],
          "scattermapbox": [
           {
            "marker": {
             "colorbar": {
              "outlinewidth": 0,
              "ticks": ""
             }
            },
            "type": "scattermapbox"
           }
          ],
          "scatterpolar": [
           {
            "marker": {
             "colorbar": {
              "outlinewidth": 0,
              "ticks": ""
             }
            },
            "type": "scatterpolar"
           }
          ],
          "scatterpolargl": [
           {
            "marker": {
             "colorbar": {
              "outlinewidth": 0,
              "ticks": ""
             }
            },
            "type": "scatterpolargl"
           }
          ],
          "scatterternary": [
           {
            "marker": {
             "colorbar": {
              "outlinewidth": 0,
              "ticks": ""
             }
            },
            "type": "scatterternary"
           }
          ],
          "surface": [
           {
            "colorbar": {
             "outlinewidth": 0,
             "ticks": ""
            },
            "colorscale": [
             [
              0,
              "#0d0887"
             ],
             [
              0.1111111111111111,
              "#46039f"
             ],
             [
              0.2222222222222222,
              "#7201a8"
             ],
             [
              0.3333333333333333,
              "#9c179e"
             ],
             [
              0.4444444444444444,
              "#bd3786"
             ],
             [
              0.5555555555555556,
              "#d8576b"
             ],
             [
              0.6666666666666666,
              "#ed7953"
             ],
             [
              0.7777777777777778,
              "#fb9f3a"
             ],
             [
              0.8888888888888888,
              "#fdca26"
             ],
             [
              1,
              "#f0f921"
             ]
            ],
            "type": "surface"
           }
          ],
          "table": [
           {
            "cells": {
             "fill": {
              "color": "#EBF0F8"
             },
             "line": {
              "color": "white"
             }
            },
            "header": {
             "fill": {
              "color": "#C8D4E3"
             },
             "line": {
              "color": "white"
             }
            },
            "type": "table"
           }
          ]
         },
         "layout": {
          "annotationdefaults": {
           "arrowcolor": "#2a3f5f",
           "arrowhead": 0,
           "arrowwidth": 1
          },
          "autotypenumbers": "strict",
          "coloraxis": {
           "colorbar": {
            "outlinewidth": 0,
            "ticks": ""
           }
          },
          "colorscale": {
           "diverging": [
            [
             0,
             "#8e0152"
            ],
            [
             0.1,
             "#c51b7d"
            ],
            [
             0.2,
             "#de77ae"
            ],
            [
             0.3,
             "#f1b6da"
            ],
            [
             0.4,
             "#fde0ef"
            ],
            [
             0.5,
             "#f7f7f7"
            ],
            [
             0.6,
             "#e6f5d0"
            ],
            [
             0.7,
             "#b8e186"
            ],
            [
             0.8,
             "#7fbc41"
            ],
            [
             0.9,
             "#4d9221"
            ],
            [
             1,
             "#276419"
            ]
           ],
           "sequential": [
            [
             0,
             "#0d0887"
            ],
            [
             0.1111111111111111,
             "#46039f"
            ],
            [
             0.2222222222222222,
             "#7201a8"
            ],
            [
             0.3333333333333333,
             "#9c179e"
            ],
            [
             0.4444444444444444,
             "#bd3786"
            ],
            [
             0.5555555555555556,
             "#d8576b"
            ],
            [
             0.6666666666666666,
             "#ed7953"
            ],
            [
             0.7777777777777778,
             "#fb9f3a"
            ],
            [
             0.8888888888888888,
             "#fdca26"
            ],
            [
             1,
             "#f0f921"
            ]
           ],
           "sequentialminus": [
            [
             0,
             "#0d0887"
            ],
            [
             0.1111111111111111,
             "#46039f"
            ],
            [
             0.2222222222222222,
             "#7201a8"
            ],
            [
             0.3333333333333333,
             "#9c179e"
            ],
            [
             0.4444444444444444,
             "#bd3786"
            ],
            [
             0.5555555555555556,
             "#d8576b"
            ],
            [
             0.6666666666666666,
             "#ed7953"
            ],
            [
             0.7777777777777778,
             "#fb9f3a"
            ],
            [
             0.8888888888888888,
             "#fdca26"
            ],
            [
             1,
             "#f0f921"
            ]
           ]
          },
          "colorway": [
           "#636efa",
           "#EF553B",
           "#00cc96",
           "#ab63fa",
           "#FFA15A",
           "#19d3f3",
           "#FF6692",
           "#B6E880",
           "#FF97FF",
           "#FECB52"
          ],
          "font": {
           "color": "#2a3f5f"
          },
          "geo": {
           "bgcolor": "white",
           "lakecolor": "white",
           "landcolor": "#E5ECF6",
           "showlakes": true,
           "showland": true,
           "subunitcolor": "white"
          },
          "hoverlabel": {
           "align": "left"
          },
          "hovermode": "closest",
          "mapbox": {
           "style": "light"
          },
          "paper_bgcolor": "white",
          "plot_bgcolor": "#E5ECF6",
          "polar": {
           "angularaxis": {
            "gridcolor": "white",
            "linecolor": "white",
            "ticks": ""
           },
           "bgcolor": "#E5ECF6",
           "radialaxis": {
            "gridcolor": "white",
            "linecolor": "white",
            "ticks": ""
           }
          },
          "scene": {
           "xaxis": {
            "backgroundcolor": "#E5ECF6",
            "gridcolor": "white",
            "gridwidth": 2,
            "linecolor": "white",
            "showbackground": true,
            "ticks": "",
            "zerolinecolor": "white"
           },
           "yaxis": {
            "backgroundcolor": "#E5ECF6",
            "gridcolor": "white",
            "gridwidth": 2,
            "linecolor": "white",
            "showbackground": true,
            "ticks": "",
            "zerolinecolor": "white"
           },
           "zaxis": {
            "backgroundcolor": "#E5ECF6",
            "gridcolor": "white",
            "gridwidth": 2,
            "linecolor": "white",
            "showbackground": true,
            "ticks": "",
            "zerolinecolor": "white"
           }
          },
          "shapedefaults": {
           "line": {
            "color": "#2a3f5f"
           }
          },
          "ternary": {
           "aaxis": {
            "gridcolor": "white",
            "linecolor": "white",
            "ticks": ""
           },
           "baxis": {
            "gridcolor": "white",
            "linecolor": "white",
            "ticks": ""
           },
           "bgcolor": "#E5ECF6",
           "caxis": {
            "gridcolor": "white",
            "linecolor": "white",
            "ticks": ""
           }
          },
          "title": {
           "x": 0.05
          },
          "xaxis": {
           "automargin": true,
           "gridcolor": "white",
           "linecolor": "white",
           "ticks": "",
           "title": {
            "standoff": 15
           },
           "zerolinecolor": "white",
           "zerolinewidth": 2
          },
          "yaxis": {
           "automargin": true,
           "gridcolor": "white",
           "linecolor": "white",
           "ticks": "",
           "title": {
            "standoff": 15
           },
           "zerolinecolor": "white",
           "zerolinewidth": 2
          }
         }
        },
        "title": {
         "text": "Training and Validation Loss"
        },
        "xaxis": {
         "anchor": "y",
         "domain": [
          0,
          1
         ],
         "title": {
          "text": "Epoch"
         }
        },
        "yaxis": {
         "anchor": "x",
         "domain": [
          0,
          1
         ],
         "title": {
          "text": "Loss"
         }
        }
       }
      }
     },
     "metadata": {},
     "output_type": "display_data"
    },
    {
     "data": {
      "application/vnd.plotly.v1+json": {
       "config": {
        "plotlyServerURL": "https://plot.ly"
       },
       "data": [
        {
         "hovertemplate": "variable=mae<br>Epoch=%{x}<br>MAE=%{y}<extra></extra>",
         "legendgroup": "mae",
         "line": {
          "color": "#636efa",
          "dash": "solid"
         },
         "marker": {
          "symbol": "circle"
         },
         "mode": "lines",
         "name": "mae",
         "orientation": "v",
         "showlegend": true,
         "type": "scatter",
         "x": [
          1,
          2,
          3,
          4,
          5,
          6,
          7,
          8,
          9,
          10,
          11,
          12,
          13,
          14,
          15,
          16,
          17,
          18,
          19,
          20,
          21,
          22,
          23,
          24,
          25,
          26,
          27,
          28,
          29,
          30,
          31,
          32,
          33,
          34,
          35,
          36,
          37,
          38,
          39,
          40,
          41,
          42,
          43,
          44,
          45,
          46,
          47,
          48,
          49,
          50,
          51,
          52,
          53,
          54,
          55,
          56,
          57,
          58,
          59,
          60,
          61,
          62,
          63,
          64,
          65,
          66,
          67,
          68,
          69,
          70,
          71,
          72,
          73,
          74,
          75,
          76,
          77,
          78,
          79,
          80,
          81,
          82,
          83,
          84,
          85,
          86,
          87,
          88,
          89,
          90,
          91,
          92,
          93,
          94,
          95
         ],
         "xaxis": "x",
         "y": [
          6.186924457550049,
          3.698604106903076,
          1.5018998384475708,
          0.5159883499145508,
          0.4094478189945221,
          0.38368913531303406,
          0.36731505393981934,
          0.3560259938240051,
          0.346703439950943,
          0.33959904313087463,
          0.33391162753105164,
          0.33039340376853943,
          0.32678505778312683,
          0.3227357864379883,
          0.3202730119228363,
          0.3169984817504883,
          0.31579405069351196,
          0.3132796287536621,
          0.312000572681427,
          0.3105401396751404,
          0.30905207991600037,
          0.3074115812778473,
          0.3071790337562561,
          0.30633482336997986,
          0.30428987741470337,
          0.30345791578292847,
          0.3025892376899719,
          0.30164194107055664,
          0.30065199732780457,
          0.29924553632736206,
          0.2994794547557831,
          0.29895275831222534,
          0.29821476340293884,
          0.29673266410827637,
          0.29713860154151917,
          0.2955203354358673,
          0.29513412714004517,
          0.29431071877479553,
          0.2947451174259186,
          0.29442328214645386,
          0.29249000549316406,
          0.2927972674369812,
          0.2923833131790161,
          0.2918623089790344,
          0.2917380630970001,
          0.2911703288555145,
          0.2906098961830139,
          0.29059037566185,
          0.29000720381736755,
          0.29018282890319824,
          0.29039695858955383,
          0.2897321581840515,
          0.28886890411376953,
          0.2886826992034912,
          0.2880611717700958,
          0.2878730893135071,
          0.28785404562950134,
          0.2874763309955597,
          0.2877601385116577,
          0.2873820662498474,
          0.28644904494285583,
          0.28638702630996704,
          0.28572192788124084,
          0.28653955459594727,
          0.2867964506149292,
          0.2859620749950409,
          0.2859133780002594,
          0.28528276085853577,
          0.2852309048175812,
          0.2850898504257202,
          0.28499943017959595,
          0.28434452414512634,
          0.28420156240463257,
          0.2837648093700409,
          0.28396210074424744,
          0.2836882770061493,
          0.28338339924812317,
          0.2829945981502533,
          0.2827865779399872,
          0.28296947479248047,
          0.28247886896133423,
          0.2827337980270386,
          0.2820776104927063,
          0.2828930616378784,
          0.28218355774879456,
          0.281975120306015,
          0.28257787227630615,
          0.2818962633609772,
          0.2813749611377716,
          0.2816474735736847,
          0.2813628315925598,
          0.2820294499397278,
          0.28084227442741394,
          0.2811237573623657,
          0.2809353470802307
         ],
         "yaxis": "y"
        },
        {
         "hovertemplate": "variable=val_mae<br>Epoch=%{x}<br>MAE=%{y}<extra></extra>",
         "legendgroup": "val_mae",
         "line": {
          "color": "#EF553B",
          "dash": "solid"
         },
         "marker": {
          "symbol": "circle"
         },
         "mode": "lines",
         "name": "val_mae",
         "orientation": "v",
         "showlegend": true,
         "type": "scatter",
         "x": [
          1,
          2,
          3,
          4,
          5,
          6,
          7,
          8,
          9,
          10,
          11,
          12,
          13,
          14,
          15,
          16,
          17,
          18,
          19,
          20,
          21,
          22,
          23,
          24,
          25,
          26,
          27,
          28,
          29,
          30,
          31,
          32,
          33,
          34,
          35,
          36,
          37,
          38,
          39,
          40,
          41,
          42,
          43,
          44,
          45,
          46,
          47,
          48,
          49,
          50,
          51,
          52,
          53,
          54,
          55,
          56,
          57,
          58,
          59,
          60,
          61,
          62,
          63,
          64,
          65,
          66,
          67,
          68,
          69,
          70,
          71,
          72,
          73,
          74,
          75,
          76,
          77,
          78,
          79,
          80,
          81,
          82,
          83,
          84,
          85,
          86,
          87,
          88,
          89,
          90,
          91,
          92,
          93,
          94,
          95
         ],
         "xaxis": "x",
         "y": [
          4.9991865158081055,
          2.5113584995269775,
          0.6973532438278198,
          0.3674371540546417,
          0.3412013053894043,
          0.32707053422927856,
          0.32129350304603577,
          0.31876030564308167,
          0.309590607881546,
          0.3120301365852356,
          0.31546175479888916,
          0.30319100618362427,
          0.30207559466362,
          0.2996130585670471,
          0.3020212650299072,
          0.29923564195632935,
          0.3069973587989807,
          0.30733978748321533,
          0.30021172761917114,
          0.29771488904953003,
          0.29415297508239746,
          0.3049875795841217,
          0.2927217185497284,
          0.29316115379333496,
          0.3017672002315521,
          0.2966483235359192,
          0.30213114619255066,
          0.29427284002304077,
          0.3018350899219513,
          0.3032071590423584,
          0.3013227581977844,
          0.30243465304374695,
          0.29097554087638855,
          0.2920827567577362,
          0.3009409010410309,
          0.2929995059967041,
          0.3044843077659607,
          0.29376864433288574,
          0.3002462387084961,
          0.2916146516799927,
          0.2986152470111847,
          0.28975459933280945,
          0.29308024048805237,
          0.29482805728912354,
          0.30209964513778687,
          0.29683423042297363,
          0.29984280467033386,
          0.3077843189239502,
          0.30193737149238586,
          0.2973693609237671,
          0.30409350991249084,
          0.2978813946247101,
          0.29167529940605164,
          0.296063095331192,
          0.28832393884658813,
          0.29816755652427673,
          0.30773839354515076,
          0.29311782121658325,
          0.2939915359020233,
          0.29306331276893616,
          0.30178022384643555,
          0.29072821140289307,
          0.29537928104400635,
          0.29230162501335144,
          0.29365968704223633,
          0.2930959463119507,
          0.2955472767353058,
          0.30181559920310974,
          0.30180805921554565,
          0.284787118434906,
          0.29457318782806396,
          0.29874056577682495,
          0.289010226726532,
          0.2985398769378662,
          0.29008394479751587,
          0.28787747025489807,
          0.28760942816734314,
          0.294766366481781,
          0.2939583957195282,
          0.30308327078819275,
          0.3032538890838623,
          0.2962503433227539,
          0.28805363178253174,
          0.299251914024353,
          0.2920098304748535,
          0.2959144711494446,
          0.2964852452278137,
          0.295780748128891,
          0.28396496176719666,
          0.29588693380355835,
          0.2975470721721649,
          0.29191118478775024,
          0.28930890560150146,
          0.29796192049980164,
          0.29191887378692627
         ],
         "yaxis": "y"
        }
       ],
       "layout": {
        "legend": {
         "title": {
          "text": "variable"
         },
         "tracegroupgap": 0
        },
        "template": {
         "data": {
          "bar": [
           {
            "error_x": {
             "color": "#2a3f5f"
            },
            "error_y": {
             "color": "#2a3f5f"
            },
            "marker": {
             "line": {
              "color": "#E5ECF6",
              "width": 0.5
             },
             "pattern": {
              "fillmode": "overlay",
              "size": 10,
              "solidity": 0.2
             }
            },
            "type": "bar"
           }
          ],
          "barpolar": [
           {
            "marker": {
             "line": {
              "color": "#E5ECF6",
              "width": 0.5
             },
             "pattern": {
              "fillmode": "overlay",
              "size": 10,
              "solidity": 0.2
             }
            },
            "type": "barpolar"
           }
          ],
          "carpet": [
           {
            "aaxis": {
             "endlinecolor": "#2a3f5f",
             "gridcolor": "white",
             "linecolor": "white",
             "minorgridcolor": "white",
             "startlinecolor": "#2a3f5f"
            },
            "baxis": {
             "endlinecolor": "#2a3f5f",
             "gridcolor": "white",
             "linecolor": "white",
             "minorgridcolor": "white",
             "startlinecolor": "#2a3f5f"
            },
            "type": "carpet"
           }
          ],
          "choropleth": [
           {
            "colorbar": {
             "outlinewidth": 0,
             "ticks": ""
            },
            "type": "choropleth"
           }
          ],
          "contour": [
           {
            "colorbar": {
             "outlinewidth": 0,
             "ticks": ""
            },
            "colorscale": [
             [
              0,
              "#0d0887"
             ],
             [
              0.1111111111111111,
              "#46039f"
             ],
             [
              0.2222222222222222,
              "#7201a8"
             ],
             [
              0.3333333333333333,
              "#9c179e"
             ],
             [
              0.4444444444444444,
              "#bd3786"
             ],
             [
              0.5555555555555556,
              "#d8576b"
             ],
             [
              0.6666666666666666,
              "#ed7953"
             ],
             [
              0.7777777777777778,
              "#fb9f3a"
             ],
             [
              0.8888888888888888,
              "#fdca26"
             ],
             [
              1,
              "#f0f921"
             ]
            ],
            "type": "contour"
           }
          ],
          "contourcarpet": [
           {
            "colorbar": {
             "outlinewidth": 0,
             "ticks": ""
            },
            "type": "contourcarpet"
           }
          ],
          "heatmap": [
           {
            "colorbar": {
             "outlinewidth": 0,
             "ticks": ""
            },
            "colorscale": [
             [
              0,
              "#0d0887"
             ],
             [
              0.1111111111111111,
              "#46039f"
             ],
             [
              0.2222222222222222,
              "#7201a8"
             ],
             [
              0.3333333333333333,
              "#9c179e"
             ],
             [
              0.4444444444444444,
              "#bd3786"
             ],
             [
              0.5555555555555556,
              "#d8576b"
             ],
             [
              0.6666666666666666,
              "#ed7953"
             ],
             [
              0.7777777777777778,
              "#fb9f3a"
             ],
             [
              0.8888888888888888,
              "#fdca26"
             ],
             [
              1,
              "#f0f921"
             ]
            ],
            "type": "heatmap"
           }
          ],
          "heatmapgl": [
           {
            "colorbar": {
             "outlinewidth": 0,
             "ticks": ""
            },
            "colorscale": [
             [
              0,
              "#0d0887"
             ],
             [
              0.1111111111111111,
              "#46039f"
             ],
             [
              0.2222222222222222,
              "#7201a8"
             ],
             [
              0.3333333333333333,
              "#9c179e"
             ],
             [
              0.4444444444444444,
              "#bd3786"
             ],
             [
              0.5555555555555556,
              "#d8576b"
             ],
             [
              0.6666666666666666,
              "#ed7953"
             ],
             [
              0.7777777777777778,
              "#fb9f3a"
             ],
             [
              0.8888888888888888,
              "#fdca26"
             ],
             [
              1,
              "#f0f921"
             ]
            ],
            "type": "heatmapgl"
           }
          ],
          "histogram": [
           {
            "marker": {
             "pattern": {
              "fillmode": "overlay",
              "size": 10,
              "solidity": 0.2
             }
            },
            "type": "histogram"
           }
          ],
          "histogram2d": [
           {
            "colorbar": {
             "outlinewidth": 0,
             "ticks": ""
            },
            "colorscale": [
             [
              0,
              "#0d0887"
             ],
             [
              0.1111111111111111,
              "#46039f"
             ],
             [
              0.2222222222222222,
              "#7201a8"
             ],
             [
              0.3333333333333333,
              "#9c179e"
             ],
             [
              0.4444444444444444,
              "#bd3786"
             ],
             [
              0.5555555555555556,
              "#d8576b"
             ],
             [
              0.6666666666666666,
              "#ed7953"
             ],
             [
              0.7777777777777778,
              "#fb9f3a"
             ],
             [
              0.8888888888888888,
              "#fdca26"
             ],
             [
              1,
              "#f0f921"
             ]
            ],
            "type": "histogram2d"
           }
          ],
          "histogram2dcontour": [
           {
            "colorbar": {
             "outlinewidth": 0,
             "ticks": ""
            },
            "colorscale": [
             [
              0,
              "#0d0887"
             ],
             [
              0.1111111111111111,
              "#46039f"
             ],
             [
              0.2222222222222222,
              "#7201a8"
             ],
             [
              0.3333333333333333,
              "#9c179e"
             ],
             [
              0.4444444444444444,
              "#bd3786"
             ],
             [
              0.5555555555555556,
              "#d8576b"
             ],
             [
              0.6666666666666666,
              "#ed7953"
             ],
             [
              0.7777777777777778,
              "#fb9f3a"
             ],
             [
              0.8888888888888888,
              "#fdca26"
             ],
             [
              1,
              "#f0f921"
             ]
            ],
            "type": "histogram2dcontour"
           }
          ],
          "mesh3d": [
           {
            "colorbar": {
             "outlinewidth": 0,
             "ticks": ""
            },
            "type": "mesh3d"
           }
          ],
          "parcoords": [
           {
            "line": {
             "colorbar": {
              "outlinewidth": 0,
              "ticks": ""
             }
            },
            "type": "parcoords"
           }
          ],
          "pie": [
           {
            "automargin": true,
            "type": "pie"
           }
          ],
          "scatter": [
           {
            "marker": {
             "colorbar": {
              "outlinewidth": 0,
              "ticks": ""
             }
            },
            "type": "scatter"
           }
          ],
          "scatter3d": [
           {
            "line": {
             "colorbar": {
              "outlinewidth": 0,
              "ticks": ""
             }
            },
            "marker": {
             "colorbar": {
              "outlinewidth": 0,
              "ticks": ""
             }
            },
            "type": "scatter3d"
           }
          ],
          "scattercarpet": [
           {
            "marker": {
             "colorbar": {
              "outlinewidth": 0,
              "ticks": ""
             }
            },
            "type": "scattercarpet"
           }
          ],
          "scattergeo": [
           {
            "marker": {
             "colorbar": {
              "outlinewidth": 0,
              "ticks": ""
             }
            },
            "type": "scattergeo"
           }
          ],
          "scattergl": [
           {
            "marker": {
             "colorbar": {
              "outlinewidth": 0,
              "ticks": ""
             }
            },
            "type": "scattergl"
           }
          ],
          "scattermapbox": [
           {
            "marker": {
             "colorbar": {
              "outlinewidth": 0,
              "ticks": ""
             }
            },
            "type": "scattermapbox"
           }
          ],
          "scatterpolar": [
           {
            "marker": {
             "colorbar": {
              "outlinewidth": 0,
              "ticks": ""
             }
            },
            "type": "scatterpolar"
           }
          ],
          "scatterpolargl": [
           {
            "marker": {
             "colorbar": {
              "outlinewidth": 0,
              "ticks": ""
             }
            },
            "type": "scatterpolargl"
           }
          ],
          "scatterternary": [
           {
            "marker": {
             "colorbar": {
              "outlinewidth": 0,
              "ticks": ""
             }
            },
            "type": "scatterternary"
           }
          ],
          "surface": [
           {
            "colorbar": {
             "outlinewidth": 0,
             "ticks": ""
            },
            "colorscale": [
             [
              0,
              "#0d0887"
             ],
             [
              0.1111111111111111,
              "#46039f"
             ],
             [
              0.2222222222222222,
              "#7201a8"
             ],
             [
              0.3333333333333333,
              "#9c179e"
             ],
             [
              0.4444444444444444,
              "#bd3786"
             ],
             [
              0.5555555555555556,
              "#d8576b"
             ],
             [
              0.6666666666666666,
              "#ed7953"
             ],
             [
              0.7777777777777778,
              "#fb9f3a"
             ],
             [
              0.8888888888888888,
              "#fdca26"
             ],
             [
              1,
              "#f0f921"
             ]
            ],
            "type": "surface"
           }
          ],
          "table": [
           {
            "cells": {
             "fill": {
              "color": "#EBF0F8"
             },
             "line": {
              "color": "white"
             }
            },
            "header": {
             "fill": {
              "color": "#C8D4E3"
             },
             "line": {
              "color": "white"
             }
            },
            "type": "table"
           }
          ]
         },
         "layout": {
          "annotationdefaults": {
           "arrowcolor": "#2a3f5f",
           "arrowhead": 0,
           "arrowwidth": 1
          },
          "autotypenumbers": "strict",
          "coloraxis": {
           "colorbar": {
            "outlinewidth": 0,
            "ticks": ""
           }
          },
          "colorscale": {
           "diverging": [
            [
             0,
             "#8e0152"
            ],
            [
             0.1,
             "#c51b7d"
            ],
            [
             0.2,
             "#de77ae"
            ],
            [
             0.3,
             "#f1b6da"
            ],
            [
             0.4,
             "#fde0ef"
            ],
            [
             0.5,
             "#f7f7f7"
            ],
            [
             0.6,
             "#e6f5d0"
            ],
            [
             0.7,
             "#b8e186"
            ],
            [
             0.8,
             "#7fbc41"
            ],
            [
             0.9,
             "#4d9221"
            ],
            [
             1,
             "#276419"
            ]
           ],
           "sequential": [
            [
             0,
             "#0d0887"
            ],
            [
             0.1111111111111111,
             "#46039f"
            ],
            [
             0.2222222222222222,
             "#7201a8"
            ],
            [
             0.3333333333333333,
             "#9c179e"
            ],
            [
             0.4444444444444444,
             "#bd3786"
            ],
            [
             0.5555555555555556,
             "#d8576b"
            ],
            [
             0.6666666666666666,
             "#ed7953"
            ],
            [
             0.7777777777777778,
             "#fb9f3a"
            ],
            [
             0.8888888888888888,
             "#fdca26"
            ],
            [
             1,
             "#f0f921"
            ]
           ],
           "sequentialminus": [
            [
             0,
             "#0d0887"
            ],
            [
             0.1111111111111111,
             "#46039f"
            ],
            [
             0.2222222222222222,
             "#7201a8"
            ],
            [
             0.3333333333333333,
             "#9c179e"
            ],
            [
             0.4444444444444444,
             "#bd3786"
            ],
            [
             0.5555555555555556,
             "#d8576b"
            ],
            [
             0.6666666666666666,
             "#ed7953"
            ],
            [
             0.7777777777777778,
             "#fb9f3a"
            ],
            [
             0.8888888888888888,
             "#fdca26"
            ],
            [
             1,
             "#f0f921"
            ]
           ]
          },
          "colorway": [
           "#636efa",
           "#EF553B",
           "#00cc96",
           "#ab63fa",
           "#FFA15A",
           "#19d3f3",
           "#FF6692",
           "#B6E880",
           "#FF97FF",
           "#FECB52"
          ],
          "font": {
           "color": "#2a3f5f"
          },
          "geo": {
           "bgcolor": "white",
           "lakecolor": "white",
           "landcolor": "#E5ECF6",
           "showlakes": true,
           "showland": true,
           "subunitcolor": "white"
          },
          "hoverlabel": {
           "align": "left"
          },
          "hovermode": "closest",
          "mapbox": {
           "style": "light"
          },
          "paper_bgcolor": "white",
          "plot_bgcolor": "#E5ECF6",
          "polar": {
           "angularaxis": {
            "gridcolor": "white",
            "linecolor": "white",
            "ticks": ""
           },
           "bgcolor": "#E5ECF6",
           "radialaxis": {
            "gridcolor": "white",
            "linecolor": "white",
            "ticks": ""
           }
          },
          "scene": {
           "xaxis": {
            "backgroundcolor": "#E5ECF6",
            "gridcolor": "white",
            "gridwidth": 2,
            "linecolor": "white",
            "showbackground": true,
            "ticks": "",
            "zerolinecolor": "white"
           },
           "yaxis": {
            "backgroundcolor": "#E5ECF6",
            "gridcolor": "white",
            "gridwidth": 2,
            "linecolor": "white",
            "showbackground": true,
            "ticks": "",
            "zerolinecolor": "white"
           },
           "zaxis": {
            "backgroundcolor": "#E5ECF6",
            "gridcolor": "white",
            "gridwidth": 2,
            "linecolor": "white",
            "showbackground": true,
            "ticks": "",
            "zerolinecolor": "white"
           }
          },
          "shapedefaults": {
           "line": {
            "color": "#2a3f5f"
           }
          },
          "ternary": {
           "aaxis": {
            "gridcolor": "white",
            "linecolor": "white",
            "ticks": ""
           },
           "baxis": {
            "gridcolor": "white",
            "linecolor": "white",
            "ticks": ""
           },
           "bgcolor": "#E5ECF6",
           "caxis": {
            "gridcolor": "white",
            "linecolor": "white",
            "ticks": ""
           }
          },
          "title": {
           "x": 0.05
          },
          "xaxis": {
           "automargin": true,
           "gridcolor": "white",
           "linecolor": "white",
           "ticks": "",
           "title": {
            "standoff": 15
           },
           "zerolinecolor": "white",
           "zerolinewidth": 2
          },
          "yaxis": {
           "automargin": true,
           "gridcolor": "white",
           "linecolor": "white",
           "ticks": "",
           "title": {
            "standoff": 15
           },
           "zerolinecolor": "white",
           "zerolinewidth": 2
          }
         }
        },
        "title": {
         "text": "Training and Validation MAE"
        },
        "xaxis": {
         "anchor": "y",
         "domain": [
          0,
          1
         ],
         "title": {
          "text": "Epoch"
         }
        },
        "yaxis": {
         "anchor": "x",
         "domain": [
          0,
          1
         ],
         "title": {
          "text": "MAE"
         }
        }
       }
      }
     },
     "metadata": {},
     "output_type": "display_data"
    }
   ],
   "source": [
    "import plotly.express as px\n",
    "import pandas as pd\n",
    "\n",
    "df_graph = pd.DataFrame(history.history)\n",
    "\n",
    "fig = px.line(df_graph, x=df_graph.index+1, y=['loss', 'val_loss'], labels={'x':'Epoch', 'value':'Loss'},\n",
    "              title='Training and Validation Loss')\n",
    "fig.update_traces(mode='lines')\n",
    "fig.show()\n",
    "\n",
    "fig = px.line(df_graph, x=df_graph.index+1, y=['mae', 'val_mae'], labels={'x':'Epoch', 'value':'MAE'},\n",
    "              title='Training and Validation MAE')\n",
    "fig.update_traces(mode='lines')\n",
    "fig.show()"
   ]
  },
  {
   "cell_type": "code",
   "execution_count": 14,
   "metadata": {},
   "outputs": [
    {
     "data": {
      "image/png": "[encoded data removed]",
      "text/plain": [
       "<Figure size 432x288 with 1 Axes>"
      ]
     },
     "metadata": {
      "needs_background": "light"
     },
     "output_type": "display_data"
    }
   ],
   "source": [
    "residuals = y_test - predictions.flatten()\n",
    "\n",
    "plt.scatter(y_test, residuals, )\n",
    "plt.xlabel('Actual Values')\n",
    "plt.ylabel('Residuals')\n",
    "plt.title('Residual Plot')\n",
    "plt.show()"
   ]
  },
  {
   "cell_type": "code",
   "execution_count": 15,
   "metadata": {},
   "outputs": [
    {
     "data": {
      "image/png": "[encoded data removed]",
      "text/plain": [
       "<Figure size 720x432 with 1 Axes>"
      ]
     },
     "metadata": {
      "needs_background": "light"
     },
     "output_type": "display_data"
    }
   ],
   "source": [
    "import matplotlib.pyplot as plt\n",
    "import seaborn as sns\n",
    "import numpy as np\n",
    "\n",
    "enmax_palette = [\"#ff7f0e\", \"#1f77b4\"]\n",
    "color_codes_wanted = ['orange', 'blue']\n",
    "\n",
    "c = lambda x: enmax_palette[color_codes_wanted.index(x)]\n",
    "plt.figure(figsize=(10, 6))\n",
    "\n",
    "\n",
    "ax1 = sns.kdeplot(y_test, color='r', label=\"Actual Value\")\n",
    "sns.kdeplot(predictions.flatten(), color='b', label=\"Fitted Values\" , ax=ax1)\n",
    "\n",
    "\n",
    "plt.title('Actual vs Fitted Values for Price')\n",
    "plt.xlabel('Price (in Euro)')\n",
    "plt.ylabel('Proportion of Cars')\n",
    "ax1.legend()\n",
    "plt.show()\n",
    "plt.close()"
   ]
  },
  {
   "cell_type": "code",
   "execution_count": 16,
   "metadata": {},
   "outputs": [
    {
     "data": {
      "image/png": "[encoded data removed]",
      "text/plain": [
       "<Figure size 576x432 with 1 Axes>"
      ]
     },
     "metadata": {
      "needs_background": "light"
     },
     "output_type": "display_data"
    }
   ],
   "source": [
    "residuals = y_test - predictions.flatten()\n",
    "plt.figure(figsize=(8, 6))\n",
    "sns.histplot(x=residuals, kde=True)\n",
    "plt.xlabel('Residuals')\n",
    "plt.title('Distribution of Residuals')\n",
    "plt.show()"
   ]
  },
  {
   "cell_type": "code",
   "execution_count": 18,
   "metadata": {},
   "outputs": [
    {
     "data": {
      "image/png": "[encoded data removed]",
      "text/plain": [
       "<Figure size 432x288 with 1 Axes>"
      ]
     },
     "metadata": {
      "needs_background": "light"
     },
     "output_type": "display_data"
    }
   ],
   "source": [
    "import matplotlib.pyplot as plt\n",
    "\n",
    "plt.scatter(residuals,predictions.flatten())\n",
    "\n",
    "plt.show()"
   ]
  },
  {
   "cell_type": "code",
   "execution_count": 19,
   "metadata": {},
   "outputs": [
    {
     "data": {
      "image/png": "[encoded data removed]",
      "text/plain": [
       "<Figure size 432x432 with 1 Axes>"
      ]
     },
     "metadata": {
      "needs_background": "light"
     },
     "output_type": "display_data"
    }
   ],
   "source": [
    "plt.figure(figsize=(6,6))\n",
    "plt.scatter(y_test, predictions.flatten(), c='r')\n",
    "\n",
    "p1 = max(max(predictions.flatten()), max(y_test))\n",
    "p2 = min(min(predictions.flatten()), min(y_test))\n",
    "plt.plot([p1, p2], [p1, p2], 'b-')\n",
    "plt.xlabel('Actual')\n",
    "plt.ylabel('Predicted')\n",
    "plt.axis('equal')\n",
    "plt.show()"
   ]
  },
  {
   "cell_type": "code",
   "execution_count": 20,
   "metadata": {},
   "outputs": [
    {
     "data": {
      "image/png": "[encoded data removed]",
      "text/plain": [
       "<Figure size 720x720 with 1 Axes>"
      ]
     },
     "metadata": {
      "needs_background": "light"
     },
     "output_type": "display_data"
    }
   ],
   "source": [
    "plt.figure(figsize=(10,10))\n",
    "plt.scatter(y_test, predictions.flatten(), c='crimson')\n",
    "\n",
    "p1 = max(max(predictions.flatten()), max(y_test))\n",
    "p2 = min(min(predictions.flatten()), min(y_test))\n",
    "plt.plot([p1, p2], [p1, p2], 'b-')\n",
    "plt.xlabel('Actual', fontsize=15)\n",
    "plt.ylabel('Predictions', fontsize=15)\n",
    "plt.axis('equal')\n",
    "plt.show()"
   ]
  }
 ],
 "metadata": {
  "kernelspec": {
   "display_name": "base",
   "language": "python",
   "name": "python3"
  },
  "language_info": {
   "codemirror_mode": {
    "name": "ipython",
    "version": 3
   },
   "file_extension": ".py",
   "mimetype": "text/x-python",
   "name": "python",
   "nbconvert_exporter": "python",
   "pygments_lexer": "ipython3",
   "version": "3.9.12"
  },
  "orig_nbformat": 4,
  "vscode": {
   "interpreter": {
    "hash": "8891f3cfb547db503e78f25128202364d60f1c09259e140a1bd236c27b0b7a43"
   }
  }
 },
 "nbformat": 4,
 "nbformat_minor": 2
}
