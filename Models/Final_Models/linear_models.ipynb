{
 "cells": [
  {
   "cell_type": "code",
   "execution_count": 1,
   "metadata": {},
   "outputs": [],
   "source": [
    "import pandas as pd\n",
    "import numpy as np\n",
    "from sklearn.linear_model import LinearRegression, Ridge, Lasso\n",
    "from sklearn.model_selection import train_test_split\n",
    "from sklearn.model_selection import train_test_split, cross_val_score\n",
    "from sklearn.metrics import mean_squared_error, r2_score,mean_absolute_error\n",
    "import random\n",
    "\n",
    "\n",
    "\n",
    "from sklearn.tree import DecisionTreeRegressor\n",
    "from sklearn.ensemble import RandomForestRegressor, GradientBoostingRegressor, AdaBoostRegressor\n",
    "from sklearn.svm import SVR\n",
    "\n",
    "from xgboost import XGBRegressor\n",
    "\n",
    "import plotly.express as px\n",
    "import matplotlib.pyplot as plt\n",
    "from sklearn.metrics import plot_confusion_matrix, plot_roc_curve, plot_precision_recall_curve\n",
    "\n",
    "from math import sqrt"
   ]
  },
  {
   "cell_type": "code",
   "execution_count": 2,
   "metadata": {},
   "outputs": [
    {
     "name": "stdout",
     "output_type": "stream",
     "text": [
      "Index(['seller', 'offerType', 'price', 'abtest', 'gearbox', 'powerPS',\n",
      "       'kilometer', 'notRepairedDamage', 'vehicleType.andere',\n",
      "       'vehicleType.bus',\n",
      "       ...\n",
      "       'model.yeti', 'model.ypsilon', 'model.z_reihe', 'model.zafira',\n",
      "       'year_range.[1991, 1996)', 'year_range.[1996, 2001)',\n",
      "       'year_range.[2001, 2006)', 'year_range.[2006, 2011)',\n",
      "       'year_range.[2011, 2016)', 'year_range.[2016, 2021)'],\n",
      "      dtype='object', length=313)\n"
     ]
    }
   ],
   "source": [
    "# Loading the dataset\n",
    "df = pd.read_csv(\"../../Dataset/cleaned_used_cars_v3.csv\")\n",
    "print(df.columns)\n"
   ]
  },
  {
   "cell_type": "code",
   "execution_count": 3,
   "metadata": {},
   "outputs": [],
   "source": [
    "X = df.drop(['price'], axis=1)\n",
    "y = df['price']\n",
    "# Splitting the dataset into train and test sets\n",
    "X_train, X_test, y_train, y_test = train_test_split(X, y, test_size=0.2, random_state=42)"
   ]
  },
  {
   "cell_type": "code",
   "execution_count": 9,
   "metadata": {},
   "outputs": [],
   "source": [
    "models = {\n",
    "    \"Linear Regressor\":LinearRegression(),\n",
    "    \"Ridge Regressor\":Ridge(.0001),\n",
    "\n",
    "}"
   ]
  },
  {
   "cell_type": "code",
   "execution_count": 10,
   "metadata": {},
   "outputs": [
    {
     "name": "stdout",
     "output_type": "stream",
     "text": [
      "Linear Regressor: Mean squared error: 0.003066635258874616, R-squared value: 0.7805515217680901\n",
      "mean_absolute_error =  0.04023987693837992\n",
      "R2 score is  0.7805515217680901\n",
      "mean_squared_error is  0.003066635258874616\n",
      "Root mean squared error: 0.05537720883968978\n",
      "Sample of predicted and actual prices:\n",
      "Predicted price: 2.102360725402832, Actual price: 2.1179272289544824\n",
      "Predicted price: 2.278902530670166, Actual price: 2.264955957558561\n",
      "Predicted price: 2.257345199584961, Actual price: 2.312708916871605\n",
      "Predicted price: 2.0802364349365234, Actual price: 2.1179272289544824\n",
      "Predicted price: 2.3527674674987793, Actual price: 2.365427987015708\n",
      "Cross-validation scores for Linear Regressor: [5.51669481e-02 5.62018850e-02 9.24967582e+00 1.18529300e+08\n",
      " 5.58054347e-02], Mean RMSE: 53007914.27594136\n",
      "\n",
      "Ridge Regressor: Mean squared error: 0.0030666252541725635, R-squared value: 0.7805522377047618\n",
      "mean_absolute_error =  0.04024121036586947\n",
      "R2 score is  0.7805522377047618\n",
      "mean_squared_error is  0.0030666252541725635\n",
      "Root mean squared error: 0.05537711850730917\n",
      "Sample of predicted and actual prices:\n",
      "Predicted price: 2.1273679944470048, Actual price: 2.1167184468230724\n",
      "Predicted price: 2.229676611037706, Actual price: 2.1977836815235747\n",
      "Predicted price: 2.461240168961369, Actual price: 2.365427987015708\n",
      "Predicted price: 2.274661252199487, Actual price: 2.2948208591406103\n",
      "Predicted price: 2.332256301134871, Actual price: 2.361085108848043\n",
      "Cross-validation scores for Ridge Regressor: [0.05516604 0.05620177 0.05596377 0.05555708 0.05580546], Mean RMSE: 0.055739954129679595\n",
      "\n"
     ]
    }
   ],
   "source": [
    "# Looping through each model, fitting it to the training data, and evaluating its performance\n",
    "for name, model in models.items():\n",
    "    # Fitting the model to the training data\n",
    "    history=model.fit(X_train, y_train)\n",
    "    \n",
    "    # Making predictions on the test set\n",
    "    y_pred = model.predict(X_test)\n",
    "    \n",
    "    # Evaluating the model's performance using mean squared error and R-squared value\n",
    "    mse = mean_squared_error(y_test, y_pred)\n",
    "    r2 = r2_score(y_test, y_pred)\n",
    "    print(f\"{name}: Mean squared error: {mse}, R-squared value: {r2}\")\n",
    "    print('mean_absolute_error = ', mean_absolute_error(y_test,y_pred))\n",
    "    print('R2 score is ',r2_score(y_test, y_pred))\n",
    "    print('mean_squared_error is ', mean_squared_error(y_test, y_pred))\n",
    "    rmse = sqrt(mse)\n",
    "    print('Root mean squared error:', rmse)\n",
    "     # Printing a sample of predicted and actual prices\n",
    "    print(\"Sample of predicted and actual prices:\")\n",
    "    sample_indices = random.sample(range(len(y_test)), 5)\n",
    "    for i in sample_indices:\n",
    "        print(f\"Predicted price: {y_pred[i]}, Actual price: {y_test.iloc[i]}\")\n",
    "        \n",
    "\n",
    "    # Evaluating the model's performance using cross-validation\n",
    "    scores = cross_val_score(model, X, y, cv=5, scoring=\"neg_mean_squared_error\")\n",
    "    print(f\"Cross-validation scores for {name}: {np.sqrt(-scores)}, Mean RMSE: {np.sqrt(-scores.mean())}\\n\")"
   ]
  },
  {
   "cell_type": "code",
   "execution_count": 6,
   "metadata": {},
   "outputs": [
    {
     "data": {
      "text/html": [
       "<style>#sk-container-id-1 {color: black;background-color: white;}#sk-container-id-1 pre{padding: 0;}#sk-container-id-1 div.sk-toggleable {background-color: white;}#sk-container-id-1 label.sk-toggleable__label {cursor: pointer;display: block;width: 100%;margin-bottom: 0;padding: 0.3em;box-sizing: border-box;text-align: center;}#sk-container-id-1 label.sk-toggleable__label-arrow:before {content: \"▸\";float: left;margin-right: 0.25em;color: #696969;}#sk-container-id-1 label.sk-toggleable__label-arrow:hover:before {color: black;}#sk-container-id-1 div.sk-estimator:hover label.sk-toggleable__label-arrow:before {color: black;}#sk-container-id-1 div.sk-toggleable__content {max-height: 0;max-width: 0;overflow: hidden;text-align: left;background-color: #f0f8ff;}#sk-container-id-1 div.sk-toggleable__content pre {margin: 0.2em;color: black;border-radius: 0.25em;background-color: #f0f8ff;}#sk-container-id-1 input.sk-toggleable__control:checked~div.sk-toggleable__content {max-height: 200px;max-width: 100%;overflow: auto;}#sk-container-id-1 input.sk-toggleable__control:checked~label.sk-toggleable__label-arrow:before {content: \"▾\";}#sk-container-id-1 div.sk-estimator input.sk-toggleable__control:checked~label.sk-toggleable__label {background-color: #d4ebff;}#sk-container-id-1 div.sk-label input.sk-toggleable__control:checked~label.sk-toggleable__label {background-color: #d4ebff;}#sk-container-id-1 input.sk-hidden--visually {border: 0;clip: rect(1px 1px 1px 1px);clip: rect(1px, 1px, 1px, 1px);height: 1px;margin: -1px;overflow: hidden;padding: 0;position: absolute;width: 1px;}#sk-container-id-1 div.sk-estimator {font-family: monospace;background-color: #f0f8ff;border: 1px dotted black;border-radius: 0.25em;box-sizing: border-box;margin-bottom: 0.5em;}#sk-container-id-1 div.sk-estimator:hover {background-color: #d4ebff;}#sk-container-id-1 div.sk-parallel-item::after {content: \"\";width: 100%;border-bottom: 1px solid gray;flex-grow: 1;}#sk-container-id-1 div.sk-label:hover label.sk-toggleable__label {background-color: #d4ebff;}#sk-container-id-1 div.sk-serial::before {content: \"\";position: absolute;border-left: 1px solid gray;box-sizing: border-box;top: 0;bottom: 0;left: 50%;z-index: 0;}#sk-container-id-1 div.sk-serial {display: flex;flex-direction: column;align-items: center;background-color: white;padding-right: 0.2em;padding-left: 0.2em;position: relative;}#sk-container-id-1 div.sk-item {position: relative;z-index: 1;}#sk-container-id-1 div.sk-parallel {display: flex;align-items: stretch;justify-content: center;background-color: white;position: relative;}#sk-container-id-1 div.sk-item::before, #sk-container-id-1 div.sk-parallel-item::before {content: \"\";position: absolute;border-left: 1px solid gray;box-sizing: border-box;top: 0;bottom: 0;left: 50%;z-index: -1;}#sk-container-id-1 div.sk-parallel-item {display: flex;flex-direction: column;z-index: 1;position: relative;background-color: white;}#sk-container-id-1 div.sk-parallel-item:first-child::after {align-self: flex-end;width: 50%;}#sk-container-id-1 div.sk-parallel-item:last-child::after {align-self: flex-start;width: 50%;}#sk-container-id-1 div.sk-parallel-item:only-child::after {width: 0;}#sk-container-id-1 div.sk-dashed-wrapped {border: 1px dashed gray;margin: 0 0.4em 0.5em 0.4em;box-sizing: border-box;padding-bottom: 0.4em;background-color: white;}#sk-container-id-1 div.sk-label label {font-family: monospace;font-weight: bold;display: inline-block;line-height: 1.2em;}#sk-container-id-1 div.sk-label-container {text-align: center;}#sk-container-id-1 div.sk-container {/* jupyter's `normalize.less` sets `[hidden] { display: none; }` but bootstrap.min.css set `[hidden] { display: none !important; }` so we also need the `!important` here to be able to override the default hidden behavior on the sphinx rendered scikit-learn.org. See: https://github.com/scikit-learn/scikit-learn/issues/21755 */display: inline-block !important;position: relative;}#sk-container-id-1 div.sk-text-repr-fallback {display: none;}</style><div id=\"sk-container-id-1\" class=\"sk-top-container\"><div class=\"sk-text-repr-fallback\"><pre>RidgeCV(alphas=array([1.e-06, 1.e-05, 1.e-04, 1.e-03, 1.e-02, 1.e-01, 1.e+00, 1.e+01,\n",
       "       1.e+02, 1.e+03, 1.e+04, 1.e+05, 1.e+06]))</pre><b>In a Jupyter environment, please rerun this cell to show the HTML representation or trust the notebook. <br />On GitHub, the HTML representation is unable to render, please try loading this page with nbviewer.org.</b></div><div class=\"sk-container\" hidden><div class=\"sk-item\"><div class=\"sk-estimator sk-toggleable\"><input class=\"sk-toggleable__control sk-hidden--visually\" id=\"sk-estimator-id-1\" type=\"checkbox\" checked><label for=\"sk-estimator-id-1\" class=\"sk-toggleable__label sk-toggleable__label-arrow\">RidgeCV</label><div class=\"sk-toggleable__content\"><pre>RidgeCV(alphas=array([1.e-06, 1.e-05, 1.e-04, 1.e-03, 1.e-02, 1.e-01, 1.e+00, 1.e+01,\n",
       "       1.e+02, 1.e+03, 1.e+04, 1.e+05, 1.e+06]))</pre></div></div></div></div></div>"
      ],
      "text/plain": [
       "RidgeCV(alphas=array([1.e-06, 1.e-05, 1.e-04, 1.e-03, 1.e-02, 1.e-01, 1.e+00, 1.e+01,\n",
       "       1.e+02, 1.e+03, 1.e+04, 1.e+05, 1.e+06]))"
      ]
     },
     "execution_count": 6,
     "metadata": {},
     "output_type": "execute_result"
    }
   ],
   "source": [
    "from sklearn import linear_model\n",
    "reg = linear_model.RidgeCV(alphas=np.logspace(-6, 6, 13))\n",
    "reg.fit(X_train, y_train)"
   ]
  },
  {
   "cell_type": "code",
   "execution_count": 7,
   "metadata": {},
   "outputs": [
    {
     "data": {
      "text/plain": [
       "0.1"
      ]
     },
     "execution_count": 7,
     "metadata": {},
     "output_type": "execute_result"
    }
   ],
   "source": [
    "reg.alpha_"
   ]
  },
  {
   "cell_type": "code",
   "execution_count": 8,
   "metadata": {},
   "outputs": [
    {
     "name": "stdout",
     "output_type": "stream",
     "text": [
      "Ridge Regressor: Mean squared error: 0.003066793156190158, R-squared value: 0.7805402226331466\n",
      "mean_absolute_error =  0.0402420481100382\n",
      "R2 score is  0.7805402226331466\n",
      "mean_squared_error is  0.003066793156190158\n",
      "Sample of predicted and actual prices:\n",
      "Predicted price: 2.023781023261062, Actual price: 1.9763847732858\n",
      "Predicted price: 2.057395802105476, Actual price: 1.9763847732858\n",
      "Predicted price: 2.3220376222173145, Actual price: 2.3000563597136088\n",
      "Predicted price: 2.2787986880922553, Actual price: 2.214933939131339\n",
      "Predicted price: 2.243343389275317, Actual price: 2.2921070499349456\n",
      "Cross-validation scores for Ridge Regressor: [0.05516555 0.05620015 0.05596832 0.05555538 0.05580291], Mean RMSE: 0.05573959624905057\n",
      "\n"
     ]
    }
   ],
   "source": [
    "y_pred = reg.predict(X_test)\n",
    "    \n",
    "# Evaluating the model's performance using mean squared error and R-squared value\n",
    "mse = mean_squared_error(y_test, y_pred)\n",
    "r2 = r2_score(y_test, y_pred)\n",
    "print(f\"{name}: Mean squared error: {mse}, R-squared value: {r2}\")\n",
    "print('mean_absolute_error = ', mean_absolute_error(y_test,y_pred))\n",
    "print('R2 score is ',r2_score(y_test, y_pred))\n",
    "print('mean_squared_error is ', mean_squared_error(y_test, y_pred))\n",
    " # Printing a sample of predicted and actual prices\n",
    "print(\"Sample of predicted and actual prices:\")\n",
    "sample_indices = random.sample(range(len(y_test)), 5)\n",
    "for i in sample_indices:\n",
    "    print(f\"Predicted price: {y_pred[i]}, Actual price: {y_test.iloc[i]}\")\n",
    "    \n",
    "# Evaluating the model's performance using cross-validation\n",
    "scores = cross_val_score(model, X, y, cv=5, scoring=\"neg_mean_squared_error\")\n",
    "print(f\"Cross-validation scores for {name}: {np.sqrt(-scores)}, Mean RMSE: {np.sqrt(-scores.mean())}\\n\")"
   ]
  },
  {
   "cell_type": "code",
   "execution_count": null,
   "metadata": {},
   "outputs": [],
   "source": []
  }
 ],
 "metadata": {
  "kernelspec": {
   "display_name": "Python 3",
   "language": "python",
   "name": "python3"
  },
  "language_info": {
   "codemirror_mode": {
    "name": "ipython",
    "version": 3
   },
   "file_extension": ".py",
   "mimetype": "text/x-python",
   "name": "python",
   "nbconvert_exporter": "python",
   "pygments_lexer": "ipython3",
   "version": "3.10.7"
  },
  "orig_nbformat": 4
 },
 "nbformat": 4,
 "nbformat_minor": 2
}
