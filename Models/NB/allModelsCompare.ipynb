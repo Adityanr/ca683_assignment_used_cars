{
 "cells": [
  {
   "cell_type": "code",
   "execution_count": 3,
   "metadata": {},
   "outputs": [],
   "source": [
    "import pandas as pd\n",
    "import numpy as np\n",
    "from sklearn.model_selection import train_test_split, cross_val_score\n",
    "from sklearn.linear_model import LinearRegression, Ridge, Lasso\n",
    "from sklearn.neighbors import KNeighborsRegressor\n",
    "from sklearn.tree import DecisionTreeRegressor\n",
    "from sklearn.ensemble import RandomForestRegressor, GradientBoostingRegressor, AdaBoostRegressor\n",
    "from xgboost import XGBRegressor\n",
    "from sklearn.metrics import mean_squared_error, r2_score"
   ]
  },
  {
   "cell_type": "code",
   "execution_count": 5,
   "metadata": {},
   "outputs": [],
   "source": [
    "# Loading the dataset\n",
    "df = pd.read_csv(\"../../Dataset/cleaned_used_cars_v2.csv\")\n",
    "df.columns\n",
    "onehot_columns = ['abtest','vehicleType','gearbox','model','fuelType','brand','notRepairedDamage']\n",
    "onehot_df = df[onehot_columns]\n",
    "onehot_df = pd.get_dummies(onehot_df, columns = onehot_columns)\n",
    "score_onehot_drop = df.drop(onehot_columns, axis = 1)\n",
    "score_onehot = pd.concat([score_onehot_drop, onehot_df], axis = 1)\n",
    "X = score_onehot\n",
    "y = df['price']\n",
    "\n",
    "# Splitting the dataset into train and test sets\n",
    "X_train, X_test, y_train, y_test = train_test_split(X, y, test_size=0.2, random_state=42)"
   ]
  },
  {
   "cell_type": "code",
   "execution_count": 10,
   "metadata": {},
   "outputs": [],
   "source": [
    "# Define the models\n",
    "models = {\n",
    "    \"Linear Regressor\":LinearRegression(),\n",
    "    \"Ridge Regressor\":Ridge(),\n",
    "    \"Lasso Regressor\":Lasso(),\n",
    "    \"KNN Regressor\":KNeighborsRegressor(),\n",
    "    \"Decision Tree Regressor\":DecisionTreeRegressor(),\n",
    "    \"Random Forest Regressor\":RandomForestRegressor(),\n",
    "    \"Gradient Boosting Regressor\":GradientBoostingRegressor(),\n",
    "    \"Ada Boosting Regressor\":AdaBoostRegressor(),\n",
    "    \"XGB Regressor\":XGBRegressor(objective='reg:squarederror')\n",
    "}"
   ]
  },
  {
   "cell_type": "code",
   "execution_count": 11,
   "metadata": {},
   "outputs": [
    {
     "name": "stdout",
     "output_type": "stream",
     "text": [
      "Linear Regressor: Mean squared error: 1.1030967054663723e-15, R-squared value: 1.0\n",
      "Cross-validation scores for Linear Regressor: [6.03994928e-09 2.53676996e-08 8.66539999e-09 9.09185219e-09\n",
      " 1.12973621e-08], Mean RMSE: 1.3895196972221498e-08\n",
      "\n"
     ]
    },
    {
     "name": "stderr",
     "output_type": "stream",
     "text": [
      "c:\\Python310\\lib\\site-packages\\sklearn\\linear_model\\_ridge.py:212: LinAlgWarning: Ill-conditioned matrix (rcond=9.51863e-18): result may not be accurate.\n",
      "  return linalg.solve(A, Xy, assume_a=\"pos\", overwrite_a=True).T\n"
     ]
    },
    {
     "name": "stdout",
     "output_type": "stream",
     "text": [
      "Ridge Regressor: Mean squared error: 9.512228428493571e-18, R-squared value: 1.0\n"
     ]
    },
    {
     "name": "stderr",
     "output_type": "stream",
     "text": [
      "c:\\Python310\\lib\\site-packages\\sklearn\\linear_model\\_ridge.py:212: LinAlgWarning: Ill-conditioned matrix (rcond=7.32769e-18): result may not be accurate.\n",
      "  return linalg.solve(A, Xy, assume_a=\"pos\", overwrite_a=True).T\n",
      "c:\\Python310\\lib\\site-packages\\sklearn\\linear_model\\_ridge.py:212: LinAlgWarning: Ill-conditioned matrix (rcond=9.15088e-18): result may not be accurate.\n",
      "  return linalg.solve(A, Xy, assume_a=\"pos\", overwrite_a=True).T\n",
      "c:\\Python310\\lib\\site-packages\\sklearn\\linear_model\\_ridge.py:212: LinAlgWarning: Ill-conditioned matrix (rcond=6.82795e-18): result may not be accurate.\n",
      "  return linalg.solve(A, Xy, assume_a=\"pos\", overwrite_a=True).T\n",
      "c:\\Python310\\lib\\site-packages\\sklearn\\linear_model\\_ridge.py:212: LinAlgWarning: Ill-conditioned matrix (rcond=8.87352e-18): result may not be accurate.\n",
      "  return linalg.solve(A, Xy, assume_a=\"pos\", overwrite_a=True).T\n",
      "c:\\Python310\\lib\\site-packages\\sklearn\\linear_model\\_ridge.py:212: LinAlgWarning: Ill-conditioned matrix (rcond=7.91645e-18): result may not be accurate.\n",
      "  return linalg.solve(A, Xy, assume_a=\"pos\", overwrite_a=True).T\n"
     ]
    },
    {
     "name": "stdout",
     "output_type": "stream",
     "text": [
      "Cross-validation scores for Ridge Regressor: [1.87819483e-10 4.89969281e-11 7.31373256e-10 1.36862842e-09\n",
      " 1.08198058e-09], Mean RMSE: 8.504598074570358e-10\n",
      "\n",
      "Lasso Regressor: Mean squared error: 5.767995693867136e-12, R-squared value: 1.0\n",
      "Cross-validation scores for Lasso Regressor: [1.18406290e-06 2.21384056e-06 8.10936489e-07 1.97924420e-06\n",
      " 1.55029411e-06], Mean RMSE: 1.6298179297374055e-06\n",
      "\n",
      "KNN Regressor: Mean squared error: 1463839.1802703363, R-squared value: 0.9999979609657369\n",
      "Cross-validation scores for KNN Regressor: [  1691.13483433 104642.96053264  63689.10596884   9692.23396714\n",
      "   2407.40424579], Mean RMSE: 54970.98569181706\n",
      "\n",
      "Decision Tree Regressor: Mean squared error: 550469.6850546226, R-squared value: 0.9999992332309698\n",
      "Cross-validation scores for Decision Tree Regressor: [  437.02664769 99471.68394718 76234.83850386  7297.27818822\n",
      "   431.97418175], Mean RMSE: 56142.665365900895\n",
      "\n",
      "Random Forest Regressor: Mean squared error: 35880111.461839296, R-squared value: 0.9999500213017791\n",
      "Cross-validation scores for Random Forest Regressor: [ 14655.66785498 106880.12484577  59030.09469272   8546.26845334\n",
      "  10060.98224692], Mean RMSE: 55311.77783258207\n",
      "\n",
      "Gradient Boosting Regressor: Mean squared error: 8541464.617033347, R-squared value: 0.9999881022866132\n",
      "Cross-validation scores for Gradient Boosting Regressor: [   484.13220388 100992.5999324   37304.83944294   5871.53154492\n",
      "    379.88777027], Mean RMSE: 48220.34812890127\n",
      "\n",
      "Ada Boosting Regressor: Mean squared error: 81279862.06303194, R-squared value: 0.9998867823556846\n",
      "Cross-validation scores for Ada Boosting Regressor: [10345.88218995 99986.32357209 70343.92863827 15312.7623032\n",
      " 10702.65028383], Mean RMSE: 55500.626822531136\n",
      "\n",
      "XGB Regressor: Mean squared error: 546406.8772238995, R-squared value: 0.999999238890201\n",
      "Cross-validation scores for XGB Regressor: [  399.88281342 95710.99798814 19736.79037211  7295.19453914\n",
      "   265.70875116], Mean RMSE: 43825.98863881361\n",
      "\n"
     ]
    }
   ],
   "source": [
    "# Looping through each model, fitting it to the training data, and evaluating its performance\n",
    "for name, model in models.items():\n",
    "    # Fitting the model to the training data\n",
    "    model.fit(X_train, y_train)\n",
    "    \n",
    "    # Making predictions on the test set\n",
    "    y_pred = model.predict(X_test)\n",
    "    \n",
    "    # Evaluating the model's performance using mean squared error and R-squared value\n",
    "    mse = mean_squared_error(y_test, y_pred)\n",
    "    r2 = r2_score(y_test, y_pred)\n",
    "    print(f\"{name}: Mean squared error: {mse}, R-squared value: {r2}\")\n",
    "    \n",
    "    # Evaluating the model's performance using cross-validation\n",
    "    scores = cross_val_score(model, X, y, cv=5, scoring=\"neg_mean_squared_error\")\n",
    "    print(f\"Cross-validation scores for {name}: {np.sqrt(-scores)}, Mean RMSE: {np.sqrt(-scores.mean())}\\n\")"
   ]
  },
  {
   "cell_type": "code",
   "execution_count": null,
   "metadata": {},
   "outputs": [],
   "source": []
  }
 ],
 "metadata": {
  "kernelspec": {
   "display_name": "Python 3",
   "language": "python",
   "name": "python3"
  },
  "language_info": {
   "codemirror_mode": {
    "name": "ipython",
    "version": 3
   },
   "file_extension": ".py",
   "mimetype": "text/x-python",
   "name": "python",
   "nbconvert_exporter": "python",
   "pygments_lexer": "ipython3",
   "version": "3.10.7"
  },
  "orig_nbformat": 4
 },
 "nbformat": 4,
 "nbformat_minor": 2
}
