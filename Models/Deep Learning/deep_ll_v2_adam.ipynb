{
 "cells": [
  {
   "cell_type": "code",
   "execution_count": 1,
   "metadata": {},
   "outputs": [],
   "source": [
    "import pandas as pd\n",
    "from sklearn.model_selection import train_test_split\n",
    "from sklearn.metrics import r2_score\n",
    "import keras.backend as K\n",
    "# %pip install tensorflow\n",
    "from tensorflow.keras.models import Sequential\n",
    "from tensorflow.keras.layers import Dense\n",
    "from tensorflow.keras.layers import Dropout\n",
    "from tensorflow.keras.callbacks import EarlyStopping\n",
    "import tensorflow as tf\n",
    "from sklearn.decomposition import PCA\n",
    "import seaborn as sns\n",
    "import matplotlib.pyplot as plt\n",
    "import plotly.express as px"
   ]
  },
  {
   "cell_type": "code",
   "execution_count": 2,
   "metadata": {},
   "outputs": [],
   "source": [
    "df = pd.read_csv('../../Dataset/cleaned_used_cars_v3.csv')"
   ]
  },
  {
   "cell_type": "code",
   "execution_count": 3,
   "metadata": {},
   "outputs": [
    {
     "data": {
      "text/plain": [
       "(236195, 329)"
      ]
     },
     "execution_count": 3,
     "metadata": {},
     "output_type": "execute_result"
    }
   ],
   "source": [
    "df.shape"
   ]
  },
  {
   "cell_type": "code",
   "execution_count": 4,
   "metadata": {},
   "outputs": [
    {
     "data": {
      "text/plain": [
       "(236195, 329)"
      ]
     },
     "execution_count": 4,
     "metadata": {},
     "output_type": "execute_result"
    }
   ],
   "source": [
    "df.shape"
   ]
  },
  {
   "cell_type": "code",
   "execution_count": 5,
   "metadata": {},
   "outputs": [
    {
     "data": {
      "text/html": [
       "<div>\n",
       "<style scoped>\n",
       "    .dataframe tbody tr th:only-of-type {\n",
       "        vertical-align: middle;\n",
       "    }\n",
       "\n",
       "    .dataframe tbody tr th {\n",
       "        vertical-align: top;\n",
       "    }\n",
       "\n",
       "    .dataframe thead th {\n",
       "        text-align: right;\n",
       "    }\n",
       "</style>\n",
       "<table border=\"1\" class=\"dataframe\">\n",
       "  <thead>\n",
       "    <tr style=\"text-align: right;\">\n",
       "      <th></th>\n",
       "      <th>seller</th>\n",
       "      <th>offerType</th>\n",
       "      <th>price</th>\n",
       "      <th>abtest</th>\n",
       "      <th>gearbox</th>\n",
       "      <th>powerPS</th>\n",
       "      <th>kilometer</th>\n",
       "      <th>notRepairedDamage</th>\n",
       "      <th>vehicleType.andere</th>\n",
       "      <th>vehicleType.bus</th>\n",
       "      <th>...</th>\n",
       "      <th>year_range.[1970, 1975)</th>\n",
       "      <th>year_range.[1975, 1980)</th>\n",
       "      <th>year_range.[1980, 1985)</th>\n",
       "      <th>year_range.[1985, 1990)</th>\n",
       "      <th>year_range.[1990, 1995)</th>\n",
       "      <th>year_range.[1995, 2000)</th>\n",
       "      <th>year_range.[2000, 2005)</th>\n",
       "      <th>year_range.[2005, 2010)</th>\n",
       "      <th>year_range.[2010, 2015)</th>\n",
       "      <th>year_range.[2015, 2020)</th>\n",
       "    </tr>\n",
       "  </thead>\n",
       "  <tbody>\n",
       "    <tr>\n",
       "      <th>0</th>\n",
       "      <td>0</td>\n",
       "      <td>0</td>\n",
       "      <td>1500.0</td>\n",
       "      <td>0</td>\n",
       "      <td>0</td>\n",
       "      <td>-0.300689</td>\n",
       "      <td>0.590703</td>\n",
       "      <td>0</td>\n",
       "      <td>0</td>\n",
       "      <td>0</td>\n",
       "      <td>...</td>\n",
       "      <td>0</td>\n",
       "      <td>0</td>\n",
       "      <td>0</td>\n",
       "      <td>0</td>\n",
       "      <td>0</td>\n",
       "      <td>0</td>\n",
       "      <td>1</td>\n",
       "      <td>0</td>\n",
       "      <td>0</td>\n",
       "      <td>0</td>\n",
       "    </tr>\n",
       "    <tr>\n",
       "      <th>1</th>\n",
       "      <td>0</td>\n",
       "      <td>0</td>\n",
       "      <td>3600.0</td>\n",
       "      <td>0</td>\n",
       "      <td>0</td>\n",
       "      <td>-0.343274</td>\n",
       "      <td>-1.085768</td>\n",
       "      <td>0</td>\n",
       "      <td>0</td>\n",
       "      <td>0</td>\n",
       "      <td>...</td>\n",
       "      <td>0</td>\n",
       "      <td>0</td>\n",
       "      <td>0</td>\n",
       "      <td>0</td>\n",
       "      <td>0</td>\n",
       "      <td>0</td>\n",
       "      <td>0</td>\n",
       "      <td>1</td>\n",
       "      <td>0</td>\n",
       "      <td>0</td>\n",
       "    </tr>\n",
       "    <tr>\n",
       "      <th>2</th>\n",
       "      <td>0</td>\n",
       "      <td>0</td>\n",
       "      <td>650.0</td>\n",
       "      <td>0</td>\n",
       "      <td>0</td>\n",
       "      <td>-0.109056</td>\n",
       "      <td>0.590703</td>\n",
       "      <td>1</td>\n",
       "      <td>0</td>\n",
       "      <td>0</td>\n",
       "      <td>...</td>\n",
       "      <td>0</td>\n",
       "      <td>0</td>\n",
       "      <td>0</td>\n",
       "      <td>0</td>\n",
       "      <td>0</td>\n",
       "      <td>1</td>\n",
       "      <td>0</td>\n",
       "      <td>0</td>\n",
       "      <td>0</td>\n",
       "      <td>0</td>\n",
       "    </tr>\n",
       "    <tr>\n",
       "      <th>3</th>\n",
       "      <td>0</td>\n",
       "      <td>0</td>\n",
       "      <td>2200.0</td>\n",
       "      <td>0</td>\n",
       "      <td>0</td>\n",
       "      <td>-0.059373</td>\n",
       "      <td>0.590703</td>\n",
       "      <td>0</td>\n",
       "      <td>0</td>\n",
       "      <td>0</td>\n",
       "      <td>...</td>\n",
       "      <td>0</td>\n",
       "      <td>0</td>\n",
       "      <td>0</td>\n",
       "      <td>0</td>\n",
       "      <td>0</td>\n",
       "      <td>0</td>\n",
       "      <td>1</td>\n",
       "      <td>0</td>\n",
       "      <td>0</td>\n",
       "      <td>0</td>\n",
       "    </tr>\n",
       "    <tr>\n",
       "      <th>4</th>\n",
       "      <td>0</td>\n",
       "      <td>0</td>\n",
       "      <td>0.0</td>\n",
       "      <td>0</td>\n",
       "      <td>0</td>\n",
       "      <td>-0.478126</td>\n",
       "      <td>-2.482827</td>\n",
       "      <td>0</td>\n",
       "      <td>0</td>\n",
       "      <td>0</td>\n",
       "      <td>...</td>\n",
       "      <td>0</td>\n",
       "      <td>0</td>\n",
       "      <td>1</td>\n",
       "      <td>0</td>\n",
       "      <td>0</td>\n",
       "      <td>0</td>\n",
       "      <td>0</td>\n",
       "      <td>0</td>\n",
       "      <td>0</td>\n",
       "      <td>0</td>\n",
       "    </tr>\n",
       "    <tr>\n",
       "      <th>...</th>\n",
       "      <td>...</td>\n",
       "      <td>...</td>\n",
       "      <td>...</td>\n",
       "      <td>...</td>\n",
       "      <td>...</td>\n",
       "      <td>...</td>\n",
       "      <td>...</td>\n",
       "      <td>...</td>\n",
       "      <td>...</td>\n",
       "      <td>...</td>\n",
       "      <td>...</td>\n",
       "      <td>...</td>\n",
       "      <td>...</td>\n",
       "      <td>...</td>\n",
       "      <td>...</td>\n",
       "      <td>...</td>\n",
       "      <td>...</td>\n",
       "      <td>...</td>\n",
       "      <td>...</td>\n",
       "      <td>...</td>\n",
       "      <td>...</td>\n",
       "    </tr>\n",
       "    <tr>\n",
       "      <th>236190</th>\n",
       "      <td>0</td>\n",
       "      <td>0</td>\n",
       "      <td>3999.0</td>\n",
       "      <td>0</td>\n",
       "      <td>0</td>\n",
       "      <td>-0.811710</td>\n",
       "      <td>0.590703</td>\n",
       "      <td>0</td>\n",
       "      <td>0</td>\n",
       "      <td>0</td>\n",
       "      <td>...</td>\n",
       "      <td>0</td>\n",
       "      <td>0</td>\n",
       "      <td>0</td>\n",
       "      <td>0</td>\n",
       "      <td>0</td>\n",
       "      <td>0</td>\n",
       "      <td>0</td>\n",
       "      <td>1</td>\n",
       "      <td>0</td>\n",
       "      <td>0</td>\n",
       "    </tr>\n",
       "    <tr>\n",
       "      <th>236191</th>\n",
       "      <td>0</td>\n",
       "      <td>0</td>\n",
       "      <td>3200.0</td>\n",
       "      <td>1</td>\n",
       "      <td>0</td>\n",
       "      <td>0.763938</td>\n",
       "      <td>0.590703</td>\n",
       "      <td>1</td>\n",
       "      <td>0</td>\n",
       "      <td>0</td>\n",
       "      <td>...</td>\n",
       "      <td>0</td>\n",
       "      <td>0</td>\n",
       "      <td>0</td>\n",
       "      <td>0</td>\n",
       "      <td>0</td>\n",
       "      <td>0</td>\n",
       "      <td>1</td>\n",
       "      <td>0</td>\n",
       "      <td>0</td>\n",
       "      <td>0</td>\n",
       "    </tr>\n",
       "    <tr>\n",
       "      <th>236192</th>\n",
       "      <td>0</td>\n",
       "      <td>0</td>\n",
       "      <td>1150.0</td>\n",
       "      <td>1</td>\n",
       "      <td>0</td>\n",
       "      <td>-0.833002</td>\n",
       "      <td>0.590703</td>\n",
       "      <td>0</td>\n",
       "      <td>0</td>\n",
       "      <td>1</td>\n",
       "      <td>...</td>\n",
       "      <td>0</td>\n",
       "      <td>0</td>\n",
       "      <td>0</td>\n",
       "      <td>0</td>\n",
       "      <td>0</td>\n",
       "      <td>0</td>\n",
       "      <td>1</td>\n",
       "      <td>0</td>\n",
       "      <td>0</td>\n",
       "      <td>0</td>\n",
       "    </tr>\n",
       "    <tr>\n",
       "      <th>236193</th>\n",
       "      <td>0</td>\n",
       "      <td>0</td>\n",
       "      <td>1199.0</td>\n",
       "      <td>0</td>\n",
       "      <td>1</td>\n",
       "      <td>-0.116153</td>\n",
       "      <td>-0.107827</td>\n",
       "      <td>0</td>\n",
       "      <td>0</td>\n",
       "      <td>0</td>\n",
       "      <td>...</td>\n",
       "      <td>0</td>\n",
       "      <td>0</td>\n",
       "      <td>0</td>\n",
       "      <td>0</td>\n",
       "      <td>0</td>\n",
       "      <td>0</td>\n",
       "      <td>1</td>\n",
       "      <td>0</td>\n",
       "      <td>0</td>\n",
       "      <td>0</td>\n",
       "    </tr>\n",
       "    <tr>\n",
       "      <th>236194</th>\n",
       "      <td>0</td>\n",
       "      <td>0</td>\n",
       "      <td>9200.0</td>\n",
       "      <td>0</td>\n",
       "      <td>0</td>\n",
       "      <td>-0.109056</td>\n",
       "      <td>0.590703</td>\n",
       "      <td>0</td>\n",
       "      <td>0</td>\n",
       "      <td>1</td>\n",
       "      <td>...</td>\n",
       "      <td>0</td>\n",
       "      <td>0</td>\n",
       "      <td>0</td>\n",
       "      <td>0</td>\n",
       "      <td>0</td>\n",
       "      <td>1</td>\n",
       "      <td>0</td>\n",
       "      <td>0</td>\n",
       "      <td>0</td>\n",
       "      <td>0</td>\n",
       "    </tr>\n",
       "  </tbody>\n",
       "</table>\n",
       "<p>236195 rows × 329 columns</p>\n",
       "</div>"
      ],
      "text/plain": [
       "        seller  offerType   price  abtest  gearbox   powerPS  kilometer  \\\n",
       "0            0          0  1500.0       0        0 -0.300689   0.590703   \n",
       "1            0          0  3600.0       0        0 -0.343274  -1.085768   \n",
       "2            0          0   650.0       0        0 -0.109056   0.590703   \n",
       "3            0          0  2200.0       0        0 -0.059373   0.590703   \n",
       "4            0          0     0.0       0        0 -0.478126  -2.482827   \n",
       "...        ...        ...     ...     ...      ...       ...        ...   \n",
       "236190       0          0  3999.0       0        0 -0.811710   0.590703   \n",
       "236191       0          0  3200.0       1        0  0.763938   0.590703   \n",
       "236192       0          0  1150.0       1        0 -0.833002   0.590703   \n",
       "236193       0          0  1199.0       0        1 -0.116153  -0.107827   \n",
       "236194       0          0  9200.0       0        0 -0.109056   0.590703   \n",
       "\n",
       "        notRepairedDamage  vehicleType.andere  vehicleType.bus  ...  \\\n",
       "0                       0                   0                0  ...   \n",
       "1                       0                   0                0  ...   \n",
       "2                       1                   0                0  ...   \n",
       "3                       0                   0                0  ...   \n",
       "4                       0                   0                0  ...   \n",
       "...                   ...                 ...              ...  ...   \n",
       "236190                  0                   0                0  ...   \n",
       "236191                  1                   0                0  ...   \n",
       "236192                  0                   0                1  ...   \n",
       "236193                  0                   0                0  ...   \n",
       "236194                  0                   0                1  ...   \n",
       "\n",
       "        year_range.[1970, 1975)  year_range.[1975, 1980)  \\\n",
       "0                             0                        0   \n",
       "1                             0                        0   \n",
       "2                             0                        0   \n",
       "3                             0                        0   \n",
       "4                             0                        0   \n",
       "...                         ...                      ...   \n",
       "236190                        0                        0   \n",
       "236191                        0                        0   \n",
       "236192                        0                        0   \n",
       "236193                        0                        0   \n",
       "236194                        0                        0   \n",
       "\n",
       "        year_range.[1980, 1985)  year_range.[1985, 1990)  \\\n",
       "0                             0                        0   \n",
       "1                             0                        0   \n",
       "2                             0                        0   \n",
       "3                             0                        0   \n",
       "4                             1                        0   \n",
       "...                         ...                      ...   \n",
       "236190                        0                        0   \n",
       "236191                        0                        0   \n",
       "236192                        0                        0   \n",
       "236193                        0                        0   \n",
       "236194                        0                        0   \n",
       "\n",
       "        year_range.[1990, 1995)  year_range.[1995, 2000)  \\\n",
       "0                             0                        0   \n",
       "1                             0                        0   \n",
       "2                             0                        1   \n",
       "3                             0                        0   \n",
       "4                             0                        0   \n",
       "...                         ...                      ...   \n",
       "236190                        0                        0   \n",
       "236191                        0                        0   \n",
       "236192                        0                        0   \n",
       "236193                        0                        0   \n",
       "236194                        0                        1   \n",
       "\n",
       "        year_range.[2000, 2005)  year_range.[2005, 2010)  \\\n",
       "0                             1                        0   \n",
       "1                             0                        1   \n",
       "2                             0                        0   \n",
       "3                             1                        0   \n",
       "4                             0                        0   \n",
       "...                         ...                      ...   \n",
       "236190                        0                        1   \n",
       "236191                        1                        0   \n",
       "236192                        1                        0   \n",
       "236193                        1                        0   \n",
       "236194                        0                        0   \n",
       "\n",
       "        year_range.[2010, 2015)  year_range.[2015, 2020)  \n",
       "0                             0                        0  \n",
       "1                             0                        0  \n",
       "2                             0                        0  \n",
       "3                             0                        0  \n",
       "4                             0                        0  \n",
       "...                         ...                      ...  \n",
       "236190                        0                        0  \n",
       "236191                        0                        0  \n",
       "236192                        0                        0  \n",
       "236193                        0                        0  \n",
       "236194                        0                        0  \n",
       "\n",
       "[236195 rows x 329 columns]"
      ]
     },
     "execution_count": 5,
     "metadata": {},
     "output_type": "execute_result"
    }
   ],
   "source": [
    "df"
   ]
  },
  {
   "cell_type": "code",
   "execution_count": 6,
   "metadata": {},
   "outputs": [],
   "source": [
    "def r2(y_true, y_pred):\n",
    "    SS_res =  K.sum(K.square(y_true - y_pred)) \n",
    "    SS_tot = K.sum(K.square(y_true - K.mean(y_true)))\n",
    "    return ( 1 - SS_res/(SS_tot + K.epsilon()) )"
   ]
  },
  {
   "cell_type": "code",
   "execution_count": 7,
   "metadata": {},
   "outputs": [
    {
     "data": {
      "text/html": [
       "<div>\n",
       "<style scoped>\n",
       "    .dataframe tbody tr th:only-of-type {\n",
       "        vertical-align: middle;\n",
       "    }\n",
       "\n",
       "    .dataframe tbody tr th {\n",
       "        vertical-align: top;\n",
       "    }\n",
       "\n",
       "    .dataframe thead th {\n",
       "        text-align: right;\n",
       "    }\n",
       "</style>\n",
       "<table border=\"1\" class=\"dataframe\">\n",
       "  <thead>\n",
       "    <tr style=\"text-align: right;\">\n",
       "      <th></th>\n",
       "      <th>seller</th>\n",
       "      <th>offerType</th>\n",
       "      <th>abtest</th>\n",
       "      <th>gearbox</th>\n",
       "      <th>powerPS</th>\n",
       "      <th>kilometer</th>\n",
       "      <th>notRepairedDamage</th>\n",
       "      <th>vehicleType.andere</th>\n",
       "      <th>vehicleType.bus</th>\n",
       "      <th>vehicleType.cabrio</th>\n",
       "      <th>...</th>\n",
       "      <th>year_range.[1970, 1975)</th>\n",
       "      <th>year_range.[1975, 1980)</th>\n",
       "      <th>year_range.[1980, 1985)</th>\n",
       "      <th>year_range.[1985, 1990)</th>\n",
       "      <th>year_range.[1990, 1995)</th>\n",
       "      <th>year_range.[1995, 2000)</th>\n",
       "      <th>year_range.[2000, 2005)</th>\n",
       "      <th>year_range.[2005, 2010)</th>\n",
       "      <th>year_range.[2010, 2015)</th>\n",
       "      <th>year_range.[2015, 2020)</th>\n",
       "    </tr>\n",
       "  </thead>\n",
       "  <tbody>\n",
       "    <tr>\n",
       "      <th>0</th>\n",
       "      <td>0</td>\n",
       "      <td>0</td>\n",
       "      <td>0</td>\n",
       "      <td>0</td>\n",
       "      <td>-0.300689</td>\n",
       "      <td>0.590703</td>\n",
       "      <td>0</td>\n",
       "      <td>0</td>\n",
       "      <td>0</td>\n",
       "      <td>0</td>\n",
       "      <td>...</td>\n",
       "      <td>0</td>\n",
       "      <td>0</td>\n",
       "      <td>0</td>\n",
       "      <td>0</td>\n",
       "      <td>0</td>\n",
       "      <td>0</td>\n",
       "      <td>1</td>\n",
       "      <td>0</td>\n",
       "      <td>0</td>\n",
       "      <td>0</td>\n",
       "    </tr>\n",
       "    <tr>\n",
       "      <th>1</th>\n",
       "      <td>0</td>\n",
       "      <td>0</td>\n",
       "      <td>0</td>\n",
       "      <td>0</td>\n",
       "      <td>-0.343274</td>\n",
       "      <td>-1.085768</td>\n",
       "      <td>0</td>\n",
       "      <td>0</td>\n",
       "      <td>0</td>\n",
       "      <td>0</td>\n",
       "      <td>...</td>\n",
       "      <td>0</td>\n",
       "      <td>0</td>\n",
       "      <td>0</td>\n",
       "      <td>0</td>\n",
       "      <td>0</td>\n",
       "      <td>0</td>\n",
       "      <td>0</td>\n",
       "      <td>1</td>\n",
       "      <td>0</td>\n",
       "      <td>0</td>\n",
       "    </tr>\n",
       "    <tr>\n",
       "      <th>2</th>\n",
       "      <td>0</td>\n",
       "      <td>0</td>\n",
       "      <td>0</td>\n",
       "      <td>0</td>\n",
       "      <td>-0.109056</td>\n",
       "      <td>0.590703</td>\n",
       "      <td>1</td>\n",
       "      <td>0</td>\n",
       "      <td>0</td>\n",
       "      <td>0</td>\n",
       "      <td>...</td>\n",
       "      <td>0</td>\n",
       "      <td>0</td>\n",
       "      <td>0</td>\n",
       "      <td>0</td>\n",
       "      <td>0</td>\n",
       "      <td>1</td>\n",
       "      <td>0</td>\n",
       "      <td>0</td>\n",
       "      <td>0</td>\n",
       "      <td>0</td>\n",
       "    </tr>\n",
       "    <tr>\n",
       "      <th>3</th>\n",
       "      <td>0</td>\n",
       "      <td>0</td>\n",
       "      <td>0</td>\n",
       "      <td>0</td>\n",
       "      <td>-0.059373</td>\n",
       "      <td>0.590703</td>\n",
       "      <td>0</td>\n",
       "      <td>0</td>\n",
       "      <td>0</td>\n",
       "      <td>1</td>\n",
       "      <td>...</td>\n",
       "      <td>0</td>\n",
       "      <td>0</td>\n",
       "      <td>0</td>\n",
       "      <td>0</td>\n",
       "      <td>0</td>\n",
       "      <td>0</td>\n",
       "      <td>1</td>\n",
       "      <td>0</td>\n",
       "      <td>0</td>\n",
       "      <td>0</td>\n",
       "    </tr>\n",
       "    <tr>\n",
       "      <th>4</th>\n",
       "      <td>0</td>\n",
       "      <td>0</td>\n",
       "      <td>0</td>\n",
       "      <td>0</td>\n",
       "      <td>-0.478126</td>\n",
       "      <td>-2.482827</td>\n",
       "      <td>0</td>\n",
       "      <td>0</td>\n",
       "      <td>0</td>\n",
       "      <td>0</td>\n",
       "      <td>...</td>\n",
       "      <td>0</td>\n",
       "      <td>0</td>\n",
       "      <td>1</td>\n",
       "      <td>0</td>\n",
       "      <td>0</td>\n",
       "      <td>0</td>\n",
       "      <td>0</td>\n",
       "      <td>0</td>\n",
       "      <td>0</td>\n",
       "      <td>0</td>\n",
       "    </tr>\n",
       "    <tr>\n",
       "      <th>...</th>\n",
       "      <td>...</td>\n",
       "      <td>...</td>\n",
       "      <td>...</td>\n",
       "      <td>...</td>\n",
       "      <td>...</td>\n",
       "      <td>...</td>\n",
       "      <td>...</td>\n",
       "      <td>...</td>\n",
       "      <td>...</td>\n",
       "      <td>...</td>\n",
       "      <td>...</td>\n",
       "      <td>...</td>\n",
       "      <td>...</td>\n",
       "      <td>...</td>\n",
       "      <td>...</td>\n",
       "      <td>...</td>\n",
       "      <td>...</td>\n",
       "      <td>...</td>\n",
       "      <td>...</td>\n",
       "      <td>...</td>\n",
       "      <td>...</td>\n",
       "    </tr>\n",
       "    <tr>\n",
       "      <th>236190</th>\n",
       "      <td>0</td>\n",
       "      <td>0</td>\n",
       "      <td>0</td>\n",
       "      <td>0</td>\n",
       "      <td>-0.811710</td>\n",
       "      <td>0.590703</td>\n",
       "      <td>0</td>\n",
       "      <td>0</td>\n",
       "      <td>0</td>\n",
       "      <td>0</td>\n",
       "      <td>...</td>\n",
       "      <td>0</td>\n",
       "      <td>0</td>\n",
       "      <td>0</td>\n",
       "      <td>0</td>\n",
       "      <td>0</td>\n",
       "      <td>0</td>\n",
       "      <td>0</td>\n",
       "      <td>1</td>\n",
       "      <td>0</td>\n",
       "      <td>0</td>\n",
       "    </tr>\n",
       "    <tr>\n",
       "      <th>236191</th>\n",
       "      <td>0</td>\n",
       "      <td>0</td>\n",
       "      <td>1</td>\n",
       "      <td>0</td>\n",
       "      <td>0.763938</td>\n",
       "      <td>0.590703</td>\n",
       "      <td>1</td>\n",
       "      <td>0</td>\n",
       "      <td>0</td>\n",
       "      <td>0</td>\n",
       "      <td>...</td>\n",
       "      <td>0</td>\n",
       "      <td>0</td>\n",
       "      <td>0</td>\n",
       "      <td>0</td>\n",
       "      <td>0</td>\n",
       "      <td>0</td>\n",
       "      <td>1</td>\n",
       "      <td>0</td>\n",
       "      <td>0</td>\n",
       "      <td>0</td>\n",
       "    </tr>\n",
       "    <tr>\n",
       "      <th>236192</th>\n",
       "      <td>0</td>\n",
       "      <td>0</td>\n",
       "      <td>1</td>\n",
       "      <td>0</td>\n",
       "      <td>-0.833002</td>\n",
       "      <td>0.590703</td>\n",
       "      <td>0</td>\n",
       "      <td>0</td>\n",
       "      <td>1</td>\n",
       "      <td>0</td>\n",
       "      <td>...</td>\n",
       "      <td>0</td>\n",
       "      <td>0</td>\n",
       "      <td>0</td>\n",
       "      <td>0</td>\n",
       "      <td>0</td>\n",
       "      <td>0</td>\n",
       "      <td>1</td>\n",
       "      <td>0</td>\n",
       "      <td>0</td>\n",
       "      <td>0</td>\n",
       "    </tr>\n",
       "    <tr>\n",
       "      <th>236193</th>\n",
       "      <td>0</td>\n",
       "      <td>0</td>\n",
       "      <td>0</td>\n",
       "      <td>1</td>\n",
       "      <td>-0.116153</td>\n",
       "      <td>-0.107827</td>\n",
       "      <td>0</td>\n",
       "      <td>0</td>\n",
       "      <td>0</td>\n",
       "      <td>1</td>\n",
       "      <td>...</td>\n",
       "      <td>0</td>\n",
       "      <td>0</td>\n",
       "      <td>0</td>\n",
       "      <td>0</td>\n",
       "      <td>0</td>\n",
       "      <td>0</td>\n",
       "      <td>1</td>\n",
       "      <td>0</td>\n",
       "      <td>0</td>\n",
       "      <td>0</td>\n",
       "    </tr>\n",
       "    <tr>\n",
       "      <th>236194</th>\n",
       "      <td>0</td>\n",
       "      <td>0</td>\n",
       "      <td>0</td>\n",
       "      <td>0</td>\n",
       "      <td>-0.109056</td>\n",
       "      <td>0.590703</td>\n",
       "      <td>0</td>\n",
       "      <td>0</td>\n",
       "      <td>1</td>\n",
       "      <td>0</td>\n",
       "      <td>...</td>\n",
       "      <td>0</td>\n",
       "      <td>0</td>\n",
       "      <td>0</td>\n",
       "      <td>0</td>\n",
       "      <td>0</td>\n",
       "      <td>1</td>\n",
       "      <td>0</td>\n",
       "      <td>0</td>\n",
       "      <td>0</td>\n",
       "      <td>0</td>\n",
       "    </tr>\n",
       "  </tbody>\n",
       "</table>\n",
       "<p>236195 rows × 328 columns</p>\n",
       "</div>"
      ],
      "text/plain": [
       "        seller  offerType  abtest  gearbox   powerPS  kilometer  \\\n",
       "0            0          0       0        0 -0.300689   0.590703   \n",
       "1            0          0       0        0 -0.343274  -1.085768   \n",
       "2            0          0       0        0 -0.109056   0.590703   \n",
       "3            0          0       0        0 -0.059373   0.590703   \n",
       "4            0          0       0        0 -0.478126  -2.482827   \n",
       "...        ...        ...     ...      ...       ...        ...   \n",
       "236190       0          0       0        0 -0.811710   0.590703   \n",
       "236191       0          0       1        0  0.763938   0.590703   \n",
       "236192       0          0       1        0 -0.833002   0.590703   \n",
       "236193       0          0       0        1 -0.116153  -0.107827   \n",
       "236194       0          0       0        0 -0.109056   0.590703   \n",
       "\n",
       "        notRepairedDamage  vehicleType.andere  vehicleType.bus  \\\n",
       "0                       0                   0                0   \n",
       "1                       0                   0                0   \n",
       "2                       1                   0                0   \n",
       "3                       0                   0                0   \n",
       "4                       0                   0                0   \n",
       "...                   ...                 ...              ...   \n",
       "236190                  0                   0                0   \n",
       "236191                  1                   0                0   \n",
       "236192                  0                   0                1   \n",
       "236193                  0                   0                0   \n",
       "236194                  0                   0                1   \n",
       "\n",
       "        vehicleType.cabrio  ...  year_range.[1970, 1975)  \\\n",
       "0                        0  ...                        0   \n",
       "1                        0  ...                        0   \n",
       "2                        0  ...                        0   \n",
       "3                        1  ...                        0   \n",
       "4                        0  ...                        0   \n",
       "...                    ...  ...                      ...   \n",
       "236190                   0  ...                        0   \n",
       "236191                   0  ...                        0   \n",
       "236192                   0  ...                        0   \n",
       "236193                   1  ...                        0   \n",
       "236194                   0  ...                        0   \n",
       "\n",
       "        year_range.[1975, 1980)  year_range.[1980, 1985)  \\\n",
       "0                             0                        0   \n",
       "1                             0                        0   \n",
       "2                             0                        0   \n",
       "3                             0                        0   \n",
       "4                             0                        1   \n",
       "...                         ...                      ...   \n",
       "236190                        0                        0   \n",
       "236191                        0                        0   \n",
       "236192                        0                        0   \n",
       "236193                        0                        0   \n",
       "236194                        0                        0   \n",
       "\n",
       "        year_range.[1985, 1990)  year_range.[1990, 1995)  \\\n",
       "0                             0                        0   \n",
       "1                             0                        0   \n",
       "2                             0                        0   \n",
       "3                             0                        0   \n",
       "4                             0                        0   \n",
       "...                         ...                      ...   \n",
       "236190                        0                        0   \n",
       "236191                        0                        0   \n",
       "236192                        0                        0   \n",
       "236193                        0                        0   \n",
       "236194                        0                        0   \n",
       "\n",
       "        year_range.[1995, 2000)  year_range.[2000, 2005)  \\\n",
       "0                             0                        1   \n",
       "1                             0                        0   \n",
       "2                             1                        0   \n",
       "3                             0                        1   \n",
       "4                             0                        0   \n",
       "...                         ...                      ...   \n",
       "236190                        0                        0   \n",
       "236191                        0                        1   \n",
       "236192                        0                        1   \n",
       "236193                        0                        1   \n",
       "236194                        1                        0   \n",
       "\n",
       "        year_range.[2005, 2010)  year_range.[2010, 2015)  \\\n",
       "0                             0                        0   \n",
       "1                             1                        0   \n",
       "2                             0                        0   \n",
       "3                             0                        0   \n",
       "4                             0                        0   \n",
       "...                         ...                      ...   \n",
       "236190                        1                        0   \n",
       "236191                        0                        0   \n",
       "236192                        0                        0   \n",
       "236193                        0                        0   \n",
       "236194                        0                        0   \n",
       "\n",
       "        year_range.[2015, 2020)  \n",
       "0                             0  \n",
       "1                             0  \n",
       "2                             0  \n",
       "3                             0  \n",
       "4                             0  \n",
       "...                         ...  \n",
       "236190                        0  \n",
       "236191                        0  \n",
       "236192                        0  \n",
       "236193                        0  \n",
       "236194                        0  \n",
       "\n",
       "[236195 rows x 328 columns]"
      ]
     },
     "execution_count": 7,
     "metadata": {},
     "output_type": "execute_result"
    }
   ],
   "source": [
    "X = df.drop(['price'], axis=1)\n",
    "y = df['price']\n",
    "X"
   ]
  },
  {
   "cell_type": "code",
   "execution_count": 26,
   "metadata": {},
   "outputs": [
    {
     "name": "stdout",
     "output_type": "stream",
     "text": [
      "Epoch 1/500\n",
      "1512/1512 [==============================] - 7s 4ms/step - loss: 37200856.0000 - mae: 4604.0010 - r2: -1.3484 - val_loss: 36736444.0000 - val_mae: 4577.7061 - val_r2: -1.3500\n",
      "Epoch 2/500\n",
      "1512/1512 [==============================] - 6s 4ms/step - loss: 37141064.0000 - mae: 4602.1279 - r2: -1.3455 - val_loss: 36673480.0000 - val_mae: 4575.4990 - val_r2: -1.3460\n",
      "Epoch 3/500\n",
      "1512/1512 [==============================] - 6s 4ms/step - loss: 37072220.0000 - mae: 4599.2759 - r2: -1.3411 - val_loss: 36608068.0000 - val_mae: 4572.0146 - val_r2: -1.3418\n",
      "Epoch 4/500\n",
      "1512/1512 [==============================] - 6s 4ms/step - loss: 36990356.0000 - mae: 4595.5415 - r2: -1.3366 - val_loss: 36528172.0000 - val_mae: 4567.7085 - val_r2: -1.3367\n",
      "Epoch 5/500\n",
      "1512/1512 [==============================] - 6s 4ms/step - loss: 36895540.0000 - mae: 4591.0034 - r2: -1.3298 - val_loss: 36436696.0000 - val_mae: 4562.7158 - val_r2: -1.3308\n",
      "Epoch 6/500\n",
      "1512/1512 [==============================] - 6s 4ms/step - loss: 36787932.0000 - mae: 4585.6489 - r2: -1.3220 - val_loss: 36319268.0000 - val_mae: 4556.5776 - val_r2: -1.3233\n",
      "Epoch 7/500\n",
      "1512/1512 [==============================] - 6s 4ms/step - loss: 36668168.0000 - mae: 4579.5273 - r2: -1.3151 - val_loss: 36195992.0000 - val_mae: 4549.6597 - val_r2: -1.3154\n",
      "Epoch 8/500\n",
      "1512/1512 [==============================] - 6s 4ms/step - loss: 36535848.0000 - mae: 4572.6514 - r2: -1.3071 - val_loss: 36055576.0000 - val_mae: 4542.7866 - val_r2: -1.3065\n",
      "Epoch 9/500\n",
      "1512/1512 [==============================] - 6s 4ms/step - loss: 36390928.0000 - mae: 4565.0005 - r2: -1.2971 - val_loss: 35889876.0000 - val_mae: 4534.9629 - val_r2: -1.2959\n",
      "Epoch 10/500\n",
      "1512/1512 [==============================] - 6s 4ms/step - loss: 36234396.0000 - mae: 4556.5820 - r2: -1.2873 - val_loss: 35742396.0000 - val_mae: 4525.2646 - val_r2: -1.2864\n",
      "Epoch 11/500\n",
      "1512/1512 [==============================] - 6s 4ms/step - loss: 36065464.0000 - mae: 4547.4102 - r2: -1.2761 - val_loss: 35572832.0000 - val_mae: 4515.8970 - val_r2: -1.2756\n",
      "Epoch 12/500\n",
      "1512/1512 [==============================] - 6s 4ms/step - loss: 35884820.0000 - mae: 4537.5054 - r2: -1.2660 - val_loss: 35393236.0000 - val_mae: 4506.3540 - val_r2: -1.2641\n",
      "Epoch 13/500\n",
      "1512/1512 [==============================] - 6s 4ms/step - loss: 35692196.0000 - mae: 4526.8398 - r2: -1.2529 - val_loss: 35224648.0000 - val_mae: 4493.0493 - val_r2: -1.2532\n",
      "Epoch 14/500\n",
      "1512/1512 [==============================] - 6s 4ms/step - loss: 35488480.0000 - mae: 4515.4351 - r2: -1.2400 - val_loss: 34977080.0000 - val_mae: 4482.2529 - val_r2: -1.2375\n",
      "Epoch 15/500\n",
      "1512/1512 [==============================] - 6s 4ms/step - loss: 35272652.0000 - mae: 4503.2993 - r2: -1.2266 - val_loss: 34819196.0000 - val_mae: 4468.4814 - val_r2: -1.2273\n",
      "Epoch 16/500\n",
      "1512/1512 [==============================] - 6s 4ms/step - loss: 35045704.0000 - mae: 4490.4053 - r2: -1.2122 - val_loss: 34570788.0000 - val_mae: 4456.2095 - val_r2: -1.2114\n",
      "Epoch 17/500\n",
      "1512/1512 [==============================] - 6s 4ms/step - loss: 34807728.0000 - mae: 4476.7842 - r2: -1.1968 - val_loss: 34309984.0000 - val_mae: 4440.1704 - val_r2: -1.1947\n",
      "Epoch 18/500\n",
      "1512/1512 [==============================] - 6s 4ms/step - loss: 34558708.0000 - mae: 4462.4639 - r2: -1.1798 - val_loss: 34073556.0000 - val_mae: 4429.2310 - val_r2: -1.1797\n",
      "Epoch 19/500\n",
      "1512/1512 [==============================] - 6s 4ms/step - loss: 34299072.0000 - mae: 4447.3594 - r2: -1.1647 - val_loss: 33774196.0000 - val_mae: 4410.5757 - val_r2: -1.1605\n",
      "Epoch 20/500\n",
      "1512/1512 [==============================] - 6s 4ms/step - loss: 34028448.0000 - mae: 4431.5161 - r2: -1.1476 - val_loss: 33546770.0000 - val_mae: 4390.9980 - val_r2: -1.1458\n",
      "Epoch 21/500\n",
      "1512/1512 [==============================] - 6s 4ms/step - loss: 33748156.0000 - mae: 4415.0034 - r2: -1.1296 - val_loss: 33201038.0000 - val_mae: 4376.6958 - val_r2: -1.1238\n",
      "Epoch 22/500\n",
      "1512/1512 [==============================] - 6s 4ms/step - loss: 33458086.0000 - mae: 4397.7563 - r2: -1.1111 - val_loss: 33006706.0000 - val_mae: 4359.0815 - val_r2: -1.1113\n",
      "Epoch 23/500\n",
      "1512/1512 [==============================] - 6s 4ms/step - loss: 33155958.0000 - mae: 4379.7036 - r2: -1.0910 - val_loss: 32694216.0000 - val_mae: 4339.4878 - val_r2: -1.0913\n",
      "Epoch 24/500\n",
      "1512/1512 [==============================] - 6s 4ms/step - loss: 32845244.0000 - mae: 4361.0078 - r2: -1.0707 - val_loss: 32381818.0000 - val_mae: 4317.4146 - val_r2: -1.0712\n",
      "Epoch 25/500\n",
      "1512/1512 [==============================] - 6s 4ms/step - loss: 32523496.0000 - mae: 4341.5254 - r2: -1.0509 - val_loss: 32006758.0000 - val_mae: 4291.7817 - val_r2: -1.0471\n",
      "Epoch 26/500\n",
      "1512/1512 [==============================] - 6s 4ms/step - loss: 32194244.0000 - mae: 4321.3564 - r2: -1.0303 - val_loss: 31638516.0000 - val_mae: 4279.9893 - val_r2: -1.0238\n",
      "Epoch 27/500\n",
      "1512/1512 [==============================] - 6s 4ms/step - loss: 31855122.0000 - mae: 4300.5024 - r2: -1.0081 - val_loss: 31373844.0000 - val_mae: 4254.9810 - val_r2: -1.0067\n",
      "Epoch 28/500\n",
      "1512/1512 [==============================] - 6s 4ms/step - loss: 31505914.0000 - mae: 4278.9102 - r2: -0.9861 - val_loss: 31019074.0000 - val_mae: 4236.1973 - val_r2: -0.9841\n",
      "Epoch 29/500\n",
      "1512/1512 [==============================] - 6s 4ms/step - loss: 31147446.0000 - mae: 4256.4331 - r2: -0.9622 - val_loss: 30632648.0000 - val_mae: 4213.5605 - val_r2: -0.9595\n",
      "Epoch 30/500\n",
      "1512/1512 [==============================] - 6s 4ms/step - loss: 30784328.0000 - mae: 4233.4614 - r2: -0.9412 - val_loss: 30247004.0000 - val_mae: 4187.2251 - val_r2: -0.9347\n",
      "Epoch 31/500\n",
      "1512/1512 [==============================] - 6s 4ms/step - loss: 30408552.0000 - mae: 4209.6396 - r2: -0.9167 - val_loss: 29867502.0000 - val_mae: 4150.6641 - val_r2: -0.9102\n",
      "Epoch 32/500\n",
      "1512/1512 [==============================] - 6s 4ms/step - loss: 30027430.0000 - mae: 4185.0913 - r2: -0.8921 - val_loss: 29501192.0000 - val_mae: 4126.0308 - val_r2: -0.8867\n",
      "Epoch 33/500\n",
      "1512/1512 [==============================] - 6s 4ms/step - loss: 29635650.0000 - mae: 4159.8765 - r2: -0.8671 - val_loss: 29231658.0000 - val_mae: 4120.9121 - val_r2: -0.8698\n",
      "Epoch 34/500\n",
      "1512/1512 [==============================] - 6s 4ms/step - loss: 29237654.0000 - mae: 4133.9678 - r2: -0.8423 - val_loss: 28800536.0000 - val_mae: 4084.2778 - val_r2: -0.8420\n",
      "Epoch 35/500\n",
      "1512/1512 [==============================] - 6s 4ms/step - loss: 28829208.0000 - mae: 4107.3247 - r2: -0.8158 - val_loss: 28370298.0000 - val_mae: 4056.4199 - val_r2: -0.8145\n",
      "Epoch 36/500\n",
      "1512/1512 [==============================] - 6s 4ms/step - loss: 28416972.0000 - mae: 4079.9902 - r2: -0.7893 - val_loss: 27949558.0000 - val_mae: 4022.8032 - val_r2: -0.7875\n",
      "Epoch 37/500\n",
      "1512/1512 [==============================] - 6s 4ms/step - loss: 27998538.0000 - mae: 4051.8218 - r2: -0.7631 - val_loss: 27694406.0000 - val_mae: 4005.0774 - val_r2: -0.7712\n",
      "Epoch 38/500\n",
      "1512/1512 [==============================] - 6s 4ms/step - loss: 27569436.0000 - mae: 4022.9478 - r2: -0.7351 - val_loss: 27276282.0000 - val_mae: 3972.5024 - val_r2: -0.7443\n",
      "Epoch 39/500\n",
      "1512/1512 [==============================] - 6s 4ms/step - loss: 27140506.0000 - mae: 3993.6599 - r2: -0.7093 - val_loss: 26771494.0000 - val_mae: 3929.5657 - val_r2: -0.7119\n",
      "Epoch 40/500\n",
      "1512/1512 [==============================] - 6s 4ms/step - loss: 26700512.0000 - mae: 3963.3025 - r2: -0.6812 - val_loss: 26426628.0000 - val_mae: 3920.0022 - val_r2: -0.6901\n",
      "Epoch 41/500\n",
      "1512/1512 [==============================] - 6s 4ms/step - loss: 26249796.0000 - mae: 3932.3801 - r2: -0.6506 - val_loss: 25990460.0000 - val_mae: 3901.8252 - val_r2: -0.6625\n",
      "Epoch 42/500\n",
      "1512/1512 [==============================] - 6s 4ms/step - loss: 25802744.0000 - mae: 3900.8831 - r2: -0.6235 - val_loss: 25493178.0000 - val_mae: 3843.1851 - val_r2: -0.6302\n",
      "Epoch 43/500\n",
      "1512/1512 [==============================] - 6s 4ms/step - loss: 25347576.0000 - mae: 3868.5706 - r2: -0.5944 - val_loss: 24923698.0000 - val_mae: 3795.9670 - val_r2: -0.5937\n",
      "Epoch 44/500\n",
      "1512/1512 [==============================] - 6s 4ms/step - loss: 24884460.0000 - mae: 3835.6270 - r2: -0.5647 - val_loss: 24501404.0000 - val_mae: 3773.0525 - val_r2: -0.5667\n",
      "Epoch 45/500\n",
      "1512/1512 [==============================] - 6s 4ms/step - loss: 24423976.0000 - mae: 3801.9326 - r2: -0.5358 - val_loss: 23903556.0000 - val_mae: 3729.4031 - val_r2: -0.5284\n",
      "Epoch 46/500\n",
      "1512/1512 [==============================] - 6s 4ms/step - loss: 23948470.0000 - mae: 3767.2817 - r2: -0.5051 - val_loss: 23830744.0000 - val_mae: 3735.0012 - val_r2: -0.5241\n",
      "Epoch 47/500\n",
      "1512/1512 [==============================] - 7s 5ms/step - loss: 23474890.0000 - mae: 3732.0950 - r2: -0.4756 - val_loss: 23282584.0000 - val_mae: 3706.1711 - val_r2: -0.4894\n",
      "Epoch 48/500\n",
      "1512/1512 [==============================] - 7s 5ms/step - loss: 23001838.0000 - mae: 3696.3623 - r2: -0.4450 - val_loss: 22841180.0000 - val_mae: 3630.5564 - val_r2: -0.4604\n",
      "Epoch 49/500\n",
      "1512/1512 [==============================] - 6s 4ms/step - loss: 22517600.0000 - mae: 3659.6531 - r2: -0.4141 - val_loss: 22257656.0000 - val_mae: 3609.1465 - val_r2: -0.4234\n",
      "Epoch 50/500\n",
      "1512/1512 [==============================] - 6s 4ms/step - loss: 22033718.0000 - mae: 3622.5205 - r2: -0.3834 - val_loss: 21778042.0000 - val_mae: 3571.5740 - val_r2: -0.3927\n",
      "Epoch 51/500\n",
      "1512/1512 [==============================] - 6s 4ms/step - loss: 21554462.0000 - mae: 3584.6978 - r2: -0.3531 - val_loss: 21393168.0000 - val_mae: 3526.8352 - val_r2: -0.3678\n",
      "Epoch 52/500\n",
      "1512/1512 [==============================] - 6s 4ms/step - loss: 21061278.0000 - mae: 3546.1780 - r2: -0.3219 - val_loss: 20810340.0000 - val_mae: 3490.3040 - val_r2: -0.3307\n",
      "Epoch 53/500\n",
      "1512/1512 [==============================] - 6s 4ms/step - loss: 20573952.0000 - mae: 3507.0715 - r2: -0.2907 - val_loss: 20343494.0000 - val_mae: 3433.6250 - val_r2: -0.3006\n",
      "Epoch 54/500\n",
      "1512/1512 [==============================] - 6s 4ms/step - loss: 20081750.0000 - mae: 3467.1372 - r2: -0.2596 - val_loss: 19977388.0000 - val_mae: 3410.5881 - val_r2: -0.2772\n",
      "Epoch 55/500\n",
      "1512/1512 [==============================] - 6s 4ms/step - loss: 19589282.0000 - mae: 3426.4556 - r2: -0.2283 - val_loss: 19369244.0000 - val_mae: 3335.1792 - val_r2: -0.2380\n",
      "Epoch 56/500\n",
      "1512/1512 [==============================] - 6s 4ms/step - loss: 19093668.0000 - mae: 3385.2314 - r2: -0.1970 - val_loss: 18813404.0000 - val_mae: 3335.2083 - val_r2: -0.2034\n",
      "Epoch 57/500\n",
      "1512/1512 [==============================] - 6s 4ms/step - loss: 18603510.0000 - mae: 3343.2974 - r2: -0.1660 - val_loss: 18547938.0000 - val_mae: 3302.9443 - val_r2: -0.1862\n",
      "Epoch 58/500\n",
      "1512/1512 [==============================] - 8s 5ms/step - loss: 18108184.0000 - mae: 3300.7512 - r2: -0.1343 - val_loss: 17723192.0000 - val_mae: 3186.7478 - val_r2: -0.1326\n",
      "Epoch 59/500\n",
      "1512/1512 [==============================] - 7s 4ms/step - loss: 17609940.0000 - mae: 3257.5840 - r2: -0.1030 - val_loss: 17456562.0000 - val_mae: 3200.7363 - val_r2: -0.1163\n",
      "Epoch 60/500\n",
      "1512/1512 [==============================] - 7s 4ms/step - loss: 17125812.0000 - mae: 3213.7812 - r2: -0.0721 - val_loss: 16976582.0000 - val_mae: 3132.9829 - val_r2: -0.0852\n",
      "Epoch 61/500\n",
      "1512/1512 [==============================] - 6s 4ms/step - loss: 16635460.0000 - mae: 3169.0981 - r2: -0.0410 - val_loss: 16255968.0000 - val_mae: 3044.4358 - val_r2: -0.0388\n",
      "Epoch 62/500\n",
      "1512/1512 [==============================] - 6s 4ms/step - loss: 16146438.0000 - mae: 3124.3140 - r2: -0.0102 - val_loss: 15929602.0000 - val_mae: 3045.5701 - val_r2: -0.0187\n",
      "Epoch 63/500\n",
      "1512/1512 [==============================] - 7s 4ms/step - loss: 15651695.0000 - mae: 3078.6165 - r2: 0.0212 - val_loss: 15560992.0000 - val_mae: 2991.9563 - val_r2: 0.0053\n",
      "Epoch 64/500\n",
      "1512/1512 [==============================] - 7s 4ms/step - loss: 15183929.0000 - mae: 3032.5923 - r2: 0.0511 - val_loss: 14928495.0000 - val_mae: 2921.2642 - val_r2: 0.0460\n",
      "Epoch 65/500\n",
      "1512/1512 [==============================] - 7s 4ms/step - loss: 14684961.0000 - mae: 2985.4915 - r2: 0.0824 - val_loss: 14614868.0000 - val_mae: 2944.7878 - val_r2: 0.0647\n",
      "Epoch 66/500\n",
      "1512/1512 [==============================] - 7s 4ms/step - loss: 14206318.0000 - mae: 2938.1157 - r2: 0.1125 - val_loss: 14102869.0000 - val_mae: 2841.5916 - val_r2: 0.0987\n",
      "Epoch 67/500\n",
      "1512/1512 [==============================] - 7s 4ms/step - loss: 13747307.0000 - mae: 2890.3428 - r2: 0.1417 - val_loss: 13583544.0000 - val_mae: 2786.6150 - val_r2: 0.1319\n",
      "Epoch 68/500\n",
      "1512/1512 [==============================] - 7s 4ms/step - loss: 13270104.0000 - mae: 2841.8899 - r2: 0.1717 - val_loss: 13063010.0000 - val_mae: 2708.1785 - val_r2: 0.1654\n",
      "Epoch 69/500\n",
      "1512/1512 [==============================] - 7s 4ms/step - loss: 12797523.0000 - mae: 2792.8398 - r2: 0.2011 - val_loss: 12659337.0000 - val_mae: 2681.3877 - val_r2: 0.1909\n",
      "Epoch 70/500\n",
      "1512/1512 [==============================] - 7s 4ms/step - loss: 12346253.0000 - mae: 2743.3918 - r2: 0.2305 - val_loss: 12301878.0000 - val_mae: 2674.7307 - val_r2: 0.2133\n",
      "Epoch 71/500\n",
      "1512/1512 [==============================] - 6s 4ms/step - loss: 11883928.0000 - mae: 2693.2573 - r2: 0.2597 - val_loss: 11706101.0000 - val_mae: 2610.3511 - val_r2: 0.2512\n",
      "Epoch 72/500\n",
      "1512/1512 [==============================] - 7s 4ms/step - loss: 11437615.0000 - mae: 2643.0793 - r2: 0.2878 - val_loss: 11210299.0000 - val_mae: 2519.2373 - val_r2: 0.2835\n",
      "Epoch 73/500\n",
      "1512/1512 [==============================] - 7s 4ms/step - loss: 11000334.0000 - mae: 2592.6025 - r2: 0.3154 - val_loss: 10991956.0000 - val_mae: 2522.6277 - val_r2: 0.2969\n",
      "Epoch 74/500\n",
      "1512/1512 [==============================] - 6s 4ms/step - loss: 10560624.0000 - mae: 2540.9714 - r2: 0.3426 - val_loss: 10155045.0000 - val_mae: 2379.3989 - val_r2: 0.3511\n",
      "Epoch 75/500\n",
      "1512/1512 [==============================] - 7s 4ms/step - loss: 10137181.0000 - mae: 2490.6519 - r2: 0.3697 - val_loss: 10050172.0000 - val_mae: 2373.5674 - val_r2: 0.3577\n",
      "Epoch 76/500\n",
      "1512/1512 [==============================] - 7s 4ms/step - loss: 9712140.0000 - mae: 2438.4102 - r2: 0.3960 - val_loss: 9541463.0000 - val_mae: 2308.6152 - val_r2: 0.3902\n",
      "Epoch 77/500\n",
      "1512/1512 [==============================] - 7s 4ms/step - loss: 9308659.0000 - mae: 2386.8284 - r2: 0.4217 - val_loss: 9164251.0000 - val_mae: 2286.1633 - val_r2: 0.4136\n",
      "Epoch 78/500\n",
      "1512/1512 [==============================] - 7s 4ms/step - loss: 8888704.0000 - mae: 2333.7439 - r2: 0.4477 - val_loss: 8968089.0000 - val_mae: 2251.7173 - val_r2: 0.4264\n",
      "Epoch 79/500\n",
      "1512/1512 [==============================] - 7s 4ms/step - loss: 8498009.0000 - mae: 2281.6831 - r2: 0.4727 - val_loss: 8341060.0000 - val_mae: 2156.8884 - val_r2: 0.4667\n",
      "Epoch 80/500\n",
      "1512/1512 [==============================] - 7s 4ms/step - loss: 8122713.0000 - mae: 2228.9062 - r2: 0.4960 - val_loss: 8199119.5000 - val_mae: 2119.0757 - val_r2: 0.4760\n",
      "Epoch 81/500\n",
      "1512/1512 [==============================] - 7s 4ms/step - loss: 7744410.0000 - mae: 2178.0664 - r2: 0.5194 - val_loss: 7692180.5000 - val_mae: 2053.7539 - val_r2: 0.5079\n",
      "Epoch 82/500\n",
      "1512/1512 [==============================] - 7s 4ms/step - loss: 7377712.0000 - mae: 2125.3848 - r2: 0.5423 - val_loss: 7254604.5000 - val_mae: 1998.4366 - val_r2: 0.5358\n",
      "Epoch 83/500\n",
      "1512/1512 [==============================] - 7s 4ms/step - loss: 7043374.0000 - mae: 2073.9312 - r2: 0.5637 - val_loss: 6857783.5000 - val_mae: 1932.4812 - val_r2: 0.5613\n",
      "Epoch 84/500\n",
      "1512/1512 [==============================] - 6s 4ms/step - loss: 6692808.0000 - mae: 2022.5413 - r2: 0.5852 - val_loss: 6640938.0000 - val_mae: 1896.2898 - val_r2: 0.5751\n",
      "Epoch 85/500\n",
      "1512/1512 [==============================] - 6s 4ms/step - loss: 6365888.5000 - mae: 1970.1508 - r2: 0.6055 - val_loss: 6845288.5000 - val_mae: 1975.5273 - val_r2: 0.5599\n",
      "Epoch 86/500\n",
      "1512/1512 [==============================] - 6s 4ms/step - loss: 6048693.0000 - mae: 1918.6257 - r2: 0.6256 - val_loss: 5999547.5000 - val_mae: 1776.2511 - val_r2: 0.6161\n",
      "Epoch 87/500\n",
      "1512/1512 [==============================] - 6s 4ms/step - loss: 5741627.5000 - mae: 1867.7551 - r2: 0.6440 - val_loss: 5885862.5000 - val_mae: 1784.1052 - val_r2: 0.6229\n",
      "Epoch 88/500\n",
      "1512/1512 [==============================] - 6s 4ms/step - loss: 5449676.0000 - mae: 1816.8544 - r2: 0.6625 - val_loss: 5262979.0000 - val_mae: 1644.1665 - val_r2: 0.6632\n",
      "Epoch 89/500\n",
      "1512/1512 [==============================] - 6s 4ms/step - loss: 5197122.0000 - mae: 1770.2234 - r2: 0.6785 - val_loss: 5062898.0000 - val_mae: 1625.1974 - val_r2: 0.6755\n",
      "Epoch 90/500\n",
      "1512/1512 [==============================] - 6s 4ms/step - loss: 4924805.0000 - mae: 1720.7749 - r2: 0.6948 - val_loss: 5058469.5000 - val_mae: 1619.3455 - val_r2: 0.6759\n",
      "Epoch 91/500\n",
      "1512/1512 [==============================] - 6s 4ms/step - loss: 4679412.0000 - mae: 1673.1735 - r2: 0.7104 - val_loss: 4774171.5000 - val_mae: 1541.4202 - val_r2: 0.6942\n",
      "Epoch 92/500\n",
      "1512/1512 [==============================] - 6s 4ms/step - loss: 4447858.5000 - mae: 1629.3221 - r2: 0.7241 - val_loss: 4616892.0000 - val_mae: 1560.3895 - val_r2: 0.7034\n",
      "Epoch 93/500\n",
      "1512/1512 [==============================] - 6s 4ms/step - loss: 4238836.5000 - mae: 1583.5848 - r2: 0.7368 - val_loss: 4462123.5000 - val_mae: 1512.9733 - val_r2: 0.7133\n",
      "Epoch 94/500\n",
      "1512/1512 [==============================] - 6s 4ms/step - loss: 4043612.0000 - mae: 1542.5134 - r2: 0.7492 - val_loss: 4241722.5000 - val_mae: 1448.7106 - val_r2: 0.7279\n",
      "Epoch 95/500\n",
      "1512/1512 [==============================] - 6s 4ms/step - loss: 3844690.7500 - mae: 1499.9290 - r2: 0.7611 - val_loss: 3993224.5000 - val_mae: 1393.9509 - val_r2: 0.7437\n",
      "Epoch 96/500\n",
      "1512/1512 [==============================] - 7s 4ms/step - loss: 3682339.5000 - mae: 1461.7831 - r2: 0.7708 - val_loss: 4454864.5000 - val_mae: 1467.0885 - val_r2: 0.7112\n",
      "Epoch 97/500\n",
      "1512/1512 [==============================] - 7s 4ms/step - loss: 3517858.5000 - mae: 1422.2460 - r2: 0.7808 - val_loss: 3897109.0000 - val_mae: 1386.5549 - val_r2: 0.7482\n",
      "Epoch 98/500\n",
      "1512/1512 [==============================] - 6s 4ms/step - loss: 3368229.7500 - mae: 1385.1018 - r2: 0.7899 - val_loss: 3870923.0000 - val_mae: 1367.2904 - val_r2: 0.7500\n",
      "Epoch 99/500\n",
      "1512/1512 [==============================] - 7s 4ms/step - loss: 3252691.7500 - mae: 1352.7289 - r2: 0.7971 - val_loss: 3566293.2500 - val_mae: 1300.4247 - val_r2: 0.7704\n",
      "Epoch 100/500\n",
      "1512/1512 [==============================] - 7s 4ms/step - loss: 3140581.2500 - mae: 1319.6978 - r2: 0.8037 - val_loss: 3372337.7500 - val_mae: 1254.1981 - val_r2: 0.7825\n",
      "Epoch 101/500\n",
      "1512/1512 [==============================] - 7s 4ms/step - loss: 3011758.0000 - mae: 1283.6837 - r2: 0.8114 - val_loss: 3288610.7500 - val_mae: 1230.6786 - val_r2: 0.7878\n",
      "Epoch 102/500\n",
      "1512/1512 [==============================] - 7s 4ms/step - loss: 2905159.5000 - mae: 1253.5652 - r2: 0.8174 - val_loss: 3408606.5000 - val_mae: 1247.9792 - val_r2: 0.7793\n",
      "Epoch 103/500\n",
      "1512/1512 [==============================] - 7s 4ms/step - loss: 2828551.7500 - mae: 1227.0953 - r2: 0.8222 - val_loss: 3086727.5000 - val_mae: 1163.2412 - val_r2: 0.8011\n",
      "Epoch 104/500\n",
      "1512/1512 [==============================] - 7s 4ms/step - loss: 2732613.5000 - mae: 1197.2751 - r2: 0.8279 - val_loss: 3065639.0000 - val_mae: 1168.2007 - val_r2: 0.8018\n",
      "Epoch 105/500\n",
      "1512/1512 [==============================] - 6s 4ms/step - loss: 2672423.2500 - mae: 1175.6490 - r2: 0.8314 - val_loss: 3047664.2500 - val_mae: 1143.1597 - val_r2: 0.8029\n",
      "Epoch 106/500\n",
      "1512/1512 [==============================] - 6s 4ms/step - loss: 2604921.5000 - mae: 1152.6195 - r2: 0.8354 - val_loss: 2937832.5000 - val_mae: 1124.6298 - val_r2: 0.8102\n",
      "Epoch 107/500\n",
      "1512/1512 [==============================] - 7s 4ms/step - loss: 2532426.0000 - mae: 1127.4985 - r2: 0.8397 - val_loss: 2922083.0000 - val_mae: 1111.8223 - val_r2: 0.8111\n",
      "Epoch 108/500\n",
      "1512/1512 [==============================] - 6s 4ms/step - loss: 2504120.7500 - mae: 1113.9242 - r2: 0.8414 - val_loss: 2883566.5000 - val_mae: 1106.1915 - val_r2: 0.8136\n",
      "Epoch 109/500\n",
      "1512/1512 [==============================] - 6s 4ms/step - loss: 2437515.2500 - mae: 1090.3146 - r2: 0.8451 - val_loss: 2897337.5000 - val_mae: 1100.3684 - val_r2: 0.8125\n",
      "Epoch 110/500\n",
      "1512/1512 [==============================] - 6s 4ms/step - loss: 2398308.0000 - mae: 1074.7526 - r2: 0.8477 - val_loss: 2824040.7500 - val_mae: 1099.7241 - val_r2: 0.8172\n",
      "Epoch 111/500\n",
      "1512/1512 [==============================] - 7s 4ms/step - loss: 2360122.0000 - mae: 1059.9120 - r2: 0.8499 - val_loss: 2859565.0000 - val_mae: 1096.5889 - val_r2: 0.8151\n",
      "Epoch 112/500\n",
      "1512/1512 [==============================] - 7s 4ms/step - loss: 2340077.0000 - mae: 1049.6866 - r2: 0.8513 - val_loss: 2880056.0000 - val_mae: 1093.4075 - val_r2: 0.8136\n",
      "Epoch 113/500\n",
      "1512/1512 [==============================] - 7s 4ms/step - loss: 2320944.5000 - mae: 1041.1837 - r2: 0.8524 - val_loss: 2970042.7500 - val_mae: 1086.6716 - val_r2: 0.8077\n",
      "Epoch 114/500\n",
      "1512/1512 [==============================] - 7s 4ms/step - loss: 2300538.7500 - mae: 1034.8488 - r2: 0.8534 - val_loss: 2868321.2500 - val_mae: 1085.1593 - val_r2: 0.8141\n",
      "Epoch 115/500\n",
      "1512/1512 [==============================] - 7s 4ms/step - loss: 2299028.5000 - mae: 1032.7656 - r2: 0.8534 - val_loss: 2882349.2500 - val_mae: 1097.1425 - val_r2: 0.8133\n",
      "Epoch 116/500\n",
      "1512/1512 [==============================] - 7s 4ms/step - loss: 2262400.7500 - mae: 1023.4771 - r2: 0.8559 - val_loss: 2847132.0000 - val_mae: 1092.7792 - val_r2: 0.8157\n",
      "Epoch 117/500\n",
      "1512/1512 [==============================] - 7s 4ms/step - loss: 2266250.2500 - mae: 1023.3184 - r2: 0.8551 - val_loss: 2932642.5000 - val_mae: 1130.5249 - val_r2: 0.8102\n",
      "Epoch 118/500\n",
      "1512/1512 [==============================] - 7s 4ms/step - loss: 2250783.2500 - mae: 1022.2366 - r2: 0.8559 - val_loss: 2957764.5000 - val_mae: 1081.3505 - val_r2: 0.8084\n",
      "Epoch 119/500\n",
      "1512/1512 [==============================] - 7s 4ms/step - loss: 2247175.2500 - mae: 1019.7886 - r2: 0.8564 - val_loss: 2940493.7500 - val_mae: 1148.9348 - val_r2: 0.8096\n",
      "Epoch 120/500\n",
      "1512/1512 [==============================] - 7s 4ms/step - loss: 2260305.5000 - mae: 1024.0713 - r2: 0.8554 - val_loss: 2932611.0000 - val_mae: 1117.1079 - val_r2: 0.8103\n",
      "Epoch 121/500\n",
      "1512/1512 [==============================] - 7s 4ms/step - loss: 2250245.7500 - mae: 1021.4794 - r2: 0.8561 - val_loss: 2905081.2500 - val_mae: 1118.0215 - val_r2: 0.8118\n",
      "Epoch 122/500\n",
      "1512/1512 [==============================] - 7s 4ms/step - loss: 2242590.0000 - mae: 1020.5836 - r2: 0.8565 - val_loss: 2941700.0000 - val_mae: 1128.5219 - val_r2: 0.8095\n",
      "Epoch 123/500\n",
      "1512/1512 [==============================] - 7s 4ms/step - loss: 2252354.2500 - mae: 1023.5554 - r2: 0.8557 - val_loss: 2927334.7500 - val_mae: 1126.2345 - val_r2: 0.8102\n",
      "Epoch 124/500\n",
      "1512/1512 [==============================] - 7s 5ms/step - loss: 2250395.2500 - mae: 1022.9141 - r2: 0.8558 - val_loss: 2902995.0000 - val_mae: 1123.7571 - val_r2: 0.8117\n",
      "Epoch 125/500\n",
      "1512/1512 [==============================] - 7s 4ms/step - loss: 2234683.2500 - mae: 1020.3060 - r2: 0.8569 - val_loss: 2914897.2500 - val_mae: 1142.3864 - val_r2: 0.8111\n",
      "Epoch 126/500\n",
      "1512/1512 [==============================] - 7s 4ms/step - loss: 2230409.5000 - mae: 1020.5574 - r2: 0.8568 - val_loss: 2974728.7500 - val_mae: 1100.0720 - val_r2: 0.8069\n",
      "Epoch 127/500\n",
      "1512/1512 [==============================] - 7s 4ms/step - loss: 2227391.5000 - mae: 1019.1035 - r2: 0.8570 - val_loss: 2911148.5000 - val_mae: 1139.2775 - val_r2: 0.8112\n",
      "Epoch 128/500\n",
      "1512/1512 [==============================] - 7s 4ms/step - loss: 2224955.5000 - mae: 1020.0751 - r2: 0.8575 - val_loss: 3003536.2500 - val_mae: 1088.6556 - val_r2: 0.8050\n",
      "Epoch 129/500\n",
      "1512/1512 [==============================] - 7s 5ms/step - loss: 2232560.5000 - mae: 1022.7065 - r2: 0.8567 - val_loss: 2862112.7500 - val_mae: 1107.2174 - val_r2: 0.8144\n",
      "Epoch 130/500\n",
      "1512/1512 [==============================] - 7s 4ms/step - loss: 2222981.5000 - mae: 1018.5652 - r2: 0.8577 - val_loss: 2864113.2500 - val_mae: 1089.9298 - val_r2: 0.8138\n",
      "Epoch 131/500\n",
      "1512/1512 [==============================] - 7s 4ms/step - loss: 2222933.0000 - mae: 1019.0815 - r2: 0.8576 - val_loss: 2897522.7500 - val_mae: 1099.7545 - val_r2: 0.8119\n",
      "Epoch 132/500\n",
      "1512/1512 [==============================] - 7s 4ms/step - loss: 2218791.7500 - mae: 1017.2994 - r2: 0.8578 - val_loss: 2929174.7500 - val_mae: 1136.9224 - val_r2: 0.8101\n",
      "Epoch 133/500\n",
      "1512/1512 [==============================] - 7s 4ms/step - loss: 2211258.5000 - mae: 1017.5240 - r2: 0.8587 - val_loss: 2942562.7500 - val_mae: 1108.5707 - val_r2: 0.8090\n",
      "Epoch 134/500\n",
      "1512/1512 [==============================] - 7s 4ms/step - loss: 2221812.5000 - mae: 1018.7328 - r2: 0.8573 - val_loss: 2968000.7500 - val_mae: 1169.5466 - val_r2: 0.8074\n",
      "Epoch 135/500\n",
      "1512/1512 [==============================] - 7s 4ms/step - loss: 2215087.0000 - mae: 1017.4191 - r2: 0.8579 - val_loss: 2950832.0000 - val_mae: 1122.8174 - val_r2: 0.8087\n",
      "Epoch 136/500\n",
      "1512/1512 [==============================] - 7s 4ms/step - loss: 2209936.7500 - mae: 1015.5527 - r2: 0.8581 - val_loss: 2980406.2500 - val_mae: 1161.8845 - val_r2: 0.8066\n",
      "Epoch 137/500\n",
      "1512/1512 [==============================] - 7s 4ms/step - loss: 2225599.5000 - mae: 1021.2285 - r2: 0.8573 - val_loss: 2942834.2500 - val_mae: 1147.7655 - val_r2: 0.8093\n",
      "Epoch 138/500\n",
      "1512/1512 [==============================] - 7s 4ms/step - loss: 2218648.2500 - mae: 1019.7004 - r2: 0.8574 - val_loss: 2907005.7500 - val_mae: 1098.3914 - val_r2: 0.8115\n",
      "Epoch 139/500\n",
      "1512/1512 [==============================] - 7s 4ms/step - loss: 2208474.7500 - mae: 1017.5184 - r2: 0.8583 - val_loss: 3119545.0000 - val_mae: 1172.9700 - val_r2: 0.7979\n",
      "Epoch 140/500\n",
      "1512/1512 [==============================] - 7s 4ms/step - loss: 2209290.2500 - mae: 1016.9717 - r2: 0.8583 - val_loss: 3012156.7500 - val_mae: 1143.3467 - val_r2: 0.8046\n",
      "Epoch 141/500\n",
      "1512/1512 [==============================] - 7s 4ms/step - loss: 2225735.5000 - mae: 1021.7971 - r2: 0.8569 - val_loss: 3064029.2500 - val_mae: 1150.2462 - val_r2: 0.8014\n",
      "Epoch 142/500\n",
      "1512/1512 [==============================] - 7s 4ms/step - loss: 2210423.0000 - mae: 1019.1618 - r2: 0.8584 - val_loss: 3030959.5000 - val_mae: 1127.7231 - val_r2: 0.8036\n",
      "Epoch 143/500\n",
      "1512/1512 [==============================] - 7s 4ms/step - loss: 2207721.5000 - mae: 1018.2884 - r2: 0.8579 - val_loss: 3068734.7500 - val_mae: 1194.1755 - val_r2: 0.8007\n",
      "Epoch 144/500\n",
      "1512/1512 [==============================] - 7s 4ms/step - loss: 2194152.5000 - mae: 1014.0096 - r2: 0.8590 - val_loss: 3189424.5000 - val_mae: 1167.2828 - val_r2: 0.7932\n",
      "Epoch 145/500\n",
      "1512/1512 [==============================] - 7s 4ms/step - loss: 2189330.5000 - mae: 1012.7585 - r2: 0.8594 - val_loss: 3072142.7500 - val_mae: 1170.4664 - val_r2: 0.8006\n",
      "Epoch 146/500\n",
      "1512/1512 [==============================] - 7s 4ms/step - loss: 2191338.0000 - mae: 1014.4857 - r2: 0.8597 - val_loss: 2938678.0000 - val_mae: 1135.6787 - val_r2: 0.8093\n",
      "Epoch 147/500\n",
      "1512/1512 [==============================] - 7s 4ms/step - loss: 2210723.0000 - mae: 1017.4929 - r2: 0.8579 - val_loss: 2956095.2500 - val_mae: 1148.6193 - val_r2: 0.8081\n",
      "Epoch 148/500\n",
      "1512/1512 [==============================] - 7s 4ms/step - loss: 2191296.2500 - mae: 1016.4117 - r2: 0.8592 - val_loss: 2975485.0000 - val_mae: 1129.4893 - val_r2: 0.8067\n",
      "Epoch 149/500\n",
      "1512/1512 [==============================] - 7s 4ms/step - loss: 2183624.2500 - mae: 1011.6155 - r2: 0.8596 - val_loss: 2974761.5000 - val_mae: 1127.5848 - val_r2: 0.8071\n",
      "Epoch 150/500\n",
      "1512/1512 [==============================] - 7s 4ms/step - loss: 2199451.5000 - mae: 1015.9000 - r2: 0.8588 - val_loss: 3029565.2500 - val_mae: 1186.6160 - val_r2: 0.8034\n",
      "Epoch 151/500\n",
      "1512/1512 [==============================] - 7s 4ms/step - loss: 2193571.7500 - mae: 1013.0057 - r2: 0.8591 - val_loss: 3027977.2500 - val_mae: 1101.7362 - val_r2: 0.8037\n",
      "Epoch 152/500\n",
      "1512/1512 [==============================] - 7s 4ms/step - loss: 2187111.2500 - mae: 1012.5102 - r2: 0.8597 - val_loss: 2998915.2500 - val_mae: 1140.3602 - val_r2: 0.8053\n",
      "Epoch 153/500\n",
      "1512/1512 [==============================] - 7s 5ms/step - loss: 2184804.2500 - mae: 1009.9850 - r2: 0.8602 - val_loss: 2949424.5000 - val_mae: 1113.7366 - val_r2: 0.8086\n",
      "Epoch 154/500\n",
      "1512/1512 [==============================] - 7s 4ms/step - loss: 2184870.0000 - mae: 1011.6335 - r2: 0.8601 - val_loss: 2967709.2500 - val_mae: 1090.0145 - val_r2: 0.8073\n",
      "Epoch 155/500\n",
      "1512/1512 [==============================] - 7s 4ms/step - loss: 2176693.2500 - mae: 1011.5329 - r2: 0.8604 - val_loss: 2925742.0000 - val_mae: 1135.5634 - val_r2: 0.8102\n",
      "Epoch 156/500\n",
      "1512/1512 [==============================] - 7s 4ms/step - loss: 2190383.5000 - mae: 1012.9608 - r2: 0.8598 - val_loss: 2982215.0000 - val_mae: 1162.4243 - val_r2: 0.8063\n",
      "Epoch 157/500\n",
      "1512/1512 [==============================] - 7s 4ms/step - loss: 2198830.2500 - mae: 1015.2971 - r2: 0.8588 - val_loss: 2943337.7500 - val_mae: 1110.2083 - val_r2: 0.8089\n",
      "Epoch 158/500\n",
      "1512/1512 [==============================] - 7s 4ms/step - loss: 2200393.2500 - mae: 1016.6158 - r2: 0.8588 - val_loss: 2875362.0000 - val_mae: 1120.3234 - val_r2: 0.8134\n",
      "Epoch 159/500\n",
      "1512/1512 [==============================] - 7s 4ms/step - loss: 2204483.0000 - mae: 1017.1003 - r2: 0.8584 - val_loss: 2915355.7500 - val_mae: 1127.1698 - val_r2: 0.8109\n",
      "Epoch 160/500\n",
      "1512/1512 [==============================] - 7s 4ms/step - loss: 2191078.7500 - mae: 1015.2570 - r2: 0.8594 - val_loss: 2945615.2500 - val_mae: 1142.9949 - val_r2: 0.8088\n",
      "Epoch 161/500\n",
      "1512/1512 [==============================] - 7s 4ms/step - loss: 2184490.0000 - mae: 1013.3893 - r2: 0.8600 - val_loss: 3067107.2500 - val_mae: 1197.8925 - val_r2: 0.8008\n",
      "Epoch 162/500\n",
      "1512/1512 [==============================] - 7s 4ms/step - loss: 2190677.0000 - mae: 1014.1057 - r2: 0.8596 - val_loss: 2949554.5000 - val_mae: 1126.8147 - val_r2: 0.8084\n",
      "Epoch 163/500\n",
      "1512/1512 [==============================] - 7s 4ms/step - loss: 2181970.7500 - mae: 1011.9229 - r2: 0.8602 - val_loss: 3097935.7500 - val_mae: 1179.9736 - val_r2: 0.7991\n",
      "Epoch 164/500\n",
      "1512/1512 [==============================] - 7s 4ms/step - loss: 2180211.5000 - mae: 1012.9166 - r2: 0.8602 - val_loss: 3079837.2500 - val_mae: 1132.2209 - val_r2: 0.8002\n",
      "Epoch 165/500\n",
      "1512/1512 [==============================] - 7s 4ms/step - loss: 2194281.7500 - mae: 1014.8765 - r2: 0.8596 - val_loss: 3031408.0000 - val_mae: 1095.8379 - val_r2: 0.8032\n",
      "Epoch 166/500\n",
      "1512/1512 [==============================] - 7s 4ms/step - loss: 2189189.7500 - mae: 1014.4305 - r2: 0.8589 - val_loss: 2968234.2500 - val_mae: 1095.3389 - val_r2: 0.8074\n",
      "Epoch 167/500\n",
      "1512/1512 [==============================] - 7s 4ms/step - loss: 2181436.5000 - mae: 1013.3984 - r2: 0.8601 - val_loss: 3015561.7500 - val_mae: 1098.2289 - val_r2: 0.8044\n",
      "Epoch 168/500\n",
      "1512/1512 [==============================] - 7s 4ms/step - loss: 2178928.2500 - mae: 1013.7769 - r2: 0.8595 - val_loss: 2934516.5000 - val_mae: 1092.5250 - val_r2: 0.8098\n",
      "Epoch 169/500\n",
      "1512/1512 [==============================] - 7s 4ms/step - loss: 2171980.7500 - mae: 1009.4702 - r2: 0.8608 - val_loss: 3059401.2500 - val_mae: 1163.5007 - val_r2: 0.8011\n",
      "Epoch 170/500\n",
      "1512/1512 [==============================] - 7s 5ms/step - loss: 2179267.7500 - mae: 1012.0780 - r2: 0.8600 - val_loss: 2968892.2500 - val_mae: 1128.8047 - val_r2: 0.8075\n",
      "Epoch 171/500\n",
      "1512/1512 [==============================] - 7s 4ms/step - loss: 2165314.5000 - mae: 1009.4089 - r2: 0.8611 - val_loss: 3033131.7500 - val_mae: 1179.5627 - val_r2: 0.8030\n",
      "Epoch 172/500\n",
      "1512/1512 [==============================] - 7s 4ms/step - loss: 2156954.2500 - mae: 1007.0509 - r2: 0.8618 - val_loss: 2961700.7500 - val_mae: 1126.5654 - val_r2: 0.8077\n",
      "Epoch 173/500\n",
      "1512/1512 [==============================] - 7s 4ms/step - loss: 2161642.5000 - mae: 1008.7559 - r2: 0.8612 - val_loss: 3071494.2500 - val_mae: 1201.6195 - val_r2: 0.8006\n",
      "Epoch 174/500\n",
      "1512/1512 [==============================] - 7s 4ms/step - loss: 2172682.0000 - mae: 1010.8862 - r2: 0.8604 - val_loss: 2932496.5000 - val_mae: 1090.5992 - val_r2: 0.8097\n",
      "Epoch 175/500\n",
      "1512/1512 [==============================] - 7s 4ms/step - loss: 2153494.2500 - mae: 1006.5635 - r2: 0.8622 - val_loss: 3032056.7500 - val_mae: 1192.4969 - val_r2: 0.8031\n",
      "Epoch 176/500\n",
      "1512/1512 [==============================] - 7s 4ms/step - loss: 2175908.7500 - mae: 1011.1031 - r2: 0.8604 - val_loss: 2922315.0000 - val_mae: 1110.3224 - val_r2: 0.8102\n",
      "Epoch 177/500\n",
      "1512/1512 [==============================] - 7s 5ms/step - loss: 2159941.0000 - mae: 1008.5240 - r2: 0.8612 - val_loss: 2954624.2500 - val_mae: 1128.2639 - val_r2: 0.8079\n",
      "Epoch 178/500\n",
      "1512/1512 [==============================] - 7s 4ms/step - loss: 2170821.5000 - mae: 1010.8925 - r2: 0.8604 - val_loss: 3009781.2500 - val_mae: 1161.6857 - val_r2: 0.8045\n",
      "Epoch 179/500\n",
      "1512/1512 [==============================] - 7s 4ms/step - loss: 2153384.0000 - mae: 1006.7462 - r2: 0.8616 - val_loss: 2950233.0000 - val_mae: 1134.3375 - val_r2: 0.8083\n",
      "Epoch 180/500\n",
      "1512/1512 [==============================] - 7s 4ms/step - loss: 2161666.0000 - mae: 1007.6713 - r2: 0.8609 - val_loss: 2892923.5000 - val_mae: 1125.1060 - val_r2: 0.8121\n",
      "Epoch 181/500\n",
      "1512/1512 [==============================] - 7s 4ms/step - loss: 2160985.5000 - mae: 1009.0789 - r2: 0.8616 - val_loss: 3030752.0000 - val_mae: 1179.7520 - val_r2: 0.8031\n",
      "Epoch 182/500\n",
      "1512/1512 [==============================] - 7s 4ms/step - loss: 2164747.2500 - mae: 1010.1517 - r2: 0.8607 - val_loss: 3037340.5000 - val_mae: 1179.0715 - val_r2: 0.8027\n",
      "Epoch 183/500\n",
      "1512/1512 [==============================] - 7s 5ms/step - loss: 2144832.2500 - mae: 1005.1599 - r2: 0.8628 - val_loss: 3107658.5000 - val_mae: 1182.5431 - val_r2: 0.7981\n",
      "Epoch 184/500\n",
      "1512/1512 [==============================] - 7s 5ms/step - loss: 2156241.7500 - mae: 1007.8345 - r2: 0.8616 - val_loss: 3148509.2500 - val_mae: 1180.4216 - val_r2: 0.7956\n",
      "Epoch 185/500\n",
      "1512/1512 [==============================] - 7s 5ms/step - loss: 2142126.0000 - mae: 1003.1600 - r2: 0.8624 - val_loss: 3159031.5000 - val_mae: 1112.0000 - val_r2: 0.7954\n",
      "Epoch 186/500\n",
      "1512/1512 [==============================] - 7s 4ms/step - loss: 2154783.7500 - mae: 1006.9111 - r2: 0.8620 - val_loss: 3046484.0000 - val_mae: 1177.1158 - val_r2: 0.8022\n",
      "Epoch 187/500\n",
      "1512/1512 [==============================] - 7s 4ms/step - loss: 2155642.0000 - mae: 1007.9746 - r2: 0.8616 - val_loss: 3098423.0000 - val_mae: 1187.4509 - val_r2: 0.7987\n",
      "Epoch 188/500\n",
      "1512/1512 [==============================] - 7s 5ms/step - loss: 2155088.0000 - mae: 1006.7414 - r2: 0.8621 - val_loss: 3040387.7500 - val_mae: 1152.4952 - val_r2: 0.8026\n",
      "Epoch 189/500\n",
      "1512/1512 [==============================] - 7s 5ms/step - loss: 2160982.7500 - mae: 1010.0693 - r2: 0.8612 - val_loss: 3053648.0000 - val_mae: 1163.6487 - val_r2: 0.8018\n",
      "Epoch 190/500\n",
      "1512/1512 [==============================] - 7s 5ms/step - loss: 2164537.7500 - mae: 1010.4493 - r2: 0.8613 - val_loss: 2988385.5000 - val_mae: 1110.5381 - val_r2: 0.8063\n",
      "Epoch 191/500\n",
      "1512/1512 [==============================] - 7s 5ms/step - loss: 2153915.2500 - mae: 1007.9416 - r2: 0.8616 - val_loss: 3084618.7500 - val_mae: 1180.9904 - val_r2: 0.8000\n",
      "Epoch 192/500\n",
      "1512/1512 [==============================] - 7s 5ms/step - loss: 2149632.5000 - mae: 1006.1454 - r2: 0.8618 - val_loss: 2903310.7500 - val_mae: 1096.0935 - val_r2: 0.8116\n",
      "Epoch 193/500\n",
      "1512/1512 [==============================] - 7s 5ms/step - loss: 2141327.5000 - mae: 1004.3892 - r2: 0.8627 - val_loss: 3003083.0000 - val_mae: 1144.7878 - val_r2: 0.8051\n",
      "Epoch 194/500\n",
      "1512/1512 [==============================] - 7s 5ms/step - loss: 2146805.5000 - mae: 1006.7564 - r2: 0.8623 - val_loss: 3071393.5000 - val_mae: 1189.6263 - val_r2: 0.8008\n",
      "Epoch 195/500\n",
      "1512/1512 [==============================] - 7s 5ms/step - loss: 2155769.7500 - mae: 1007.3413 - r2: 0.8615 - val_loss: 3093164.0000 - val_mae: 1157.5417 - val_r2: 0.7992\n",
      "Epoch 196/500\n",
      "1512/1512 [==============================] - 7s 5ms/step - loss: 2140919.5000 - mae: 1003.9664 - r2: 0.8630 - val_loss: 2987993.2500 - val_mae: 1135.3678 - val_r2: 0.8062\n",
      "Epoch 197/500\n",
      "1512/1512 [==============================] - 7s 5ms/step - loss: 2151716.2500 - mae: 1006.5743 - r2: 0.8622 - val_loss: 2974256.0000 - val_mae: 1116.3292 - val_r2: 0.8068\n",
      "Epoch 198/500\n",
      "1512/1512 [==============================] - 7s 5ms/step - loss: 2135097.0000 - mae: 1003.9710 - r2: 0.8632 - val_loss: 2973778.7500 - val_mae: 1141.3179 - val_r2: 0.8067\n",
      "Epoch 199/500\n",
      "1512/1512 [==============================] - 7s 5ms/step - loss: 2133915.2500 - mae: 1002.7220 - r2: 0.8633 - val_loss: 2976939.7500 - val_mae: 1130.5830 - val_r2: 0.8066\n",
      "Epoch 200/500\n",
      "1512/1512 [==============================] - 7s 5ms/step - loss: 2123518.5000 - mae: 1000.8309 - r2: 0.8640 - val_loss: 3072631.7500 - val_mae: 1196.0575 - val_r2: 0.8006\n",
      "Epoch 201/500\n",
      "1512/1512 [==============================] - 7s 5ms/step - loss: 2130467.5000 - mae: 1002.6434 - r2: 0.8637 - val_loss: 2922997.2500 - val_mae: 1124.6239 - val_r2: 0.8102\n",
      "Epoch 202/500\n",
      "1512/1512 [==============================] - 7s 5ms/step - loss: 2148679.5000 - mae: 1007.0516 - r2: 0.8622 - val_loss: 2838383.7500 - val_mae: 1095.3551 - val_r2: 0.8160\n",
      "Epoch 203/500\n",
      "1512/1512 [==============================] - 7s 5ms/step - loss: 2139290.7500 - mae: 1006.5612 - r2: 0.8625 - val_loss: 3007159.2500 - val_mae: 1171.4756 - val_r2: 0.8048\n",
      "Epoch 204/500\n",
      "1512/1512 [==============================] - 7s 5ms/step - loss: 2120287.7500 - mae: 1000.8212 - r2: 0.8640 - val_loss: 3067313.0000 - val_mae: 1167.9749 - val_r2: 0.8004\n",
      "Epoch 205/500\n",
      "1512/1512 [==============================] - 7s 5ms/step - loss: 2142886.0000 - mae: 1005.2664 - r2: 0.8621 - val_loss: 2997578.5000 - val_mae: 1152.0220 - val_r2: 0.8055\n",
      "Epoch 206/500\n",
      "1512/1512 [==============================] - 7s 5ms/step - loss: 2126792.5000 - mae: 1003.3035 - r2: 0.8637 - val_loss: 2925569.0000 - val_mae: 1146.7340 - val_r2: 0.8101\n",
      "Epoch 207/500\n",
      "1512/1512 [==============================] - 7s 5ms/step - loss: 2129744.5000 - mae: 1003.5131 - r2: 0.8634 - val_loss: 2969743.0000 - val_mae: 1159.5361 - val_r2: 0.8071\n",
      "Epoch 208/500\n",
      "1512/1512 [==============================] - 7s 5ms/step - loss: 2141625.7500 - mae: 1005.5378 - r2: 0.8621 - val_loss: 2937035.0000 - val_mae: 1134.1173 - val_r2: 0.8094\n",
      "Epoch 209/500\n",
      "1512/1512 [==============================] - 7s 5ms/step - loss: 2133527.2500 - mae: 1006.4281 - r2: 0.8633 - val_loss: 2942866.7500 - val_mae: 1134.0140 - val_r2: 0.8088\n",
      "Epoch 210/500\n",
      "1512/1512 [==============================] - 7s 5ms/step - loss: 2132419.7500 - mae: 1004.8088 - r2: 0.8633 - val_loss: 2934069.5000 - val_mae: 1139.0083 - val_r2: 0.8094\n",
      "1477/1477 [==============================] - 2s 1ms/step - loss: 2934477.5000 - mae: 1136.3995 - r2: 0.8030\n",
      "Deep Learning Regression Mean Absolute Error: 1136.40\n",
      "Deep Learning Regression R-squared Score: 0.80\n"
     ]
    }
   ],
   "source": [
    "from tensorflow.keras.layers import BatchNormalization\n",
    "from tensorflow.keras.regularizers import L2\n",
    "\n",
    "# Split the data into training and testing sets\n",
    "X_train, X_test, y_train, y_test = train_test_split(X, y, test_size=0.2, random_state=42)\n",
    "\n",
    "# Define the model\n",
    "model = Sequential()\n",
    "model.add(Dense(128, activation='relu', input_shape=(X_train.shape[1],)))\n",
    "model.add(BatchNormalization())\n",
    "model.add(Dense(64, activation='relu'))\n",
    "model.add(BatchNormalization())\n",
    "model.add(Dense(32, activation='relu', kernel_regularizer=L2(0.001)))\n",
    "model.add(BatchNormalization())\n",
    "model.add(Dense(16, activation='relu', kernel_regularizer=L2(0.001)))\n",
    "model.add(BatchNormalization())\n",
    "model.add(Dense(1))\n",
    "\n",
    "# Compile the model\n",
    "model.compile(optimizer=tf.keras.optimizers.Adam(learning_rate=0.0001), loss='mse', metrics=['mae', r2])\n",
    "\n",
    "# Fit the model with early stopping\n",
    "early_stop = EarlyStopping(monitor='val_loss', patience=100)\n",
    "history = model.fit(X_train, y_train, validation_split=0.2, batch_size=100, epochs=500, callbacks=[early_stop])\n",
    "\n",
    "# Evaluate the model\n",
    "score = model.evaluate(X_test, y_test)\n",
    "print(f'Deep Learning Regression Mean Absolute Error: {score[1]:.2f}')\n",
    "print(f'Deep Learning Regression R-squared Score: {score[2]:.2f}')\n"
   ]
  },
  {
   "cell_type": "code",
   "execution_count": 27,
   "metadata": {},
   "outputs": [
    {
     "name": "stdout",
     "output_type": "stream",
     "text": [
      "Model: \"sequential_3\"\n",
      "_________________________________________________________________\n",
      " Layer (type)                Output Shape              Param #   \n",
      "=================================================================\n",
      " dense_15 (Dense)            (None, 128)               42112     \n",
      "                                                                 \n",
      " batch_normalization_12 (Bat  (None, 128)              512       \n",
      " chNormalization)                                                \n",
      "                                                                 \n",
      " dense_16 (Dense)            (None, 64)                8256      \n",
      "                                                                 \n",
      " batch_normalization_13 (Bat  (None, 64)               256       \n",
      " chNormalization)                                                \n",
      "                                                                 \n",
      " dense_17 (Dense)            (None, 32)                2080      \n",
      "                                                                 \n",
      " batch_normalization_14 (Bat  (None, 32)               128       \n",
      " chNormalization)                                                \n",
      "                                                                 \n",
      " dense_18 (Dense)            (None, 16)                528       \n",
      "                                                                 \n",
      " batch_normalization_15 (Bat  (None, 16)               64        \n",
      " chNormalization)                                                \n",
      "                                                                 \n",
      " dense_19 (Dense)            (None, 1)                 17        \n",
      "                                                                 \n",
      "=================================================================\n",
      "Total params: 53,953\n",
      "Trainable params: 53,473\n",
      "Non-trainable params: 480\n",
      "_________________________________________________________________\n"
     ]
    }
   ],
   "source": [
    "model.summary()"
   ]
  },
  {
   "cell_type": "code",
   "execution_count": 28,
   "metadata": {},
   "outputs": [
    {
     "data": {
      "text/plain": [
       "[array([[ 0.07077176, -0.06966871,  0.06316877, ...,  0.00306115,\n",
       "          0.00150392, -0.03394781],\n",
       "        [ 0.02256889, -0.1263312 ,  0.07521515, ...,  0.05296656,\n",
       "         -0.00919866,  0.01454983],\n",
       "        [-0.04234969,  0.07711842,  0.02715938, ...,  0.14665315,\n",
       "         -0.06582844, -0.09654518],\n",
       "        ...,\n",
       "        [ 0.07081605, -0.06724201,  0.07344387, ..., -0.07313693,\n",
       "         -0.10606753,  0.01868113],\n",
       "        [-0.00153971,  0.03484892, -0.04092249, ..., -0.05484848,\n",
       "          0.09210058, -0.00130812],\n",
       "        [ 0.08116365,  0.00159335,  0.11505504, ...,  0.13451484,\n",
       "         -0.18576732,  0.10870671]], dtype=float32),\n",
       " array([-0.0051248 ,  0.00307763, -0.06188229, -0.03890805, -0.0023839 ,\n",
       "        -0.05338309, -0.05898419, -0.01212557,  0.01319243, -0.02932495,\n",
       "        -0.07942124,  0.00690332, -0.03879039, -0.0300154 , -0.02462495,\n",
       "        -0.00695667,  0.07778399, -0.01979143,  0.02530532, -0.00412265,\n",
       "         0.00096311, -0.03958415, -0.03558834, -0.02488592, -0.01809362,\n",
       "        -0.020808  , -0.03742186,  0.08182459, -0.09325769,  0.02465057,\n",
       "        -0.01341819, -0.07359606, -0.02935479, -0.03310869, -0.05212811,\n",
       "         0.01039723,  0.02226743,  0.03264033,  0.02234875,  0.01249474,\n",
       "         0.0358117 , -0.00205305, -0.14239481, -0.04528972, -0.0364362 ,\n",
       "        -0.0310264 ,  0.07576817, -0.0270626 , -0.01282348, -0.03551062,\n",
       "         0.03990496,  0.01440271,  0.05625592, -0.00950941, -0.02896897,\n",
       "        -0.0458063 ,  0.03772692,  0.05784131, -0.00244769,  0.04401734,\n",
       "         0.03972415, -0.04151873,  0.0132309 ,  0.02739228, -0.03732099,\n",
       "        -0.02445246, -0.03813399, -0.06943786, -0.01083741,  0.03385252,\n",
       "         0.02672779, -0.00035543,  0.05091933,  0.04195151, -0.05811507,\n",
       "         0.00880894, -0.0041258 ,  0.02398373, -0.04905235, -0.05293825,\n",
       "         0.0231505 , -0.00343126, -0.0579365 ,  0.01869632, -0.09064834,\n",
       "         0.03984014,  0.03063916,  0.01524585, -0.04239077, -0.04048668,\n",
       "        -0.01671524,  0.01951806, -0.00914465, -0.01674165, -0.03830778,\n",
       "        -0.01921283, -0.02109776,  0.00900399,  0.00043859,  0.06021218,\n",
       "        -0.12449318, -0.03910796,  0.00486508, -0.00986472, -0.03795796,\n",
       "        -0.02138381,  0.01372447,  0.01671404,  0.05753686, -0.03681736,\n",
       "         0.02589105, -0.05141965, -0.02090199, -0.01314832, -0.01782299,\n",
       "         0.00618034,  0.01996607,  0.0103006 ,  0.06623611,  0.01518917,\n",
       "        -0.06020814, -0.02432319, -0.06018632,  0.04783078, -0.04557183,\n",
       "         0.06597451, -0.01133964,  0.01437053], dtype=float32),\n",
       " array([1.009367  , 0.9436698 , 0.86622304, 1.1211306 , 0.97449225,\n",
       "        1.1583109 , 0.99214655, 1.0205461 , 1.0047246 , 0.9714552 ,\n",
       "        1.0531098 , 1.071649  , 0.95135605, 1.0377903 , 1.0518086 ,\n",
       "        1.0542337 , 0.9713903 , 0.9374614 , 0.9786246 , 0.968047  ,\n",
       "        1.038377  , 1.0070082 , 1.0075581 , 1.0278354 , 0.9842682 ,\n",
       "        0.8943821 , 0.8909809 , 0.95186055, 0.9860439 , 1.0565612 ,\n",
       "        1.0735191 , 0.9776138 , 1.1158069 , 0.9907326 , 1.2048986 ,\n",
       "        0.96828085, 0.9967758 , 0.9346227 , 1.0213444 , 1.0805722 ,\n",
       "        0.85634536, 1.0229051 , 1.2730333 , 1.1044967 , 1.0220042 ,\n",
       "        0.921721  , 0.9860643 , 0.95321625, 0.97171205, 0.9921815 ,\n",
       "        1.0022426 , 1.0076712 , 1.1804941 , 0.88081807, 0.8851303 ,\n",
       "        0.97761595, 0.9884182 , 1.0596393 , 0.91498554, 0.9246621 ,\n",
       "        0.9827351 , 1.164519  , 0.95390344, 0.937425  , 0.90259874,\n",
       "        0.9063133 , 1.1144223 , 1.0107871 , 0.96668535, 0.98067737,\n",
       "        1.024852  , 1.013572  , 0.9282792 , 0.9942804 , 1.0347444 ,\n",
       "        1.090808  , 1.0877484 , 0.965689  , 0.9416056 , 1.0316969 ,\n",
       "        1.0297977 , 0.97708786, 0.924228  , 0.9104476 , 0.99573773,\n",
       "        1.0328366 , 1.135166  , 1.0303589 , 0.97600657, 0.91216916,\n",
       "        1.0505764 , 0.92863405, 0.98581564, 1.0302243 , 0.96516955,\n",
       "        0.90351903, 0.9387334 , 0.94554424, 0.95181674, 0.8505253 ,\n",
       "        1.008404  , 0.9998152 , 1.0646231 , 1.046471  , 0.8985737 ,\n",
       "        1.0418692 , 0.96009994, 0.9588583 , 1.0198007 , 0.8942051 ,\n",
       "        0.9372744 , 1.0016706 , 1.0777003 , 1.0256357 , 0.9970065 ,\n",
       "        0.9692679 , 0.9328266 , 0.96441936, 1.0002781 , 1.0296885 ,\n",
       "        0.8845648 , 1.0716531 , 0.909706  , 0.9522041 , 1.0829597 ,\n",
       "        0.98569864, 1.0527678 , 1.0537435 ], dtype=float32),\n",
       " array([ 0.07570696, -0.1838433 ,  0.07226586,  0.11987054,  0.18632528,\n",
       "         0.21694703,  0.18830556, -0.0165606 , -0.16562547, -0.081214  ,\n",
       "         0.1516378 , -0.16798706, -0.18351205, -0.19326377,  0.16250195,\n",
       "         0.0804891 ,  0.2568406 ,  0.03848206,  0.15695436, -0.11784162,\n",
       "        -0.00921961,  0.18695311,  0.03573798, -0.01913919, -0.28632978,\n",
       "         0.0053292 ,  0.2887726 ,  0.08076548, -0.18576449,  0.17888416,\n",
       "        -0.08109715, -0.06923937,  0.0798402 ,  0.23334157, -0.11546751,\n",
       "         0.16395353,  0.28894708,  0.09789676, -0.0124525 , -0.16094097,\n",
       "         0.21132244,  0.2145272 , -0.01408711, -0.13143754, -0.04037154,\n",
       "        -0.00484793,  0.17809944, -0.18343166, -0.17142127, -0.21595494,\n",
       "         0.20236593, -0.02077964,  0.35144594,  0.0136626 , -0.06748622,\n",
       "        -0.24675311,  0.21423288,  0.08470112, -0.1349539 ,  0.04521431,\n",
       "         0.11101577,  0.08302967,  0.0436726 ,  0.11663481, -0.22004381,\n",
       "        -0.17754407,  0.07258467, -0.04280877,  0.02275892,  0.40435383,\n",
       "         0.15634339, -0.2325029 ,  0.1166529 , -0.07810636, -0.05059325,\n",
       "         0.02720187,  0.20330715,  0.21949491, -0.12425352,  0.0198626 ,\n",
       "         0.33163294,  0.08081567, -0.21971558, -0.20797099, -0.1953333 ,\n",
       "         0.04185627, -0.00974086,  0.2825088 , -0.28392297, -0.10324056,\n",
       "         0.12170107,  0.06047802,  0.19986916,  0.15560184, -0.21092337,\n",
       "        -0.15591799, -0.22320858,  0.21871391, -0.17026994, -0.11833867,\n",
       "        -0.3024681 ,  0.0534596 , -0.05950213, -0.1448547 , -0.15901758,\n",
       "         0.19998196,  0.06447268,  0.06385864,  0.12104712, -0.12876818,\n",
       "         0.24106774, -0.02046306, -0.04253541, -0.19907   ,  0.11139774,\n",
       "        -0.02217689, -0.04940667,  0.07745593,  0.3044013 ,  0.04368667,\n",
       "        -0.1685992 , -0.14136785, -0.05089319, -0.06056557, -0.25211042,\n",
       "         0.05704949,  0.12715046,  0.24816597], dtype=float32),\n",
       " array([0.05424402, 0.12617896, 0.05016584, 0.00344567, 0.08849563,\n",
       "        0.00391157, 0.00139146, 0.09719321, 0.14535086, 0.06778096,\n",
       "        0.00494556, 0.1922323 , 0.04004669, 0.01182089, 0.00490553,\n",
       "        0.08240613, 0.15676078, 0.14637768, 0.13705339, 0.08269519,\n",
       "        0.07316843, 0.12542605, 0.05488878, 0.12375511, 0.11724412,\n",
       "        0.09609535, 0.00536079, 0.16522944, 0.01772463, 0.168506  ,\n",
       "        0.08312516, 0.00453314, 0.05676255, 0.0944704 , 0.00459262,\n",
       "        0.1071707 , 0.08772986, 0.05882024, 0.13973331, 0.11780044,\n",
       "        0.12476832, 0.15103145, 0.00332766, 0.02427197, 0.10720531,\n",
       "        0.03698201, 0.10567109, 0.09441278, 0.14670718, 0.16976309,\n",
       "        0.08109204, 0.0681538 , 0.10196199, 0.09777963, 0.03070429,\n",
       "        0.04272867, 0.11300823, 0.17816043, 0.16324718, 0.06780361,\n",
       "        0.10103986, 0.00443623, 0.10807548, 0.10409591, 0.11113891,\n",
       "        0.09016515, 0.09707378, 0.01729879, 0.08862846, 0.17256758,\n",
       "        0.13784811, 0.14122169, 0.16811423, 0.11108769, 0.00541508,\n",
       "        0.10161089, 0.01193057, 0.16960256, 0.01260437, 0.00407515,\n",
       "        0.10216913, 0.04936988, 0.02526596, 0.14652418, 0.01698593,\n",
       "        0.23072988, 0.15372741, 0.06278083, 0.16550012, 0.06531817,\n",
       "        0.01674719, 0.05846082, 0.06864575, 0.05518681, 0.04185028,\n",
       "        0.02820163, 0.05873481, 0.02088208, 0.17583291, 0.17583583,\n",
       "        0.01166362, 0.01370615, 0.12701187, 0.0500134 , 0.02975781,\n",
       "        0.05285783, 0.13593663, 0.09282434, 0.2200318 , 0.07221412,\n",
       "        0.1931903 , 0.03791802, 0.1111341 , 0.16355631, 0.05588299,\n",
       "        0.02386278, 0.10915876, 0.07293879, 0.16261156, 0.09908268,\n",
       "        0.0573283 , 0.01251813, 0.04765232, 0.10242644, 0.00101635,\n",
       "        0.15284497, 0.01171373, 0.00883255], dtype=float32),\n",
       " array([0.00766691, 0.01594069, 0.01750714, 0.00494376, 0.0122274 ,\n",
       "        0.00448968, 0.00015919, 0.01542415, 0.01844716, 0.01001072,\n",
       "        0.00591008, 0.03182026, 0.00473772, 0.00149019, 0.00772783,\n",
       "        0.01140341, 0.02221042, 0.0185282 , 0.01997201, 0.01013042,\n",
       "        0.00937164, 0.01952053, 0.00545723, 0.02065661, 0.0197717 ,\n",
       "        0.01350727, 0.00062043, 0.02069652, 0.00195127, 0.02076835,\n",
       "        0.00987626, 0.00050399, 0.00667069, 0.01321102, 0.00047778,\n",
       "        0.01255822, 0.01097218, 0.00908538, 0.01848883, 0.01304015,\n",
       "        0.02884186, 0.01915012, 0.00042509, 0.00234866, 0.01782405,\n",
       "        0.0154887 , 0.01419492, 0.01478687, 0.02291435, 0.01867223,\n",
       "        0.01199179, 0.01547488, 0.01317982, 0.01329964, 0.00350637,\n",
       "        0.00646495, 0.01639217, 0.02213629, 0.01974759, 0.01893853,\n",
       "        0.01227966, 0.00048989, 0.01481962, 0.01936004, 0.02214397,\n",
       "        0.01283333, 0.01197604, 0.02286357, 0.01182354, 0.02280504,\n",
       "        0.01551721, 0.01815963, 0.01792937, 0.01175575, 0.00059907,\n",
       "        0.01201982, 0.0013653 , 0.02173145, 0.00156684, 0.00589674,\n",
       "        0.01091703, 0.00616235, 0.00313884, 0.04775564, 0.02241206,\n",
       "        0.03087495, 0.01944149, 0.0085505 , 0.01462956, 0.03913675,\n",
       "        0.00200372, 0.010612  , 0.00895124, 0.01295172, 0.00484421,\n",
       "        0.0113921 , 0.01983652, 0.02689028, 0.02379552, 0.01865584,\n",
       "        0.00163   , 0.0044624 , 0.01509541, 0.00613128, 0.00442461,\n",
       "        0.00786746, 0.01693423, 0.03265491, 0.02304555, 0.01553828,\n",
       "        0.02146883, 0.02295212, 0.01718744, 0.02770199, 0.01302875,\n",
       "        0.00269983, 0.01432   , 0.0084313 , 0.01995212, 0.01314009,\n",
       "        0.01744028, 0.00133486, 0.00669537, 0.01628764, 0.00010934,\n",
       "        0.02677428, 0.00154485, 0.00105341], dtype=float32),\n",
       " array([[ 0.08662628,  0.12286559, -0.10441665, ..., -0.05907038,\n",
       "         -0.06159268,  0.01345536],\n",
       "        [ 0.1237737 ,  0.00455894,  0.0107538 , ..., -0.01620141,\n",
       "          0.0346988 ,  0.01901727],\n",
       "        [-0.16451657, -0.1181784 , -0.08615426, ...,  0.05177676,\n",
       "          0.13405828, -0.03688626],\n",
       "        ...,\n",
       "        [-0.01239139, -0.09746807,  0.01886636, ...,  0.14128876,\n",
       "         -0.18167011, -0.38274002],\n",
       "        [ 0.00342863, -0.21751548, -0.06545676, ...,  0.12497231,\n",
       "          0.1512735 ,  0.02213208],\n",
       "        [ 0.10789274,  0.00212311, -0.23493427, ..., -0.13278586,\n",
       "          0.09538748, -0.01166528]], dtype=float32),\n",
       " array([-1.30554482e-01, -1.12347059e-01, -3.99817497e-01, -4.90949042e-02,\n",
       "        -4.39864025e-02, -4.65713441e-02,  3.18169035e-02, -1.17655374e-01,\n",
       "         5.63940071e-02, -4.83684316e-02, -7.91739076e-02,  3.12236995e-02,\n",
       "        -4.29440625e-02,  2.22777650e-02, -3.12150893e-04, -5.43561019e-02,\n",
       "        -3.34307738e-02, -3.65152024e-02, -4.25239094e-02,  1.30234228e-03,\n",
       "         1.46744400e-01, -6.79288059e-02, -7.10912272e-02, -1.02229737e-01,\n",
       "         2.24728845e-02, -2.25784391e-01, -4.39891219e-03, -8.13779682e-02,\n",
       "        -1.04436807e-01, -1.34361342e-01, -6.59797899e-03, -1.33777872e-01,\n",
       "         2.90085766e-02, -1.42609134e-01, -1.34793043e-01, -1.07858136e-01,\n",
       "         3.29421274e-02,  2.09508222e-02, -8.77977163e-02,  2.25515142e-01,\n",
       "         4.09282818e-02, -6.80264179e-03, -9.50787067e-02, -1.18666843e-01,\n",
       "        -6.43823817e-02, -1.50423154e-01, -4.37320210e-02, -9.40662846e-02,\n",
       "        -9.73250810e-03, -1.14022516e-01, -4.83758375e-02, -1.37315532e-02,\n",
       "        -6.06340030e-03, -6.00539893e-02,  1.04141563e-01, -1.06763721e-01,\n",
       "        -1.53368935e-01, -3.00013442e-02, -1.35832280e-01, -1.47327885e-01,\n",
       "         6.73237815e-02, -2.67887060e-02,  2.14701295e-02, -5.51971607e-02],\n",
       "       dtype=float32),\n",
       " array([1.0444987 , 1.0124899 , 0.7390818 , 0.9069754 , 0.9117417 ,\n",
       "        0.93859863, 0.8756666 , 0.89709586, 1.0286052 , 0.9822837 ,\n",
       "        0.9164258 , 0.7297266 , 0.96222204, 0.8457718 , 0.8363919 ,\n",
       "        1.0654022 , 0.9678185 , 0.85978323, 0.9679514 , 0.8427028 ,\n",
       "        0.92816216, 1.0265466 , 0.8729623 , 0.85220814, 0.9719709 ,\n",
       "        1.0291744 , 1.0582744 , 1.0253618 , 0.9998491 , 1.0611904 ,\n",
       "        0.9107612 , 0.98154235, 1.0225464 , 0.8572861 , 0.96035445,\n",
       "        0.8965138 , 1.0978149 , 0.9237331 , 0.9318925 , 1.0215373 ,\n",
       "        1.0908852 , 0.9542832 , 1.001232  , 1.0521005 , 0.9262897 ,\n",
       "        0.8404154 , 0.87878704, 1.043856  , 0.90567976, 0.9757655 ,\n",
       "        0.9739916 , 1.0148612 , 0.8981194 , 0.9346389 , 0.9030618 ,\n",
       "        0.8421032 , 1.0165081 , 0.98235977, 0.79706395, 0.8649476 ,\n",
       "        1.0853344 , 1.0527277 , 1.0222912 , 0.9085486 ], dtype=float32),\n",
       " array([-0.41576338, -0.5572262 , -0.79145575, -0.03136943, -0.263398  ,\n",
       "         0.43616387, -0.05383412, -0.40087742,  0.5577999 , -0.24407713,\n",
       "        -0.28212   , -0.30855078, -0.53680223,  0.3819337 , -0.04804751,\n",
       "         0.6035905 , -0.23387982, -0.3309094 ,  0.04834526, -0.06385528,\n",
       "         0.32502317, -0.41203216, -0.5945122 , -0.5885134 ,  0.5135906 ,\n",
       "         0.13886517,  0.13658956, -0.57131386, -0.43532532, -0.12993388,\n",
       "         0.33065188, -0.30149394, -0.2794836 , -0.5990146 , -0.12067035,\n",
       "        -0.52080226,  0.49411222,  0.0326205 , -0.3687709 , -0.5599901 ,\n",
       "         0.20165162, -0.3366397 , -0.17331891, -0.31700245, -0.35857365,\n",
       "        -0.34593007, -0.35826352,  0.11920612, -0.2314747 , -0.38152614,\n",
       "         0.28069383, -0.01866542,  0.03677548, -0.43828815, -0.4991495 ,\n",
       "        -0.6636483 , -0.34628975,  0.5292898 , -0.05729153, -0.3511443 ,\n",
       "        -0.25276083,  0.18873276,  0.812843  ,  0.04638757], dtype=float32),\n",
       " array([0.40364215, 0.14775208, 0.00953305, 0.1553323 , 0.5476036 ,\n",
       "        0.4280031 , 0.6129729 , 0.2988455 , 0.46646166, 0.55253255,\n",
       "        0.173503  , 0.35642728, 0.8067699 , 0.3338689 , 0.54025954,\n",
       "        0.45537555, 0.55925924, 0.38741988, 0.69927967, 0.35550076,\n",
       "        0.8350146 , 0.7278469 , 0.3313581 , 0.355313  , 0.55368394,\n",
       "        0.26888248, 0.6429098 , 0.64661455, 0.6451624 , 0.7168535 ,\n",
       "        0.43801978, 0.3165147 , 0.56590337, 0.27762863, 0.49896854,\n",
       "        0.2822606 , 0.5150807 , 0.3297218 , 0.434912  , 1.3583816 ,\n",
       "        0.51118743, 0.44949976, 0.4858777 , 0.46171677, 0.590532  ,\n",
       "        0.21665853, 0.43458304, 0.35410574, 0.5159545 , 0.21771815,\n",
       "        0.4324418 , 0.27388492, 0.38286757, 0.32691708, 0.32175633,\n",
       "        0.15458974, 0.20780523, 0.70662767, 0.27606687, 0.42619485,\n",
       "        0.7208837 , 0.88412285, 0.35168588, 0.38207465], dtype=float32),\n",
       " array([0.44810283, 0.14249387, 0.00720633, 0.13554855, 0.400588  ,\n",
       "        0.40405476, 0.5306626 , 0.320649  , 0.4740903 , 0.48879567,\n",
       "        0.15399991, 0.3663832 , 0.7816955 , 0.3562714 , 0.4028011 ,\n",
       "        0.94033957, 0.41131982, 0.5411911 , 0.52802855, 0.32986033,\n",
       "        1.7724795 , 0.69412595, 0.3864864 , 0.4489103 , 0.4365308 ,\n",
       "        0.22866236, 0.65492547, 0.9332543 , 0.6827969 , 0.5287285 ,\n",
       "        0.272517  , 0.33960176, 0.49543196, 0.3663069 , 0.4305388 ,\n",
       "        0.3200504 , 0.499474  , 0.2643656 , 0.41459534, 1.9149656 ,\n",
       "        0.3748051 , 0.45200393, 0.4089858 , 0.39032847, 0.5040245 ,\n",
       "        0.22593616, 0.57048875, 0.2654396 , 0.43325886, 0.25121227,\n",
       "        0.39221075, 0.2656064 , 0.34400994, 0.31106955, 0.29921287,\n",
       "        0.10011243, 0.18874249, 0.60451895, 0.3126227 , 0.58895093,\n",
       "        0.7095667 , 1.0831276 , 0.38109404, 0.48523661], dtype=float32),\n",
       " array([[-0.23192498, -0.07740745,  0.00102128, ...,  0.24130046,\n",
       "          0.16693313,  0.01742436],\n",
       "        [ 0.20455569,  0.06080815,  0.06374674, ...,  0.02778072,\n",
       "          0.0927912 ,  0.13787332],\n",
       "        [ 0.06858715,  0.22969049,  0.2839835 , ..., -0.04557663,\n",
       "          0.3019599 ,  0.30593312],\n",
       "        ...,\n",
       "        [ 0.3797967 ,  0.23546144,  0.05706384, ...,  0.11763388,\n",
       "         -0.06128431, -0.10571002],\n",
       "        [-0.07870165,  0.14975053, -0.1795683 , ..., -0.37624618,\n",
       "         -0.18723609, -0.24105816],\n",
       "        [ 0.09642876, -0.05566981,  0.06044789, ..., -0.1763686 ,\n",
       "          0.11982878, -0.20305084]], dtype=float32),\n",
       " array([-0.12801896,  0.0591624 , -0.40593338, -0.06732276, -0.43432522,\n",
       "         0.1173768 , -0.4087121 , -0.48528063, -0.05583638, -0.2365558 ,\n",
       "         0.14371352, -0.05747862, -0.22966862, -0.5685062 , -0.03271981,\n",
       "         0.04208845, -0.01333573,  0.02037939,  0.03420734, -0.21084973,\n",
       "        -0.45296058,  0.16028461, -0.12429725,  0.26171935, -0.53826284,\n",
       "        -0.51422054,  0.0746697 , -0.5343449 , -0.11187318, -0.39086482,\n",
       "        -0.4791708 , -0.5564471 ], dtype=float32),\n",
       " array([0.9637956 , 0.83825326, 0.6845996 , 1.05622   , 0.58742076,\n",
       "        0.67281336, 1.1835917 , 0.6313638 , 1.0558116 , 0.81697196,\n",
       "        0.41874823, 0.99886954, 0.89014935, 0.30431008, 0.92749476,\n",
       "        0.9032856 , 0.801643  , 0.9585771 , 1.0505617 , 0.5816373 ,\n",
       "        0.79344326, 0.90613526, 0.7353603 , 1.1515458 , 0.5030172 ,\n",
       "        0.51438516, 1.056144  , 1.0407525 , 1.040848  , 1.1480036 ,\n",
       "        0.8888721 , 0.80859524], dtype=float32),\n",
       " array([-0.33187985,  0.2952177 , -0.5463423 , -0.16263245, -0.4718234 ,\n",
       "        -0.6053518 , -0.47590527, -0.51095307,  0.28865525, -0.01161361,\n",
       "        -0.32631102, -0.27329522, -0.30616587, -0.47865394,  0.14709905,\n",
       "        -0.33974472,  0.01995185,  0.25843254,  0.24834973, -0.6687596 ,\n",
       "        -0.44403753,  0.16161455, -0.23047398,  0.49899766, -0.53326297,\n",
       "        -0.44479918, -0.33336207, -0.6211635 ,  0.31443477, -0.64541066,\n",
       "        -0.5040962 , -0.5255106 ], dtype=float32),\n",
       " array([2.15444922e-01, 6.11858070e-01, 1.58745609e-03, 1.03658132e-01,\n",
       "        8.59626941e-03, 6.91743255e-01, 3.59703251e-03, 3.42347106e-04,\n",
       "        1.09584951e+00, 1.41245779e-02, 2.18658328e+00, 2.75269926e-01,\n",
       "        1.11482866e-01, 3.67948957e-07, 3.98666263e-01, 5.91217220e-01,\n",
       "        6.86359346e-01, 1.13997412e+00, 1.00883186e+00, 8.76235545e-01,\n",
       "        1.49412092e-03, 1.16492856e+00, 8.12194407e-01, 5.56585729e-01,\n",
       "        7.93169439e-03, 2.35613436e-03, 5.13599634e-01, 7.51760662e-01,\n",
       "        1.47192001e+00, 4.37753052e-02, 4.10434231e-03, 3.04357585e-04],\n",
       "       dtype=float32),\n",
       " array([3.8976362e-01, 1.1438193e+00, 1.8027467e-03, 9.7013138e-02,\n",
       "        1.0458936e-02, 9.7701842e-01, 3.3440576e-03, 1.7289682e-04,\n",
       "        1.5002989e+00, 9.0242075e-03, 1.8246487e+00, 3.5986868e-01,\n",
       "        1.7040057e-01, 9.5620919e-08, 6.6467750e-01, 1.0288376e+00,\n",
       "        6.5956235e-01, 1.3232692e+00, 8.0820841e-01, 7.2229916e-01,\n",
       "        1.2834485e-03, 6.9829398e-01, 9.3357116e-01, 6.6382122e-01,\n",
       "        1.1248412e-02, 2.5927597e-03, 7.1032614e-01, 9.2130333e-01,\n",
       "        1.4644800e+00, 3.4259588e-02, 4.8748078e-03, 2.1521898e-04],\n",
       "       dtype=float32),\n",
       " array([[-0.00387685, -0.16588128,  0.23501064, -0.24026202,  0.11779252,\n",
       "         -0.12060365,  0.20639347,  0.19108242, -0.20600446, -0.13059877,\n",
       "          0.16208482, -0.11759511, -0.14376864,  0.13169923, -0.25481248,\n",
       "         -0.19074054],\n",
       "        [-0.416924  , -0.21376954,  0.14034447, -0.04469053, -0.1816328 ,\n",
       "         -0.21453351, -0.04396223,  0.12748903,  0.04067845, -0.28128836,\n",
       "         -0.06155607, -0.25933552, -0.23693155, -0.11846559,  0.07184887,\n",
       "         -0.21078458],\n",
       "        [-0.1389496 , -0.10892434, -0.2750061 , -0.08467379,  0.01643985,\n",
       "         -0.42541525, -0.04576111, -0.06724262, -0.44492128, -0.00304705,\n",
       "         -0.06441518, -0.04152535, -0.33015844, -0.07826102, -0.10802975,\n",
       "         -0.35249662],\n",
       "        [-0.5726095 , -0.19470844,  0.30699864, -0.18401685,  0.17397161,\n",
       "         -0.1470826 ,  0.24937555,  0.27012688, -0.16769063, -0.44377276,\n",
       "          0.20327663, -0.1626158 , -0.15473571,  0.20671591, -0.18759154,\n",
       "         -0.21519756],\n",
       "        [-0.21725509, -0.12561268,  0.13112769, -0.12826964, -0.12603883,\n",
       "         -0.13822827,  0.15360363,  0.08451393, -0.21034259, -0.19695477,\n",
       "          0.0584675 , -0.49982244, -0.36208287, -0.09721269, -0.04557622,\n",
       "         -0.32041425],\n",
       "        [-0.05167058, -0.20460549,  0.09952336, -0.0729588 ,  0.09966306,\n",
       "         -0.14724874, -0.01220672,  0.02754979, -0.1173892 , -0.06155152,\n",
       "          0.03093713, -0.11410989, -0.1893701 ,  0.10037207, -0.14620237,\n",
       "         -0.18982267],\n",
       "        [-0.02569548, -0.43652728, -0.02634944, -0.3766914 , -0.3094717 ,\n",
       "         -0.520378  ,  0.20274375,  0.356117  , -0.54916835, -0.36867025,\n",
       "          0.22727077, -0.34933057, -0.28914168, -0.19052261, -0.4449367 ,\n",
       "         -0.4937025 ],\n",
       "        [ 0.09284556, -0.41961548, -0.11036525, -0.34459794,  0.10055983,\n",
       "         -0.3903656 ,  0.2602808 ,  0.16283463, -0.4788351 , -0.11381198,\n",
       "          0.13217027, -0.4364086 , -0.43055192,  0.03235963, -0.22942115,\n",
       "         -0.4627487 ],\n",
       "        [ 0.18571593,  0.3448338 , -0.17046916,  0.07205433, -0.02989165,\n",
       "          0.281133  , -0.25897083, -0.35638183,  0.16692539,  0.30541492,\n",
       "         -0.23468986,  0.22060105,  0.33572227, -0.08867493,  0.09255827,\n",
       "          0.370628  ],\n",
       "        [-0.03430562, -0.15959887,  0.06556563, -0.18777536,  0.01869502,\n",
       "         -0.1862593 ,  0.08909303,  0.07725266, -0.1080037 , -0.03668953,\n",
       "          0.02885093, -0.19815302, -0.2315835 ,  0.02289924, -0.15519395,\n",
       "         -0.17729141],\n",
       "        [ 0.21186282, -0.02429374, -0.08436786, -0.13182603,  0.00792261,\n",
       "          0.07654044,  0.06912816, -0.2001133 , -0.31750223,  0.0044938 ,\n",
       "         -0.07321552,  0.06209378,  0.00248984,  0.00237724, -0.163406  ,\n",
       "          0.00469977],\n",
       "        [-0.17349923, -0.06314953,  0.26280975, -0.15334344,  0.17644773,\n",
       "         -0.04281615,  0.31361192,  0.24958593, -0.15751301, -0.19024877,\n",
       "          0.20070653, -0.02602256, -0.0296125 ,  0.19658774, -0.1900882 ,\n",
       "         -0.06995565],\n",
       "        [ 0.35398182,  0.176118  , -0.1534336 ,  0.16345161, -0.1786471 ,\n",
       "          0.13037816, -0.09694416, -0.12193775,  0.14123218,  0.27197206,\n",
       "         -0.10834408,  0.14917195,  0.12339901, -0.18503639,  0.13582897,\n",
       "          0.19754525],\n",
       "        [-0.13402422, -0.62687844, -0.08177923,  0.1643011 ,  0.36560765,\n",
       "         -0.09451399,  0.02649952,  0.18796276, -0.47991067, -0.35601416,\n",
       "          0.01729195, -0.06728289, -0.24177699,  0.31981978, -0.53846896,\n",
       "          0.00379324],\n",
       "        [-0.16761392, -0.03249341,  0.16371934, -0.18221235, -0.04995551,\n",
       "          0.04761236,  0.1422081 ,  0.10821491, -0.06822976, -0.1577727 ,\n",
       "          0.02815699,  0.01682364,  0.0511856 , -0.00854374, -0.11589631,\n",
       "         -0.0334769 ],\n",
       "        [-0.21265317, -0.19302762, -0.11010411, -0.09952828, -0.12526287,\n",
       "         -0.1732353 ,  0.14288962,  0.01958773, -0.04856363, -0.35418284,\n",
       "         -0.10781862, -0.17199135, -0.14913617, -0.14195499, -0.04053058,\n",
       "         -0.2951132 ],\n",
       "        [ 0.03285989,  0.12741016, -0.03415988,  0.05767354,  0.09306267,\n",
       "          0.24839598, -0.35131776, -0.3981463 ,  0.09267705,  0.03023924,\n",
       "         -0.20051469,  0.1360554 ,  0.16838007, -0.01590478,  0.11748132,\n",
       "          0.06426941],\n",
       "        [ 0.17581658,  0.24434291,  0.0414819 ,  0.1441239 , -0.03867547,\n",
       "          0.21474458, -0.12328941, -0.12332234,  0.11446539,  0.27701917,\n",
       "          0.03286638,  0.2981404 ,  0.26903722,  0.04272512,  0.05701583,\n",
       "          0.34205177],\n",
       "        [ 0.00612278,  0.00235891, -0.1623352 ,  0.41145998, -0.08994954,\n",
       "          0.01086743, -0.53745914, -0.25101346,  0.46671903,  0.03763506,\n",
       "         -0.06339907,  0.08573913, -0.04678332, -0.07578582,  0.46828827,\n",
       "          0.03132658],\n",
       "        [ 0.02368987, -0.00371183, -0.46740726,  0.0779232 , -0.21006179,\n",
       "         -0.04009879, -0.21962623, -0.50103796, -0.03520401, -0.11026707,\n",
       "         -0.39544812, -0.04856662, -0.04074376, -0.25153634,  0.1282353 ,\n",
       "         -0.17114933],\n",
       "        [-0.261791  , -0.48364934, -0.11449448,  0.06471254, -0.07655067,\n",
       "         -0.45243984,  0.24981965, -0.02154835, -0.22650844, -0.31459337,\n",
       "          0.01372328, -0.55732816, -0.1076196 , -0.13868724, -0.54708445,\n",
       "         -0.34187162],\n",
       "        [-0.05561307, -0.04201076, -0.19060807,  0.28220993, -0.16089015,\n",
       "         -0.01466766, -0.42068142, -0.302364  ,  0.34567767, -0.04595456,\n",
       "         -0.20742303,  0.04522952, -0.045252  , -0.12400462,  0.33711198,\n",
       "         -0.03551688],\n",
       "        [ 0.10893137,  0.18805698, -0.2198832 ,  0.00272681, -0.01839666,\n",
       "          0.19722977, -0.2077578 , -0.47232968,  0.02201258,  0.12882118,\n",
       "         -0.33783856,  0.11952783,  0.19706964, -0.12200702,  0.02883873,\n",
       "          0.14316233],\n",
       "        [ 0.44255763,  0.23744142,  0.48303494,  0.12103972,  0.66705596,\n",
       "          0.1803911 ,  0.24914284,  0.31942305,  0.02262976,  0.328401  ,\n",
       "          0.4851128 ,  0.24793994,  0.10569029,  0.66083026,  0.0183704 ,\n",
       "          0.25390422],\n",
       "        [ 0.13513476, -0.29467484,  0.0395839 , -0.1872505 , -0.03706859,\n",
       "         -0.25412694,  0.20436604,  0.13449703, -0.12025686,  0.07879248,\n",
       "         -0.00604779, -0.17357817, -0.1394263 , -0.07578606, -0.3437583 ,\n",
       "         -0.22165115],\n",
       "        [-0.07060412, -0.20541371,  0.07573693, -0.15670373, -0.24563015,\n",
       "         -0.4225517 ,  0.30089498, -0.05512384,  0.04963526,  0.16039288,\n",
       "          0.00425457, -0.46838915, -0.3547618 , -0.23814623, -0.12154171,\n",
       "         -0.39275464],\n",
       "        [-0.36241725, -0.41056192,  0.11706085, -0.24525656, -0.01665476,\n",
       "         -0.345055  ,  0.28006843,  0.2022308 , -0.13898556, -0.3581462 ,\n",
       "          0.02946879, -0.3632897 , -0.2947314 ,  0.0064146 , -0.17469017,\n",
       "         -0.4879045 ],\n",
       "        [-0.17348018, -0.16668805, -0.85744584, -0.39597577, -0.6274561 ,\n",
       "         -0.2860446 , -0.73070115, -0.55832195, -0.38349307, -0.15869425,\n",
       "         -0.32857797, -0.32980013, -0.18210366, -0.6924831 , -0.38818452,\n",
       "         -0.1952503 ],\n",
       "        [ 0.3765362 ,  0.2965972 ,  0.1850767 ,  0.17372036,  0.25530186,\n",
       "          0.26572263, -0.01474814,  0.00187906,  0.2129456 ,  0.432125  ,\n",
       "          0.18823606,  0.29453966,  0.25981975,  0.23990394,  0.10080522,\n",
       "          0.4254274 ],\n",
       "        [ 0.06912141,  0.05171449, -0.9207812 ,  0.04040346, -0.7322192 ,\n",
       "         -0.02255779, -0.5855012 , -0.7480522 ,  0.03097912,  0.08111115,\n",
       "         -0.7600372 , -0.02868506,  0.02063024, -0.8019214 ,  0.02105439,\n",
       "          0.07131191],\n",
       "        [-0.3391894 , -0.36437252, -0.02887404, -0.5814012 , -0.07789559,\n",
       "         -0.73463583,  0.14962824,  0.12344827, -0.39450678, -0.43732062,\n",
       "          0.10519496, -0.08310287, -0.69026697, -0.08669081, -0.6223644 ,\n",
       "         -0.45706144],\n",
       "        [-0.22142154, -0.3696484 ,  0.05609021, -0.18696058,  0.21084008,\n",
       "         -0.5542379 ,  0.23898967,  0.17672352, -0.32455134, -0.27425054,\n",
       "          0.15527378, -0.1208727 , -0.55524373,  0.12462001, -0.02727433,\n",
       "         -0.0854646 ]], dtype=float32),\n",
       " array([0.2636842 , 0.52360886, 0.9011036 , 0.388713  , 0.34829047,\n",
       "        0.5571268 , 0.48155016, 0.6334437 , 0.4267535 , 0.41448268,\n",
       "        0.5194259 , 0.5147223 , 0.5633981 , 0.44554913, 0.4349297 ,\n",
       "        0.4259481 ], dtype=float32),\n",
       " array([15.406163 , 15.3429785, 15.451394 , 15.347378 , 15.565853 ,\n",
       "        15.468361 , 15.463123 , 15.515813 , 15.413505 , 15.4704275,\n",
       "        15.423788 , 15.420051 , 15.428892 , 15.660014 , 15.374588 ,\n",
       "        15.346158 ], dtype=float32),\n",
       " array([-16.9376  , -16.957415,  17.004864, -16.953598,  16.959213,\n",
       "        -17.08062 ,  17.048012,  17.093084, -17.000685, -17.063866,\n",
       "         16.9857  , -17.037735, -17.030489,  17.145876, -16.961676,\n",
       "        -16.955572], dtype=float32),\n",
       " array([1.6406972, 3.0165372, 2.960661 , 2.2008224, 1.8388604, 3.3259945,\n",
       "        1.3212954, 1.9304379, 2.9823518, 2.3532681, 1.6739949, 2.7285023,\n",
       "        3.009639 , 2.24808  , 2.7448285, 3.085399 ], dtype=float32),\n",
       " array([1.2458631, 2.0946448, 5.0642447, 1.1973591, 1.6117013, 1.6205671,\n",
       "        4.3998847, 5.282124 , 1.3041625, 2.0709927, 2.1962633, 1.4770137,\n",
       "        1.741196 , 2.1620471, 1.3572177, 2.6295054], dtype=float32),\n",
       " array([[-17.198679],\n",
       "        [-17.04739 ],\n",
       "        [ 16.855192],\n",
       "        [-17.098736],\n",
       "        [ 17.10222 ],\n",
       "        [-16.659744],\n",
       "        [ 16.770535],\n",
       "        [ 16.623346],\n",
       "        [-16.885145],\n",
       "        [-16.58332 ],\n",
       "        [ 16.932718],\n",
       "        [-16.745684],\n",
       "        [-16.757425],\n",
       "        [ 16.65224 ],\n",
       "        [-17.05823 ],\n",
       "        [-17.054974]], dtype=float32),\n",
       " array([16.625267], dtype=float32)]"
      ]
     },
     "execution_count": 28,
     "metadata": {},
     "output_type": "execute_result"
    }
   ],
   "source": [
    "model.get_weights()"
   ]
  },
  {
   "cell_type": "code",
   "execution_count": 29,
   "metadata": {},
   "outputs": [
    {
     "name": "stdout",
     "output_type": "stream",
     "text": [
      "1477/1477 [==============================] - 1s 857us/step\n",
      "[[13204.232 ]\n",
      " [ 1492.8334]\n",
      " [ 7614.515 ]\n",
      " ...\n",
      " [ 3884.078 ]\n",
      " [ 2072.7087]\n",
      " [ 6805.8657]]\n"
     ]
    }
   ],
   "source": [
    "predictions = model.predict(X_test)\n",
    "\n",
    "# Print the predicted prices\n",
    "print(predictions)"
   ]
  },
  {
   "cell_type": "code",
   "execution_count": 30,
   "metadata": {},
   "outputs": [
    {
     "data": {
      "text/plain": [
       "57150     11800.0\n",
       "174552     1100.0\n",
       "232771     4360.0\n",
       "3924       6999.0\n",
       "3195       1899.0\n",
       "           ...   \n",
       "210308      555.0\n",
       "20689      7750.0\n",
       "94695      2100.0\n",
       "159766     2499.0\n",
       "229751     7200.0\n",
       "Name: price, Length: 47239, dtype: float64"
      ]
     },
     "execution_count": 30,
     "metadata": {},
     "output_type": "execute_result"
    }
   ],
   "source": [
    "y_test"
   ]
  },
  {
   "cell_type": "code",
   "execution_count": 31,
   "metadata": {},
   "outputs": [
    {
     "data": {
      "application/vnd.plotly.v1+json": {
       "config": {
        "plotlyServerURL": "https://plot.ly"
       },
       "data": [
        {
         "hovertemplate": "variable=loss<br>Epoch=%{x}<br>Loss=%{y}<extra></extra>",
         "legendgroup": "loss",
         "line": {
          "color": "#636efa",
          "dash": "solid"
         },
         "marker": {
          "symbol": "circle"
         },
         "mode": "lines",
         "name": "loss",
         "orientation": "v",
         "showlegend": true,
         "type": "scatter",
         "x": [
          1,
          2,
          3,
          4,
          5,
          6,
          7,
          8,
          9,
          10,
          11,
          12,
          13,
          14,
          15,
          16,
          17,
          18,
          19,
          20,
          21,
          22,
          23,
          24,
          25,
          26,
          27,
          28,
          29,
          30,
          31,
          32,
          33,
          34,
          35,
          36,
          37,
          38,
          39,
          40,
          41,
          42,
          43,
          44,
          45,
          46,
          47,
          48,
          49,
          50,
          51,
          52,
          53,
          54,
          55,
          56,
          57,
          58,
          59,
          60,
          61,
          62,
          63,
          64,
          65,
          66,
          67,
          68,
          69,
          70,
          71,
          72,
          73,
          74,
          75,
          76,
          77,
          78,
          79,
          80,
          81,
          82,
          83,
          84,
          85,
          86,
          87,
          88,
          89,
          90,
          91,
          92,
          93,
          94,
          95,
          96,
          97,
          98,
          99,
          100,
          101,
          102,
          103,
          104,
          105,
          106,
          107,
          108,
          109,
          110,
          111,
          112,
          113,
          114,
          115,
          116,
          117,
          118,
          119,
          120,
          121,
          122,
          123,
          124,
          125,
          126,
          127,
          128,
          129,
          130,
          131,
          132,
          133,
          134,
          135,
          136,
          137,
          138,
          139,
          140,
          141,
          142,
          143,
          144,
          145,
          146,
          147,
          148,
          149,
          150,
          151,
          152,
          153,
          154,
          155,
          156,
          157,
          158,
          159,
          160,
          161,
          162,
          163,
          164,
          165,
          166,
          167,
          168,
          169,
          170,
          171,
          172,
          173,
          174,
          175,
          176,
          177,
          178,
          179,
          180,
          181,
          182,
          183,
          184,
          185,
          186,
          187,
          188,
          189,
          190,
          191,
          192,
          193,
          194,
          195,
          196,
          197,
          198,
          199,
          200,
          201,
          202,
          203,
          204,
          205,
          206,
          207,
          208,
          209,
          210
         ],
         "xaxis": "x",
         "y": [
          37200856,
          37141064,
          37072220,
          36990356,
          36895540,
          36787932,
          36668168,
          36535848,
          36390928,
          36234396,
          36065464,
          35884820,
          35692196,
          35488480,
          35272652,
          35045704,
          34807728,
          34558708,
          34299072,
          34028448,
          33748156,
          33458086,
          33155958,
          32845244,
          32523496,
          32194244,
          31855122,
          31505914,
          31147446,
          30784328,
          30408552,
          30027430,
          29635650,
          29237654,
          28829208,
          28416972,
          27998538,
          27569436,
          27140506,
          26700512,
          26249796,
          25802744,
          25347576,
          24884460,
          24423976,
          23948470,
          23474890,
          23001838,
          22517600,
          22033718,
          21554462,
          21061278,
          20573952,
          20081750,
          19589282,
          19093668,
          18603510,
          18108184,
          17609940,
          17125812,
          16635460,
          16146438,
          15651695,
          15183929,
          14684961,
          14206318,
          13747307,
          13270104,
          12797523,
          12346253,
          11883928,
          11437615,
          11000334,
          10560624,
          10137181,
          9712140,
          9308659,
          8888704,
          8498009,
          8122713,
          7744410,
          7377712,
          7043374,
          6692808,
          6365888.5,
          6048693,
          5741627.5,
          5449676,
          5197122,
          4924805,
          4679412,
          4447858.5,
          4238836.5,
          4043612,
          3844690.75,
          3682339.5,
          3517858.5,
          3368229.75,
          3252691.75,
          3140581.25,
          3011758,
          2905159.5,
          2828551.75,
          2732613.5,
          2672423.25,
          2604921.5,
          2532426,
          2504120.75,
          2437515.25,
          2398308,
          2360122,
          2340077,
          2320944.5,
          2300538.75,
          2299028.5,
          2262400.75,
          2266250.25,
          2250783.25,
          2247175.25,
          2260305.5,
          2250245.75,
          2242590,
          2252354.25,
          2250395.25,
          2234683.25,
          2230409.5,
          2227391.5,
          2224955.5,
          2232560.5,
          2222981.5,
          2222933,
          2218791.75,
          2211258.5,
          2221812.5,
          2215087,
          2209936.75,
          2225599.5,
          2218648.25,
          2208474.75,
          2209290.25,
          2225735.5,
          2210423,
          2207721.5,
          2194152.5,
          2189330.5,
          2191338,
          2210723,
          2191296.25,
          2183624.25,
          2199451.5,
          2193571.75,
          2187111.25,
          2184804.25,
          2184870,
          2176693.25,
          2190383.5,
          2198830.25,
          2200393.25,
          2204483,
          2191078.75,
          2184490,
          2190677,
          2181970.75,
          2180211.5,
          2194281.75,
          2189189.75,
          2181436.5,
          2178928.25,
          2171980.75,
          2179267.75,
          2165314.5,
          2156954.25,
          2161642.5,
          2172682,
          2153494.25,
          2175908.75,
          2159941,
          2170821.5,
          2153384,
          2161666,
          2160985.5,
          2164747.25,
          2144832.25,
          2156241.75,
          2142126,
          2154783.75,
          2155642,
          2155088,
          2160982.75,
          2164537.75,
          2153915.25,
          2149632.5,
          2141327.5,
          2146805.5,
          2155769.75,
          2140919.5,
          2151716.25,
          2135097,
          2133915.25,
          2123518.5,
          2130467.5,
          2148679.5,
          2139290.75,
          2120287.75,
          2142886,
          2126792.5,
          2129744.5,
          2141625.75,
          2133527.25,
          2132419.75
         ],
         "yaxis": "y"
        },
        {
         "hovertemplate": "variable=val_loss<br>Epoch=%{x}<br>Loss=%{y}<extra></extra>",
         "legendgroup": "val_loss",
         "line": {
          "color": "#EF553B",
          "dash": "solid"
         },
         "marker": {
          "symbol": "circle"
         },
         "mode": "lines",
         "name": "val_loss",
         "orientation": "v",
         "showlegend": true,
         "type": "scatter",
         "x": [
          1,
          2,
          3,
          4,
          5,
          6,
          7,
          8,
          9,
          10,
          11,
          12,
          13,
          14,
          15,
          16,
          17,
          18,
          19,
          20,
          21,
          22,
          23,
          24,
          25,
          26,
          27,
          28,
          29,
          30,
          31,
          32,
          33,
          34,
          35,
          36,
          37,
          38,
          39,
          40,
          41,
          42,
          43,
          44,
          45,
          46,
          47,
          48,
          49,
          50,
          51,
          52,
          53,
          54,
          55,
          56,
          57,
          58,
          59,
          60,
          61,
          62,
          63,
          64,
          65,
          66,
          67,
          68,
          69,
          70,
          71,
          72,
          73,
          74,
          75,
          76,
          77,
          78,
          79,
          80,
          81,
          82,
          83,
          84,
          85,
          86,
          87,
          88,
          89,
          90,
          91,
          92,
          93,
          94,
          95,
          96,
          97,
          98,
          99,
          100,
          101,
          102,
          103,
          104,
          105,
          106,
          107,
          108,
          109,
          110,
          111,
          112,
          113,
          114,
          115,
          116,
          117,
          118,
          119,
          120,
          121,
          122,
          123,
          124,
          125,
          126,
          127,
          128,
          129,
          130,
          131,
          132,
          133,
          134,
          135,
          136,
          137,
          138,
          139,
          140,
          141,
          142,
          143,
          144,
          145,
          146,
          147,
          148,
          149,
          150,
          151,
          152,
          153,
          154,
          155,
          156,
          157,
          158,
          159,
          160,
          161,
          162,
          163,
          164,
          165,
          166,
          167,
          168,
          169,
          170,
          171,
          172,
          173,
          174,
          175,
          176,
          177,
          178,
          179,
          180,
          181,
          182,
          183,
          184,
          185,
          186,
          187,
          188,
          189,
          190,
          191,
          192,
          193,
          194,
          195,
          196,
          197,
          198,
          199,
          200,
          201,
          202,
          203,
          204,
          205,
          206,
          207,
          208,
          209,
          210
         ],
         "xaxis": "x",
         "y": [
          36736444,
          36673480,
          36608068,
          36528172,
          36436696,
          36319268,
          36195992,
          36055576,
          35889876,
          35742396,
          35572832,
          35393236,
          35224648,
          34977080,
          34819196,
          34570788,
          34309984,
          34073556,
          33774196,
          33546770,
          33201038,
          33006706,
          32694216,
          32381818,
          32006758,
          31638516,
          31373844,
          31019074,
          30632648,
          30247004,
          29867502,
          29501192,
          29231658,
          28800536,
          28370298,
          27949558,
          27694406,
          27276282,
          26771494,
          26426628,
          25990460,
          25493178,
          24923698,
          24501404,
          23903556,
          23830744,
          23282584,
          22841180,
          22257656,
          21778042,
          21393168,
          20810340,
          20343494,
          19977388,
          19369244,
          18813404,
          18547938,
          17723192,
          17456562,
          16976582,
          16255968,
          15929602,
          15560992,
          14928495,
          14614868,
          14102869,
          13583544,
          13063010,
          12659337,
          12301878,
          11706101,
          11210299,
          10991956,
          10155045,
          10050172,
          9541463,
          9164251,
          8968089,
          8341060,
          8199119.5,
          7692180.5,
          7254604.5,
          6857783.5,
          6640938,
          6845288.5,
          5999547.5,
          5885862.5,
          5262979,
          5062898,
          5058469.5,
          4774171.5,
          4616892,
          4462123.5,
          4241722.5,
          3993224.5,
          4454864.5,
          3897109,
          3870923,
          3566293.25,
          3372337.75,
          3288610.75,
          3408606.5,
          3086727.5,
          3065639,
          3047664.25,
          2937832.5,
          2922083,
          2883566.5,
          2897337.5,
          2824040.75,
          2859565,
          2880056,
          2970042.75,
          2868321.25,
          2882349.25,
          2847132,
          2932642.5,
          2957764.5,
          2940493.75,
          2932611,
          2905081.25,
          2941700,
          2927334.75,
          2902995,
          2914897.25,
          2974728.75,
          2911148.5,
          3003536.25,
          2862112.75,
          2864113.25,
          2897522.75,
          2929174.75,
          2942562.75,
          2968000.75,
          2950832,
          2980406.25,
          2942834.25,
          2907005.75,
          3119545,
          3012156.75,
          3064029.25,
          3030959.5,
          3068734.75,
          3189424.5,
          3072142.75,
          2938678,
          2956095.25,
          2975485,
          2974761.5,
          3029565.25,
          3027977.25,
          2998915.25,
          2949424.5,
          2967709.25,
          2925742,
          2982215,
          2943337.75,
          2875362,
          2915355.75,
          2945615.25,
          3067107.25,
          2949554.5,
          3097935.75,
          3079837.25,
          3031408,
          2968234.25,
          3015561.75,
          2934516.5,
          3059401.25,
          2968892.25,
          3033131.75,
          2961700.75,
          3071494.25,
          2932496.5,
          3032056.75,
          2922315,
          2954624.25,
          3009781.25,
          2950233,
          2892923.5,
          3030752,
          3037340.5,
          3107658.5,
          3148509.25,
          3159031.5,
          3046484,
          3098423,
          3040387.75,
          3053648,
          2988385.5,
          3084618.75,
          2903310.75,
          3003083,
          3071393.5,
          3093164,
          2987993.25,
          2974256,
          2973778.75,
          2976939.75,
          3072631.75,
          2922997.25,
          2838383.75,
          3007159.25,
          3067313,
          2997578.5,
          2925569,
          2969743,
          2937035,
          2942866.75,
          2934069.5
         ],
         "yaxis": "y"
        }
       ],
       "layout": {
        "legend": {
         "title": {
          "text": "variable"
         },
         "tracegroupgap": 0
        },
        "template": {
         "data": {
          "bar": [
           {
            "error_x": {
             "color": "#2a3f5f"
            },
            "error_y": {
             "color": "#2a3f5f"
            },
            "marker": {
             "line": {
              "color": "#E5ECF6",
              "width": 0.5
             },
             "pattern": {
              "fillmode": "overlay",
              "size": 10,
              "solidity": 0.2
             }
            },
            "type": "bar"
           }
          ],
          "barpolar": [
           {
            "marker": {
             "line": {
              "color": "#E5ECF6",
              "width": 0.5
             },
             "pattern": {
              "fillmode": "overlay",
              "size": 10,
              "solidity": 0.2
             }
            },
            "type": "barpolar"
           }
          ],
          "carpet": [
           {
            "aaxis": {
             "endlinecolor": "#2a3f5f",
             "gridcolor": "white",
             "linecolor": "white",
             "minorgridcolor": "white",
             "startlinecolor": "#2a3f5f"
            },
            "baxis": {
             "endlinecolor": "#2a3f5f",
             "gridcolor": "white",
             "linecolor": "white",
             "minorgridcolor": "white",
             "startlinecolor": "#2a3f5f"
            },
            "type": "carpet"
           }
          ],
          "choropleth": [
           {
            "colorbar": {
             "outlinewidth": 0,
             "ticks": ""
            },
            "type": "choropleth"
           }
          ],
          "contour": [
           {
            "colorbar": {
             "outlinewidth": 0,
             "ticks": ""
            },
            "colorscale": [
             [
              0,
              "#0d0887"
             ],
             [
              0.1111111111111111,
              "#46039f"
             ],
             [
              0.2222222222222222,
              "#7201a8"
             ],
             [
              0.3333333333333333,
              "#9c179e"
             ],
             [
              0.4444444444444444,
              "#bd3786"
             ],
             [
              0.5555555555555556,
              "#d8576b"
             ],
             [
              0.6666666666666666,
              "#ed7953"
             ],
             [
              0.7777777777777778,
              "#fb9f3a"
             ],
             [
              0.8888888888888888,
              "#fdca26"
             ],
             [
              1,
              "#f0f921"
             ]
            ],
            "type": "contour"
           }
          ],
          "contourcarpet": [
           {
            "colorbar": {
             "outlinewidth": 0,
             "ticks": ""
            },
            "type": "contourcarpet"
           }
          ],
          "heatmap": [
           {
            "colorbar": {
             "outlinewidth": 0,
             "ticks": ""
            },
            "colorscale": [
             [
              0,
              "#0d0887"
             ],
             [
              0.1111111111111111,
              "#46039f"
             ],
             [
              0.2222222222222222,
              "#7201a8"
             ],
             [
              0.3333333333333333,
              "#9c179e"
             ],
             [
              0.4444444444444444,
              "#bd3786"
             ],
             [
              0.5555555555555556,
              "#d8576b"
             ],
             [
              0.6666666666666666,
              "#ed7953"
             ],
             [
              0.7777777777777778,
              "#fb9f3a"
             ],
             [
              0.8888888888888888,
              "#fdca26"
             ],
             [
              1,
              "#f0f921"
             ]
            ],
            "type": "heatmap"
           }
          ],
          "heatmapgl": [
           {
            "colorbar": {
             "outlinewidth": 0,
             "ticks": ""
            },
            "colorscale": [
             [
              0,
              "#0d0887"
             ],
             [
              0.1111111111111111,
              "#46039f"
             ],
             [
              0.2222222222222222,
              "#7201a8"
             ],
             [
              0.3333333333333333,
              "#9c179e"
             ],
             [
              0.4444444444444444,
              "#bd3786"
             ],
             [
              0.5555555555555556,
              "#d8576b"
             ],
             [
              0.6666666666666666,
              "#ed7953"
             ],
             [
              0.7777777777777778,
              "#fb9f3a"
             ],
             [
              0.8888888888888888,
              "#fdca26"
             ],
             [
              1,
              "#f0f921"
             ]
            ],
            "type": "heatmapgl"
           }
          ],
          "histogram": [
           {
            "marker": {
             "pattern": {
              "fillmode": "overlay",
              "size": 10,
              "solidity": 0.2
             }
            },
            "type": "histogram"
           }
          ],
          "histogram2d": [
           {
            "colorbar": {
             "outlinewidth": 0,
             "ticks": ""
            },
            "colorscale": [
             [
              0,
              "#0d0887"
             ],
             [
              0.1111111111111111,
              "#46039f"
             ],
             [
              0.2222222222222222,
              "#7201a8"
             ],
             [
              0.3333333333333333,
              "#9c179e"
             ],
             [
              0.4444444444444444,
              "#bd3786"
             ],
             [
              0.5555555555555556,
              "#d8576b"
             ],
             [
              0.6666666666666666,
              "#ed7953"
             ],
             [
              0.7777777777777778,
              "#fb9f3a"
             ],
             [
              0.8888888888888888,
              "#fdca26"
             ],
             [
              1,
              "#f0f921"
             ]
            ],
            "type": "histogram2d"
           }
          ],
          "histogram2dcontour": [
           {
            "colorbar": {
             "outlinewidth": 0,
             "ticks": ""
            },
            "colorscale": [
             [
              0,
              "#0d0887"
             ],
             [
              0.1111111111111111,
              "#46039f"
             ],
             [
              0.2222222222222222,
              "#7201a8"
             ],
             [
              0.3333333333333333,
              "#9c179e"
             ],
             [
              0.4444444444444444,
              "#bd3786"
             ],
             [
              0.5555555555555556,
              "#d8576b"
             ],
             [
              0.6666666666666666,
              "#ed7953"
             ],
             [
              0.7777777777777778,
              "#fb9f3a"
             ],
             [
              0.8888888888888888,
              "#fdca26"
             ],
             [
              1,
              "#f0f921"
             ]
            ],
            "type": "histogram2dcontour"
           }
          ],
          "mesh3d": [
           {
            "colorbar": {
             "outlinewidth": 0,
             "ticks": ""
            },
            "type": "mesh3d"
           }
          ],
          "parcoords": [
           {
            "line": {
             "colorbar": {
              "outlinewidth": 0,
              "ticks": ""
             }
            },
            "type": "parcoords"
           }
          ],
          "pie": [
           {
            "automargin": true,
            "type": "pie"
           }
          ],
          "scatter": [
           {
            "marker": {
             "colorbar": {
              "outlinewidth": 0,
              "ticks": ""
             }
            },
            "type": "scatter"
           }
          ],
          "scatter3d": [
           {
            "line": {
             "colorbar": {
              "outlinewidth": 0,
              "ticks": ""
             }
            },
            "marker": {
             "colorbar": {
              "outlinewidth": 0,
              "ticks": ""
             }
            },
            "type": "scatter3d"
           }
          ],
          "scattercarpet": [
           {
            "marker": {
             "colorbar": {
              "outlinewidth": 0,
              "ticks": ""
             }
            },
            "type": "scattercarpet"
           }
          ],
          "scattergeo": [
           {
            "marker": {
             "colorbar": {
              "outlinewidth": 0,
              "ticks": ""
             }
            },
            "type": "scattergeo"
           }
          ],
          "scattergl": [
           {
            "marker": {
             "colorbar": {
              "outlinewidth": 0,
              "ticks": ""
             }
            },
            "type": "scattergl"
           }
          ],
          "scattermapbox": [
           {
            "marker": {
             "colorbar": {
              "outlinewidth": 0,
              "ticks": ""
             }
            },
            "type": "scattermapbox"
           }
          ],
          "scatterpolar": [
           {
            "marker": {
             "colorbar": {
              "outlinewidth": 0,
              "ticks": ""
             }
            },
            "type": "scatterpolar"
           }
          ],
          "scatterpolargl": [
           {
            "marker": {
             "colorbar": {
              "outlinewidth": 0,
              "ticks": ""
             }
            },
            "type": "scatterpolargl"
           }
          ],
          "scatterternary": [
           {
            "marker": {
             "colorbar": {
              "outlinewidth": 0,
              "ticks": ""
             }
            },
            "type": "scatterternary"
           }
          ],
          "surface": [
           {
            "colorbar": {
             "outlinewidth": 0,
             "ticks": ""
            },
            "colorscale": [
             [
              0,
              "#0d0887"
             ],
             [
              0.1111111111111111,
              "#46039f"
             ],
             [
              0.2222222222222222,
              "#7201a8"
             ],
             [
              0.3333333333333333,
              "#9c179e"
             ],
             [
              0.4444444444444444,
              "#bd3786"
             ],
             [
              0.5555555555555556,
              "#d8576b"
             ],
             [
              0.6666666666666666,
              "#ed7953"
             ],
             [
              0.7777777777777778,
              "#fb9f3a"
             ],
             [
              0.8888888888888888,
              "#fdca26"
             ],
             [
              1,
              "#f0f921"
             ]
            ],
            "type": "surface"
           }
          ],
          "table": [
           {
            "cells": {
             "fill": {
              "color": "#EBF0F8"
             },
             "line": {
              "color": "white"
             }
            },
            "header": {
             "fill": {
              "color": "#C8D4E3"
             },
             "line": {
              "color": "white"
             }
            },
            "type": "table"
           }
          ]
         },
         "layout": {
          "annotationdefaults": {
           "arrowcolor": "#2a3f5f",
           "arrowhead": 0,
           "arrowwidth": 1
          },
          "autotypenumbers": "strict",
          "coloraxis": {
           "colorbar": {
            "outlinewidth": 0,
            "ticks": ""
           }
          },
          "colorscale": {
           "diverging": [
            [
             0,
             "#8e0152"
            ],
            [
             0.1,
             "#c51b7d"
            ],
            [
             0.2,
             "#de77ae"
            ],
            [
             0.3,
             "#f1b6da"
            ],
            [
             0.4,
             "#fde0ef"
            ],
            [
             0.5,
             "#f7f7f7"
            ],
            [
             0.6,
             "#e6f5d0"
            ],
            [
             0.7,
             "#b8e186"
            ],
            [
             0.8,
             "#7fbc41"
            ],
            [
             0.9,
             "#4d9221"
            ],
            [
             1,
             "#276419"
            ]
           ],
           "sequential": [
            [
             0,
             "#0d0887"
            ],
            [
             0.1111111111111111,
             "#46039f"
            ],
            [
             0.2222222222222222,
             "#7201a8"
            ],
            [
             0.3333333333333333,
             "#9c179e"
            ],
            [
             0.4444444444444444,
             "#bd3786"
            ],
            [
             0.5555555555555556,
             "#d8576b"
            ],
            [
             0.6666666666666666,
             "#ed7953"
            ],
            [
             0.7777777777777778,
             "#fb9f3a"
            ],
            [
             0.8888888888888888,
             "#fdca26"
            ],
            [
             1,
             "#f0f921"
            ]
           ],
           "sequentialminus": [
            [
             0,
             "#0d0887"
            ],
            [
             0.1111111111111111,
             "#46039f"
            ],
            [
             0.2222222222222222,
             "#7201a8"
            ],
            [
             0.3333333333333333,
             "#9c179e"
            ],
            [
             0.4444444444444444,
             "#bd3786"
            ],
            [
             0.5555555555555556,
             "#d8576b"
            ],
            [
             0.6666666666666666,
             "#ed7953"
            ],
            [
             0.7777777777777778,
             "#fb9f3a"
            ],
            [
             0.8888888888888888,
             "#fdca26"
            ],
            [
             1,
             "#f0f921"
            ]
           ]
          },
          "colorway": [
           "#636efa",
           "#EF553B",
           "#00cc96",
           "#ab63fa",
           "#FFA15A",
           "#19d3f3",
           "#FF6692",
           "#B6E880",
           "#FF97FF",
           "#FECB52"
          ],
          "font": {
           "color": "#2a3f5f"
          },
          "geo": {
           "bgcolor": "white",
           "lakecolor": "white",
           "landcolor": "#E5ECF6",
           "showlakes": true,
           "showland": true,
           "subunitcolor": "white"
          },
          "hoverlabel": {
           "align": "left"
          },
          "hovermode": "closest",
          "mapbox": {
           "style": "light"
          },
          "paper_bgcolor": "white",
          "plot_bgcolor": "#E5ECF6",
          "polar": {
           "angularaxis": {
            "gridcolor": "white",
            "linecolor": "white",
            "ticks": ""
           },
           "bgcolor": "#E5ECF6",
           "radialaxis": {
            "gridcolor": "white",
            "linecolor": "white",
            "ticks": ""
           }
          },
          "scene": {
           "xaxis": {
            "backgroundcolor": "#E5ECF6",
            "gridcolor": "white",
            "gridwidth": 2,
            "linecolor": "white",
            "showbackground": true,
            "ticks": "",
            "zerolinecolor": "white"
           },
           "yaxis": {
            "backgroundcolor": "#E5ECF6",
            "gridcolor": "white",
            "gridwidth": 2,
            "linecolor": "white",
            "showbackground": true,
            "ticks": "",
            "zerolinecolor": "white"
           },
           "zaxis": {
            "backgroundcolor": "#E5ECF6",
            "gridcolor": "white",
            "gridwidth": 2,
            "linecolor": "white",
            "showbackground": true,
            "ticks": "",
            "zerolinecolor": "white"
           }
          },
          "shapedefaults": {
           "line": {
            "color": "#2a3f5f"
           }
          },
          "ternary": {
           "aaxis": {
            "gridcolor": "white",
            "linecolor": "white",
            "ticks": ""
           },
           "baxis": {
            "gridcolor": "white",
            "linecolor": "white",
            "ticks": ""
           },
           "bgcolor": "#E5ECF6",
           "caxis": {
            "gridcolor": "white",
            "linecolor": "white",
            "ticks": ""
           }
          },
          "title": {
           "x": 0.05
          },
          "xaxis": {
           "automargin": true,
           "gridcolor": "white",
           "linecolor": "white",
           "ticks": "",
           "title": {
            "standoff": 15
           },
           "zerolinecolor": "white",
           "zerolinewidth": 2
          },
          "yaxis": {
           "automargin": true,
           "gridcolor": "white",
           "linecolor": "white",
           "ticks": "",
           "title": {
            "standoff": 15
           },
           "zerolinecolor": "white",
           "zerolinewidth": 2
          }
         }
        },
        "title": {
         "text": "Training and Validation Loss"
        },
        "xaxis": {
         "anchor": "y",
         "domain": [
          0,
          1
         ],
         "title": {
          "text": "Epoch"
         }
        },
        "yaxis": {
         "anchor": "x",
         "domain": [
          0,
          1
         ],
         "title": {
          "text": "Loss"
         }
        }
       }
      }
     },
     "metadata": {},
     "output_type": "display_data"
    },
    {
     "data": {
      "application/vnd.plotly.v1+json": {
       "config": {
        "plotlyServerURL": "https://plot.ly"
       },
       "data": [
        {
         "hovertemplate": "variable=mae<br>Epoch=%{x}<br>MAE=%{y}<extra></extra>",
         "legendgroup": "mae",
         "line": {
          "color": "#636efa",
          "dash": "solid"
         },
         "marker": {
          "symbol": "circle"
         },
         "mode": "lines",
         "name": "mae",
         "orientation": "v",
         "showlegend": true,
         "type": "scatter",
         "x": [
          1,
          2,
          3,
          4,
          5,
          6,
          7,
          8,
          9,
          10,
          11,
          12,
          13,
          14,
          15,
          16,
          17,
          18,
          19,
          20,
          21,
          22,
          23,
          24,
          25,
          26,
          27,
          28,
          29,
          30,
          31,
          32,
          33,
          34,
          35,
          36,
          37,
          38,
          39,
          40,
          41,
          42,
          43,
          44,
          45,
          46,
          47,
          48,
          49,
          50,
          51,
          52,
          53,
          54,
          55,
          56,
          57,
          58,
          59,
          60,
          61,
          62,
          63,
          64,
          65,
          66,
          67,
          68,
          69,
          70,
          71,
          72,
          73,
          74,
          75,
          76,
          77,
          78,
          79,
          80,
          81,
          82,
          83,
          84,
          85,
          86,
          87,
          88,
          89,
          90,
          91,
          92,
          93,
          94,
          95,
          96,
          97,
          98,
          99,
          100,
          101,
          102,
          103,
          104,
          105,
          106,
          107,
          108,
          109,
          110,
          111,
          112,
          113,
          114,
          115,
          116,
          117,
          118,
          119,
          120,
          121,
          122,
          123,
          124,
          125,
          126,
          127,
          128,
          129,
          130,
          131,
          132,
          133,
          134,
          135,
          136,
          137,
          138,
          139,
          140,
          141,
          142,
          143,
          144,
          145,
          146,
          147,
          148,
          149,
          150,
          151,
          152,
          153,
          154,
          155,
          156,
          157,
          158,
          159,
          160,
          161,
          162,
          163,
          164,
          165,
          166,
          167,
          168,
          169,
          170,
          171,
          172,
          173,
          174,
          175,
          176,
          177,
          178,
          179,
          180,
          181,
          182,
          183,
          184,
          185,
          186,
          187,
          188,
          189,
          190,
          191,
          192,
          193,
          194,
          195,
          196,
          197,
          198,
          199,
          200,
          201,
          202,
          203,
          204,
          205,
          206,
          207,
          208,
          209,
          210
         ],
         "xaxis": "x",
         "y": [
          4604.0009765625,
          4602.1279296875,
          4599.27587890625,
          4595.54150390625,
          4591.00341796875,
          4585.64892578125,
          4579.52734375,
          4572.6513671875,
          4565.00048828125,
          4556.58203125,
          4547.41015625,
          4537.50537109375,
          4526.83984375,
          4515.43505859375,
          4503.29931640625,
          4490.4052734375,
          4476.7841796875,
          4462.4638671875,
          4447.359375,
          4431.51611328125,
          4415.00341796875,
          4397.75634765625,
          4379.70361328125,
          4361.0078125,
          4341.525390625,
          4321.3564453125,
          4300.50244140625,
          4278.91015625,
          4256.43310546875,
          4233.46142578125,
          4209.6396484375,
          4185.09130859375,
          4159.87646484375,
          4133.9677734375,
          4107.32470703125,
          4079.990234375,
          4051.82177734375,
          4022.94775390625,
          3993.659912109375,
          3963.302490234375,
          3932.380126953125,
          3900.883056640625,
          3868.570556640625,
          3835.626953125,
          3801.9326171875,
          3767.28173828125,
          3732.094970703125,
          3696.3623046875,
          3659.653076171875,
          3622.5205078125,
          3584.69775390625,
          3546.177978515625,
          3507.071533203125,
          3467.13720703125,
          3426.45556640625,
          3385.2314453125,
          3343.29736328125,
          3300.751220703125,
          3257.583984375,
          3213.78125,
          3169.09814453125,
          3124.31396484375,
          3078.616455078125,
          3032.59228515625,
          2985.491455078125,
          2938.11572265625,
          2890.3427734375,
          2841.889892578125,
          2792.83984375,
          2743.391845703125,
          2693.25732421875,
          2643.079345703125,
          2592.6025390625,
          2540.971435546875,
          2490.65185546875,
          2438.41015625,
          2386.828369140625,
          2333.743896484375,
          2281.68310546875,
          2228.90625,
          2178.06640625,
          2125.384765625,
          2073.93115234375,
          2022.541259765625,
          1970.1507568359375,
          1918.625732421875,
          1867.755126953125,
          1816.8543701171875,
          1770.223388671875,
          1720.77490234375,
          1673.1734619140625,
          1629.3221435546875,
          1583.5848388671875,
          1542.513427734375,
          1499.928955078125,
          1461.7830810546875,
          1422.2459716796875,
          1385.101806640625,
          1352.7288818359375,
          1319.69775390625,
          1283.6837158203125,
          1253.565185546875,
          1227.0953369140625,
          1197.275146484375,
          1175.6490478515625,
          1152.6195068359375,
          1127.49853515625,
          1113.9241943359375,
          1090.3145751953125,
          1074.7525634765625,
          1059.9119873046875,
          1049.6866455078125,
          1041.1837158203125,
          1034.8487548828125,
          1032.765625,
          1023.4771118164062,
          1023.318359375,
          1022.2366333007812,
          1019.7886352539062,
          1024.0712890625,
          1021.4793701171875,
          1020.5836181640625,
          1023.555419921875,
          1022.9141235351562,
          1020.3059692382812,
          1020.557373046875,
          1019.103515625,
          1020.0750732421875,
          1022.7064819335938,
          1018.5652465820312,
          1019.0814819335938,
          1017.2994384765625,
          1017.5240478515625,
          1018.7328491210938,
          1017.4190673828125,
          1015.5526733398438,
          1021.2284545898438,
          1019.7003784179688,
          1017.5184326171875,
          1016.9716796875,
          1021.797119140625,
          1019.1618041992188,
          1018.2883911132812,
          1014.0095825195312,
          1012.7584838867188,
          1014.4856567382812,
          1017.492919921875,
          1016.4117431640625,
          1011.6155395507812,
          1015.8999633789062,
          1013.0057373046875,
          1012.5101928710938,
          1009.9850463867188,
          1011.633544921875,
          1011.5328979492188,
          1012.9607543945312,
          1015.2970581054688,
          1016.6157836914062,
          1017.1002807617188,
          1015.2569580078125,
          1013.3893432617188,
          1014.105712890625,
          1011.9228515625,
          1012.9166259765625,
          1014.87646484375,
          1014.4305419921875,
          1013.3984375,
          1013.7769165039062,
          1009.47021484375,
          1012.0780029296875,
          1009.408935546875,
          1007.0509033203125,
          1008.755859375,
          1010.8861694335938,
          1006.5634765625,
          1011.1031494140625,
          1008.5240478515625,
          1010.8924560546875,
          1006.7461547851562,
          1007.6713256835938,
          1009.078857421875,
          1010.1517333984375,
          1005.1598510742188,
          1007.83447265625,
          1003.1600341796875,
          1006.9110717773438,
          1007.974609375,
          1006.7413940429688,
          1010.0692749023438,
          1010.4492797851562,
          1007.9415893554688,
          1006.1453857421875,
          1004.3892211914062,
          1006.7564086914062,
          1007.34130859375,
          1003.9663696289062,
          1006.5742797851562,
          1003.9710083007812,
          1002.7220458984375,
          1000.8308715820312,
          1002.6433715820312,
          1007.0516357421875,
          1006.5612182617188,
          1000.8211669921875,
          1005.266357421875,
          1003.3035278320312,
          1003.5131225585938,
          1005.537841796875,
          1006.4281005859375,
          1004.8087768554688
         ],
         "yaxis": "y"
        },
        {
         "hovertemplate": "variable=val_mae<br>Epoch=%{x}<br>MAE=%{y}<extra></extra>",
         "legendgroup": "val_mae",
         "line": {
          "color": "#EF553B",
          "dash": "solid"
         },
         "marker": {
          "symbol": "circle"
         },
         "mode": "lines",
         "name": "val_mae",
         "orientation": "v",
         "showlegend": true,
         "type": "scatter",
         "x": [
          1,
          2,
          3,
          4,
          5,
          6,
          7,
          8,
          9,
          10,
          11,
          12,
          13,
          14,
          15,
          16,
          17,
          18,
          19,
          20,
          21,
          22,
          23,
          24,
          25,
          26,
          27,
          28,
          29,
          30,
          31,
          32,
          33,
          34,
          35,
          36,
          37,
          38,
          39,
          40,
          41,
          42,
          43,
          44,
          45,
          46,
          47,
          48,
          49,
          50,
          51,
          52,
          53,
          54,
          55,
          56,
          57,
          58,
          59,
          60,
          61,
          62,
          63,
          64,
          65,
          66,
          67,
          68,
          69,
          70,
          71,
          72,
          73,
          74,
          75,
          76,
          77,
          78,
          79,
          80,
          81,
          82,
          83,
          84,
          85,
          86,
          87,
          88,
          89,
          90,
          91,
          92,
          93,
          94,
          95,
          96,
          97,
          98,
          99,
          100,
          101,
          102,
          103,
          104,
          105,
          106,
          107,
          108,
          109,
          110,
          111,
          112,
          113,
          114,
          115,
          116,
          117,
          118,
          119,
          120,
          121,
          122,
          123,
          124,
          125,
          126,
          127,
          128,
          129,
          130,
          131,
          132,
          133,
          134,
          135,
          136,
          137,
          138,
          139,
          140,
          141,
          142,
          143,
          144,
          145,
          146,
          147,
          148,
          149,
          150,
          151,
          152,
          153,
          154,
          155,
          156,
          157,
          158,
          159,
          160,
          161,
          162,
          163,
          164,
          165,
          166,
          167,
          168,
          169,
          170,
          171,
          172,
          173,
          174,
          175,
          176,
          177,
          178,
          179,
          180,
          181,
          182,
          183,
          184,
          185,
          186,
          187,
          188,
          189,
          190,
          191,
          192,
          193,
          194,
          195,
          196,
          197,
          198,
          199,
          200,
          201,
          202,
          203,
          204,
          205,
          206,
          207,
          208,
          209,
          210
         ],
         "xaxis": "x",
         "y": [
          4577.7060546875,
          4575.4990234375,
          4572.0146484375,
          4567.70849609375,
          4562.7158203125,
          4556.57763671875,
          4549.65966796875,
          4542.78662109375,
          4534.962890625,
          4525.2646484375,
          4515.89697265625,
          4506.35400390625,
          4493.04931640625,
          4482.2529296875,
          4468.4814453125,
          4456.20947265625,
          4440.17041015625,
          4429.23095703125,
          4410.57568359375,
          4390.998046875,
          4376.69580078125,
          4359.08154296875,
          4339.48779296875,
          4317.41455078125,
          4291.78173828125,
          4279.9892578125,
          4254.98095703125,
          4236.197265625,
          4213.560546875,
          4187.22509765625,
          4150.6640625,
          4126.03076171875,
          4120.912109375,
          4084.27783203125,
          4056.419921875,
          4022.80322265625,
          4005.077392578125,
          3972.50244140625,
          3929.565673828125,
          3920.002197265625,
          3901.8251953125,
          3843.18505859375,
          3795.967041015625,
          3773.052490234375,
          3729.403076171875,
          3735.001220703125,
          3706.171142578125,
          3630.556396484375,
          3609.146484375,
          3571.573974609375,
          3526.835205078125,
          3490.303955078125,
          3433.625,
          3410.588134765625,
          3335.17919921875,
          3335.208251953125,
          3302.9443359375,
          3186.747802734375,
          3200.736328125,
          3132.98291015625,
          3044.435791015625,
          3045.570068359375,
          2991.956298828125,
          2921.26416015625,
          2944.787841796875,
          2841.591552734375,
          2786.614990234375,
          2708.178466796875,
          2681.3876953125,
          2674.730712890625,
          2610.35107421875,
          2519.2373046875,
          2522.627685546875,
          2379.39892578125,
          2373.5673828125,
          2308.615234375,
          2286.163330078125,
          2251.71728515625,
          2156.888427734375,
          2119.07568359375,
          2053.75390625,
          1998.4366455078125,
          1932.481201171875,
          1896.289794921875,
          1975.52734375,
          1776.2510986328125,
          1784.105224609375,
          1644.16650390625,
          1625.1973876953125,
          1619.345458984375,
          1541.420166015625,
          1560.3895263671875,
          1512.9732666015625,
          1448.7105712890625,
          1393.950927734375,
          1467.0885009765625,
          1386.554931640625,
          1367.2904052734375,
          1300.4246826171875,
          1254.1981201171875,
          1230.6785888671875,
          1247.979248046875,
          1163.2412109375,
          1168.20068359375,
          1143.15966796875,
          1124.6297607421875,
          1111.822265625,
          1106.1915283203125,
          1100.368408203125,
          1099.72412109375,
          1096.5888671875,
          1093.407470703125,
          1086.671630859375,
          1085.1593017578125,
          1097.1424560546875,
          1092.7791748046875,
          1130.52490234375,
          1081.3504638671875,
          1148.934814453125,
          1117.10791015625,
          1118.021484375,
          1128.5218505859375,
          1126.2344970703125,
          1123.757080078125,
          1142.3863525390625,
          1100.072021484375,
          1139.2774658203125,
          1088.6556396484375,
          1107.2174072265625,
          1089.9298095703125,
          1099.7545166015625,
          1136.92236328125,
          1108.5706787109375,
          1169.546630859375,
          1122.8173828125,
          1161.884521484375,
          1147.7655029296875,
          1098.391357421875,
          1172.969970703125,
          1143.3466796875,
          1150.2462158203125,
          1127.72314453125,
          1194.175537109375,
          1167.2828369140625,
          1170.4664306640625,
          1135.6787109375,
          1148.6192626953125,
          1129.4892578125,
          1127.5848388671875,
          1186.615966796875,
          1101.7362060546875,
          1140.3602294921875,
          1113.736572265625,
          1090.0145263671875,
          1135.5633544921875,
          1162.42431640625,
          1110.208251953125,
          1120.3233642578125,
          1127.1697998046875,
          1142.994873046875,
          1197.8924560546875,
          1126.814697265625,
          1179.9736328125,
          1132.220947265625,
          1095.837890625,
          1095.3388671875,
          1098.2288818359375,
          1092.5250244140625,
          1163.500732421875,
          1128.8046875,
          1179.562744140625,
          1126.5654296875,
          1201.6195068359375,
          1090.5992431640625,
          1192.4969482421875,
          1110.3223876953125,
          1128.263916015625,
          1161.6856689453125,
          1134.3375244140625,
          1125.10595703125,
          1179.751953125,
          1179.071533203125,
          1182.5430908203125,
          1180.421630859375,
          1112,
          1177.1158447265625,
          1187.450927734375,
          1152.4952392578125,
          1163.648681640625,
          1110.5380859375,
          1180.9903564453125,
          1096.093505859375,
          1144.787841796875,
          1189.6263427734375,
          1157.541748046875,
          1135.3677978515625,
          1116.3292236328125,
          1141.31787109375,
          1130.5830078125,
          1196.0574951171875,
          1124.6239013671875,
          1095.3551025390625,
          1171.4755859375,
          1167.974853515625,
          1152.02197265625,
          1146.7340087890625,
          1159.5361328125,
          1134.1173095703125,
          1134.0140380859375,
          1139.00830078125
         ],
         "yaxis": "y"
        }
       ],
       "layout": {
        "legend": {
         "title": {
          "text": "variable"
         },
         "tracegroupgap": 0
        },
        "template": {
         "data": {
          "bar": [
           {
            "error_x": {
             "color": "#2a3f5f"
            },
            "error_y": {
             "color": "#2a3f5f"
            },
            "marker": {
             "line": {
              "color": "#E5ECF6",
              "width": 0.5
             },
             "pattern": {
              "fillmode": "overlay",
              "size": 10,
              "solidity": 0.2
             }
            },
            "type": "bar"
           }
          ],
          "barpolar": [
           {
            "marker": {
             "line": {
              "color": "#E5ECF6",
              "width": 0.5
             },
             "pattern": {
              "fillmode": "overlay",
              "size": 10,
              "solidity": 0.2
             }
            },
            "type": "barpolar"
           }
          ],
          "carpet": [
           {
            "aaxis": {
             "endlinecolor": "#2a3f5f",
             "gridcolor": "white",
             "linecolor": "white",
             "minorgridcolor": "white",
             "startlinecolor": "#2a3f5f"
            },
            "baxis": {
             "endlinecolor": "#2a3f5f",
             "gridcolor": "white",
             "linecolor": "white",
             "minorgridcolor": "white",
             "startlinecolor": "#2a3f5f"
            },
            "type": "carpet"
           }
          ],
          "choropleth": [
           {
            "colorbar": {
             "outlinewidth": 0,
             "ticks": ""
            },
            "type": "choropleth"
           }
          ],
          "contour": [
           {
            "colorbar": {
             "outlinewidth": 0,
             "ticks": ""
            },
            "colorscale": [
             [
              0,
              "#0d0887"
             ],
             [
              0.1111111111111111,
              "#46039f"
             ],
             [
              0.2222222222222222,
              "#7201a8"
             ],
             [
              0.3333333333333333,
              "#9c179e"
             ],
             [
              0.4444444444444444,
              "#bd3786"
             ],
             [
              0.5555555555555556,
              "#d8576b"
             ],
             [
              0.6666666666666666,
              "#ed7953"
             ],
             [
              0.7777777777777778,
              "#fb9f3a"
             ],
             [
              0.8888888888888888,
              "#fdca26"
             ],
             [
              1,
              "#f0f921"
             ]
            ],
            "type": "contour"
           }
          ],
          "contourcarpet": [
           {
            "colorbar": {
             "outlinewidth": 0,
             "ticks": ""
            },
            "type": "contourcarpet"
           }
          ],
          "heatmap": [
           {
            "colorbar": {
             "outlinewidth": 0,
             "ticks": ""
            },
            "colorscale": [
             [
              0,
              "#0d0887"
             ],
             [
              0.1111111111111111,
              "#46039f"
             ],
             [
              0.2222222222222222,
              "#7201a8"
             ],
             [
              0.3333333333333333,
              "#9c179e"
             ],
             [
              0.4444444444444444,
              "#bd3786"
             ],
             [
              0.5555555555555556,
              "#d8576b"
             ],
             [
              0.6666666666666666,
              "#ed7953"
             ],
             [
              0.7777777777777778,
              "#fb9f3a"
             ],
             [
              0.8888888888888888,
              "#fdca26"
             ],
             [
              1,
              "#f0f921"
             ]
            ],
            "type": "heatmap"
           }
          ],
          "heatmapgl": [
           {
            "colorbar": {
             "outlinewidth": 0,
             "ticks": ""
            },
            "colorscale": [
             [
              0,
              "#0d0887"
             ],
             [
              0.1111111111111111,
              "#46039f"
             ],
             [
              0.2222222222222222,
              "#7201a8"
             ],
             [
              0.3333333333333333,
              "#9c179e"
             ],
             [
              0.4444444444444444,
              "#bd3786"
             ],
             [
              0.5555555555555556,
              "#d8576b"
             ],
             [
              0.6666666666666666,
              "#ed7953"
             ],
             [
              0.7777777777777778,
              "#fb9f3a"
             ],
             [
              0.8888888888888888,
              "#fdca26"
             ],
             [
              1,
              "#f0f921"
             ]
            ],
            "type": "heatmapgl"
           }
          ],
          "histogram": [
           {
            "marker": {
             "pattern": {
              "fillmode": "overlay",
              "size": 10,
              "solidity": 0.2
             }
            },
            "type": "histogram"
           }
          ],
          "histogram2d": [
           {
            "colorbar": {
             "outlinewidth": 0,
             "ticks": ""
            },
            "colorscale": [
             [
              0,
              "#0d0887"
             ],
             [
              0.1111111111111111,
              "#46039f"
             ],
             [
              0.2222222222222222,
              "#7201a8"
             ],
             [
              0.3333333333333333,
              "#9c179e"
             ],
             [
              0.4444444444444444,
              "#bd3786"
             ],
             [
              0.5555555555555556,
              "#d8576b"
             ],
             [
              0.6666666666666666,
              "#ed7953"
             ],
             [
              0.7777777777777778,
              "#fb9f3a"
             ],
             [
              0.8888888888888888,
              "#fdca26"
             ],
             [
              1,
              "#f0f921"
             ]
            ],
            "type": "histogram2d"
           }
          ],
          "histogram2dcontour": [
           {
            "colorbar": {
             "outlinewidth": 0,
             "ticks": ""
            },
            "colorscale": [
             [
              0,
              "#0d0887"
             ],
             [
              0.1111111111111111,
              "#46039f"
             ],
             [
              0.2222222222222222,
              "#7201a8"
             ],
             [
              0.3333333333333333,
              "#9c179e"
             ],
             [
              0.4444444444444444,
              "#bd3786"
             ],
             [
              0.5555555555555556,
              "#d8576b"
             ],
             [
              0.6666666666666666,
              "#ed7953"
             ],
             [
              0.7777777777777778,
              "#fb9f3a"
             ],
             [
              0.8888888888888888,
              "#fdca26"
             ],
             [
              1,
              "#f0f921"
             ]
            ],
            "type": "histogram2dcontour"
           }
          ],
          "mesh3d": [
           {
            "colorbar": {
             "outlinewidth": 0,
             "ticks": ""
            },
            "type": "mesh3d"
           }
          ],
          "parcoords": [
           {
            "line": {
             "colorbar": {
              "outlinewidth": 0,
              "ticks": ""
             }
            },
            "type": "parcoords"
           }
          ],
          "pie": [
           {
            "automargin": true,
            "type": "pie"
           }
          ],
          "scatter": [
           {
            "marker": {
             "colorbar": {
              "outlinewidth": 0,
              "ticks": ""
             }
            },
            "type": "scatter"
           }
          ],
          "scatter3d": [
           {
            "line": {
             "colorbar": {
              "outlinewidth": 0,
              "ticks": ""
             }
            },
            "marker": {
             "colorbar": {
              "outlinewidth": 0,
              "ticks": ""
             }
            },
            "type": "scatter3d"
           }
          ],
          "scattercarpet": [
           {
            "marker": {
             "colorbar": {
              "outlinewidth": 0,
              "ticks": ""
             }
            },
            "type": "scattercarpet"
           }
          ],
          "scattergeo": [
           {
            "marker": {
             "colorbar": {
              "outlinewidth": 0,
              "ticks": ""
             }
            },
            "type": "scattergeo"
           }
          ],
          "scattergl": [
           {
            "marker": {
             "colorbar": {
              "outlinewidth": 0,
              "ticks": ""
             }
            },
            "type": "scattergl"
           }
          ],
          "scattermapbox": [
           {
            "marker": {
             "colorbar": {
              "outlinewidth": 0,
              "ticks": ""
             }
            },
            "type": "scattermapbox"
           }
          ],
          "scatterpolar": [
           {
            "marker": {
             "colorbar": {
              "outlinewidth": 0,
              "ticks": ""
             }
            },
            "type": "scatterpolar"
           }
          ],
          "scatterpolargl": [
           {
            "marker": {
             "colorbar": {
              "outlinewidth": 0,
              "ticks": ""
             }
            },
            "type": "scatterpolargl"
           }
          ],
          "scatterternary": [
           {
            "marker": {
             "colorbar": {
              "outlinewidth": 0,
              "ticks": ""
             }
            },
            "type": "scatterternary"
           }
          ],
          "surface": [
           {
            "colorbar": {
             "outlinewidth": 0,
             "ticks": ""
            },
            "colorscale": [
             [
              0,
              "#0d0887"
             ],
             [
              0.1111111111111111,
              "#46039f"
             ],
             [
              0.2222222222222222,
              "#7201a8"
             ],
             [
              0.3333333333333333,
              "#9c179e"
             ],
             [
              0.4444444444444444,
              "#bd3786"
             ],
             [
              0.5555555555555556,
              "#d8576b"
             ],
             [
              0.6666666666666666,
              "#ed7953"
             ],
             [
              0.7777777777777778,
              "#fb9f3a"
             ],
             [
              0.8888888888888888,
              "#fdca26"
             ],
             [
              1,
              "#f0f921"
             ]
            ],
            "type": "surface"
           }
          ],
          "table": [
           {
            "cells": {
             "fill": {
              "color": "#EBF0F8"
             },
             "line": {
              "color": "white"
             }
            },
            "header": {
             "fill": {
              "color": "#C8D4E3"
             },
             "line": {
              "color": "white"
             }
            },
            "type": "table"
           }
          ]
         },
         "layout": {
          "annotationdefaults": {
           "arrowcolor": "#2a3f5f",
           "arrowhead": 0,
           "arrowwidth": 1
          },
          "autotypenumbers": "strict",
          "coloraxis": {
           "colorbar": {
            "outlinewidth": 0,
            "ticks": ""
           }
          },
          "colorscale": {
           "diverging": [
            [
             0,
             "#8e0152"
            ],
            [
             0.1,
             "#c51b7d"
            ],
            [
             0.2,
             "#de77ae"
            ],
            [
             0.3,
             "#f1b6da"
            ],
            [
             0.4,
             "#fde0ef"
            ],
            [
             0.5,
             "#f7f7f7"
            ],
            [
             0.6,
             "#e6f5d0"
            ],
            [
             0.7,
             "#b8e186"
            ],
            [
             0.8,
             "#7fbc41"
            ],
            [
             0.9,
             "#4d9221"
            ],
            [
             1,
             "#276419"
            ]
           ],
           "sequential": [
            [
             0,
             "#0d0887"
            ],
            [
             0.1111111111111111,
             "#46039f"
            ],
            [
             0.2222222222222222,
             "#7201a8"
            ],
            [
             0.3333333333333333,
             "#9c179e"
            ],
            [
             0.4444444444444444,
             "#bd3786"
            ],
            [
             0.5555555555555556,
             "#d8576b"
            ],
            [
             0.6666666666666666,
             "#ed7953"
            ],
            [
             0.7777777777777778,
             "#fb9f3a"
            ],
            [
             0.8888888888888888,
             "#fdca26"
            ],
            [
             1,
             "#f0f921"
            ]
           ],
           "sequentialminus": [
            [
             0,
             "#0d0887"
            ],
            [
             0.1111111111111111,
             "#46039f"
            ],
            [
             0.2222222222222222,
             "#7201a8"
            ],
            [
             0.3333333333333333,
             "#9c179e"
            ],
            [
             0.4444444444444444,
             "#bd3786"
            ],
            [
             0.5555555555555556,
             "#d8576b"
            ],
            [
             0.6666666666666666,
             "#ed7953"
            ],
            [
             0.7777777777777778,
             "#fb9f3a"
            ],
            [
             0.8888888888888888,
             "#fdca26"
            ],
            [
             1,
             "#f0f921"
            ]
           ]
          },
          "colorway": [
           "#636efa",
           "#EF553B",
           "#00cc96",
           "#ab63fa",
           "#FFA15A",
           "#19d3f3",
           "#FF6692",
           "#B6E880",
           "#FF97FF",
           "#FECB52"
          ],
          "font": {
           "color": "#2a3f5f"
          },
          "geo": {
           "bgcolor": "white",
           "lakecolor": "white",
           "landcolor": "#E5ECF6",
           "showlakes": true,
           "showland": true,
           "subunitcolor": "white"
          },
          "hoverlabel": {
           "align": "left"
          },
          "hovermode": "closest",
          "mapbox": {
           "style": "light"
          },
          "paper_bgcolor": "white",
          "plot_bgcolor": "#E5ECF6",
          "polar": {
           "angularaxis": {
            "gridcolor": "white",
            "linecolor": "white",
            "ticks": ""
           },
           "bgcolor": "#E5ECF6",
           "radialaxis": {
            "gridcolor": "white",
            "linecolor": "white",
            "ticks": ""
           }
          },
          "scene": {
           "xaxis": {
            "backgroundcolor": "#E5ECF6",
            "gridcolor": "white",
            "gridwidth": 2,
            "linecolor": "white",
            "showbackground": true,
            "ticks": "",
            "zerolinecolor": "white"
           },
           "yaxis": {
            "backgroundcolor": "#E5ECF6",
            "gridcolor": "white",
            "gridwidth": 2,
            "linecolor": "white",
            "showbackground": true,
            "ticks": "",
            "zerolinecolor": "white"
           },
           "zaxis": {
            "backgroundcolor": "#E5ECF6",
            "gridcolor": "white",
            "gridwidth": 2,
            "linecolor": "white",
            "showbackground": true,
            "ticks": "",
            "zerolinecolor": "white"
           }
          },
          "shapedefaults": {
           "line": {
            "color": "#2a3f5f"
           }
          },
          "ternary": {
           "aaxis": {
            "gridcolor": "white",
            "linecolor": "white",
            "ticks": ""
           },
           "baxis": {
            "gridcolor": "white",
            "linecolor": "white",
            "ticks": ""
           },
           "bgcolor": "#E5ECF6",
           "caxis": {
            "gridcolor": "white",
            "linecolor": "white",
            "ticks": ""
           }
          },
          "title": {
           "x": 0.05
          },
          "xaxis": {
           "automargin": true,
           "gridcolor": "white",
           "linecolor": "white",
           "ticks": "",
           "title": {
            "standoff": 15
           },
           "zerolinecolor": "white",
           "zerolinewidth": 2
          },
          "yaxis": {
           "automargin": true,
           "gridcolor": "white",
           "linecolor": "white",
           "ticks": "",
           "title": {
            "standoff": 15
           },
           "zerolinecolor": "white",
           "zerolinewidth": 2
          }
         }
        },
        "title": {
         "text": "Training and Validation MAE"
        },
        "xaxis": {
         "anchor": "y",
         "domain": [
          0,
          1
         ],
         "title": {
          "text": "Epoch"
         }
        },
        "yaxis": {
         "anchor": "x",
         "domain": [
          0,
          1
         ],
         "title": {
          "text": "MAE"
         }
        }
       }
      }
     },
     "metadata": {},
     "output_type": "display_data"
    }
   ],
   "source": [
    "import plotly.express as px\n",
    "import pandas as pd\n",
    "\n",
    "# create a dataframe with the training history\n",
    "df_graph = pd.DataFrame(history.history)\n",
    "\n",
    "# create line charts for loss and MAE\n",
    "fig = px.line(df_graph, x=df_graph.index+1, y=['loss', 'val_loss'], labels={'x':'Epoch', 'value':'Loss'},\n",
    "              title='Training and Validation Loss')\n",
    "fig.update_traces(mode='lines')\n",
    "fig.show()\n",
    "\n",
    "fig = px.line(df_graph, x=df_graph.index+1, y=['mae', 'val_mae'], labels={'x':'Epoch', 'value':'MAE'},\n",
    "              title='Training and Validation MAE')\n",
    "fig.update_traces(mode='lines')\n",
    "fig.show()"
   ]
  }
 ],
 "metadata": {
  "kernelspec": {
   "display_name": "base",
   "language": "python",
   "name": "python3"
  },
  "language_info": {
   "codemirror_mode": {
    "name": "ipython",
    "version": 3
   },
   "file_extension": ".py",
   "mimetype": "text/x-python",
   "name": "python",
   "nbconvert_exporter": "python",
   "pygments_lexer": "ipython3",
   "version": "3.9.12"
  },
  "orig_nbformat": 4,
  "vscode": {
   "interpreter": {
    "hash": "8891f3cfb547db503e78f25128202364d60f1c09259e140a1bd236c27b0b7a43"
   }
  }
 },
 "nbformat": 4,
 "nbformat_minor": 2
}
