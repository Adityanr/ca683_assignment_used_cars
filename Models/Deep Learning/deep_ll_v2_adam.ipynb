{
 "cells": [
  {
   "cell_type": "code",
   "execution_count": 1,
   "metadata": {},
   "outputs": [],
   "source": [
    "import pandas as pd\n",
    "from sklearn.model_selection import train_test_split\n",
    "from sklearn.metrics import r2_score\n",
    "import keras.backend as K\n",
    "# %pip install tensorflow\n",
    "from tensorflow.keras.models import Sequential\n",
    "from tensorflow.keras.layers import Dense\n",
    "from tensorflow.keras.layers import Dropout\n",
    "from tensorflow.keras.callbacks import EarlyStopping\n",
    "import tensorflow as tf\n",
    "from sklearn.decomposition import PCA\n",
    "import seaborn as sns\n",
    "import matplotlib.pyplot as plt\n",
    "import plotly.express as px"
   ]
  },
  {
   "cell_type": "code",
   "execution_count": 2,
   "metadata": {},
   "outputs": [],
   "source": [
    "df = pd.read_csv('../../Dataset/cleaned_used_cars_v3.csv')"
   ]
  },
  {
   "cell_type": "code",
   "execution_count": 3,
   "metadata": {},
   "outputs": [
    {
     "data": {
      "text/plain": [
       "(257567, 313)"
      ]
     },
     "execution_count": 3,
     "metadata": {},
     "output_type": "execute_result"
    }
   ],
   "source": [
    "df.shape"
   ]
  },
  {
   "cell_type": "code",
   "execution_count": 4,
   "metadata": {},
   "outputs": [
    {
     "data": {
      "text/plain": [
       "(257567, 313)"
      ]
     },
     "execution_count": 4,
     "metadata": {},
     "output_type": "execute_result"
    }
   ],
   "source": [
    "df.shape"
   ]
  },
  {
   "cell_type": "code",
   "execution_count": 5,
   "metadata": {},
   "outputs": [
    {
     "data": {
      "text/html": [
       "<div>\n",
       "<style scoped>\n",
       "    .dataframe tbody tr th:only-of-type {\n",
       "        vertical-align: middle;\n",
       "    }\n",
       "\n",
       "    .dataframe tbody tr th {\n",
       "        vertical-align: top;\n",
       "    }\n",
       "\n",
       "    .dataframe thead th {\n",
       "        text-align: right;\n",
       "    }\n",
       "</style>\n",
       "<table border=\"1\" class=\"dataframe\">\n",
       "  <thead>\n",
       "    <tr style=\"text-align: right;\">\n",
       "      <th></th>\n",
       "      <th>seller</th>\n",
       "      <th>offerType</th>\n",
       "      <th>price</th>\n",
       "      <th>abtest</th>\n",
       "      <th>gearbox</th>\n",
       "      <th>powerPS</th>\n",
       "      <th>kilometer</th>\n",
       "      <th>notRepairedDamage</th>\n",
       "      <th>vehicleType.andere</th>\n",
       "      <th>vehicleType.bus</th>\n",
       "      <th>...</th>\n",
       "      <th>model.yeti</th>\n",
       "      <th>model.ypsilon</th>\n",
       "      <th>model.z_reihe</th>\n",
       "      <th>model.zafira</th>\n",
       "      <th>year_range.[1991, 1996)</th>\n",
       "      <th>year_range.[1996, 2001)</th>\n",
       "      <th>year_range.[2001, 2006)</th>\n",
       "      <th>year_range.[2006, 2011)</th>\n",
       "      <th>year_range.[2011, 2016)</th>\n",
       "      <th>year_range.[2016, 2021)</th>\n",
       "    </tr>\n",
       "  </thead>\n",
       "  <tbody>\n",
       "    <tr>\n",
       "      <th>0</th>\n",
       "      <td>0</td>\n",
       "      <td>0</td>\n",
       "      <td>1500.0</td>\n",
       "      <td>0</td>\n",
       "      <td>0</td>\n",
       "      <td>-0.353911</td>\n",
       "      <td>0.647340</td>\n",
       "      <td>0</td>\n",
       "      <td>0</td>\n",
       "      <td>0</td>\n",
       "      <td>...</td>\n",
       "      <td>0</td>\n",
       "      <td>0</td>\n",
       "      <td>0</td>\n",
       "      <td>0</td>\n",
       "      <td>0</td>\n",
       "      <td>0</td>\n",
       "      <td>1</td>\n",
       "      <td>0</td>\n",
       "      <td>0</td>\n",
       "      <td>0</td>\n",
       "    </tr>\n",
       "    <tr>\n",
       "      <th>1</th>\n",
       "      <td>0</td>\n",
       "      <td>0</td>\n",
       "      <td>3600.0</td>\n",
       "      <td>0</td>\n",
       "      <td>0</td>\n",
       "      <td>-0.395023</td>\n",
       "      <td>-0.867131</td>\n",
       "      <td>0</td>\n",
       "      <td>0</td>\n",
       "      <td>0</td>\n",
       "      <td>...</td>\n",
       "      <td>0</td>\n",
       "      <td>0</td>\n",
       "      <td>0</td>\n",
       "      <td>0</td>\n",
       "      <td>0</td>\n",
       "      <td>0</td>\n",
       "      <td>0</td>\n",
       "      <td>1</td>\n",
       "      <td>0</td>\n",
       "      <td>0</td>\n",
       "    </tr>\n",
       "    <tr>\n",
       "      <th>2</th>\n",
       "      <td>0</td>\n",
       "      <td>0</td>\n",
       "      <td>650.0</td>\n",
       "      <td>0</td>\n",
       "      <td>0</td>\n",
       "      <td>-0.168908</td>\n",
       "      <td>0.647340</td>\n",
       "      <td>1</td>\n",
       "      <td>0</td>\n",
       "      <td>0</td>\n",
       "      <td>...</td>\n",
       "      <td>0</td>\n",
       "      <td>0</td>\n",
       "      <td>0</td>\n",
       "      <td>0</td>\n",
       "      <td>1</td>\n",
       "      <td>0</td>\n",
       "      <td>0</td>\n",
       "      <td>0</td>\n",
       "      <td>0</td>\n",
       "      <td>0</td>\n",
       "    </tr>\n",
       "    <tr>\n",
       "      <th>3</th>\n",
       "      <td>0</td>\n",
       "      <td>0</td>\n",
       "      <td>2200.0</td>\n",
       "      <td>0</td>\n",
       "      <td>0</td>\n",
       "      <td>-0.120944</td>\n",
       "      <td>0.647340</td>\n",
       "      <td>0</td>\n",
       "      <td>0</td>\n",
       "      <td>0</td>\n",
       "      <td>...</td>\n",
       "      <td>0</td>\n",
       "      <td>0</td>\n",
       "      <td>0</td>\n",
       "      <td>0</td>\n",
       "      <td>0</td>\n",
       "      <td>0</td>\n",
       "      <td>1</td>\n",
       "      <td>0</td>\n",
       "      <td>0</td>\n",
       "      <td>0</td>\n",
       "    </tr>\n",
       "    <tr>\n",
       "      <th>4</th>\n",
       "      <td>0</td>\n",
       "      <td>0</td>\n",
       "      <td>2000.0</td>\n",
       "      <td>1</td>\n",
       "      <td>0</td>\n",
       "      <td>-0.148352</td>\n",
       "      <td>0.647340</td>\n",
       "      <td>0</td>\n",
       "      <td>0</td>\n",
       "      <td>0</td>\n",
       "      <td>...</td>\n",
       "      <td>0</td>\n",
       "      <td>0</td>\n",
       "      <td>0</td>\n",
       "      <td>0</td>\n",
       "      <td>0</td>\n",
       "      <td>0</td>\n",
       "      <td>1</td>\n",
       "      <td>0</td>\n",
       "      <td>0</td>\n",
       "      <td>0</td>\n",
       "    </tr>\n",
       "    <tr>\n",
       "      <th>...</th>\n",
       "      <td>...</td>\n",
       "      <td>...</td>\n",
       "      <td>...</td>\n",
       "      <td>...</td>\n",
       "      <td>...</td>\n",
       "      <td>...</td>\n",
       "      <td>...</td>\n",
       "      <td>...</td>\n",
       "      <td>...</td>\n",
       "      <td>...</td>\n",
       "      <td>...</td>\n",
       "      <td>...</td>\n",
       "      <td>...</td>\n",
       "      <td>...</td>\n",
       "      <td>...</td>\n",
       "      <td>...</td>\n",
       "      <td>...</td>\n",
       "      <td>...</td>\n",
       "      <td>...</td>\n",
       "      <td>...</td>\n",
       "      <td>...</td>\n",
       "    </tr>\n",
       "    <tr>\n",
       "      <th>257562</th>\n",
       "      <td>0</td>\n",
       "      <td>0</td>\n",
       "      <td>3200.0</td>\n",
       "      <td>1</td>\n",
       "      <td>0</td>\n",
       "      <td>0.673887</td>\n",
       "      <td>0.647340</td>\n",
       "      <td>1</td>\n",
       "      <td>0</td>\n",
       "      <td>0</td>\n",
       "      <td>...</td>\n",
       "      <td>0</td>\n",
       "      <td>0</td>\n",
       "      <td>0</td>\n",
       "      <td>0</td>\n",
       "      <td>0</td>\n",
       "      <td>0</td>\n",
       "      <td>1</td>\n",
       "      <td>0</td>\n",
       "      <td>0</td>\n",
       "      <td>0</td>\n",
       "    </tr>\n",
       "    <tr>\n",
       "      <th>257563</th>\n",
       "      <td>0</td>\n",
       "      <td>0</td>\n",
       "      <td>1150.0</td>\n",
       "      <td>1</td>\n",
       "      <td>0</td>\n",
       "      <td>-0.867810</td>\n",
       "      <td>0.647340</td>\n",
       "      <td>0</td>\n",
       "      <td>0</td>\n",
       "      <td>1</td>\n",
       "      <td>...</td>\n",
       "      <td>0</td>\n",
       "      <td>0</td>\n",
       "      <td>0</td>\n",
       "      <td>1</td>\n",
       "      <td>0</td>\n",
       "      <td>1</td>\n",
       "      <td>0</td>\n",
       "      <td>0</td>\n",
       "      <td>0</td>\n",
       "      <td>0</td>\n",
       "    </tr>\n",
       "    <tr>\n",
       "      <th>257564</th>\n",
       "      <td>0</td>\n",
       "      <td>0</td>\n",
       "      <td>1199.0</td>\n",
       "      <td>0</td>\n",
       "      <td>1</td>\n",
       "      <td>-0.175760</td>\n",
       "      <td>0.016310</td>\n",
       "      <td>0</td>\n",
       "      <td>0</td>\n",
       "      <td>0</td>\n",
       "      <td>...</td>\n",
       "      <td>0</td>\n",
       "      <td>0</td>\n",
       "      <td>0</td>\n",
       "      <td>0</td>\n",
       "      <td>0</td>\n",
       "      <td>1</td>\n",
       "      <td>0</td>\n",
       "      <td>0</td>\n",
       "      <td>0</td>\n",
       "      <td>0</td>\n",
       "    </tr>\n",
       "    <tr>\n",
       "      <th>257565</th>\n",
       "      <td>0</td>\n",
       "      <td>0</td>\n",
       "      <td>9200.0</td>\n",
       "      <td>0</td>\n",
       "      <td>0</td>\n",
       "      <td>-0.168908</td>\n",
       "      <td>0.647340</td>\n",
       "      <td>0</td>\n",
       "      <td>0</td>\n",
       "      <td>1</td>\n",
       "      <td>...</td>\n",
       "      <td>0</td>\n",
       "      <td>0</td>\n",
       "      <td>0</td>\n",
       "      <td>0</td>\n",
       "      <td>0</td>\n",
       "      <td>1</td>\n",
       "      <td>0</td>\n",
       "      <td>0</td>\n",
       "      <td>0</td>\n",
       "      <td>0</td>\n",
       "    </tr>\n",
       "    <tr>\n",
       "      <th>257566</th>\n",
       "      <td>0</td>\n",
       "      <td>0</td>\n",
       "      <td>15499.0</td>\n",
       "      <td>1</td>\n",
       "      <td>0</td>\n",
       "      <td>1.324825</td>\n",
       "      <td>-1.876779</td>\n",
       "      <td>0</td>\n",
       "      <td>0</td>\n",
       "      <td>0</td>\n",
       "      <td>...</td>\n",
       "      <td>0</td>\n",
       "      <td>0</td>\n",
       "      <td>0</td>\n",
       "      <td>0</td>\n",
       "      <td>0</td>\n",
       "      <td>0</td>\n",
       "      <td>0</td>\n",
       "      <td>0</td>\n",
       "      <td>1</td>\n",
       "      <td>0</td>\n",
       "    </tr>\n",
       "  </tbody>\n",
       "</table>\n",
       "<p>257567 rows × 313 columns</p>\n",
       "</div>"
      ],
      "text/plain": [
       "        seller  offerType    price  abtest  gearbox   powerPS  kilometer  \\\n",
       "0            0          0   1500.0       0        0 -0.353911   0.647340   \n",
       "1            0          0   3600.0       0        0 -0.395023  -0.867131   \n",
       "2            0          0    650.0       0        0 -0.168908   0.647340   \n",
       "3            0          0   2200.0       0        0 -0.120944   0.647340   \n",
       "4            0          0   2000.0       1        0 -0.148352   0.647340   \n",
       "...        ...        ...      ...     ...      ...       ...        ...   \n",
       "257562       0          0   3200.0       1        0  0.673887   0.647340   \n",
       "257563       0          0   1150.0       1        0 -0.867810   0.647340   \n",
       "257564       0          0   1199.0       0        1 -0.175760   0.016310   \n",
       "257565       0          0   9200.0       0        0 -0.168908   0.647340   \n",
       "257566       0          0  15499.0       1        0  1.324825  -1.876779   \n",
       "\n",
       "        notRepairedDamage  vehicleType.andere  vehicleType.bus  ...  \\\n",
       "0                       0                   0                0  ...   \n",
       "1                       0                   0                0  ...   \n",
       "2                       1                   0                0  ...   \n",
       "3                       0                   0                0  ...   \n",
       "4                       0                   0                0  ...   \n",
       "...                   ...                 ...              ...  ...   \n",
       "257562                  1                   0                0  ...   \n",
       "257563                  0                   0                1  ...   \n",
       "257564                  0                   0                0  ...   \n",
       "257565                  0                   0                1  ...   \n",
       "257566                  0                   0                0  ...   \n",
       "\n",
       "        model.yeti  model.ypsilon  model.z_reihe  model.zafira  \\\n",
       "0                0              0              0             0   \n",
       "1                0              0              0             0   \n",
       "2                0              0              0             0   \n",
       "3                0              0              0             0   \n",
       "4                0              0              0             0   \n",
       "...            ...            ...            ...           ...   \n",
       "257562           0              0              0             0   \n",
       "257563           0              0              0             1   \n",
       "257564           0              0              0             0   \n",
       "257565           0              0              0             0   \n",
       "257566           0              0              0             0   \n",
       "\n",
       "        year_range.[1991, 1996)  year_range.[1996, 2001)  \\\n",
       "0                             0                        0   \n",
       "1                             0                        0   \n",
       "2                             1                        0   \n",
       "3                             0                        0   \n",
       "4                             0                        0   \n",
       "...                         ...                      ...   \n",
       "257562                        0                        0   \n",
       "257563                        0                        1   \n",
       "257564                        0                        1   \n",
       "257565                        0                        1   \n",
       "257566                        0                        0   \n",
       "\n",
       "        year_range.[2001, 2006)  year_range.[2006, 2011)  \\\n",
       "0                             1                        0   \n",
       "1                             0                        1   \n",
       "2                             0                        0   \n",
       "3                             1                        0   \n",
       "4                             1                        0   \n",
       "...                         ...                      ...   \n",
       "257562                        1                        0   \n",
       "257563                        0                        0   \n",
       "257564                        0                        0   \n",
       "257565                        0                        0   \n",
       "257566                        0                        0   \n",
       "\n",
       "        year_range.[2011, 2016)  year_range.[2016, 2021)  \n",
       "0                             0                        0  \n",
       "1                             0                        0  \n",
       "2                             0                        0  \n",
       "3                             0                        0  \n",
       "4                             0                        0  \n",
       "...                         ...                      ...  \n",
       "257562                        0                        0  \n",
       "257563                        0                        0  \n",
       "257564                        0                        0  \n",
       "257565                        0                        0  \n",
       "257566                        1                        0  \n",
       "\n",
       "[257567 rows x 313 columns]"
      ]
     },
     "execution_count": 5,
     "metadata": {},
     "output_type": "execute_result"
    }
   ],
   "source": [
    "df"
   ]
  },
  {
   "cell_type": "code",
   "execution_count": 6,
   "metadata": {},
   "outputs": [],
   "source": [
    "def r2(y_true, y_pred):\n",
    "    SS_res =  K.sum(K.square(y_true - y_pred)) \n",
    "    SS_tot = K.sum(K.square(y_true - K.mean(y_true)))\n",
    "    return ( 1 - SS_res/(SS_tot + K.epsilon()) )"
   ]
  },
  {
   "cell_type": "code",
   "execution_count": 7,
   "metadata": {},
   "outputs": [
    {
     "data": {
      "text/html": [
       "<div>\n",
       "<style scoped>\n",
       "    .dataframe tbody tr th:only-of-type {\n",
       "        vertical-align: middle;\n",
       "    }\n",
       "\n",
       "    .dataframe tbody tr th {\n",
       "        vertical-align: top;\n",
       "    }\n",
       "\n",
       "    .dataframe thead th {\n",
       "        text-align: right;\n",
       "    }\n",
       "</style>\n",
       "<table border=\"1\" class=\"dataframe\">\n",
       "  <thead>\n",
       "    <tr style=\"text-align: right;\">\n",
       "      <th></th>\n",
       "      <th>seller</th>\n",
       "      <th>offerType</th>\n",
       "      <th>abtest</th>\n",
       "      <th>gearbox</th>\n",
       "      <th>powerPS</th>\n",
       "      <th>kilometer</th>\n",
       "      <th>notRepairedDamage</th>\n",
       "      <th>vehicleType.andere</th>\n",
       "      <th>vehicleType.bus</th>\n",
       "      <th>vehicleType.cabrio</th>\n",
       "      <th>...</th>\n",
       "      <th>model.yeti</th>\n",
       "      <th>model.ypsilon</th>\n",
       "      <th>model.z_reihe</th>\n",
       "      <th>model.zafira</th>\n",
       "      <th>year_range.[1991, 1996)</th>\n",
       "      <th>year_range.[1996, 2001)</th>\n",
       "      <th>year_range.[2001, 2006)</th>\n",
       "      <th>year_range.[2006, 2011)</th>\n",
       "      <th>year_range.[2011, 2016)</th>\n",
       "      <th>year_range.[2016, 2021)</th>\n",
       "    </tr>\n",
       "  </thead>\n",
       "  <tbody>\n",
       "    <tr>\n",
       "      <th>0</th>\n",
       "      <td>0</td>\n",
       "      <td>0</td>\n",
       "      <td>0</td>\n",
       "      <td>0</td>\n",
       "      <td>-0.353911</td>\n",
       "      <td>0.647340</td>\n",
       "      <td>0</td>\n",
       "      <td>0</td>\n",
       "      <td>0</td>\n",
       "      <td>0</td>\n",
       "      <td>...</td>\n",
       "      <td>0</td>\n",
       "      <td>0</td>\n",
       "      <td>0</td>\n",
       "      <td>0</td>\n",
       "      <td>0</td>\n",
       "      <td>0</td>\n",
       "      <td>1</td>\n",
       "      <td>0</td>\n",
       "      <td>0</td>\n",
       "      <td>0</td>\n",
       "    </tr>\n",
       "    <tr>\n",
       "      <th>1</th>\n",
       "      <td>0</td>\n",
       "      <td>0</td>\n",
       "      <td>0</td>\n",
       "      <td>0</td>\n",
       "      <td>-0.395023</td>\n",
       "      <td>-0.867131</td>\n",
       "      <td>0</td>\n",
       "      <td>0</td>\n",
       "      <td>0</td>\n",
       "      <td>0</td>\n",
       "      <td>...</td>\n",
       "      <td>0</td>\n",
       "      <td>0</td>\n",
       "      <td>0</td>\n",
       "      <td>0</td>\n",
       "      <td>0</td>\n",
       "      <td>0</td>\n",
       "      <td>0</td>\n",
       "      <td>1</td>\n",
       "      <td>0</td>\n",
       "      <td>0</td>\n",
       "    </tr>\n",
       "    <tr>\n",
       "      <th>2</th>\n",
       "      <td>0</td>\n",
       "      <td>0</td>\n",
       "      <td>0</td>\n",
       "      <td>0</td>\n",
       "      <td>-0.168908</td>\n",
       "      <td>0.647340</td>\n",
       "      <td>1</td>\n",
       "      <td>0</td>\n",
       "      <td>0</td>\n",
       "      <td>0</td>\n",
       "      <td>...</td>\n",
       "      <td>0</td>\n",
       "      <td>0</td>\n",
       "      <td>0</td>\n",
       "      <td>0</td>\n",
       "      <td>1</td>\n",
       "      <td>0</td>\n",
       "      <td>0</td>\n",
       "      <td>0</td>\n",
       "      <td>0</td>\n",
       "      <td>0</td>\n",
       "    </tr>\n",
       "    <tr>\n",
       "      <th>3</th>\n",
       "      <td>0</td>\n",
       "      <td>0</td>\n",
       "      <td>0</td>\n",
       "      <td>0</td>\n",
       "      <td>-0.120944</td>\n",
       "      <td>0.647340</td>\n",
       "      <td>0</td>\n",
       "      <td>0</td>\n",
       "      <td>0</td>\n",
       "      <td>1</td>\n",
       "      <td>...</td>\n",
       "      <td>0</td>\n",
       "      <td>0</td>\n",
       "      <td>0</td>\n",
       "      <td>0</td>\n",
       "      <td>0</td>\n",
       "      <td>0</td>\n",
       "      <td>1</td>\n",
       "      <td>0</td>\n",
       "      <td>0</td>\n",
       "      <td>0</td>\n",
       "    </tr>\n",
       "    <tr>\n",
       "      <th>4</th>\n",
       "      <td>0</td>\n",
       "      <td>0</td>\n",
       "      <td>1</td>\n",
       "      <td>0</td>\n",
       "      <td>-0.148352</td>\n",
       "      <td>0.647340</td>\n",
       "      <td>0</td>\n",
       "      <td>0</td>\n",
       "      <td>0</td>\n",
       "      <td>0</td>\n",
       "      <td>...</td>\n",
       "      <td>0</td>\n",
       "      <td>0</td>\n",
       "      <td>0</td>\n",
       "      <td>0</td>\n",
       "      <td>0</td>\n",
       "      <td>0</td>\n",
       "      <td>1</td>\n",
       "      <td>0</td>\n",
       "      <td>0</td>\n",
       "      <td>0</td>\n",
       "    </tr>\n",
       "    <tr>\n",
       "      <th>...</th>\n",
       "      <td>...</td>\n",
       "      <td>...</td>\n",
       "      <td>...</td>\n",
       "      <td>...</td>\n",
       "      <td>...</td>\n",
       "      <td>...</td>\n",
       "      <td>...</td>\n",
       "      <td>...</td>\n",
       "      <td>...</td>\n",
       "      <td>...</td>\n",
       "      <td>...</td>\n",
       "      <td>...</td>\n",
       "      <td>...</td>\n",
       "      <td>...</td>\n",
       "      <td>...</td>\n",
       "      <td>...</td>\n",
       "      <td>...</td>\n",
       "      <td>...</td>\n",
       "      <td>...</td>\n",
       "      <td>...</td>\n",
       "      <td>...</td>\n",
       "    </tr>\n",
       "    <tr>\n",
       "      <th>257562</th>\n",
       "      <td>0</td>\n",
       "      <td>0</td>\n",
       "      <td>1</td>\n",
       "      <td>0</td>\n",
       "      <td>0.673887</td>\n",
       "      <td>0.647340</td>\n",
       "      <td>1</td>\n",
       "      <td>0</td>\n",
       "      <td>0</td>\n",
       "      <td>0</td>\n",
       "      <td>...</td>\n",
       "      <td>0</td>\n",
       "      <td>0</td>\n",
       "      <td>0</td>\n",
       "      <td>0</td>\n",
       "      <td>0</td>\n",
       "      <td>0</td>\n",
       "      <td>1</td>\n",
       "      <td>0</td>\n",
       "      <td>0</td>\n",
       "      <td>0</td>\n",
       "    </tr>\n",
       "    <tr>\n",
       "      <th>257563</th>\n",
       "      <td>0</td>\n",
       "      <td>0</td>\n",
       "      <td>1</td>\n",
       "      <td>0</td>\n",
       "      <td>-0.867810</td>\n",
       "      <td>0.647340</td>\n",
       "      <td>0</td>\n",
       "      <td>0</td>\n",
       "      <td>1</td>\n",
       "      <td>0</td>\n",
       "      <td>...</td>\n",
       "      <td>0</td>\n",
       "      <td>0</td>\n",
       "      <td>0</td>\n",
       "      <td>1</td>\n",
       "      <td>0</td>\n",
       "      <td>1</td>\n",
       "      <td>0</td>\n",
       "      <td>0</td>\n",
       "      <td>0</td>\n",
       "      <td>0</td>\n",
       "    </tr>\n",
       "    <tr>\n",
       "      <th>257564</th>\n",
       "      <td>0</td>\n",
       "      <td>0</td>\n",
       "      <td>0</td>\n",
       "      <td>1</td>\n",
       "      <td>-0.175760</td>\n",
       "      <td>0.016310</td>\n",
       "      <td>0</td>\n",
       "      <td>0</td>\n",
       "      <td>0</td>\n",
       "      <td>1</td>\n",
       "      <td>...</td>\n",
       "      <td>0</td>\n",
       "      <td>0</td>\n",
       "      <td>0</td>\n",
       "      <td>0</td>\n",
       "      <td>0</td>\n",
       "      <td>1</td>\n",
       "      <td>0</td>\n",
       "      <td>0</td>\n",
       "      <td>0</td>\n",
       "      <td>0</td>\n",
       "    </tr>\n",
       "    <tr>\n",
       "      <th>257565</th>\n",
       "      <td>0</td>\n",
       "      <td>0</td>\n",
       "      <td>0</td>\n",
       "      <td>0</td>\n",
       "      <td>-0.168908</td>\n",
       "      <td>0.647340</td>\n",
       "      <td>0</td>\n",
       "      <td>0</td>\n",
       "      <td>1</td>\n",
       "      <td>0</td>\n",
       "      <td>...</td>\n",
       "      <td>0</td>\n",
       "      <td>0</td>\n",
       "      <td>0</td>\n",
       "      <td>0</td>\n",
       "      <td>0</td>\n",
       "      <td>1</td>\n",
       "      <td>0</td>\n",
       "      <td>0</td>\n",
       "      <td>0</td>\n",
       "      <td>0</td>\n",
       "    </tr>\n",
       "    <tr>\n",
       "      <th>257566</th>\n",
       "      <td>0</td>\n",
       "      <td>0</td>\n",
       "      <td>1</td>\n",
       "      <td>0</td>\n",
       "      <td>1.324825</td>\n",
       "      <td>-1.876779</td>\n",
       "      <td>0</td>\n",
       "      <td>0</td>\n",
       "      <td>0</td>\n",
       "      <td>0</td>\n",
       "      <td>...</td>\n",
       "      <td>0</td>\n",
       "      <td>0</td>\n",
       "      <td>0</td>\n",
       "      <td>0</td>\n",
       "      <td>0</td>\n",
       "      <td>0</td>\n",
       "      <td>0</td>\n",
       "      <td>0</td>\n",
       "      <td>1</td>\n",
       "      <td>0</td>\n",
       "    </tr>\n",
       "  </tbody>\n",
       "</table>\n",
       "<p>257567 rows × 312 columns</p>\n",
       "</div>"
      ],
      "text/plain": [
       "        seller  offerType  abtest  gearbox   powerPS  kilometer  \\\n",
       "0            0          0       0        0 -0.353911   0.647340   \n",
       "1            0          0       0        0 -0.395023  -0.867131   \n",
       "2            0          0       0        0 -0.168908   0.647340   \n",
       "3            0          0       0        0 -0.120944   0.647340   \n",
       "4            0          0       1        0 -0.148352   0.647340   \n",
       "...        ...        ...     ...      ...       ...        ...   \n",
       "257562       0          0       1        0  0.673887   0.647340   \n",
       "257563       0          0       1        0 -0.867810   0.647340   \n",
       "257564       0          0       0        1 -0.175760   0.016310   \n",
       "257565       0          0       0        0 -0.168908   0.647340   \n",
       "257566       0          0       1        0  1.324825  -1.876779   \n",
       "\n",
       "        notRepairedDamage  vehicleType.andere  vehicleType.bus  \\\n",
       "0                       0                   0                0   \n",
       "1                       0                   0                0   \n",
       "2                       1                   0                0   \n",
       "3                       0                   0                0   \n",
       "4                       0                   0                0   \n",
       "...                   ...                 ...              ...   \n",
       "257562                  1                   0                0   \n",
       "257563                  0                   0                1   \n",
       "257564                  0                   0                0   \n",
       "257565                  0                   0                1   \n",
       "257566                  0                   0                0   \n",
       "\n",
       "        vehicleType.cabrio  ...  model.yeti  model.ypsilon  model.z_reihe  \\\n",
       "0                        0  ...           0              0              0   \n",
       "1                        0  ...           0              0              0   \n",
       "2                        0  ...           0              0              0   \n",
       "3                        1  ...           0              0              0   \n",
       "4                        0  ...           0              0              0   \n",
       "...                    ...  ...         ...            ...            ...   \n",
       "257562                   0  ...           0              0              0   \n",
       "257563                   0  ...           0              0              0   \n",
       "257564                   1  ...           0              0              0   \n",
       "257565                   0  ...           0              0              0   \n",
       "257566                   0  ...           0              0              0   \n",
       "\n",
       "        model.zafira  year_range.[1991, 1996)  year_range.[1996, 2001)  \\\n",
       "0                  0                        0                        0   \n",
       "1                  0                        0                        0   \n",
       "2                  0                        1                        0   \n",
       "3                  0                        0                        0   \n",
       "4                  0                        0                        0   \n",
       "...              ...                      ...                      ...   \n",
       "257562             0                        0                        0   \n",
       "257563             1                        0                        1   \n",
       "257564             0                        0                        1   \n",
       "257565             0                        0                        1   \n",
       "257566             0                        0                        0   \n",
       "\n",
       "        year_range.[2001, 2006)  year_range.[2006, 2011)  \\\n",
       "0                             1                        0   \n",
       "1                             0                        1   \n",
       "2                             0                        0   \n",
       "3                             1                        0   \n",
       "4                             1                        0   \n",
       "...                         ...                      ...   \n",
       "257562                        1                        0   \n",
       "257563                        0                        0   \n",
       "257564                        0                        0   \n",
       "257565                        0                        0   \n",
       "257566                        0                        0   \n",
       "\n",
       "        year_range.[2011, 2016)  year_range.[2016, 2021)  \n",
       "0                             0                        0  \n",
       "1                             0                        0  \n",
       "2                             0                        0  \n",
       "3                             0                        0  \n",
       "4                             0                        0  \n",
       "...                         ...                      ...  \n",
       "257562                        0                        0  \n",
       "257563                        0                        0  \n",
       "257564                        0                        0  \n",
       "257565                        0                        0  \n",
       "257566                        1                        0  \n",
       "\n",
       "[257567 rows x 312 columns]"
      ]
     },
     "execution_count": 7,
     "metadata": {},
     "output_type": "execute_result"
    }
   ],
   "source": [
    "X = df.drop(['price'], axis=1)\n",
    "y = df['price']\n",
    "X"
   ]
  },
  {
   "cell_type": "code",
   "execution_count": 8,
   "metadata": {},
   "outputs": [
    {
     "name": "stdout",
     "output_type": "stream",
     "text": [
      "Epoch 1/500\n",
      "1649/1649 [==============================] - 6s 2ms/step - loss: 55879592.0000 - mae: 5621.0464 - r2: -1.3186 - val_loss: 55588140.0000 - val_mae: 5588.3369 - val_r2: -1.2998\n",
      "Epoch 2/500\n",
      "1649/1649 [==============================] - 3s 2ms/step - loss: 55798644.0000 - mae: 5618.8867 - r2: -1.3158 - val_loss: 55499104.0000 - val_mae: 5585.5674 - val_r2: -1.2961\n",
      "Epoch 3/500\n",
      "1649/1649 [==============================] - 4s 2ms/step - loss: 55702108.0000 - mae: 5615.5669 - r2: -1.3116 - val_loss: 55389856.0000 - val_mae: 5581.6299 - val_r2: -1.2916\n",
      "Epoch 4/500\n",
      "1649/1649 [==============================] - 4s 2ms/step - loss: 55586144.0000 - mae: 5611.2227 - r2: -1.3067 - val_loss: 55271820.0000 - val_mae: 5576.7827 - val_r2: -1.2867\n",
      "Epoch 5/500\n",
      "1649/1649 [==============================] - 4s 2ms/step - loss: 55451156.0000 - mae: 5605.8926 - r2: -1.3005 - val_loss: 55127948.0000 - val_mae: 5571.3179 - val_r2: -1.2808\n",
      "Epoch 6/500\n",
      "1649/1649 [==============================] - 4s 2ms/step - loss: 55298036.0000 - mae: 5599.6094 - r2: -1.2968 - val_loss: 54985848.0000 - val_mae: 5564.1895 - val_r2: -1.2749\n",
      "Epoch 7/500\n",
      "1649/1649 [==============================] - 4s 2ms/step - loss: 55125808.0000 - mae: 5592.4038 - r2: -1.2880 - val_loss: 54803356.0000 - val_mae: 5556.8145 - val_r2: -1.2674\n",
      "Epoch 8/500\n",
      "1649/1649 [==============================] - 4s 2ms/step - loss: 54934940.0000 - mae: 5584.2671 - r2: -1.2801 - val_loss: 54590212.0000 - val_mae: 5547.9326 - val_r2: -1.2586\n",
      "Epoch 9/500\n",
      "1649/1649 [==============================] - 4s 2ms/step - loss: 54726172.0000 - mae: 5575.2104 - r2: -1.2709 - val_loss: 54380960.0000 - val_mae: 5539.0674 - val_r2: -1.2499\n",
      "Epoch 10/500\n",
      "1649/1649 [==============================] - 4s 2ms/step - loss: 54499548.0000 - mae: 5565.2446 - r2: -1.2612 - val_loss: 54130412.0000 - val_mae: 5528.3984 - val_r2: -1.2396\n",
      "Epoch 11/500\n",
      "1649/1649 [==============================] - 4s 2ms/step - loss: 54254968.0000 - mae: 5554.3735 - r2: -1.2504 - val_loss: 53914348.0000 - val_mae: 5517.3892 - val_r2: -1.2307\n",
      "Epoch 12/500\n",
      "1649/1649 [==============================] - 4s 2ms/step - loss: 53993800.0000 - mae: 5542.5952 - r2: -1.2403 - val_loss: 53629468.0000 - val_mae: 5504.6709 - val_r2: -1.2189\n",
      "Epoch 13/500\n",
      "1649/1649 [==============================] - 4s 2ms/step - loss: 53714180.0000 - mae: 5529.9277 - r2: -1.2286 - val_loss: 53371916.0000 - val_mae: 5491.9390 - val_r2: -1.2083\n",
      "Epoch 14/500\n",
      "1649/1649 [==============================] - 4s 2ms/step - loss: 53417644.0000 - mae: 5516.3447 - r2: -1.2155 - val_loss: 53006652.0000 - val_mae: 5475.6294 - val_r2: -1.1932\n",
      "Epoch 15/500\n",
      "1649/1649 [==============================] - 4s 2ms/step - loss: 53104836.0000 - mae: 5501.8843 - r2: -1.2034 - val_loss: 52760784.0000 - val_mae: 5461.0811 - val_r2: -1.1830\n",
      "Epoch 16/500\n",
      "1649/1649 [==============================] - 3s 2ms/step - loss: 52774700.0000 - mae: 5486.5469 - r2: -1.1899 - val_loss: 52423924.0000 - val_mae: 5446.1016 - val_r2: -1.1691\n",
      "Epoch 17/500\n",
      "1649/1649 [==============================] - 3s 2ms/step - loss: 52428352.0000 - mae: 5470.3223 - r2: -1.1747 - val_loss: 52047372.0000 - val_mae: 5430.4536 - val_r2: -1.1535\n",
      "Epoch 18/500\n",
      "1649/1649 [==============================] - 4s 2ms/step - loss: 52064832.0000 - mae: 5453.2515 - r2: -1.1595 - val_loss: 51649484.0000 - val_mae: 5410.0254 - val_r2: -1.1371\n",
      "Epoch 19/500\n",
      "1649/1649 [==============================] - 4s 2ms/step - loss: 51685928.0000 - mae: 5435.3403 - r2: -1.1437 - val_loss: 51306596.0000 - val_mae: 5392.6895 - val_r2: -1.1229\n",
      "Epoch 20/500\n",
      "1649/1649 [==============================] - 4s 2ms/step - loss: 51291680.0000 - mae: 5416.5161 - r2: -1.1277 - val_loss: 50939572.0000 - val_mae: 5374.1240 - val_r2: -1.1077\n",
      "Epoch 21/500\n",
      "1649/1649 [==============================] - 4s 2ms/step - loss: 50881000.0000 - mae: 5396.8364 - r2: -1.1098 - val_loss: 50441032.0000 - val_mae: 5351.9414 - val_r2: -1.0871\n",
      "Epoch 22/500\n",
      "1649/1649 [==============================] - 4s 2ms/step - loss: 50454928.0000 - mae: 5376.3296 - r2: -1.0923 - val_loss: 50081080.0000 - val_mae: 5335.8066 - val_r2: -1.0723\n",
      "Epoch 23/500\n",
      "1649/1649 [==============================] - 4s 2ms/step - loss: 50014956.0000 - mae: 5354.9248 - r2: -1.0738 - val_loss: 49605816.0000 - val_mae: 5310.9868 - val_r2: -1.0526\n",
      "Epoch 24/500\n",
      "1649/1649 [==============================] - 5s 3ms/step - loss: 49560184.0000 - mae: 5332.7041 - r2: -1.0559 - val_loss: 49117436.0000 - val_mae: 5283.4443 - val_r2: -1.0324\n",
      "Epoch 25/500\n",
      "1649/1649 [==============================] - 9s 5ms/step - loss: 49089468.0000 - mae: 5309.5732 - r2: -1.0361 - val_loss: 48756836.0000 - val_mae: 5265.0747 - val_r2: -1.0175\n",
      "Epoch 26/500\n",
      "1649/1649 [==============================] - 8s 5ms/step - loss: 48603660.0000 - mae: 5285.5986 - r2: -1.0151 - val_loss: 48217948.0000 - val_mae: 5237.7070 - val_r2: -0.9952\n",
      "Epoch 27/500\n",
      "1649/1649 [==============================] - 12s 7ms/step - loss: 48106288.0000 - mae: 5260.7744 - r2: -0.9947 - val_loss: 47701736.0000 - val_mae: 5211.9912 - val_r2: -0.9739\n",
      "Epoch 28/500\n",
      "1649/1649 [==============================] - 8s 5ms/step - loss: 47594696.0000 - mae: 5235.0752 - r2: -0.9730 - val_loss: 47129792.0000 - val_mae: 5189.5991 - val_r2: -0.9503\n",
      "Epoch 29/500\n",
      "1649/1649 [==============================] - 8s 5ms/step - loss: 47069796.0000 - mae: 5208.4868 - r2: -0.9515 - val_loss: 46665528.0000 - val_mae: 5161.9844 - val_r2: -0.9310\n",
      "Epoch 30/500\n",
      "1649/1649 [==============================] - 4s 2ms/step - loss: 46527884.0000 - mae: 5181.0576 - r2: -0.9278 - val_loss: 46087416.0000 - val_mae: 5127.6885 - val_r2: -0.9071\n",
      "Epoch 31/500\n",
      "1649/1649 [==============================] - 3s 2ms/step - loss: 45977040.0000 - mae: 5152.8555 - r2: -0.9050 - val_loss: 45661516.0000 - val_mae: 5109.6997 - val_r2: -0.8895\n",
      "Epoch 32/500\n",
      "1649/1649 [==============================] - 4s 2ms/step - loss: 45413804.0000 - mae: 5123.6860 - r2: -0.8820 - val_loss: 45022308.0000 - val_mae: 5076.6787 - val_r2: -0.8631\n",
      "Epoch 33/500\n",
      "1649/1649 [==============================] - 3s 2ms/step - loss: 44840428.0000 - mae: 5093.7983 - r2: -0.8589 - val_loss: 44432920.0000 - val_mae: 5044.8677 - val_r2: -0.8388\n",
      "Epoch 34/500\n",
      "1649/1649 [==============================] - 4s 2ms/step - loss: 44252276.0000 - mae: 5062.9409 - r2: -0.8337 - val_loss: 43749092.0000 - val_mae: 5018.2397 - val_r2: -0.8106\n",
      "Epoch 35/500\n",
      "1649/1649 [==============================] - 4s 2ms/step - loss: 43652920.0000 - mae: 5031.3335 - r2: -0.8092 - val_loss: 43277180.0000 - val_mae: 4967.9014 - val_r2: -0.7909\n",
      "Epoch 36/500\n",
      "1649/1649 [==============================] - 4s 2ms/step - loss: 43041272.0000 - mae: 4998.6685 - r2: -0.7830 - val_loss: 42863116.0000 - val_mae: 4954.8018 - val_r2: -0.7738\n",
      "Epoch 37/500\n",
      "1649/1649 [==============================] - 4s 2ms/step - loss: 42421444.0000 - mae: 4965.3335 - r2: -0.7570 - val_loss: 42192552.0000 - val_mae: 4917.5566 - val_r2: -0.7461\n",
      "Epoch 38/500\n",
      "1649/1649 [==============================] - 4s 2ms/step - loss: 41790948.0000 - mae: 4931.1240 - r2: -0.7302 - val_loss: 41407396.0000 - val_mae: 4876.9985 - val_r2: -0.7136\n",
      "Epoch 39/500\n",
      "1649/1649 [==============================] - 4s 2ms/step - loss: 41149320.0000 - mae: 4895.9922 - r2: -0.7042 - val_loss: 40644296.0000 - val_mae: 4830.9434 - val_r2: -0.6821\n",
      "Epoch 40/500\n",
      "1649/1649 [==============================] - 4s 2ms/step - loss: 40501324.0000 - mae: 4860.1382 - r2: -0.6771 - val_loss: 40127376.0000 - val_mae: 4827.0986 - val_r2: -0.6610\n",
      "Epoch 41/500\n",
      "1649/1649 [==============================] - 4s 2ms/step - loss: 39840408.0000 - mae: 4823.4028 - r2: -0.6494 - val_loss: 39258760.0000 - val_mae: 4766.7622 - val_r2: -0.6249\n",
      "Epoch 42/500\n",
      "1649/1649 [==============================] - 4s 2ms/step - loss: 39172392.0000 - mae: 4785.8501 - r2: -0.6209 - val_loss: 38796716.0000 - val_mae: 4720.9375 - val_r2: -0.6057\n",
      "Epoch 43/500\n",
      "1649/1649 [==============================] - 3s 2ms/step - loss: 38492156.0000 - mae: 4747.3389 - r2: -0.5929 - val_loss: 38261360.0000 - val_mae: 4698.7651 - val_r2: -0.5836\n",
      "Epoch 44/500\n",
      "1649/1649 [==============================] - 3s 2ms/step - loss: 37813604.0000 - mae: 4708.0762 - r2: -0.5646 - val_loss: 37385184.0000 - val_mae: 4652.5796 - val_r2: -0.5474\n",
      "Epoch 45/500\n",
      "1649/1649 [==============================] - 3s 2ms/step - loss: 37123268.0000 - mae: 4667.9868 - r2: -0.5358 - val_loss: 36846260.0000 - val_mae: 4618.4448 - val_r2: -0.5250\n",
      "Epoch 46/500\n",
      "1649/1649 [==============================] - 3s 2ms/step - loss: 36419644.0000 - mae: 4627.0259 - r2: -0.5062 - val_loss: 36091440.0000 - val_mae: 4583.0688 - val_r2: -0.4939\n",
      "Epoch 47/500\n",
      "1649/1649 [==============================] - 3s 2ms/step - loss: 35713528.0000 - mae: 4585.1919 - r2: -0.4765 - val_loss: 35402908.0000 - val_mae: 4525.0630 - val_r2: -0.4655\n",
      "Epoch 48/500\n",
      "1649/1649 [==============================] - 3s 2ms/step - loss: 35009484.0000 - mae: 4542.7466 - r2: -0.4477 - val_loss: 34639788.0000 - val_mae: 4473.7500 - val_r2: -0.4339\n",
      "Epoch 49/500\n",
      "1649/1649 [==============================] - 3s 2ms/step - loss: 34289420.0000 - mae: 4499.2285 - r2: -0.4174 - val_loss: 33922392.0000 - val_mae: 4446.1187 - val_r2: -0.4043\n",
      "Epoch 50/500\n",
      "1649/1649 [==============================] - 4s 3ms/step - loss: 33565972.0000 - mae: 4455.1206 - r2: -0.3872 - val_loss: 33390566.0000 - val_mae: 4392.1382 - val_r2: -0.3822\n",
      "Epoch 51/500\n",
      "1649/1649 [==============================] - 3s 2ms/step - loss: 32841562.0000 - mae: 4409.7559 - r2: -0.3571 - val_loss: 32203562.0000 - val_mae: 4316.1333 - val_r2: -0.3329\n",
      "Epoch 52/500\n",
      "1649/1649 [==============================] - 3s 2ms/step - loss: 32114690.0000 - mae: 4363.8599 - r2: -0.3268 - val_loss: 31745844.0000 - val_mae: 4296.5957 - val_r2: -0.3142\n",
      "Epoch 53/500\n",
      "1649/1649 [==============================] - 3s 2ms/step - loss: 31385340.0000 - mae: 4317.2642 - r2: -0.2968 - val_loss: 31074044.0000 - val_mae: 4249.8511 - val_r2: -0.2865\n",
      "Epoch 54/500\n",
      "1649/1649 [==============================] - 4s 2ms/step - loss: 30636352.0000 - mae: 4269.6909 - r2: -0.2648 - val_loss: 30299510.0000 - val_mae: 4193.1006 - val_r2: -0.2544\n",
      "Epoch 55/500\n",
      "1649/1649 [==============================] - 4s 2ms/step - loss: 29897608.0000 - mae: 4221.3135 - r2: -0.2344 - val_loss: 29670812.0000 - val_mae: 4151.9707 - val_r2: -0.2283\n",
      "Epoch 56/500\n",
      "1649/1649 [==============================] - 4s 2ms/step - loss: 29156042.0000 - mae: 4172.1255 - r2: -0.2034 - val_loss: 28856418.0000 - val_mae: 4137.8945 - val_r2: -0.1950\n",
      "Epoch 57/500\n",
      "1649/1649 [==============================] - 4s 2ms/step - loss: 28415358.0000 - mae: 4122.1226 - r2: -0.1727 - val_loss: 28537978.0000 - val_mae: 4067.9170 - val_r2: -0.1815\n",
      "Epoch 58/500\n",
      "1649/1649 [==============================] - 4s 2ms/step - loss: 27668190.0000 - mae: 4071.3384 - r2: -0.1419 - val_loss: 27221432.0000 - val_mae: 4026.7634 - val_r2: -0.1274\n",
      "Epoch 59/500\n",
      "1649/1649 [==============================] - 4s 2ms/step - loss: 26933868.0000 - mae: 4019.8652 - r2: -0.1109 - val_loss: 26605366.0000 - val_mae: 3950.0588 - val_r2: -0.1016\n",
      "Epoch 60/500\n",
      "1649/1649 [==============================] - 4s 2ms/step - loss: 26186236.0000 - mae: 3967.5803 - r2: -0.0801 - val_loss: 26094002.0000 - val_mae: 3890.9639 - val_r2: -0.0804\n",
      "Epoch 61/500\n",
      "1649/1649 [==============================] - 4s 2ms/step - loss: 25442514.0000 - mae: 3914.0779 - r2: -0.0488 - val_loss: 25048106.0000 - val_mae: 3845.5317 - val_r2: -0.0373\n",
      "Epoch 62/500\n",
      "1649/1649 [==============================] - 4s 2ms/step - loss: 24703826.0000 - mae: 3860.6570 - r2: -0.0177 - val_loss: 24365344.0000 - val_mae: 3802.2683 - val_r2: -0.0091\n",
      "Epoch 63/500\n",
      "1649/1649 [==============================] - 4s 2ms/step - loss: 23962328.0000 - mae: 3805.8965 - r2: 0.0128 - val_loss: 23970772.0000 - val_mae: 3762.4990 - val_r2: 0.0073\n",
      "Epoch 64/500\n",
      "1649/1649 [==============================] - 4s 2ms/step - loss: 23223834.0000 - mae: 3750.6250 - r2: 0.0432 - val_loss: 22701752.0000 - val_mae: 3650.5957 - val_r2: 0.0599\n",
      "Epoch 65/500\n",
      "1649/1649 [==============================] - 4s 2ms/step - loss: 22498912.0000 - mae: 3694.4844 - r2: 0.0738 - val_loss: 22166564.0000 - val_mae: 3632.9963 - val_r2: 0.0819\n",
      "Epoch 66/500\n",
      "1649/1649 [==============================] - 4s 2ms/step - loss: 21761062.0000 - mae: 3637.7222 - r2: 0.1045 - val_loss: 21730890.0000 - val_mae: 3544.7402 - val_r2: 0.1000\n",
      "Epoch 67/500\n",
      "1649/1649 [==============================] - 4s 2ms/step - loss: 21035432.0000 - mae: 3580.1392 - r2: 0.1342 - val_loss: 20794544.0000 - val_mae: 3474.4915 - val_r2: 0.1388\n",
      "Epoch 68/500\n",
      "1649/1649 [==============================] - 4s 2ms/step - loss: 20328378.0000 - mae: 3521.8186 - r2: 0.1639 - val_loss: 20126222.0000 - val_mae: 3430.3755 - val_r2: 0.1664\n",
      "Epoch 69/500\n",
      "1649/1649 [==============================] - 4s 2ms/step - loss: 19608930.0000 - mae: 3462.8201 - r2: 0.1938 - val_loss: 19431276.0000 - val_mae: 3405.5757 - val_r2: 0.1948\n",
      "Epoch 70/500\n",
      "1649/1649 [==============================] - 4s 2ms/step - loss: 18900246.0000 - mae: 3403.2080 - r2: 0.2229 - val_loss: 18932502.0000 - val_mae: 3368.7903 - val_r2: 0.2155\n",
      "Epoch 71/500\n",
      "1649/1649 [==============================] - 4s 2ms/step - loss: 18204044.0000 - mae: 3342.7998 - r2: 0.2521 - val_loss: 18148078.0000 - val_mae: 3284.2971 - val_r2: 0.2479\n",
      "Epoch 72/500\n",
      "1649/1649 [==============================] - 4s 2ms/step - loss: 17504610.0000 - mae: 3282.0774 - r2: 0.2815 - val_loss: 17256700.0000 - val_mae: 3175.5632 - val_r2: 0.2849\n",
      "Epoch 73/500\n",
      "1649/1649 [==============================] - 4s 2ms/step - loss: 16817566.0000 - mae: 3220.8147 - r2: 0.3097 - val_loss: 16756557.0000 - val_mae: 3139.6821 - val_r2: 0.3057\n",
      "Epoch 74/500\n",
      "1649/1649 [==============================] - 4s 2ms/step - loss: 16131674.0000 - mae: 3158.0137 - r2: 0.3381 - val_loss: 15697519.0000 - val_mae: 3009.3772 - val_r2: 0.3496\n",
      "Epoch 75/500\n",
      "1649/1649 [==============================] - 4s 2ms/step - loss: 15460828.0000 - mae: 3095.5269 - r2: 0.3654 - val_loss: 15263471.0000 - val_mae: 3026.7573 - val_r2: 0.3672\n",
      "Epoch 76/500\n",
      "1649/1649 [==============================] - 4s 2ms/step - loss: 14831612.0000 - mae: 3033.1106 - r2: 0.3922 - val_loss: 14950880.0000 - val_mae: 3001.0671 - val_r2: 0.3801\n",
      "Epoch 77/500\n",
      "1649/1649 [==============================] - 4s 2ms/step - loss: 14156622.0000 - mae: 2968.0891 - r2: 0.4197 - val_loss: 13778025.0000 - val_mae: 2850.3601 - val_r2: 0.4287\n",
      "Epoch 78/500\n",
      "1649/1649 [==============================] - 4s 2ms/step - loss: 13548189.0000 - mae: 2904.7966 - r2: 0.4454 - val_loss: 13723258.0000 - val_mae: 2848.3032 - val_r2: 0.4310\n",
      "Epoch 79/500\n",
      "1649/1649 [==============================] - 4s 2ms/step - loss: 12913781.0000 - mae: 2839.9089 - r2: 0.4713 - val_loss: 12762791.0000 - val_mae: 2742.1094 - val_r2: 0.4707\n",
      "Epoch 80/500\n",
      "1649/1649 [==============================] - 4s 2ms/step - loss: 12318389.0000 - mae: 2775.7249 - r2: 0.4962 - val_loss: 12320652.0000 - val_mae: 2684.3064 - val_r2: 0.4891\n",
      "Epoch 81/500\n",
      "1649/1649 [==============================] - 4s 2ms/step - loss: 11705101.0000 - mae: 2709.5781 - r2: 0.5210 - val_loss: 11569702.0000 - val_mae: 2625.1655 - val_r2: 0.5199\n",
      "Epoch 82/500\n",
      "1649/1649 [==============================] - 4s 2ms/step - loss: 11138980.0000 - mae: 2644.7358 - r2: 0.5450 - val_loss: 11110327.0000 - val_mae: 2522.8127 - val_r2: 0.5391\n",
      "Epoch 83/500\n",
      "1649/1649 [==============================] - 4s 2ms/step - loss: 10579543.0000 - mae: 2579.4529 - r2: 0.5678 - val_loss: 10498713.0000 - val_mae: 2559.4226 - val_r2: 0.5637\n",
      "Epoch 84/500\n",
      "1649/1649 [==============================] - 4s 2ms/step - loss: 10036018.0000 - mae: 2513.4949 - r2: 0.5904 - val_loss: 10336015.0000 - val_mae: 2469.2229 - val_r2: 0.5709\n",
      "Epoch 85/500\n",
      "1649/1649 [==============================] - 4s 2ms/step - loss: 9498981.0000 - mae: 2447.3181 - r2: 0.6122 - val_loss: 9577239.0000 - val_mae: 2352.1665 - val_r2: 0.6024\n",
      "Epoch 86/500\n",
      "1649/1649 [==============================] - 4s 2ms/step - loss: 8974368.0000 - mae: 2380.3806 - r2: 0.6336 - val_loss: 8879139.0000 - val_mae: 2342.1570 - val_r2: 0.6309\n",
      "Epoch 87/500\n",
      "1649/1649 [==============================] - 4s 2ms/step - loss: 8506776.0000 - mae: 2316.3418 - r2: 0.6534 - val_loss: 8480673.0000 - val_mae: 2211.1545 - val_r2: 0.6478\n",
      "Epoch 88/500\n",
      "1649/1649 [==============================] - 3s 2ms/step - loss: 8005368.0000 - mae: 2250.4082 - r2: 0.6739 - val_loss: 8122997.0000 - val_mae: 2209.7817 - val_r2: 0.6623\n",
      "Epoch 89/500\n",
      "1649/1649 [==============================] - 4s 2ms/step - loss: 7549595.0000 - mae: 2184.8982 - r2: 0.6922 - val_loss: 7682238.0000 - val_mae: 2176.0537 - val_r2: 0.6804\n",
      "Epoch 90/500\n",
      "1649/1649 [==============================] - 4s 2ms/step - loss: 7108225.0000 - mae: 2120.1938 - r2: 0.7104 - val_loss: 7043167.0000 - val_mae: 2012.4285 - val_r2: 0.7070\n",
      "Epoch 91/500\n",
      "1649/1649 [==============================] - 4s 2ms/step - loss: 6683348.0000 - mae: 2054.6404 - r2: 0.7279 - val_loss: 6888571.5000 - val_mae: 2022.0242 - val_r2: 0.7133\n",
      "Epoch 92/500\n",
      "1649/1649 [==============================] - 4s 2ms/step - loss: 6330604.5000 - mae: 1995.7473 - r2: 0.7422 - val_loss: 6464928.5000 - val_mae: 1921.1760 - val_r2: 0.7310\n",
      "Epoch 93/500\n",
      "1649/1649 [==============================] - 4s 2ms/step - loss: 5936937.0000 - mae: 1930.9755 - r2: 0.7581 - val_loss: 6085126.0000 - val_mae: 1870.6779 - val_r2: 0.7466\n",
      "Epoch 94/500\n",
      "1649/1649 [==============================] - 4s 2ms/step - loss: 5584618.0000 - mae: 1871.1309 - r2: 0.7726 - val_loss: 5650107.5000 - val_mae: 1786.7183 - val_r2: 0.7647\n",
      "Epoch 95/500\n",
      "1649/1649 [==============================] - 4s 2ms/step - loss: 5249099.0000 - mae: 1809.9906 - r2: 0.7862 - val_loss: 5120326.0000 - val_mae: 1678.5299 - val_r2: 0.7866\n",
      "Epoch 96/500\n",
      "1649/1649 [==============================] - 4s 2ms/step - loss: 4953002.0000 - mae: 1752.2020 - r2: 0.7980 - val_loss: 5050646.0000 - val_mae: 1683.7430 - val_r2: 0.7893\n",
      "Epoch 97/500\n",
      "1649/1649 [==============================] - 4s 2ms/step - loss: 4649655.0000 - mae: 1692.8604 - r2: 0.8102 - val_loss: 4608327.0000 - val_mae: 1604.1124 - val_r2: 0.8077\n",
      "Epoch 98/500\n",
      "1649/1649 [==============================] - 4s 2ms/step - loss: 4420021.5000 - mae: 1642.5548 - r2: 0.8196 - val_loss: 4387599.5000 - val_mae: 1551.2137 - val_r2: 0.8169\n",
      "Epoch 99/500\n",
      "1649/1649 [==============================] - 4s 2ms/step - loss: 4158695.0000 - mae: 1584.3473 - r2: 0.8298 - val_loss: 4215027.0000 - val_mae: 1526.0082 - val_r2: 0.8239\n",
      "Epoch 100/500\n",
      "1649/1649 [==============================] - 4s 2ms/step - loss: 3959600.2500 - mae: 1535.1597 - r2: 0.8379 - val_loss: 4022518.2500 - val_mae: 1464.5421 - val_r2: 0.8320\n",
      "Epoch 101/500\n",
      "1649/1649 [==============================] - 4s 2ms/step - loss: 3773482.0000 - mae: 1489.5430 - r2: 0.8454 - val_loss: 3862314.7500 - val_mae: 1439.3673 - val_r2: 0.8385\n",
      "Epoch 102/500\n",
      "1649/1649 [==============================] - 4s 2ms/step - loss: 3591105.7500 - mae: 1440.5281 - r2: 0.8527 - val_loss: 3490106.0000 - val_mae: 1336.1825 - val_r2: 0.8539\n",
      "Epoch 103/500\n",
      "1649/1649 [==============================] - 4s 2ms/step - loss: 3425611.5000 - mae: 1393.9843 - r2: 0.8591 - val_loss: 3435049.0000 - val_mae: 1314.3519 - val_r2: 0.8563\n",
      "Epoch 104/500\n",
      "1649/1649 [==============================] - 4s 2ms/step - loss: 3283593.2500 - mae: 1354.0447 - r2: 0.8647 - val_loss: 3318979.5000 - val_mae: 1278.8127 - val_r2: 0.8610\n",
      "Epoch 105/500\n",
      "1649/1649 [==============================] - 4s 2ms/step - loss: 3136788.5000 - mae: 1308.3257 - r2: 0.8704 - val_loss: 3296160.5000 - val_mae: 1250.3290 - val_r2: 0.8620\n",
      "Epoch 106/500\n",
      "1649/1649 [==============================] - 4s 2ms/step - loss: 3052526.5000 - mae: 1278.6903 - r2: 0.8735 - val_loss: 3186626.2500 - val_mae: 1216.0886 - val_r2: 0.8666\n",
      "Epoch 107/500\n",
      "1649/1649 [==============================] - 4s 2ms/step - loss: 2968263.2500 - mae: 1248.9734 - r2: 0.8771 - val_loss: 3120462.5000 - val_mae: 1184.7006 - val_r2: 0.8694\n",
      "Epoch 108/500\n",
      "1649/1649 [==============================] - 4s 2ms/step - loss: 2850037.5000 - mae: 1210.9368 - r2: 0.8815 - val_loss: 3020180.2500 - val_mae: 1153.7416 - val_r2: 0.8735\n",
      "Epoch 109/500\n",
      "1649/1649 [==============================] - 5s 3ms/step - loss: 2761018.0000 - mae: 1178.4769 - r2: 0.8853 - val_loss: 2891817.5000 - val_mae: 1128.9650 - val_r2: 0.8787\n",
      "Epoch 110/500\n",
      "1649/1649 [==============================] - 5s 3ms/step - loss: 2721751.2500 - mae: 1158.4851 - r2: 0.8867 - val_loss: 2884640.7500 - val_mae: 1123.3596 - val_r2: 0.8790\n",
      "Epoch 111/500\n",
      "1649/1649 [==============================] - 4s 3ms/step - loss: 2635521.2500 - mae: 1127.2668 - r2: 0.8904 - val_loss: 2866306.7500 - val_mae: 1114.0768 - val_r2: 0.8799\n",
      "Epoch 112/500\n",
      "1649/1649 [==============================] - 5s 3ms/step - loss: 2568836.7500 - mae: 1103.0735 - r2: 0.8930 - val_loss: 2851133.5000 - val_mae: 1109.1898 - val_r2: 0.8806\n",
      "Epoch 113/500\n",
      "1649/1649 [==============================] - 4s 2ms/step - loss: 2525396.2500 - mae: 1087.5637 - r2: 0.8945 - val_loss: 2845544.0000 - val_mae: 1100.1179 - val_r2: 0.8807\n",
      "Epoch 114/500\n",
      "1649/1649 [==============================] - 4s 2ms/step - loss: 2461569.2500 - mae: 1071.3339 - r2: 0.8973 - val_loss: 2749897.5000 - val_mae: 1084.3357 - val_r2: 0.8847\n",
      "Epoch 115/500\n",
      "1649/1649 [==============================] - 4s 2ms/step - loss: 2456210.0000 - mae: 1065.5992 - r2: 0.8972 - val_loss: 2897440.0000 - val_mae: 1127.7290 - val_r2: 0.8786\n",
      "Epoch 116/500\n",
      "1649/1649 [==============================] - 4s 2ms/step - loss: 2432439.2500 - mae: 1060.2999 - r2: 0.8980 - val_loss: 2792682.7500 - val_mae: 1095.7318 - val_r2: 0.8830\n",
      "Epoch 117/500\n",
      "1649/1649 [==============================] - 4s 2ms/step - loss: 2396576.2500 - mae: 1048.2422 - r2: 0.8993 - val_loss: 2769452.0000 - val_mae: 1084.5260 - val_r2: 0.8839\n",
      "Epoch 118/500\n",
      "1649/1649 [==============================] - 4s 2ms/step - loss: 2395722.2500 - mae: 1049.0881 - r2: 0.8995 - val_loss: 2692051.5000 - val_mae: 1040.5123 - val_r2: 0.8871\n",
      "Epoch 119/500\n",
      "1649/1649 [==============================] - 4s 2ms/step - loss: 2374080.5000 - mae: 1044.3781 - r2: 0.9001 - val_loss: 2918907.2500 - val_mae: 1174.4410 - val_r2: 0.8776\n",
      "Epoch 120/500\n",
      "1649/1649 [==============================] - 4s 2ms/step - loss: 2358077.7500 - mae: 1036.8706 - r2: 0.9008 - val_loss: 2786907.7500 - val_mae: 1110.9344 - val_r2: 0.8831\n",
      "Epoch 121/500\n",
      "1649/1649 [==============================] - 4s 2ms/step - loss: 2356794.0000 - mae: 1041.1288 - r2: 0.9010 - val_loss: 2750484.7500 - val_mae: 1090.3287 - val_r2: 0.8845\n",
      "Epoch 122/500\n",
      "1649/1649 [==============================] - 4s 2ms/step - loss: 2353847.5000 - mae: 1039.8610 - r2: 0.9010 - val_loss: 2690978.0000 - val_mae: 1065.3380 - val_r2: 0.8870\n",
      "Epoch 123/500\n",
      "1649/1649 [==============================] - 4s 2ms/step - loss: 2344740.0000 - mae: 1038.0116 - r2: 0.9013 - val_loss: 2689734.5000 - val_mae: 1071.2437 - val_r2: 0.8871\n",
      "Epoch 124/500\n",
      "1649/1649 [==============================] - 4s 2ms/step - loss: 2369417.0000 - mae: 1044.0011 - r2: 0.8999 - val_loss: 2756986.7500 - val_mae: 1085.1981 - val_r2: 0.8843\n",
      "Epoch 125/500\n",
      "1649/1649 [==============================] - 4s 2ms/step - loss: 2348697.2500 - mae: 1039.4454 - r2: 0.9009 - val_loss: 2724000.7500 - val_mae: 1079.2676 - val_r2: 0.8858\n",
      "Epoch 126/500\n",
      "1649/1649 [==============================] - 4s 2ms/step - loss: 2330096.5000 - mae: 1034.4492 - r2: 0.9018 - val_loss: 2763863.5000 - val_mae: 1105.2148 - val_r2: 0.8841\n",
      "Epoch 127/500\n",
      "1649/1649 [==============================] - 4s 2ms/step - loss: 2321150.0000 - mae: 1032.2994 - r2: 0.9023 - val_loss: 2692626.0000 - val_mae: 1068.8834 - val_r2: 0.8870\n",
      "Epoch 128/500\n",
      "1649/1649 [==============================] - 4s 2ms/step - loss: 2344689.2500 - mae: 1039.8533 - r2: 0.9011 - val_loss: 2806257.7500 - val_mae: 1111.9304 - val_r2: 0.8824\n",
      "Epoch 129/500\n",
      "1649/1649 [==============================] - 4s 2ms/step - loss: 2340226.2500 - mae: 1039.6251 - r2: 0.9011 - val_loss: 2882972.2500 - val_mae: 1165.3287 - val_r2: 0.8791\n",
      "Epoch 130/500\n",
      "1649/1649 [==============================] - 4s 2ms/step - loss: 2330518.2500 - mae: 1034.1348 - r2: 0.9016 - val_loss: 2713486.0000 - val_mae: 1052.9470 - val_r2: 0.8862\n",
      "Epoch 131/500\n",
      "1649/1649 [==============================] - 4s 2ms/step - loss: 2333906.7500 - mae: 1035.1068 - r2: 0.9015 - val_loss: 2632428.0000 - val_mae: 1037.9049 - val_r2: 0.8894\n",
      "Epoch 132/500\n",
      "1649/1649 [==============================] - 4s 2ms/step - loss: 2342559.2500 - mae: 1041.1630 - r2: 0.9011 - val_loss: 2701943.7500 - val_mae: 1067.3251 - val_r2: 0.8867\n",
      "Epoch 133/500\n",
      "1649/1649 [==============================] - 4s 2ms/step - loss: 2334201.7500 - mae: 1037.2184 - r2: 0.9013 - val_loss: 2736152.0000 - val_mae: 1084.1740 - val_r2: 0.8852\n",
      "Epoch 134/500\n",
      "1649/1649 [==============================] - 4s 2ms/step - loss: 2336838.0000 - mae: 1037.5477 - r2: 0.9013 - val_loss: 2655739.7500 - val_mae: 1032.3116 - val_r2: 0.8885\n",
      "Epoch 135/500\n",
      "1649/1649 [==============================] - 4s 2ms/step - loss: 2310411.2500 - mae: 1030.8260 - r2: 0.9024 - val_loss: 2725475.0000 - val_mae: 1091.7748 - val_r2: 0.8857\n",
      "Epoch 136/500\n",
      "1649/1649 [==============================] - 4s 2ms/step - loss: 2328711.2500 - mae: 1035.6599 - r2: 0.9018 - val_loss: 2788000.2500 - val_mae: 1115.2877 - val_r2: 0.8830\n",
      "Epoch 137/500\n",
      "1649/1649 [==============================] - 4s 2ms/step - loss: 2332122.0000 - mae: 1036.6373 - r2: 0.9011 - val_loss: 2635756.0000 - val_mae: 1039.2285 - val_r2: 0.8892\n",
      "Epoch 138/500\n",
      "1649/1649 [==============================] - 4s 2ms/step - loss: 2323565.0000 - mae: 1034.3787 - r2: 0.9019 - val_loss: 2857617.0000 - val_mae: 1157.5125 - val_r2: 0.8801\n",
      "Epoch 139/500\n",
      "1649/1649 [==============================] - 4s 2ms/step - loss: 2316095.2500 - mae: 1032.1047 - r2: 0.9024 - val_loss: 2828328.2500 - val_mae: 1133.6991 - val_r2: 0.8813\n",
      "Epoch 140/500\n",
      "1649/1649 [==============================] - 4s 2ms/step - loss: 2316120.5000 - mae: 1031.6527 - r2: 0.9021 - val_loss: 2729601.5000 - val_mae: 1085.1221 - val_r2: 0.8853\n",
      "Epoch 141/500\n",
      "1649/1649 [==============================] - 4s 2ms/step - loss: 2301692.0000 - mae: 1026.9883 - r2: 0.9030 - val_loss: 2789387.7500 - val_mae: 1122.0936 - val_r2: 0.8829\n",
      "Epoch 142/500\n",
      "1649/1649 [==============================] - 4s 2ms/step - loss: 2309845.7500 - mae: 1031.0587 - r2: 0.9025 - val_loss: 2781769.0000 - val_mae: 1117.3907 - val_r2: 0.8833\n",
      "Epoch 143/500\n",
      "1649/1649 [==============================] - 4s 2ms/step - loss: 2298962.5000 - mae: 1029.5490 - r2: 0.9029 - val_loss: 2756617.0000 - val_mae: 1103.9657 - val_r2: 0.8842\n",
      "Epoch 144/500\n",
      "1649/1649 [==============================] - 4s 2ms/step - loss: 2297400.7500 - mae: 1028.3894 - r2: 0.9031 - val_loss: 2870314.0000 - val_mae: 1153.5082 - val_r2: 0.8796\n",
      "Epoch 145/500\n",
      "1649/1649 [==============================] - 4s 2ms/step - loss: 2305429.2500 - mae: 1031.3677 - r2: 0.9030 - val_loss: 2651266.2500 - val_mae: 1038.4508 - val_r2: 0.8886\n",
      "Epoch 146/500\n",
      "1649/1649 [==============================] - 4s 2ms/step - loss: 2285916.5000 - mae: 1024.2888 - r2: 0.9037 - val_loss: 2783642.7500 - val_mae: 1113.7164 - val_r2: 0.8831\n",
      "Epoch 147/500\n",
      "1649/1649 [==============================] - 4s 2ms/step - loss: 2307854.0000 - mae: 1032.7383 - r2: 0.9028 - val_loss: 2711357.2500 - val_mae: 1081.5378 - val_r2: 0.8862\n",
      "Epoch 148/500\n",
      "1649/1649 [==============================] - 4s 2ms/step - loss: 2302520.5000 - mae: 1030.6191 - r2: 0.9028 - val_loss: 2756502.2500 - val_mae: 1100.2146 - val_r2: 0.8843\n",
      "Epoch 149/500\n",
      "1649/1649 [==============================] - 4s 2ms/step - loss: 2304118.0000 - mae: 1031.6780 - r2: 0.9026 - val_loss: 2766127.5000 - val_mae: 1096.4269 - val_r2: 0.8839\n",
      "Epoch 150/500\n",
      "1649/1649 [==============================] - 4s 2ms/step - loss: 2297683.7500 - mae: 1029.5531 - r2: 0.9029 - val_loss: 2790276.0000 - val_mae: 1122.4064 - val_r2: 0.8829\n",
      "Epoch 151/500\n",
      "1649/1649 [==============================] - 4s 2ms/step - loss: 2305748.5000 - mae: 1033.8385 - r2: 0.9026 - val_loss: 2915945.5000 - val_mae: 1170.0717 - val_r2: 0.8777\n",
      "Epoch 152/500\n",
      "1649/1649 [==============================] - 4s 2ms/step - loss: 2303347.2500 - mae: 1031.1207 - r2: 0.9027 - val_loss: 2640990.2500 - val_mae: 1058.6803 - val_r2: 0.8891\n",
      "Epoch 153/500\n",
      "1649/1649 [==============================] - 4s 2ms/step - loss: 2285052.2500 - mae: 1026.1362 - r2: 0.9034 - val_loss: 2888845.2500 - val_mae: 1157.2185 - val_r2: 0.8789\n",
      "Epoch 154/500\n",
      "1649/1649 [==============================] - 4s 2ms/step - loss: 2299809.7500 - mae: 1032.0934 - r2: 0.9028 - val_loss: 2882171.7500 - val_mae: 1151.0569 - val_r2: 0.8791\n",
      "Epoch 155/500\n",
      "1649/1649 [==============================] - 4s 2ms/step - loss: 2305477.5000 - mae: 1032.9640 - r2: 0.9025 - val_loss: 2856278.5000 - val_mae: 1145.5874 - val_r2: 0.8800\n",
      "Epoch 156/500\n",
      "1649/1649 [==============================] - 4s 2ms/step - loss: 2309915.0000 - mae: 1034.0208 - r2: 0.9021 - val_loss: 2795552.7500 - val_mae: 1110.2753 - val_r2: 0.8826\n",
      "Epoch 157/500\n",
      "1649/1649 [==============================] - 4s 2ms/step - loss: 2299680.0000 - mae: 1031.4353 - r2: 0.9031 - val_loss: 2858573.2500 - val_mae: 1133.8232 - val_r2: 0.8802\n",
      "Epoch 158/500\n",
      "1649/1649 [==============================] - 4s 2ms/step - loss: 2288570.2500 - mae: 1028.0693 - r2: 0.9033 - val_loss: 2805901.7500 - val_mae: 1050.9139 - val_r2: 0.8821\n",
      "Epoch 159/500\n",
      "1649/1649 [==============================] - 4s 2ms/step - loss: 2282851.2500 - mae: 1027.1080 - r2: 0.9035 - val_loss: 2860434.7500 - val_mae: 1136.6309 - val_r2: 0.8798\n",
      "Epoch 160/500\n",
      "1649/1649 [==============================] - 4s 2ms/step - loss: 2273659.7500 - mae: 1024.3030 - r2: 0.9041 - val_loss: 2774964.5000 - val_mae: 1103.7307 - val_r2: 0.8834\n",
      "Epoch 161/500\n",
      "1649/1649 [==============================] - 4s 2ms/step - loss: 2289209.0000 - mae: 1028.7422 - r2: 0.9037 - val_loss: 2874538.7500 - val_mae: 1153.6669 - val_r2: 0.8794\n",
      "Epoch 162/500\n",
      "1649/1649 [==============================] - 4s 2ms/step - loss: 2267967.7500 - mae: 1022.9129 - r2: 0.9044 - val_loss: 2954653.0000 - val_mae: 1028.0576 - val_r2: 0.8758\n",
      "Epoch 163/500\n",
      "1649/1649 [==============================] - 4s 2ms/step - loss: 2287714.7500 - mae: 1028.5208 - r2: 0.9030 - val_loss: 2816761.2500 - val_mae: 1115.2806 - val_r2: 0.8818\n",
      "Epoch 164/500\n",
      "1649/1649 [==============================] - 4s 3ms/step - loss: 2285325.0000 - mae: 1028.3894 - r2: 0.9037 - val_loss: 2848731.2500 - val_mae: 1146.0184 - val_r2: 0.8805\n",
      "Epoch 165/500\n",
      "1649/1649 [==============================] - 5s 3ms/step - loss: 2296729.7500 - mae: 1031.0261 - r2: 0.9030 - val_loss: 2636239.5000 - val_mae: 1034.2728 - val_r2: 0.8893\n",
      "Epoch 166/500\n",
      "1649/1649 [==============================] - 4s 2ms/step - loss: 2288424.2500 - mae: 1028.3539 - r2: 0.9032 - val_loss: 2750350.7500 - val_mae: 1035.4089 - val_r2: 0.8845\n",
      "Epoch 167/500\n",
      "1649/1649 [==============================] - 4s 2ms/step - loss: 2254716.5000 - mae: 1017.0837 - r2: 0.9049 - val_loss: 2753218.0000 - val_mae: 1092.6222 - val_r2: 0.8844\n",
      "Epoch 168/500\n",
      "1649/1649 [==============================] - 4s 2ms/step - loss: 2281108.2500 - mae: 1026.1870 - r2: 0.9038 - val_loss: 2878554.5000 - val_mae: 1120.3527 - val_r2: 0.8792\n",
      "Epoch 169/500\n",
      "1649/1649 [==============================] - 4s 2ms/step - loss: 2271090.5000 - mae: 1022.9500 - r2: 0.9041 - val_loss: 2960281.2500 - val_mae: 1189.6917 - val_r2: 0.8758\n",
      "Epoch 170/500\n",
      "1649/1649 [==============================] - 4s 2ms/step - loss: 2279382.2500 - mae: 1027.1880 - r2: 0.9037 - val_loss: 2680231.7500 - val_mae: 1060.4712 - val_r2: 0.8874\n",
      "Epoch 171/500\n",
      "1649/1649 [==============================] - 4s 3ms/step - loss: 2273762.7500 - mae: 1023.6003 - r2: 0.9040 - val_loss: 2887160.2500 - val_mae: 1156.0688 - val_r2: 0.8789\n",
      "Epoch 172/500\n",
      "1649/1649 [==============================] - 4s 2ms/step - loss: 2274299.0000 - mae: 1025.2146 - r2: 0.9036 - val_loss: 2776445.2500 - val_mae: 1098.9209 - val_r2: 0.8835\n",
      "Epoch 173/500\n",
      "1649/1649 [==============================] - 4s 3ms/step - loss: 2280438.7500 - mae: 1025.6062 - r2: 0.9035 - val_loss: 2797708.7500 - val_mae: 1122.6152 - val_r2: 0.8824\n",
      "Epoch 174/500\n",
      "1649/1649 [==============================] - 4s 2ms/step - loss: 2262637.2500 - mae: 1021.4948 - r2: 0.9046 - val_loss: 2825496.2500 - val_mae: 1131.4882 - val_r2: 0.8813\n",
      "Epoch 175/500\n",
      "1649/1649 [==============================] - 4s 2ms/step - loss: 2272340.7500 - mae: 1021.1135 - r2: 0.9038 - val_loss: 2858920.7500 - val_mae: 1146.1083 - val_r2: 0.8798\n",
      "Epoch 176/500\n",
      "1649/1649 [==============================] - 4s 2ms/step - loss: 2279088.2500 - mae: 1027.8196 - r2: 0.9039 - val_loss: 2858741.7500 - val_mae: 1146.2622 - val_r2: 0.8801\n",
      "Epoch 177/500\n",
      "1649/1649 [==============================] - 4s 2ms/step - loss: 2259187.5000 - mae: 1019.8578 - r2: 0.9047 - val_loss: 2698884.2500 - val_mae: 1077.2751 - val_r2: 0.8866\n",
      "Epoch 178/500\n",
      "1649/1649 [==============================] - 4s 2ms/step - loss: 2261484.7500 - mae: 1023.4644 - r2: 0.9047 - val_loss: 2788632.2500 - val_mae: 1060.6422 - val_r2: 0.8828\n",
      "Epoch 179/500\n",
      "1649/1649 [==============================] - 4s 2ms/step - loss: 2256337.7500 - mae: 1020.5889 - r2: 0.9047 - val_loss: 2686765.5000 - val_mae: 1074.4373 - val_r2: 0.8871\n",
      "Epoch 180/500\n",
      "1649/1649 [==============================] - 4s 2ms/step - loss: 2259241.0000 - mae: 1019.3148 - r2: 0.9046 - val_loss: 2738314.7500 - val_mae: 1099.6443 - val_r2: 0.8850\n",
      "Epoch 181/500\n",
      "1649/1649 [==============================] - 4s 2ms/step - loss: 2255795.2500 - mae: 1019.7187 - r2: 0.9049 - val_loss: 2700352.5000 - val_mae: 1075.0770 - val_r2: 0.8866\n",
      "Epoch 182/500\n",
      "1649/1649 [==============================] - 4s 2ms/step - loss: 2272853.0000 - mae: 1024.2914 - r2: 0.9038 - val_loss: 2813246.0000 - val_mae: 1129.9341 - val_r2: 0.8818\n",
      "Epoch 183/500\n",
      "1649/1649 [==============================] - 4s 2ms/step - loss: 2274741.0000 - mae: 1028.1237 - r2: 0.9038 - val_loss: 2797505.0000 - val_mae: 1112.5460 - val_r2: 0.8826\n",
      "Epoch 184/500\n",
      "1649/1649 [==============================] - 4s 2ms/step - loss: 2275753.2500 - mae: 1027.5883 - r2: 0.9039 - val_loss: 2796555.7500 - val_mae: 1124.0105 - val_r2: 0.8826\n",
      "Epoch 185/500\n",
      "1649/1649 [==============================] - 4s 2ms/step - loss: 2262095.0000 - mae: 1023.2526 - r2: 0.9045 - val_loss: 2751935.7500 - val_mae: 1088.0751 - val_r2: 0.8844\n",
      "Epoch 186/500\n",
      "1649/1649 [==============================] - 4s 3ms/step - loss: 2254036.7500 - mae: 1020.5993 - r2: 0.9047 - val_loss: 3241597.2500 - val_mae: 1038.4049 - val_r2: 0.8636\n",
      "Epoch 187/500\n",
      "1649/1649 [==============================] - 4s 2ms/step - loss: 2273022.7500 - mae: 1026.6777 - r2: 0.9038 - val_loss: 2782959.0000 - val_mae: 1110.3083 - val_r2: 0.8832\n",
      "Epoch 188/500\n",
      "1649/1649 [==============================] - 4s 3ms/step - loss: 2246369.2500 - mae: 1018.1124 - r2: 0.9051 - val_loss: 2749242.7500 - val_mae: 1095.8685 - val_r2: 0.8844\n",
      "Epoch 189/500\n",
      "1649/1649 [==============================] - 4s 2ms/step - loss: 2263457.0000 - mae: 1022.8480 - r2: 0.9044 - val_loss: 3130386.5000 - val_mae: 1042.3125 - val_r2: 0.8683\n",
      "Epoch 190/500\n",
      "1649/1649 [==============================] - 4s 2ms/step - loss: 2243257.2500 - mae: 1018.7794 - r2: 0.9052 - val_loss: 2950631.2500 - val_mae: 1070.2034 - val_r2: 0.8760\n",
      "Epoch 191/500\n",
      "1649/1649 [==============================] - 4s 2ms/step - loss: 2269644.0000 - mae: 1027.4630 - r2: 0.9041 - val_loss: 2709899.0000 - val_mae: 1083.0663 - val_r2: 0.8862\n",
      "Epoch 192/500\n",
      "1649/1649 [==============================] - 4s 2ms/step - loss: 2258010.5000 - mae: 1021.3363 - r2: 0.9044 - val_loss: 2718299.0000 - val_mae: 1093.6866 - val_r2: 0.8859\n",
      "Epoch 193/500\n",
      "1649/1649 [==============================] - 4s 2ms/step - loss: 2275258.2500 - mae: 1026.6562 - r2: 0.9039 - val_loss: 2817075.2500 - val_mae: 1131.9170 - val_r2: 0.8817\n",
      "Epoch 194/500\n",
      "1649/1649 [==============================] - 4s 2ms/step - loss: 2233870.5000 - mae: 1014.0613 - r2: 0.9059 - val_loss: 2811648.5000 - val_mae: 1123.8374 - val_r2: 0.8819\n",
      "Epoch 195/500\n",
      "1649/1649 [==============================] - 4s 2ms/step - loss: 2254615.5000 - mae: 1022.3401 - r2: 0.9049 - val_loss: 2735110.7500 - val_mae: 1046.3539 - val_r2: 0.8851\n",
      "Epoch 196/500\n",
      "1649/1649 [==============================] - 4s 3ms/step - loss: 2248218.7500 - mae: 1019.6531 - r2: 0.9052 - val_loss: 2869934.5000 - val_mae: 1127.3713 - val_r2: 0.8796\n",
      "Epoch 197/500\n",
      "1649/1649 [==============================] - 4s 2ms/step - loss: 2257156.2500 - mae: 1021.8704 - r2: 0.9046 - val_loss: 3363901.7500 - val_mae: 1062.8180 - val_r2: 0.8584\n",
      "Epoch 198/500\n",
      "1649/1649 [==============================] - 4s 2ms/step - loss: 2242680.5000 - mae: 1018.1419 - r2: 0.9054 - val_loss: 4630202.0000 - val_mae: 1048.6271 - val_r2: 0.8047\n",
      "Epoch 199/500\n",
      "1649/1649 [==============================] - 4s 3ms/step - loss: 2244235.0000 - mae: 1018.8560 - r2: 0.9055 - val_loss: 3828547.2500 - val_mae: 1073.4110 - val_r2: 0.8387\n",
      "Epoch 200/500\n",
      "1649/1649 [==============================] - 4s 2ms/step - loss: 2246776.2500 - mae: 1019.2543 - r2: 0.9050 - val_loss: 3588274.5000 - val_mae: 1054.6384 - val_r2: 0.8489\n",
      "Epoch 201/500\n",
      "1649/1649 [==============================] - 4s 2ms/step - loss: 2246327.0000 - mae: 1020.8427 - r2: 0.9051 - val_loss: 3287453.5000 - val_mae: 1074.6530 - val_r2: 0.8618\n",
      "Epoch 202/500\n",
      "1649/1649 [==============================] - 4s 2ms/step - loss: 2246721.2500 - mae: 1020.4794 - r2: 0.9050 - val_loss: 2902190.5000 - val_mae: 1130.3159 - val_r2: 0.8781\n",
      "Epoch 203/500\n",
      "1649/1649 [==============================] - 4s 3ms/step - loss: 2240912.0000 - mae: 1018.3092 - r2: 0.9056 - val_loss: 3517502.2500 - val_mae: 1031.3384 - val_r2: 0.8519\n",
      "Epoch 204/500\n",
      "1649/1649 [==============================] - 4s 2ms/step - loss: 2258238.7500 - mae: 1021.3672 - r2: 0.9047 - val_loss: 2962286.7500 - val_mae: 1153.2202 - val_r2: 0.8756\n",
      "Epoch 205/500\n",
      "1649/1649 [==============================] - 4s 2ms/step - loss: 2251865.5000 - mae: 1020.6823 - r2: 0.9048 - val_loss: 2874313.5000 - val_mae: 1099.8481 - val_r2: 0.8792\n",
      "Epoch 206/500\n",
      "1649/1649 [==============================] - 4s 3ms/step - loss: 2237781.7500 - mae: 1015.7264 - r2: 0.9057 - val_loss: 2952911.5000 - val_mae: 1172.8772 - val_r2: 0.8760\n",
      "Epoch 207/500\n",
      "1649/1649 [==============================] - 4s 3ms/step - loss: 2254605.0000 - mae: 1020.8622 - r2: 0.9044 - val_loss: 3700896.0000 - val_mae: 1055.3976 - val_r2: 0.8441\n",
      "Epoch 208/500\n",
      "1649/1649 [==============================] - 4s 2ms/step - loss: 2231780.7500 - mae: 1016.9066 - r2: 0.9057 - val_loss: 2982849.0000 - val_mae: 1118.1401 - val_r2: 0.8747\n",
      "Epoch 209/500\n",
      "1649/1649 [==============================] - 4s 2ms/step - loss: 2243438.7500 - mae: 1020.0022 - r2: 0.9055 - val_loss: 2894248.7500 - val_mae: 1161.4153 - val_r2: 0.8785\n",
      "Epoch 210/500\n",
      "1649/1649 [==============================] - 4s 3ms/step - loss: 2251532.7500 - mae: 1022.9131 - r2: 0.9048 - val_loss: 3311135.5000 - val_mae: 1067.2616 - val_r2: 0.8606\n",
      "Epoch 211/500\n",
      "1649/1649 [==============================] - 4s 3ms/step - loss: 2244404.5000 - mae: 1019.4597 - r2: 0.9052 - val_loss: 4802382.5000 - val_mae: 1049.3859 - val_r2: 0.7974\n",
      "Epoch 212/500\n",
      "1649/1649 [==============================] - 4s 2ms/step - loss: 2235581.0000 - mae: 1017.2724 - r2: 0.9055 - val_loss: 3633328.7500 - val_mae: 1064.5439 - val_r2: 0.8470\n",
      "Epoch 213/500\n",
      "1649/1649 [==============================] - 4s 3ms/step - loss: 2241663.7500 - mae: 1018.7610 - r2: 0.9054 - val_loss: 2858036.0000 - val_mae: 1126.7749 - val_r2: 0.8800\n",
      "Epoch 214/500\n",
      "1649/1649 [==============================] - 4s 3ms/step - loss: 2229719.7500 - mae: 1016.6222 - r2: 0.9060 - val_loss: 2784453.5000 - val_mae: 1109.0314 - val_r2: 0.8830\n",
      "Epoch 215/500\n",
      "1649/1649 [==============================] - 4s 3ms/step - loss: 2236592.5000 - mae: 1017.4253 - r2: 0.9055 - val_loss: 2866081.0000 - val_mae: 1148.6084 - val_r2: 0.8797\n",
      "Epoch 216/500\n",
      "1649/1649 [==============================] - 4s 3ms/step - loss: 2247203.2500 - mae: 1019.5723 - r2: 0.9050 - val_loss: 2689962.0000 - val_mae: 1048.3008 - val_r2: 0.8870\n",
      "Epoch 217/500\n",
      "1649/1649 [==============================] - 4s 3ms/step - loss: 2248081.0000 - mae: 1021.6676 - r2: 0.9050 - val_loss: 2826723.5000 - val_mae: 1078.4158 - val_r2: 0.8813\n",
      "Epoch 218/500\n",
      "1649/1649 [==============================] - 4s 3ms/step - loss: 2233139.2500 - mae: 1016.8713 - r2: 0.9053 - val_loss: 3513467.2500 - val_mae: 1084.6970 - val_r2: 0.8522\n",
      "Epoch 219/500\n",
      "1649/1649 [==============================] - 4s 3ms/step - loss: 2231533.2500 - mae: 1016.8126 - r2: 0.9058 - val_loss: 2966780.5000 - val_mae: 1071.9087 - val_r2: 0.8752\n",
      "Epoch 220/500\n",
      "1649/1649 [==============================] - 4s 3ms/step - loss: 2236226.0000 - mae: 1019.6367 - r2: 0.9056 - val_loss: 2853442.0000 - val_mae: 1099.0609 - val_r2: 0.8802\n",
      "Epoch 221/500\n",
      "1649/1649 [==============================] - 4s 2ms/step - loss: 2234719.2500 - mae: 1016.7260 - r2: 0.9057 - val_loss: 3169761.0000 - val_mae: 1068.9321 - val_r2: 0.8667\n",
      "Epoch 222/500\n",
      "1649/1649 [==============================] - 4s 2ms/step - loss: 2224349.5000 - mae: 1014.4169 - r2: 0.9061 - val_loss: 2790732.2500 - val_mae: 1111.5515 - val_r2: 0.8828\n",
      "Epoch 223/500\n",
      "1649/1649 [==============================] - 4s 2ms/step - loss: 2224535.7500 - mae: 1016.9124 - r2: 0.9063 - val_loss: 2787670.7500 - val_mae: 1100.9146 - val_r2: 0.8829\n",
      "Epoch 224/500\n",
      "1649/1649 [==============================] - 4s 2ms/step - loss: 2235361.0000 - mae: 1017.7443 - r2: 0.9055 - val_loss: 2837973.7500 - val_mae: 1123.6672 - val_r2: 0.8810\n",
      "Epoch 225/500\n",
      "1649/1649 [==============================] - 4s 3ms/step - loss: 2213403.0000 - mae: 1010.6328 - r2: 0.9064 - val_loss: 2827165.2500 - val_mae: 1074.9713 - val_r2: 0.8812\n",
      "Epoch 226/500\n",
      "1649/1649 [==============================] - 4s 3ms/step - loss: 2245093.5000 - mae: 1022.9606 - r2: 0.9051 - val_loss: 2796662.7500 - val_mae: 1093.1447 - val_r2: 0.8825\n",
      "Epoch 227/500\n",
      "1649/1649 [==============================] - 4s 3ms/step - loss: 2224998.2500 - mae: 1016.5471 - r2: 0.9061 - val_loss: 2973365.7500 - val_mae: 1081.7043 - val_r2: 0.8751\n",
      "Epoch 228/500\n",
      "1649/1649 [==============================] - 4s 2ms/step - loss: 2235422.2500 - mae: 1018.8400 - r2: 0.9055 - val_loss: 2980824.2500 - val_mae: 1125.4917 - val_r2: 0.8749\n",
      "Epoch 229/500\n",
      "1649/1649 [==============================] - 4s 3ms/step - loss: 2229468.0000 - mae: 1015.2013 - r2: 0.9058 - val_loss: 2925684.5000 - val_mae: 1082.6213 - val_r2: 0.8770\n",
      "Epoch 230/500\n",
      "1649/1649 [==============================] - 4s 3ms/step - loss: 2216771.7500 - mae: 1012.0616 - r2: 0.9064 - val_loss: 3987468.0000 - val_mae: 1052.0509 - val_r2: 0.8321\n",
      "Epoch 231/500\n",
      "1649/1649 [==============================] - 4s 3ms/step - loss: 2212353.2500 - mae: 1013.1972 - r2: 0.9069 - val_loss: 2970165.7500 - val_mae: 1146.4904 - val_r2: 0.8752\n",
      "1610/1610 [==============================] - 2s 988us/step - loss: 3261855.5000 - mae: 1146.9657 - r2: 0.8567\n",
      "Deep Learning Regression Mean Absolute Error: 1146.97\n",
      "Deep Learning Regression R-squared Score: 0.86\n"
     ]
    }
   ],
   "source": [
    "from tensorflow.keras.layers import BatchNormalization\n",
    "from tensorflow.keras.regularizers import L2\n",
    "\n",
    "# Split the data into training and testing sets\n",
    "X_train, X_test, y_train, y_test = train_test_split(X, y, test_size=0.2, random_state=42)\n",
    "\n",
    "# Define the model\n",
    "model = Sequential()\n",
    "model.add(Dense(128, activation='relu', input_shape=(X_train.shape[1],)))\n",
    "model.add(BatchNormalization())\n",
    "model.add(Dense(64, activation='relu'))\n",
    "model.add(BatchNormalization())\n",
    "model.add(Dense(32, activation='relu', kernel_regularizer=L2(0.001)))\n",
    "model.add(BatchNormalization())\n",
    "model.add(Dense(16, activation='relu', kernel_regularizer=L2(0.001)))\n",
    "model.add(BatchNormalization())\n",
    "model.add(Dense(1))\n",
    "\n",
    "# Compile the model\n",
    "model.compile(optimizer=tf.keras.optimizers.Adam(learning_rate=0.0001), loss='mse', metrics=['mae', r2])\n",
    "\n",
    "# Fit the model with early stopping\n",
    "early_stop = EarlyStopping(monitor='val_loss', patience=100)\n",
    "history = model.fit(X_train, y_train, validation_split=0.2, batch_size=100, epochs=500, callbacks=[early_stop])\n",
    "\n",
    "# Evaluate the model\n",
    "score = model.evaluate(X_test, y_test)\n",
    "print(f'Deep Learning Regression Mean Absolute Error: {score[1]:.2f}')\n",
    "print(f'Deep Learning Regression R-squared Score: {score[2]:.2f}')\n"
   ]
  },
  {
   "cell_type": "code",
   "execution_count": 9,
   "metadata": {},
   "outputs": [
    {
     "name": "stdout",
     "output_type": "stream",
     "text": [
      "Model: \"sequential\"\n",
      "_________________________________________________________________\n",
      " Layer (type)                Output Shape              Param #   \n",
      "=================================================================\n",
      " dense (Dense)               (None, 128)               40064     \n",
      "                                                                 \n",
      " batch_normalization (BatchN  (None, 128)              512       \n",
      " ormalization)                                                   \n",
      "                                                                 \n",
      " dense_1 (Dense)             (None, 64)                8256      \n",
      "                                                                 \n",
      " batch_normalization_1 (Batc  (None, 64)               256       \n",
      " hNormalization)                                                 \n",
      "                                                                 \n",
      " dense_2 (Dense)             (None, 32)                2080      \n",
      "                                                                 \n",
      " batch_normalization_2 (Batc  (None, 32)               128       \n",
      " hNormalization)                                                 \n",
      "                                                                 \n",
      " dense_3 (Dense)             (None, 16)                528       \n",
      "                                                                 \n",
      " batch_normalization_3 (Batc  (None, 16)               64        \n",
      " hNormalization)                                                 \n",
      "                                                                 \n",
      " dense_4 (Dense)             (None, 1)                 17        \n",
      "                                                                 \n",
      "=================================================================\n",
      "Total params: 51,905\n",
      "Trainable params: 51,425\n",
      "Non-trainable params: 480\n",
      "_________________________________________________________________\n"
     ]
    }
   ],
   "source": [
    "model.summary()"
   ]
  },
  {
   "cell_type": "code",
   "execution_count": 10,
   "metadata": {},
   "outputs": [
    {
     "data": {
      "text/plain": [
       "[array([[ 0.04420108,  0.06712412, -0.05506156, ..., -0.09375656,\n",
       "          0.09019871,  0.14973989],\n",
       "        [-0.14360571, -0.05791476, -0.11590444, ...,  0.0815693 ,\n",
       "          0.01352653, -0.04763108],\n",
       "        [ 0.04097302, -0.0383447 , -0.00455771, ..., -0.00142419,\n",
       "         -0.08642678,  0.09788665],\n",
       "        ...,\n",
       "        [ 0.01881246,  0.12501414, -0.03752032, ...,  0.06374943,\n",
       "          0.13942759, -0.01165466],\n",
       "        [ 0.17450152,  0.18621428, -0.01726065, ..., -0.06015358,\n",
       "          0.08775383,  0.11195424],\n",
       "        [ 0.18282394,  0.1173894 ,  0.01474852, ..., -0.12849537,\n",
       "          0.00296936,  0.3326776 ]], dtype=float32),\n",
       " array([-0.03748088, -0.0601033 , -0.07397915,  0.02737448, -0.02000024,\n",
       "         0.02026205,  0.03349471, -0.00725094, -0.01720423,  0.04084398,\n",
       "        -0.00152398, -0.05118891,  0.00846814, -0.0370261 , -0.02517415,\n",
       "        -0.03042178,  0.03556352, -0.00687548, -0.01426135,  0.0103762 ,\n",
       "        -0.07270706,  0.0165455 ,  0.00750554,  0.04890314, -0.02446782,\n",
       "         0.02897579, -0.05053967,  0.09825001,  0.03592423,  0.008244  ,\n",
       "        -0.00108326, -0.05943796, -0.01101719, -0.02939485, -0.00134214,\n",
       "        -0.03094241,  0.03228689, -0.01927377, -0.02068194,  0.02433922,\n",
       "         0.02375297,  0.02863121,  0.01717822,  0.00654653, -0.03533193,\n",
       "        -0.00578304, -0.0491767 ,  0.02822929,  0.02532266, -0.03301694,\n",
       "         0.02175371, -0.02122916,  0.003691  ,  0.02301212,  0.10301699,\n",
       "         0.00725947, -0.00313583, -0.00855378,  0.01563215,  0.00244928,\n",
       "        -0.00779445,  0.00717137, -0.0646137 ,  0.01540575, -0.01122603,\n",
       "        -0.0023214 , -0.04156465, -0.03027651, -0.02724788, -0.03385242,\n",
       "         0.03157127, -0.0551878 , -0.00140178, -0.03182605, -0.02213064,\n",
       "        -0.00552204,  0.1046072 ,  0.15964402, -0.0310173 ,  0.02470137,\n",
       "        -0.0851124 ,  0.06507308, -0.01779619, -0.04134211,  0.0855945 ,\n",
       "        -0.00649332,  0.07475172, -0.02785035,  0.0395554 , -0.00854218,\n",
       "        -0.06103925, -0.03275997,  0.02543406,  0.04495898, -0.00306392,\n",
       "        -0.02273105, -0.00545594,  0.05636096, -0.00462537, -0.04246765,\n",
       "        -0.0439375 ,  0.03583894,  0.08251923, -0.03718046,  0.07024756,\n",
       "         0.01004228, -0.0058083 ,  0.02266451,  0.0686655 ,  0.02192849,\n",
       "         0.08378073,  0.0135658 ,  0.04901021,  0.02449576,  0.01922209,\n",
       "        -0.0365214 ,  0.02892433, -0.05110705, -0.05730293, -0.01151676,\n",
       "        -0.00884382, -0.05294789,  0.02301874, -0.02469952, -0.00362654,\n",
       "        -0.10044062,  0.0118517 , -0.03544034], dtype=float32),\n",
       " array([0.86472565, 0.90602344, 1.4169735 , 0.9258229 , 0.9221265 ,\n",
       "        0.9999107 , 1.0244739 , 1.0320263 , 0.919889  , 0.9308843 ,\n",
       "        1.0155909 , 1.0163481 , 0.9844339 , 0.9187565 , 0.91673625,\n",
       "        0.89782083, 1.0894115 , 1.0701625 , 0.94770706, 0.95736206,\n",
       "        0.9114298 , 0.9534548 , 0.87563515, 1.0525066 , 1.0413669 ,\n",
       "        0.8511301 , 0.97382694, 1.1158603 , 1.0472572 , 1.1443118 ,\n",
       "        0.9015646 , 0.92080516, 1.0782313 , 1.0252886 , 0.94925183,\n",
       "        1.0701586 , 0.8875604 , 0.8852458 , 1.1324569 , 1.0049223 ,\n",
       "        0.93469244, 1.0378435 , 1.066568  , 0.9345741 , 0.98328763,\n",
       "        0.9273377 , 0.94062215, 1.0144874 , 0.8442854 , 1.1213567 ,\n",
       "        0.9249823 , 1.015765  , 0.95901084, 1.0538632 , 1.096355  ,\n",
       "        0.95021147, 1.0474612 , 0.9432382 , 0.8680884 , 1.025233  ,\n",
       "        0.9776136 , 0.9777026 , 1.0211431 , 1.0604211 , 0.8839437 ,\n",
       "        1.0362674 , 0.9368263 , 1.0256624 , 1.0744069 , 1.0120395 ,\n",
       "        1.2198073 , 1.0594671 , 0.9277609 , 1.0069788 , 0.99225706,\n",
       "        1.1158633 , 1.0709838 , 1.1091903 , 0.9261981 , 0.8807395 ,\n",
       "        1.0110697 , 0.9727509 , 0.98571014, 0.90591013, 0.93746024,\n",
       "        1.1754822 , 1.0379891 , 0.94763815, 0.9905781 , 1.0361478 ,\n",
       "        0.98821735, 0.90530866, 1.0275562 , 0.9375999 , 0.967605  ,\n",
       "        0.97836983, 0.96001726, 0.9680072 , 0.911061  , 0.88927644,\n",
       "        0.9572953 , 0.99229914, 0.97483295, 1.0402896 , 0.8808457 ,\n",
       "        0.95393103, 0.9949289 , 1.043729  , 1.0568411 , 1.0578586 ,\n",
       "        1.1043969 , 1.0902332 , 1.0929815 , 0.9942473 , 1.2307407 ,\n",
       "        0.99250764, 1.011547  , 0.94091135, 0.9288058 , 1.1057152 ,\n",
       "        0.9791546 , 1.028995  , 1.0079696 , 1.0693868 , 1.1133381 ,\n",
       "        1.1401496 , 0.9068536 , 0.9571789 ], dtype=float32),\n",
       " array([ 0.02601045,  0.0102677 , -0.00908418,  0.07705124, -0.2188258 ,\n",
       "         0.01168297, -0.06137953,  0.06883922,  0.03881175,  0.04860955,\n",
       "         0.09273148,  0.04350014,  0.24100006, -0.08500732, -0.11815256,\n",
       "        -0.07972846,  0.05825418, -0.07407399, -0.12921883,  0.13337554,\n",
       "        -0.18030444, -0.07041128,  0.16185772, -0.06545117, -0.10313364,\n",
       "         0.0592148 , -0.00421137,  0.17237078,  0.02386847, -0.00043808,\n",
       "        -0.09445383, -0.1580837 ,  0.02935162, -0.03854145,  0.17385451,\n",
       "         0.08556937,  0.1063411 , -0.19017528,  0.10037823,  0.1327484 ,\n",
       "        -0.01015942,  0.04239225,  0.0925049 , -0.08396466, -0.10400798,\n",
       "        -0.09545831, -0.10683424,  0.11733612, -0.23126234, -0.23499353,\n",
       "         0.12333766, -0.07872628,  0.0157558 , -0.01169113,  0.2561566 ,\n",
       "         0.16515742, -0.01517675,  0.00680688,  0.06317685,  0.15201132,\n",
       "         0.00590736,  0.08593581, -0.09046791,  0.00421109,  0.0903098 ,\n",
       "         0.02352055, -0.09281503,  0.13134274, -0.11507068,  0.10741937,\n",
       "         0.12506604,  0.13705903,  0.03233416, -0.1493496 ,  0.06724577,\n",
       "         0.13560356,  0.22723176,  0.2983141 , -0.01113283,  0.06229834,\n",
       "        -0.13640669,  0.11445674, -0.16074279, -0.04401038,  0.01308666,\n",
       "         0.05939643,  0.07832552,  0.08719061,  0.16828461,  0.01511237,\n",
       "        -0.05440794,  0.02277757,  0.20913084, -0.07113487,  0.08028124,\n",
       "        -0.03452745,  0.13904187,  0.2228688 ,  0.15425068, -0.0321544 ,\n",
       "         0.11640867,  0.05615142,  0.11940755,  0.15006419,  0.13165952,\n",
       "         0.08949763, -0.11462208,  0.18906362,  0.08795182,  0.2420803 ,\n",
       "         0.09523829,  0.19664924, -0.08107905, -0.0518288 , -0.04536057,\n",
       "        -0.05403168,  0.14161092, -0.05678109, -0.04185403,  0.07032183,\n",
       "         0.12883858, -0.00580943, -0.05664555, -0.09220256,  0.03974534,\n",
       "        -0.04530307,  0.00403448, -0.05319833], dtype=float32),\n",
       " array([0.10263191, 0.06617032, 0.00581046, 0.04622284, 0.21281138,\n",
       "        0.0554307 , 0.09224159, 0.10010196, 0.05916037, 0.11255699,\n",
       "        0.06628083, 0.05474918, 0.07190318, 0.17633593, 0.06440953,\n",
       "        0.02960784, 0.10010181, 0.08820803, 0.14991358, 0.03718759,\n",
       "        0.04473285, 0.10497175, 0.03791421, 0.23770438, 0.1487962 ,\n",
       "        0.20996632, 0.06519558, 0.16081595, 0.13989511, 0.08911332,\n",
       "        0.08501749, 0.08120666, 0.08990696, 0.00186973, 0.09558036,\n",
       "        0.13589178, 0.18822388, 0.0449962 , 0.05135956, 0.11099113,\n",
       "        0.07712039, 0.0701912 , 0.19411927, 0.20370474, 0.09413275,\n",
       "        0.06302758, 0.12786812, 0.20064694, 0.13811082, 0.10246351,\n",
       "        0.10555813, 0.01906461, 0.21111952, 0.13550904, 0.3143455 ,\n",
       "        0.1195654 , 0.0970635 , 0.1661004 , 0.10036737, 0.05332474,\n",
       "        0.09057425, 0.08939093, 0.07403491, 0.06426171, 0.07066327,\n",
       "        0.08128689, 0.05489709, 0.06055281, 0.07384899, 0.10887112,\n",
       "        0.10857643, 0.00838122, 0.08548306, 0.05544391, 0.09932642,\n",
       "        0.06791476, 0.21219839, 0.34484446, 0.02749314, 0.09132215,\n",
       "        0.05590205, 0.14824797, 0.06874136, 0.06014727, 0.15461633,\n",
       "        0.03918584, 0.18959936, 0.06575079, 0.05901887, 0.07015292,\n",
       "        0.06489184, 0.11236024, 0.06039907, 0.098617  , 0.09824678,\n",
       "        0.05688466, 0.01135487, 0.1966553 , 0.02619498, 0.01331416,\n",
       "        0.04867928, 0.06079589, 0.1905454 , 0.00488495, 0.14827427,\n",
       "        0.05030575, 0.04642433, 0.0412045 , 0.11088309, 0.11295521,\n",
       "        0.10089333, 0.12728027, 0.06642665, 0.12817283, 0.09676461,\n",
       "        0.08768376, 0.14540492, 0.27813596, 0.05138737, 0.18351005,\n",
       "        0.07021606, 0.08332761, 0.10529424, 0.10395075, 0.05348411,\n",
       "        0.00767342, 0.09303269, 0.08471784], dtype=float32),\n",
       " array([0.06975008, 0.0934075 , 0.00089252, 0.02120049, 0.02733045,\n",
       "        0.01377689, 0.02396416, 0.01548334, 0.01335315, 0.03976641,\n",
       "        0.0196308 , 0.00814871, 0.00778562, 0.02645858, 0.13082103,\n",
       "        0.01099297, 0.01351623, 0.01208124, 0.02540173, 0.00451741,\n",
       "        0.00769228, 0.01430384, 0.03319535, 0.03319857, 0.08801428,\n",
       "        0.01803842, 0.01030309, 0.02192828, 0.01797512, 0.0105292 ,\n",
       "        0.01691408, 0.01307997, 0.01114491, 0.00018928, 0.01542794,\n",
       "        0.01873495, 0.04673189, 0.02317142, 0.00617131, 0.01565917,\n",
       "        0.01291118, 0.00991002, 0.02387968, 0.03244047, 0.0148174 ,\n",
       "        0.07231761, 0.0175431 , 0.04138333, 0.0435825 , 0.02197484,\n",
       "        0.01415603, 0.02486952, 0.03843047, 0.01872148, 0.03438205,\n",
       "        0.01864582, 0.01321115, 0.02034786, 0.0149802 , 0.01600604,\n",
       "        0.02495437, 0.01317659, 0.10917953, 0.00946681, 0.05693781,\n",
       "        0.01433743, 0.0101199 , 0.00691864, 0.0083671 , 0.01487017,\n",
       "        0.0156748 , 0.06702548, 0.04272721, 0.00822804, 0.03031093,\n",
       "        0.02035312, 0.0285066 , 0.03597459, 0.00345412, 0.05851467,\n",
       "        0.02574144, 0.02190165, 0.04105543, 0.08977266, 0.01802911,\n",
       "        0.00468992, 0.02974198, 0.01093061, 0.00729852, 0.00940293,\n",
       "        0.01787714, 0.01391217, 0.03232163, 0.01311366, 0.01615236,\n",
       "        0.04857964, 0.02457051, 0.02979088, 0.0129677 , 0.0016508 ,\n",
       "        0.1671919 , 0.01046094, 0.02842669, 0.01231368, 0.01939192,\n",
       "        0.04803905, 0.00806969, 0.02655684, 0.01615567, 0.01276892,\n",
       "        0.01330404, 0.01833765, 0.01103138, 0.01575748, 0.01700553,\n",
       "        0.08128732, 0.01992179, 0.03262692, 0.13838497, 0.02272268,\n",
       "        0.01281199, 0.01093339, 0.01733798, 0.01461043, 0.0079122 ,\n",
       "        0.00095103, 0.06697471, 0.01157105], dtype=float32),\n",
       " array([[ 0.0391926 , -0.02310819,  0.08605139, ..., -0.20571803,\n",
       "          0.09188275,  0.03559921],\n",
       "        [ 0.18666075, -0.10023984, -0.01963832, ..., -0.1321533 ,\n",
       "          0.06615545, -0.10148717],\n",
       "        [-0.0944486 ,  0.00732829,  0.01361895, ...,  0.16729766,\n",
       "         -0.05121533,  0.15045014],\n",
       "        ...,\n",
       "        [ 0.04917037,  0.2333231 ,  0.032745  , ...,  0.19388296,\n",
       "         -0.26269376, -0.19043662],\n",
       "        [ 0.1444302 ,  0.05701007,  0.19541828, ...,  0.00141978,\n",
       "         -0.05412149,  0.01569545],\n",
       "        [-0.11817769, -0.1460941 ,  0.00807692, ...,  0.03051875,\n",
       "          0.15940046,  0.00759903]], dtype=float32),\n",
       " array([-6.94308728e-02, -1.47600099e-01,  4.17578258e-02, -7.66747147e-02,\n",
       "         8.02202374e-02,  4.70884293e-02,  7.54157305e-02,  1.58661991e-01,\n",
       "         2.96516642e-02, -1.68325797e-01,  1.54243082e-01, -4.89273280e-01,\n",
       "        -4.99907359e-02, -7.57393315e-02, -2.66653113e-02, -2.31400877e-01,\n",
       "        -1.03910834e-01,  1.04644306e-01,  9.97582376e-02, -7.56041855e-02,\n",
       "        -2.33721975e-02,  5.66319041e-02, -8.84519331e-03, -9.87767875e-02,\n",
       "        -7.08184540e-02,  4.99913320e-02, -9.74478349e-02,  3.53287719e-02,\n",
       "        -8.71548988e-03,  4.74673882e-02, -1.05693728e-01, -1.40212700e-01,\n",
       "        -1.50482764e-03, -1.12311810e-01,  1.18261002e-01, -1.82027500e-02,\n",
       "         1.92118019e-01, -1.69305364e-03,  2.57542450e-03, -2.21659765e-01,\n",
       "        -1.88245416e-01, -5.64402044e-02, -1.24359876e-01, -2.29427308e-01,\n",
       "         2.70914175e-02, -3.11256368e-02,  4.99668419e-02, -2.35350832e-01,\n",
       "         4.78751734e-02, -2.61021674e-01, -2.83051524e-02, -3.60722443e-05,\n",
       "         1.13541465e-02, -5.81155437e-05,  3.03781983e-02, -1.19912483e-01,\n",
       "        -1.23297483e-01,  1.13524981e-01,  1.65995270e-01,  2.79752240e-02,\n",
       "         2.93178260e-01,  1.34326503e-01,  1.43451784e-02, -1.36387032e-02],\n",
       "       dtype=float32),\n",
       " array([0.8170356 , 1.1169901 , 0.88921636, 1.0363075 , 0.8339952 ,\n",
       "        0.9566332 , 0.8796937 , 0.8309549 , 1.0302165 , 0.92797375,\n",
       "        0.933701  , 0.9354883 , 0.820119  , 0.89862627, 1.0212792 ,\n",
       "        0.96474785, 0.9494458 , 1.0282813 , 0.9153825 , 1.0241727 ,\n",
       "        1.0189091 , 0.9080956 , 0.94456017, 1.0275729 , 1.060292  ,\n",
       "        0.9990293 , 1.0253526 , 0.8685181 , 1.0052385 , 0.88544166,\n",
       "        0.93379873, 0.8374184 , 1.0134666 , 1.0478132 , 0.88482374,\n",
       "        1.0187206 , 0.8411903 , 0.99374807, 0.73030376, 0.9760143 ,\n",
       "        0.9410643 , 1.0669633 , 0.9434945 , 0.8635188 , 1.038951  ,\n",
       "        0.8934533 , 0.8689164 , 0.8556902 , 0.9960475 , 0.9840472 ,\n",
       "        0.803688  , 0.880188  , 0.9024984 , 1.0027503 , 1.0593712 ,\n",
       "        0.8886543 , 1.0491261 , 0.894029  , 1.2960045 , 0.95985204,\n",
       "        0.8694175 , 0.8448825 , 0.8882782 , 0.9311487 ], dtype=float32),\n",
       " array([-0.4859081 , -0.21542276,  0.49373835, -0.2032558 ,  0.26085126,\n",
       "         0.2510613 , -0.02561276,  0.44630393, -0.29444665, -0.54717636,\n",
       "        -0.49448314, -0.14229935,  0.20244645, -0.54760003, -0.30972767,\n",
       "        -0.65769064,  0.15735531, -0.43211514, -0.05509814, -0.08218314,\n",
       "         0.37522778, -0.06955335, -0.28380814, -0.43372384, -0.05599912,\n",
       "         0.0202971 , -0.17563102,  0.01947142, -0.01158604,  0.58783436,\n",
       "         0.3773613 , -0.5203013 ,  0.5772338 , -0.47451   , -0.08945573,\n",
       "         0.14159437,  0.2627945 ,  0.4155146 ,  0.59284264, -0.45182866,\n",
       "        -0.49762636,  0.0636511 , -0.5747829 , -0.646999  ,  0.17010497,\n",
       "        -0.12649998,  0.36678046, -0.4887469 ,  0.15749632, -0.74414206,\n",
       "        -0.23004541, -0.04727021,  0.00973109, -0.17654213,  0.09290764,\n",
       "         0.45929268,  0.24306959,  0.24851318, -0.5354181 , -0.20016082,\n",
       "         0.11162204,  0.49169713,  0.39404264,  0.3302124 ], dtype=float32),\n",
       " array([0.69646525, 0.4680443 , 0.4852722 , 0.419817  , 0.7095468 ,\n",
       "        0.646676  , 0.49535778, 0.72708476, 0.9191126 , 0.5788936 ,\n",
       "        0.7094822 , 0.15416232, 0.51345897, 0.39464018, 0.56453854,\n",
       "        0.24840763, 0.45545155, 1.0931803 , 0.71721244, 0.4972295 ,\n",
       "        0.31994742, 0.5608185 , 0.8349943 , 0.3888541 , 0.4706974 ,\n",
       "        0.8314526 , 0.2839423 , 0.56155807, 0.6990113 , 0.64634895,\n",
       "        0.8399014 , 0.3096509 , 0.5563469 , 0.32476473, 0.59652525,\n",
       "        0.4883388 , 0.78136194, 0.82032216, 0.51471764, 0.5720205 ,\n",
       "        0.62158453, 0.37684852, 0.43313754, 0.44002545, 0.72174   ,\n",
       "        0.35051566, 0.85015154, 0.61165553, 0.5415318 , 0.49785677,\n",
       "        0.50802207, 0.41324356, 0.5055524 , 0.71763307, 0.44899955,\n",
       "        0.48143342, 0.30760476, 0.49228528, 1.074311  , 0.44942367,\n",
       "        1.0481501 , 0.6788574 , 0.39888036, 0.47698203], dtype=float32),\n",
       " array([0.8963231 , 0.48732615, 0.6310873 , 0.58320767, 1.4543899 ,\n",
       "        0.7991322 , 0.6346863 , 0.8281121 , 0.69875216, 0.80909115,\n",
       "        0.80415016, 0.20852864, 0.65139693, 0.61606514, 0.48465645,\n",
       "        0.27671933, 0.42619467, 1.6976796 , 0.6908185 , 0.3984205 ,\n",
       "        0.2459225 , 0.53008485, 2.0118477 , 0.31893343, 0.47505265,\n",
       "        0.7377358 , 0.2377508 , 0.6497758 , 0.87416387, 0.64117366,\n",
       "        1.74841   , 0.29350907, 0.44858783, 0.41964218, 0.5538133 ,\n",
       "        0.48489168, 1.1442116 , 2.1309485 , 0.49113864, 0.6956016 ,\n",
       "        1.0566099 , 0.32092276, 0.6122009 , 0.6937312 , 0.73963386,\n",
       "        0.28936905, 0.91970974, 1.2968332 , 0.47882086, 0.8159716 ,\n",
       "        0.67342204, 0.36474368, 0.65269065, 0.7608014 , 0.30503622,\n",
       "        0.49743074, 0.33266938, 0.5382824 , 1.0938317 , 0.35507375,\n",
       "        1.3544074 , 0.7354678 , 0.39602295, 0.6984842 ], dtype=float32),\n",
       " array([[ 0.07793894, -0.23281676, -0.11995421, ..., -0.26137596,\n",
       "         -0.01696603,  0.20224255],\n",
       "        [ 0.1543332 ,  0.27255765, -0.12624481, ..., -0.39272922,\n",
       "         -0.16667065,  0.27118942],\n",
       "        [ 0.15792154, -0.03596813,  0.08428955, ...,  0.15016179,\n",
       "          0.09580294,  0.13039581],\n",
       "        ...,\n",
       "        [-0.11838381, -0.02974468,  0.27144074, ..., -0.09228523,\n",
       "          0.20823956,  0.10770459],\n",
       "        [ 0.11704707, -0.00878705,  0.13475507, ...,  0.28575218,\n",
       "          0.17439845, -0.02722456],\n",
       "        [ 0.00447064, -0.3665342 ,  0.01638456, ...,  0.02797733,\n",
       "          0.05430172, -0.17066832]], dtype=float32),\n",
       " array([ 0.08616104,  0.11087622, -0.03646969, -0.4269362 ,  0.0202615 ,\n",
       "         0.15928006,  0.09089962,  0.32112435, -0.7265765 ,  0.04414437,\n",
       "        -0.47998017, -0.01098784, -0.4536636 , -0.09496582, -0.00780965,\n",
       "         0.02957218, -0.01247411, -0.4797894 ,  0.26171353,  0.01495971,\n",
       "         0.21849895,  0.46074966,  0.03996337, -0.1663655 ,  0.09917407,\n",
       "        -0.58792967,  0.2757338 , -0.10219459,  0.06938001,  0.03918319,\n",
       "        -0.5434918 , -0.05334251], dtype=float32),\n",
       " array([0.8784659 , 0.949085  , 0.96618235, 2.037677  , 0.7447236 ,\n",
       "        0.5790267 , 1.0292017 , 0.6805565 , 0.61092335, 0.8720384 ,\n",
       "        2.3591611 , 0.74613875, 1.8882005 , 0.81972104, 0.66958594,\n",
       "        0.75044423, 1.1424699 , 1.2525077 , 0.8630462 , 0.9916713 ,\n",
       "        0.8243307 , 0.82281464, 0.7771957 , 0.5990291 , 0.86194855,\n",
       "        0.6089435 , 0.7675934 , 1.0468938 , 0.6821579 , 0.96008277,\n",
       "        0.7468318 , 0.8288926 ], dtype=float32),\n",
       " array([-0.24147198,  0.67815685, -0.41196117, -0.42904836,  0.26010853,\n",
       "         0.05610867,  0.03403256, -0.6106279 , -1.4236803 ,  0.14863737,\n",
       "        -0.5109787 ,  0.13938773, -0.5879281 , -0.2979012 , -0.9764748 ,\n",
       "        -0.35965955,  0.07737847, -0.4076523 ,  0.78184557,  0.5021712 ,\n",
       "        -0.7033812 ,  0.85831416, -0.50466317, -0.95572746,  0.30582374,\n",
       "        -0.8500596 ,  1.4151238 , -0.30857724, -0.7372023 , -0.05629451,\n",
       "        -0.82762456, -0.13814765], dtype=float32),\n",
       " array([1.3636229e+00, 1.2352985e+00, 1.8708491e-01, 1.9320726e-03,\n",
       "        7.8346580e-01, 3.8428801e-01, 4.4066367e-01, 1.5884386e+00,\n",
       "        1.4872428e-05, 4.4145384e-01, 1.7901648e-02, 5.2202582e-01,\n",
       "        1.0634871e-02, 2.1142143e-01, 1.0993205e+00, 8.7872183e-01,\n",
       "        3.1779194e-01, 7.9624439e-03, 5.1442552e-01, 2.7051267e-01,\n",
       "        1.7250741e+00, 2.1335905e+00, 7.6905954e-01, 1.2944552e+00,\n",
       "        7.6422238e-01, 2.2487958e-01, 1.4470998e+00, 7.9132819e-01,\n",
       "        1.7326676e+00, 1.1244490e+00, 1.2003019e-01, 1.0198808e+00],\n",
       "       dtype=float32),\n",
       " array([1.4149047e+00, 1.4215244e+00, 2.2163513e-01, 9.1738068e-04,\n",
       "        6.2537867e-01, 5.4823732e-01, 4.9379116e-01, 1.6654096e+00,\n",
       "        1.9489580e-06, 7.5558770e-01, 1.4092504e-02, 9.0198874e-01,\n",
       "        7.0837568e-03, 2.4373756e-01, 1.5126324e+00, 8.8392723e-01,\n",
       "        3.7283006e-01, 5.4850364e-03, 9.2065251e-01, 3.0169156e-01,\n",
       "        6.1293626e+00, 2.5882850e+00, 1.1839180e+00, 2.3637018e+00,\n",
       "        1.4214752e+00, 2.0765223e-01, 2.6178691e+00, 8.8667506e-01,\n",
       "        3.1074417e+00, 1.5463786e+00, 9.5139273e-02, 1.0379684e+00],\n",
       "       dtype=float32),\n",
       " array([[ 0.10884837, -0.09748483, -0.01779566,  0.18474847,  0.13055743,\n",
       "         -0.08618199,  0.01057721, -0.33712113, -0.10607929, -0.2337386 ,\n",
       "         -0.04127323,  0.08549944, -0.00866488,  0.15082046, -0.00271439,\n",
       "         -0.23446527],\n",
       "        [ 0.322555  ,  0.21157211,  0.07767751,  0.32516083,  0.10912319,\n",
       "          0.3045583 ,  0.42057914, -0.16543058,  0.15198293,  0.06653494,\n",
       "          0.11911608,  0.4103935 ,  0.34477076,  0.2606299 ,  0.3331975 ,\n",
       "          0.12731117],\n",
       "        [-0.3360653 ,  0.05865269, -0.42075813, -0.33723986, -0.419931  ,\n",
       "          0.17886133, -0.37999675, -0.07046097,  0.17195313,  0.18692662,\n",
       "         -0.4558423 , -0.4630012 , -0.12677567, -0.33656344,  0.05245252,\n",
       "         -0.10956611],\n",
       "        [-0.9746886 ,  0.18346766, -0.85915446, -0.8153089 , -0.61714697,\n",
       "          0.2702846 , -0.507242  , -0.24026553,  0.164777  ,  0.29484412,\n",
       "         -0.8284457 , -0.30646324, -0.09882423, -0.48307708,  0.26167494,\n",
       "         -0.2297143 ],\n",
       "        [ 0.08993792, -0.06866781,  0.16505846,  0.14719747,  0.18078914,\n",
       "         -0.12038449,  0.17221433, -0.08643617, -0.06174002, -0.02811595,\n",
       "          0.15913679,  0.2140246 , -0.05756687,  0.1380936 , -0.1149968 ,\n",
       "          0.00929273],\n",
       "        [-0.17342122, -0.00207074, -0.10732561,  0.15337574,  0.14237191,\n",
       "         -0.18769176, -0.1002463 , -0.09963671, -0.0139942 ,  0.33240658,\n",
       "          0.09676243,  0.07534068,  0.09125715, -0.12214021,  0.1286105 ,\n",
       "          0.09879955],\n",
       "        [-0.14818637,  0.21407054, -0.15366335, -0.34065065, -0.29886335,\n",
       "          0.14964673, -0.16800125,  0.30490074,  0.29823107,  0.20108247,\n",
       "         -0.22890168, -0.3626791 ,  0.2192765 , -0.18084776,  0.16600391,\n",
       "          0.24025516],\n",
       "        [-0.20457701, -0.17231841, -0.22732858, -0.350767  , -0.42120743,\n",
       "          0.10094532, -0.08085226, -0.05598764, -0.19798432,  0.18438052,\n",
       "         -0.00705294, -0.02446332, -0.1794592 , -0.38724527, -0.10093232,\n",
       "          0.04671139],\n",
       "        [ 0.11262533, -0.73067224,  0.11418914,  0.13987081,  0.1106132 ,\n",
       "         -0.16538124,  0.07391427, -0.548781  , -0.4750658 , -0.3223367 ,\n",
       "          0.07490683,  0.12301103, -1.018955  ,  0.1067389 , -0.7091536 ,\n",
       "         -1.2324991 ],\n",
       "        [-0.09453178,  0.1802525 , -0.10139652, -0.07129483, -0.12215687,\n",
       "          0.1453864 , -0.04942453,  0.02460691,  0.17658743,  0.22985338,\n",
       "         -0.05211644, -0.1091136 ,  0.09949929, -0.1236496 ,  0.16615489,\n",
       "          0.11241607],\n",
       "        [-1.101855  ,  0.11746848, -0.91673523, -0.5428547 , -0.7203229 ,\n",
       "          0.13695979, -1.0363765 , -0.08752268,  0.13835397,  0.25483486,\n",
       "         -1.172592  , -0.8984004 , -0.21524759, -0.9315037 ,  0.14123671,\n",
       "         -0.01605086],\n",
       "        [-0.13602383,  0.09350835,  0.03815794, -0.10618998,  0.05812779,\n",
       "          0.15168996, -0.17237929,  0.0453246 ,  0.23888838,  0.1558379 ,\n",
       "         -0.16956249,  0.02891616,  0.14264037,  0.03015855,  0.2523499 ,\n",
       "         -0.04890587],\n",
       "        [-0.46985373,  0.14324862, -0.58518094, -0.4070769 , -0.6543525 ,\n",
       "          0.18137254, -0.97060627, -0.11654712,  0.14065342,  0.26516682,\n",
       "         -0.4355164 , -0.6746292 , -0.13703264, -0.68192005,  0.1763166 ,\n",
       "         -0.15508527],\n",
       "        [-0.20984496,  0.10389976, -0.19513023, -0.04929466, -0.18579042,\n",
       "          0.07619733, -0.17703895,  0.00582244,  0.05514947,  0.1737799 ,\n",
       "         -0.16473849, -0.11205669,  0.04038946, -0.22429827,  0.11257035,\n",
       "          0.00247226],\n",
       "        [-0.29576597, -0.38585418,  0.17924239, -0.0432847 ,  0.25822228,\n",
       "         -0.6620597 , -0.16035622, -0.23190004, -0.28736958, -0.17730926,\n",
       "          0.13337871, -0.06531498, -0.4810808 , -0.1162042 , -0.64328563,\n",
       "         -0.26793596],\n",
       "        [ 0.12118994, -0.22715282,  0.22896671,  0.06851103,  0.07298574,\n",
       "         -0.24140391,  0.21258648, -0.37708065, -0.35820898, -0.20850176,\n",
       "          0.28849533,  0.17743328, -0.18229374,  0.14511582, -0.22847058,\n",
       "         -0.12842506],\n",
       "        [-0.24951807,  0.2895439 , -0.224963  , -0.17414658, -0.16938414,\n",
       "          0.23829478, -0.24712397,  0.20415656,  0.34544802,  0.3630474 ,\n",
       "         -0.23081471, -0.2393655 ,  0.20164481, -0.2359128 ,  0.27975628,\n",
       "          0.17911057],\n",
       "        [-0.60906273,  0.10607549, -0.12953281, -0.601555  , -0.5525963 ,\n",
       "          0.09837886, -0.28220743, -0.10728968,  0.12219226,  0.20832177,\n",
       "         -0.49405006, -0.01957973, -0.08592857, -0.45490813,  0.11156212,\n",
       "         -0.10065055],\n",
       "        [ 0.1238538 ,  0.26935944,  0.34838727,  0.03150806,  0.2962904 ,\n",
       "          0.1738765 ,  0.13065018,  0.1452503 ,  0.4160369 ,  0.2109391 ,\n",
       "          0.10498829,  0.3630478 ,  0.2645318 ,  0.27336717,  0.265689  ,\n",
       "          0.14449556],\n",
       "        [-0.17508267,  0.3018266 , -0.14974545, -0.16382962, -0.15830597,\n",
       "          0.28930363, -0.15241434,  0.19880702,  0.38255927,  0.3352571 ,\n",
       "         -0.13750362, -0.14288117,  0.26332462, -0.17280935,  0.30106097,\n",
       "          0.20461524],\n",
       "        [ 0.12574308,  0.02525104, -0.23732081,  0.28197095, -0.08890969,\n",
       "         -0.00401967,  0.18416917, -0.14095329, -0.2413827 , -0.06944164,\n",
       "          0.14450252, -0.09984528, -0.45660606, -0.20977123, -0.29119715,\n",
       "         -0.15928662],\n",
       "        [-0.12504223,  0.41493648, -0.11129061,  0.04782913,  0.06747983,\n",
       "          0.50285643,  0.00862921,  0.05910335,  0.5331735 ,  0.13236488,\n",
       "          0.01713832,  0.26426423,  0.40492147, -0.10499395,  0.33570737,\n",
       "          0.34856334],\n",
       "        [ 0.19060609, -0.18600132,  0.03777538,  0.19738774,  0.13780934,\n",
       "         -0.14118817,  0.10319944, -0.11803403, -0.16371731, -0.17453451,\n",
       "          0.04965238,  0.16259421, -0.08953331,  0.19794574, -0.13168311,\n",
       "         -0.08962827],\n",
       "        [ 0.05488333, -0.38680416,  0.07600876,  0.01046051,  0.00961364,\n",
       "         -0.40662405, -0.01853138, -0.30565938, -0.35172173, -0.29272658,\n",
       "          0.12157708, -0.00355102, -0.23783301,  0.12031946, -0.35570234,\n",
       "         -0.26152736],\n",
       "        [-0.00415338,  0.23412658,  0.08885452, -0.15688242, -0.00157939,\n",
       "          0.23542127, -0.07089283,  0.2187986 ,  0.3637134 ,  0.03314621,\n",
       "         -0.18075264,  0.06607936,  0.04807728,  0.04502412,  0.16793302,\n",
       "          0.01515547],\n",
       "        [-0.23696679,  0.2667443 , -0.23755841, -0.20846537, -0.22560042,\n",
       "          0.23997937, -0.23906182, -0.5454968 , -0.04111914, -0.72466594,\n",
       "         -0.23759112, -0.22816855, -0.09991649, -0.22669794,  0.23200712,\n",
       "         -0.14164609],\n",
       "        [-0.2020077 ,  0.38595057, -0.11163437, -0.29531214, -0.27263963,\n",
       "          0.35661983,  0.00920549,  0.08184132,  0.44757578,  0.19941424,\n",
       "         -0.00179768, -0.05792261,  0.64605427, -0.17825079,  0.35676473,\n",
       "          0.65970635],\n",
       "        [ 0.2011123 , -0.23513481,  0.13791035,  0.30484134,  0.3316167 ,\n",
       "         -0.22017889,  0.17758688, -0.44974813, -0.2191959 , -0.46701384,\n",
       "          0.12167674,  0.3022279 , -0.20135921,  0.2090508 , -0.24465252,\n",
       "         -0.24896376],\n",
       "        [ 0.14009607, -0.0832931 , -0.11248929,  0.20467454,  0.11859641,\n",
       "         -0.13559277,  0.16070655, -0.53207433, -0.13495189, -0.0084854 ,\n",
       "         -0.3219548 ,  0.03955631, -0.01872962, -0.07189006,  0.11005268,\n",
       "         -0.34502128],\n",
       "        [-0.13116467,  0.13635069, -0.16347048, -0.1901961 , -0.18500963,\n",
       "          0.07986458, -0.1826766 ,  0.34689164,  0.21837626,  0.15275158,\n",
       "         -0.16899684, -0.2503745 ,  0.133803  , -0.16791442,  0.10262064,\n",
       "          0.24090835],\n",
       "        [ 0.23740642, -0.32606253,  0.17051987, -0.33112097, -0.26749325,\n",
       "         -0.32657638,  0.14315903, -0.3859778 , -0.3649868 , -0.26434484,\n",
       "         -0.04642634, -0.4077056 , -0.39065936,  0.17187944, -0.3425851 ,\n",
       "         -0.415165  ],\n",
       "        [-0.02835397, -0.07794255,  0.17033458,  0.08025914,  0.21382967,\n",
       "         -0.08325472, -0.02620878, -0.14220613, -0.04327871, -0.16771516,\n",
       "          0.25559598,  0.16433214, -0.09481982,  0.15307531, -0.22412694,\n",
       "          0.03464169]], dtype=float32),\n",
       " array([0.44711408, 0.6362816 , 0.36585367, 0.4286178 , 0.36346984,\n",
       "        1.0690982 , 0.49804026, 0.39229742, 0.38216546, 0.31611726,\n",
       "        0.5550557 , 0.30697677, 1.9570084 , 0.36862335, 0.4408114 ,\n",
       "        2.1303406 ], dtype=float32),\n",
       " array([17.341787, 17.393932, 17.356134, 17.431768, 17.298761, 17.471413,\n",
       "        17.384392, 17.368528, 17.323015, 17.437073, 17.423048, 17.29114 ,\n",
       "        17.59022 , 17.294758, 17.343538, 17.501968], dtype=float32),\n",
       " array([-18.737703,  18.766344, -18.745289, -18.855215, -18.704231,\n",
       "         18.78249 , -18.793083,  18.775547,  18.719358,  18.7939  ,\n",
       "        -18.854803, -18.72403 ,  18.751083, -18.694588,  18.68462 ,\n",
       "         18.788498], dtype=float32),\n",
       " array([2.3769405, 4.0957184, 2.2814634, 1.9404471, 2.3680446, 3.7883596,\n",
       "        2.8787007, 4.1092043, 4.239359 , 2.763193 , 2.7928014, 3.090628 ,\n",
       "        7.341777 , 2.465797 , 4.0412564, 7.265166 ], dtype=float32),\n",
       " array([1.0536699 , 3.5984952 , 0.9854451 , 1.3793819 , 1.6305902 ,\n",
       "        2.7343507 , 1.9698937 , 6.321671  , 5.402031  , 8.452819  ,\n",
       "        1.8506556 , 3.4856503 , 0.42359918, 1.3194497 , 3.061737  ,\n",
       "        0.5199639 ], dtype=float32),\n",
       " array([[-18.711218],\n",
       "        [ 18.613491],\n",
       "        [-18.686348],\n",
       "        [-18.437962],\n",
       "        [-18.85843 ],\n",
       "        [ 18.595905],\n",
       "        [-18.540764],\n",
       "        [ 18.567513],\n",
       "        [ 18.776773],\n",
       "        [ 18.55674 ],\n",
       "        [-18.45637 ],\n",
       "        [-18.7587  ],\n",
       "        [ 18.70248 ],\n",
       "        [-18.93065 ],\n",
       "        [ 19.009459],\n",
       "        [ 18.568823]], dtype=float32),\n",
       " array([18.361841], dtype=float32)]"
      ]
     },
     "execution_count": 10,
     "metadata": {},
     "output_type": "execute_result"
    }
   ],
   "source": [
    "model.get_weights()"
   ]
  },
  {
   "cell_type": "code",
   "execution_count": 11,
   "metadata": {},
   "outputs": [
    {
     "name": "stdout",
     "output_type": "stream",
     "text": [
      "1610/1610 [==============================] - 1s 746us/step\n",
      "[[14401.124  ]\n",
      " [ 1169.053  ]\n",
      " [  954.24927]\n",
      " ...\n",
      " [ 1397.0531 ]\n",
      " [ 1186.4763 ]\n",
      " [  920.0883 ]]\n"
     ]
    }
   ],
   "source": [
    "predictions = model.predict(X_test)\n",
    "\n",
    "# Print the predicted prices\n",
    "print(predictions)"
   ]
  },
  {
   "cell_type": "code",
   "execution_count": 12,
   "metadata": {},
   "outputs": [
    {
     "data": {
      "text/plain": [
       "43806     15499.0\n",
       "217182      500.0\n",
       "137747     1640.0\n",
       "74434       500.0\n",
       "55548     12800.0\n",
       "           ...   \n",
       "54430       500.0\n",
       "119793    15499.0\n",
       "139112     1299.0\n",
       "221066      500.0\n",
       "116067      500.0\n",
       "Name: price, Length: 51514, dtype: float64"
      ]
     },
     "execution_count": 12,
     "metadata": {},
     "output_type": "execute_result"
    }
   ],
   "source": [
    "y_test"
   ]
  },
  {
   "cell_type": "code",
   "execution_count": 13,
   "metadata": {},
   "outputs": [
    {
     "data": {
      "application/vnd.plotly.v1+json": {
       "config": {
        "plotlyServerURL": "https://plot.ly"
       },
       "data": [
        {
         "hovertemplate": "variable=loss<br>Epoch=%{x}<br>Loss=%{y}<extra></extra>",
         "legendgroup": "loss",
         "line": {
          "color": "#636efa",
          "dash": "solid"
         },
         "marker": {
          "symbol": "circle"
         },
         "mode": "lines",
         "name": "loss",
         "orientation": "v",
         "showlegend": true,
         "type": "scatter",
         "x": [
          1,
          2,
          3,
          4,
          5,
          6,
          7,
          8,
          9,
          10,
          11,
          12,
          13,
          14,
          15,
          16,
          17,
          18,
          19,
          20,
          21,
          22,
          23,
          24,
          25,
          26,
          27,
          28,
          29,
          30,
          31,
          32,
          33,
          34,
          35,
          36,
          37,
          38,
          39,
          40,
          41,
          42,
          43,
          44,
          45,
          46,
          47,
          48,
          49,
          50,
          51,
          52,
          53,
          54,
          55,
          56,
          57,
          58,
          59,
          60,
          61,
          62,
          63,
          64,
          65,
          66,
          67,
          68,
          69,
          70,
          71,
          72,
          73,
          74,
          75,
          76,
          77,
          78,
          79,
          80,
          81,
          82,
          83,
          84,
          85,
          86,
          87,
          88,
          89,
          90,
          91,
          92,
          93,
          94,
          95,
          96,
          97,
          98,
          99,
          100,
          101,
          102,
          103,
          104,
          105,
          106,
          107,
          108,
          109,
          110,
          111,
          112,
          113,
          114,
          115,
          116,
          117,
          118,
          119,
          120,
          121,
          122,
          123,
          124,
          125,
          126,
          127,
          128,
          129,
          130,
          131,
          132,
          133,
          134,
          135,
          136,
          137,
          138,
          139,
          140,
          141,
          142,
          143,
          144,
          145,
          146,
          147,
          148,
          149,
          150,
          151,
          152,
          153,
          154,
          155,
          156,
          157,
          158,
          159,
          160,
          161,
          162,
          163,
          164,
          165,
          166,
          167,
          168,
          169,
          170,
          171,
          172,
          173,
          174,
          175,
          176,
          177,
          178,
          179,
          180,
          181,
          182,
          183,
          184,
          185,
          186,
          187,
          188,
          189,
          190,
          191,
          192,
          193,
          194,
          195,
          196,
          197,
          198,
          199,
          200,
          201,
          202,
          203,
          204,
          205,
          206,
          207,
          208,
          209,
          210,
          211,
          212,
          213,
          214,
          215,
          216,
          217,
          218,
          219,
          220,
          221,
          222,
          223,
          224,
          225,
          226,
          227,
          228,
          229,
          230,
          231
         ],
         "xaxis": "x",
         "y": [
          55879592,
          55798644,
          55702108,
          55586144,
          55451156,
          55298036,
          55125808,
          54934940,
          54726172,
          54499548,
          54254968,
          53993800,
          53714180,
          53417644,
          53104836,
          52774700,
          52428352,
          52064832,
          51685928,
          51291680,
          50881000,
          50454928,
          50014956,
          49560184,
          49089468,
          48603660,
          48106288,
          47594696,
          47069796,
          46527884,
          45977040,
          45413804,
          44840428,
          44252276,
          43652920,
          43041272,
          42421444,
          41790948,
          41149320,
          40501324,
          39840408,
          39172392,
          38492156,
          37813604,
          37123268,
          36419644,
          35713528,
          35009484,
          34289420,
          33565972,
          32841562,
          32114690,
          31385340,
          30636352,
          29897608,
          29156042,
          28415358,
          27668190,
          26933868,
          26186236,
          25442514,
          24703826,
          23962328,
          23223834,
          22498912,
          21761062,
          21035432,
          20328378,
          19608930,
          18900246,
          18204044,
          17504610,
          16817566,
          16131674,
          15460828,
          14831612,
          14156622,
          13548189,
          12913781,
          12318389,
          11705101,
          11138980,
          10579543,
          10036018,
          9498981,
          8974368,
          8506776,
          8005368,
          7549595,
          7108225,
          6683348,
          6330604.5,
          5936937,
          5584618,
          5249099,
          4953002,
          4649655,
          4420021.5,
          4158695,
          3959600.25,
          3773482,
          3591105.75,
          3425611.5,
          3283593.25,
          3136788.5,
          3052526.5,
          2968263.25,
          2850037.5,
          2761018,
          2721751.25,
          2635521.25,
          2568836.75,
          2525396.25,
          2461569.25,
          2456210,
          2432439.25,
          2396576.25,
          2395722.25,
          2374080.5,
          2358077.75,
          2356794,
          2353847.5,
          2344740,
          2369417,
          2348697.25,
          2330096.5,
          2321150,
          2344689.25,
          2340226.25,
          2330518.25,
          2333906.75,
          2342559.25,
          2334201.75,
          2336838,
          2310411.25,
          2328711.25,
          2332122,
          2323565,
          2316095.25,
          2316120.5,
          2301692,
          2309845.75,
          2298962.5,
          2297400.75,
          2305429.25,
          2285916.5,
          2307854,
          2302520.5,
          2304118,
          2297683.75,
          2305748.5,
          2303347.25,
          2285052.25,
          2299809.75,
          2305477.5,
          2309915,
          2299680,
          2288570.25,
          2282851.25,
          2273659.75,
          2289209,
          2267967.75,
          2287714.75,
          2285325,
          2296729.75,
          2288424.25,
          2254716.5,
          2281108.25,
          2271090.5,
          2279382.25,
          2273762.75,
          2274299,
          2280438.75,
          2262637.25,
          2272340.75,
          2279088.25,
          2259187.5,
          2261484.75,
          2256337.75,
          2259241,
          2255795.25,
          2272853,
          2274741,
          2275753.25,
          2262095,
          2254036.75,
          2273022.75,
          2246369.25,
          2263457,
          2243257.25,
          2269644,
          2258010.5,
          2275258.25,
          2233870.5,
          2254615.5,
          2248218.75,
          2257156.25,
          2242680.5,
          2244235,
          2246776.25,
          2246327,
          2246721.25,
          2240912,
          2258238.75,
          2251865.5,
          2237781.75,
          2254605,
          2231780.75,
          2243438.75,
          2251532.75,
          2244404.5,
          2235581,
          2241663.75,
          2229719.75,
          2236592.5,
          2247203.25,
          2248081,
          2233139.25,
          2231533.25,
          2236226,
          2234719.25,
          2224349.5,
          2224535.75,
          2235361,
          2213403,
          2245093.5,
          2224998.25,
          2235422.25,
          2229468,
          2216771.75,
          2212353.25
         ],
         "yaxis": "y"
        },
        {
         "hovertemplate": "variable=val_loss<br>Epoch=%{x}<br>Loss=%{y}<extra></extra>",
         "legendgroup": "val_loss",
         "line": {
          "color": "#EF553B",
          "dash": "solid"
         },
         "marker": {
          "symbol": "circle"
         },
         "mode": "lines",
         "name": "val_loss",
         "orientation": "v",
         "showlegend": true,
         "type": "scatter",
         "x": [
          1,
          2,
          3,
          4,
          5,
          6,
          7,
          8,
          9,
          10,
          11,
          12,
          13,
          14,
          15,
          16,
          17,
          18,
          19,
          20,
          21,
          22,
          23,
          24,
          25,
          26,
          27,
          28,
          29,
          30,
          31,
          32,
          33,
          34,
          35,
          36,
          37,
          38,
          39,
          40,
          41,
          42,
          43,
          44,
          45,
          46,
          47,
          48,
          49,
          50,
          51,
          52,
          53,
          54,
          55,
          56,
          57,
          58,
          59,
          60,
          61,
          62,
          63,
          64,
          65,
          66,
          67,
          68,
          69,
          70,
          71,
          72,
          73,
          74,
          75,
          76,
          77,
          78,
          79,
          80,
          81,
          82,
          83,
          84,
          85,
          86,
          87,
          88,
          89,
          90,
          91,
          92,
          93,
          94,
          95,
          96,
          97,
          98,
          99,
          100,
          101,
          102,
          103,
          104,
          105,
          106,
          107,
          108,
          109,
          110,
          111,
          112,
          113,
          114,
          115,
          116,
          117,
          118,
          119,
          120,
          121,
          122,
          123,
          124,
          125,
          126,
          127,
          128,
          129,
          130,
          131,
          132,
          133,
          134,
          135,
          136,
          137,
          138,
          139,
          140,
          141,
          142,
          143,
          144,
          145,
          146,
          147,
          148,
          149,
          150,
          151,
          152,
          153,
          154,
          155,
          156,
          157,
          158,
          159,
          160,
          161,
          162,
          163,
          164,
          165,
          166,
          167,
          168,
          169,
          170,
          171,
          172,
          173,
          174,
          175,
          176,
          177,
          178,
          179,
          180,
          181,
          182,
          183,
          184,
          185,
          186,
          187,
          188,
          189,
          190,
          191,
          192,
          193,
          194,
          195,
          196,
          197,
          198,
          199,
          200,
          201,
          202,
          203,
          204,
          205,
          206,
          207,
          208,
          209,
          210,
          211,
          212,
          213,
          214,
          215,
          216,
          217,
          218,
          219,
          220,
          221,
          222,
          223,
          224,
          225,
          226,
          227,
          228,
          229,
          230,
          231
         ],
         "xaxis": "x",
         "y": [
          55588140,
          55499104,
          55389856,
          55271820,
          55127948,
          54985848,
          54803356,
          54590212,
          54380960,
          54130412,
          53914348,
          53629468,
          53371916,
          53006652,
          52760784,
          52423924,
          52047372,
          51649484,
          51306596,
          50939572,
          50441032,
          50081080,
          49605816,
          49117436,
          48756836,
          48217948,
          47701736,
          47129792,
          46665528,
          46087416,
          45661516,
          45022308,
          44432920,
          43749092,
          43277180,
          42863116,
          42192552,
          41407396,
          40644296,
          40127376,
          39258760,
          38796716,
          38261360,
          37385184,
          36846260,
          36091440,
          35402908,
          34639788,
          33922392,
          33390566,
          32203562,
          31745844,
          31074044,
          30299510,
          29670812,
          28856418,
          28537978,
          27221432,
          26605366,
          26094002,
          25048106,
          24365344,
          23970772,
          22701752,
          22166564,
          21730890,
          20794544,
          20126222,
          19431276,
          18932502,
          18148078,
          17256700,
          16756557,
          15697519,
          15263471,
          14950880,
          13778025,
          13723258,
          12762791,
          12320652,
          11569702,
          11110327,
          10498713,
          10336015,
          9577239,
          8879139,
          8480673,
          8122997,
          7682238,
          7043167,
          6888571.5,
          6464928.5,
          6085126,
          5650107.5,
          5120326,
          5050646,
          4608327,
          4387599.5,
          4215027,
          4022518.25,
          3862314.75,
          3490106,
          3435049,
          3318979.5,
          3296160.5,
          3186626.25,
          3120462.5,
          3020180.25,
          2891817.5,
          2884640.75,
          2866306.75,
          2851133.5,
          2845544,
          2749897.5,
          2897440,
          2792682.75,
          2769452,
          2692051.5,
          2918907.25,
          2786907.75,
          2750484.75,
          2690978,
          2689734.5,
          2756986.75,
          2724000.75,
          2763863.5,
          2692626,
          2806257.75,
          2882972.25,
          2713486,
          2632428,
          2701943.75,
          2736152,
          2655739.75,
          2725475,
          2788000.25,
          2635756,
          2857617,
          2828328.25,
          2729601.5,
          2789387.75,
          2781769,
          2756617,
          2870314,
          2651266.25,
          2783642.75,
          2711357.25,
          2756502.25,
          2766127.5,
          2790276,
          2915945.5,
          2640990.25,
          2888845.25,
          2882171.75,
          2856278.5,
          2795552.75,
          2858573.25,
          2805901.75,
          2860434.75,
          2774964.5,
          2874538.75,
          2954653,
          2816761.25,
          2848731.25,
          2636239.5,
          2750350.75,
          2753218,
          2878554.5,
          2960281.25,
          2680231.75,
          2887160.25,
          2776445.25,
          2797708.75,
          2825496.25,
          2858920.75,
          2858741.75,
          2698884.25,
          2788632.25,
          2686765.5,
          2738314.75,
          2700352.5,
          2813246,
          2797505,
          2796555.75,
          2751935.75,
          3241597.25,
          2782959,
          2749242.75,
          3130386.5,
          2950631.25,
          2709899,
          2718299,
          2817075.25,
          2811648.5,
          2735110.75,
          2869934.5,
          3363901.75,
          4630202,
          3828547.25,
          3588274.5,
          3287453.5,
          2902190.5,
          3517502.25,
          2962286.75,
          2874313.5,
          2952911.5,
          3700896,
          2982849,
          2894248.75,
          3311135.5,
          4802382.5,
          3633328.75,
          2858036,
          2784453.5,
          2866081,
          2689962,
          2826723.5,
          3513467.25,
          2966780.5,
          2853442,
          3169761,
          2790732.25,
          2787670.75,
          2837973.75,
          2827165.25,
          2796662.75,
          2973365.75,
          2980824.25,
          2925684.5,
          3987468,
          2970165.75
         ],
         "yaxis": "y"
        }
       ],
       "layout": {
        "legend": {
         "title": {
          "text": "variable"
         },
         "tracegroupgap": 0
        },
        "template": {
         "data": {
          "bar": [
           {
            "error_x": {
             "color": "#2a3f5f"
            },
            "error_y": {
             "color": "#2a3f5f"
            },
            "marker": {
             "line": {
              "color": "#E5ECF6",
              "width": 0.5
             },
             "pattern": {
              "fillmode": "overlay",
              "size": 10,
              "solidity": 0.2
             }
            },
            "type": "bar"
           }
          ],
          "barpolar": [
           {
            "marker": {
             "line": {
              "color": "#E5ECF6",
              "width": 0.5
             },
             "pattern": {
              "fillmode": "overlay",
              "size": 10,
              "solidity": 0.2
             }
            },
            "type": "barpolar"
           }
          ],
          "carpet": [
           {
            "aaxis": {
             "endlinecolor": "#2a3f5f",
             "gridcolor": "white",
             "linecolor": "white",
             "minorgridcolor": "white",
             "startlinecolor": "#2a3f5f"
            },
            "baxis": {
             "endlinecolor": "#2a3f5f",
             "gridcolor": "white",
             "linecolor": "white",
             "minorgridcolor": "white",
             "startlinecolor": "#2a3f5f"
            },
            "type": "carpet"
           }
          ],
          "choropleth": [
           {
            "colorbar": {
             "outlinewidth": 0,
             "ticks": ""
            },
            "type": "choropleth"
           }
          ],
          "contour": [
           {
            "colorbar": {
             "outlinewidth": 0,
             "ticks": ""
            },
            "colorscale": [
             [
              0,
              "#0d0887"
             ],
             [
              0.1111111111111111,
              "#46039f"
             ],
             [
              0.2222222222222222,
              "#7201a8"
             ],
             [
              0.3333333333333333,
              "#9c179e"
             ],
             [
              0.4444444444444444,
              "#bd3786"
             ],
             [
              0.5555555555555556,
              "#d8576b"
             ],
             [
              0.6666666666666666,
              "#ed7953"
             ],
             [
              0.7777777777777778,
              "#fb9f3a"
             ],
             [
              0.8888888888888888,
              "#fdca26"
             ],
             [
              1,
              "#f0f921"
             ]
            ],
            "type": "contour"
           }
          ],
          "contourcarpet": [
           {
            "colorbar": {
             "outlinewidth": 0,
             "ticks": ""
            },
            "type": "contourcarpet"
           }
          ],
          "heatmap": [
           {
            "colorbar": {
             "outlinewidth": 0,
             "ticks": ""
            },
            "colorscale": [
             [
              0,
              "#0d0887"
             ],
             [
              0.1111111111111111,
              "#46039f"
             ],
             [
              0.2222222222222222,
              "#7201a8"
             ],
             [
              0.3333333333333333,
              "#9c179e"
             ],
             [
              0.4444444444444444,
              "#bd3786"
             ],
             [
              0.5555555555555556,
              "#d8576b"
             ],
             [
              0.6666666666666666,
              "#ed7953"
             ],
             [
              0.7777777777777778,
              "#fb9f3a"
             ],
             [
              0.8888888888888888,
              "#fdca26"
             ],
             [
              1,
              "#f0f921"
             ]
            ],
            "type": "heatmap"
           }
          ],
          "heatmapgl": [
           {
            "colorbar": {
             "outlinewidth": 0,
             "ticks": ""
            },
            "colorscale": [
             [
              0,
              "#0d0887"
             ],
             [
              0.1111111111111111,
              "#46039f"
             ],
             [
              0.2222222222222222,
              "#7201a8"
             ],
             [
              0.3333333333333333,
              "#9c179e"
             ],
             [
              0.4444444444444444,
              "#bd3786"
             ],
             [
              0.5555555555555556,
              "#d8576b"
             ],
             [
              0.6666666666666666,
              "#ed7953"
             ],
             [
              0.7777777777777778,
              "#fb9f3a"
             ],
             [
              0.8888888888888888,
              "#fdca26"
             ],
             [
              1,
              "#f0f921"
             ]
            ],
            "type": "heatmapgl"
           }
          ],
          "histogram": [
           {
            "marker": {
             "pattern": {
              "fillmode": "overlay",
              "size": 10,
              "solidity": 0.2
             }
            },
            "type": "histogram"
           }
          ],
          "histogram2d": [
           {
            "colorbar": {
             "outlinewidth": 0,
             "ticks": ""
            },
            "colorscale": [
             [
              0,
              "#0d0887"
             ],
             [
              0.1111111111111111,
              "#46039f"
             ],
             [
              0.2222222222222222,
              "#7201a8"
             ],
             [
              0.3333333333333333,
              "#9c179e"
             ],
             [
              0.4444444444444444,
              "#bd3786"
             ],
             [
              0.5555555555555556,
              "#d8576b"
             ],
             [
              0.6666666666666666,
              "#ed7953"
             ],
             [
              0.7777777777777778,
              "#fb9f3a"
             ],
             [
              0.8888888888888888,
              "#fdca26"
             ],
             [
              1,
              "#f0f921"
             ]
            ],
            "type": "histogram2d"
           }
          ],
          "histogram2dcontour": [
           {
            "colorbar": {
             "outlinewidth": 0,
             "ticks": ""
            },
            "colorscale": [
             [
              0,
              "#0d0887"
             ],
             [
              0.1111111111111111,
              "#46039f"
             ],
             [
              0.2222222222222222,
              "#7201a8"
             ],
             [
              0.3333333333333333,
              "#9c179e"
             ],
             [
              0.4444444444444444,
              "#bd3786"
             ],
             [
              0.5555555555555556,
              "#d8576b"
             ],
             [
              0.6666666666666666,
              "#ed7953"
             ],
             [
              0.7777777777777778,
              "#fb9f3a"
             ],
             [
              0.8888888888888888,
              "#fdca26"
             ],
             [
              1,
              "#f0f921"
             ]
            ],
            "type": "histogram2dcontour"
           }
          ],
          "mesh3d": [
           {
            "colorbar": {
             "outlinewidth": 0,
             "ticks": ""
            },
            "type": "mesh3d"
           }
          ],
          "parcoords": [
           {
            "line": {
             "colorbar": {
              "outlinewidth": 0,
              "ticks": ""
             }
            },
            "type": "parcoords"
           }
          ],
          "pie": [
           {
            "automargin": true,
            "type": "pie"
           }
          ],
          "scatter": [
           {
            "marker": {
             "colorbar": {
              "outlinewidth": 0,
              "ticks": ""
             }
            },
            "type": "scatter"
           }
          ],
          "scatter3d": [
           {
            "line": {
             "colorbar": {
              "outlinewidth": 0,
              "ticks": ""
             }
            },
            "marker": {
             "colorbar": {
              "outlinewidth": 0,
              "ticks": ""
             }
            },
            "type": "scatter3d"
           }
          ],
          "scattercarpet": [
           {
            "marker": {
             "colorbar": {
              "outlinewidth": 0,
              "ticks": ""
             }
            },
            "type": "scattercarpet"
           }
          ],
          "scattergeo": [
           {
            "marker": {
             "colorbar": {
              "outlinewidth": 0,
              "ticks": ""
             }
            },
            "type": "scattergeo"
           }
          ],
          "scattergl": [
           {
            "marker": {
             "colorbar": {
              "outlinewidth": 0,
              "ticks": ""
             }
            },
            "type": "scattergl"
           }
          ],
          "scattermapbox": [
           {
            "marker": {
             "colorbar": {
              "outlinewidth": 0,
              "ticks": ""
             }
            },
            "type": "scattermapbox"
           }
          ],
          "scatterpolar": [
           {
            "marker": {
             "colorbar": {
              "outlinewidth": 0,
              "ticks": ""
             }
            },
            "type": "scatterpolar"
           }
          ],
          "scatterpolargl": [
           {
            "marker": {
             "colorbar": {
              "outlinewidth": 0,
              "ticks": ""
             }
            },
            "type": "scatterpolargl"
           }
          ],
          "scatterternary": [
           {
            "marker": {
             "colorbar": {
              "outlinewidth": 0,
              "ticks": ""
             }
            },
            "type": "scatterternary"
           }
          ],
          "surface": [
           {
            "colorbar": {
             "outlinewidth": 0,
             "ticks": ""
            },
            "colorscale": [
             [
              0,
              "#0d0887"
             ],
             [
              0.1111111111111111,
              "#46039f"
             ],
             [
              0.2222222222222222,
              "#7201a8"
             ],
             [
              0.3333333333333333,
              "#9c179e"
             ],
             [
              0.4444444444444444,
              "#bd3786"
             ],
             [
              0.5555555555555556,
              "#d8576b"
             ],
             [
              0.6666666666666666,
              "#ed7953"
             ],
             [
              0.7777777777777778,
              "#fb9f3a"
             ],
             [
              0.8888888888888888,
              "#fdca26"
             ],
             [
              1,
              "#f0f921"
             ]
            ],
            "type": "surface"
           }
          ],
          "table": [
           {
            "cells": {
             "fill": {
              "color": "#EBF0F8"
             },
             "line": {
              "color": "white"
             }
            },
            "header": {
             "fill": {
              "color": "#C8D4E3"
             },
             "line": {
              "color": "white"
             }
            },
            "type": "table"
           }
          ]
         },
         "layout": {
          "annotationdefaults": {
           "arrowcolor": "#2a3f5f",
           "arrowhead": 0,
           "arrowwidth": 1
          },
          "autotypenumbers": "strict",
          "coloraxis": {
           "colorbar": {
            "outlinewidth": 0,
            "ticks": ""
           }
          },
          "colorscale": {
           "diverging": [
            [
             0,
             "#8e0152"
            ],
            [
             0.1,
             "#c51b7d"
            ],
            [
             0.2,
             "#de77ae"
            ],
            [
             0.3,
             "#f1b6da"
            ],
            [
             0.4,
             "#fde0ef"
            ],
            [
             0.5,
             "#f7f7f7"
            ],
            [
             0.6,
             "#e6f5d0"
            ],
            [
             0.7,
             "#b8e186"
            ],
            [
             0.8,
             "#7fbc41"
            ],
            [
             0.9,
             "#4d9221"
            ],
            [
             1,
             "#276419"
            ]
           ],
           "sequential": [
            [
             0,
             "#0d0887"
            ],
            [
             0.1111111111111111,
             "#46039f"
            ],
            [
             0.2222222222222222,
             "#7201a8"
            ],
            [
             0.3333333333333333,
             "#9c179e"
            ],
            [
             0.4444444444444444,
             "#bd3786"
            ],
            [
             0.5555555555555556,
             "#d8576b"
            ],
            [
             0.6666666666666666,
             "#ed7953"
            ],
            [
             0.7777777777777778,
             "#fb9f3a"
            ],
            [
             0.8888888888888888,
             "#fdca26"
            ],
            [
             1,
             "#f0f921"
            ]
           ],
           "sequentialminus": [
            [
             0,
             "#0d0887"
            ],
            [
             0.1111111111111111,
             "#46039f"
            ],
            [
             0.2222222222222222,
             "#7201a8"
            ],
            [
             0.3333333333333333,
             "#9c179e"
            ],
            [
             0.4444444444444444,
             "#bd3786"
            ],
            [
             0.5555555555555556,
             "#d8576b"
            ],
            [
             0.6666666666666666,
             "#ed7953"
            ],
            [
             0.7777777777777778,
             "#fb9f3a"
            ],
            [
             0.8888888888888888,
             "#fdca26"
            ],
            [
             1,
             "#f0f921"
            ]
           ]
          },
          "colorway": [
           "#636efa",
           "#EF553B",
           "#00cc96",
           "#ab63fa",
           "#FFA15A",
           "#19d3f3",
           "#FF6692",
           "#B6E880",
           "#FF97FF",
           "#FECB52"
          ],
          "font": {
           "color": "#2a3f5f"
          },
          "geo": {
           "bgcolor": "white",
           "lakecolor": "white",
           "landcolor": "#E5ECF6",
           "showlakes": true,
           "showland": true,
           "subunitcolor": "white"
          },
          "hoverlabel": {
           "align": "left"
          },
          "hovermode": "closest",
          "mapbox": {
           "style": "light"
          },
          "paper_bgcolor": "white",
          "plot_bgcolor": "#E5ECF6",
          "polar": {
           "angularaxis": {
            "gridcolor": "white",
            "linecolor": "white",
            "ticks": ""
           },
           "bgcolor": "#E5ECF6",
           "radialaxis": {
            "gridcolor": "white",
            "linecolor": "white",
            "ticks": ""
           }
          },
          "scene": {
           "xaxis": {
            "backgroundcolor": "#E5ECF6",
            "gridcolor": "white",
            "gridwidth": 2,
            "linecolor": "white",
            "showbackground": true,
            "ticks": "",
            "zerolinecolor": "white"
           },
           "yaxis": {
            "backgroundcolor": "#E5ECF6",
            "gridcolor": "white",
            "gridwidth": 2,
            "linecolor": "white",
            "showbackground": true,
            "ticks": "",
            "zerolinecolor": "white"
           },
           "zaxis": {
            "backgroundcolor": "#E5ECF6",
            "gridcolor": "white",
            "gridwidth": 2,
            "linecolor": "white",
            "showbackground": true,
            "ticks": "",
            "zerolinecolor": "white"
           }
          },
          "shapedefaults": {
           "line": {
            "color": "#2a3f5f"
           }
          },
          "ternary": {
           "aaxis": {
            "gridcolor": "white",
            "linecolor": "white",
            "ticks": ""
           },
           "baxis": {
            "gridcolor": "white",
            "linecolor": "white",
            "ticks": ""
           },
           "bgcolor": "#E5ECF6",
           "caxis": {
            "gridcolor": "white",
            "linecolor": "white",
            "ticks": ""
           }
          },
          "title": {
           "x": 0.05
          },
          "xaxis": {
           "automargin": true,
           "gridcolor": "white",
           "linecolor": "white",
           "ticks": "",
           "title": {
            "standoff": 15
           },
           "zerolinecolor": "white",
           "zerolinewidth": 2
          },
          "yaxis": {
           "automargin": true,
           "gridcolor": "white",
           "linecolor": "white",
           "ticks": "",
           "title": {
            "standoff": 15
           },
           "zerolinecolor": "white",
           "zerolinewidth": 2
          }
         }
        },
        "title": {
         "text": "Training and Validation Loss"
        },
        "xaxis": {
         "anchor": "y",
         "domain": [
          0,
          1
         ],
         "title": {
          "text": "Epoch"
         }
        },
        "yaxis": {
         "anchor": "x",
         "domain": [
          0,
          1
         ],
         "title": {
          "text": "Loss"
         }
        }
       }
      }
     },
     "metadata": {},
     "output_type": "display_data"
    },
    {
     "data": {
      "application/vnd.plotly.v1+json": {
       "config": {
        "plotlyServerURL": "https://plot.ly"
       },
       "data": [
        {
         "hovertemplate": "variable=mae<br>Epoch=%{x}<br>MAE=%{y}<extra></extra>",
         "legendgroup": "mae",
         "line": {
          "color": "#636efa",
          "dash": "solid"
         },
         "marker": {
          "symbol": "circle"
         },
         "mode": "lines",
         "name": "mae",
         "orientation": "v",
         "showlegend": true,
         "type": "scatter",
         "x": [
          1,
          2,
          3,
          4,
          5,
          6,
          7,
          8,
          9,
          10,
          11,
          12,
          13,
          14,
          15,
          16,
          17,
          18,
          19,
          20,
          21,
          22,
          23,
          24,
          25,
          26,
          27,
          28,
          29,
          30,
          31,
          32,
          33,
          34,
          35,
          36,
          37,
          38,
          39,
          40,
          41,
          42,
          43,
          44,
          45,
          46,
          47,
          48,
          49,
          50,
          51,
          52,
          53,
          54,
          55,
          56,
          57,
          58,
          59,
          60,
          61,
          62,
          63,
          64,
          65,
          66,
          67,
          68,
          69,
          70,
          71,
          72,
          73,
          74,
          75,
          76,
          77,
          78,
          79,
          80,
          81,
          82,
          83,
          84,
          85,
          86,
          87,
          88,
          89,
          90,
          91,
          92,
          93,
          94,
          95,
          96,
          97,
          98,
          99,
          100,
          101,
          102,
          103,
          104,
          105,
          106,
          107,
          108,
          109,
          110,
          111,
          112,
          113,
          114,
          115,
          116,
          117,
          118,
          119,
          120,
          121,
          122,
          123,
          124,
          125,
          126,
          127,
          128,
          129,
          130,
          131,
          132,
          133,
          134,
          135,
          136,
          137,
          138,
          139,
          140,
          141,
          142,
          143,
          144,
          145,
          146,
          147,
          148,
          149,
          150,
          151,
          152,
          153,
          154,
          155,
          156,
          157,
          158,
          159,
          160,
          161,
          162,
          163,
          164,
          165,
          166,
          167,
          168,
          169,
          170,
          171,
          172,
          173,
          174,
          175,
          176,
          177,
          178,
          179,
          180,
          181,
          182,
          183,
          184,
          185,
          186,
          187,
          188,
          189,
          190,
          191,
          192,
          193,
          194,
          195,
          196,
          197,
          198,
          199,
          200,
          201,
          202,
          203,
          204,
          205,
          206,
          207,
          208,
          209,
          210,
          211,
          212,
          213,
          214,
          215,
          216,
          217,
          218,
          219,
          220,
          221,
          222,
          223,
          224,
          225,
          226,
          227,
          228,
          229,
          230,
          231
         ],
         "xaxis": "x",
         "y": [
          5621.04638671875,
          5618.88671875,
          5615.56689453125,
          5611.22265625,
          5605.892578125,
          5599.609375,
          5592.40380859375,
          5584.26708984375,
          5575.21044921875,
          5565.24462890625,
          5554.37353515625,
          5542.59521484375,
          5529.927734375,
          5516.3447265625,
          5501.88427734375,
          5486.546875,
          5470.322265625,
          5453.25146484375,
          5435.34033203125,
          5416.51611328125,
          5396.83642578125,
          5376.32958984375,
          5354.9248046875,
          5332.7041015625,
          5309.5732421875,
          5285.5986328125,
          5260.7744140625,
          5235.0751953125,
          5208.48681640625,
          5181.0576171875,
          5152.85546875,
          5123.68603515625,
          5093.79833984375,
          5062.94091796875,
          5031.33349609375,
          4998.66845703125,
          4965.33349609375,
          4931.1240234375,
          4895.9921875,
          4860.13818359375,
          4823.40283203125,
          4785.85009765625,
          4747.3388671875,
          4708.076171875,
          4667.98681640625,
          4627.02587890625,
          4585.19189453125,
          4542.74658203125,
          4499.228515625,
          4455.12060546875,
          4409.755859375,
          4363.85986328125,
          4317.26416015625,
          4269.69091796875,
          4221.3134765625,
          4172.12548828125,
          4122.12255859375,
          4071.33837890625,
          4019.865234375,
          3967.580322265625,
          3914.077880859375,
          3860.656982421875,
          3805.896484375,
          3750.625,
          3694.484375,
          3637.72216796875,
          3580.13916015625,
          3521.818603515625,
          3462.820068359375,
          3403.2080078125,
          3342.7998046875,
          3282.077392578125,
          3220.814697265625,
          3158.013671875,
          3095.52685546875,
          3033.110595703125,
          2968.089111328125,
          2904.796630859375,
          2839.908935546875,
          2775.724853515625,
          2709.578125,
          2644.73583984375,
          2579.452880859375,
          2513.494873046875,
          2447.318115234375,
          2380.380615234375,
          2316.341796875,
          2250.408203125,
          2184.898193359375,
          2120.19384765625,
          2054.640380859375,
          1995.747314453125,
          1930.9754638671875,
          1871.130859375,
          1809.9906005859375,
          1752.2020263671875,
          1692.8603515625,
          1642.5548095703125,
          1584.3472900390625,
          1535.15966796875,
          1489.54296875,
          1440.528076171875,
          1393.9842529296875,
          1354.044677734375,
          1308.32568359375,
          1278.6903076171875,
          1248.973388671875,
          1210.936767578125,
          1178.4769287109375,
          1158.485107421875,
          1127.266845703125,
          1103.073486328125,
          1087.563720703125,
          1071.3338623046875,
          1065.5992431640625,
          1060.2999267578125,
          1048.2421875,
          1049.088134765625,
          1044.3780517578125,
          1036.87060546875,
          1041.1287841796875,
          1039.8609619140625,
          1038.0115966796875,
          1044.0010986328125,
          1039.4454345703125,
          1034.44921875,
          1032.2994384765625,
          1039.853271484375,
          1039.6251220703125,
          1034.134765625,
          1035.1068115234375,
          1041.1629638671875,
          1037.2183837890625,
          1037.5477294921875,
          1030.8260498046875,
          1035.659912109375,
          1036.6373291015625,
          1034.378662109375,
          1032.104736328125,
          1031.6527099609375,
          1026.98828125,
          1031.0587158203125,
          1029.5489501953125,
          1028.389404296875,
          1031.36767578125,
          1024.288818359375,
          1032.73828125,
          1030.619140625,
          1031.677978515625,
          1029.5531005859375,
          1033.8385009765625,
          1031.1207275390625,
          1026.13623046875,
          1032.0933837890625,
          1032.9639892578125,
          1034.020751953125,
          1031.435302734375,
          1028.0693359375,
          1027.1080322265625,
          1024.302978515625,
          1028.7421875,
          1022.9129028320312,
          1028.520751953125,
          1028.389404296875,
          1031.026123046875,
          1028.3538818359375,
          1017.0836791992188,
          1026.18701171875,
          1022.949951171875,
          1027.18798828125,
          1023.6002807617188,
          1025.214599609375,
          1025.606201171875,
          1021.4948120117188,
          1021.1134643554688,
          1027.819580078125,
          1019.8578491210938,
          1023.4644165039062,
          1020.5889282226562,
          1019.3147583007812,
          1019.7186889648438,
          1024.2913818359375,
          1028.1236572265625,
          1027.5882568359375,
          1023.2526245117188,
          1020.5993041992188,
          1026.677734375,
          1018.1123657226562,
          1022.8479614257812,
          1018.7794189453125,
          1027.4630126953125,
          1021.3363037109375,
          1026.65625,
          1014.0613403320312,
          1022.3401489257812,
          1019.6531372070312,
          1021.8704223632812,
          1018.1419067382812,
          1018.85595703125,
          1019.2543334960938,
          1020.8426513671875,
          1020.4793701171875,
          1018.3092041015625,
          1021.3672485351562,
          1020.6823120117188,
          1015.7263793945312,
          1020.8622436523438,
          1016.9065551757812,
          1020.002197265625,
          1022.9130859375,
          1019.459716796875,
          1017.2723999023438,
          1018.7610473632812,
          1016.6221923828125,
          1017.42529296875,
          1019.572265625,
          1021.6676025390625,
          1016.871337890625,
          1016.8126220703125,
          1019.63671875,
          1016.7259521484375,
          1014.4169311523438,
          1016.9124145507812,
          1017.7443237304688,
          1010.6328125,
          1022.9606323242188,
          1016.547119140625,
          1018.8399658203125,
          1015.2012939453125,
          1012.0615844726562,
          1013.1972045898438
         ],
         "yaxis": "y"
        },
        {
         "hovertemplate": "variable=val_mae<br>Epoch=%{x}<br>MAE=%{y}<extra></extra>",
         "legendgroup": "val_mae",
         "line": {
          "color": "#EF553B",
          "dash": "solid"
         },
         "marker": {
          "symbol": "circle"
         },
         "mode": "lines",
         "name": "val_mae",
         "orientation": "v",
         "showlegend": true,
         "type": "scatter",
         "x": [
          1,
          2,
          3,
          4,
          5,
          6,
          7,
          8,
          9,
          10,
          11,
          12,
          13,
          14,
          15,
          16,
          17,
          18,
          19,
          20,
          21,
          22,
          23,
          24,
          25,
          26,
          27,
          28,
          29,
          30,
          31,
          32,
          33,
          34,
          35,
          36,
          37,
          38,
          39,
          40,
          41,
          42,
          43,
          44,
          45,
          46,
          47,
          48,
          49,
          50,
          51,
          52,
          53,
          54,
          55,
          56,
          57,
          58,
          59,
          60,
          61,
          62,
          63,
          64,
          65,
          66,
          67,
          68,
          69,
          70,
          71,
          72,
          73,
          74,
          75,
          76,
          77,
          78,
          79,
          80,
          81,
          82,
          83,
          84,
          85,
          86,
          87,
          88,
          89,
          90,
          91,
          92,
          93,
          94,
          95,
          96,
          97,
          98,
          99,
          100,
          101,
          102,
          103,
          104,
          105,
          106,
          107,
          108,
          109,
          110,
          111,
          112,
          113,
          114,
          115,
          116,
          117,
          118,
          119,
          120,
          121,
          122,
          123,
          124,
          125,
          126,
          127,
          128,
          129,
          130,
          131,
          132,
          133,
          134,
          135,
          136,
          137,
          138,
          139,
          140,
          141,
          142,
          143,
          144,
          145,
          146,
          147,
          148,
          149,
          150,
          151,
          152,
          153,
          154,
          155,
          156,
          157,
          158,
          159,
          160,
          161,
          162,
          163,
          164,
          165,
          166,
          167,
          168,
          169,
          170,
          171,
          172,
          173,
          174,
          175,
          176,
          177,
          178,
          179,
          180,
          181,
          182,
          183,
          184,
          185,
          186,
          187,
          188,
          189,
          190,
          191,
          192,
          193,
          194,
          195,
          196,
          197,
          198,
          199,
          200,
          201,
          202,
          203,
          204,
          205,
          206,
          207,
          208,
          209,
          210,
          211,
          212,
          213,
          214,
          215,
          216,
          217,
          218,
          219,
          220,
          221,
          222,
          223,
          224,
          225,
          226,
          227,
          228,
          229,
          230,
          231
         ],
         "xaxis": "x",
         "y": [
          5588.3369140625,
          5585.5673828125,
          5581.6298828125,
          5576.78271484375,
          5571.31787109375,
          5564.189453125,
          5556.814453125,
          5547.9326171875,
          5539.0673828125,
          5528.3984375,
          5517.38916015625,
          5504.6708984375,
          5491.93896484375,
          5475.62939453125,
          5461.0810546875,
          5446.1015625,
          5430.45361328125,
          5410.025390625,
          5392.689453125,
          5374.1240234375,
          5351.94140625,
          5335.806640625,
          5310.98681640625,
          5283.4443359375,
          5265.07470703125,
          5237.70703125,
          5211.9912109375,
          5189.59912109375,
          5161.984375,
          5127.6884765625,
          5109.69970703125,
          5076.6787109375,
          5044.86767578125,
          5018.23974609375,
          4967.9013671875,
          4954.8017578125,
          4917.556640625,
          4876.99853515625,
          4830.943359375,
          4827.0986328125,
          4766.76220703125,
          4720.9375,
          4698.76513671875,
          4652.57958984375,
          4618.44482421875,
          4583.06884765625,
          4525.06298828125,
          4473.75,
          4446.11865234375,
          4392.13818359375,
          4316.13330078125,
          4296.595703125,
          4249.85107421875,
          4193.1005859375,
          4151.970703125,
          4137.89453125,
          4067.9169921875,
          4026.763427734375,
          3950.058837890625,
          3890.9638671875,
          3845.53173828125,
          3802.268310546875,
          3762.4990234375,
          3650.595703125,
          3632.996337890625,
          3544.740234375,
          3474.491455078125,
          3430.37548828125,
          3405.57568359375,
          3368.790283203125,
          3284.297119140625,
          3175.563232421875,
          3139.68212890625,
          3009.377197265625,
          3026.75732421875,
          3001.067138671875,
          2850.360107421875,
          2848.30322265625,
          2742.109375,
          2684.306396484375,
          2625.16552734375,
          2522.812744140625,
          2559.422607421875,
          2469.222900390625,
          2352.16650390625,
          2342.156982421875,
          2211.154541015625,
          2209.78173828125,
          2176.0537109375,
          2012.428466796875,
          2022.024169921875,
          1921.176025390625,
          1870.6778564453125,
          1786.71826171875,
          1678.5299072265625,
          1683.7430419921875,
          1604.1124267578125,
          1551.2137451171875,
          1526.0081787109375,
          1464.5421142578125,
          1439.3673095703125,
          1336.1824951171875,
          1314.3519287109375,
          1278.812744140625,
          1250.3289794921875,
          1216.088623046875,
          1184.7005615234375,
          1153.7415771484375,
          1128.9649658203125,
          1123.359619140625,
          1114.0767822265625,
          1109.1898193359375,
          1100.117919921875,
          1084.335693359375,
          1127.72900390625,
          1095.7318115234375,
          1084.5260009765625,
          1040.5123291015625,
          1174.4410400390625,
          1110.9344482421875,
          1090.3287353515625,
          1065.3380126953125,
          1071.24365234375,
          1085.1981201171875,
          1079.267578125,
          1105.21484375,
          1068.8834228515625,
          1111.930419921875,
          1165.3287353515625,
          1052.947021484375,
          1037.9049072265625,
          1067.3250732421875,
          1084.1739501953125,
          1032.3116455078125,
          1091.7747802734375,
          1115.2877197265625,
          1039.228515625,
          1157.512451171875,
          1133.6990966796875,
          1085.1220703125,
          1122.0936279296875,
          1117.3907470703125,
          1103.9656982421875,
          1153.5081787109375,
          1038.4508056640625,
          1113.7164306640625,
          1081.537841796875,
          1100.214599609375,
          1096.4268798828125,
          1122.4063720703125,
          1170.0716552734375,
          1058.6802978515625,
          1157.218505859375,
          1151.056884765625,
          1145.58740234375,
          1110.2752685546875,
          1133.8232421875,
          1050.9139404296875,
          1136.630859375,
          1103.730712890625,
          1153.6668701171875,
          1028.0576171875,
          1115.2806396484375,
          1146.0184326171875,
          1034.2728271484375,
          1035.408935546875,
          1092.6221923828125,
          1120.3526611328125,
          1189.691650390625,
          1060.47119140625,
          1156.06884765625,
          1098.9208984375,
          1122.615234375,
          1131.4881591796875,
          1146.1082763671875,
          1146.26220703125,
          1077.275146484375,
          1060.6422119140625,
          1074.437255859375,
          1099.644287109375,
          1075.0770263671875,
          1129.93408203125,
          1112.5460205078125,
          1124.010498046875,
          1088.0750732421875,
          1038.4049072265625,
          1110.308349609375,
          1095.8685302734375,
          1042.3125,
          1070.203369140625,
          1083.0662841796875,
          1093.6866455078125,
          1131.9169921875,
          1123.83740234375,
          1046.3538818359375,
          1127.371337890625,
          1062.8179931640625,
          1048.6270751953125,
          1073.4110107421875,
          1054.638427734375,
          1074.6529541015625,
          1130.31591796875,
          1031.33837890625,
          1153.22021484375,
          1099.84814453125,
          1172.877197265625,
          1055.3975830078125,
          1118.14013671875,
          1161.415283203125,
          1067.2615966796875,
          1049.3858642578125,
          1064.5439453125,
          1126.77490234375,
          1109.0313720703125,
          1148.6083984375,
          1048.30078125,
          1078.415771484375,
          1084.697021484375,
          1071.90869140625,
          1099.0609130859375,
          1068.93212890625,
          1111.551513671875,
          1100.91455078125,
          1123.667236328125,
          1074.9713134765625,
          1093.1446533203125,
          1081.704345703125,
          1125.49169921875,
          1082.621337890625,
          1052.0509033203125,
          1146.4903564453125
         ],
         "yaxis": "y"
        }
       ],
       "layout": {
        "legend": {
         "title": {
          "text": "variable"
         },
         "tracegroupgap": 0
        },
        "template": {
         "data": {
          "bar": [
           {
            "error_x": {
             "color": "#2a3f5f"
            },
            "error_y": {
             "color": "#2a3f5f"
            },
            "marker": {
             "line": {
              "color": "#E5ECF6",
              "width": 0.5
             },
             "pattern": {
              "fillmode": "overlay",
              "size": 10,
              "solidity": 0.2
             }
            },
            "type": "bar"
           }
          ],
          "barpolar": [
           {
            "marker": {
             "line": {
              "color": "#E5ECF6",
              "width": 0.5
             },
             "pattern": {
              "fillmode": "overlay",
              "size": 10,
              "solidity": 0.2
             }
            },
            "type": "barpolar"
           }
          ],
          "carpet": [
           {
            "aaxis": {
             "endlinecolor": "#2a3f5f",
             "gridcolor": "white",
             "linecolor": "white",
             "minorgridcolor": "white",
             "startlinecolor": "#2a3f5f"
            },
            "baxis": {
             "endlinecolor": "#2a3f5f",
             "gridcolor": "white",
             "linecolor": "white",
             "minorgridcolor": "white",
             "startlinecolor": "#2a3f5f"
            },
            "type": "carpet"
           }
          ],
          "choropleth": [
           {
            "colorbar": {
             "outlinewidth": 0,
             "ticks": ""
            },
            "type": "choropleth"
           }
          ],
          "contour": [
           {
            "colorbar": {
             "outlinewidth": 0,
             "ticks": ""
            },
            "colorscale": [
             [
              0,
              "#0d0887"
             ],
             [
              0.1111111111111111,
              "#46039f"
             ],
             [
              0.2222222222222222,
              "#7201a8"
             ],
             [
              0.3333333333333333,
              "#9c179e"
             ],
             [
              0.4444444444444444,
              "#bd3786"
             ],
             [
              0.5555555555555556,
              "#d8576b"
             ],
             [
              0.6666666666666666,
              "#ed7953"
             ],
             [
              0.7777777777777778,
              "#fb9f3a"
             ],
             [
              0.8888888888888888,
              "#fdca26"
             ],
             [
              1,
              "#f0f921"
             ]
            ],
            "type": "contour"
           }
          ],
          "contourcarpet": [
           {
            "colorbar": {
             "outlinewidth": 0,
             "ticks": ""
            },
            "type": "contourcarpet"
           }
          ],
          "heatmap": [
           {
            "colorbar": {
             "outlinewidth": 0,
             "ticks": ""
            },
            "colorscale": [
             [
              0,
              "#0d0887"
             ],
             [
              0.1111111111111111,
              "#46039f"
             ],
             [
              0.2222222222222222,
              "#7201a8"
             ],
             [
              0.3333333333333333,
              "#9c179e"
             ],
             [
              0.4444444444444444,
              "#bd3786"
             ],
             [
              0.5555555555555556,
              "#d8576b"
             ],
             [
              0.6666666666666666,
              "#ed7953"
             ],
             [
              0.7777777777777778,
              "#fb9f3a"
             ],
             [
              0.8888888888888888,
              "#fdca26"
             ],
             [
              1,
              "#f0f921"
             ]
            ],
            "type": "heatmap"
           }
          ],
          "heatmapgl": [
           {
            "colorbar": {
             "outlinewidth": 0,
             "ticks": ""
            },
            "colorscale": [
             [
              0,
              "#0d0887"
             ],
             [
              0.1111111111111111,
              "#46039f"
             ],
             [
              0.2222222222222222,
              "#7201a8"
             ],
             [
              0.3333333333333333,
              "#9c179e"
             ],
             [
              0.4444444444444444,
              "#bd3786"
             ],
             [
              0.5555555555555556,
              "#d8576b"
             ],
             [
              0.6666666666666666,
              "#ed7953"
             ],
             [
              0.7777777777777778,
              "#fb9f3a"
             ],
             [
              0.8888888888888888,
              "#fdca26"
             ],
             [
              1,
              "#f0f921"
             ]
            ],
            "type": "heatmapgl"
           }
          ],
          "histogram": [
           {
            "marker": {
             "pattern": {
              "fillmode": "overlay",
              "size": 10,
              "solidity": 0.2
             }
            },
            "type": "histogram"
           }
          ],
          "histogram2d": [
           {
            "colorbar": {
             "outlinewidth": 0,
             "ticks": ""
            },
            "colorscale": [
             [
              0,
              "#0d0887"
             ],
             [
              0.1111111111111111,
              "#46039f"
             ],
             [
              0.2222222222222222,
              "#7201a8"
             ],
             [
              0.3333333333333333,
              "#9c179e"
             ],
             [
              0.4444444444444444,
              "#bd3786"
             ],
             [
              0.5555555555555556,
              "#d8576b"
             ],
             [
              0.6666666666666666,
              "#ed7953"
             ],
             [
              0.7777777777777778,
              "#fb9f3a"
             ],
             [
              0.8888888888888888,
              "#fdca26"
             ],
             [
              1,
              "#f0f921"
             ]
            ],
            "type": "histogram2d"
           }
          ],
          "histogram2dcontour": [
           {
            "colorbar": {
             "outlinewidth": 0,
             "ticks": ""
            },
            "colorscale": [
             [
              0,
              "#0d0887"
             ],
             [
              0.1111111111111111,
              "#46039f"
             ],
             [
              0.2222222222222222,
              "#7201a8"
             ],
             [
              0.3333333333333333,
              "#9c179e"
             ],
             [
              0.4444444444444444,
              "#bd3786"
             ],
             [
              0.5555555555555556,
              "#d8576b"
             ],
             [
              0.6666666666666666,
              "#ed7953"
             ],
             [
              0.7777777777777778,
              "#fb9f3a"
             ],
             [
              0.8888888888888888,
              "#fdca26"
             ],
             [
              1,
              "#f0f921"
             ]
            ],
            "type": "histogram2dcontour"
           }
          ],
          "mesh3d": [
           {
            "colorbar": {
             "outlinewidth": 0,
             "ticks": ""
            },
            "type": "mesh3d"
           }
          ],
          "parcoords": [
           {
            "line": {
             "colorbar": {
              "outlinewidth": 0,
              "ticks": ""
             }
            },
            "type": "parcoords"
           }
          ],
          "pie": [
           {
            "automargin": true,
            "type": "pie"
           }
          ],
          "scatter": [
           {
            "marker": {
             "colorbar": {
              "outlinewidth": 0,
              "ticks": ""
             }
            },
            "type": "scatter"
           }
          ],
          "scatter3d": [
           {
            "line": {
             "colorbar": {
              "outlinewidth": 0,
              "ticks": ""
             }
            },
            "marker": {
             "colorbar": {
              "outlinewidth": 0,
              "ticks": ""
             }
            },
            "type": "scatter3d"
           }
          ],
          "scattercarpet": [
           {
            "marker": {
             "colorbar": {
              "outlinewidth": 0,
              "ticks": ""
             }
            },
            "type": "scattercarpet"
           }
          ],
          "scattergeo": [
           {
            "marker": {
             "colorbar": {
              "outlinewidth": 0,
              "ticks": ""
             }
            },
            "type": "scattergeo"
           }
          ],
          "scattergl": [
           {
            "marker": {
             "colorbar": {
              "outlinewidth": 0,
              "ticks": ""
             }
            },
            "type": "scattergl"
           }
          ],
          "scattermapbox": [
           {
            "marker": {
             "colorbar": {
              "outlinewidth": 0,
              "ticks": ""
             }
            },
            "type": "scattermapbox"
           }
          ],
          "scatterpolar": [
           {
            "marker": {
             "colorbar": {
              "outlinewidth": 0,
              "ticks": ""
             }
            },
            "type": "scatterpolar"
           }
          ],
          "scatterpolargl": [
           {
            "marker": {
             "colorbar": {
              "outlinewidth": 0,
              "ticks": ""
             }
            },
            "type": "scatterpolargl"
           }
          ],
          "scatterternary": [
           {
            "marker": {
             "colorbar": {
              "outlinewidth": 0,
              "ticks": ""
             }
            },
            "type": "scatterternary"
           }
          ],
          "surface": [
           {
            "colorbar": {
             "outlinewidth": 0,
             "ticks": ""
            },
            "colorscale": [
             [
              0,
              "#0d0887"
             ],
             [
              0.1111111111111111,
              "#46039f"
             ],
             [
              0.2222222222222222,
              "#7201a8"
             ],
             [
              0.3333333333333333,
              "#9c179e"
             ],
             [
              0.4444444444444444,
              "#bd3786"
             ],
             [
              0.5555555555555556,
              "#d8576b"
             ],
             [
              0.6666666666666666,
              "#ed7953"
             ],
             [
              0.7777777777777778,
              "#fb9f3a"
             ],
             [
              0.8888888888888888,
              "#fdca26"
             ],
             [
              1,
              "#f0f921"
             ]
            ],
            "type": "surface"
           }
          ],
          "table": [
           {
            "cells": {
             "fill": {
              "color": "#EBF0F8"
             },
             "line": {
              "color": "white"
             }
            },
            "header": {
             "fill": {
              "color": "#C8D4E3"
             },
             "line": {
              "color": "white"
             }
            },
            "type": "table"
           }
          ]
         },
         "layout": {
          "annotationdefaults": {
           "arrowcolor": "#2a3f5f",
           "arrowhead": 0,
           "arrowwidth": 1
          },
          "autotypenumbers": "strict",
          "coloraxis": {
           "colorbar": {
            "outlinewidth": 0,
            "ticks": ""
           }
          },
          "colorscale": {
           "diverging": [
            [
             0,
             "#8e0152"
            ],
            [
             0.1,
             "#c51b7d"
            ],
            [
             0.2,
             "#de77ae"
            ],
            [
             0.3,
             "#f1b6da"
            ],
            [
             0.4,
             "#fde0ef"
            ],
            [
             0.5,
             "#f7f7f7"
            ],
            [
             0.6,
             "#e6f5d0"
            ],
            [
             0.7,
             "#b8e186"
            ],
            [
             0.8,
             "#7fbc41"
            ],
            [
             0.9,
             "#4d9221"
            ],
            [
             1,
             "#276419"
            ]
           ],
           "sequential": [
            [
             0,
             "#0d0887"
            ],
            [
             0.1111111111111111,
             "#46039f"
            ],
            [
             0.2222222222222222,
             "#7201a8"
            ],
            [
             0.3333333333333333,
             "#9c179e"
            ],
            [
             0.4444444444444444,
             "#bd3786"
            ],
            [
             0.5555555555555556,
             "#d8576b"
            ],
            [
             0.6666666666666666,
             "#ed7953"
            ],
            [
             0.7777777777777778,
             "#fb9f3a"
            ],
            [
             0.8888888888888888,
             "#fdca26"
            ],
            [
             1,
             "#f0f921"
            ]
           ],
           "sequentialminus": [
            [
             0,
             "#0d0887"
            ],
            [
             0.1111111111111111,
             "#46039f"
            ],
            [
             0.2222222222222222,
             "#7201a8"
            ],
            [
             0.3333333333333333,
             "#9c179e"
            ],
            [
             0.4444444444444444,
             "#bd3786"
            ],
            [
             0.5555555555555556,
             "#d8576b"
            ],
            [
             0.6666666666666666,
             "#ed7953"
            ],
            [
             0.7777777777777778,
             "#fb9f3a"
            ],
            [
             0.8888888888888888,
             "#fdca26"
            ],
            [
             1,
             "#f0f921"
            ]
           ]
          },
          "colorway": [
           "#636efa",
           "#EF553B",
           "#00cc96",
           "#ab63fa",
           "#FFA15A",
           "#19d3f3",
           "#FF6692",
           "#B6E880",
           "#FF97FF",
           "#FECB52"
          ],
          "font": {
           "color": "#2a3f5f"
          },
          "geo": {
           "bgcolor": "white",
           "lakecolor": "white",
           "landcolor": "#E5ECF6",
           "showlakes": true,
           "showland": true,
           "subunitcolor": "white"
          },
          "hoverlabel": {
           "align": "left"
          },
          "hovermode": "closest",
          "mapbox": {
           "style": "light"
          },
          "paper_bgcolor": "white",
          "plot_bgcolor": "#E5ECF6",
          "polar": {
           "angularaxis": {
            "gridcolor": "white",
            "linecolor": "white",
            "ticks": ""
           },
           "bgcolor": "#E5ECF6",
           "radialaxis": {
            "gridcolor": "white",
            "linecolor": "white",
            "ticks": ""
           }
          },
          "scene": {
           "xaxis": {
            "backgroundcolor": "#E5ECF6",
            "gridcolor": "white",
            "gridwidth": 2,
            "linecolor": "white",
            "showbackground": true,
            "ticks": "",
            "zerolinecolor": "white"
           },
           "yaxis": {
            "backgroundcolor": "#E5ECF6",
            "gridcolor": "white",
            "gridwidth": 2,
            "linecolor": "white",
            "showbackground": true,
            "ticks": "",
            "zerolinecolor": "white"
           },
           "zaxis": {
            "backgroundcolor": "#E5ECF6",
            "gridcolor": "white",
            "gridwidth": 2,
            "linecolor": "white",
            "showbackground": true,
            "ticks": "",
            "zerolinecolor": "white"
           }
          },
          "shapedefaults": {
           "line": {
            "color": "#2a3f5f"
           }
          },
          "ternary": {
           "aaxis": {
            "gridcolor": "white",
            "linecolor": "white",
            "ticks": ""
           },
           "baxis": {
            "gridcolor": "white",
            "linecolor": "white",
            "ticks": ""
           },
           "bgcolor": "#E5ECF6",
           "caxis": {
            "gridcolor": "white",
            "linecolor": "white",
            "ticks": ""
           }
          },
          "title": {
           "x": 0.05
          },
          "xaxis": {
           "automargin": true,
           "gridcolor": "white",
           "linecolor": "white",
           "ticks": "",
           "title": {
            "standoff": 15
           },
           "zerolinecolor": "white",
           "zerolinewidth": 2
          },
          "yaxis": {
           "automargin": true,
           "gridcolor": "white",
           "linecolor": "white",
           "ticks": "",
           "title": {
            "standoff": 15
           },
           "zerolinecolor": "white",
           "zerolinewidth": 2
          }
         }
        },
        "title": {
         "text": "Training and Validation MAE"
        },
        "xaxis": {
         "anchor": "y",
         "domain": [
          0,
          1
         ],
         "title": {
          "text": "Epoch"
         }
        },
        "yaxis": {
         "anchor": "x",
         "domain": [
          0,
          1
         ],
         "title": {
          "text": "MAE"
         }
        }
       }
      }
     },
     "metadata": {},
     "output_type": "display_data"
    }
   ],
   "source": [
    "import plotly.express as px\n",
    "import pandas as pd\n",
    "\n",
    "# create a dataframe with the training history\n",
    "df_graph = pd.DataFrame(history.history)\n",
    "\n",
    "# create line charts for loss and MAE\n",
    "fig = px.line(df_graph, x=df_graph.index+1, y=['loss', 'val_loss'], labels={'x':'Epoch', 'value':'Loss'},\n",
    "              title='Training and Validation Loss')\n",
    "fig.update_traces(mode='lines')\n",
    "fig.show()\n",
    "\n",
    "fig = px.line(df_graph, x=df_graph.index+1, y=['mae', 'val_mae'], labels={'x':'Epoch', 'value':'MAE'},\n",
    "              title='Training and Validation MAE')\n",
    "fig.update_traces(mode='lines')\n",
    "fig.show()"
   ]
  }
 ],
 "metadata": {
  "kernelspec": {
   "display_name": "base",
   "language": "python",
   "name": "python3"
  },
  "language_info": {
   "codemirror_mode": {
    "name": "ipython",
    "version": 3
   },
   "file_extension": ".py",
   "mimetype": "text/x-python",
   "name": "python",
   "nbconvert_exporter": "python",
   "pygments_lexer": "ipython3",
   "version": "3.9.12"
  },
  "orig_nbformat": 4,
  "vscode": {
   "interpreter": {
    "hash": "8891f3cfb547db503e78f25128202364d60f1c09259e140a1bd236c27b0b7a43"
   }
  }
 },
 "nbformat": 4,
 "nbformat_minor": 2
}
