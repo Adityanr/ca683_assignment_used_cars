{
 "cells": [
  {
   "cell_type": "code",
   "execution_count": 16,
   "metadata": {},
   "outputs": [],
   "source": [
    "import pandas as pd\n",
    "from sklearn.model_selection import train_test_split\n",
    "from sklearn.metrics import r2_score\n",
    "import keras.backend as K\n",
    "# %pip install tensorflow\n",
    "from tensorflow.keras.models import Sequential\n",
    "from tensorflow.keras.layers import Dense\n",
    "from tensorflow.keras.layers import Dropout\n",
    "from tensorflow.keras.callbacks import EarlyStopping\n",
    "import tensorflow as tf\n",
    "from tensorflow.keras.callbacks import ModelCheckpoint"
   ]
  },
  {
   "cell_type": "code",
   "execution_count": 17,
   "metadata": {},
   "outputs": [],
   "source": [
    "df = pd.read_csv('../../Dataset/cleaned_used_cars_v1.csv')"
   ]
  },
  {
   "cell_type": "code",
   "execution_count": 18,
   "metadata": {},
   "outputs": [
    {
     "data": {
      "text/plain": [
       "(207735, 12)"
      ]
     },
     "execution_count": 18,
     "metadata": {},
     "output_type": "execute_result"
    }
   ],
   "source": [
    "df.shape"
   ]
  },
  {
   "cell_type": "code",
   "execution_count": 19,
   "metadata": {},
   "outputs": [],
   "source": [
    "# dummies = pd.get_dummies(df.drop(['dateCrawled','lastSeen','dateCreated','name'], axis=1), columns=['seller', 'offerType','abtest','vehicleType','gearbox','model','fuelType','brand','notRepairedDamage'])\n",
    "# df_preprocessed = pd.concat([df.drop(['price','index','dateCrawled','lastSeen','yearOfRegistration','monthOfRegistration','nrOfPictures','postalCode',\n",
    "#              'name','seller','offerType','abtest','vehicleType','gearbox','model','fuelType','brand','notRepairedDamage','dateCreated'], axis=1),\n",
    "#                              dummies], axis=1)\n",
    "onehot_columns = ['abtest','vehicleType','gearbox','model','fuelType','brand','notRepairedDamage']\n",
    "onehot_df = df[onehot_columns]\n",
    "onehot_df = pd.get_dummies(onehot_df, columns = onehot_columns)\n",
    "score_onehot_drop = df.drop(onehot_columns, axis = 1)\n",
    "score_onehot = pd.concat([score_onehot_drop, onehot_df], axis = 1)\n",
    "df_preprocessed = score_onehot"
   ]
  },
  {
   "cell_type": "code",
   "execution_count": 20,
   "metadata": {},
   "outputs": [
    {
     "data": {
      "text/plain": [
       "(207735, 298)"
      ]
     },
     "execution_count": 20,
     "metadata": {},
     "output_type": "execute_result"
    }
   ],
   "source": [
    "df_preprocessed.shape"
   ]
  },
  {
   "cell_type": "code",
   "execution_count": 21,
   "metadata": {},
   "outputs": [
    {
     "data": {
      "text/html": [
       "<div>\n",
       "<style scoped>\n",
       "    .dataframe tbody tr th:only-of-type {\n",
       "        vertical-align: middle;\n",
       "    }\n",
       "\n",
       "    .dataframe tbody tr th {\n",
       "        vertical-align: top;\n",
       "    }\n",
       "\n",
       "    .dataframe thead th {\n",
       "        text-align: right;\n",
       "    }\n",
       "</style>\n",
       "<table border=\"1\" class=\"dataframe\">\n",
       "  <thead>\n",
       "    <tr style=\"text-align: right;\">\n",
       "      <th></th>\n",
       "      <th>price</th>\n",
       "      <th>yearOfRegistration</th>\n",
       "      <th>powerPS</th>\n",
       "      <th>kilometer</th>\n",
       "      <th>monthOfRegistration</th>\n",
       "      <th>abtest_control</th>\n",
       "      <th>abtest_test</th>\n",
       "      <th>vehicleType_compact car</th>\n",
       "      <th>vehicleType_convertible</th>\n",
       "      <th>vehicleType_other</th>\n",
       "      <th>...</th>\n",
       "      <th>brand_skoda</th>\n",
       "      <th>brand_smart</th>\n",
       "      <th>brand_subaru</th>\n",
       "      <th>brand_suzuki</th>\n",
       "      <th>brand_toyota</th>\n",
       "      <th>brand_trabant</th>\n",
       "      <th>brand_volkswagen</th>\n",
       "      <th>brand_volvo</th>\n",
       "      <th>notRepairedDamage_no</th>\n",
       "      <th>notRepairedDamage_yes</th>\n",
       "    </tr>\n",
       "  </thead>\n",
       "  <tbody>\n",
       "    <tr>\n",
       "      <th>0</th>\n",
       "      <td>1500</td>\n",
       "      <td>2001</td>\n",
       "      <td>75</td>\n",
       "      <td>150000</td>\n",
       "      <td>6</td>\n",
       "      <td>0</td>\n",
       "      <td>1</td>\n",
       "      <td>1</td>\n",
       "      <td>0</td>\n",
       "      <td>0</td>\n",
       "      <td>...</td>\n",
       "      <td>0</td>\n",
       "      <td>0</td>\n",
       "      <td>0</td>\n",
       "      <td>0</td>\n",
       "      <td>0</td>\n",
       "      <td>0</td>\n",
       "      <td>1</td>\n",
       "      <td>0</td>\n",
       "      <td>1</td>\n",
       "      <td>0</td>\n",
       "    </tr>\n",
       "    <tr>\n",
       "      <th>1</th>\n",
       "      <td>3600</td>\n",
       "      <td>2008</td>\n",
       "      <td>69</td>\n",
       "      <td>90000</td>\n",
       "      <td>7</td>\n",
       "      <td>0</td>\n",
       "      <td>1</td>\n",
       "      <td>1</td>\n",
       "      <td>0</td>\n",
       "      <td>0</td>\n",
       "      <td>...</td>\n",
       "      <td>1</td>\n",
       "      <td>0</td>\n",
       "      <td>0</td>\n",
       "      <td>0</td>\n",
       "      <td>0</td>\n",
       "      <td>0</td>\n",
       "      <td>0</td>\n",
       "      <td>0</td>\n",
       "      <td>1</td>\n",
       "      <td>0</td>\n",
       "    </tr>\n",
       "    <tr>\n",
       "      <th>2</th>\n",
       "      <td>650</td>\n",
       "      <td>1995</td>\n",
       "      <td>102</td>\n",
       "      <td>150000</td>\n",
       "      <td>10</td>\n",
       "      <td>0</td>\n",
       "      <td>1</td>\n",
       "      <td>0</td>\n",
       "      <td>0</td>\n",
       "      <td>0</td>\n",
       "      <td>...</td>\n",
       "      <td>0</td>\n",
       "      <td>0</td>\n",
       "      <td>0</td>\n",
       "      <td>0</td>\n",
       "      <td>0</td>\n",
       "      <td>0</td>\n",
       "      <td>0</td>\n",
       "      <td>0</td>\n",
       "      <td>0</td>\n",
       "      <td>1</td>\n",
       "    </tr>\n",
       "    <tr>\n",
       "      <th>3</th>\n",
       "      <td>2200</td>\n",
       "      <td>2004</td>\n",
       "      <td>109</td>\n",
       "      <td>150000</td>\n",
       "      <td>8</td>\n",
       "      <td>0</td>\n",
       "      <td>1</td>\n",
       "      <td>0</td>\n",
       "      <td>1</td>\n",
       "      <td>0</td>\n",
       "      <td>...</td>\n",
       "      <td>0</td>\n",
       "      <td>0</td>\n",
       "      <td>0</td>\n",
       "      <td>0</td>\n",
       "      <td>0</td>\n",
       "      <td>0</td>\n",
       "      <td>0</td>\n",
       "      <td>0</td>\n",
       "      <td>1</td>\n",
       "      <td>0</td>\n",
       "    </tr>\n",
       "    <tr>\n",
       "      <th>4</th>\n",
       "      <td>0</td>\n",
       "      <td>1980</td>\n",
       "      <td>50</td>\n",
       "      <td>40000</td>\n",
       "      <td>7</td>\n",
       "      <td>0</td>\n",
       "      <td>1</td>\n",
       "      <td>0</td>\n",
       "      <td>0</td>\n",
       "      <td>0</td>\n",
       "      <td>...</td>\n",
       "      <td>0</td>\n",
       "      <td>0</td>\n",
       "      <td>0</td>\n",
       "      <td>0</td>\n",
       "      <td>0</td>\n",
       "      <td>0</td>\n",
       "      <td>1</td>\n",
       "      <td>0</td>\n",
       "      <td>1</td>\n",
       "      <td>0</td>\n",
       "    </tr>\n",
       "    <tr>\n",
       "      <th>...</th>\n",
       "      <td>...</td>\n",
       "      <td>...</td>\n",
       "      <td>...</td>\n",
       "      <td>...</td>\n",
       "      <td>...</td>\n",
       "      <td>...</td>\n",
       "      <td>...</td>\n",
       "      <td>...</td>\n",
       "      <td>...</td>\n",
       "      <td>...</td>\n",
       "      <td>...</td>\n",
       "      <td>...</td>\n",
       "      <td>...</td>\n",
       "      <td>...</td>\n",
       "      <td>...</td>\n",
       "      <td>...</td>\n",
       "      <td>...</td>\n",
       "      <td>...</td>\n",
       "      <td>...</td>\n",
       "      <td>...</td>\n",
       "      <td>...</td>\n",
       "    </tr>\n",
       "    <tr>\n",
       "      <th>207730</th>\n",
       "      <td>7900</td>\n",
       "      <td>2010</td>\n",
       "      <td>140</td>\n",
       "      <td>150000</td>\n",
       "      <td>7</td>\n",
       "      <td>0</td>\n",
       "      <td>1</td>\n",
       "      <td>0</td>\n",
       "      <td>0</td>\n",
       "      <td>0</td>\n",
       "      <td>...</td>\n",
       "      <td>0</td>\n",
       "      <td>0</td>\n",
       "      <td>0</td>\n",
       "      <td>0</td>\n",
       "      <td>0</td>\n",
       "      <td>0</td>\n",
       "      <td>1</td>\n",
       "      <td>0</td>\n",
       "      <td>1</td>\n",
       "      <td>0</td>\n",
       "    </tr>\n",
       "    <tr>\n",
       "      <th>207731</th>\n",
       "      <td>3999</td>\n",
       "      <td>2005</td>\n",
       "      <td>3</td>\n",
       "      <td>150000</td>\n",
       "      <td>5</td>\n",
       "      <td>0</td>\n",
       "      <td>1</td>\n",
       "      <td>0</td>\n",
       "      <td>0</td>\n",
       "      <td>0</td>\n",
       "      <td>...</td>\n",
       "      <td>0</td>\n",
       "      <td>0</td>\n",
       "      <td>0</td>\n",
       "      <td>0</td>\n",
       "      <td>0</td>\n",
       "      <td>0</td>\n",
       "      <td>0</td>\n",
       "      <td>0</td>\n",
       "      <td>1</td>\n",
       "      <td>0</td>\n",
       "    </tr>\n",
       "    <tr>\n",
       "      <th>207732</th>\n",
       "      <td>3200</td>\n",
       "      <td>2004</td>\n",
       "      <td>225</td>\n",
       "      <td>150000</td>\n",
       "      <td>5</td>\n",
       "      <td>1</td>\n",
       "      <td>0</td>\n",
       "      <td>0</td>\n",
       "      <td>0</td>\n",
       "      <td>0</td>\n",
       "      <td>...</td>\n",
       "      <td>0</td>\n",
       "      <td>0</td>\n",
       "      <td>0</td>\n",
       "      <td>0</td>\n",
       "      <td>0</td>\n",
       "      <td>0</td>\n",
       "      <td>0</td>\n",
       "      <td>0</td>\n",
       "      <td>0</td>\n",
       "      <td>1</td>\n",
       "    </tr>\n",
       "    <tr>\n",
       "      <th>207733</th>\n",
       "      <td>1199</td>\n",
       "      <td>2000</td>\n",
       "      <td>101</td>\n",
       "      <td>125000</td>\n",
       "      <td>3</td>\n",
       "      <td>0</td>\n",
       "      <td>1</td>\n",
       "      <td>0</td>\n",
       "      <td>1</td>\n",
       "      <td>0</td>\n",
       "      <td>...</td>\n",
       "      <td>0</td>\n",
       "      <td>1</td>\n",
       "      <td>0</td>\n",
       "      <td>0</td>\n",
       "      <td>0</td>\n",
       "      <td>0</td>\n",
       "      <td>0</td>\n",
       "      <td>0</td>\n",
       "      <td>1</td>\n",
       "      <td>0</td>\n",
       "    </tr>\n",
       "    <tr>\n",
       "      <th>207734</th>\n",
       "      <td>28990</td>\n",
       "      <td>2013</td>\n",
       "      <td>320</td>\n",
       "      <td>50000</td>\n",
       "      <td>8</td>\n",
       "      <td>1</td>\n",
       "      <td>0</td>\n",
       "      <td>0</td>\n",
       "      <td>0</td>\n",
       "      <td>0</td>\n",
       "      <td>...</td>\n",
       "      <td>0</td>\n",
       "      <td>0</td>\n",
       "      <td>0</td>\n",
       "      <td>0</td>\n",
       "      <td>0</td>\n",
       "      <td>0</td>\n",
       "      <td>0</td>\n",
       "      <td>0</td>\n",
       "      <td>1</td>\n",
       "      <td>0</td>\n",
       "    </tr>\n",
       "  </tbody>\n",
       "</table>\n",
       "<p>207735 rows × 298 columns</p>\n",
       "</div>"
      ],
      "text/plain": [
       "        price  yearOfRegistration  powerPS  kilometer  monthOfRegistration  \\\n",
       "0        1500                2001       75     150000                    6   \n",
       "1        3600                2008       69      90000                    7   \n",
       "2         650                1995      102     150000                   10   \n",
       "3        2200                2004      109     150000                    8   \n",
       "4           0                1980       50      40000                    7   \n",
       "...       ...                 ...      ...        ...                  ...   \n",
       "207730   7900                2010      140     150000                    7   \n",
       "207731   3999                2005        3     150000                    5   \n",
       "207732   3200                2004      225     150000                    5   \n",
       "207733   1199                2000      101     125000                    3   \n",
       "207734  28990                2013      320      50000                    8   \n",
       "\n",
       "        abtest_control  abtest_test  vehicleType_compact car  \\\n",
       "0                    0            1                        1   \n",
       "1                    0            1                        1   \n",
       "2                    0            1                        0   \n",
       "3                    0            1                        0   \n",
       "4                    0            1                        0   \n",
       "...                ...          ...                      ...   \n",
       "207730               0            1                        0   \n",
       "207731               0            1                        0   \n",
       "207732               1            0                        0   \n",
       "207733               0            1                        0   \n",
       "207734               1            0                        0   \n",
       "\n",
       "        vehicleType_convertible  vehicleType_other  ...  brand_skoda  \\\n",
       "0                             0                  0  ...            0   \n",
       "1                             0                  0  ...            1   \n",
       "2                             0                  0  ...            0   \n",
       "3                             1                  0  ...            0   \n",
       "4                             0                  0  ...            0   \n",
       "...                         ...                ...  ...          ...   \n",
       "207730                        0                  0  ...            0   \n",
       "207731                        0                  0  ...            0   \n",
       "207732                        0                  0  ...            0   \n",
       "207733                        1                  0  ...            0   \n",
       "207734                        0                  0  ...            0   \n",
       "\n",
       "        brand_smart  brand_subaru  brand_suzuki  brand_toyota  brand_trabant  \\\n",
       "0                 0             0             0             0              0   \n",
       "1                 0             0             0             0              0   \n",
       "2                 0             0             0             0              0   \n",
       "3                 0             0             0             0              0   \n",
       "4                 0             0             0             0              0   \n",
       "...             ...           ...           ...           ...            ...   \n",
       "207730            0             0             0             0              0   \n",
       "207731            0             0             0             0              0   \n",
       "207732            0             0             0             0              0   \n",
       "207733            1             0             0             0              0   \n",
       "207734            0             0             0             0              0   \n",
       "\n",
       "        brand_volkswagen  brand_volvo  notRepairedDamage_no  \\\n",
       "0                      1            0                     1   \n",
       "1                      0            0                     1   \n",
       "2                      0            0                     0   \n",
       "3                      0            0                     1   \n",
       "4                      1            0                     1   \n",
       "...                  ...          ...                   ...   \n",
       "207730                 1            0                     1   \n",
       "207731                 0            0                     1   \n",
       "207732                 0            0                     0   \n",
       "207733                 0            0                     1   \n",
       "207734                 0            0                     1   \n",
       "\n",
       "        notRepairedDamage_yes  \n",
       "0                           0  \n",
       "1                           0  \n",
       "2                           1  \n",
       "3                           0  \n",
       "4                           0  \n",
       "...                       ...  \n",
       "207730                      0  \n",
       "207731                      0  \n",
       "207732                      1  \n",
       "207733                      0  \n",
       "207734                      0  \n",
       "\n",
       "[207735 rows x 298 columns]"
      ]
     },
     "execution_count": 21,
     "metadata": {},
     "output_type": "execute_result"
    }
   ],
   "source": [
    "df_preprocessed"
   ]
  },
  {
   "cell_type": "code",
   "execution_count": 22,
   "metadata": {},
   "outputs": [],
   "source": [
    "def r2(y_true, y_pred):\n",
    "    SS_res =  K.sum(K.square(y_true - y_pred)) \n",
    "    SS_tot = K.sum(K.square(y_true - K.mean(y_true))) \n",
    "    return ( 1 - SS_res/(SS_tot + K.epsilon()) )"
   ]
  },
  {
   "cell_type": "code",
   "execution_count": 23,
   "metadata": {},
   "outputs": [
    {
     "name": "stdout",
     "output_type": "stream",
     "text": [
      "--------------------Compile------------------------------------\n",
      "--------------------Fit------------------------------------\n",
      "Epoch 1/100\n",
      "2659/2659 [==============================] - 13s 4ms/step - loss: 46622732288.0000 - mae: 2160.0071 - r2: 0.6932 - val_loss: 160310312960.0000 - val_mae: 2776.5588 - val_r2: 0.9396\n",
      "Epoch 2/100\n",
      "2659/2659 [==============================] - 11s 4ms/step - loss: 40232247296.0000 - mae: 918.9005 - r2: 0.9560 - val_loss: 138021093376.0000 - val_mae: 2479.6597 - val_r2: 0.9607\n",
      "Epoch 3/100\n",
      "2659/2659 [==============================] - 11s 4ms/step - loss: 35405320192.0000 - mae: 804.3495 - r2: 0.9681 - val_loss: 121154355200.0000 - val_mae: 2283.8425 - val_r2: 0.9720\n",
      "Epoch 4/100\n",
      "2659/2659 [==============================] - 11s 4ms/step - loss: 31084371968.0000 - mae: 721.7868 - r2: 0.9793 - val_loss: 105244377088.0000 - val_mae: 2109.1028 - val_r2: 0.9804\n",
      "Epoch 5/100\n",
      "2659/2659 [==============================] - 11s 4ms/step - loss: 27006093312.0000 - mae: 666.5275 - r2: 0.9840 - val_loss: 89606537216.0000 - val_mae: 1926.7321 - val_r2: 0.9871\n",
      "Epoch 6/100\n",
      "2659/2659 [==============================] - 11s 4ms/step - loss: 22974003200.0000 - mae: 591.0234 - r2: 0.9905 - val_loss: 74716110848.0000 - val_mae: 1738.3242 - val_r2: 0.9917\n",
      "Epoch 7/100\n",
      "2659/2659 [==============================] - 11s 4ms/step - loss: 19181277184.0000 - mae: 530.1518 - r2: 0.9933 - val_loss: 60872286208.0000 - val_mae: 1564.6647 - val_r2: 0.9950\n",
      "Epoch 8/100\n",
      "2659/2659 [==============================] - 11s 4ms/step - loss: 15637229568.0000 - mae: 457.7578 - r2: 0.9962 - val_loss: 48197804032.0000 - val_mae: 1377.6421 - val_r2: 0.9971\n",
      "Epoch 9/100\n",
      "2659/2659 [==============================] - 11s 4ms/step - loss: 12387859456.0000 - mae: 404.3762 - r2: 0.9974 - val_loss: 36968861696.0000 - val_mae: 1198.4945 - val_r2: 0.9984\n",
      "Epoch 10/100\n",
      "2659/2659 [==============================] - 11s 4ms/step - loss: 9511973888.0000 - mae: 340.7994 - r2: 0.9987 - val_loss: 27426650112.0000 - val_mae: 1025.8944 - val_r2: 0.9991\n",
      "Epoch 11/100\n",
      "2659/2659 [==============================] - 11s 4ms/step - loss: 7064469504.0000 - mae: 295.0791 - r2: 0.9992 - val_loss: 19726792704.0000 - val_mae: 886.0260 - val_r2: 0.9995\n",
      "Epoch 12/100\n",
      "2659/2659 [==============================] - 11s 4ms/step - loss: 5083513856.0000 - mae: 258.9132 - r2: 0.9996 - val_loss: 13627542528.0000 - val_mae: 726.2108 - val_r2: 0.9997\n",
      "Epoch 13/100\n",
      "2659/2659 [==============================] - 11s 4ms/step - loss: 3526850560.0000 - mae: 205.6372 - r2: 0.9998 - val_loss: 9079846912.0000 - val_mae: 587.8097 - val_r2: 0.9998\n",
      "Epoch 14/100\n",
      "2659/2659 [==============================] - 11s 4ms/step - loss: 2358577920.0000 - mae: 168.2509 - r2: 0.9999 - val_loss: 5841699840.0000 - val_mae: 474.7189 - val_r2: 0.9999\n",
      "Epoch 15/100\n",
      "2659/2659 [==============================] - 11s 4ms/step - loss: 1525138176.0000 - mae: 136.3022 - r2: 0.9999 - val_loss: 3641374208.0000 - val_mae: 378.0317 - val_r2: 0.9999\n",
      "Epoch 16/100\n",
      "2659/2659 [==============================] - 11s 4ms/step - loss: 957403072.0000 - mae: 111.2276 - r2: 1.0000 - val_loss: 2216364800.0000 - val_mae: 294.8001 - val_r2: 1.0000\n",
      "Epoch 17/100\n",
      "2659/2659 [==============================] - 11s 4ms/step - loss: 538121600.0000 - mae: 89.5109 - r2: 1.0000 - val_loss: 1099064320.0000 - val_mae: 211.4856 - val_r2: 1.0000\n",
      "Epoch 18/100\n",
      "2659/2659 [==============================] - 11s 4ms/step - loss: 296061728.0000 - mae: 66.4734 - r2: 1.0000 - val_loss: 933933248.0000 - val_mae: 369.3076 - val_r2: 0.9990\n",
      "Epoch 19/100\n",
      "2659/2659 [==============================] - 11s 4ms/step - loss: 158049760.0000 - mae: 55.8096 - r2: 1.0000 - val_loss: 314421888.0000 - val_mae: 118.7811 - val_r2: 1.0000\n",
      "Epoch 20/100\n",
      "2659/2659 [==============================] - 11s 4ms/step - loss: 83070848.0000 - mae: 43.8609 - r2: 1.0000 - val_loss: 170157408.0000 - val_mae: 90.7698 - val_r2: 1.0000\n",
      "Epoch 21/100\n",
      "2659/2659 [==============================] - 12s 4ms/step - loss: 42436624.0000 - mae: 55.1597 - r2: 0.9998 - val_loss: 96401008.0000 - val_mae: 74.0557 - val_r2: 1.0000\n",
      "Epoch 22/100\n",
      "2659/2659 [==============================] - 12s 5ms/step - loss: 31047610.0000 - mae: 33.2192 - r2: 1.0000 - val_loss: 35633284.0000 - val_mae: 63.5345 - val_r2: 0.9999\n",
      "Epoch 23/100\n",
      "2659/2659 [==============================] - 12s 4ms/step - loss: 12666732.0000 - mae: 31.4078 - r2: 0.9999 - val_loss: 13411058.0000 - val_mae: 33.7307 - val_r2: 0.9999\n",
      "Epoch 24/100\n",
      "2659/2659 [==============================] - 11s 4ms/step - loss: 5839304.0000 - mae: 25.8561 - r2: 1.0000 - val_loss: 10223261.0000 - val_mae: 39.4788 - val_r2: 0.9999\n",
      "Epoch 25/100\n",
      "2659/2659 [==============================] - 11s 4ms/step - loss: 4534690.5000 - mae: 25.0343 - r2: 1.0000 - val_loss: 692662.3125 - val_mae: 18.5692 - val_r2: 1.0000\n",
      "Epoch 26/100\n",
      "2659/2659 [==============================] - 11s 4ms/step - loss: 1122632.5000 - mae: 19.6957 - r2: 1.0000 - val_loss: 154950.2188 - val_mae: 39.8711 - val_r2: 0.9999\n",
      "Epoch 27/100\n",
      "2659/2659 [==============================] - 12s 4ms/step - loss: 682778.5625 - mae: 19.4045 - r2: 1.0000 - val_loss: 171657.9844 - val_mae: 16.6525 - val_r2: 1.0000\n",
      "Epoch 28/100\n",
      "2659/2659 [==============================] - 11s 4ms/step - loss: 479265.0625 - mae: 18.1331 - r2: 1.0000 - val_loss: 359011.6875 - val_mae: 17.7974 - val_r2: 1.0000\n",
      "Epoch 29/100\n",
      "2659/2659 [==============================] - 11s 4ms/step - loss: 1627029.8750 - mae: 21.1198 - r2: 1.0000 - val_loss: 1393055.2500 - val_mae: 57.7539 - val_r2: 0.9999\n",
      "Epoch 30/100\n",
      "2659/2659 [==============================] - 11s 4ms/step - loss: 319984.3750 - mae: 18.3444 - r2: 1.0000 - val_loss: 466710.4688 - val_mae: 21.9816 - val_r2: 1.0000\n",
      "Epoch 31/100\n",
      "2659/2659 [==============================] - 12s 4ms/step - loss: 3834567.0000 - mae: 27.9545 - r2: 1.0000 - val_loss: 3672154.7500 - val_mae: 31.2105 - val_r2: 1.0000\n",
      "Epoch 32/100\n",
      "2659/2659 [==============================] - 11s 4ms/step - loss: 465528.8750 - mae: 20.4502 - r2: 1.0000 - val_loss: 1190234.7500 - val_mae: 22.3336 - val_r2: 1.0000\n",
      "Epoch 33/100\n",
      "2659/2659 [==============================] - 12s 4ms/step - loss: 247886.0156 - mae: 18.4966 - r2: 1.0000 - val_loss: 1644611.3750 - val_mae: 25.3896 - val_r2: 1.0000\n",
      "Epoch 34/100\n",
      "2659/2659 [==============================] - 11s 4ms/step - loss: 239028.2188 - mae: 19.3747 - r2: 1.0000 - val_loss: 1160718.7500 - val_mae: 27.6350 - val_r2: 0.9999\n",
      "Epoch 35/100\n",
      "2659/2659 [==============================] - 11s 4ms/step - loss: 3927832.0000 - mae: 36.4934 - r2: 0.9999 - val_loss: 9789715.0000 - val_mae: 36.7261 - val_r2: 1.0000\n",
      "Epoch 36/100\n",
      "2659/2659 [==============================] - 11s 4ms/step - loss: 1376870.7500 - mae: 19.9660 - r2: 1.0000 - val_loss: 5607461.0000 - val_mae: 44.1847 - val_r2: 1.0000\n",
      "Epoch 37/100\n",
      "2659/2659 [==============================] - 12s 4ms/step - loss: 690577.6875 - mae: 16.3631 - r2: 1.0000 - val_loss: 3537330.0000 - val_mae: 26.8824 - val_r2: 1.0000\n",
      "Epoch 38/100\n",
      "2659/2659 [==============================] - 11s 4ms/step - loss: 402764.8750 - mae: 17.6525 - r2: 1.0000 - val_loss: 2415627.5000 - val_mae: 24.7495 - val_r2: 1.0000\n",
      "Epoch 39/100\n",
      "2659/2659 [==============================] - 12s 5ms/step - loss: 276619.4688 - mae: 16.1191 - r2: 1.0000 - val_loss: 1755611.7500 - val_mae: 22.9085 - val_r2: 1.0000\n",
      "Epoch 40/100\n",
      "2659/2659 [==============================] - 12s 4ms/step - loss: 223663.8438 - mae: 16.8585 - r2: 1.0000 - val_loss: 1273802.6250 - val_mae: 20.5144 - val_r2: 1.0000\n",
      "Epoch 41/100\n",
      "2659/2659 [==============================] - 11s 4ms/step - loss: 195385.2344 - mae: 15.2542 - r2: 1.0000 - val_loss: 966131.3125 - val_mae: 20.1709 - val_r2: 1.0000\n",
      "Epoch 42/100\n",
      "2659/2659 [==============================] - 11s 4ms/step - loss: 181645.3594 - mae: 15.1458 - r2: 1.0000 - val_loss: 761035.8125 - val_mae: 17.9320 - val_r2: 1.0000\n",
      "Epoch 43/100\n",
      "2659/2659 [==============================] - 11s 4ms/step - loss: 180154.6406 - mae: 13.9912 - r2: 1.0000 - val_loss: 701839.5625 - val_mae: 17.5717 - val_r2: 1.0000\n",
      "Epoch 44/100\n",
      "2659/2659 [==============================] - 10s 4ms/step - loss: 180397.5000 - mae: 14.2705 - r2: 1.0000 - val_loss: 794783.5625 - val_mae: 17.3486 - val_r2: 1.0000\n",
      "Epoch 45/100\n",
      "2659/2659 [==============================] - 10s 4ms/step - loss: 175019.3906 - mae: 13.4889 - r2: 1.0000 - val_loss: 765911.7500 - val_mae: 17.2004 - val_r2: 1.0000\n",
      "Epoch 46/100\n",
      "2659/2659 [==============================] - 10s 4ms/step - loss: 173433.3906 - mae: 13.5523 - r2: 1.0000 - val_loss: 805416.8750 - val_mae: 17.1535 - val_r2: 1.0000\n",
      "Epoch 47/100\n",
      "2659/2659 [==============================] - 11s 4ms/step - loss: 171967.2500 - mae: 13.0353 - r2: 1.0000 - val_loss: 797422.3125 - val_mae: 16.5876 - val_r2: 1.0000\n",
      "Epoch 48/100\n",
      "2659/2659 [==============================] - 10s 4ms/step - loss: 170689.2500 - mae: 12.6523 - r2: 1.0000 - val_loss: 796083.9375 - val_mae: 16.8604 - val_r2: 1.0000\n",
      "Epoch 49/100\n",
      "2659/2659 [==============================] - 11s 4ms/step - loss: 169385.9531 - mae: 13.1546 - r2: 1.0000 - val_loss: 788518.5000 - val_mae: 16.1801 - val_r2: 1.0000\n",
      "Epoch 50/100\n",
      "2659/2659 [==============================] - 10s 4ms/step - loss: 164868.5469 - mae: 12.1541 - r2: 1.0000 - val_loss: 588833.6875 - val_mae: 17.4402 - val_r2: 1.0000\n",
      "Epoch 51/100\n",
      "2659/2659 [==============================] - 11s 4ms/step - loss: 170493.1875 - mae: 12.7397 - r2: 1.0000 - val_loss: 803704.6875 - val_mae: 15.6871 - val_r2: 1.0000\n",
      "Epoch 52/100\n",
      "2659/2659 [==============================] - 11s 4ms/step - loss: 165701.2969 - mae: 11.9478 - r2: 1.0000 - val_loss: 777156.5625 - val_mae: 15.8789 - val_r2: 1.0000\n",
      "Epoch 53/100\n",
      "2659/2659 [==============================] - 10s 4ms/step - loss: 161405.0000 - mae: 11.3289 - r2: 1.0000 - val_loss: 583827.7500 - val_mae: 17.0537 - val_r2: 1.0000\n",
      "Epoch 54/100\n",
      "2659/2659 [==============================] - 10s 4ms/step - loss: 166650.2812 - mae: 12.3054 - r2: 1.0000 - val_loss: 789852.2500 - val_mae: 15.8865 - val_r2: 1.0000\n",
      "Epoch 55/100\n",
      "2659/2659 [==============================] - 11s 4ms/step - loss: 159262.3438 - mae: 11.0340 - r2: 1.0000 - val_loss: 584454.1250 - val_mae: 20.3212 - val_r2: 1.0000\n",
      "Epoch 56/100\n",
      "2659/2659 [==============================] - 10s 4ms/step - loss: 163381.0625 - mae: 11.7516 - r2: 1.0000 - val_loss: 770315.5625 - val_mae: 15.5673 - val_r2: 1.0000\n",
      "Epoch 57/100\n",
      "2659/2659 [==============================] - 11s 4ms/step - loss: 157022.7500 - mae: 10.9300 - r2: 1.0000 - val_loss: 578457.2500 - val_mae: 14.8520 - val_r2: 1.0000\n",
      "Epoch 58/100\n",
      "2659/2659 [==============================] - 11s 4ms/step - loss: 157895.7812 - mae: 11.3508 - r2: 1.0000 - val_loss: 558921.6875 - val_mae: 14.7624 - val_r2: 1.0000\n",
      "Epoch 59/100\n",
      "2659/2659 [==============================] - 10s 4ms/step - loss: 161110.4688 - mae: 11.5454 - r2: 1.0000 - val_loss: 769650.9375 - val_mae: 15.7137 - val_r2: 1.0000\n",
      "Epoch 60/100\n",
      "2659/2659 [==============================] - 11s 4ms/step - loss: 156329.4844 - mae: 10.6689 - r2: 1.0000 - val_loss: 704470.6250 - val_mae: 14.5741 - val_r2: 1.0000\n",
      "Epoch 61/100\n",
      "2659/2659 [==============================] - 11s 4ms/step - loss: 151130.1562 - mae: 11.2684 - r2: 1.0000 - val_loss: 262846.1562 - val_mae: 13.3171 - val_r2: 1.0000\n",
      "Epoch 62/100\n",
      "2659/2659 [==============================] - 10s 4ms/step - loss: 170294.3750 - mae: 12.3349 - r2: 1.0000 - val_loss: 713155.3750 - val_mae: 14.0917 - val_r2: 1.0000\n",
      "Epoch 63/100\n",
      "2659/2659 [==============================] - 10s 4ms/step - loss: 153131.8438 - mae: 10.7834 - r2: 1.0000 - val_loss: 734562.5000 - val_mae: 14.6928 - val_r2: 1.0000\n",
      "Epoch 64/100\n",
      "2659/2659 [==============================] - 11s 4ms/step - loss: 148691.2812 - mae: 10.2259 - r2: 1.0000 - val_loss: 510890.4688 - val_mae: 15.9159 - val_r2: 1.0000\n",
      "Epoch 65/100\n",
      "2659/2659 [==============================] - 10s 4ms/step - loss: 154508.5312 - mae: 10.7987 - r2: 1.0000 - val_loss: 744227.5000 - val_mae: 15.1601 - val_r2: 1.0000\n",
      "Epoch 66/100\n",
      "2659/2659 [==============================] - 11s 4ms/step - loss: 146957.3125 - mae: 10.3250 - r2: 1.0000 - val_loss: 505033.1562 - val_mae: 13.6094 - val_r2: 1.0000\n",
      "Epoch 67/100\n",
      "2659/2659 [==============================] - 10s 4ms/step - loss: 148502.4531 - mae: 10.2887 - r2: 1.0000 - val_loss: 490929.0625 - val_mae: 13.3865 - val_r2: 1.0000\n",
      "Epoch 68/100\n",
      "2659/2659 [==============================] - 10s 4ms/step - loss: 151077.7969 - mae: 10.9776 - r2: 1.0000 - val_loss: 714306.8125 - val_mae: 14.1030 - val_r2: 1.0000\n",
      "Epoch 69/100\n",
      "2659/2659 [==============================] - 11s 4ms/step - loss: 146675.8750 - mae: 10.3372 - r2: 1.0000 - val_loss: 675622.3750 - val_mae: 13.5778 - val_r2: 1.0000\n",
      "Epoch 70/100\n",
      "2659/2659 [==============================] - 11s 4ms/step - loss: 145577.3281 - mae: 10.0675 - r2: 1.0000 - val_loss: 672173.3125 - val_mae: 14.6855 - val_r2: 1.0000\n",
      "Epoch 71/100\n",
      "2659/2659 [==============================] - 10s 4ms/step - loss: 141808.7344 - mae: 10.1775 - r2: 1.0000 - val_loss: 469556.5000 - val_mae: 12.7984 - val_r2: 1.0000\n",
      "Epoch 72/100\n",
      "2659/2659 [==============================] - 10s 4ms/step - loss: 147125.3125 - mae: 10.4879 - r2: 1.0000 - val_loss: 759913.8125 - val_mae: 16.1352 - val_r2: 1.0000\n",
      "Epoch 73/100\n",
      "2659/2659 [==============================] - 10s 4ms/step - loss: 141805.0625 - mae: 10.1325 - r2: 1.0000 - val_loss: 496848.8750 - val_mae: 12.7322 - val_r2: 1.0000\n",
      "Epoch 74/100\n",
      "2659/2659 [==============================] - 12s 4ms/step - loss: 139807.7188 - mae: 9.6191 - r2: 1.0000 - val_loss: 425220.9062 - val_mae: 12.3115 - val_r2: 1.0000\n",
      "Epoch 75/100\n",
      "2659/2659 [==============================] - 11s 4ms/step - loss: 142163.2344 - mae: 9.8811 - r2: 1.0000 - val_loss: 448287.4062 - val_mae: 12.5393 - val_r2: 1.0000\n",
      "Epoch 76/100\n",
      "2659/2659 [==============================] - 11s 4ms/step - loss: 138288.6094 - mae: 9.9996 - r2: 1.0000 - val_loss: 555250.8125 - val_mae: 13.0567 - val_r2: 1.0000\n",
      "Epoch 77/100\n",
      "2659/2659 [==============================] - 11s 4ms/step - loss: 139464.1875 - mae: 10.0666 - r2: 1.0000 - val_loss: 697409.1250 - val_mae: 13.8096 - val_r2: 1.0000\n",
      "Epoch 78/100\n",
      "2659/2659 [==============================] - 10s 4ms/step - loss: 138638.5781 - mae: 9.6009 - r2: 1.0000 - val_loss: 615720.6875 - val_mae: 13.0699 - val_r2: 1.0000\n",
      "Epoch 79/100\n",
      "2659/2659 [==============================] - 11s 4ms/step - loss: 134449.7969 - mae: 9.3161 - r2: 1.0000 - val_loss: 425835.9688 - val_mae: 12.3633 - val_r2: 1.0000\n",
      "Epoch 80/100\n",
      "2659/2659 [==============================] - 10s 4ms/step - loss: 136411.1562 - mae: 9.4967 - r2: 1.0000 - val_loss: 420699.5312 - val_mae: 12.3137 - val_r2: 1.0000\n",
      "Epoch 81/100\n",
      "2659/2659 [==============================] - 10s 4ms/step - loss: 135356.5938 - mae: 9.5368 - r2: 1.0000 - val_loss: 413164.5000 - val_mae: 12.4453 - val_r2: 1.0000\n",
      "Epoch 82/100\n",
      "2659/2659 [==============================] - 11s 4ms/step - loss: 135922.0625 - mae: 9.4193 - r2: 1.0000 - val_loss: 444042.6562 - val_mae: 12.0794 - val_r2: 1.0000\n",
      "Epoch 83/100\n",
      "2659/2659 [==============================] - 11s 4ms/step - loss: 132520.0469 - mae: 9.4129 - r2: 1.0000 - val_loss: 402306.0000 - val_mae: 12.6317 - val_r2: 1.0000\n",
      "Epoch 84/100\n",
      "2659/2659 [==============================] - 10s 4ms/step - loss: 139256.6875 - mae: 9.8980 - r2: 1.0000 - val_loss: 764558.1875 - val_mae: 14.0027 - val_r2: 1.0000\n",
      "Epoch 85/100\n",
      "2659/2659 [==============================] - 10s 4ms/step - loss: 134599.7969 - mae: 9.1690 - r2: 1.0000 - val_loss: 574677.3125 - val_mae: 12.5494 - val_r2: 1.0000\n",
      "Epoch 86/100\n",
      "2659/2659 [==============================] - 10s 4ms/step - loss: 128522.7188 - mae: 9.1813 - r2: 1.0000 - val_loss: 395106.8125 - val_mae: 12.1207 - val_r2: 1.0000\n",
      "Epoch 87/100\n",
      "2659/2659 [==============================] - 10s 4ms/step - loss: 136893.3281 - mae: 9.6448 - r2: 1.0000 - val_loss: 750693.9375 - val_mae: 13.4895 - val_r2: 1.0000\n",
      "Epoch 88/100\n",
      "2659/2659 [==============================] - 11s 4ms/step - loss: 130104.5469 - mae: 9.2093 - r2: 1.0000 - val_loss: 436974.7500 - val_mae: 12.0840 - val_r2: 1.0000\n",
      "Epoch 89/100\n",
      "2659/2659 [==============================] - 11s 4ms/step - loss: 127088.0312 - mae: 9.3739 - r2: 1.0000 - val_loss: 367930.3125 - val_mae: 11.8542 - val_r2: 1.0000\n",
      "Epoch 90/100\n",
      "2659/2659 [==============================] - 10s 4ms/step - loss: 131645.7812 - mae: 9.4283 - r2: 1.0000 - val_loss: 439211.8750 - val_mae: 12.1270 - val_r2: 1.0000\n",
      "Epoch 91/100\n",
      "2659/2659 [==============================] - 10s 4ms/step - loss: 130853.0469 - mae: 9.3083 - r2: 1.0000 - val_loss: 692188.7500 - val_mae: 12.9821 - val_r2: 1.0000\n",
      "Epoch 92/100\n",
      "2659/2659 [==============================] - 10s 4ms/step - loss: 128235.2266 - mae: 9.0103 - r2: 1.0000 - val_loss: 545394.6250 - val_mae: 12.7065 - val_r2: 1.0000\n",
      "Epoch 93/100\n",
      "2659/2659 [==============================] - 10s 4ms/step - loss: 123221.6562 - mae: 8.9134 - r2: 1.0000 - val_loss: 375107.4375 - val_mae: 11.5903 - val_r2: 1.0000\n",
      "Epoch 94/100\n",
      "2659/2659 [==============================] - 10s 4ms/step - loss: 127418.2578 - mae: 9.2711 - r2: 1.0000 - val_loss: 419278.0312 - val_mae: 11.8320 - val_r2: 1.0000\n",
      "Epoch 95/100\n",
      "2659/2659 [==============================] - 11s 4ms/step - loss: 123118.7969 - mae: 9.0100 - r2: 1.0000 - val_loss: 370551.9688 - val_mae: 11.4269 - val_r2: 1.0000\n",
      "Epoch 96/100\n",
      "2659/2659 [==============================] - 10s 4ms/step - loss: 130197.5156 - mae: 9.2521 - r2: 1.0000 - val_loss: 719077.0625 - val_mae: 12.8858 - val_r2: 1.0000\n",
      "Epoch 97/100\n",
      "2659/2659 [==============================] - 11s 4ms/step - loss: 123584.1328 - mae: 8.9099 - r2: 1.0000 - val_loss: 412499.1250 - val_mae: 11.8331 - val_r2: 1.0000\n",
      "Epoch 98/100\n",
      "2659/2659 [==============================] - 11s 4ms/step - loss: 126023.4297 - mae: 9.2929 - r2: 1.0000 - val_loss: 674639.0625 - val_mae: 13.1949 - val_r2: 1.0000\n",
      "Epoch 99/100\n",
      "2659/2659 [==============================] - 11s 4ms/step - loss: 121578.3281 - mae: 8.8721 - r2: 1.0000 - val_loss: 416227.0625 - val_mae: 11.4570 - val_r2: 1.0000\n",
      "Epoch 100/100\n",
      "2659/2659 [==============================] - 11s 4ms/step - loss: 120605.6016 - mae: 8.8061 - r2: 1.0000 - val_loss: 376668.7188 - val_mae: 11.5851 - val_r2: 1.0000\n",
      "--------------------Evaluate------------------------------------\n",
      "1299/1299 [==============================] - 4s 3ms/step - loss: 352539.9688 - mae: 9.6925 - r2: 1.0000\n",
      "Deep Learning Regression Mean Absolute Error: 9.69\n",
      "Deep Learning Regression R-squared Score: 1.00\n"
     ]
    }
   ],
   "source": [
    "X = df_preprocessed.astype(float).to_numpy()\n",
    "y = df['price']\n",
    "X_train, X_test, y_train, y_test = train_test_split(X, y, test_size=0.2, random_state=42)\n",
    "\n",
    "model = Sequential()\n",
    "model.add(Dense(64, activation='relu', input_shape=(X_train.shape[1],)))\n",
    "# model.add(Dropout(0.5))\n",
    "model.add(Dense(32, activation='relu'))\n",
    "# model.add(Dropout(0.3))\n",
    "model.add(Dense(16, activation='relu'))\n",
    "# model.add(Dropout(0.1))\n",
    "model.add(Dense(1))\n",
    "\n",
    "print('--------------------Compile------------------------------------')\n",
    "model.compile(optimizer=tf.keras.optimizers.Adam(learning_rate=0.0001, amsgrad=True),\n",
    "              loss='mean_squared_error',\n",
    "              metrics=['mae', r2])\n",
    "\n",
    "X_train, X_val, y_train, y_val = train_test_split(X_train, y_train, test_size=0.2, random_state=42)\n",
    "\n",
    "# early_stop = EarlyStopping(monitor='val_loss', patience=100)\n",
    "\n",
    "# checkpoint = ModelCheckpoint(filepath='best_weights_amsgrad.h5', \n",
    "#                              monitor='val_loss', \n",
    "#                              save_best_only=True, \n",
    "#                              mode='min', \n",
    "#                              verbose=1)\n",
    "\n",
    "print('--------------------Fit------------------------------------')\n",
    "history = model.fit(X_train, y_train, validation_data=(X_val, y_val), batch_size=50, epochs=100)\n",
    "\n",
    "print('--------------------Evaluate------------------------------------')\n",
    "score = model.evaluate(X_test, y_test)\n",
    "print(f'Deep Learning Regression Mean Absolute Error: {score[1]:.2f}')\n",
    "print(f'Deep Learning Regression R-squared Score: {score[2]:.2f}')"
   ]
  },
  {
   "cell_type": "code",
   "execution_count": 24,
   "metadata": {},
   "outputs": [
    {
     "name": "stdout",
     "output_type": "stream",
     "text": [
      "Model: \"sequential_1\"\n",
      "_________________________________________________________________\n",
      " Layer (type)                Output Shape              Param #   \n",
      "=================================================================\n",
      " dense_4 (Dense)             (None, 64)                19136     \n",
      "                                                                 \n",
      " dense_5 (Dense)             (None, 32)                2080      \n",
      "                                                                 \n",
      " dense_6 (Dense)             (None, 16)                528       \n",
      "                                                                 \n",
      " dense_7 (Dense)             (None, 1)                 17        \n",
      "                                                                 \n",
      "=================================================================\n",
      "Total params: 21,761\n",
      "Trainable params: 21,761\n",
      "Non-trainable params: 0\n",
      "_________________________________________________________________\n"
     ]
    }
   ],
   "source": [
    "model.summary()"
   ]
  },
  {
   "cell_type": "code",
   "execution_count": 25,
   "metadata": {},
   "outputs": [
    {
     "data": {
      "text/plain": [
       "[array([[ 0.14507185,  0.14486305, -0.12447232, ...,  0.10942489,\n",
       "          0.03480353,  0.13491724],\n",
       "        [-0.10547385,  0.190359  ,  0.06718028, ...,  0.16910346,\n",
       "          0.10019575,  0.19637038],\n",
       "        [-0.08481486,  0.07543398,  0.14155987, ...,  0.18131527,\n",
       "          0.14463028,  0.17069134],\n",
       "        ...,\n",
       "        [ 0.05778207,  0.09877542, -0.07548293, ...,  0.02144895,\n",
       "         -0.05858679, -0.07897908],\n",
       "        [-0.09556732,  0.02761653,  0.01556758, ...,  0.17240033,\n",
       "          0.11458647,  0.11556623],\n",
       "        [-0.06205273,  0.01194631,  0.20093086, ..., -0.02236433,\n",
       "         -0.05817188, -0.12013383]], dtype=float32),\n",
       " array([ 0.01278162,  0.08735537,  0.08128688,  0.        ,  0.        ,\n",
       "         0.1531018 , -0.01502975,  0.1433278 , -0.00918079,  0.25308925,\n",
       "         0.10503456,  0.        ,  0.03603362, -0.08163118, -0.05889774,\n",
       "         0.        ,  0.10662786,  0.1365212 ,  0.05801091, -0.07630891,\n",
       "         0.10829695,  0.        ,  0.        , -0.04567743,  0.09866382,\n",
       "         0.        , -0.03514853,  0.02385038,  0.18769957,  0.09873626,\n",
       "         0.13184772,  0.        ,  0.        ,  0.00298547,  0.01420426,\n",
       "         0.15621246,  0.14278977,  0.        , -0.04198036,  0.13333611,\n",
       "         0.        ,  0.        ,  0.13278408,  0.        ,  0.15433861,\n",
       "         0.20510514,  0.00985461,  0.        ,  0.        ,  0.        ,\n",
       "         0.1384744 ,  0.18263774,  0.12676504,  0.13947165,  0.24084781,\n",
       "         0.04310854, -0.11571743,  0.12434193, -0.04141315,  0.        ,\n",
       "        -0.05349136,  0.15765528,  0.20374064,  0.12820703], dtype=float32),\n",
       " array([[-0.17889506, -0.17245267,  0.15699154, ...,  0.26590177,\n",
       "          0.09162564,  0.17556411],\n",
       "        [-0.12997442,  0.03916182, -0.09112626, ...,  0.10245639,\n",
       "          0.07631752, -0.23553324],\n",
       "        [ 0.05638854, -0.25794473, -0.11280662, ..., -0.12839743,\n",
       "         -0.18171789, -0.01081234],\n",
       "        ...,\n",
       "        [ 0.12224908,  0.13014923, -0.00115353, ...,  0.22905439,\n",
       "         -0.01596762, -0.20644373],\n",
       "        [ 0.03500054,  0.19808511,  0.13243467, ..., -0.01975523,\n",
       "          0.13977544,  0.03597254],\n",
       "        [ 0.03373196,  0.30219534, -0.21798944, ...,  0.23225437,\n",
       "          0.04541121, -0.02197617]], dtype=float32),\n",
       " array([-0.04100436,  0.11492924,  0.        ,  0.09913939,  0.10723303,\n",
       "         0.        ,  0.17433304,  0.00515705,  0.12993617,  0.07132297,\n",
       "         0.05395519, -0.05534039,  0.12927395,  0.        ,  0.        ,\n",
       "        -0.0391537 ,  0.        , -0.00762844,  0.01843747,  0.        ,\n",
       "         0.00367383,  0.08865119,  0.14634603,  0.03418028, -0.03542142,\n",
       "         0.12237997, -0.05304951,  0.        ,  0.        ,  0.10493753,\n",
       "         0.01772108,  0.        ], dtype=float32),\n",
       " array([[-0.19559565, -0.13291071, -0.33455703,  0.11711494, -0.16823131,\n",
       "          0.16115741,  0.1408835 ,  0.07982937,  0.04891774,  0.2092    ,\n",
       "          0.23115039,  0.17091312,  0.32077053, -0.30001137,  0.25848016,\n",
       "         -0.23880206],\n",
       "        [ 0.20303409, -0.02842929, -0.10045313,  0.10420321, -0.02274762,\n",
       "          0.37387034, -0.29194716, -0.23856965, -0.1972749 , -0.12509328,\n",
       "          0.37200713,  0.09423442, -0.02753318, -0.14364041,  0.12931247,\n",
       "          0.24620204],\n",
       "        [-0.2996649 ,  0.08784574,  0.08246765, -0.2941152 , -0.04936603,\n",
       "         -0.17423794, -0.26581073,  0.0262703 , -0.19932315, -0.1629693 ,\n",
       "          0.31739643, -0.02373078,  0.07238284, -0.13431779, -0.26403996,\n",
       "         -0.04323205],\n",
       "        [-0.22328056, -0.09085303,  0.26760948,  0.13374642, -0.00097477,\n",
       "          0.3132667 , -0.20720959,  0.13759035,  0.08986154, -0.25998175,\n",
       "          0.17997326,  0.27275598, -0.15143277, -0.3182983 ,  0.10673554,\n",
       "          0.4093217 ],\n",
       "        [-0.36199084, -0.13605082,  0.3417232 , -0.15152434,  0.30809215,\n",
       "          0.376898  ,  0.16045585, -0.18248934,  0.06371534,  0.32153705,\n",
       "         -0.16167846,  0.26627022, -0.1952922 , -0.16950905,  0.26565054,\n",
       "         -0.01703544],\n",
       "        [ 0.31993124, -0.21228777, -0.13469365,  0.22914734, -0.0713101 ,\n",
       "         -0.00285646,  0.0855962 ,  0.07325393, -0.1756791 ,  0.15501735,\n",
       "         -0.17131573, -0.04244667,  0.25723544, -0.12530106, -0.26197502,\n",
       "         -0.29492924],\n",
       "        [-0.283725  ,  0.31065348,  0.11076781,  0.06736399, -0.35699075,\n",
       "          0.16192763,  0.07331055, -0.09323374, -0.1713803 ,  0.32020333,\n",
       "          0.02587171,  0.04210772, -0.59219587,  0.10857096,  0.15758516,\n",
       "         -0.46157855],\n",
       "        [ 0.06925106, -0.01004551,  0.2385672 ,  0.05062757,  0.25650597,\n",
       "          0.2528859 ,  0.085908  ,  0.15925129, -0.0107342 ,  0.08198768,\n",
       "          0.07784799, -0.10067114,  0.12611255, -0.32978973, -0.29268944,\n",
       "         -0.21383877],\n",
       "        [ 0.3023654 , -0.12208161, -0.22180599, -0.05209962,  0.24517155,\n",
       "          0.25584358, -0.15681864,  0.3415193 , -0.23356393, -0.32698655,\n",
       "         -0.21838245,  0.20901018,  0.17530799,  0.22241345, -0.37652344,\n",
       "         -0.04643306],\n",
       "        [-0.16946489,  0.42153293, -0.21734236, -0.09795626,  0.09430377,\n",
       "         -0.33383432, -0.06258056, -0.20075768, -0.3311713 , -0.09650213,\n",
       "         -0.03464114,  0.31072107, -0.42702636,  0.20056495,  0.24252728,\n",
       "         -0.29674894],\n",
       "        [-0.03383785, -0.2478597 , -0.10247688, -0.24179268, -0.20897917,\n",
       "         -0.40932178,  0.11047819,  0.05756955,  0.2725427 , -0.2333183 ,\n",
       "         -0.24321869, -0.10755515,  0.03618961, -0.01549706, -0.28560692,\n",
       "         -0.01043418],\n",
       "        [ 0.03575861,  0.29393226,  0.11452915,  0.24350461, -0.1234485 ,\n",
       "          0.0839377 , -0.32957476, -0.12062018, -0.12494576, -0.34044597,\n",
       "          0.31880495, -0.12032561,  0.4093776 ,  0.3222737 , -0.19311911,\n",
       "          0.16627471],\n",
       "        [ 0.31838712,  0.10868855, -0.0959481 , -0.23740421,  0.36444396,\n",
       "          0.26514044,  0.12434921,  0.39454746, -0.1583447 ,  0.10433453,\n",
       "         -0.07425686,  0.05258716,  0.3019348 ,  0.11610267, -0.00660467,\n",
       "          0.27558267],\n",
       "        [ 0.06127855,  0.15484634, -0.06931579, -0.11791508, -0.35264587,\n",
       "          0.29782858, -0.04583612,  0.33317426,  0.29134008, -0.15610367,\n",
       "         -0.13240339,  0.18742815,  0.2677726 , -0.24009499,  0.2094076 ,\n",
       "         -0.0200302 ],\n",
       "        [ 0.09114501,  0.20331052,  0.11821964,  0.35335633,  0.20315018,\n",
       "          0.10681453, -0.08940408, -0.15054044,  0.2673284 , -0.2839644 ,\n",
       "         -0.2623955 ,  0.08101004, -0.34724975, -0.15039757, -0.16614263,\n",
       "         -0.16135634],\n",
       "        [-0.11800535,  0.27944094, -0.05251379, -0.23760848, -0.16090652,\n",
       "         -0.27709207, -0.15170379,  0.33084095, -0.12658283, -0.28773317,\n",
       "         -0.00733382, -0.21290947,  0.22173771, -0.351334  ,  0.2709772 ,\n",
       "         -0.15218592],\n",
       "        [ 0.03969288, -0.28646034,  0.18674973,  0.22862825,  0.33561292,\n",
       "          0.15553841, -0.11311051, -0.09838247, -0.04938278, -0.02330947,\n",
       "         -0.2252298 ,  0.3275803 ,  0.20306048,  0.11254886, -0.15251495,\n",
       "          0.16449133],\n",
       "        [-0.26483443,  0.3704476 , -0.2829846 ,  0.08351484, -0.23217098,\n",
       "          0.09776832, -0.06876621,  0.26559788, -0.03003654, -0.06383038,\n",
       "          0.15687726, -0.05179318,  0.0387973 , -0.08007723, -0.12897058,\n",
       "         -0.00432688],\n",
       "        [-0.31045148,  0.28445044, -0.112432  ,  0.06013355,  0.10899325,\n",
       "         -0.08049285, -0.3488798 ,  0.05049249, -0.17566377, -0.33853713,\n",
       "          0.33213606,  0.06515151, -0.12405952, -0.2093621 , -0.11130048,\n",
       "          0.2571054 ],\n",
       "        [-0.028781  ,  0.17245206,  0.24516389, -0.06081283, -0.27862018,\n",
       "         -0.15649007, -0.18527949,  0.29077694,  0.08533514,  0.02195397,\n",
       "          0.04719013,  0.30867013,  0.10409531,  0.07234213,  0.11480448,\n",
       "         -0.27376163],\n",
       "        [-0.24335203,  0.23594645, -0.14383624,  0.11572433, -0.3712489 ,\n",
       "          0.24881737, -0.2182304 , -0.08474421, -0.32554758, -0.21235032,\n",
       "         -0.16048577,  0.3810329 , -0.26344627, -0.09478766, -0.12845182,\n",
       "         -0.27733842],\n",
       "        [ 0.34766558,  0.13144511, -0.16106823,  0.05039115, -0.00584142,\n",
       "         -0.24995477,  0.32375202,  0.28852192,  0.08069319,  0.16491017,\n",
       "         -0.18218726,  0.30393913, -0.2809879 , -0.14173217, -0.02030642,\n",
       "          0.10297801],\n",
       "        [-0.3699073 ,  0.1311413 , -0.2645089 ,  0.12060373,  0.31272537,\n",
       "          0.2981378 ,  0.06513888,  0.15917315,  0.20973721, -0.04891258,\n",
       "          0.00440792,  0.01782222, -0.06684774, -0.03420419, -0.17539553,\n",
       "          0.3805337 ],\n",
       "        [-0.2765038 ,  0.32273012,  0.3512446 ,  0.37581173, -0.3458321 ,\n",
       "         -0.0970677 , -0.0317021 , -0.2220079 ,  0.09298116, -0.30959246,\n",
       "         -0.09120265,  0.03655365, -0.35205784, -0.29743242, -0.08459316,\n",
       "         -0.10830449],\n",
       "        [-0.35290247,  0.00484303, -0.04321873, -0.30158812, -0.28916955,\n",
       "         -0.2457644 ,  0.13313583,  0.35259485,  0.1599578 , -0.10211059,\n",
       "          0.22187549,  0.10199054,  0.02517347,  0.2998514 , -0.01108572,\n",
       "          0.02963041],\n",
       "        [ 0.07972257, -0.19126658, -0.13224909, -0.37273365,  0.27660072,\n",
       "          0.46766758,  0.17212579,  0.27813715, -0.19066602, -0.2471546 ,\n",
       "          0.33040544, -0.18747798,  0.05509828,  0.02597097,  0.30608752,\n",
       "         -0.03490959],\n",
       "        [-0.27415285,  0.15124981,  0.18437256, -0.17131467,  0.00839712,\n",
       "         -0.25148126,  0.26867315,  0.2872485 , -0.34162945,  0.3168181 ,\n",
       "         -0.12178442,  0.14760663, -0.07723388, -0.17757218, -0.05745339,\n",
       "         -0.24650218],\n",
       "        [-0.02748749, -0.22508043, -0.24396795, -0.25061005, -0.34464556,\n",
       "         -0.3475053 ,  0.19482043,  0.16802415,  0.05568433,  0.13973871,\n",
       "          0.273443  , -0.05252415, -0.18314171,  0.2989057 ,  0.28142253,\n",
       "          0.09959006],\n",
       "        [-0.12435335,  0.2389541 ,  0.34644076,  0.32266292, -0.3131054 ,\n",
       "         -0.20496619, -0.25235948,  0.31525144,  0.33071586,  0.26136312,\n",
       "          0.34987387,  0.14894924,  0.27768502, -0.19384356, -0.04782066,\n",
       "          0.28998497],\n",
       "        [-0.21083193, -0.13759415,  0.27185825,  0.14500059,  0.13172331,\n",
       "          0.14510764, -0.35238406,  0.25224948,  0.09701377, -0.17684624,\n",
       "          0.3476005 ,  0.16388883,  0.16326478, -0.27750564, -0.03966238,\n",
       "         -0.06390695],\n",
       "        [-0.11457717,  0.09372005, -0.19090392,  0.3013958 ,  0.12616609,\n",
       "          0.10912127, -0.26595327, -0.19507796,  0.11326745,  0.02482373,\n",
       "         -0.29561156,  0.1137761 ,  0.28818223, -0.1500008 ,  0.0356343 ,\n",
       "          0.06743816],\n",
       "        [ 0.250823  , -0.15069951,  0.23657766, -0.19646804, -0.11873002,\n",
       "          0.20585176,  0.16663852, -0.07358015,  0.03565589, -0.3080154 ,\n",
       "          0.27311143, -0.29303953, -0.289006  , -0.25250986, -0.13939919,\n",
       "         -0.305209  ]], dtype=float32),\n",
       " array([-0.01884559, -0.06199408,  0.01254176, -0.04962183,  0.1310413 ,\n",
       "         0.0989777 ,  0.        ,  0.10161173,  0.        ,  0.        ,\n",
       "         0.11326051, -0.08741952,  0.16491334,  0.        , -0.01664934,\n",
       "         0.10696126], dtype=float32),\n",
       " array([[-0.0407693 ],\n",
       "        [-0.3144792 ],\n",
       "        [ 0.16526547],\n",
       "        [-0.15309569],\n",
       "        [ 0.61419666],\n",
       "        [ 0.5211181 ],\n",
       "        [ 0.07194239],\n",
       "        [ 0.23784877],\n",
       "        [ 0.48795414],\n",
       "        [ 0.23088342],\n",
       "        [ 0.0968537 ],\n",
       "        [-0.05630889],\n",
       "        [ 0.19245219],\n",
       "        [-0.1656887 ],\n",
       "        [-0.12930895],\n",
       "        [ 0.50220704]], dtype=float32),\n",
       " array([0.09519074], dtype=float32)]"
      ]
     },
     "execution_count": 25,
     "metadata": {},
     "output_type": "execute_result"
    }
   ],
   "source": [
    "model.get_weights()"
   ]
  },
  {
   "cell_type": "code",
   "execution_count": 26,
   "metadata": {},
   "outputs": [],
   "source": [
    "# model.load_weights('best_weights_amsgrad.h5')\n",
    "# model.get_weights()"
   ]
  },
  {
   "cell_type": "code",
   "execution_count": 27,
   "metadata": {},
   "outputs": [],
   "source": [
    "# score = model.evaluate(X_test, y_test)\n",
    "# print(f'Deep Learning Regression Mean Absolute Error: {score[1]:.2f}')\n",
    "# print(f'Deep Learning Regression R-squared Score: {score[2]:.2f}')"
   ]
  },
  {
   "cell_type": "code",
   "execution_count": 31,
   "metadata": {},
   "outputs": [
    {
     "name": "stdout",
     "output_type": "stream",
     "text": [
      "1299/1299 [==============================] - 3s 2ms/step\n"
     ]
    },
    {
     "data": {
      "text/plain": [
       "array([[142608.22  ],\n",
       "       [  1092.0286],\n",
       "       [  4483.9033],\n",
       "       ...,\n",
       "       [  2196.6584],\n",
       "       [  6503.3086],\n",
       "       [ 17830.29  ]], dtype=float32)"
      ]
     },
     "execution_count": 31,
     "metadata": {},
     "output_type": "execute_result"
    }
   ],
   "source": [
    "predictions = model.predict(X_test)\n",
    "\n",
    "# Print the predicted prices\n",
    "predictions"
   ]
  },
  {
   "cell_type": "code",
   "execution_count": 29,
   "metadata": {},
   "outputs": [
    {
     "data": {
      "text/plain": [
       "120328    145000\n",
       "34901       1095\n",
       "165437      4480\n",
       "155406      1325\n",
       "24030       1800\n",
       "           ...  \n",
       "155498      6700\n",
       "93180        650\n",
       "153338      2200\n",
       "131690      6500\n",
       "127733     17799\n",
       "Name: price, Length: 41547, dtype: int64"
      ]
     },
     "execution_count": 29,
     "metadata": {},
     "output_type": "execute_result"
    }
   ],
   "source": [
    "y_test"
   ]
  },
  {
   "cell_type": "code",
   "execution_count": 30,
   "metadata": {},
   "outputs": [
    {
     "data": {
      "application/vnd.plotly.v1+json": {
       "config": {
        "plotlyServerURL": "https://plot.ly"
       },
       "data": [
        {
         "hovertemplate": "variable=loss<br>Epoch=%{x}<br>Loss=%{y}<extra></extra>",
         "legendgroup": "loss",
         "line": {
          "color": "#636efa",
          "dash": "solid"
         },
         "marker": {
          "symbol": "circle"
         },
         "mode": "lines",
         "name": "loss",
         "orientation": "v",
         "showlegend": true,
         "type": "scatter",
         "x": [
          1,
          2,
          3,
          4,
          5,
          6,
          7,
          8,
          9,
          10,
          11,
          12,
          13,
          14,
          15,
          16,
          17,
          18,
          19,
          20,
          21,
          22,
          23,
          24,
          25,
          26,
          27,
          28,
          29,
          30,
          31,
          32,
          33,
          34,
          35,
          36,
          37,
          38,
          39,
          40,
          41,
          42,
          43,
          44,
          45,
          46,
          47,
          48,
          49,
          50,
          51,
          52,
          53,
          54,
          55,
          56,
          57,
          58,
          59,
          60,
          61,
          62,
          63,
          64,
          65,
          66,
          67,
          68,
          69,
          70,
          71,
          72,
          73,
          74,
          75,
          76,
          77,
          78,
          79,
          80,
          81,
          82,
          83,
          84,
          85,
          86,
          87,
          88,
          89,
          90,
          91,
          92,
          93,
          94,
          95,
          96,
          97,
          98,
          99,
          100
         ],
         "xaxis": "x",
         "y": [
          46622732288,
          40232247296,
          35405320192,
          31084371968,
          27006093312,
          22974003200,
          19181277184,
          15637229568,
          12387859456,
          9511973888,
          7064469504,
          5083513856,
          3526850560,
          2358577920,
          1525138176,
          957403072,
          538121600,
          296061728,
          158049760,
          83070848,
          42436624,
          31047610,
          12666732,
          5839304,
          4534690.5,
          1122632.5,
          682778.5625,
          479265.0625,
          1627029.875,
          319984.375,
          3834567,
          465528.875,
          247886.015625,
          239028.21875,
          3927832,
          1376870.75,
          690577.6875,
          402764.875,
          276619.46875,
          223663.84375,
          195385.234375,
          181645.359375,
          180154.640625,
          180397.5,
          175019.390625,
          173433.390625,
          171967.25,
          170689.25,
          169385.953125,
          164868.546875,
          170493.1875,
          165701.296875,
          161405,
          166650.28125,
          159262.34375,
          163381.0625,
          157022.75,
          157895.78125,
          161110.46875,
          156329.484375,
          151130.15625,
          170294.375,
          153131.84375,
          148691.28125,
          154508.53125,
          146957.3125,
          148502.453125,
          151077.796875,
          146675.875,
          145577.328125,
          141808.734375,
          147125.3125,
          141805.0625,
          139807.71875,
          142163.234375,
          138288.609375,
          139464.1875,
          138638.578125,
          134449.796875,
          136411.15625,
          135356.59375,
          135922.0625,
          132520.046875,
          139256.6875,
          134599.796875,
          128522.71875,
          136893.328125,
          130104.546875,
          127088.03125,
          131645.78125,
          130853.046875,
          128235.2265625,
          123221.65625,
          127418.2578125,
          123118.796875,
          130197.515625,
          123584.1328125,
          126023.4296875,
          121578.328125,
          120605.6015625
         ],
         "yaxis": "y"
        },
        {
         "hovertemplate": "variable=val_loss<br>Epoch=%{x}<br>Loss=%{y}<extra></extra>",
         "legendgroup": "val_loss",
         "line": {
          "color": "#EF553B",
          "dash": "solid"
         },
         "marker": {
          "symbol": "circle"
         },
         "mode": "lines",
         "name": "val_loss",
         "orientation": "v",
         "showlegend": true,
         "type": "scatter",
         "x": [
          1,
          2,
          3,
          4,
          5,
          6,
          7,
          8,
          9,
          10,
          11,
          12,
          13,
          14,
          15,
          16,
          17,
          18,
          19,
          20,
          21,
          22,
          23,
          24,
          25,
          26,
          27,
          28,
          29,
          30,
          31,
          32,
          33,
          34,
          35,
          36,
          37,
          38,
          39,
          40,
          41,
          42,
          43,
          44,
          45,
          46,
          47,
          48,
          49,
          50,
          51,
          52,
          53,
          54,
          55,
          56,
          57,
          58,
          59,
          60,
          61,
          62,
          63,
          64,
          65,
          66,
          67,
          68,
          69,
          70,
          71,
          72,
          73,
          74,
          75,
          76,
          77,
          78,
          79,
          80,
          81,
          82,
          83,
          84,
          85,
          86,
          87,
          88,
          89,
          90,
          91,
          92,
          93,
          94,
          95,
          96,
          97,
          98,
          99,
          100
         ],
         "xaxis": "x",
         "y": [
          160310312960,
          138021093376,
          121154355200,
          105244377088,
          89606537216,
          74716110848,
          60872286208,
          48197804032,
          36968861696,
          27426650112,
          19726792704,
          13627542528,
          9079846912,
          5841699840,
          3641374208,
          2216364800,
          1099064320,
          933933248,
          314421888,
          170157408,
          96401008,
          35633284,
          13411058,
          10223261,
          692662.3125,
          154950.21875,
          171657.984375,
          359011.6875,
          1393055.25,
          466710.46875,
          3672154.75,
          1190234.75,
          1644611.375,
          1160718.75,
          9789715,
          5607461,
          3537330,
          2415627.5,
          1755611.75,
          1273802.625,
          966131.3125,
          761035.8125,
          701839.5625,
          794783.5625,
          765911.75,
          805416.875,
          797422.3125,
          796083.9375,
          788518.5,
          588833.6875,
          803704.6875,
          777156.5625,
          583827.75,
          789852.25,
          584454.125,
          770315.5625,
          578457.25,
          558921.6875,
          769650.9375,
          704470.625,
          262846.15625,
          713155.375,
          734562.5,
          510890.46875,
          744227.5,
          505033.15625,
          490929.0625,
          714306.8125,
          675622.375,
          672173.3125,
          469556.5,
          759913.8125,
          496848.875,
          425220.90625,
          448287.40625,
          555250.8125,
          697409.125,
          615720.6875,
          425835.96875,
          420699.53125,
          413164.5,
          444042.65625,
          402306,
          764558.1875,
          574677.3125,
          395106.8125,
          750693.9375,
          436974.75,
          367930.3125,
          439211.875,
          692188.75,
          545394.625,
          375107.4375,
          419278.03125,
          370551.96875,
          719077.0625,
          412499.125,
          674639.0625,
          416227.0625,
          376668.71875
         ],
         "yaxis": "y"
        }
       ],
       "layout": {
        "legend": {
         "title": {
          "text": "variable"
         },
         "tracegroupgap": 0
        },
        "template": {
         "data": {
          "bar": [
           {
            "error_x": {
             "color": "#2a3f5f"
            },
            "error_y": {
             "color": "#2a3f5f"
            },
            "marker": {
             "line": {
              "color": "#E5ECF6",
              "width": 0.5
             },
             "pattern": {
              "fillmode": "overlay",
              "size": 10,
              "solidity": 0.2
             }
            },
            "type": "bar"
           }
          ],
          "barpolar": [
           {
            "marker": {
             "line": {
              "color": "#E5ECF6",
              "width": 0.5
             },
             "pattern": {
              "fillmode": "overlay",
              "size": 10,
              "solidity": 0.2
             }
            },
            "type": "barpolar"
           }
          ],
          "carpet": [
           {
            "aaxis": {
             "endlinecolor": "#2a3f5f",
             "gridcolor": "white",
             "linecolor": "white",
             "minorgridcolor": "white",
             "startlinecolor": "#2a3f5f"
            },
            "baxis": {
             "endlinecolor": "#2a3f5f",
             "gridcolor": "white",
             "linecolor": "white",
             "minorgridcolor": "white",
             "startlinecolor": "#2a3f5f"
            },
            "type": "carpet"
           }
          ],
          "choropleth": [
           {
            "colorbar": {
             "outlinewidth": 0,
             "ticks": ""
            },
            "type": "choropleth"
           }
          ],
          "contour": [
           {
            "colorbar": {
             "outlinewidth": 0,
             "ticks": ""
            },
            "colorscale": [
             [
              0,
              "#0d0887"
             ],
             [
              0.1111111111111111,
              "#46039f"
             ],
             [
              0.2222222222222222,
              "#7201a8"
             ],
             [
              0.3333333333333333,
              "#9c179e"
             ],
             [
              0.4444444444444444,
              "#bd3786"
             ],
             [
              0.5555555555555556,
              "#d8576b"
             ],
             [
              0.6666666666666666,
              "#ed7953"
             ],
             [
              0.7777777777777778,
              "#fb9f3a"
             ],
             [
              0.8888888888888888,
              "#fdca26"
             ],
             [
              1,
              "#f0f921"
             ]
            ],
            "type": "contour"
           }
          ],
          "contourcarpet": [
           {
            "colorbar": {
             "outlinewidth": 0,
             "ticks": ""
            },
            "type": "contourcarpet"
           }
          ],
          "heatmap": [
           {
            "colorbar": {
             "outlinewidth": 0,
             "ticks": ""
            },
            "colorscale": [
             [
              0,
              "#0d0887"
             ],
             [
              0.1111111111111111,
              "#46039f"
             ],
             [
              0.2222222222222222,
              "#7201a8"
             ],
             [
              0.3333333333333333,
              "#9c179e"
             ],
             [
              0.4444444444444444,
              "#bd3786"
             ],
             [
              0.5555555555555556,
              "#d8576b"
             ],
             [
              0.6666666666666666,
              "#ed7953"
             ],
             [
              0.7777777777777778,
              "#fb9f3a"
             ],
             [
              0.8888888888888888,
              "#fdca26"
             ],
             [
              1,
              "#f0f921"
             ]
            ],
            "type": "heatmap"
           }
          ],
          "heatmapgl": [
           {
            "colorbar": {
             "outlinewidth": 0,
             "ticks": ""
            },
            "colorscale": [
             [
              0,
              "#0d0887"
             ],
             [
              0.1111111111111111,
              "#46039f"
             ],
             [
              0.2222222222222222,
              "#7201a8"
             ],
             [
              0.3333333333333333,
              "#9c179e"
             ],
             [
              0.4444444444444444,
              "#bd3786"
             ],
             [
              0.5555555555555556,
              "#d8576b"
             ],
             [
              0.6666666666666666,
              "#ed7953"
             ],
             [
              0.7777777777777778,
              "#fb9f3a"
             ],
             [
              0.8888888888888888,
              "#fdca26"
             ],
             [
              1,
              "#f0f921"
             ]
            ],
            "type": "heatmapgl"
           }
          ],
          "histogram": [
           {
            "marker": {
             "pattern": {
              "fillmode": "overlay",
              "size": 10,
              "solidity": 0.2
             }
            },
            "type": "histogram"
           }
          ],
          "histogram2d": [
           {
            "colorbar": {
             "outlinewidth": 0,
             "ticks": ""
            },
            "colorscale": [
             [
              0,
              "#0d0887"
             ],
             [
              0.1111111111111111,
              "#46039f"
             ],
             [
              0.2222222222222222,
              "#7201a8"
             ],
             [
              0.3333333333333333,
              "#9c179e"
             ],
             [
              0.4444444444444444,
              "#bd3786"
             ],
             [
              0.5555555555555556,
              "#d8576b"
             ],
             [
              0.6666666666666666,
              "#ed7953"
             ],
             [
              0.7777777777777778,
              "#fb9f3a"
             ],
             [
              0.8888888888888888,
              "#fdca26"
             ],
             [
              1,
              "#f0f921"
             ]
            ],
            "type": "histogram2d"
           }
          ],
          "histogram2dcontour": [
           {
            "colorbar": {
             "outlinewidth": 0,
             "ticks": ""
            },
            "colorscale": [
             [
              0,
              "#0d0887"
             ],
             [
              0.1111111111111111,
              "#46039f"
             ],
             [
              0.2222222222222222,
              "#7201a8"
             ],
             [
              0.3333333333333333,
              "#9c179e"
             ],
             [
              0.4444444444444444,
              "#bd3786"
             ],
             [
              0.5555555555555556,
              "#d8576b"
             ],
             [
              0.6666666666666666,
              "#ed7953"
             ],
             [
              0.7777777777777778,
              "#fb9f3a"
             ],
             [
              0.8888888888888888,
              "#fdca26"
             ],
             [
              1,
              "#f0f921"
             ]
            ],
            "type": "histogram2dcontour"
           }
          ],
          "mesh3d": [
           {
            "colorbar": {
             "outlinewidth": 0,
             "ticks": ""
            },
            "type": "mesh3d"
           }
          ],
          "parcoords": [
           {
            "line": {
             "colorbar": {
              "outlinewidth": 0,
              "ticks": ""
             }
            },
            "type": "parcoords"
           }
          ],
          "pie": [
           {
            "automargin": true,
            "type": "pie"
           }
          ],
          "scatter": [
           {
            "marker": {
             "colorbar": {
              "outlinewidth": 0,
              "ticks": ""
             }
            },
            "type": "scatter"
           }
          ],
          "scatter3d": [
           {
            "line": {
             "colorbar": {
              "outlinewidth": 0,
              "ticks": ""
             }
            },
            "marker": {
             "colorbar": {
              "outlinewidth": 0,
              "ticks": ""
             }
            },
            "type": "scatter3d"
           }
          ],
          "scattercarpet": [
           {
            "marker": {
             "colorbar": {
              "outlinewidth": 0,
              "ticks": ""
             }
            },
            "type": "scattercarpet"
           }
          ],
          "scattergeo": [
           {
            "marker": {
             "colorbar": {
              "outlinewidth": 0,
              "ticks": ""
             }
            },
            "type": "scattergeo"
           }
          ],
          "scattergl": [
           {
            "marker": {
             "colorbar": {
              "outlinewidth": 0,
              "ticks": ""
             }
            },
            "type": "scattergl"
           }
          ],
          "scattermapbox": [
           {
            "marker": {
             "colorbar": {
              "outlinewidth": 0,
              "ticks": ""
             }
            },
            "type": "scattermapbox"
           }
          ],
          "scatterpolar": [
           {
            "marker": {
             "colorbar": {
              "outlinewidth": 0,
              "ticks": ""
             }
            },
            "type": "scatterpolar"
           }
          ],
          "scatterpolargl": [
           {
            "marker": {
             "colorbar": {
              "outlinewidth": 0,
              "ticks": ""
             }
            },
            "type": "scatterpolargl"
           }
          ],
          "scatterternary": [
           {
            "marker": {
             "colorbar": {
              "outlinewidth": 0,
              "ticks": ""
             }
            },
            "type": "scatterternary"
           }
          ],
          "surface": [
           {
            "colorbar": {
             "outlinewidth": 0,
             "ticks": ""
            },
            "colorscale": [
             [
              0,
              "#0d0887"
             ],
             [
              0.1111111111111111,
              "#46039f"
             ],
             [
              0.2222222222222222,
              "#7201a8"
             ],
             [
              0.3333333333333333,
              "#9c179e"
             ],
             [
              0.4444444444444444,
              "#bd3786"
             ],
             [
              0.5555555555555556,
              "#d8576b"
             ],
             [
              0.6666666666666666,
              "#ed7953"
             ],
             [
              0.7777777777777778,
              "#fb9f3a"
             ],
             [
              0.8888888888888888,
              "#fdca26"
             ],
             [
              1,
              "#f0f921"
             ]
            ],
            "type": "surface"
           }
          ],
          "table": [
           {
            "cells": {
             "fill": {
              "color": "#EBF0F8"
             },
             "line": {
              "color": "white"
             }
            },
            "header": {
             "fill": {
              "color": "#C8D4E3"
             },
             "line": {
              "color": "white"
             }
            },
            "type": "table"
           }
          ]
         },
         "layout": {
          "annotationdefaults": {
           "arrowcolor": "#2a3f5f",
           "arrowhead": 0,
           "arrowwidth": 1
          },
          "autotypenumbers": "strict",
          "coloraxis": {
           "colorbar": {
            "outlinewidth": 0,
            "ticks": ""
           }
          },
          "colorscale": {
           "diverging": [
            [
             0,
             "#8e0152"
            ],
            [
             0.1,
             "#c51b7d"
            ],
            [
             0.2,
             "#de77ae"
            ],
            [
             0.3,
             "#f1b6da"
            ],
            [
             0.4,
             "#fde0ef"
            ],
            [
             0.5,
             "#f7f7f7"
            ],
            [
             0.6,
             "#e6f5d0"
            ],
            [
             0.7,
             "#b8e186"
            ],
            [
             0.8,
             "#7fbc41"
            ],
            [
             0.9,
             "#4d9221"
            ],
            [
             1,
             "#276419"
            ]
           ],
           "sequential": [
            [
             0,
             "#0d0887"
            ],
            [
             0.1111111111111111,
             "#46039f"
            ],
            [
             0.2222222222222222,
             "#7201a8"
            ],
            [
             0.3333333333333333,
             "#9c179e"
            ],
            [
             0.4444444444444444,
             "#bd3786"
            ],
            [
             0.5555555555555556,
             "#d8576b"
            ],
            [
             0.6666666666666666,
             "#ed7953"
            ],
            [
             0.7777777777777778,
             "#fb9f3a"
            ],
            [
             0.8888888888888888,
             "#fdca26"
            ],
            [
             1,
             "#f0f921"
            ]
           ],
           "sequentialminus": [
            [
             0,
             "#0d0887"
            ],
            [
             0.1111111111111111,
             "#46039f"
            ],
            [
             0.2222222222222222,
             "#7201a8"
            ],
            [
             0.3333333333333333,
             "#9c179e"
            ],
            [
             0.4444444444444444,
             "#bd3786"
            ],
            [
             0.5555555555555556,
             "#d8576b"
            ],
            [
             0.6666666666666666,
             "#ed7953"
            ],
            [
             0.7777777777777778,
             "#fb9f3a"
            ],
            [
             0.8888888888888888,
             "#fdca26"
            ],
            [
             1,
             "#f0f921"
            ]
           ]
          },
          "colorway": [
           "#636efa",
           "#EF553B",
           "#00cc96",
           "#ab63fa",
           "#FFA15A",
           "#19d3f3",
           "#FF6692",
           "#B6E880",
           "#FF97FF",
           "#FECB52"
          ],
          "font": {
           "color": "#2a3f5f"
          },
          "geo": {
           "bgcolor": "white",
           "lakecolor": "white",
           "landcolor": "#E5ECF6",
           "showlakes": true,
           "showland": true,
           "subunitcolor": "white"
          },
          "hoverlabel": {
           "align": "left"
          },
          "hovermode": "closest",
          "mapbox": {
           "style": "light"
          },
          "paper_bgcolor": "white",
          "plot_bgcolor": "#E5ECF6",
          "polar": {
           "angularaxis": {
            "gridcolor": "white",
            "linecolor": "white",
            "ticks": ""
           },
           "bgcolor": "#E5ECF6",
           "radialaxis": {
            "gridcolor": "white",
            "linecolor": "white",
            "ticks": ""
           }
          },
          "scene": {
           "xaxis": {
            "backgroundcolor": "#E5ECF6",
            "gridcolor": "white",
            "gridwidth": 2,
            "linecolor": "white",
            "showbackground": true,
            "ticks": "",
            "zerolinecolor": "white"
           },
           "yaxis": {
            "backgroundcolor": "#E5ECF6",
            "gridcolor": "white",
            "gridwidth": 2,
            "linecolor": "white",
            "showbackground": true,
            "ticks": "",
            "zerolinecolor": "white"
           },
           "zaxis": {
            "backgroundcolor": "#E5ECF6",
            "gridcolor": "white",
            "gridwidth": 2,
            "linecolor": "white",
            "showbackground": true,
            "ticks": "",
            "zerolinecolor": "white"
           }
          },
          "shapedefaults": {
           "line": {
            "color": "#2a3f5f"
           }
          },
          "ternary": {
           "aaxis": {
            "gridcolor": "white",
            "linecolor": "white",
            "ticks": ""
           },
           "baxis": {
            "gridcolor": "white",
            "linecolor": "white",
            "ticks": ""
           },
           "bgcolor": "#E5ECF6",
           "caxis": {
            "gridcolor": "white",
            "linecolor": "white",
            "ticks": ""
           }
          },
          "title": {
           "x": 0.05
          },
          "xaxis": {
           "automargin": true,
           "gridcolor": "white",
           "linecolor": "white",
           "ticks": "",
           "title": {
            "standoff": 15
           },
           "zerolinecolor": "white",
           "zerolinewidth": 2
          },
          "yaxis": {
           "automargin": true,
           "gridcolor": "white",
           "linecolor": "white",
           "ticks": "",
           "title": {
            "standoff": 15
           },
           "zerolinecolor": "white",
           "zerolinewidth": 2
          }
         }
        },
        "title": {
         "text": "Training and Validation Loss"
        },
        "xaxis": {
         "anchor": "y",
         "domain": [
          0,
          1
         ],
         "title": {
          "text": "Epoch"
         }
        },
        "yaxis": {
         "anchor": "x",
         "domain": [
          0,
          1
         ],
         "title": {
          "text": "Loss"
         }
        }
       }
      }
     },
     "metadata": {},
     "output_type": "display_data"
    },
    {
     "data": {
      "application/vnd.plotly.v1+json": {
       "config": {
        "plotlyServerURL": "https://plot.ly"
       },
       "data": [
        {
         "hovertemplate": "variable=mae<br>Epoch=%{x}<br>MAE=%{y}<extra></extra>",
         "legendgroup": "mae",
         "line": {
          "color": "#636efa",
          "dash": "solid"
         },
         "marker": {
          "symbol": "circle"
         },
         "mode": "lines",
         "name": "mae",
         "orientation": "v",
         "showlegend": true,
         "type": "scatter",
         "x": [
          1,
          2,
          3,
          4,
          5,
          6,
          7,
          8,
          9,
          10,
          11,
          12,
          13,
          14,
          15,
          16,
          17,
          18,
          19,
          20,
          21,
          22,
          23,
          24,
          25,
          26,
          27,
          28,
          29,
          30,
          31,
          32,
          33,
          34,
          35,
          36,
          37,
          38,
          39,
          40,
          41,
          42,
          43,
          44,
          45,
          46,
          47,
          48,
          49,
          50,
          51,
          52,
          53,
          54,
          55,
          56,
          57,
          58,
          59,
          60,
          61,
          62,
          63,
          64,
          65,
          66,
          67,
          68,
          69,
          70,
          71,
          72,
          73,
          74,
          75,
          76,
          77,
          78,
          79,
          80,
          81,
          82,
          83,
          84,
          85,
          86,
          87,
          88,
          89,
          90,
          91,
          92,
          93,
          94,
          95,
          96,
          97,
          98,
          99,
          100
         ],
         "xaxis": "x",
         "y": [
          2160.007080078125,
          918.9005126953125,
          804.3494873046875,
          721.7868041992188,
          666.5275268554688,
          591.0234375,
          530.1517944335938,
          457.7577819824219,
          404.3761901855469,
          340.7994079589844,
          295.0790710449219,
          258.9131774902344,
          205.63717651367188,
          168.2509307861328,
          136.30223083496094,
          111.2275619506836,
          89.5108871459961,
          66.47337341308594,
          55.80958938598633,
          43.86094665527344,
          55.15966033935547,
          33.21916198730469,
          31.40778350830078,
          25.856069564819336,
          25.03434944152832,
          19.695676803588867,
          19.404537200927734,
          18.133129119873047,
          21.11983299255371,
          18.344438552856445,
          27.95453453063965,
          20.45020866394043,
          18.496559143066406,
          19.374670028686523,
          36.49341583251953,
          19.966045379638672,
          16.36307716369629,
          17.652454376220703,
          16.119075775146484,
          16.8585262298584,
          15.254246711730957,
          15.145769119262695,
          13.991230010986328,
          14.270450592041016,
          13.488874435424805,
          13.552305221557617,
          13.035316467285156,
          12.652304649353027,
          13.154646873474121,
          12.154109001159668,
          12.73969841003418,
          11.947795867919922,
          11.328949928283691,
          12.305440902709961,
          11.034002304077148,
          11.751550674438477,
          10.929996490478516,
          11.35075569152832,
          11.545366287231445,
          10.668865203857422,
          11.26840877532959,
          12.334896087646484,
          10.783371925354004,
          10.22592830657959,
          10.798662185668945,
          10.324991226196289,
          10.288737297058105,
          10.977649688720703,
          10.337244033813477,
          10.067544937133789,
          10.177512168884277,
          10.487927436828613,
          10.132547378540039,
          9.619139671325684,
          9.881062507629395,
          9.999611854553223,
          10.06657600402832,
          9.600933074951172,
          9.316061973571777,
          9.496706008911133,
          9.536831855773926,
          9.41926097869873,
          9.412938117980957,
          9.89797306060791,
          9.169013023376465,
          9.18127155303955,
          9.644844055175781,
          9.209325790405273,
          9.373927116394043,
          9.428292274475098,
          9.30830192565918,
          9.010274887084961,
          8.91336441040039,
          9.271133422851562,
          9.010040283203125,
          9.252106666564941,
          8.909928321838379,
          9.292926788330078,
          8.872124671936035,
          8.806077003479004
         ],
         "yaxis": "y"
        },
        {
         "hovertemplate": "variable=val_mae<br>Epoch=%{x}<br>MAE=%{y}<extra></extra>",
         "legendgroup": "val_mae",
         "line": {
          "color": "#EF553B",
          "dash": "solid"
         },
         "marker": {
          "symbol": "circle"
         },
         "mode": "lines",
         "name": "val_mae",
         "orientation": "v",
         "showlegend": true,
         "type": "scatter",
         "x": [
          1,
          2,
          3,
          4,
          5,
          6,
          7,
          8,
          9,
          10,
          11,
          12,
          13,
          14,
          15,
          16,
          17,
          18,
          19,
          20,
          21,
          22,
          23,
          24,
          25,
          26,
          27,
          28,
          29,
          30,
          31,
          32,
          33,
          34,
          35,
          36,
          37,
          38,
          39,
          40,
          41,
          42,
          43,
          44,
          45,
          46,
          47,
          48,
          49,
          50,
          51,
          52,
          53,
          54,
          55,
          56,
          57,
          58,
          59,
          60,
          61,
          62,
          63,
          64,
          65,
          66,
          67,
          68,
          69,
          70,
          71,
          72,
          73,
          74,
          75,
          76,
          77,
          78,
          79,
          80,
          81,
          82,
          83,
          84,
          85,
          86,
          87,
          88,
          89,
          90,
          91,
          92,
          93,
          94,
          95,
          96,
          97,
          98,
          99,
          100
         ],
         "xaxis": "x",
         "y": [
          2776.558837890625,
          2479.65966796875,
          2283.842529296875,
          2109.102783203125,
          1926.7320556640625,
          1738.32421875,
          1564.6646728515625,
          1377.64208984375,
          1198.4945068359375,
          1025.8944091796875,
          886.0260009765625,
          726.2107543945312,
          587.8096923828125,
          474.7189025878906,
          378.03173828125,
          294.8000793457031,
          211.4856414794922,
          369.3076171875,
          118.78108978271484,
          90.7697525024414,
          74.05571746826172,
          63.534507751464844,
          33.73073959350586,
          39.47880935668945,
          18.569169998168945,
          39.871089935302734,
          16.6524600982666,
          17.797426223754883,
          57.75385665893555,
          21.98162078857422,
          31.210538864135742,
          22.333555221557617,
          25.389596939086914,
          27.634958267211914,
          36.726131439208984,
          44.18471908569336,
          26.882360458374023,
          24.749521255493164,
          22.908506393432617,
          20.51441764831543,
          20.170881271362305,
          17.931995391845703,
          17.571693420410156,
          17.34859848022461,
          17.200389862060547,
          17.153526306152344,
          16.58762550354004,
          16.860361099243164,
          16.18007469177246,
          17.440248489379883,
          15.687063217163086,
          15.878897666931152,
          17.05373764038086,
          15.886537551879883,
          20.321237564086914,
          15.567346572875977,
          14.851975440979004,
          14.762354850769043,
          15.713726043701172,
          14.574079513549805,
          13.317142486572266,
          14.091747283935547,
          14.692813873291016,
          15.915857315063477,
          15.160057067871094,
          13.609375,
          13.386528015136719,
          14.10299015045166,
          13.577762603759766,
          14.685515403747559,
          12.798444747924805,
          16.135168075561523,
          12.732178688049316,
          12.311530113220215,
          12.53930950164795,
          13.056683540344238,
          13.809646606445312,
          13.069948196411133,
          12.363329887390137,
          12.313663482666016,
          12.445276260375977,
          12.07942008972168,
          12.631746292114258,
          14.002740859985352,
          12.549418449401855,
          12.120651245117188,
          13.489542961120605,
          12.08398723602295,
          11.854241371154785,
          12.1270170211792,
          12.982110977172852,
          12.706507682800293,
          11.590309143066406,
          11.832003593444824,
          11.42685604095459,
          12.885818481445312,
          11.833149909973145,
          13.194899559020996,
          11.456985473632812,
          11.585149765014648
         ],
         "yaxis": "y"
        }
       ],
       "layout": {
        "legend": {
         "title": {
          "text": "variable"
         },
         "tracegroupgap": 0
        },
        "template": {
         "data": {
          "bar": [
           {
            "error_x": {
             "color": "#2a3f5f"
            },
            "error_y": {
             "color": "#2a3f5f"
            },
            "marker": {
             "line": {
              "color": "#E5ECF6",
              "width": 0.5
             },
             "pattern": {
              "fillmode": "overlay",
              "size": 10,
              "solidity": 0.2
             }
            },
            "type": "bar"
           }
          ],
          "barpolar": [
           {
            "marker": {
             "line": {
              "color": "#E5ECF6",
              "width": 0.5
             },
             "pattern": {
              "fillmode": "overlay",
              "size": 10,
              "solidity": 0.2
             }
            },
            "type": "barpolar"
           }
          ],
          "carpet": [
           {
            "aaxis": {
             "endlinecolor": "#2a3f5f",
             "gridcolor": "white",
             "linecolor": "white",
             "minorgridcolor": "white",
             "startlinecolor": "#2a3f5f"
            },
            "baxis": {
             "endlinecolor": "#2a3f5f",
             "gridcolor": "white",
             "linecolor": "white",
             "minorgridcolor": "white",
             "startlinecolor": "#2a3f5f"
            },
            "type": "carpet"
           }
          ],
          "choropleth": [
           {
            "colorbar": {
             "outlinewidth": 0,
             "ticks": ""
            },
            "type": "choropleth"
           }
          ],
          "contour": [
           {
            "colorbar": {
             "outlinewidth": 0,
             "ticks": ""
            },
            "colorscale": [
             [
              0,
              "#0d0887"
             ],
             [
              0.1111111111111111,
              "#46039f"
             ],
             [
              0.2222222222222222,
              "#7201a8"
             ],
             [
              0.3333333333333333,
              "#9c179e"
             ],
             [
              0.4444444444444444,
              "#bd3786"
             ],
             [
              0.5555555555555556,
              "#d8576b"
             ],
             [
              0.6666666666666666,
              "#ed7953"
             ],
             [
              0.7777777777777778,
              "#fb9f3a"
             ],
             [
              0.8888888888888888,
              "#fdca26"
             ],
             [
              1,
              "#f0f921"
             ]
            ],
            "type": "contour"
           }
          ],
          "contourcarpet": [
           {
            "colorbar": {
             "outlinewidth": 0,
             "ticks": ""
            },
            "type": "contourcarpet"
           }
          ],
          "heatmap": [
           {
            "colorbar": {
             "outlinewidth": 0,
             "ticks": ""
            },
            "colorscale": [
             [
              0,
              "#0d0887"
             ],
             [
              0.1111111111111111,
              "#46039f"
             ],
             [
              0.2222222222222222,
              "#7201a8"
             ],
             [
              0.3333333333333333,
              "#9c179e"
             ],
             [
              0.4444444444444444,
              "#bd3786"
             ],
             [
              0.5555555555555556,
              "#d8576b"
             ],
             [
              0.6666666666666666,
              "#ed7953"
             ],
             [
              0.7777777777777778,
              "#fb9f3a"
             ],
             [
              0.8888888888888888,
              "#fdca26"
             ],
             [
              1,
              "#f0f921"
             ]
            ],
            "type": "heatmap"
           }
          ],
          "heatmapgl": [
           {
            "colorbar": {
             "outlinewidth": 0,
             "ticks": ""
            },
            "colorscale": [
             [
              0,
              "#0d0887"
             ],
             [
              0.1111111111111111,
              "#46039f"
             ],
             [
              0.2222222222222222,
              "#7201a8"
             ],
             [
              0.3333333333333333,
              "#9c179e"
             ],
             [
              0.4444444444444444,
              "#bd3786"
             ],
             [
              0.5555555555555556,
              "#d8576b"
             ],
             [
              0.6666666666666666,
              "#ed7953"
             ],
             [
              0.7777777777777778,
              "#fb9f3a"
             ],
             [
              0.8888888888888888,
              "#fdca26"
             ],
             [
              1,
              "#f0f921"
             ]
            ],
            "type": "heatmapgl"
           }
          ],
          "histogram": [
           {
            "marker": {
             "pattern": {
              "fillmode": "overlay",
              "size": 10,
              "solidity": 0.2
             }
            },
            "type": "histogram"
           }
          ],
          "histogram2d": [
           {
            "colorbar": {
             "outlinewidth": 0,
             "ticks": ""
            },
            "colorscale": [
             [
              0,
              "#0d0887"
             ],
             [
              0.1111111111111111,
              "#46039f"
             ],
             [
              0.2222222222222222,
              "#7201a8"
             ],
             [
              0.3333333333333333,
              "#9c179e"
             ],
             [
              0.4444444444444444,
              "#bd3786"
             ],
             [
              0.5555555555555556,
              "#d8576b"
             ],
             [
              0.6666666666666666,
              "#ed7953"
             ],
             [
              0.7777777777777778,
              "#fb9f3a"
             ],
             [
              0.8888888888888888,
              "#fdca26"
             ],
             [
              1,
              "#f0f921"
             ]
            ],
            "type": "histogram2d"
           }
          ],
          "histogram2dcontour": [
           {
            "colorbar": {
             "outlinewidth": 0,
             "ticks": ""
            },
            "colorscale": [
             [
              0,
              "#0d0887"
             ],
             [
              0.1111111111111111,
              "#46039f"
             ],
             [
              0.2222222222222222,
              "#7201a8"
             ],
             [
              0.3333333333333333,
              "#9c179e"
             ],
             [
              0.4444444444444444,
              "#bd3786"
             ],
             [
              0.5555555555555556,
              "#d8576b"
             ],
             [
              0.6666666666666666,
              "#ed7953"
             ],
             [
              0.7777777777777778,
              "#fb9f3a"
             ],
             [
              0.8888888888888888,
              "#fdca26"
             ],
             [
              1,
              "#f0f921"
             ]
            ],
            "type": "histogram2dcontour"
           }
          ],
          "mesh3d": [
           {
            "colorbar": {
             "outlinewidth": 0,
             "ticks": ""
            },
            "type": "mesh3d"
           }
          ],
          "parcoords": [
           {
            "line": {
             "colorbar": {
              "outlinewidth": 0,
              "ticks": ""
             }
            },
            "type": "parcoords"
           }
          ],
          "pie": [
           {
            "automargin": true,
            "type": "pie"
           }
          ],
          "scatter": [
           {
            "marker": {
             "colorbar": {
              "outlinewidth": 0,
              "ticks": ""
             }
            },
            "type": "scatter"
           }
          ],
          "scatter3d": [
           {
            "line": {
             "colorbar": {
              "outlinewidth": 0,
              "ticks": ""
             }
            },
            "marker": {
             "colorbar": {
              "outlinewidth": 0,
              "ticks": ""
             }
            },
            "type": "scatter3d"
           }
          ],
          "scattercarpet": [
           {
            "marker": {
             "colorbar": {
              "outlinewidth": 0,
              "ticks": ""
             }
            },
            "type": "scattercarpet"
           }
          ],
          "scattergeo": [
           {
            "marker": {
             "colorbar": {
              "outlinewidth": 0,
              "ticks": ""
             }
            },
            "type": "scattergeo"
           }
          ],
          "scattergl": [
           {
            "marker": {
             "colorbar": {
              "outlinewidth": 0,
              "ticks": ""
             }
            },
            "type": "scattergl"
           }
          ],
          "scattermapbox": [
           {
            "marker": {
             "colorbar": {
              "outlinewidth": 0,
              "ticks": ""
             }
            },
            "type": "scattermapbox"
           }
          ],
          "scatterpolar": [
           {
            "marker": {
             "colorbar": {
              "outlinewidth": 0,
              "ticks": ""
             }
            },
            "type": "scatterpolar"
           }
          ],
          "scatterpolargl": [
           {
            "marker": {
             "colorbar": {
              "outlinewidth": 0,
              "ticks": ""
             }
            },
            "type": "scatterpolargl"
           }
          ],
          "scatterternary": [
           {
            "marker": {
             "colorbar": {
              "outlinewidth": 0,
              "ticks": ""
             }
            },
            "type": "scatterternary"
           }
          ],
          "surface": [
           {
            "colorbar": {
             "outlinewidth": 0,
             "ticks": ""
            },
            "colorscale": [
             [
              0,
              "#0d0887"
             ],
             [
              0.1111111111111111,
              "#46039f"
             ],
             [
              0.2222222222222222,
              "#7201a8"
             ],
             [
              0.3333333333333333,
              "#9c179e"
             ],
             [
              0.4444444444444444,
              "#bd3786"
             ],
             [
              0.5555555555555556,
              "#d8576b"
             ],
             [
              0.6666666666666666,
              "#ed7953"
             ],
             [
              0.7777777777777778,
              "#fb9f3a"
             ],
             [
              0.8888888888888888,
              "#fdca26"
             ],
             [
              1,
              "#f0f921"
             ]
            ],
            "type": "surface"
           }
          ],
          "table": [
           {
            "cells": {
             "fill": {
              "color": "#EBF0F8"
             },
             "line": {
              "color": "white"
             }
            },
            "header": {
             "fill": {
              "color": "#C8D4E3"
             },
             "line": {
              "color": "white"
             }
            },
            "type": "table"
           }
          ]
         },
         "layout": {
          "annotationdefaults": {
           "arrowcolor": "#2a3f5f",
           "arrowhead": 0,
           "arrowwidth": 1
          },
          "autotypenumbers": "strict",
          "coloraxis": {
           "colorbar": {
            "outlinewidth": 0,
            "ticks": ""
           }
          },
          "colorscale": {
           "diverging": [
            [
             0,
             "#8e0152"
            ],
            [
             0.1,
             "#c51b7d"
            ],
            [
             0.2,
             "#de77ae"
            ],
            [
             0.3,
             "#f1b6da"
            ],
            [
             0.4,
             "#fde0ef"
            ],
            [
             0.5,
             "#f7f7f7"
            ],
            [
             0.6,
             "#e6f5d0"
            ],
            [
             0.7,
             "#b8e186"
            ],
            [
             0.8,
             "#7fbc41"
            ],
            [
             0.9,
             "#4d9221"
            ],
            [
             1,
             "#276419"
            ]
           ],
           "sequential": [
            [
             0,
             "#0d0887"
            ],
            [
             0.1111111111111111,
             "#46039f"
            ],
            [
             0.2222222222222222,
             "#7201a8"
            ],
            [
             0.3333333333333333,
             "#9c179e"
            ],
            [
             0.4444444444444444,
             "#bd3786"
            ],
            [
             0.5555555555555556,
             "#d8576b"
            ],
            [
             0.6666666666666666,
             "#ed7953"
            ],
            [
             0.7777777777777778,
             "#fb9f3a"
            ],
            [
             0.8888888888888888,
             "#fdca26"
            ],
            [
             1,
             "#f0f921"
            ]
           ],
           "sequentialminus": [
            [
             0,
             "#0d0887"
            ],
            [
             0.1111111111111111,
             "#46039f"
            ],
            [
             0.2222222222222222,
             "#7201a8"
            ],
            [
             0.3333333333333333,
             "#9c179e"
            ],
            [
             0.4444444444444444,
             "#bd3786"
            ],
            [
             0.5555555555555556,
             "#d8576b"
            ],
            [
             0.6666666666666666,
             "#ed7953"
            ],
            [
             0.7777777777777778,
             "#fb9f3a"
            ],
            [
             0.8888888888888888,
             "#fdca26"
            ],
            [
             1,
             "#f0f921"
            ]
           ]
          },
          "colorway": [
           "#636efa",
           "#EF553B",
           "#00cc96",
           "#ab63fa",
           "#FFA15A",
           "#19d3f3",
           "#FF6692",
           "#B6E880",
           "#FF97FF",
           "#FECB52"
          ],
          "font": {
           "color": "#2a3f5f"
          },
          "geo": {
           "bgcolor": "white",
           "lakecolor": "white",
           "landcolor": "#E5ECF6",
           "showlakes": true,
           "showland": true,
           "subunitcolor": "white"
          },
          "hoverlabel": {
           "align": "left"
          },
          "hovermode": "closest",
          "mapbox": {
           "style": "light"
          },
          "paper_bgcolor": "white",
          "plot_bgcolor": "#E5ECF6",
          "polar": {
           "angularaxis": {
            "gridcolor": "white",
            "linecolor": "white",
            "ticks": ""
           },
           "bgcolor": "#E5ECF6",
           "radialaxis": {
            "gridcolor": "white",
            "linecolor": "white",
            "ticks": ""
           }
          },
          "scene": {
           "xaxis": {
            "backgroundcolor": "#E5ECF6",
            "gridcolor": "white",
            "gridwidth": 2,
            "linecolor": "white",
            "showbackground": true,
            "ticks": "",
            "zerolinecolor": "white"
           },
           "yaxis": {
            "backgroundcolor": "#E5ECF6",
            "gridcolor": "white",
            "gridwidth": 2,
            "linecolor": "white",
            "showbackground": true,
            "ticks": "",
            "zerolinecolor": "white"
           },
           "zaxis": {
            "backgroundcolor": "#E5ECF6",
            "gridcolor": "white",
            "gridwidth": 2,
            "linecolor": "white",
            "showbackground": true,
            "ticks": "",
            "zerolinecolor": "white"
           }
          },
          "shapedefaults": {
           "line": {
            "color": "#2a3f5f"
           }
          },
          "ternary": {
           "aaxis": {
            "gridcolor": "white",
            "linecolor": "white",
            "ticks": ""
           },
           "baxis": {
            "gridcolor": "white",
            "linecolor": "white",
            "ticks": ""
           },
           "bgcolor": "#E5ECF6",
           "caxis": {
            "gridcolor": "white",
            "linecolor": "white",
            "ticks": ""
           }
          },
          "title": {
           "x": 0.05
          },
          "xaxis": {
           "automargin": true,
           "gridcolor": "white",
           "linecolor": "white",
           "ticks": "",
           "title": {
            "standoff": 15
           },
           "zerolinecolor": "white",
           "zerolinewidth": 2
          },
          "yaxis": {
           "automargin": true,
           "gridcolor": "white",
           "linecolor": "white",
           "ticks": "",
           "title": {
            "standoff": 15
           },
           "zerolinecolor": "white",
           "zerolinewidth": 2
          }
         }
        },
        "title": {
         "text": "Training and Validation MAE"
        },
        "xaxis": {
         "anchor": "y",
         "domain": [
          0,
          1
         ],
         "title": {
          "text": "Epoch"
         }
        },
        "yaxis": {
         "anchor": "x",
         "domain": [
          0,
          1
         ],
         "title": {
          "text": "MAE"
         }
        }
       }
      }
     },
     "metadata": {},
     "output_type": "display_data"
    }
   ],
   "source": [
    "import plotly.express as px\n",
    "import pandas as pd\n",
    "\n",
    "# create a dataframe with the training history\n",
    "df_graph = pd.DataFrame(history.history)\n",
    "\n",
    "# create line charts for loss and MAE\n",
    "fig = px.line(df_graph, x=df_graph.index+1, y=['loss', 'val_loss'], labels={'x':'Epoch', 'value':'Loss'},\n",
    "              title='Training and Validation Loss')\n",
    "fig.update_traces(mode='lines')\n",
    "fig.show()\n",
    "\n",
    "fig = px.line(df_graph, x=df_graph.index+1, y=['mae', 'val_mae'], labels={'x':'Epoch', 'value':'MAE'},\n",
    "              title='Training and Validation MAE')\n",
    "fig.update_traces(mode='lines')\n",
    "fig.show()"
   ]
  }
 ],
 "metadata": {
  "kernelspec": {
   "display_name": "base",
   "language": "python",
   "name": "python3"
  },
  "language_info": {
   "codemirror_mode": {
    "name": "ipython",
    "version": 3
   },
   "file_extension": ".py",
   "mimetype": "text/x-python",
   "name": "python",
   "nbconvert_exporter": "python",
   "pygments_lexer": "ipython3",
   "version": "3.9.12"
  },
  "orig_nbformat": 4,
  "vscode": {
   "interpreter": {
    "hash": "8891f3cfb547db503e78f25128202364d60f1c09259e140a1bd236c27b0b7a43"
   }
  }
 },
 "nbformat": 4,
 "nbformat_minor": 2
}
