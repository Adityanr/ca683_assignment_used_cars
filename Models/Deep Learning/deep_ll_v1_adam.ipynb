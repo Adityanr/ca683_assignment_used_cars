{
 "cells": [
  {
   "cell_type": "code",
   "execution_count": 28,
   "metadata": {},
   "outputs": [],
   "source": [
    "import pandas as pd\n",
    "from sklearn.model_selection import train_test_split\n",
    "from sklearn.metrics import r2_score\n",
    "import keras.backend as K\n",
    "# %pip install tensorflow\n",
    "from tensorflow.keras.models import Sequential\n",
    "from tensorflow.keras.layers import Dense\n",
    "from tensorflow.keras.layers import Dropout\n",
    "from tensorflow.keras.callbacks import EarlyStopping\n",
    "import tensorflow as tf"
   ]
  },
  {
   "cell_type": "code",
   "execution_count": 29,
   "metadata": {},
   "outputs": [],
   "source": [
    "df = pd.read_csv('../../Dataset/cleaned_used_cars_v1.csv')"
   ]
  },
  {
   "cell_type": "code",
   "execution_count": 30,
   "metadata": {},
   "outputs": [
    {
     "data": {
      "text/plain": [
       "(207735, 12)"
      ]
     },
     "execution_count": 30,
     "metadata": {},
     "output_type": "execute_result"
    }
   ],
   "source": [
    "df.shape"
   ]
  },
  {
   "cell_type": "code",
   "execution_count": 31,
   "metadata": {},
   "outputs": [],
   "source": [
    "# dummies = pd.get_dummies(df.drop(['dateCrawled','lastSeen','dateCreated','name'], axis=1), columns=['seller', 'offerType','abtest','vehicleType','gearbox','model','fuelType','brand','notRepairedDamage'])\n",
    "# df_preprocessed = pd.concat([df.drop(['price','index','dateCrawled','lastSeen','yearOfRegistration','monthOfRegistration','nrOfPictures','postalCode',\n",
    "#              'name','seller','offerType','abtest','vehicleType','gearbox','model','fuelType','brand','notRepairedDamage','dateCreated'], axis=1),\n",
    "#                              dummies], axis=1)\n",
    "onehot_columns = ['abtest','vehicleType','gearbox','model','fuelType','brand','notRepairedDamage']\n",
    "onehot_df = df[onehot_columns]\n",
    "onehot_df = pd.get_dummies(onehot_df, columns = onehot_columns)\n",
    "score_onehot_drop = df.drop(onehot_columns, axis = 1)\n",
    "score_onehot = pd.concat([score_onehot_drop, onehot_df], axis = 1)\n",
    "df_preprocessed = score_onehot"
   ]
  },
  {
   "cell_type": "code",
   "execution_count": 32,
   "metadata": {},
   "outputs": [
    {
     "data": {
      "text/plain": [
       "(207735, 298)"
      ]
     },
     "execution_count": 32,
     "metadata": {},
     "output_type": "execute_result"
    }
   ],
   "source": [
    "df_preprocessed.shape"
   ]
  },
  {
   "cell_type": "code",
   "execution_count": 33,
   "metadata": {},
   "outputs": [
    {
     "data": {
      "text/html": [
       "<div>\n",
       "<style scoped>\n",
       "    .dataframe tbody tr th:only-of-type {\n",
       "        vertical-align: middle;\n",
       "    }\n",
       "\n",
       "    .dataframe tbody tr th {\n",
       "        vertical-align: top;\n",
       "    }\n",
       "\n",
       "    .dataframe thead th {\n",
       "        text-align: right;\n",
       "    }\n",
       "</style>\n",
       "<table border=\"1\" class=\"dataframe\">\n",
       "  <thead>\n",
       "    <tr style=\"text-align: right;\">\n",
       "      <th></th>\n",
       "      <th>price</th>\n",
       "      <th>yearOfRegistration</th>\n",
       "      <th>powerPS</th>\n",
       "      <th>kilometer</th>\n",
       "      <th>monthOfRegistration</th>\n",
       "      <th>abtest_control</th>\n",
       "      <th>abtest_test</th>\n",
       "      <th>vehicleType_compact car</th>\n",
       "      <th>vehicleType_convertible</th>\n",
       "      <th>vehicleType_other</th>\n",
       "      <th>...</th>\n",
       "      <th>brand_skoda</th>\n",
       "      <th>brand_smart</th>\n",
       "      <th>brand_subaru</th>\n",
       "      <th>brand_suzuki</th>\n",
       "      <th>brand_toyota</th>\n",
       "      <th>brand_trabant</th>\n",
       "      <th>brand_volkswagen</th>\n",
       "      <th>brand_volvo</th>\n",
       "      <th>notRepairedDamage_no</th>\n",
       "      <th>notRepairedDamage_yes</th>\n",
       "    </tr>\n",
       "  </thead>\n",
       "  <tbody>\n",
       "    <tr>\n",
       "      <th>0</th>\n",
       "      <td>1500</td>\n",
       "      <td>2001</td>\n",
       "      <td>75</td>\n",
       "      <td>150000</td>\n",
       "      <td>6</td>\n",
       "      <td>0</td>\n",
       "      <td>1</td>\n",
       "      <td>1</td>\n",
       "      <td>0</td>\n",
       "      <td>0</td>\n",
       "      <td>...</td>\n",
       "      <td>0</td>\n",
       "      <td>0</td>\n",
       "      <td>0</td>\n",
       "      <td>0</td>\n",
       "      <td>0</td>\n",
       "      <td>0</td>\n",
       "      <td>1</td>\n",
       "      <td>0</td>\n",
       "      <td>1</td>\n",
       "      <td>0</td>\n",
       "    </tr>\n",
       "    <tr>\n",
       "      <th>1</th>\n",
       "      <td>3600</td>\n",
       "      <td>2008</td>\n",
       "      <td>69</td>\n",
       "      <td>90000</td>\n",
       "      <td>7</td>\n",
       "      <td>0</td>\n",
       "      <td>1</td>\n",
       "      <td>1</td>\n",
       "      <td>0</td>\n",
       "      <td>0</td>\n",
       "      <td>...</td>\n",
       "      <td>1</td>\n",
       "      <td>0</td>\n",
       "      <td>0</td>\n",
       "      <td>0</td>\n",
       "      <td>0</td>\n",
       "      <td>0</td>\n",
       "      <td>0</td>\n",
       "      <td>0</td>\n",
       "      <td>1</td>\n",
       "      <td>0</td>\n",
       "    </tr>\n",
       "    <tr>\n",
       "      <th>2</th>\n",
       "      <td>650</td>\n",
       "      <td>1995</td>\n",
       "      <td>102</td>\n",
       "      <td>150000</td>\n",
       "      <td>10</td>\n",
       "      <td>0</td>\n",
       "      <td>1</td>\n",
       "      <td>0</td>\n",
       "      <td>0</td>\n",
       "      <td>0</td>\n",
       "      <td>...</td>\n",
       "      <td>0</td>\n",
       "      <td>0</td>\n",
       "      <td>0</td>\n",
       "      <td>0</td>\n",
       "      <td>0</td>\n",
       "      <td>0</td>\n",
       "      <td>0</td>\n",
       "      <td>0</td>\n",
       "      <td>0</td>\n",
       "      <td>1</td>\n",
       "    </tr>\n",
       "    <tr>\n",
       "      <th>3</th>\n",
       "      <td>2200</td>\n",
       "      <td>2004</td>\n",
       "      <td>109</td>\n",
       "      <td>150000</td>\n",
       "      <td>8</td>\n",
       "      <td>0</td>\n",
       "      <td>1</td>\n",
       "      <td>0</td>\n",
       "      <td>1</td>\n",
       "      <td>0</td>\n",
       "      <td>...</td>\n",
       "      <td>0</td>\n",
       "      <td>0</td>\n",
       "      <td>0</td>\n",
       "      <td>0</td>\n",
       "      <td>0</td>\n",
       "      <td>0</td>\n",
       "      <td>0</td>\n",
       "      <td>0</td>\n",
       "      <td>1</td>\n",
       "      <td>0</td>\n",
       "    </tr>\n",
       "    <tr>\n",
       "      <th>4</th>\n",
       "      <td>0</td>\n",
       "      <td>1980</td>\n",
       "      <td>50</td>\n",
       "      <td>40000</td>\n",
       "      <td>7</td>\n",
       "      <td>0</td>\n",
       "      <td>1</td>\n",
       "      <td>0</td>\n",
       "      <td>0</td>\n",
       "      <td>0</td>\n",
       "      <td>...</td>\n",
       "      <td>0</td>\n",
       "      <td>0</td>\n",
       "      <td>0</td>\n",
       "      <td>0</td>\n",
       "      <td>0</td>\n",
       "      <td>0</td>\n",
       "      <td>1</td>\n",
       "      <td>0</td>\n",
       "      <td>1</td>\n",
       "      <td>0</td>\n",
       "    </tr>\n",
       "    <tr>\n",
       "      <th>...</th>\n",
       "      <td>...</td>\n",
       "      <td>...</td>\n",
       "      <td>...</td>\n",
       "      <td>...</td>\n",
       "      <td>...</td>\n",
       "      <td>...</td>\n",
       "      <td>...</td>\n",
       "      <td>...</td>\n",
       "      <td>...</td>\n",
       "      <td>...</td>\n",
       "      <td>...</td>\n",
       "      <td>...</td>\n",
       "      <td>...</td>\n",
       "      <td>...</td>\n",
       "      <td>...</td>\n",
       "      <td>...</td>\n",
       "      <td>...</td>\n",
       "      <td>...</td>\n",
       "      <td>...</td>\n",
       "      <td>...</td>\n",
       "      <td>...</td>\n",
       "    </tr>\n",
       "    <tr>\n",
       "      <th>207730</th>\n",
       "      <td>7900</td>\n",
       "      <td>2010</td>\n",
       "      <td>140</td>\n",
       "      <td>150000</td>\n",
       "      <td>7</td>\n",
       "      <td>0</td>\n",
       "      <td>1</td>\n",
       "      <td>0</td>\n",
       "      <td>0</td>\n",
       "      <td>0</td>\n",
       "      <td>...</td>\n",
       "      <td>0</td>\n",
       "      <td>0</td>\n",
       "      <td>0</td>\n",
       "      <td>0</td>\n",
       "      <td>0</td>\n",
       "      <td>0</td>\n",
       "      <td>1</td>\n",
       "      <td>0</td>\n",
       "      <td>1</td>\n",
       "      <td>0</td>\n",
       "    </tr>\n",
       "    <tr>\n",
       "      <th>207731</th>\n",
       "      <td>3999</td>\n",
       "      <td>2005</td>\n",
       "      <td>3</td>\n",
       "      <td>150000</td>\n",
       "      <td>5</td>\n",
       "      <td>0</td>\n",
       "      <td>1</td>\n",
       "      <td>0</td>\n",
       "      <td>0</td>\n",
       "      <td>0</td>\n",
       "      <td>...</td>\n",
       "      <td>0</td>\n",
       "      <td>0</td>\n",
       "      <td>0</td>\n",
       "      <td>0</td>\n",
       "      <td>0</td>\n",
       "      <td>0</td>\n",
       "      <td>0</td>\n",
       "      <td>0</td>\n",
       "      <td>1</td>\n",
       "      <td>0</td>\n",
       "    </tr>\n",
       "    <tr>\n",
       "      <th>207732</th>\n",
       "      <td>3200</td>\n",
       "      <td>2004</td>\n",
       "      <td>225</td>\n",
       "      <td>150000</td>\n",
       "      <td>5</td>\n",
       "      <td>1</td>\n",
       "      <td>0</td>\n",
       "      <td>0</td>\n",
       "      <td>0</td>\n",
       "      <td>0</td>\n",
       "      <td>...</td>\n",
       "      <td>0</td>\n",
       "      <td>0</td>\n",
       "      <td>0</td>\n",
       "      <td>0</td>\n",
       "      <td>0</td>\n",
       "      <td>0</td>\n",
       "      <td>0</td>\n",
       "      <td>0</td>\n",
       "      <td>0</td>\n",
       "      <td>1</td>\n",
       "    </tr>\n",
       "    <tr>\n",
       "      <th>207733</th>\n",
       "      <td>1199</td>\n",
       "      <td>2000</td>\n",
       "      <td>101</td>\n",
       "      <td>125000</td>\n",
       "      <td>3</td>\n",
       "      <td>0</td>\n",
       "      <td>1</td>\n",
       "      <td>0</td>\n",
       "      <td>1</td>\n",
       "      <td>0</td>\n",
       "      <td>...</td>\n",
       "      <td>0</td>\n",
       "      <td>1</td>\n",
       "      <td>0</td>\n",
       "      <td>0</td>\n",
       "      <td>0</td>\n",
       "      <td>0</td>\n",
       "      <td>0</td>\n",
       "      <td>0</td>\n",
       "      <td>1</td>\n",
       "      <td>0</td>\n",
       "    </tr>\n",
       "    <tr>\n",
       "      <th>207734</th>\n",
       "      <td>28990</td>\n",
       "      <td>2013</td>\n",
       "      <td>320</td>\n",
       "      <td>50000</td>\n",
       "      <td>8</td>\n",
       "      <td>1</td>\n",
       "      <td>0</td>\n",
       "      <td>0</td>\n",
       "      <td>0</td>\n",
       "      <td>0</td>\n",
       "      <td>...</td>\n",
       "      <td>0</td>\n",
       "      <td>0</td>\n",
       "      <td>0</td>\n",
       "      <td>0</td>\n",
       "      <td>0</td>\n",
       "      <td>0</td>\n",
       "      <td>0</td>\n",
       "      <td>0</td>\n",
       "      <td>1</td>\n",
       "      <td>0</td>\n",
       "    </tr>\n",
       "  </tbody>\n",
       "</table>\n",
       "<p>207735 rows × 298 columns</p>\n",
       "</div>"
      ],
      "text/plain": [
       "        price  yearOfRegistration  powerPS  kilometer  monthOfRegistration  \\\n",
       "0        1500                2001       75     150000                    6   \n",
       "1        3600                2008       69      90000                    7   \n",
       "2         650                1995      102     150000                   10   \n",
       "3        2200                2004      109     150000                    8   \n",
       "4           0                1980       50      40000                    7   \n",
       "...       ...                 ...      ...        ...                  ...   \n",
       "207730   7900                2010      140     150000                    7   \n",
       "207731   3999                2005        3     150000                    5   \n",
       "207732   3200                2004      225     150000                    5   \n",
       "207733   1199                2000      101     125000                    3   \n",
       "207734  28990                2013      320      50000                    8   \n",
       "\n",
       "        abtest_control  abtest_test  vehicleType_compact car  \\\n",
       "0                    0            1                        1   \n",
       "1                    0            1                        1   \n",
       "2                    0            1                        0   \n",
       "3                    0            1                        0   \n",
       "4                    0            1                        0   \n",
       "...                ...          ...                      ...   \n",
       "207730               0            1                        0   \n",
       "207731               0            1                        0   \n",
       "207732               1            0                        0   \n",
       "207733               0            1                        0   \n",
       "207734               1            0                        0   \n",
       "\n",
       "        vehicleType_convertible  vehicleType_other  ...  brand_skoda  \\\n",
       "0                             0                  0  ...            0   \n",
       "1                             0                  0  ...            1   \n",
       "2                             0                  0  ...            0   \n",
       "3                             1                  0  ...            0   \n",
       "4                             0                  0  ...            0   \n",
       "...                         ...                ...  ...          ...   \n",
       "207730                        0                  0  ...            0   \n",
       "207731                        0                  0  ...            0   \n",
       "207732                        0                  0  ...            0   \n",
       "207733                        1                  0  ...            0   \n",
       "207734                        0                  0  ...            0   \n",
       "\n",
       "        brand_smart  brand_subaru  brand_suzuki  brand_toyota  brand_trabant  \\\n",
       "0                 0             0             0             0              0   \n",
       "1                 0             0             0             0              0   \n",
       "2                 0             0             0             0              0   \n",
       "3                 0             0             0             0              0   \n",
       "4                 0             0             0             0              0   \n",
       "...             ...           ...           ...           ...            ...   \n",
       "207730            0             0             0             0              0   \n",
       "207731            0             0             0             0              0   \n",
       "207732            0             0             0             0              0   \n",
       "207733            1             0             0             0              0   \n",
       "207734            0             0             0             0              0   \n",
       "\n",
       "        brand_volkswagen  brand_volvo  notRepairedDamage_no  \\\n",
       "0                      1            0                     1   \n",
       "1                      0            0                     1   \n",
       "2                      0            0                     0   \n",
       "3                      0            0                     1   \n",
       "4                      1            0                     1   \n",
       "...                  ...          ...                   ...   \n",
       "207730                 1            0                     1   \n",
       "207731                 0            0                     1   \n",
       "207732                 0            0                     0   \n",
       "207733                 0            0                     1   \n",
       "207734                 0            0                     1   \n",
       "\n",
       "        notRepairedDamage_yes  \n",
       "0                           0  \n",
       "1                           0  \n",
       "2                           1  \n",
       "3                           0  \n",
       "4                           0  \n",
       "...                       ...  \n",
       "207730                      0  \n",
       "207731                      0  \n",
       "207732                      1  \n",
       "207733                      0  \n",
       "207734                      0  \n",
       "\n",
       "[207735 rows x 298 columns]"
      ]
     },
     "execution_count": 33,
     "metadata": {},
     "output_type": "execute_result"
    }
   ],
   "source": [
    "df_preprocessed"
   ]
  },
  {
   "cell_type": "code",
   "execution_count": 34,
   "metadata": {},
   "outputs": [],
   "source": [
    "def r2(y_true, y_pred):\n",
    "    SS_res =  K.sum(K.square(y_true - y_pred)) \n",
    "    SS_tot = K.sum(K.square(y_true - K.mean(y_true)))\n",
    "    return ( 1 - SS_res/(SS_tot + K.epsilon()) )"
   ]
  },
  {
   "cell_type": "code",
   "execution_count": 35,
   "metadata": {},
   "outputs": [
    {
     "name": "stdout",
     "output_type": "stream",
     "text": [
      "--------------------Compile------------------------------------\n",
      "--------------------Fit------------------------------------\n",
      "Epoch 1/100\n",
      "133/133 [==============================] - 3s 9ms/step - loss: 144554967040.0000 - mae: 6501.2490 - r2: -0.1719 - val_loss: 2931755264.0000 - val_mae: 5112.8677 - val_r2: -0.1058\n",
      "Epoch 2/100\n",
      "133/133 [==============================] - 1s 7ms/step - loss: 140285853696.0000 - mae: 6150.2710 - r2: -0.0584 - val_loss: 2811236608.0000 - val_mae: 4784.3115 - val_r2: 0.0021\n",
      "Epoch 3/100\n",
      "133/133 [==============================] - 1s 6ms/step - loss: 134637150208.0000 - mae: 5796.4707 - r2: 0.0539 - val_loss: 2695835136.0000 - val_mae: 4411.0190 - val_r2: 0.1152\n",
      "Epoch 4/100\n",
      "133/133 [==============================] - 1s 6ms/step - loss: 129221705728.0000 - mae: 5300.6304 - r2: 0.1777 - val_loss: 2567286784.0000 - val_mae: 3751.3311 - val_r2: 0.2615\n",
      "Epoch 5/100\n",
      "133/133 [==============================] - 1s 6ms/step - loss: 122941169664.0000 - mae: 4508.3491 - r2: 0.3547 - val_loss: 2439734528.0000 - val_mae: 3036.8767 - val_r2: 0.4017\n",
      "Epoch 6/100\n",
      "133/133 [==============================] - 1s 6ms/step - loss: 117645713408.0000 - mae: 3838.8723 - r2: 0.4738 - val_loss: 2331420160.0000 - val_mae: 2448.8884 - val_r2: 0.5013\n",
      "Epoch 7/100\n",
      "133/133 [==============================] - 1s 6ms/step - loss: 112552460288.0000 - mae: 3261.5183 - r2: 0.5560 - val_loss: 2254716928.0000 - val_mae: 2077.7139 - val_r2: 0.5635\n",
      "Epoch 8/100\n",
      "133/133 [==============================] - 1s 6ms/step - loss: 107255037952.0000 - mae: 2660.1575 - r2: 0.6425 - val_loss: 2088880512.0000 - val_mae: 1337.4849 - val_r2: 0.6513\n",
      "Epoch 9/100\n",
      "133/133 [==============================] - 1s 6ms/step - loss: 100874084352.0000 - mae: 2184.5969 - r2: 0.7111 - val_loss: 1961581952.0000 - val_mae: 1054.8647 - val_r2: 0.7023\n",
      "Epoch 10/100\n",
      "133/133 [==============================] - 1s 6ms/step - loss: 94886305792.0000 - mae: 2046.5057 - r2: 0.7374 - val_loss: 1836072320.0000 - val_mae: 1037.3531 - val_r2: 0.7442\n",
      "Epoch 11/100\n",
      "133/133 [==============================] - 1s 6ms/step - loss: 89406783488.0000 - mae: 1914.0291 - r2: 0.7738 - val_loss: 1743551360.0000 - val_mae: 985.2811 - val_r2: 0.7717\n",
      "Epoch 12/100\n",
      "133/133 [==============================] - 1s 6ms/step - loss: 83374219264.0000 - mae: 1802.9326 - r2: 0.8147 - val_loss: 1604096128.0000 - val_mae: 820.9380 - val_r2: 0.8097\n",
      "Epoch 13/100\n",
      "133/133 [==============================] - 1s 8ms/step - loss: 77132742656.0000 - mae: 1691.6616 - r2: 0.8471 - val_loss: 1472912512.0000 - val_mae: 741.4373 - val_r2: 0.8403\n",
      "Epoch 14/100\n",
      "133/133 [==============================] - 1s 7ms/step - loss: 71093895168.0000 - mae: 1581.6553 - r2: 0.8680 - val_loss: 1374160128.0000 - val_mae: 664.2343 - val_r2: 0.8592\n",
      "Epoch 15/100\n",
      "133/133 [==============================] - 1s 6ms/step - loss: 65908121600.0000 - mae: 1496.4358 - r2: 0.8946 - val_loss: 1228234368.0000 - val_mae: 594.8458 - val_r2: 0.8855\n",
      "Epoch 16/100\n",
      "133/133 [==============================] - 1s 6ms/step - loss: 59335217152.0000 - mae: 1391.7466 - r2: 0.9068 - val_loss: 1121984256.0000 - val_mae: 555.1776 - val_r2: 0.9028\n",
      "Epoch 17/100\n",
      "133/133 [==============================] - 1s 6ms/step - loss: 54772043776.0000 - mae: 1333.5361 - r2: 0.9204 - val_loss: 995276352.0000 - val_mae: 571.1834 - val_r2: 0.9197\n",
      "Epoch 18/100\n",
      "133/133 [==============================] - 1s 6ms/step - loss: 47763746816.0000 - mae: 1223.7480 - r2: 0.9389 - val_loss: 881273216.0000 - val_mae: 567.5401 - val_r2: 0.9347\n",
      "Epoch 19/100\n",
      "133/133 [==============================] - 1s 6ms/step - loss: 42725883904.0000 - mae: 1136.5690 - r2: 0.9527 - val_loss: 762247680.0000 - val_mae: 415.8993 - val_r2: 0.9499\n",
      "Epoch 20/100\n",
      "133/133 [==============================] - 1s 6ms/step - loss: 36640673792.0000 - mae: 1037.1683 - r2: 0.9595 - val_loss: 675603392.0000 - val_mae: 565.6920 - val_r2: 0.9574\n",
      "Epoch 21/100\n",
      "133/133 [==============================] - 1s 6ms/step - loss: 31531757568.0000 - mae: 988.8206 - r2: 0.9683 - val_loss: 555199616.0000 - val_mae: 369.7096 - val_r2: 0.9698\n",
      "Epoch 22/100\n",
      "133/133 [==============================] - 1s 6ms/step - loss: 27089430528.0000 - mae: 896.0699 - r2: 0.9767 - val_loss: 463308448.0000 - val_mae: 304.7975 - val_r2: 0.9774\n",
      "Epoch 23/100\n",
      "133/133 [==============================] - 1s 6ms/step - loss: 22312421376.0000 - mae: 809.0378 - r2: 0.9833 - val_loss: 380539808.0000 - val_mae: 262.5180 - val_r2: 0.9836\n",
      "Epoch 24/100\n",
      "133/133 [==============================] - 1s 6ms/step - loss: 18208174080.0000 - mae: 719.5838 - r2: 0.9871 - val_loss: 305897984.0000 - val_mae: 238.4460 - val_r2: 0.9880\n",
      "Epoch 25/100\n",
      "133/133 [==============================] - 1s 6ms/step - loss: 14589713408.0000 - mae: 644.8781 - r2: 0.9910 - val_loss: 239445728.0000 - val_mae: 211.5203 - val_r2: 0.9915\n",
      "Epoch 26/100\n",
      "133/133 [==============================] - 1s 6ms/step - loss: 11503072256.0000 - mae: 592.6398 - r2: 0.9927 - val_loss: 183520368.0000 - val_mae: 248.1081 - val_r2: 0.9937\n",
      "Epoch 27/100\n",
      "133/133 [==============================] - 1s 6ms/step - loss: 9213772800.0000 - mae: 540.9349 - r2: 0.9950 - val_loss: 135386944.0000 - val_mae: 166.6007 - val_r2: 0.9961\n",
      "Epoch 28/100\n",
      "133/133 [==============================] - 1s 6ms/step - loss: 6469647360.0000 - mae: 443.3985 - r2: 0.9967 - val_loss: 97584928.0000 - val_mae: 154.4818 - val_r2: 0.9973\n",
      "Epoch 29/100\n",
      "133/133 [==============================] - 1s 6ms/step - loss: 4709315072.0000 - mae: 395.8861 - r2: 0.9974 - val_loss: 67377240.0000 - val_mae: 140.3448 - val_r2: 0.9982\n",
      "Epoch 30/100\n",
      "133/133 [==============================] - 1s 6ms/step - loss: 3262081024.0000 - mae: 337.5077 - r2: 0.9982 - val_loss: 45133492.0000 - val_mae: 132.6398 - val_r2: 0.9986\n",
      "Epoch 31/100\n",
      "133/133 [==============================] - 1s 5ms/step - loss: 2180241152.0000 - mae: 291.5484 - r2: 0.9986 - val_loss: 28935392.0000 - val_mae: 118.4612 - val_r2: 0.9989\n",
      "Epoch 32/100\n",
      "133/133 [==============================] - 1s 6ms/step - loss: 1421552768.0000 - mae: 254.0027 - r2: 0.9988 - val_loss: 17465940.0000 - val_mae: 112.6438 - val_r2: 0.9991\n",
      "Epoch 33/100\n",
      "133/133 [==============================] - 1s 6ms/step - loss: 862942400.0000 - mae: 203.9958 - r2: 0.9992 - val_loss: 12169303.0000 - val_mae: 144.4384 - val_r2: 0.9991\n",
      "Epoch 34/100\n",
      "133/133 [==============================] - 1s 6ms/step - loss: 501036544.0000 - mae: 172.7808 - r2: 0.9993 - val_loss: 5585749.0000 - val_mae: 93.6974 - val_r2: 0.9994\n",
      "Epoch 35/100\n",
      "133/133 [==============================] - 1s 6ms/step - loss: 274312544.0000 - mae: 143.7014 - r2: 0.9995 - val_loss: 3316352.7500 - val_mae: 84.4693 - val_r2: 0.9994\n",
      "Epoch 36/100\n",
      "133/133 [==============================] - 1s 6ms/step - loss: 142190880.0000 - mae: 119.9835 - r2: 0.9994 - val_loss: 1274800.5000 - val_mae: 66.5795 - val_r2: 0.9995\n",
      "Epoch 37/100\n",
      "133/133 [==============================] - 1s 6ms/step - loss: 81671680.0000 - mae: 124.2177 - r2: 0.9992 - val_loss: 412428.0000 - val_mae: 77.7378 - val_r2: 0.9991\n",
      "Epoch 38/100\n",
      "133/133 [==============================] - 1s 6ms/step - loss: 30476798.0000 - mae: 93.4658 - r2: 0.9993 - val_loss: 185229.5000 - val_mae: 71.6363 - val_r2: 0.9992\n",
      "Epoch 39/100\n",
      "133/133 [==============================] - 1s 6ms/step - loss: 13400766.0000 - mae: 80.6528 - r2: 0.9994 - val_loss: 69165.3047 - val_mae: 67.0833 - val_r2: 0.9993\n",
      "Epoch 40/100\n",
      "133/133 [==============================] - 1s 6ms/step - loss: 6468304.5000 - mae: 71.8976 - r2: 0.9994 - val_loss: 55443.1562 - val_mae: 62.4017 - val_r2: 0.9994\n",
      "Epoch 41/100\n",
      "133/133 [==============================] - 1s 6ms/step - loss: 2654382.0000 - mae: 70.2110 - r2: 0.9995 - val_loss: 81517.1953 - val_mae: 56.6341 - val_r2: 0.9994\n",
      "Epoch 42/100\n",
      "133/133 [==============================] - 1s 6ms/step - loss: 687606.8125 - mae: 55.1185 - r2: 0.9996 - val_loss: 94795.5391 - val_mae: 53.0712 - val_r2: 0.9995\n",
      "Epoch 43/100\n",
      "133/133 [==============================] - 1s 6ms/step - loss: 383203.0312 - mae: 50.5833 - r2: 0.9997 - val_loss: 98687.8906 - val_mae: 51.2716 - val_r2: 0.9996\n",
      "Epoch 44/100\n",
      "133/133 [==============================] - 1s 6ms/step - loss: 411248.3438 - mae: 46.6274 - r2: 0.9997 - val_loss: 86983.6719 - val_mae: 45.2901 - val_r2: 0.9997\n",
      "Epoch 45/100\n",
      "133/133 [==============================] - 1s 6ms/step - loss: 273559.2500 - mae: 42.9688 - r2: 0.9998 - val_loss: 91853.7812 - val_mae: 41.7965 - val_r2: 0.9998\n",
      "Epoch 46/100\n",
      "133/133 [==============================] - 1s 6ms/step - loss: 240693.1250 - mae: 40.2893 - r2: 0.9998 - val_loss: 93061.3984 - val_mae: 39.7445 - val_r2: 0.9998\n",
      "Epoch 47/100\n",
      "133/133 [==============================] - 1s 6ms/step - loss: 230269.4688 - mae: 38.1061 - r2: 0.9999 - val_loss: 87076.9531 - val_mae: 37.5226 - val_r2: 0.9998\n",
      "Epoch 48/100\n",
      "133/133 [==============================] - 1s 6ms/step - loss: 234637.8125 - mae: 36.5712 - r2: 0.9999 - val_loss: 83214.7500 - val_mae: 35.8304 - val_r2: 0.9999\n",
      "Epoch 49/100\n",
      "133/133 [==============================] - 1s 6ms/step - loss: 243194.0156 - mae: 34.9771 - r2: 0.9999 - val_loss: 80841.6328 - val_mae: 34.6140 - val_r2: 0.9999\n",
      "Epoch 50/100\n",
      "133/133 [==============================] - 1s 5ms/step - loss: 246145.7500 - mae: 33.7591 - r2: 0.9999 - val_loss: 79022.0234 - val_mae: 32.6255 - val_r2: 0.9999\n",
      "Epoch 51/100\n",
      "133/133 [==============================] - 1s 6ms/step - loss: 239339.0000 - mae: 32.0646 - r2: 0.9999 - val_loss: 85261.0859 - val_mae: 31.5187 - val_r2: 0.9999\n",
      "Epoch 52/100\n",
      "133/133 [==============================] - 1s 6ms/step - loss: 238937.9844 - mae: 30.7060 - r2: 0.9999 - val_loss: 82822.0156 - val_mae: 30.5964 - val_r2: 0.9999\n",
      "Epoch 53/100\n",
      "133/133 [==============================] - 1s 5ms/step - loss: 1966404.5000 - mae: 45.3220 - r2: 0.9999 - val_loss: 150561.5469 - val_mae: 56.5059 - val_r2: 0.9998\n",
      "Epoch 54/100\n",
      "133/133 [==============================] - 1s 6ms/step - loss: 660418.1875 - mae: 35.4343 - r2: 0.9999 - val_loss: 91527.1719 - val_mae: 27.7298 - val_r2: 0.9999\n",
      "Epoch 55/100\n",
      "133/133 [==============================] - 1s 6ms/step - loss: 245934.9062 - mae: 27.5037 - r2: 0.9999 - val_loss: 89048.3359 - val_mae: 26.9628 - val_r2: 0.9999\n",
      "Epoch 56/100\n",
      "133/133 [==============================] - 1s 6ms/step - loss: 247116.0156 - mae: 26.4240 - r2: 0.9999 - val_loss: 75460.0469 - val_mae: 25.8234 - val_r2: 0.9999\n",
      "Epoch 57/100\n",
      "133/133 [==============================] - 1s 6ms/step - loss: 280466.5000 - mae: 25.7292 - r2: 0.9999 - val_loss: 73543.1406 - val_mae: 24.7658 - val_r2: 0.9999\n",
      "Epoch 58/100\n",
      "133/133 [==============================] - 1s 6ms/step - loss: 285067.6250 - mae: 24.9337 - r2: 0.9999 - val_loss: 70750.6641 - val_mae: 23.8262 - val_r2: 0.9999\n",
      "Epoch 59/100\n",
      "133/133 [==============================] - 1s 6ms/step - loss: 287134.6562 - mae: 24.4328 - r2: 0.9999 - val_loss: 72001.7422 - val_mae: 24.6128 - val_r2: 0.9999\n",
      "Epoch 60/100\n",
      "133/133 [==============================] - 1s 6ms/step - loss: 277771.3438 - mae: 23.5567 - r2: 0.9999 - val_loss: 79192.4844 - val_mae: 22.8471 - val_r2: 0.9999\n",
      "Epoch 61/100\n",
      "133/133 [==============================] - 1s 6ms/step - loss: 278880.3438 - mae: 22.9340 - r2: 0.9999 - val_loss: 67061.9219 - val_mae: 22.5568 - val_r2: 0.9999\n",
      "Epoch 62/100\n",
      "133/133 [==============================] - 1s 6ms/step - loss: 252294.9531 - mae: 21.7013 - r2: 0.9999 - val_loss: 66287.6094 - val_mae: 25.3609 - val_r2: 0.9999\n",
      "Epoch 63/100\n",
      "133/133 [==============================] - 1s 6ms/step - loss: 348213.9062 - mae: 23.1013 - r2: 0.9999 - val_loss: 79248.0938 - val_mae: 27.9695 - val_r2: 0.9999\n",
      "Epoch 64/100\n",
      "133/133 [==============================] - 1s 6ms/step - loss: 155006.7812 - mae: 22.5039 - r2: 0.9999 - val_loss: 96556.5078 - val_mae: 23.3610 - val_r2: 0.9999\n",
      "Epoch 65/100\n",
      "133/133 [==============================] - 1s 6ms/step - loss: 769866.1875 - mae: 27.1585 - r2: 0.9999 - val_loss: 64204.4336 - val_mae: 34.4976 - val_r2: 0.9999\n",
      "Epoch 66/100\n",
      "133/133 [==============================] - 1s 6ms/step - loss: 1018107.3750 - mae: 27.0944 - r2: 0.9999 - val_loss: 72189.6641 - val_mae: 27.0515 - val_r2: 0.9999\n",
      "Epoch 67/100\n",
      "133/133 [==============================] - 1s 6ms/step - loss: 647391.1875 - mae: 22.8266 - r2: 0.9999 - val_loss: 109919.7891 - val_mae: 31.7686 - val_r2: 0.9999\n",
      "Epoch 68/100\n",
      "133/133 [==============================] - 1s 6ms/step - loss: 409127.5000 - mae: 21.4927 - r2: 0.9999 - val_loss: 125258.7344 - val_mae: 20.0361 - val_r2: 0.9999\n",
      "Epoch 69/100\n",
      "133/133 [==============================] - 1s 5ms/step - loss: 815145.0000 - mae: 24.0467 - r2: 0.9999 - val_loss: 108166.2812 - val_mae: 31.2047 - val_r2: 0.9999\n",
      "Epoch 70/100\n",
      "133/133 [==============================] - 1s 6ms/step - loss: 707267.0000 - mae: 24.3097 - r2: 0.9999 - val_loss: 93126.7969 - val_mae: 23.6832 - val_r2: 0.9999\n",
      "Epoch 71/100\n",
      "133/133 [==============================] - 1s 6ms/step - loss: 711493.3750 - mae: 23.4438 - r2: 0.9999 - val_loss: 143744.9375 - val_mae: 20.2956 - val_r2: 0.9999\n",
      "Epoch 72/100\n",
      "133/133 [==============================] - 1s 5ms/step - loss: 262524.0625 - mae: 20.2801 - r2: 0.9999 - val_loss: 40803.4922 - val_mae: 18.2951 - val_r2: 0.9999\n",
      "Epoch 73/100\n",
      "133/133 [==============================] - 1s 6ms/step - loss: 1128644.3750 - mae: 24.9041 - r2: 0.9999 - val_loss: 14237.0195 - val_mae: 19.9059 - val_r2: 0.9999\n",
      "Epoch 74/100\n",
      "133/133 [==============================] - 1s 6ms/step - loss: 3279016.2500 - mae: 33.7726 - r2: 0.9999 - val_loss: 9227.7061 - val_mae: 32.9539 - val_r2: 0.9999\n",
      "Epoch 75/100\n",
      "133/133 [==============================] - 1s 6ms/step - loss: 9860838.0000 - mae: 40.5685 - r2: 0.9999 - val_loss: 202668.8438 - val_mae: 83.9215 - val_r2: 0.9998\n",
      "Epoch 76/100\n",
      "133/133 [==============================] - 1s 6ms/step - loss: 25624466.0000 - mae: 101.7279 - r2: 0.9996 - val_loss: 491885.9062 - val_mae: 98.4900 - val_r2: 0.9994\n",
      "Epoch 77/100\n",
      "133/133 [==============================] - 1s 6ms/step - loss: 40036432.0000 - mae: 79.9739 - r2: 0.9995 - val_loss: 1133601.8750 - val_mae: 431.6881 - val_r2: 0.9964\n",
      "Epoch 78/100\n",
      "133/133 [==============================] - 1s 6ms/step - loss: 88188312.0000 - mae: 159.6068 - r2: 0.9990 - val_loss: 295051.8438 - val_mae: 29.9386 - val_r2: 0.9999\n",
      "Epoch 79/100\n",
      "133/133 [==============================] - 1s 5ms/step - loss: 5072750.5000 - mae: 48.9825 - r2: 0.9999 - val_loss: 318991.4062 - val_mae: 21.7562 - val_r2: 0.9999\n",
      "Epoch 80/100\n",
      "133/133 [==============================] - 1s 6ms/step - loss: 2970808.0000 - mae: 42.8742 - r2: 0.9999 - val_loss: 184157.1406 - val_mae: 22.1777 - val_r2: 0.9999\n",
      "Epoch 81/100\n",
      "133/133 [==============================] - 1s 6ms/step - loss: 760421.3750 - mae: 27.7440 - r2: 0.9999 - val_loss: 96166.3984 - val_mae: 19.9435 - val_r2: 0.9999\n",
      "Epoch 82/100\n",
      "133/133 [==============================] - 1s 6ms/step - loss: 244927.3438 - mae: 21.4871 - r2: 0.9999 - val_loss: 21579.3027 - val_mae: 17.5714 - val_r2: 0.9999\n",
      "Epoch 83/100\n",
      "133/133 [==============================] - 1s 5ms/step - loss: 2693390.0000 - mae: 39.8933 - r2: 0.9999 - val_loss: 32836.4766 - val_mae: 34.6411 - val_r2: 0.9999\n",
      "Epoch 84/100\n",
      "133/133 [==============================] - 1s 6ms/step - loss: 12756960.0000 - mae: 72.5508 - r2: 0.9998 - val_loss: 40854.2422 - val_mae: 176.1967 - val_r2: 0.9993\n",
      "Epoch 85/100\n",
      "133/133 [==============================] - 1s 6ms/step - loss: 33266726.0000 - mae: 122.9646 - r2: 0.9994 - val_loss: 28568.5117 - val_mae: 28.3602 - val_r2: 0.9999\n",
      "Epoch 86/100\n",
      "133/133 [==============================] - 1s 6ms/step - loss: 18353194.0000 - mae: 133.2617 - r2: 0.9991 - val_loss: 5988168.5000 - val_mae: 66.6192 - val_r2: 0.9992\n",
      "Epoch 87/100\n",
      "133/133 [==============================] - 1s 6ms/step - loss: 198230448.0000 - mae: 253.6545 - r2: 0.9978 - val_loss: 1203268.0000 - val_mae: 353.9706 - val_r2: 0.9975\n",
      "Epoch 88/100\n",
      "133/133 [==============================] - 1s 6ms/step - loss: 48341108.0000 - mae: 172.6618 - r2: 0.9990 - val_loss: 207323.9219 - val_mae: 398.8218 - val_r2: 0.9971\n",
      "Epoch 89/100\n",
      "133/133 [==============================] - 1s 6ms/step - loss: 14746294.0000 - mae: 125.5487 - r2: 0.9996 - val_loss: 432140.0000 - val_mae: 74.6021 - val_r2: 0.9998\n",
      "Epoch 90/100\n",
      "133/133 [==============================] - 1s 6ms/step - loss: 10509430.0000 - mae: 76.4425 - r2: 0.9998 - val_loss: 358803.1875 - val_mae: 85.0120 - val_r2: 0.9998\n",
      "Epoch 91/100\n",
      "133/133 [==============================] - 1s 5ms/step - loss: 11089643.0000 - mae: 152.1734 - r2: 0.9989 - val_loss: 1541194.2500 - val_mae: 245.3291 - val_r2: 0.9988\n",
      "Epoch 92/100\n",
      "133/133 [==============================] - 1s 6ms/step - loss: 39366240.0000 - mae: 202.1543 - r2: 0.9983 - val_loss: 4904555.5000 - val_mae: 114.1272 - val_r2: 0.9987\n",
      "Epoch 93/100\n",
      "133/133 [==============================] - 1s 6ms/step - loss: 171178208.0000 - mae: 237.9907 - r2: 0.9978 - val_loss: 28472.6445 - val_mae: 38.8551 - val_r2: 0.9999\n",
      "Epoch 94/100\n",
      "133/133 [==============================] - 1s 6ms/step - loss: 1215017.3750 - mae: 38.6813 - r2: 0.9999 - val_loss: 25720.2305 - val_mae: 19.7780 - val_r2: 0.9999\n",
      "Epoch 95/100\n",
      "133/133 [==============================] - 1s 6ms/step - loss: 1349018.6250 - mae: 32.4086 - r2: 0.9999 - val_loss: 34270.5938 - val_mae: 34.7033 - val_r2: 0.9999\n",
      "Epoch 96/100\n",
      "133/133 [==============================] - 1s 6ms/step - loss: 1133105.0000 - mae: 35.5022 - r2: 0.9999 - val_loss: 90860.2266 - val_mae: 25.9835 - val_r2: 0.9999\n",
      "Epoch 97/100\n",
      "133/133 [==============================] - 1s 6ms/step - loss: 201009.7656 - mae: 22.6831 - r2: 0.9999 - val_loss: 40326.1172 - val_mae: 19.6987 - val_r2: 0.9999\n",
      "Epoch 98/100\n",
      "133/133 [==============================] - 1s 6ms/step - loss: 958357.1875 - mae: 33.4394 - r2: 0.9999 - val_loss: 10790.7881 - val_mae: 18.8462 - val_r2: 0.9999\n",
      "Epoch 99/100\n",
      "133/133 [==============================] - 1s 5ms/step - loss: 1125127.0000 - mae: 37.0535 - r2: 0.9999 - val_loss: 11894.2969 - val_mae: 22.2184 - val_r2: 0.9999\n",
      "Epoch 100/100\n",
      "133/133 [==============================] - 1s 6ms/step - loss: 4728974.0000 - mae: 57.8881 - r2: 0.9998 - val_loss: 107117.1328 - val_mae: 58.9385 - val_r2: 0.9997\n",
      "--------------------Evaluate------------------------------------\n",
      "1299/1299 [==============================] - 3s 2ms/step - loss: 15991.6074 - mae: 56.2069 - r2: 0.9998\n",
      "Deep Learning Regression Mean Absolute Error: 56.21\n",
      "Deep Learning Regression R-squared Score: 1.00\n"
     ]
    }
   ],
   "source": [
    "X = df_preprocessed.astype(float).to_numpy()\n",
    "y = df['price']\n",
    "X_train, X_test, y_train, y_test = train_test_split(X, y, test_size=0.2, random_state=42)\n",
    "\n",
    "model = Sequential()\n",
    "model.add(Dense(64, activation='relu', input_shape=(X_train.shape[1],)))\n",
    "# model.add(Dropout(0.5))\n",
    "model.add(Dense(32, activation='relu'))\n",
    "# model.add(Dropout(0.3))\n",
    "model.add(Dense(16, activation='relu'))\n",
    "# model.add(Dropout(0.1))\n",
    "model.add(Dense(1))\n",
    "\n",
    "print('--------------------Compile------------------------------------')\n",
    "model.compile(optimizer=tf.keras.optimizers.Adam(learning_rate=0.0001), loss='mse', metrics=['mae', r2])\n",
    "\n",
    "# early_stop = EarlyStopping(monitor='val_loss', patience=100)\n",
    "\n",
    "print('--------------------Fit------------------------------------')\n",
    "history = model.fit(X_train, y_train, validation_split=0.2, batch_size=1000, epochs=100)\n",
    "\n",
    "print('--------------------Evaluate------------------------------------')\n",
    "score = model.evaluate(X_test, y_test)\n",
    "print(f'Deep Learning Regression Mean Absolute Error: {score[1]:.2f}')\n",
    "print(f'Deep Learning Regression R-squared Score: {score[2]:.2f}')"
   ]
  },
  {
   "cell_type": "code",
   "execution_count": 36,
   "metadata": {},
   "outputs": [
    {
     "name": "stdout",
     "output_type": "stream",
     "text": [
      "Model: \"sequential_3\"\n",
      "_________________________________________________________________\n",
      " Layer (type)                Output Shape              Param #   \n",
      "=================================================================\n",
      " dense_12 (Dense)            (None, 64)                19136     \n",
      "                                                                 \n",
      " dense_13 (Dense)            (None, 32)                2080      \n",
      "                                                                 \n",
      " dense_14 (Dense)            (None, 16)                528       \n",
      "                                                                 \n",
      " dense_15 (Dense)            (None, 1)                 17        \n",
      "                                                                 \n",
      "=================================================================\n",
      "Total params: 21,761\n",
      "Trainable params: 21,761\n",
      "Non-trainable params: 0\n",
      "_________________________________________________________________\n"
     ]
    }
   ],
   "source": [
    "model.summary()"
   ]
  },
  {
   "cell_type": "code",
   "execution_count": 37,
   "metadata": {},
   "outputs": [
    {
     "data": {
      "text/plain": [
       "[array([[ 0.07756545,  0.18043354, -0.08142801, ...,  0.14166184,\n",
       "          0.11268731,  0.04504988],\n",
       "        [-0.07078474,  0.18117018,  0.0650039 , ...,  0.04124867,\n",
       "          0.13440739,  0.07045129],\n",
       "        [-0.02478414,  0.00360626, -0.06046724, ...,  0.1731681 ,\n",
       "          0.03924756,  0.05413713],\n",
       "        ...,\n",
       "        [-0.22880995, -0.13888729,  0.02919753, ...,  0.10449643,\n",
       "          0.02917315,  0.26132375],\n",
       "        [ 0.08737887, -0.00719999, -0.05727562, ...,  0.16037567,\n",
       "          0.07101771,  0.17898001],\n",
       "        [-0.00047263, -0.16250099,  0.02253671, ..., -0.05105543,\n",
       "          0.05547773,  0.10153022]], dtype=float32),\n",
       " array([ 0.01330154,  0.07930525,  0.        ,  0.        ,  0.06146939,\n",
       "         0.04846936,  0.07628948,  0.01454827, -0.02135238,  0.        ,\n",
       "        -0.06780432,  0.00459745, -0.01659564,  0.15276518,  0.00578983,\n",
       "        -0.0185874 ,  0.07646849, -0.00760064,  0.05748874,  0.09296624,\n",
       "         0.03563549,  0.15496969, -0.07111946,  0.05539704,  0.04078174,\n",
       "         0.10428171,  0.06269407,  0.        ,  0.09535022,  0.10711501,\n",
       "         0.        ,  0.10018788,  0.        , -0.01849596,  0.06917304,\n",
       "         0.        ,  0.0652908 , -0.03567082,  0.07976711,  0.16181879,\n",
       "         0.03107684,  0.18766975, -0.00298812,  0.06236278,  0.        ,\n",
       "         0.06253339,  0.03306726,  0.        ,  0.        ,  0.05838795,\n",
       "         0.02121792,  0.        ,  0.2188176 ,  0.        ,  0.05034893,\n",
       "         0.04287914,  0.        ,  0.05001898, -0.03797494, -0.01038587,\n",
       "        -0.00760507,  0.05530388,  0.06589092,  0.0799707 ], dtype=float32),\n",
       " array([[ 0.16656668, -0.15360846, -0.01178034, ..., -0.22930032,\n",
       "         -0.05098411,  0.09571069],\n",
       "        [ 0.10883877,  0.02628533,  0.21506904, ..., -0.02087182,\n",
       "         -0.13255586,  0.0449797 ],\n",
       "        [-0.19420004,  0.12536633,  0.21131712, ..., -0.19872504,\n",
       "          0.16874117,  0.21302968],\n",
       "        ...,\n",
       "        [-0.1919281 ,  0.10176207,  0.04973755, ...,  0.1529541 ,\n",
       "          0.19311553,  0.14365277],\n",
       "        [ 0.06032049,  0.24066894, -0.01078505, ...,  0.22452986,\n",
       "         -0.12018514, -0.03594716],\n",
       "        [-0.07814662, -0.16218428, -0.04134464, ...,  0.06575358,\n",
       "          0.16174403,  0.18277678]], dtype=float32),\n",
       " array([ 0.03907077, -0.01123586,  0.03744464,  0.05063641,  0.09734724,\n",
       "         0.        , -0.01600698,  0.        ,  0.        , -0.00073548,\n",
       "         0.06279562, -0.00317632,  0.04941145,  0.        ,  0.10718135,\n",
       "         0.        ,  0.        ,  0.14575002,  0.03889006,  0.        ,\n",
       "         0.06989812,  0.10451358,  0.05557101,  0.05523135,  0.26175714,\n",
       "        -0.0130508 ,  0.10059692,  0.        , -0.02679476,  0.        ,\n",
       "         0.06215479, -0.00920735], dtype=float32),\n",
       " array([[ 2.45320529e-01,  2.02910408e-01,  8.20089281e-02,\n",
       "          1.73096493e-01,  1.67236775e-02,  2.30955213e-01,\n",
       "         -2.76943803e-01,  2.30684131e-02,  3.85038033e-02,\n",
       "          2.76072532e-01,  2.48020485e-01, -2.52558231e-01,\n",
       "         -3.04647446e-01, -2.68602669e-01, -2.52355961e-03,\n",
       "         -3.63872647e-01],\n",
       "        [ 2.02287108e-01, -3.15632224e-01,  1.62279040e-01,\n",
       "          1.80698968e-02, -1.45630002e-01,  3.55540454e-01,\n",
       "          1.89709127e-01,  2.67729163e-01, -1.96208626e-01,\n",
       "         -1.08377665e-01,  1.04396611e-01,  3.46255213e-01,\n",
       "          3.59013438e-01,  2.18399018e-01, -1.03095502e-01,\n",
       "         -2.87153721e-01],\n",
       "        [ 2.78109998e-01, -2.63127983e-01,  6.51901960e-03,\n",
       "         -1.24607012e-01,  2.79294163e-01,  1.95199579e-01,\n",
       "          3.90492962e-03, -1.71530858e-01,  1.28050297e-01,\n",
       "          1.38191253e-01,  7.55752961e-04, -1.73619896e-01,\n",
       "          3.61258686e-01,  2.04819143e-01, -3.36198695e-02,\n",
       "          4.13382083e-01],\n",
       "        [ 2.77664930e-01, -1.10107936e-01, -1.54010057e-01,\n",
       "         -2.80996978e-01,  3.69847149e-01, -1.42048627e-01,\n",
       "          7.96582550e-02, -2.88908958e-01,  2.79634833e-01,\n",
       "         -5.93984723e-02,  3.95172805e-01, -2.77489126e-01,\n",
       "          3.20740253e-01, -1.07581526e-01, -2.48014539e-01,\n",
       "          1.05890200e-01],\n",
       "        [ 3.94866168e-02, -2.12682143e-01,  1.03892565e-01,\n",
       "         -5.60862161e-02,  2.98170030e-01,  3.45683843e-01,\n",
       "          2.11249888e-01, -3.30898076e-01,  2.19197184e-01,\n",
       "         -3.33028376e-01,  3.44205201e-02,  2.06466168e-01,\n",
       "         -2.66964376e-01,  1.86402321e-01,  1.16396062e-01,\n",
       "          1.09309793e-01],\n",
       "        [-3.00805688e-01, -2.28860676e-02,  1.31975085e-01,\n",
       "         -1.52842507e-01, -2.05220342e-01, -3.04561555e-01,\n",
       "          1.43773109e-01, -3.98212671e-03, -5.64528406e-02,\n",
       "         -2.27895841e-01,  3.26514989e-01, -2.28068814e-01,\n",
       "         -2.04672426e-01,  3.17028195e-01, -2.71947056e-01,\n",
       "         -1.33218929e-01],\n",
       "        [ 3.51871282e-01, -5.35968281e-02,  3.90408635e-02,\n",
       "          4.74205315e-02,  6.16441742e-02,  1.33785188e-01,\n",
       "         -4.39497493e-02, -8.53720754e-02, -1.47112876e-01,\n",
       "         -2.17720494e-01,  1.61540378e-02, -2.14730769e-01,\n",
       "         -1.64166272e-01,  2.20296487e-01, -6.69515654e-02,\n",
       "          3.12884361e-01],\n",
       "        [ 1.42578244e-01,  3.95973027e-02, -3.29324245e-01,\n",
       "          1.19067281e-01, -2.64938295e-01,  2.31734902e-01,\n",
       "          2.26361603e-01, -2.22498015e-01,  2.25505859e-01,\n",
       "          5.98123670e-02,  9.20242667e-02,  3.15226316e-02,\n",
       "          2.05145508e-01, -1.56460896e-01, -4.32423353e-02,\n",
       "         -2.35789776e-01],\n",
       "        [ 3.90713215e-02, -1.62560344e-02, -2.00855359e-01,\n",
       "         -3.11521083e-01,  3.11225623e-01,  3.16259235e-01,\n",
       "         -1.40671730e-02, -1.75497115e-01,  2.76759356e-01,\n",
       "          2.42693335e-01,  3.52312416e-01, -2.30776668e-01,\n",
       "          7.88052380e-02,  2.89479822e-01,  2.76111156e-01,\n",
       "          2.28489012e-01],\n",
       "        [-3.51404548e-02,  1.33903921e-02,  2.38905340e-01,\n",
       "          3.36950481e-01,  9.71452445e-02, -2.21821621e-01,\n",
       "          2.24609628e-01, -1.02517381e-01,  6.92698583e-02,\n",
       "         -2.91263282e-01, -3.33504289e-01, -6.51380420e-02,\n",
       "         -3.05460364e-01,  1.13198511e-01,  3.19451928e-01,\n",
       "          1.20925702e-01],\n",
       "        [-2.67086327e-02,  5.98789565e-02, -2.74239838e-01,\n",
       "          1.25973061e-01,  2.09907383e-01, -1.42536372e-01,\n",
       "          3.51453543e-01,  3.37190449e-01, -1.75410971e-01,\n",
       "         -2.52677619e-01,  2.71508127e-01, -8.30962062e-02,\n",
       "         -2.10562944e-01,  1.52080849e-01,  2.59201556e-01,\n",
       "          2.72026271e-01],\n",
       "        [ 1.58401102e-01,  1.05580479e-01, -2.63617247e-01,\n",
       "          1.58452928e-01, -3.34965050e-01,  1.04619682e-01,\n",
       "         -1.55135557e-01, -2.45747223e-01, -1.75379023e-01,\n",
       "          1.19826347e-01, -8.26150849e-02,  3.27492148e-01,\n",
       "          9.87859666e-02,  2.68995762e-01,  1.67228550e-01,\n",
       "          2.41257146e-01],\n",
       "        [-8.81683528e-02,  1.15621254e-01,  9.93066430e-02,\n",
       "         -3.82262692e-02, -2.48065069e-01,  7.12683052e-02,\n",
       "          3.31538558e-01, -2.74853230e-01,  1.62972614e-01,\n",
       "          2.11864710e-03, -1.83967307e-01,  2.11064816e-02,\n",
       "          3.27664822e-01, -8.56003836e-02,  3.16714823e-01,\n",
       "         -3.65341038e-01],\n",
       "        [-1.44354805e-01, -9.12684202e-02, -2.09313974e-01,\n",
       "          3.32316488e-01,  8.35557878e-02, -3.21624547e-01,\n",
       "          3.09338540e-01, -3.36104602e-01, -1.63673490e-01,\n",
       "         -8.27502012e-02,  1.56933814e-01,  4.36215699e-02,\n",
       "          1.22175634e-01, -3.41955572e-01, -1.91835761e-01,\n",
       "          4.93870974e-02],\n",
       "        [-2.43628502e-01, -3.34150553e-01, -2.04281300e-01,\n",
       "         -4.51533869e-03, -2.33187422e-01,  1.13004588e-01,\n",
       "         -2.42104605e-01, -1.25387952e-01, -3.49781215e-01,\n",
       "          1.36704057e-01, -5.33099137e-02, -3.34671259e-01,\n",
       "          1.82571277e-01, -5.98375276e-02, -2.75507778e-01,\n",
       "          4.82666075e-01],\n",
       "        [-1.37585849e-01,  3.23596001e-02, -4.70206141e-02,\n",
       "          1.36622787e-03, -2.73933709e-01,  2.46515423e-01,\n",
       "          2.18918890e-01, -2.74758101e-01, -3.19822013e-01,\n",
       "         -9.67957973e-02, -3.27004164e-01,  3.05408448e-01,\n",
       "          6.26782775e-02, -3.24276149e-01, -2.34935462e-01,\n",
       "          3.10918063e-01],\n",
       "        [-2.00390384e-01,  1.05080009e-03,  6.36790097e-02,\n",
       "         -2.73654014e-01, -2.29351223e-02,  7.79120028e-02,\n",
       "          2.10166544e-01, -2.29684144e-01,  4.13142741e-02,\n",
       "         -2.18383133e-01,  7.99012482e-02, -2.59856224e-01,\n",
       "          1.55812770e-01, -2.33863592e-02,  3.65835428e-02,\n",
       "         -7.23533332e-02],\n",
       "        [-7.81438053e-02, -9.19723883e-02,  2.57457286e-01,\n",
       "          3.63050729e-01, -2.81492025e-01, -2.70849586e-01,\n",
       "         -3.84752393e-01,  2.01779172e-01, -2.02363804e-01,\n",
       "         -2.12509379e-01,  1.92787144e-02,  1.44131690e-01,\n",
       "         -2.50032991e-01,  3.45903844e-01, -1.30576983e-01,\n",
       "          2.82083243e-01],\n",
       "        [-2.57086664e-01, -2.53914576e-03, -1.32705271e-02,\n",
       "         -2.02417478e-01,  8.30057785e-02,  1.58233389e-01,\n",
       "          1.68367028e-01,  1.56928629e-01, -2.45235026e-01,\n",
       "         -1.04386613e-01, -1.47316828e-01, -1.84662879e-01,\n",
       "          1.71024770e-01, -4.01899725e-01, -7.71339387e-02,\n",
       "         -1.86763749e-01],\n",
       "        [-2.98689067e-01,  1.51354581e-01,  2.28613287e-01,\n",
       "          1.05139941e-01,  5.46902418e-04, -6.47540689e-02,\n",
       "         -1.10170171e-01,  2.98032492e-01,  2.62042880e-03,\n",
       "          6.73575699e-02,  2.81534225e-01, -3.30750078e-01,\n",
       "         -3.42378408e-01, -2.66767293e-01, -1.10310361e-01,\n",
       "         -1.09467253e-01],\n",
       "        [ 3.38096917e-02, -1.36264309e-01,  2.10378617e-01,\n",
       "          9.38408524e-02,  3.28708410e-01, -5.70881441e-02,\n",
       "          1.15892753e-01, -1.77351549e-01, -2.66930133e-01,\n",
       "          2.81648844e-01,  6.06604144e-02,  2.00021267e-03,\n",
       "         -2.64585584e-01, -3.17098647e-01,  3.67817938e-01,\n",
       "         -2.57675290e-01],\n",
       "        [-3.05466443e-01,  2.21907020e-01, -2.93948054e-02,\n",
       "          3.41369808e-01,  5.07418485e-03, -4.33443636e-01,\n",
       "         -3.93035740e-01,  4.42751050e-01, -3.34514141e-01,\n",
       "         -9.09133554e-02,  1.41954586e-01, -1.01661652e-01,\n",
       "         -3.66384208e-01,  4.63023394e-01,  2.36820623e-01,\n",
       "          2.52009600e-01],\n",
       "        [-4.25062776e-02, -2.28922412e-01,  2.80058056e-01,\n",
       "         -3.19932371e-01,  3.91088277e-01, -7.92415366e-02,\n",
       "         -2.00652719e-01, -1.01530977e-01,  1.77887842e-01,\n",
       "          3.05029958e-01,  3.82628024e-01,  1.41066849e-01,\n",
       "         -1.93993524e-02,  1.41764104e-01, -5.55834137e-02,\n",
       "         -3.52476351e-02],\n",
       "        [-1.74677521e-01,  9.03331116e-02,  2.03460366e-01,\n",
       "         -3.11947703e-01,  2.76877791e-01,  3.21368188e-01,\n",
       "          2.72262007e-01, -3.07839632e-01,  1.97775915e-01,\n",
       "          2.80842215e-01,  3.08042139e-01, -5.45439124e-02,\n",
       "         -2.79411525e-01, -3.68125439e-02, -1.45126566e-01,\n",
       "         -3.16037446e-01],\n",
       "        [-1.65823400e-02,  4.72590467e-03,  6.11156225e-02,\n",
       "          3.50584984e-01, -2.77519226e-02, -7.68897474e-01,\n",
       "         -2.13293150e-01, -1.85681507e-01, -6.14905417e-01,\n",
       "          3.13415915e-01, -2.26947144e-01,  7.51643479e-02,\n",
       "         -2.39081278e-01, -8.67667869e-02, -4.11743373e-01,\n",
       "          2.86217839e-01],\n",
       "        [ 5.44162989e-02,  2.20956445e-01, -3.29291284e-01,\n",
       "          2.76806563e-01, -8.99025872e-02,  5.27665466e-02,\n",
       "          2.10722446e-01, -3.14240277e-01, -6.10171445e-02,\n",
       "         -1.59092888e-01, -2.53808588e-01,  6.75150752e-03,\n",
       "          1.78593993e-02, -2.62131661e-01, -2.59617269e-02,\n",
       "         -1.83471248e-01],\n",
       "        [-2.89423078e-01,  1.14040740e-01, -1.17922753e-01,\n",
       "         -3.20122205e-03,  3.93536836e-01,  4.06016037e-02,\n",
       "          3.99391294e-01, -9.76786688e-02,  2.64413148e-01,\n",
       "         -2.65969217e-01, -4.74348515e-02, -9.19254720e-02,\n",
       "          1.23783730e-01, -1.15360335e-01, -2.85526693e-01,\n",
       "          1.67704225e-01],\n",
       "        [-1.32772103e-01, -2.93452054e-01,  7.66059756e-03,\n",
       "         -2.08550990e-02, -3.35840285e-02,  2.01856524e-01,\n",
       "         -1.26953125e-02, -1.83483660e-02, -2.30744630e-01,\n",
       "          1.83114380e-01,  9.73631740e-02, -8.26350451e-02,\n",
       "         -1.30778894e-01, -1.77413821e-02, -1.23817325e-01,\n",
       "          2.70986587e-01],\n",
       "        [-1.36662930e-01, -2.83214331e-01, -1.50106668e-01,\n",
       "          2.24804968e-01,  6.50266279e-03, -9.92543548e-02,\n",
       "         -1.25958115e-01,  1.90648809e-01,  3.55139345e-01,\n",
       "         -1.43163577e-01,  2.36603752e-01, -2.66057372e-01,\n",
       "          1.44889271e-02,  1.50506750e-01, -3.18800718e-01,\n",
       "         -2.46086821e-01],\n",
       "        [ 1.47114307e-01, -1.09438166e-01,  3.49454612e-01,\n",
       "          2.33298391e-01, -1.01316899e-01,  6.01882339e-02,\n",
       "          2.69901007e-01,  3.32361370e-01, -2.28004664e-01,\n",
       "         -3.02385747e-01,  1.82528883e-01,  1.32661432e-01,\n",
       "         -3.26124132e-01, -1.36595577e-01,  9.38692093e-02,\n",
       "          2.89026588e-01],\n",
       "        [-2.39096195e-01,  2.60417074e-01, -2.25228041e-01,\n",
       "          1.16910912e-01,  3.63810688e-01,  1.52835488e-01,\n",
       "          1.50791809e-01,  2.73584574e-01,  1.76498085e-01,\n",
       "         -3.16882521e-01, -1.87511817e-01, -1.12388700e-01,\n",
       "          3.87640111e-02,  2.43566468e-01,  2.19839275e-01,\n",
       "          1.66676715e-01],\n",
       "        [ 2.52939612e-01,  3.48806590e-01,  2.85515159e-01,\n",
       "          1.12412199e-01, -1.56854734e-01, -9.50091928e-02,\n",
       "          9.12600011e-03,  2.17291147e-01, -1.20032556e-01,\n",
       "          3.33973169e-02, -1.89928547e-01,  2.91707665e-01,\n",
       "          2.11407840e-02, -2.46836931e-01, -2.79899508e-01,\n",
       "         -1.76746473e-01]], dtype=float32),\n",
       " array([ 0.        ,  0.04255793,  0.        , -0.00520559,  0.05290853,\n",
       "         0.09960896,  0.05348221, -0.01378341,  0.05917257,  0.        ,\n",
       "         0.06958821,  0.        ,  0.01188933, -0.03517761,  0.05348766,\n",
       "         0.05766223], dtype=float32),\n",
       " array([[-0.28299654],\n",
       "        [ 0.1621288 ],\n",
       "        [ 0.05329978],\n",
       "        [-0.3171123 ],\n",
       "        [ 0.62384975],\n",
       "        [ 0.3579178 ],\n",
       "        [ 0.31808305],\n",
       "        [-0.23206973],\n",
       "        [ 0.1863398 ],\n",
       "        [-0.25226098],\n",
       "        [ 0.42772073],\n",
       "        [ 0.27776557],\n",
       "        [ 0.03468432],\n",
       "        [-0.4419113 ],\n",
       "        [ 0.6482162 ],\n",
       "        [-0.19620642]], dtype=float32),\n",
       " array([0.05206153], dtype=float32)]"
      ]
     },
     "execution_count": 37,
     "metadata": {},
     "output_type": "execute_result"
    }
   ],
   "source": [
    "model.get_weights()"
   ]
  },
  {
   "cell_type": "code",
   "execution_count": 38,
   "metadata": {},
   "outputs": [
    {
     "name": "stdout",
     "output_type": "stream",
     "text": [
      "1299/1299 [==============================] - 2s 2ms/step\n",
      "[[141644.22  ]\n",
      " [  1080.4426]\n",
      " [  4453.525 ]\n",
      " ...\n",
      " [  2175.138 ]\n",
      " [  6447.228 ]\n",
      " [ 17506.455 ]]\n"
     ]
    }
   ],
   "source": [
    "predictions = model.predict(X_test)\n",
    "\n",
    "# Print the predicted prices\n",
    "print(predictions)"
   ]
  },
  {
   "cell_type": "code",
   "execution_count": 39,
   "metadata": {},
   "outputs": [
    {
     "data": {
      "text/plain": [
       "120328    145000\n",
       "34901       1095\n",
       "165437      4480\n",
       "155406      1325\n",
       "24030       1800\n",
       "           ...  \n",
       "155498      6700\n",
       "93180        650\n",
       "153338      2200\n",
       "131690      6500\n",
       "127733     17799\n",
       "Name: price, Length: 41547, dtype: int64"
      ]
     },
     "execution_count": 39,
     "metadata": {},
     "output_type": "execute_result"
    }
   ],
   "source": [
    "y_test"
   ]
  },
  {
   "cell_type": "code",
   "execution_count": 40,
   "metadata": {},
   "outputs": [
    {
     "data": {
      "application/vnd.plotly.v1+json": {
       "config": {
        "plotlyServerURL": "https://plot.ly"
       },
       "data": [
        {
         "hovertemplate": "variable=loss<br>Epoch=%{x}<br>Loss=%{y}<extra></extra>",
         "legendgroup": "loss",
         "line": {
          "color": "#636efa",
          "dash": "solid"
         },
         "marker": {
          "symbol": "circle"
         },
         "mode": "lines",
         "name": "loss",
         "orientation": "v",
         "showlegend": true,
         "type": "scatter",
         "x": [
          1,
          2,
          3,
          4,
          5,
          6,
          7,
          8,
          9,
          10,
          11,
          12,
          13,
          14,
          15,
          16,
          17,
          18,
          19,
          20,
          21,
          22,
          23,
          24,
          25,
          26,
          27,
          28,
          29,
          30,
          31,
          32,
          33,
          34,
          35,
          36,
          37,
          38,
          39,
          40,
          41,
          42,
          43,
          44,
          45,
          46,
          47,
          48,
          49,
          50,
          51,
          52,
          53,
          54,
          55,
          56,
          57,
          58,
          59,
          60,
          61,
          62,
          63,
          64,
          65,
          66,
          67,
          68,
          69,
          70,
          71,
          72,
          73,
          74,
          75,
          76,
          77,
          78,
          79,
          80,
          81,
          82,
          83,
          84,
          85,
          86,
          87,
          88,
          89,
          90,
          91,
          92,
          93,
          94,
          95,
          96,
          97,
          98,
          99,
          100
         ],
         "xaxis": "x",
         "y": [
          144554967040,
          140285853696,
          134637150208,
          129221705728,
          122941169664,
          117645713408,
          112552460288,
          107255037952,
          100874084352,
          94886305792,
          89406783488,
          83374219264,
          77132742656,
          71093895168,
          65908121600,
          59335217152,
          54772043776,
          47763746816,
          42725883904,
          36640673792,
          31531757568,
          27089430528,
          22312421376,
          18208174080,
          14589713408,
          11503072256,
          9213772800,
          6469647360,
          4709315072,
          3262081024,
          2180241152,
          1421552768,
          862942400,
          501036544,
          274312544,
          142190880,
          81671680,
          30476798,
          13400766,
          6468304.5,
          2654382,
          687606.8125,
          383203.03125,
          411248.34375,
          273559.25,
          240693.125,
          230269.46875,
          234637.8125,
          243194.015625,
          246145.75,
          239339,
          238937.984375,
          1966404.5,
          660418.1875,
          245934.90625,
          247116.015625,
          280466.5,
          285067.625,
          287134.65625,
          277771.34375,
          278880.34375,
          252294.953125,
          348213.90625,
          155006.78125,
          769866.1875,
          1018107.375,
          647391.1875,
          409127.5,
          815145,
          707267,
          711493.375,
          262524.0625,
          1128644.375,
          3279016.25,
          9860838,
          25624466,
          40036432,
          88188312,
          5072750.5,
          2970808,
          760421.375,
          244927.34375,
          2693390,
          12756960,
          33266726,
          18353194,
          198230448,
          48341108,
          14746294,
          10509430,
          11089643,
          39366240,
          171178208,
          1215017.375,
          1349018.625,
          1133105,
          201009.765625,
          958357.1875,
          1125127,
          4728974
         ],
         "yaxis": "y"
        },
        {
         "hovertemplate": "variable=val_loss<br>Epoch=%{x}<br>Loss=%{y}<extra></extra>",
         "legendgroup": "val_loss",
         "line": {
          "color": "#EF553B",
          "dash": "solid"
         },
         "marker": {
          "symbol": "circle"
         },
         "mode": "lines",
         "name": "val_loss",
         "orientation": "v",
         "showlegend": true,
         "type": "scatter",
         "x": [
          1,
          2,
          3,
          4,
          5,
          6,
          7,
          8,
          9,
          10,
          11,
          12,
          13,
          14,
          15,
          16,
          17,
          18,
          19,
          20,
          21,
          22,
          23,
          24,
          25,
          26,
          27,
          28,
          29,
          30,
          31,
          32,
          33,
          34,
          35,
          36,
          37,
          38,
          39,
          40,
          41,
          42,
          43,
          44,
          45,
          46,
          47,
          48,
          49,
          50,
          51,
          52,
          53,
          54,
          55,
          56,
          57,
          58,
          59,
          60,
          61,
          62,
          63,
          64,
          65,
          66,
          67,
          68,
          69,
          70,
          71,
          72,
          73,
          74,
          75,
          76,
          77,
          78,
          79,
          80,
          81,
          82,
          83,
          84,
          85,
          86,
          87,
          88,
          89,
          90,
          91,
          92,
          93,
          94,
          95,
          96,
          97,
          98,
          99,
          100
         ],
         "xaxis": "x",
         "y": [
          2931755264,
          2811236608,
          2695835136,
          2567286784,
          2439734528,
          2331420160,
          2254716928,
          2088880512,
          1961581952,
          1836072320,
          1743551360,
          1604096128,
          1472912512,
          1374160128,
          1228234368,
          1121984256,
          995276352,
          881273216,
          762247680,
          675603392,
          555199616,
          463308448,
          380539808,
          305897984,
          239445728,
          183520368,
          135386944,
          97584928,
          67377240,
          45133492,
          28935392,
          17465940,
          12169303,
          5585749,
          3316352.75,
          1274800.5,
          412428,
          185229.5,
          69165.3046875,
          55443.15625,
          81517.1953125,
          94795.5390625,
          98687.890625,
          86983.671875,
          91853.78125,
          93061.3984375,
          87076.953125,
          83214.75,
          80841.6328125,
          79022.0234375,
          85261.0859375,
          82822.015625,
          150561.546875,
          91527.171875,
          89048.3359375,
          75460.046875,
          73543.140625,
          70750.6640625,
          72001.7421875,
          79192.484375,
          67061.921875,
          66287.609375,
          79248.09375,
          96556.5078125,
          64204.43359375,
          72189.6640625,
          109919.7890625,
          125258.734375,
          108166.28125,
          93126.796875,
          143744.9375,
          40803.4921875,
          14237.01953125,
          9227.7060546875,
          202668.84375,
          491885.90625,
          1133601.875,
          295051.84375,
          318991.40625,
          184157.140625,
          96166.3984375,
          21579.302734375,
          32836.4765625,
          40854.2421875,
          28568.51171875,
          5988168.5,
          1203268,
          207323.921875,
          432140,
          358803.1875,
          1541194.25,
          4904555.5,
          28472.64453125,
          25720.23046875,
          34270.59375,
          90860.2265625,
          40326.1171875,
          10790.7880859375,
          11894.296875,
          107117.1328125
         ],
         "yaxis": "y"
        }
       ],
       "layout": {
        "legend": {
         "title": {
          "text": "variable"
         },
         "tracegroupgap": 0
        },
        "template": {
         "data": {
          "bar": [
           {
            "error_x": {
             "color": "#2a3f5f"
            },
            "error_y": {
             "color": "#2a3f5f"
            },
            "marker": {
             "line": {
              "color": "#E5ECF6",
              "width": 0.5
             },
             "pattern": {
              "fillmode": "overlay",
              "size": 10,
              "solidity": 0.2
             }
            },
            "type": "bar"
           }
          ],
          "barpolar": [
           {
            "marker": {
             "line": {
              "color": "#E5ECF6",
              "width": 0.5
             },
             "pattern": {
              "fillmode": "overlay",
              "size": 10,
              "solidity": 0.2
             }
            },
            "type": "barpolar"
           }
          ],
          "carpet": [
           {
            "aaxis": {
             "endlinecolor": "#2a3f5f",
             "gridcolor": "white",
             "linecolor": "white",
             "minorgridcolor": "white",
             "startlinecolor": "#2a3f5f"
            },
            "baxis": {
             "endlinecolor": "#2a3f5f",
             "gridcolor": "white",
             "linecolor": "white",
             "minorgridcolor": "white",
             "startlinecolor": "#2a3f5f"
            },
            "type": "carpet"
           }
          ],
          "choropleth": [
           {
            "colorbar": {
             "outlinewidth": 0,
             "ticks": ""
            },
            "type": "choropleth"
           }
          ],
          "contour": [
           {
            "colorbar": {
             "outlinewidth": 0,
             "ticks": ""
            },
            "colorscale": [
             [
              0,
              "#0d0887"
             ],
             [
              0.1111111111111111,
              "#46039f"
             ],
             [
              0.2222222222222222,
              "#7201a8"
             ],
             [
              0.3333333333333333,
              "#9c179e"
             ],
             [
              0.4444444444444444,
              "#bd3786"
             ],
             [
              0.5555555555555556,
              "#d8576b"
             ],
             [
              0.6666666666666666,
              "#ed7953"
             ],
             [
              0.7777777777777778,
              "#fb9f3a"
             ],
             [
              0.8888888888888888,
              "#fdca26"
             ],
             [
              1,
              "#f0f921"
             ]
            ],
            "type": "contour"
           }
          ],
          "contourcarpet": [
           {
            "colorbar": {
             "outlinewidth": 0,
             "ticks": ""
            },
            "type": "contourcarpet"
           }
          ],
          "heatmap": [
           {
            "colorbar": {
             "outlinewidth": 0,
             "ticks": ""
            },
            "colorscale": [
             [
              0,
              "#0d0887"
             ],
             [
              0.1111111111111111,
              "#46039f"
             ],
             [
              0.2222222222222222,
              "#7201a8"
             ],
             [
              0.3333333333333333,
              "#9c179e"
             ],
             [
              0.4444444444444444,
              "#bd3786"
             ],
             [
              0.5555555555555556,
              "#d8576b"
             ],
             [
              0.6666666666666666,
              "#ed7953"
             ],
             [
              0.7777777777777778,
              "#fb9f3a"
             ],
             [
              0.8888888888888888,
              "#fdca26"
             ],
             [
              1,
              "#f0f921"
             ]
            ],
            "type": "heatmap"
           }
          ],
          "heatmapgl": [
           {
            "colorbar": {
             "outlinewidth": 0,
             "ticks": ""
            },
            "colorscale": [
             [
              0,
              "#0d0887"
             ],
             [
              0.1111111111111111,
              "#46039f"
             ],
             [
              0.2222222222222222,
              "#7201a8"
             ],
             [
              0.3333333333333333,
              "#9c179e"
             ],
             [
              0.4444444444444444,
              "#bd3786"
             ],
             [
              0.5555555555555556,
              "#d8576b"
             ],
             [
              0.6666666666666666,
              "#ed7953"
             ],
             [
              0.7777777777777778,
              "#fb9f3a"
             ],
             [
              0.8888888888888888,
              "#fdca26"
             ],
             [
              1,
              "#f0f921"
             ]
            ],
            "type": "heatmapgl"
           }
          ],
          "histogram": [
           {
            "marker": {
             "pattern": {
              "fillmode": "overlay",
              "size": 10,
              "solidity": 0.2
             }
            },
            "type": "histogram"
           }
          ],
          "histogram2d": [
           {
            "colorbar": {
             "outlinewidth": 0,
             "ticks": ""
            },
            "colorscale": [
             [
              0,
              "#0d0887"
             ],
             [
              0.1111111111111111,
              "#46039f"
             ],
             [
              0.2222222222222222,
              "#7201a8"
             ],
             [
              0.3333333333333333,
              "#9c179e"
             ],
             [
              0.4444444444444444,
              "#bd3786"
             ],
             [
              0.5555555555555556,
              "#d8576b"
             ],
             [
              0.6666666666666666,
              "#ed7953"
             ],
             [
              0.7777777777777778,
              "#fb9f3a"
             ],
             [
              0.8888888888888888,
              "#fdca26"
             ],
             [
              1,
              "#f0f921"
             ]
            ],
            "type": "histogram2d"
           }
          ],
          "histogram2dcontour": [
           {
            "colorbar": {
             "outlinewidth": 0,
             "ticks": ""
            },
            "colorscale": [
             [
              0,
              "#0d0887"
             ],
             [
              0.1111111111111111,
              "#46039f"
             ],
             [
              0.2222222222222222,
              "#7201a8"
             ],
             [
              0.3333333333333333,
              "#9c179e"
             ],
             [
              0.4444444444444444,
              "#bd3786"
             ],
             [
              0.5555555555555556,
              "#d8576b"
             ],
             [
              0.6666666666666666,
              "#ed7953"
             ],
             [
              0.7777777777777778,
              "#fb9f3a"
             ],
             [
              0.8888888888888888,
              "#fdca26"
             ],
             [
              1,
              "#f0f921"
             ]
            ],
            "type": "histogram2dcontour"
           }
          ],
          "mesh3d": [
           {
            "colorbar": {
             "outlinewidth": 0,
             "ticks": ""
            },
            "type": "mesh3d"
           }
          ],
          "parcoords": [
           {
            "line": {
             "colorbar": {
              "outlinewidth": 0,
              "ticks": ""
             }
            },
            "type": "parcoords"
           }
          ],
          "pie": [
           {
            "automargin": true,
            "type": "pie"
           }
          ],
          "scatter": [
           {
            "marker": {
             "colorbar": {
              "outlinewidth": 0,
              "ticks": ""
             }
            },
            "type": "scatter"
           }
          ],
          "scatter3d": [
           {
            "line": {
             "colorbar": {
              "outlinewidth": 0,
              "ticks": ""
             }
            },
            "marker": {
             "colorbar": {
              "outlinewidth": 0,
              "ticks": ""
             }
            },
            "type": "scatter3d"
           }
          ],
          "scattercarpet": [
           {
            "marker": {
             "colorbar": {
              "outlinewidth": 0,
              "ticks": ""
             }
            },
            "type": "scattercarpet"
           }
          ],
          "scattergeo": [
           {
            "marker": {
             "colorbar": {
              "outlinewidth": 0,
              "ticks": ""
             }
            },
            "type": "scattergeo"
           }
          ],
          "scattergl": [
           {
            "marker": {
             "colorbar": {
              "outlinewidth": 0,
              "ticks": ""
             }
            },
            "type": "scattergl"
           }
          ],
          "scattermapbox": [
           {
            "marker": {
             "colorbar": {
              "outlinewidth": 0,
              "ticks": ""
             }
            },
            "type": "scattermapbox"
           }
          ],
          "scatterpolar": [
           {
            "marker": {
             "colorbar": {
              "outlinewidth": 0,
              "ticks": ""
             }
            },
            "type": "scatterpolar"
           }
          ],
          "scatterpolargl": [
           {
            "marker": {
             "colorbar": {
              "outlinewidth": 0,
              "ticks": ""
             }
            },
            "type": "scatterpolargl"
           }
          ],
          "scatterternary": [
           {
            "marker": {
             "colorbar": {
              "outlinewidth": 0,
              "ticks": ""
             }
            },
            "type": "scatterternary"
           }
          ],
          "surface": [
           {
            "colorbar": {
             "outlinewidth": 0,
             "ticks": ""
            },
            "colorscale": [
             [
              0,
              "#0d0887"
             ],
             [
              0.1111111111111111,
              "#46039f"
             ],
             [
              0.2222222222222222,
              "#7201a8"
             ],
             [
              0.3333333333333333,
              "#9c179e"
             ],
             [
              0.4444444444444444,
              "#bd3786"
             ],
             [
              0.5555555555555556,
              "#d8576b"
             ],
             [
              0.6666666666666666,
              "#ed7953"
             ],
             [
              0.7777777777777778,
              "#fb9f3a"
             ],
             [
              0.8888888888888888,
              "#fdca26"
             ],
             [
              1,
              "#f0f921"
             ]
            ],
            "type": "surface"
           }
          ],
          "table": [
           {
            "cells": {
             "fill": {
              "color": "#EBF0F8"
             },
             "line": {
              "color": "white"
             }
            },
            "header": {
             "fill": {
              "color": "#C8D4E3"
             },
             "line": {
              "color": "white"
             }
            },
            "type": "table"
           }
          ]
         },
         "layout": {
          "annotationdefaults": {
           "arrowcolor": "#2a3f5f",
           "arrowhead": 0,
           "arrowwidth": 1
          },
          "autotypenumbers": "strict",
          "coloraxis": {
           "colorbar": {
            "outlinewidth": 0,
            "ticks": ""
           }
          },
          "colorscale": {
           "diverging": [
            [
             0,
             "#8e0152"
            ],
            [
             0.1,
             "#c51b7d"
            ],
            [
             0.2,
             "#de77ae"
            ],
            [
             0.3,
             "#f1b6da"
            ],
            [
             0.4,
             "#fde0ef"
            ],
            [
             0.5,
             "#f7f7f7"
            ],
            [
             0.6,
             "#e6f5d0"
            ],
            [
             0.7,
             "#b8e186"
            ],
            [
             0.8,
             "#7fbc41"
            ],
            [
             0.9,
             "#4d9221"
            ],
            [
             1,
             "#276419"
            ]
           ],
           "sequential": [
            [
             0,
             "#0d0887"
            ],
            [
             0.1111111111111111,
             "#46039f"
            ],
            [
             0.2222222222222222,
             "#7201a8"
            ],
            [
             0.3333333333333333,
             "#9c179e"
            ],
            [
             0.4444444444444444,
             "#bd3786"
            ],
            [
             0.5555555555555556,
             "#d8576b"
            ],
            [
             0.6666666666666666,
             "#ed7953"
            ],
            [
             0.7777777777777778,
             "#fb9f3a"
            ],
            [
             0.8888888888888888,
             "#fdca26"
            ],
            [
             1,
             "#f0f921"
            ]
           ],
           "sequentialminus": [
            [
             0,
             "#0d0887"
            ],
            [
             0.1111111111111111,
             "#46039f"
            ],
            [
             0.2222222222222222,
             "#7201a8"
            ],
            [
             0.3333333333333333,
             "#9c179e"
            ],
            [
             0.4444444444444444,
             "#bd3786"
            ],
            [
             0.5555555555555556,
             "#d8576b"
            ],
            [
             0.6666666666666666,
             "#ed7953"
            ],
            [
             0.7777777777777778,
             "#fb9f3a"
            ],
            [
             0.8888888888888888,
             "#fdca26"
            ],
            [
             1,
             "#f0f921"
            ]
           ]
          },
          "colorway": [
           "#636efa",
           "#EF553B",
           "#00cc96",
           "#ab63fa",
           "#FFA15A",
           "#19d3f3",
           "#FF6692",
           "#B6E880",
           "#FF97FF",
           "#FECB52"
          ],
          "font": {
           "color": "#2a3f5f"
          },
          "geo": {
           "bgcolor": "white",
           "lakecolor": "white",
           "landcolor": "#E5ECF6",
           "showlakes": true,
           "showland": true,
           "subunitcolor": "white"
          },
          "hoverlabel": {
           "align": "left"
          },
          "hovermode": "closest",
          "mapbox": {
           "style": "light"
          },
          "paper_bgcolor": "white",
          "plot_bgcolor": "#E5ECF6",
          "polar": {
           "angularaxis": {
            "gridcolor": "white",
            "linecolor": "white",
            "ticks": ""
           },
           "bgcolor": "#E5ECF6",
           "radialaxis": {
            "gridcolor": "white",
            "linecolor": "white",
            "ticks": ""
           }
          },
          "scene": {
           "xaxis": {
            "backgroundcolor": "#E5ECF6",
            "gridcolor": "white",
            "gridwidth": 2,
            "linecolor": "white",
            "showbackground": true,
            "ticks": "",
            "zerolinecolor": "white"
           },
           "yaxis": {
            "backgroundcolor": "#E5ECF6",
            "gridcolor": "white",
            "gridwidth": 2,
            "linecolor": "white",
            "showbackground": true,
            "ticks": "",
            "zerolinecolor": "white"
           },
           "zaxis": {
            "backgroundcolor": "#E5ECF6",
            "gridcolor": "white",
            "gridwidth": 2,
            "linecolor": "white",
            "showbackground": true,
            "ticks": "",
            "zerolinecolor": "white"
           }
          },
          "shapedefaults": {
           "line": {
            "color": "#2a3f5f"
           }
          },
          "ternary": {
           "aaxis": {
            "gridcolor": "white",
            "linecolor": "white",
            "ticks": ""
           },
           "baxis": {
            "gridcolor": "white",
            "linecolor": "white",
            "ticks": ""
           },
           "bgcolor": "#E5ECF6",
           "caxis": {
            "gridcolor": "white",
            "linecolor": "white",
            "ticks": ""
           }
          },
          "title": {
           "x": 0.05
          },
          "xaxis": {
           "automargin": true,
           "gridcolor": "white",
           "linecolor": "white",
           "ticks": "",
           "title": {
            "standoff": 15
           },
           "zerolinecolor": "white",
           "zerolinewidth": 2
          },
          "yaxis": {
           "automargin": true,
           "gridcolor": "white",
           "linecolor": "white",
           "ticks": "",
           "title": {
            "standoff": 15
           },
           "zerolinecolor": "white",
           "zerolinewidth": 2
          }
         }
        },
        "title": {
         "text": "Training and Validation Loss"
        },
        "xaxis": {
         "anchor": "y",
         "domain": [
          0,
          1
         ],
         "title": {
          "text": "Epoch"
         }
        },
        "yaxis": {
         "anchor": "x",
         "domain": [
          0,
          1
         ],
         "title": {
          "text": "Loss"
         }
        }
       }
      }
     },
     "metadata": {},
     "output_type": "display_data"
    },
    {
     "data": {
      "application/vnd.plotly.v1+json": {
       "config": {
        "plotlyServerURL": "https://plot.ly"
       },
       "data": [
        {
         "hovertemplate": "variable=mae<br>Epoch=%{x}<br>MAE=%{y}<extra></extra>",
         "legendgroup": "mae",
         "line": {
          "color": "#636efa",
          "dash": "solid"
         },
         "marker": {
          "symbol": "circle"
         },
         "mode": "lines",
         "name": "mae",
         "orientation": "v",
         "showlegend": true,
         "type": "scatter",
         "x": [
          1,
          2,
          3,
          4,
          5,
          6,
          7,
          8,
          9,
          10,
          11,
          12,
          13,
          14,
          15,
          16,
          17,
          18,
          19,
          20,
          21,
          22,
          23,
          24,
          25,
          26,
          27,
          28,
          29,
          30,
          31,
          32,
          33,
          34,
          35,
          36,
          37,
          38,
          39,
          40,
          41,
          42,
          43,
          44,
          45,
          46,
          47,
          48,
          49,
          50,
          51,
          52,
          53,
          54,
          55,
          56,
          57,
          58,
          59,
          60,
          61,
          62,
          63,
          64,
          65,
          66,
          67,
          68,
          69,
          70,
          71,
          72,
          73,
          74,
          75,
          76,
          77,
          78,
          79,
          80,
          81,
          82,
          83,
          84,
          85,
          86,
          87,
          88,
          89,
          90,
          91,
          92,
          93,
          94,
          95,
          96,
          97,
          98,
          99,
          100
         ],
         "xaxis": "x",
         "y": [
          6501.2490234375,
          6150.27099609375,
          5796.470703125,
          5300.63037109375,
          4508.34912109375,
          3838.872314453125,
          3261.518310546875,
          2660.157470703125,
          2184.596923828125,
          2046.5057373046875,
          1914.029052734375,
          1802.9326171875,
          1691.66162109375,
          1581.6552734375,
          1496.435791015625,
          1391.74658203125,
          1333.5361328125,
          1223.748046875,
          1136.5689697265625,
          1037.1683349609375,
          988.820556640625,
          896.0699462890625,
          809.037841796875,
          719.5838012695312,
          644.8780517578125,
          592.6398315429688,
          540.9348754882812,
          443.39849853515625,
          395.8861083984375,
          337.5076599121094,
          291.5484313964844,
          254.00270080566406,
          203.99575805664062,
          172.78079223632812,
          143.70144653320312,
          119.98353576660156,
          124.21774291992188,
          93.46576690673828,
          80.65282440185547,
          71.8976058959961,
          70.21097564697266,
          55.11851119995117,
          50.58334732055664,
          46.627357482910156,
          42.968753814697266,
          40.28925323486328,
          38.106136322021484,
          36.57120132446289,
          34.977073669433594,
          33.759132385253906,
          32.064632415771484,
          30.706043243408203,
          45.322017669677734,
          35.434261322021484,
          27.503747940063477,
          26.42400550842285,
          25.729244232177734,
          24.933650970458984,
          24.432788848876953,
          23.556718826293945,
          22.93404197692871,
          21.701251983642578,
          23.10130500793457,
          22.503868103027344,
          27.158479690551758,
          27.09444808959961,
          22.82656478881836,
          21.492652893066406,
          24.046728134155273,
          24.309677124023438,
          23.443805694580078,
          20.280126571655273,
          24.904109954833984,
          33.77255630493164,
          40.56852722167969,
          101.7278823852539,
          79.97393798828125,
          159.60682678222656,
          48.98250961303711,
          42.87420654296875,
          27.7440128326416,
          21.4870662689209,
          39.8932991027832,
          72.55078125,
          122.96459197998047,
          133.26171875,
          253.65447998046875,
          172.66180419921875,
          125.5487289428711,
          76.4425048828125,
          152.17340087890625,
          202.1543426513672,
          237.99069213867188,
          38.68134307861328,
          32.4085807800293,
          35.502159118652344,
          22.68305778503418,
          33.43935012817383,
          37.053466796875,
          57.88813400268555
         ],
         "yaxis": "y"
        },
        {
         "hovertemplate": "variable=val_mae<br>Epoch=%{x}<br>MAE=%{y}<extra></extra>",
         "legendgroup": "val_mae",
         "line": {
          "color": "#EF553B",
          "dash": "solid"
         },
         "marker": {
          "symbol": "circle"
         },
         "mode": "lines",
         "name": "val_mae",
         "orientation": "v",
         "showlegend": true,
         "type": "scatter",
         "x": [
          1,
          2,
          3,
          4,
          5,
          6,
          7,
          8,
          9,
          10,
          11,
          12,
          13,
          14,
          15,
          16,
          17,
          18,
          19,
          20,
          21,
          22,
          23,
          24,
          25,
          26,
          27,
          28,
          29,
          30,
          31,
          32,
          33,
          34,
          35,
          36,
          37,
          38,
          39,
          40,
          41,
          42,
          43,
          44,
          45,
          46,
          47,
          48,
          49,
          50,
          51,
          52,
          53,
          54,
          55,
          56,
          57,
          58,
          59,
          60,
          61,
          62,
          63,
          64,
          65,
          66,
          67,
          68,
          69,
          70,
          71,
          72,
          73,
          74,
          75,
          76,
          77,
          78,
          79,
          80,
          81,
          82,
          83,
          84,
          85,
          86,
          87,
          88,
          89,
          90,
          91,
          92,
          93,
          94,
          95,
          96,
          97,
          98,
          99,
          100
         ],
         "xaxis": "x",
         "y": [
          5112.86767578125,
          4784.3115234375,
          4411.01904296875,
          3751.3310546875,
          3036.876708984375,
          2448.888427734375,
          2077.7138671875,
          1337.48486328125,
          1054.86474609375,
          1037.3531494140625,
          985.2811279296875,
          820.9380493164062,
          741.4373168945312,
          664.2342529296875,
          594.8457641601562,
          555.1775512695312,
          571.1834106445312,
          567.5401000976562,
          415.8992614746094,
          565.6920166015625,
          369.7096252441406,
          304.7975158691406,
          262.5180358886719,
          238.44601440429688,
          211.52032470703125,
          248.10812377929688,
          166.60072326660156,
          154.48184204101562,
          140.34481811523438,
          132.63980102539062,
          118.46119689941406,
          112.64378356933594,
          144.43844604492188,
          93.69741821289062,
          84.46931457519531,
          66.57950592041016,
          77.73779296875,
          71.63629913330078,
          67.08331298828125,
          62.401737213134766,
          56.6341438293457,
          53.07115936279297,
          51.271629333496094,
          45.29013442993164,
          41.79652404785156,
          39.744510650634766,
          37.522647857666016,
          35.830406188964844,
          34.61397171020508,
          32.62550735473633,
          31.518701553344727,
          30.596406936645508,
          56.50586700439453,
          27.72979164123535,
          26.962848663330078,
          25.82339096069336,
          24.765844345092773,
          23.826173782348633,
          24.61284065246582,
          22.847074508666992,
          22.55683135986328,
          25.36091423034668,
          27.96947479248047,
          23.360986709594727,
          34.49760818481445,
          27.051483154296875,
          31.76861572265625,
          20.036108016967773,
          31.204689025878906,
          23.68316650390625,
          20.295591354370117,
          18.295143127441406,
          19.905929565429688,
          32.9538688659668,
          83.92149353027344,
          98.48999786376953,
          431.6881103515625,
          29.938568115234375,
          21.756210327148438,
          22.17766571044922,
          19.943523406982422,
          17.571395874023438,
          34.64111328125,
          176.19668579101562,
          28.36020851135254,
          66.6191635131836,
          353.97064208984375,
          398.8218078613281,
          74.6020736694336,
          85.01195526123047,
          245.3290557861328,
          114.12723541259766,
          38.85506057739258,
          19.777990341186523,
          34.70330047607422,
          25.983455657958984,
          19.69874382019043,
          18.84619140625,
          22.218441009521484,
          58.93852233886719
         ],
         "yaxis": "y"
        }
       ],
       "layout": {
        "legend": {
         "title": {
          "text": "variable"
         },
         "tracegroupgap": 0
        },
        "template": {
         "data": {
          "bar": [
           {
            "error_x": {
             "color": "#2a3f5f"
            },
            "error_y": {
             "color": "#2a3f5f"
            },
            "marker": {
             "line": {
              "color": "#E5ECF6",
              "width": 0.5
             },
             "pattern": {
              "fillmode": "overlay",
              "size": 10,
              "solidity": 0.2
             }
            },
            "type": "bar"
           }
          ],
          "barpolar": [
           {
            "marker": {
             "line": {
              "color": "#E5ECF6",
              "width": 0.5
             },
             "pattern": {
              "fillmode": "overlay",
              "size": 10,
              "solidity": 0.2
             }
            },
            "type": "barpolar"
           }
          ],
          "carpet": [
           {
            "aaxis": {
             "endlinecolor": "#2a3f5f",
             "gridcolor": "white",
             "linecolor": "white",
             "minorgridcolor": "white",
             "startlinecolor": "#2a3f5f"
            },
            "baxis": {
             "endlinecolor": "#2a3f5f",
             "gridcolor": "white",
             "linecolor": "white",
             "minorgridcolor": "white",
             "startlinecolor": "#2a3f5f"
            },
            "type": "carpet"
           }
          ],
          "choropleth": [
           {
            "colorbar": {
             "outlinewidth": 0,
             "ticks": ""
            },
            "type": "choropleth"
           }
          ],
          "contour": [
           {
            "colorbar": {
             "outlinewidth": 0,
             "ticks": ""
            },
            "colorscale": [
             [
              0,
              "#0d0887"
             ],
             [
              0.1111111111111111,
              "#46039f"
             ],
             [
              0.2222222222222222,
              "#7201a8"
             ],
             [
              0.3333333333333333,
              "#9c179e"
             ],
             [
              0.4444444444444444,
              "#bd3786"
             ],
             [
              0.5555555555555556,
              "#d8576b"
             ],
             [
              0.6666666666666666,
              "#ed7953"
             ],
             [
              0.7777777777777778,
              "#fb9f3a"
             ],
             [
              0.8888888888888888,
              "#fdca26"
             ],
             [
              1,
              "#f0f921"
             ]
            ],
            "type": "contour"
           }
          ],
          "contourcarpet": [
           {
            "colorbar": {
             "outlinewidth": 0,
             "ticks": ""
            },
            "type": "contourcarpet"
           }
          ],
          "heatmap": [
           {
            "colorbar": {
             "outlinewidth": 0,
             "ticks": ""
            },
            "colorscale": [
             [
              0,
              "#0d0887"
             ],
             [
              0.1111111111111111,
              "#46039f"
             ],
             [
              0.2222222222222222,
              "#7201a8"
             ],
             [
              0.3333333333333333,
              "#9c179e"
             ],
             [
              0.4444444444444444,
              "#bd3786"
             ],
             [
              0.5555555555555556,
              "#d8576b"
             ],
             [
              0.6666666666666666,
              "#ed7953"
             ],
             [
              0.7777777777777778,
              "#fb9f3a"
             ],
             [
              0.8888888888888888,
              "#fdca26"
             ],
             [
              1,
              "#f0f921"
             ]
            ],
            "type": "heatmap"
           }
          ],
          "heatmapgl": [
           {
            "colorbar": {
             "outlinewidth": 0,
             "ticks": ""
            },
            "colorscale": [
             [
              0,
              "#0d0887"
             ],
             [
              0.1111111111111111,
              "#46039f"
             ],
             [
              0.2222222222222222,
              "#7201a8"
             ],
             [
              0.3333333333333333,
              "#9c179e"
             ],
             [
              0.4444444444444444,
              "#bd3786"
             ],
             [
              0.5555555555555556,
              "#d8576b"
             ],
             [
              0.6666666666666666,
              "#ed7953"
             ],
             [
              0.7777777777777778,
              "#fb9f3a"
             ],
             [
              0.8888888888888888,
              "#fdca26"
             ],
             [
              1,
              "#f0f921"
             ]
            ],
            "type": "heatmapgl"
           }
          ],
          "histogram": [
           {
            "marker": {
             "pattern": {
              "fillmode": "overlay",
              "size": 10,
              "solidity": 0.2
             }
            },
            "type": "histogram"
           }
          ],
          "histogram2d": [
           {
            "colorbar": {
             "outlinewidth": 0,
             "ticks": ""
            },
            "colorscale": [
             [
              0,
              "#0d0887"
             ],
             [
              0.1111111111111111,
              "#46039f"
             ],
             [
              0.2222222222222222,
              "#7201a8"
             ],
             [
              0.3333333333333333,
              "#9c179e"
             ],
             [
              0.4444444444444444,
              "#bd3786"
             ],
             [
              0.5555555555555556,
              "#d8576b"
             ],
             [
              0.6666666666666666,
              "#ed7953"
             ],
             [
              0.7777777777777778,
              "#fb9f3a"
             ],
             [
              0.8888888888888888,
              "#fdca26"
             ],
             [
              1,
              "#f0f921"
             ]
            ],
            "type": "histogram2d"
           }
          ],
          "histogram2dcontour": [
           {
            "colorbar": {
             "outlinewidth": 0,
             "ticks": ""
            },
            "colorscale": [
             [
              0,
              "#0d0887"
             ],
             [
              0.1111111111111111,
              "#46039f"
             ],
             [
              0.2222222222222222,
              "#7201a8"
             ],
             [
              0.3333333333333333,
              "#9c179e"
             ],
             [
              0.4444444444444444,
              "#bd3786"
             ],
             [
              0.5555555555555556,
              "#d8576b"
             ],
             [
              0.6666666666666666,
              "#ed7953"
             ],
             [
              0.7777777777777778,
              "#fb9f3a"
             ],
             [
              0.8888888888888888,
              "#fdca26"
             ],
             [
              1,
              "#f0f921"
             ]
            ],
            "type": "histogram2dcontour"
           }
          ],
          "mesh3d": [
           {
            "colorbar": {
             "outlinewidth": 0,
             "ticks": ""
            },
            "type": "mesh3d"
           }
          ],
          "parcoords": [
           {
            "line": {
             "colorbar": {
              "outlinewidth": 0,
              "ticks": ""
             }
            },
            "type": "parcoords"
           }
          ],
          "pie": [
           {
            "automargin": true,
            "type": "pie"
           }
          ],
          "scatter": [
           {
            "marker": {
             "colorbar": {
              "outlinewidth": 0,
              "ticks": ""
             }
            },
            "type": "scatter"
           }
          ],
          "scatter3d": [
           {
            "line": {
             "colorbar": {
              "outlinewidth": 0,
              "ticks": ""
             }
            },
            "marker": {
             "colorbar": {
              "outlinewidth": 0,
              "ticks": ""
             }
            },
            "type": "scatter3d"
           }
          ],
          "scattercarpet": [
           {
            "marker": {
             "colorbar": {
              "outlinewidth": 0,
              "ticks": ""
             }
            },
            "type": "scattercarpet"
           }
          ],
          "scattergeo": [
           {
            "marker": {
             "colorbar": {
              "outlinewidth": 0,
              "ticks": ""
             }
            },
            "type": "scattergeo"
           }
          ],
          "scattergl": [
           {
            "marker": {
             "colorbar": {
              "outlinewidth": 0,
              "ticks": ""
             }
            },
            "type": "scattergl"
           }
          ],
          "scattermapbox": [
           {
            "marker": {
             "colorbar": {
              "outlinewidth": 0,
              "ticks": ""
             }
            },
            "type": "scattermapbox"
           }
          ],
          "scatterpolar": [
           {
            "marker": {
             "colorbar": {
              "outlinewidth": 0,
              "ticks": ""
             }
            },
            "type": "scatterpolar"
           }
          ],
          "scatterpolargl": [
           {
            "marker": {
             "colorbar": {
              "outlinewidth": 0,
              "ticks": ""
             }
            },
            "type": "scatterpolargl"
           }
          ],
          "scatterternary": [
           {
            "marker": {
             "colorbar": {
              "outlinewidth": 0,
              "ticks": ""
             }
            },
            "type": "scatterternary"
           }
          ],
          "surface": [
           {
            "colorbar": {
             "outlinewidth": 0,
             "ticks": ""
            },
            "colorscale": [
             [
              0,
              "#0d0887"
             ],
             [
              0.1111111111111111,
              "#46039f"
             ],
             [
              0.2222222222222222,
              "#7201a8"
             ],
             [
              0.3333333333333333,
              "#9c179e"
             ],
             [
              0.4444444444444444,
              "#bd3786"
             ],
             [
              0.5555555555555556,
              "#d8576b"
             ],
             [
              0.6666666666666666,
              "#ed7953"
             ],
             [
              0.7777777777777778,
              "#fb9f3a"
             ],
             [
              0.8888888888888888,
              "#fdca26"
             ],
             [
              1,
              "#f0f921"
             ]
            ],
            "type": "surface"
           }
          ],
          "table": [
           {
            "cells": {
             "fill": {
              "color": "#EBF0F8"
             },
             "line": {
              "color": "white"
             }
            },
            "header": {
             "fill": {
              "color": "#C8D4E3"
             },
             "line": {
              "color": "white"
             }
            },
            "type": "table"
           }
          ]
         },
         "layout": {
          "annotationdefaults": {
           "arrowcolor": "#2a3f5f",
           "arrowhead": 0,
           "arrowwidth": 1
          },
          "autotypenumbers": "strict",
          "coloraxis": {
           "colorbar": {
            "outlinewidth": 0,
            "ticks": ""
           }
          },
          "colorscale": {
           "diverging": [
            [
             0,
             "#8e0152"
            ],
            [
             0.1,
             "#c51b7d"
            ],
            [
             0.2,
             "#de77ae"
            ],
            [
             0.3,
             "#f1b6da"
            ],
            [
             0.4,
             "#fde0ef"
            ],
            [
             0.5,
             "#f7f7f7"
            ],
            [
             0.6,
             "#e6f5d0"
            ],
            [
             0.7,
             "#b8e186"
            ],
            [
             0.8,
             "#7fbc41"
            ],
            [
             0.9,
             "#4d9221"
            ],
            [
             1,
             "#276419"
            ]
           ],
           "sequential": [
            [
             0,
             "#0d0887"
            ],
            [
             0.1111111111111111,
             "#46039f"
            ],
            [
             0.2222222222222222,
             "#7201a8"
            ],
            [
             0.3333333333333333,
             "#9c179e"
            ],
            [
             0.4444444444444444,
             "#bd3786"
            ],
            [
             0.5555555555555556,
             "#d8576b"
            ],
            [
             0.6666666666666666,
             "#ed7953"
            ],
            [
             0.7777777777777778,
             "#fb9f3a"
            ],
            [
             0.8888888888888888,
             "#fdca26"
            ],
            [
             1,
             "#f0f921"
            ]
           ],
           "sequentialminus": [
            [
             0,
             "#0d0887"
            ],
            [
             0.1111111111111111,
             "#46039f"
            ],
            [
             0.2222222222222222,
             "#7201a8"
            ],
            [
             0.3333333333333333,
             "#9c179e"
            ],
            [
             0.4444444444444444,
             "#bd3786"
            ],
            [
             0.5555555555555556,
             "#d8576b"
            ],
            [
             0.6666666666666666,
             "#ed7953"
            ],
            [
             0.7777777777777778,
             "#fb9f3a"
            ],
            [
             0.8888888888888888,
             "#fdca26"
            ],
            [
             1,
             "#f0f921"
            ]
           ]
          },
          "colorway": [
           "#636efa",
           "#EF553B",
           "#00cc96",
           "#ab63fa",
           "#FFA15A",
           "#19d3f3",
           "#FF6692",
           "#B6E880",
           "#FF97FF",
           "#FECB52"
          ],
          "font": {
           "color": "#2a3f5f"
          },
          "geo": {
           "bgcolor": "white",
           "lakecolor": "white",
           "landcolor": "#E5ECF6",
           "showlakes": true,
           "showland": true,
           "subunitcolor": "white"
          },
          "hoverlabel": {
           "align": "left"
          },
          "hovermode": "closest",
          "mapbox": {
           "style": "light"
          },
          "paper_bgcolor": "white",
          "plot_bgcolor": "#E5ECF6",
          "polar": {
           "angularaxis": {
            "gridcolor": "white",
            "linecolor": "white",
            "ticks": ""
           },
           "bgcolor": "#E5ECF6",
           "radialaxis": {
            "gridcolor": "white",
            "linecolor": "white",
            "ticks": ""
           }
          },
          "scene": {
           "xaxis": {
            "backgroundcolor": "#E5ECF6",
            "gridcolor": "white",
            "gridwidth": 2,
            "linecolor": "white",
            "showbackground": true,
            "ticks": "",
            "zerolinecolor": "white"
           },
           "yaxis": {
            "backgroundcolor": "#E5ECF6",
            "gridcolor": "white",
            "gridwidth": 2,
            "linecolor": "white",
            "showbackground": true,
            "ticks": "",
            "zerolinecolor": "white"
           },
           "zaxis": {
            "backgroundcolor": "#E5ECF6",
            "gridcolor": "white",
            "gridwidth": 2,
            "linecolor": "white",
            "showbackground": true,
            "ticks": "",
            "zerolinecolor": "white"
           }
          },
          "shapedefaults": {
           "line": {
            "color": "#2a3f5f"
           }
          },
          "ternary": {
           "aaxis": {
            "gridcolor": "white",
            "linecolor": "white",
            "ticks": ""
           },
           "baxis": {
            "gridcolor": "white",
            "linecolor": "white",
            "ticks": ""
           },
           "bgcolor": "#E5ECF6",
           "caxis": {
            "gridcolor": "white",
            "linecolor": "white",
            "ticks": ""
           }
          },
          "title": {
           "x": 0.05
          },
          "xaxis": {
           "automargin": true,
           "gridcolor": "white",
           "linecolor": "white",
           "ticks": "",
           "title": {
            "standoff": 15
           },
           "zerolinecolor": "white",
           "zerolinewidth": 2
          },
          "yaxis": {
           "automargin": true,
           "gridcolor": "white",
           "linecolor": "white",
           "ticks": "",
           "title": {
            "standoff": 15
           },
           "zerolinecolor": "white",
           "zerolinewidth": 2
          }
         }
        },
        "title": {
         "text": "Training and Validation MAE"
        },
        "xaxis": {
         "anchor": "y",
         "domain": [
          0,
          1
         ],
         "title": {
          "text": "Epoch"
         }
        },
        "yaxis": {
         "anchor": "x",
         "domain": [
          0,
          1
         ],
         "title": {
          "text": "MAE"
         }
        }
       }
      }
     },
     "metadata": {},
     "output_type": "display_data"
    }
   ],
   "source": [
    "import plotly.express as px\n",
    "import pandas as pd\n",
    "\n",
    "# create a dataframe with the training history\n",
    "df_graph = pd.DataFrame(history.history)\n",
    "\n",
    "# create line charts for loss and MAE\n",
    "fig = px.line(df_graph, x=df_graph.index+1, y=['loss', 'val_loss'], labels={'x':'Epoch', 'value':'Loss'},\n",
    "              title='Training and Validation Loss')\n",
    "fig.update_traces(mode='lines')\n",
    "fig.show()\n",
    "\n",
    "fig = px.line(df_graph, x=df_graph.index+1, y=['mae', 'val_mae'], labels={'x':'Epoch', 'value':'MAE'},\n",
    "              title='Training and Validation MAE')\n",
    "fig.update_traces(mode='lines')\n",
    "fig.show()"
   ]
  }
 ],
 "metadata": {
  "kernelspec": {
   "display_name": "base",
   "language": "python",
   "name": "python3"
  },
  "language_info": {
   "codemirror_mode": {
    "name": "ipython",
    "version": 3
   },
   "file_extension": ".py",
   "mimetype": "text/x-python",
   "name": "python",
   "nbconvert_exporter": "python",
   "pygments_lexer": "ipython3",
   "version": "3.9.12"
  },
  "orig_nbformat": 4,
  "vscode": {
   "interpreter": {
    "hash": "8891f3cfb547db503e78f25128202364d60f1c09259e140a1bd236c27b0b7a43"
   }
  }
 },
 "nbformat": 4,
 "nbformat_minor": 2
}
