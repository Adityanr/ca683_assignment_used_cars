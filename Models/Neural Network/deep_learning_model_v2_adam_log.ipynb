{
 "cells": [
  {
   "cell_type": "code",
   "execution_count": 1,
   "metadata": {},
   "outputs": [],
   "source": [
    "import pandas as pd\n",
    "from sklearn.model_selection import train_test_split\n",
    "from sklearn.metrics import r2_score\n",
    "import keras.backend as K\n",
    "# %pip install tensorflow\n",
    "from tensorflow.keras.models import Sequential\n",
    "from tensorflow.keras.layers import Dense\n",
    "from tensorflow.keras.layers import Dropout\n",
    "from tensorflow.keras.callbacks import EarlyStopping\n",
    "import tensorflow as tf\n",
    "from sklearn.decomposition import PCA\n",
    "import seaborn as sns\n",
    "import matplotlib.pyplot as plt\n",
    "import plotly.express as px"
   ]
  },
  {
   "cell_type": "code",
   "execution_count": 2,
   "metadata": {},
   "outputs": [],
   "source": [
    "df = pd.read_csv('../../Dataset/cleaned_used_cars_v3.csv')"
   ]
  },
  {
   "cell_type": "code",
   "execution_count": 3,
   "metadata": {},
   "outputs": [
    {
     "data": {
      "text/plain": [
       "(257567, 313)"
      ]
     },
     "execution_count": 3,
     "metadata": {},
     "output_type": "execute_result"
    }
   ],
   "source": [
    "df.shape"
   ]
  },
  {
   "cell_type": "code",
   "execution_count": 4,
   "metadata": {},
   "outputs": [
    {
     "data": {
      "text/plain": [
       "(257567, 313)"
      ]
     },
     "execution_count": 4,
     "metadata": {},
     "output_type": "execute_result"
    }
   ],
   "source": [
    "df.shape"
   ]
  },
  {
   "cell_type": "code",
   "execution_count": 5,
   "metadata": {},
   "outputs": [
    {
     "data": {
      "text/html": [
       "<div>\n",
       "<style scoped>\n",
       "    .dataframe tbody tr th:only-of-type {\n",
       "        vertical-align: middle;\n",
       "    }\n",
       "\n",
       "    .dataframe tbody tr th {\n",
       "        vertical-align: top;\n",
       "    }\n",
       "\n",
       "    .dataframe thead th {\n",
       "        text-align: right;\n",
       "    }\n",
       "</style>\n",
       "<table border=\"1\" class=\"dataframe\">\n",
       "  <thead>\n",
       "    <tr style=\"text-align: right;\">\n",
       "      <th></th>\n",
       "      <th>seller</th>\n",
       "      <th>offerType</th>\n",
       "      <th>price</th>\n",
       "      <th>abtest</th>\n",
       "      <th>gearbox</th>\n",
       "      <th>powerPS</th>\n",
       "      <th>kilometer</th>\n",
       "      <th>notRepairedDamage</th>\n",
       "      <th>vehicleType.andere</th>\n",
       "      <th>vehicleType.bus</th>\n",
       "      <th>...</th>\n",
       "      <th>model.yeti</th>\n",
       "      <th>model.ypsilon</th>\n",
       "      <th>model.z_reihe</th>\n",
       "      <th>model.zafira</th>\n",
       "      <th>year_range.[1991, 1996)</th>\n",
       "      <th>year_range.[1996, 2001)</th>\n",
       "      <th>year_range.[2001, 2006)</th>\n",
       "      <th>year_range.[2006, 2011)</th>\n",
       "      <th>year_range.[2011, 2016)</th>\n",
       "      <th>year_range.[2016, 2021)</th>\n",
       "    </tr>\n",
       "  </thead>\n",
       "  <tbody>\n",
       "    <tr>\n",
       "      <th>0</th>\n",
       "      <td>0</td>\n",
       "      <td>0</td>\n",
       "      <td>1500.0</td>\n",
       "      <td>0</td>\n",
       "      <td>0</td>\n",
       "      <td>-0.353911</td>\n",
       "      <td>0.647340</td>\n",
       "      <td>0</td>\n",
       "      <td>0</td>\n",
       "      <td>0</td>\n",
       "      <td>...</td>\n",
       "      <td>0</td>\n",
       "      <td>0</td>\n",
       "      <td>0</td>\n",
       "      <td>0</td>\n",
       "      <td>0</td>\n",
       "      <td>0</td>\n",
       "      <td>1</td>\n",
       "      <td>0</td>\n",
       "      <td>0</td>\n",
       "      <td>0</td>\n",
       "    </tr>\n",
       "    <tr>\n",
       "      <th>1</th>\n",
       "      <td>0</td>\n",
       "      <td>0</td>\n",
       "      <td>3600.0</td>\n",
       "      <td>0</td>\n",
       "      <td>0</td>\n",
       "      <td>-0.395023</td>\n",
       "      <td>-0.867131</td>\n",
       "      <td>0</td>\n",
       "      <td>0</td>\n",
       "      <td>0</td>\n",
       "      <td>...</td>\n",
       "      <td>0</td>\n",
       "      <td>0</td>\n",
       "      <td>0</td>\n",
       "      <td>0</td>\n",
       "      <td>0</td>\n",
       "      <td>0</td>\n",
       "      <td>0</td>\n",
       "      <td>1</td>\n",
       "      <td>0</td>\n",
       "      <td>0</td>\n",
       "    </tr>\n",
       "    <tr>\n",
       "      <th>2</th>\n",
       "      <td>0</td>\n",
       "      <td>0</td>\n",
       "      <td>650.0</td>\n",
       "      <td>0</td>\n",
       "      <td>0</td>\n",
       "      <td>-0.168908</td>\n",
       "      <td>0.647340</td>\n",
       "      <td>1</td>\n",
       "      <td>0</td>\n",
       "      <td>0</td>\n",
       "      <td>...</td>\n",
       "      <td>0</td>\n",
       "      <td>0</td>\n",
       "      <td>0</td>\n",
       "      <td>0</td>\n",
       "      <td>1</td>\n",
       "      <td>0</td>\n",
       "      <td>0</td>\n",
       "      <td>0</td>\n",
       "      <td>0</td>\n",
       "      <td>0</td>\n",
       "    </tr>\n",
       "    <tr>\n",
       "      <th>3</th>\n",
       "      <td>0</td>\n",
       "      <td>0</td>\n",
       "      <td>2200.0</td>\n",
       "      <td>0</td>\n",
       "      <td>0</td>\n",
       "      <td>-0.120944</td>\n",
       "      <td>0.647340</td>\n",
       "      <td>0</td>\n",
       "      <td>0</td>\n",
       "      <td>0</td>\n",
       "      <td>...</td>\n",
       "      <td>0</td>\n",
       "      <td>0</td>\n",
       "      <td>0</td>\n",
       "      <td>0</td>\n",
       "      <td>0</td>\n",
       "      <td>0</td>\n",
       "      <td>1</td>\n",
       "      <td>0</td>\n",
       "      <td>0</td>\n",
       "      <td>0</td>\n",
       "    </tr>\n",
       "    <tr>\n",
       "      <th>4</th>\n",
       "      <td>0</td>\n",
       "      <td>0</td>\n",
       "      <td>2000.0</td>\n",
       "      <td>1</td>\n",
       "      <td>0</td>\n",
       "      <td>-0.148352</td>\n",
       "      <td>0.647340</td>\n",
       "      <td>0</td>\n",
       "      <td>0</td>\n",
       "      <td>0</td>\n",
       "      <td>...</td>\n",
       "      <td>0</td>\n",
       "      <td>0</td>\n",
       "      <td>0</td>\n",
       "      <td>0</td>\n",
       "      <td>0</td>\n",
       "      <td>0</td>\n",
       "      <td>1</td>\n",
       "      <td>0</td>\n",
       "      <td>0</td>\n",
       "      <td>0</td>\n",
       "    </tr>\n",
       "    <tr>\n",
       "      <th>...</th>\n",
       "      <td>...</td>\n",
       "      <td>...</td>\n",
       "      <td>...</td>\n",
       "      <td>...</td>\n",
       "      <td>...</td>\n",
       "      <td>...</td>\n",
       "      <td>...</td>\n",
       "      <td>...</td>\n",
       "      <td>...</td>\n",
       "      <td>...</td>\n",
       "      <td>...</td>\n",
       "      <td>...</td>\n",
       "      <td>...</td>\n",
       "      <td>...</td>\n",
       "      <td>...</td>\n",
       "      <td>...</td>\n",
       "      <td>...</td>\n",
       "      <td>...</td>\n",
       "      <td>...</td>\n",
       "      <td>...</td>\n",
       "      <td>...</td>\n",
       "    </tr>\n",
       "    <tr>\n",
       "      <th>257562</th>\n",
       "      <td>0</td>\n",
       "      <td>0</td>\n",
       "      <td>3200.0</td>\n",
       "      <td>1</td>\n",
       "      <td>0</td>\n",
       "      <td>0.673887</td>\n",
       "      <td>0.647340</td>\n",
       "      <td>1</td>\n",
       "      <td>0</td>\n",
       "      <td>0</td>\n",
       "      <td>...</td>\n",
       "      <td>0</td>\n",
       "      <td>0</td>\n",
       "      <td>0</td>\n",
       "      <td>0</td>\n",
       "      <td>0</td>\n",
       "      <td>0</td>\n",
       "      <td>1</td>\n",
       "      <td>0</td>\n",
       "      <td>0</td>\n",
       "      <td>0</td>\n",
       "    </tr>\n",
       "    <tr>\n",
       "      <th>257563</th>\n",
       "      <td>0</td>\n",
       "      <td>0</td>\n",
       "      <td>1150.0</td>\n",
       "      <td>1</td>\n",
       "      <td>0</td>\n",
       "      <td>-0.867810</td>\n",
       "      <td>0.647340</td>\n",
       "      <td>0</td>\n",
       "      <td>0</td>\n",
       "      <td>1</td>\n",
       "      <td>...</td>\n",
       "      <td>0</td>\n",
       "      <td>0</td>\n",
       "      <td>0</td>\n",
       "      <td>1</td>\n",
       "      <td>0</td>\n",
       "      <td>1</td>\n",
       "      <td>0</td>\n",
       "      <td>0</td>\n",
       "      <td>0</td>\n",
       "      <td>0</td>\n",
       "    </tr>\n",
       "    <tr>\n",
       "      <th>257564</th>\n",
       "      <td>0</td>\n",
       "      <td>0</td>\n",
       "      <td>1199.0</td>\n",
       "      <td>0</td>\n",
       "      <td>1</td>\n",
       "      <td>-0.175760</td>\n",
       "      <td>0.016310</td>\n",
       "      <td>0</td>\n",
       "      <td>0</td>\n",
       "      <td>0</td>\n",
       "      <td>...</td>\n",
       "      <td>0</td>\n",
       "      <td>0</td>\n",
       "      <td>0</td>\n",
       "      <td>0</td>\n",
       "      <td>0</td>\n",
       "      <td>1</td>\n",
       "      <td>0</td>\n",
       "      <td>0</td>\n",
       "      <td>0</td>\n",
       "      <td>0</td>\n",
       "    </tr>\n",
       "    <tr>\n",
       "      <th>257565</th>\n",
       "      <td>0</td>\n",
       "      <td>0</td>\n",
       "      <td>9200.0</td>\n",
       "      <td>0</td>\n",
       "      <td>0</td>\n",
       "      <td>-0.168908</td>\n",
       "      <td>0.647340</td>\n",
       "      <td>0</td>\n",
       "      <td>0</td>\n",
       "      <td>1</td>\n",
       "      <td>...</td>\n",
       "      <td>0</td>\n",
       "      <td>0</td>\n",
       "      <td>0</td>\n",
       "      <td>0</td>\n",
       "      <td>0</td>\n",
       "      <td>1</td>\n",
       "      <td>0</td>\n",
       "      <td>0</td>\n",
       "      <td>0</td>\n",
       "      <td>0</td>\n",
       "    </tr>\n",
       "    <tr>\n",
       "      <th>257566</th>\n",
       "      <td>0</td>\n",
       "      <td>0</td>\n",
       "      <td>15499.0</td>\n",
       "      <td>1</td>\n",
       "      <td>0</td>\n",
       "      <td>1.324825</td>\n",
       "      <td>-1.876779</td>\n",
       "      <td>0</td>\n",
       "      <td>0</td>\n",
       "      <td>0</td>\n",
       "      <td>...</td>\n",
       "      <td>0</td>\n",
       "      <td>0</td>\n",
       "      <td>0</td>\n",
       "      <td>0</td>\n",
       "      <td>0</td>\n",
       "      <td>0</td>\n",
       "      <td>0</td>\n",
       "      <td>0</td>\n",
       "      <td>1</td>\n",
       "      <td>0</td>\n",
       "    </tr>\n",
       "  </tbody>\n",
       "</table>\n",
       "<p>257567 rows × 313 columns</p>\n",
       "</div>"
      ],
      "text/plain": [
       "        seller  offerType    price  abtest  gearbox   powerPS  kilometer  \\\n",
       "0            0          0   1500.0       0        0 -0.353911   0.647340   \n",
       "1            0          0   3600.0       0        0 -0.395023  -0.867131   \n",
       "2            0          0    650.0       0        0 -0.168908   0.647340   \n",
       "3            0          0   2200.0       0        0 -0.120944   0.647340   \n",
       "4            0          0   2000.0       1        0 -0.148352   0.647340   \n",
       "...        ...        ...      ...     ...      ...       ...        ...   \n",
       "257562       0          0   3200.0       1        0  0.673887   0.647340   \n",
       "257563       0          0   1150.0       1        0 -0.867810   0.647340   \n",
       "257564       0          0   1199.0       0        1 -0.175760   0.016310   \n",
       "257565       0          0   9200.0       0        0 -0.168908   0.647340   \n",
       "257566       0          0  15499.0       1        0  1.324825  -1.876779   \n",
       "\n",
       "        notRepairedDamage  vehicleType.andere  vehicleType.bus  ...  \\\n",
       "0                       0                   0                0  ...   \n",
       "1                       0                   0                0  ...   \n",
       "2                       1                   0                0  ...   \n",
       "3                       0                   0                0  ...   \n",
       "4                       0                   0                0  ...   \n",
       "...                   ...                 ...              ...  ...   \n",
       "257562                  1                   0                0  ...   \n",
       "257563                  0                   0                1  ...   \n",
       "257564                  0                   0                0  ...   \n",
       "257565                  0                   0                1  ...   \n",
       "257566                  0                   0                0  ...   \n",
       "\n",
       "        model.yeti  model.ypsilon  model.z_reihe  model.zafira  \\\n",
       "0                0              0              0             0   \n",
       "1                0              0              0             0   \n",
       "2                0              0              0             0   \n",
       "3                0              0              0             0   \n",
       "4                0              0              0             0   \n",
       "...            ...            ...            ...           ...   \n",
       "257562           0              0              0             0   \n",
       "257563           0              0              0             1   \n",
       "257564           0              0              0             0   \n",
       "257565           0              0              0             0   \n",
       "257566           0              0              0             0   \n",
       "\n",
       "        year_range.[1991, 1996)  year_range.[1996, 2001)  \\\n",
       "0                             0                        0   \n",
       "1                             0                        0   \n",
       "2                             1                        0   \n",
       "3                             0                        0   \n",
       "4                             0                        0   \n",
       "...                         ...                      ...   \n",
       "257562                        0                        0   \n",
       "257563                        0                        1   \n",
       "257564                        0                        1   \n",
       "257565                        0                        1   \n",
       "257566                        0                        0   \n",
       "\n",
       "        year_range.[2001, 2006)  year_range.[2006, 2011)  \\\n",
       "0                             1                        0   \n",
       "1                             0                        1   \n",
       "2                             0                        0   \n",
       "3                             1                        0   \n",
       "4                             1                        0   \n",
       "...                         ...                      ...   \n",
       "257562                        1                        0   \n",
       "257563                        0                        0   \n",
       "257564                        0                        0   \n",
       "257565                        0                        0   \n",
       "257566                        0                        0   \n",
       "\n",
       "        year_range.[2011, 2016)  year_range.[2016, 2021)  \n",
       "0                             0                        0  \n",
       "1                             0                        0  \n",
       "2                             0                        0  \n",
       "3                             0                        0  \n",
       "4                             0                        0  \n",
       "...                         ...                      ...  \n",
       "257562                        0                        0  \n",
       "257563                        0                        0  \n",
       "257564                        0                        0  \n",
       "257565                        0                        0  \n",
       "257566                        1                        0  \n",
       "\n",
       "[257567 rows x 313 columns]"
      ]
     },
     "execution_count": 5,
     "metadata": {},
     "output_type": "execute_result"
    }
   ],
   "source": [
    "df"
   ]
  },
  {
   "cell_type": "code",
   "execution_count": 6,
   "metadata": {},
   "outputs": [],
   "source": [
    "def r2(y_true, y_pred):\n",
    "    SS_res =  K.sum(K.square(y_true - y_pred)) \n",
    "    SS_tot = K.sum(K.square(y_true - K.mean(y_true)))\n",
    "    return ( 1 - SS_res/(SS_tot + K.epsilon()) )"
   ]
  },
  {
   "cell_type": "code",
   "execution_count": 7,
   "metadata": {},
   "outputs": [
    {
     "data": {
      "text/html": [
       "<div>\n",
       "<style scoped>\n",
       "    .dataframe tbody tr th:only-of-type {\n",
       "        vertical-align: middle;\n",
       "    }\n",
       "\n",
       "    .dataframe tbody tr th {\n",
       "        vertical-align: top;\n",
       "    }\n",
       "\n",
       "    .dataframe thead th {\n",
       "        text-align: right;\n",
       "    }\n",
       "</style>\n",
       "<table border=\"1\" class=\"dataframe\">\n",
       "  <thead>\n",
       "    <tr style=\"text-align: right;\">\n",
       "      <th></th>\n",
       "      <th>seller</th>\n",
       "      <th>offerType</th>\n",
       "      <th>abtest</th>\n",
       "      <th>gearbox</th>\n",
       "      <th>powerPS</th>\n",
       "      <th>kilometer</th>\n",
       "      <th>notRepairedDamage</th>\n",
       "      <th>vehicleType.andere</th>\n",
       "      <th>vehicleType.bus</th>\n",
       "      <th>vehicleType.cabrio</th>\n",
       "      <th>...</th>\n",
       "      <th>model.yeti</th>\n",
       "      <th>model.ypsilon</th>\n",
       "      <th>model.z_reihe</th>\n",
       "      <th>model.zafira</th>\n",
       "      <th>year_range.[1991, 1996)</th>\n",
       "      <th>year_range.[1996, 2001)</th>\n",
       "      <th>year_range.[2001, 2006)</th>\n",
       "      <th>year_range.[2006, 2011)</th>\n",
       "      <th>year_range.[2011, 2016)</th>\n",
       "      <th>year_range.[2016, 2021)</th>\n",
       "    </tr>\n",
       "  </thead>\n",
       "  <tbody>\n",
       "    <tr>\n",
       "      <th>0</th>\n",
       "      <td>0</td>\n",
       "      <td>0</td>\n",
       "      <td>0</td>\n",
       "      <td>0</td>\n",
       "      <td>-0.353911</td>\n",
       "      <td>0.647340</td>\n",
       "      <td>0</td>\n",
       "      <td>0</td>\n",
       "      <td>0</td>\n",
       "      <td>0</td>\n",
       "      <td>...</td>\n",
       "      <td>0</td>\n",
       "      <td>0</td>\n",
       "      <td>0</td>\n",
       "      <td>0</td>\n",
       "      <td>0</td>\n",
       "      <td>0</td>\n",
       "      <td>1</td>\n",
       "      <td>0</td>\n",
       "      <td>0</td>\n",
       "      <td>0</td>\n",
       "    </tr>\n",
       "    <tr>\n",
       "      <th>1</th>\n",
       "      <td>0</td>\n",
       "      <td>0</td>\n",
       "      <td>0</td>\n",
       "      <td>0</td>\n",
       "      <td>-0.395023</td>\n",
       "      <td>-0.867131</td>\n",
       "      <td>0</td>\n",
       "      <td>0</td>\n",
       "      <td>0</td>\n",
       "      <td>0</td>\n",
       "      <td>...</td>\n",
       "      <td>0</td>\n",
       "      <td>0</td>\n",
       "      <td>0</td>\n",
       "      <td>0</td>\n",
       "      <td>0</td>\n",
       "      <td>0</td>\n",
       "      <td>0</td>\n",
       "      <td>1</td>\n",
       "      <td>0</td>\n",
       "      <td>0</td>\n",
       "    </tr>\n",
       "    <tr>\n",
       "      <th>2</th>\n",
       "      <td>0</td>\n",
       "      <td>0</td>\n",
       "      <td>0</td>\n",
       "      <td>0</td>\n",
       "      <td>-0.168908</td>\n",
       "      <td>0.647340</td>\n",
       "      <td>1</td>\n",
       "      <td>0</td>\n",
       "      <td>0</td>\n",
       "      <td>0</td>\n",
       "      <td>...</td>\n",
       "      <td>0</td>\n",
       "      <td>0</td>\n",
       "      <td>0</td>\n",
       "      <td>0</td>\n",
       "      <td>1</td>\n",
       "      <td>0</td>\n",
       "      <td>0</td>\n",
       "      <td>0</td>\n",
       "      <td>0</td>\n",
       "      <td>0</td>\n",
       "    </tr>\n",
       "    <tr>\n",
       "      <th>3</th>\n",
       "      <td>0</td>\n",
       "      <td>0</td>\n",
       "      <td>0</td>\n",
       "      <td>0</td>\n",
       "      <td>-0.120944</td>\n",
       "      <td>0.647340</td>\n",
       "      <td>0</td>\n",
       "      <td>0</td>\n",
       "      <td>0</td>\n",
       "      <td>1</td>\n",
       "      <td>...</td>\n",
       "      <td>0</td>\n",
       "      <td>0</td>\n",
       "      <td>0</td>\n",
       "      <td>0</td>\n",
       "      <td>0</td>\n",
       "      <td>0</td>\n",
       "      <td>1</td>\n",
       "      <td>0</td>\n",
       "      <td>0</td>\n",
       "      <td>0</td>\n",
       "    </tr>\n",
       "    <tr>\n",
       "      <th>4</th>\n",
       "      <td>0</td>\n",
       "      <td>0</td>\n",
       "      <td>1</td>\n",
       "      <td>0</td>\n",
       "      <td>-0.148352</td>\n",
       "      <td>0.647340</td>\n",
       "      <td>0</td>\n",
       "      <td>0</td>\n",
       "      <td>0</td>\n",
       "      <td>0</td>\n",
       "      <td>...</td>\n",
       "      <td>0</td>\n",
       "      <td>0</td>\n",
       "      <td>0</td>\n",
       "      <td>0</td>\n",
       "      <td>0</td>\n",
       "      <td>0</td>\n",
       "      <td>1</td>\n",
       "      <td>0</td>\n",
       "      <td>0</td>\n",
       "      <td>0</td>\n",
       "    </tr>\n",
       "    <tr>\n",
       "      <th>...</th>\n",
       "      <td>...</td>\n",
       "      <td>...</td>\n",
       "      <td>...</td>\n",
       "      <td>...</td>\n",
       "      <td>...</td>\n",
       "      <td>...</td>\n",
       "      <td>...</td>\n",
       "      <td>...</td>\n",
       "      <td>...</td>\n",
       "      <td>...</td>\n",
       "      <td>...</td>\n",
       "      <td>...</td>\n",
       "      <td>...</td>\n",
       "      <td>...</td>\n",
       "      <td>...</td>\n",
       "      <td>...</td>\n",
       "      <td>...</td>\n",
       "      <td>...</td>\n",
       "      <td>...</td>\n",
       "      <td>...</td>\n",
       "      <td>...</td>\n",
       "    </tr>\n",
       "    <tr>\n",
       "      <th>257562</th>\n",
       "      <td>0</td>\n",
       "      <td>0</td>\n",
       "      <td>1</td>\n",
       "      <td>0</td>\n",
       "      <td>0.673887</td>\n",
       "      <td>0.647340</td>\n",
       "      <td>1</td>\n",
       "      <td>0</td>\n",
       "      <td>0</td>\n",
       "      <td>0</td>\n",
       "      <td>...</td>\n",
       "      <td>0</td>\n",
       "      <td>0</td>\n",
       "      <td>0</td>\n",
       "      <td>0</td>\n",
       "      <td>0</td>\n",
       "      <td>0</td>\n",
       "      <td>1</td>\n",
       "      <td>0</td>\n",
       "      <td>0</td>\n",
       "      <td>0</td>\n",
       "    </tr>\n",
       "    <tr>\n",
       "      <th>257563</th>\n",
       "      <td>0</td>\n",
       "      <td>0</td>\n",
       "      <td>1</td>\n",
       "      <td>0</td>\n",
       "      <td>-0.867810</td>\n",
       "      <td>0.647340</td>\n",
       "      <td>0</td>\n",
       "      <td>0</td>\n",
       "      <td>1</td>\n",
       "      <td>0</td>\n",
       "      <td>...</td>\n",
       "      <td>0</td>\n",
       "      <td>0</td>\n",
       "      <td>0</td>\n",
       "      <td>1</td>\n",
       "      <td>0</td>\n",
       "      <td>1</td>\n",
       "      <td>0</td>\n",
       "      <td>0</td>\n",
       "      <td>0</td>\n",
       "      <td>0</td>\n",
       "    </tr>\n",
       "    <tr>\n",
       "      <th>257564</th>\n",
       "      <td>0</td>\n",
       "      <td>0</td>\n",
       "      <td>0</td>\n",
       "      <td>1</td>\n",
       "      <td>-0.175760</td>\n",
       "      <td>0.016310</td>\n",
       "      <td>0</td>\n",
       "      <td>0</td>\n",
       "      <td>0</td>\n",
       "      <td>1</td>\n",
       "      <td>...</td>\n",
       "      <td>0</td>\n",
       "      <td>0</td>\n",
       "      <td>0</td>\n",
       "      <td>0</td>\n",
       "      <td>0</td>\n",
       "      <td>1</td>\n",
       "      <td>0</td>\n",
       "      <td>0</td>\n",
       "      <td>0</td>\n",
       "      <td>0</td>\n",
       "    </tr>\n",
       "    <tr>\n",
       "      <th>257565</th>\n",
       "      <td>0</td>\n",
       "      <td>0</td>\n",
       "      <td>0</td>\n",
       "      <td>0</td>\n",
       "      <td>-0.168908</td>\n",
       "      <td>0.647340</td>\n",
       "      <td>0</td>\n",
       "      <td>0</td>\n",
       "      <td>1</td>\n",
       "      <td>0</td>\n",
       "      <td>...</td>\n",
       "      <td>0</td>\n",
       "      <td>0</td>\n",
       "      <td>0</td>\n",
       "      <td>0</td>\n",
       "      <td>0</td>\n",
       "      <td>1</td>\n",
       "      <td>0</td>\n",
       "      <td>0</td>\n",
       "      <td>0</td>\n",
       "      <td>0</td>\n",
       "    </tr>\n",
       "    <tr>\n",
       "      <th>257566</th>\n",
       "      <td>0</td>\n",
       "      <td>0</td>\n",
       "      <td>1</td>\n",
       "      <td>0</td>\n",
       "      <td>1.324825</td>\n",
       "      <td>-1.876779</td>\n",
       "      <td>0</td>\n",
       "      <td>0</td>\n",
       "      <td>0</td>\n",
       "      <td>0</td>\n",
       "      <td>...</td>\n",
       "      <td>0</td>\n",
       "      <td>0</td>\n",
       "      <td>0</td>\n",
       "      <td>0</td>\n",
       "      <td>0</td>\n",
       "      <td>0</td>\n",
       "      <td>0</td>\n",
       "      <td>0</td>\n",
       "      <td>1</td>\n",
       "      <td>0</td>\n",
       "    </tr>\n",
       "  </tbody>\n",
       "</table>\n",
       "<p>257567 rows × 312 columns</p>\n",
       "</div>"
      ],
      "text/plain": [
       "        seller  offerType  abtest  gearbox   powerPS  kilometer  \\\n",
       "0            0          0       0        0 -0.353911   0.647340   \n",
       "1            0          0       0        0 -0.395023  -0.867131   \n",
       "2            0          0       0        0 -0.168908   0.647340   \n",
       "3            0          0       0        0 -0.120944   0.647340   \n",
       "4            0          0       1        0 -0.148352   0.647340   \n",
       "...        ...        ...     ...      ...       ...        ...   \n",
       "257562       0          0       1        0  0.673887   0.647340   \n",
       "257563       0          0       1        0 -0.867810   0.647340   \n",
       "257564       0          0       0        1 -0.175760   0.016310   \n",
       "257565       0          0       0        0 -0.168908   0.647340   \n",
       "257566       0          0       1        0  1.324825  -1.876779   \n",
       "\n",
       "        notRepairedDamage  vehicleType.andere  vehicleType.bus  \\\n",
       "0                       0                   0                0   \n",
       "1                       0                   0                0   \n",
       "2                       1                   0                0   \n",
       "3                       0                   0                0   \n",
       "4                       0                   0                0   \n",
       "...                   ...                 ...              ...   \n",
       "257562                  1                   0                0   \n",
       "257563                  0                   0                1   \n",
       "257564                  0                   0                0   \n",
       "257565                  0                   0                1   \n",
       "257566                  0                   0                0   \n",
       "\n",
       "        vehicleType.cabrio  ...  model.yeti  model.ypsilon  model.z_reihe  \\\n",
       "0                        0  ...           0              0              0   \n",
       "1                        0  ...           0              0              0   \n",
       "2                        0  ...           0              0              0   \n",
       "3                        1  ...           0              0              0   \n",
       "4                        0  ...           0              0              0   \n",
       "...                    ...  ...         ...            ...            ...   \n",
       "257562                   0  ...           0              0              0   \n",
       "257563                   0  ...           0              0              0   \n",
       "257564                   1  ...           0              0              0   \n",
       "257565                   0  ...           0              0              0   \n",
       "257566                   0  ...           0              0              0   \n",
       "\n",
       "        model.zafira  year_range.[1991, 1996)  year_range.[1996, 2001)  \\\n",
       "0                  0                        0                        0   \n",
       "1                  0                        0                        0   \n",
       "2                  0                        1                        0   \n",
       "3                  0                        0                        0   \n",
       "4                  0                        0                        0   \n",
       "...              ...                      ...                      ...   \n",
       "257562             0                        0                        0   \n",
       "257563             1                        0                        1   \n",
       "257564             0                        0                        1   \n",
       "257565             0                        0                        1   \n",
       "257566             0                        0                        0   \n",
       "\n",
       "        year_range.[2001, 2006)  year_range.[2006, 2011)  \\\n",
       "0                             1                        0   \n",
       "1                             0                        1   \n",
       "2                             0                        0   \n",
       "3                             1                        0   \n",
       "4                             1                        0   \n",
       "...                         ...                      ...   \n",
       "257562                        1                        0   \n",
       "257563                        0                        0   \n",
       "257564                        0                        0   \n",
       "257565                        0                        0   \n",
       "257566                        0                        0   \n",
       "\n",
       "        year_range.[2011, 2016)  year_range.[2016, 2021)  \n",
       "0                             0                        0  \n",
       "1                             0                        0  \n",
       "2                             0                        0  \n",
       "3                             0                        0  \n",
       "4                             0                        0  \n",
       "...                         ...                      ...  \n",
       "257562                        0                        0  \n",
       "257563                        0                        0  \n",
       "257564                        0                        0  \n",
       "257565                        0                        0  \n",
       "257566                        1                        0  \n",
       "\n",
       "[257567 rows x 312 columns]"
      ]
     },
     "execution_count": 7,
     "metadata": {},
     "output_type": "execute_result"
    }
   ],
   "source": [
    "X = df.drop(['price'], axis=1)\n",
    "y = df['price']\n",
    "X"
   ]
  },
  {
   "cell_type": "code",
   "execution_count": 8,
   "metadata": {},
   "outputs": [
    {
     "name": "stdout",
     "output_type": "stream",
     "text": [
      "Epoch 1/200\n",
      "1649/1649 [==============================] - 9s 4ms/step - loss: 55911824.0000 - mae: 5621.6401 - r2: -1.3211 - val_loss: 55630144.0000 - val_mae: 5588.1323 - val_r2: -1.3015\n",
      "Epoch 2/200\n",
      "1649/1649 [==============================] - 6s 4ms/step - loss: 55877124.0000 - mae: 5619.7666 - r2: -1.3188 - val_loss: 55594736.0000 - val_mae: 5586.1323 - val_r2: -1.3000\n",
      "Epoch 3/200\n",
      "1649/1649 [==============================] - 6s 3ms/step - loss: 55836136.0000 - mae: 5617.6201 - r2: -1.3168 - val_loss: 55542444.0000 - val_mae: 5583.6997 - val_r2: -1.2979\n",
      "Epoch 4/200\n",
      "1649/1649 [==============================] - 6s 3ms/step - loss: 55772776.0000 - mae: 5614.6582 - r2: -1.3146 - val_loss: 55474592.0000 - val_mae: 5580.5718 - val_r2: -1.2951\n",
      "Epoch 5/200\n",
      "1649/1649 [==============================] - 6s 3ms/step - loss: 55698920.0000 - mae: 5611.1768 - r2: -1.3116 - val_loss: 55400956.0000 - val_mae: 5576.9102 - val_r2: -1.2920\n",
      "Epoch 6/200\n",
      "1649/1649 [==============================] - 6s 4ms/step - loss: 55602588.0000 - mae: 5606.6777 - r2: -1.3073 - val_loss: 55279104.0000 - val_mae: 5571.2656 - val_r2: -1.2870\n",
      "Epoch 7/200\n",
      "1649/1649 [==============================] - 6s 4ms/step - loss: 55472624.0000 - mae: 5600.9106 - r2: -1.3017 - val_loss: 55134784.0000 - val_mae: 5564.8071 - val_r2: -1.2810\n",
      "Epoch 8/200\n",
      "1649/1649 [==============================] - 6s 3ms/step - loss: 55330540.0000 - mae: 5594.3325 - r2: -1.2962 - val_loss: 54990440.0000 - val_mae: 5558.3545 - val_r2: -1.2751\n",
      "Epoch 9/200\n",
      "1649/1649 [==============================] - 6s 3ms/step - loss: 55170832.0000 - mae: 5586.8540 - r2: -1.2906 - val_loss: 54818920.0000 - val_mae: 5550.3071 - val_r2: -1.2680\n",
      "Epoch 10/200\n",
      "1649/1649 [==============================] - 6s 3ms/step - loss: 54992024.0000 - mae: 5578.4429 - r2: -1.2810 - val_loss: 54626556.0000 - val_mae: 5541.1782 - val_r2: -1.2600\n",
      "Epoch 11/200\n",
      "1649/1649 [==============================] - 6s 3ms/step - loss: 54795992.0000 - mae: 5569.1187 - r2: -1.2749 - val_loss: 54444380.0000 - val_mae: 5530.6436 - val_r2: -1.2525\n",
      "Epoch 12/200\n",
      "1649/1649 [==============================] - 6s 3ms/step - loss: 54580968.0000 - mae: 5558.8496 - r2: -1.2638 - val_loss: 54197640.0000 - val_mae: 5520.4946 - val_r2: -1.2423\n",
      "Epoch 13/200\n",
      "1649/1649 [==============================] - 6s 3ms/step - loss: 54348840.0000 - mae: 5547.6953 - r2: -1.2556 - val_loss: 53996060.0000 - val_mae: 5507.9106 - val_r2: -1.2339\n",
      "Epoch 14/200\n",
      "1649/1649 [==============================] - 6s 3ms/step - loss: 54098424.0000 - mae: 5535.5933 - r2: -1.2442 - val_loss: 53710684.0000 - val_mae: 5496.4946 - val_r2: -1.2221\n",
      "Epoch 15/200\n",
      "1649/1649 [==============================] - 6s 3ms/step - loss: 53830660.0000 - mae: 5522.6133 - r2: -1.2329 - val_loss: 53444224.0000 - val_mae: 5483.5664 - val_r2: -1.2111\n",
      "Epoch 16/200\n",
      "1649/1649 [==============================] - 6s 3ms/step - loss: 53545160.0000 - mae: 5508.7280 - r2: -1.2211 - val_loss: 53136748.0000 - val_mae: 5464.9785 - val_r2: -1.1983\n",
      "Epoch 17/200\n",
      "1649/1649 [==============================] - 6s 3ms/step - loss: 53243208.0000 - mae: 5493.8901 - r2: -1.2086 - val_loss: 52823576.0000 - val_mae: 5450.6196 - val_r2: -1.1854\n",
      "Epoch 18/200\n",
      "1649/1649 [==============================] - 6s 4ms/step - loss: 52924996.0000 - mae: 5478.1431 - r2: -1.1964 - val_loss: 52511344.0000 - val_mae: 5439.0137 - val_r2: -1.1726\n",
      "Epoch 19/200\n",
      "1649/1649 [==============================] - 6s 3ms/step - loss: 52590124.0000 - mae: 5461.5547 - r2: -1.1829 - val_loss: 52172468.0000 - val_mae: 5420.4663 - val_r2: -1.1585\n",
      "Epoch 20/200\n",
      "1649/1649 [==============================] - 6s 3ms/step - loss: 52237116.0000 - mae: 5444.0562 - r2: -1.1672 - val_loss: 51764152.0000 - val_mae: 5394.8872 - val_r2: -1.1415\n",
      "Epoch 21/200\n",
      "1649/1649 [==============================] - 6s 3ms/step - loss: 51868600.0000 - mae: 5425.6626 - r2: -1.1511 - val_loss: 51366556.0000 - val_mae: 5377.6372 - val_r2: -1.1252\n",
      "Epoch 22/200\n",
      "1649/1649 [==============================] - 6s 3ms/step - loss: 51484472.0000 - mae: 5406.3975 - r2: -1.1356 - val_loss: 51040496.0000 - val_mae: 5352.3120 - val_r2: -1.1115\n",
      "Epoch 23/200\n",
      "1649/1649 [==============================] - 6s 3ms/step - loss: 51084508.0000 - mae: 5386.2305 - r2: -1.1186 - val_loss: 50529748.0000 - val_mae: 5327.6382 - val_r2: -1.0904\n",
      "Epoch 24/200\n",
      "1649/1649 [==============================] - 6s 3ms/step - loss: 50668468.0000 - mae: 5365.2192 - r2: -1.1004 - val_loss: 50240280.0000 - val_mae: 5322.3052 - val_r2: -1.0786\n",
      "Epoch 25/200\n",
      "1649/1649 [==============================] - 6s 3ms/step - loss: 50238020.0000 - mae: 5343.2510 - r2: -1.0842 - val_loss: 49836112.0000 - val_mae: 5300.3311 - val_r2: -1.0619\n",
      "Epoch 26/200\n",
      "1649/1649 [==============================] - 6s 3ms/step - loss: 49793492.0000 - mae: 5320.4385 - r2: -1.0659 - val_loss: 49300656.0000 - val_mae: 5261.2725 - val_r2: -1.0395\n",
      "Epoch 27/200\n",
      "1649/1649 [==============================] - 6s 3ms/step - loss: 49329944.0000 - mae: 5296.7856 - r2: -1.0447 - val_loss: 48797688.0000 - val_mae: 5238.1655 - val_r2: -1.0188\n",
      "Epoch 28/200\n",
      "1649/1649 [==============================] - 6s 3ms/step - loss: 48855524.0000 - mae: 5272.1675 - r2: -1.0258 - val_loss: 48363028.0000 - val_mae: 5218.0693 - val_r2: -1.0009\n",
      "Epoch 29/200\n",
      "1649/1649 [==============================] - 6s 3ms/step - loss: 48368456.0000 - mae: 5246.7505 - r2: -1.0058 - val_loss: 47884132.0000 - val_mae: 5193.5659 - val_r2: -0.9811\n",
      "Epoch 30/200\n",
      "1649/1649 [==============================] - 6s 3ms/step - loss: 47862464.0000 - mae: 5220.4639 - r2: -0.9838 - val_loss: 47425936.0000 - val_mae: 5180.2114 - val_r2: -0.9623\n",
      "Epoch 31/200\n",
      "1649/1649 [==============================] - 6s 3ms/step - loss: 47348016.0000 - mae: 5193.1333 - r2: -0.9633 - val_loss: 46788708.0000 - val_mae: 5143.0205 - val_r2: -0.9359\n",
      "Epoch 32/200\n",
      "1649/1649 [==============================] - 6s 3ms/step - loss: 46815848.0000 - mae: 5165.0107 - r2: -0.9403 - val_loss: 46214104.0000 - val_mae: 5093.6577 - val_r2: -0.9118\n",
      "Epoch 33/200\n",
      "1649/1649 [==============================] - 6s 3ms/step - loss: 46272836.0000 - mae: 5136.1069 - r2: -0.9178 - val_loss: 45793456.0000 - val_mae: 5085.0645 - val_r2: -0.8946\n",
      "Epoch 34/200\n",
      "1649/1649 [==============================] - 6s 3ms/step - loss: 45718632.0000 - mae: 5106.3120 - r2: -0.8943 - val_loss: 45154692.0000 - val_mae: 5044.5820 - val_r2: -0.8681\n",
      "Epoch 35/200\n",
      "1649/1649 [==============================] - 6s 3ms/step - loss: 45151556.0000 - mae: 5075.5098 - r2: -0.8715 - val_loss: 44612296.0000 - val_mae: 5008.4219 - val_r2: -0.8456\n",
      "Epoch 36/200\n",
      "1649/1649 [==============================] - 6s 3ms/step - loss: 44568408.0000 - mae: 5043.9404 - r2: -0.8465 - val_loss: 43988204.0000 - val_mae: 4987.6973 - val_r2: -0.8200\n",
      "Epoch 37/200\n",
      "1649/1649 [==============================] - 6s 3ms/step - loss: 43973948.0000 - mae: 5011.6226 - r2: -0.8210 - val_loss: 43359964.0000 - val_mae: 4913.8188 - val_r2: -0.7935\n",
      "Epoch 38/200\n",
      "1649/1649 [==============================] - 6s 3ms/step - loss: 43371164.0000 - mae: 4978.0996 - r2: -0.7960 - val_loss: 42864412.0000 - val_mae: 4937.3267 - val_r2: -0.7737\n",
      "Epoch 39/200\n",
      "1649/1649 [==============================] - 6s 3ms/step - loss: 42760136.0000 - mae: 4943.7417 - r2: -0.7706 - val_loss: 42225460.0000 - val_mae: 4865.1685 - val_r2: -0.7467\n",
      "Epoch 40/200\n",
      "1649/1649 [==============================] - 6s 3ms/step - loss: 42132860.0000 - mae: 4908.5557 - r2: -0.7445 - val_loss: 41433952.0000 - val_mae: 4835.6729 - val_r2: -0.7142\n",
      "Epoch 41/200\n",
      "1649/1649 [==============================] - 6s 4ms/step - loss: 41500744.0000 - mae: 4872.5850 - r2: -0.7189 - val_loss: 41020108.0000 - val_mae: 4822.3135 - val_r2: -0.6972\n",
      "Epoch 42/200\n",
      "1649/1649 [==============================] - 6s 3ms/step - loss: 40852280.0000 - mae: 4835.7861 - r2: -0.6911 - val_loss: 40339584.0000 - val_mae: 4784.5239 - val_r2: -0.6692\n",
      "Epoch 43/200\n",
      "1649/1649 [==============================] - 6s 3ms/step - loss: 40199748.0000 - mae: 4798.1592 - r2: -0.6642 - val_loss: 39624968.0000 - val_mae: 4737.2495 - val_r2: -0.6395\n",
      "Epoch 44/200\n",
      "1649/1649 [==============================] - 6s 3ms/step - loss: 39539332.0000 - mae: 4759.3262 - r2: -0.6368 - val_loss: 38887944.0000 - val_mae: 4690.8359 - val_r2: -0.6089\n",
      "Epoch 45/200\n",
      "1649/1649 [==============================] - 6s 4ms/step - loss: 38862752.0000 - mae: 4719.9146 - r2: -0.6082 - val_loss: 38138300.0000 - val_mae: 4631.1782 - val_r2: -0.5777\n",
      "Epoch 46/200\n",
      "1649/1649 [==============================] - 6s 4ms/step - loss: 38183496.0000 - mae: 4679.3706 - r2: -0.5797 - val_loss: 37382604.0000 - val_mae: 4588.8813 - val_r2: -0.5466\n",
      "Epoch 47/200\n",
      "1649/1649 [==============================] - 6s 3ms/step - loss: 37501220.0000 - mae: 4638.1943 - r2: -0.5515 - val_loss: 36494160.0000 - val_mae: 4527.6470 - val_r2: -0.5096\n",
      "Epoch 48/200\n",
      "1649/1649 [==============================] - 6s 3ms/step - loss: 36802276.0000 - mae: 4596.0747 - r2: -0.5222 - val_loss: 36151972.0000 - val_mae: 4510.6045 - val_r2: -0.4956\n",
      "Epoch 49/200\n",
      "1649/1649 [==============================] - 6s 3ms/step - loss: 36105120.0000 - mae: 4552.7671 - r2: -0.4930 - val_loss: 35259332.0000 - val_mae: 4411.0327 - val_r2: -0.4582\n",
      "Epoch 50/200\n",
      "1649/1649 [==============================] - 6s 3ms/step - loss: 35393400.0000 - mae: 4509.2910 - r2: -0.4638 - val_loss: 34615068.0000 - val_mae: 4403.1001 - val_r2: -0.4319\n",
      "Epoch 51/200\n",
      "1649/1649 [==============================] - 6s 3ms/step - loss: 34676504.0000 - mae: 4464.5845 - r2: -0.4337 - val_loss: 33800204.0000 - val_mae: 4329.9805 - val_r2: -0.3980\n",
      "Epoch 52/200\n",
      "1649/1649 [==============================] - 6s 4ms/step - loss: 33957552.0000 - mae: 4418.8638 - r2: -0.4038 - val_loss: 33152094.0000 - val_mae: 4305.6572 - val_r2: -0.3714\n",
      "Epoch 53/200\n",
      "1649/1649 [==============================] - 6s 3ms/step - loss: 33234952.0000 - mae: 4372.5425 - r2: -0.3734 - val_loss: 32247268.0000 - val_mae: 4215.8120 - val_r2: -0.3336\n",
      "Epoch 54/200\n",
      "1649/1649 [==============================] - 6s 3ms/step - loss: 32504244.0000 - mae: 4325.1396 - r2: -0.3432 - val_loss: 31732270.0000 - val_mae: 4221.0898 - val_r2: -0.3127\n",
      "Epoch 55/200\n",
      "1649/1649 [==============================] - 6s 3ms/step - loss: 31768566.0000 - mae: 4276.9658 - r2: -0.3123 - val_loss: 30999324.0000 - val_mae: 4182.8291 - val_r2: -0.2826\n",
      "Epoch 56/200\n",
      "1649/1649 [==============================] - 6s 3ms/step - loss: 31037848.0000 - mae: 4227.8252 - r2: -0.2819 - val_loss: 30381074.0000 - val_mae: 4134.8184 - val_r2: -0.2569\n",
      "Epoch 57/200\n",
      "1649/1649 [==============================] - 6s 4ms/step - loss: 30295646.0000 - mae: 4177.9404 - r2: -0.2507 - val_loss: 29913082.0000 - val_mae: 4126.2139 - val_r2: -0.2379\n",
      "Epoch 58/200\n",
      "1649/1649 [==============================] - 6s 3ms/step - loss: 29562054.0000 - mae: 4127.0449 - r2: -0.2202 - val_loss: 28822472.0000 - val_mae: 4040.1687 - val_r2: -0.1926\n",
      "Epoch 59/200\n",
      "1649/1649 [==============================] - 6s 4ms/step - loss: 28814228.0000 - mae: 4075.7329 - r2: -0.1895 - val_loss: 28197206.0000 - val_mae: 3990.1033 - val_r2: -0.1667\n",
      "Epoch 60/200\n",
      "1649/1649 [==============================] - 6s 3ms/step - loss: 28066186.0000 - mae: 4023.0713 - r2: -0.1583 - val_loss: 26846066.0000 - val_mae: 3813.4883 - val_r2: -0.1099\n",
      "Epoch 61/200\n",
      "1649/1649 [==============================] - 6s 3ms/step - loss: 27319046.0000 - mae: 3970.0710 - r2: -0.1273 - val_loss: 26403658.0000 - val_mae: 3844.2454 - val_r2: -0.0923\n",
      "Epoch 62/200\n",
      "1649/1649 [==============================] - 6s 3ms/step - loss: 26573526.0000 - mae: 3915.6682 - r2: -0.0956 - val_loss: 25919102.0000 - val_mae: 3811.8472 - val_r2: -0.0722\n",
      "Epoch 63/200\n",
      "1649/1649 [==============================] - 6s 3ms/step - loss: 25833332.0000 - mae: 3861.1697 - r2: -0.0649 - val_loss: 25201270.0000 - val_mae: 3745.1689 - val_r2: -0.0424\n",
      "Epoch 64/200\n",
      "1649/1649 [==============================] - 6s 4ms/step - loss: 25086934.0000 - mae: 3805.3560 - r2: -0.0342 - val_loss: 23717990.0000 - val_mae: 3550.3965 - val_r2: 0.0196\n",
      "Epoch 65/200\n",
      "1649/1649 [==============================] - 6s 3ms/step - loss: 24333894.0000 - mae: 3749.1382 - r2: -0.0029 - val_loss: 23439016.0000 - val_mae: 3567.7673 - val_r2: 0.0308\n",
      "Epoch 66/200\n",
      "1649/1649 [==============================] - 6s 3ms/step - loss: 23594038.0000 - mae: 3691.2861 - r2: 0.0282 - val_loss: 23018940.0000 - val_mae: 3573.3845 - val_r2: 0.0478\n",
      "Epoch 67/200\n",
      "1649/1649 [==============================] - 6s 3ms/step - loss: 22857482.0000 - mae: 3633.2441 - r2: 0.0588 - val_loss: 22251764.0000 - val_mae: 3550.9661 - val_r2: 0.0792\n",
      "Epoch 68/200\n",
      "1649/1649 [==============================] - 6s 3ms/step - loss: 22130306.0000 - mae: 3573.7925 - r2: 0.0894 - val_loss: 21408876.0000 - val_mae: 3473.0393 - val_r2: 0.1140\n",
      "Epoch 69/200\n",
      "1649/1649 [==============================] - 6s 3ms/step - loss: 21391964.0000 - mae: 3514.4985 - r2: 0.1196 - val_loss: 20572446.0000 - val_mae: 3385.5881 - val_r2: 0.1488\n",
      "Epoch 70/200\n",
      "1649/1649 [==============================] - 6s 3ms/step - loss: 20666312.0000 - mae: 3454.7681 - r2: 0.1503 - val_loss: 19443366.0000 - val_mae: 3232.7148 - val_r2: 0.1960\n",
      "Epoch 71/200\n",
      "1649/1649 [==============================] - 6s 3ms/step - loss: 19946128.0000 - mae: 3393.0720 - r2: 0.1797 - val_loss: 18923088.0000 - val_mae: 3215.3464 - val_r2: 0.2173\n",
      "Epoch 72/200\n",
      "1649/1649 [==============================] - 6s 3ms/step - loss: 19225080.0000 - mae: 3331.5757 - r2: 0.2098 - val_loss: 18599994.0000 - val_mae: 3199.8450 - val_r2: 0.2306\n",
      "Epoch 73/200\n",
      "1649/1649 [==============================] - 6s 3ms/step - loss: 18512028.0000 - mae: 3269.4402 - r2: 0.2392 - val_loss: 17500760.0000 - val_mae: 3043.8313 - val_r2: 0.2765\n",
      "Epoch 74/200\n",
      "1649/1649 [==============================] - 6s 3ms/step - loss: 17806572.0000 - mae: 3205.8640 - r2: 0.2687 - val_loss: 16905326.0000 - val_mae: 3023.0344 - val_r2: 0.3008\n",
      "Epoch 75/200\n",
      "1649/1649 [==============================] - 6s 3ms/step - loss: 17121602.0000 - mae: 3142.1721 - r2: 0.2972 - val_loss: 16260017.0000 - val_mae: 2968.9504 - val_r2: 0.3275\n",
      "Epoch 76/200\n",
      "1649/1649 [==============================] - 6s 4ms/step - loss: 16430493.0000 - mae: 3077.1306 - r2: 0.3260 - val_loss: 15419186.0000 - val_mae: 2847.6997 - val_r2: 0.3626\n",
      "Epoch 77/200\n",
      "1649/1649 [==============================] - 6s 3ms/step - loss: 15763508.0000 - mae: 3013.0054 - r2: 0.3534 - val_loss: 15419302.0000 - val_mae: 2895.3083 - val_r2: 0.3621\n",
      "Epoch 78/200\n",
      "1649/1649 [==============================] - 6s 3ms/step - loss: 15085996.0000 - mae: 2947.6711 - r2: 0.3816 - val_loss: 15106645.0000 - val_mae: 2906.5425 - val_r2: 0.3748\n",
      "Epoch 79/200\n",
      "1649/1649 [==============================] - 6s 3ms/step - loss: 14435512.0000 - mae: 2881.2031 - r2: 0.4087 - val_loss: 14159806.0000 - val_mae: 2831.5703 - val_r2: 0.4137\n",
      "Epoch 80/200\n",
      "1649/1649 [==============================] - 6s 3ms/step - loss: 13789828.0000 - mae: 2815.2229 - r2: 0.4353 - val_loss: 12545663.0000 - val_mae: 2539.3616 - val_r2: 0.4814\n",
      "Epoch 81/200\n",
      "1649/1649 [==============================] - 6s 3ms/step - loss: 13139311.0000 - mae: 2746.9829 - r2: 0.4620 - val_loss: 12681691.0000 - val_mae: 2597.8633 - val_r2: 0.4754\n",
      "Epoch 82/200\n",
      "1649/1649 [==============================] - 6s 3ms/step - loss: 12512559.0000 - mae: 2680.3445 - r2: 0.4877 - val_loss: 11498550.0000 - val_mae: 2396.2810 - val_r2: 0.5248\n",
      "Epoch 83/200\n",
      "1649/1649 [==============================] - 6s 3ms/step - loss: 11909956.0000 - mae: 2612.6235 - r2: 0.5131 - val_loss: 11250835.0000 - val_mae: 2483.8152 - val_r2: 0.5342\n",
      "Epoch 84/200\n",
      "1649/1649 [==============================] - 6s 3ms/step - loss: 11323237.0000 - mae: 2546.0776 - r2: 0.5372 - val_loss: 11134885.0000 - val_mae: 2505.1992 - val_r2: 0.5386\n",
      "Epoch 85/200\n",
      "1649/1649 [==============================] - 6s 3ms/step - loss: 10736475.0000 - mae: 2477.4834 - r2: 0.5611 - val_loss: 10253875.0000 - val_mae: 2354.7920 - val_r2: 0.5755\n",
      "Epoch 86/200\n",
      "1649/1649 [==============================] - 6s 3ms/step - loss: 10178027.0000 - mae: 2409.1821 - r2: 0.5847 - val_loss: 9894362.0000 - val_mae: 2323.2690 - val_r2: 0.5902\n",
      "Epoch 87/200\n",
      "1649/1649 [==============================] - 6s 4ms/step - loss: 9619003.0000 - mae: 2340.5847 - r2: 0.6073 - val_loss: 8790923.0000 - val_mae: 2184.7217 - val_r2: 0.6358\n",
      "Epoch 88/200\n",
      "1649/1649 [==============================] - 6s 3ms/step - loss: 9089746.0000 - mae: 2273.3059 - r2: 0.6294 - val_loss: 8386633.0000 - val_mae: 2091.3018 - val_r2: 0.6529\n",
      "Epoch 89/200\n",
      "1649/1649 [==============================] - 6s 3ms/step - loss: 8574580.0000 - mae: 2205.4646 - r2: 0.6502 - val_loss: 8308243.5000 - val_mae: 2127.1035 - val_r2: 0.6558\n",
      "Epoch 90/200\n",
      "1649/1649 [==============================] - 6s 3ms/step - loss: 8076481.0000 - mae: 2138.3816 - r2: 0.6710 - val_loss: 7521873.0000 - val_mae: 1940.7589 - val_r2: 0.6889\n",
      "Epoch 91/200\n",
      "1649/1649 [==============================] - 6s 3ms/step - loss: 7593996.5000 - mae: 2071.1331 - r2: 0.6908 - val_loss: 7318427.5000 - val_mae: 1947.0944 - val_r2: 0.6970\n",
      "Epoch 92/200\n",
      "1649/1649 [==============================] - 6s 3ms/step - loss: 7150885.5000 - mae: 2006.1018 - r2: 0.7093 - val_loss: 6646381.5000 - val_mae: 1808.6278 - val_r2: 0.7250\n",
      "Epoch 93/200\n",
      "1649/1649 [==============================] - 6s 3ms/step - loss: 6702091.0000 - mae: 1939.6636 - r2: 0.7271 - val_loss: 6197154.5000 - val_mae: 1807.1366 - val_r2: 0.7430\n",
      "Epoch 94/200\n",
      "1649/1649 [==============================] - 6s 3ms/step - loss: 6267055.5000 - mae: 1874.2014 - r2: 0.7448 - val_loss: 6125858.0000 - val_mae: 1823.5553 - val_r2: 0.7456\n",
      "Epoch 95/200\n",
      "1649/1649 [==============================] - 6s 3ms/step - loss: 5888559.5000 - mae: 1811.6978 - r2: 0.7604 - val_loss: 5578152.5000 - val_mae: 1683.6732 - val_r2: 0.7688\n",
      "Epoch 96/200\n",
      "1649/1649 [==============================] - 6s 3ms/step - loss: 5508677.5000 - mae: 1748.2648 - r2: 0.7759 - val_loss: 4944518.0000 - val_mae: 1603.2783 - val_r2: 0.7947\n",
      "Epoch 97/200\n",
      "1649/1649 [==============================] - 6s 3ms/step - loss: 5143504.0000 - mae: 1686.6379 - r2: 0.7908 - val_loss: 4596830.0000 - val_mae: 1522.9532 - val_r2: 0.8093\n",
      "Epoch 98/200\n",
      "1649/1649 [==============================] - 6s 3ms/step - loss: 4809213.0000 - mae: 1629.0912 - r2: 0.8043 - val_loss: 4237233.0000 - val_mae: 1463.2787 - val_r2: 0.8239\n",
      "Epoch 99/200\n",
      "1649/1649 [==============================] - 6s 4ms/step - loss: 4524608.5000 - mae: 1575.1360 - r2: 0.8158 - val_loss: 4000386.7500 - val_mae: 1421.9612 - val_r2: 0.8337\n",
      "Epoch 100/200\n",
      "1649/1649 [==============================] - 6s 3ms/step - loss: 4233610.0000 - mae: 1518.6405 - r2: 0.8275 - val_loss: 3919923.0000 - val_mae: 1415.4755 - val_r2: 0.8369\n",
      "Epoch 101/200\n",
      "1649/1649 [==============================] - 6s 3ms/step - loss: 3980057.5000 - mae: 1466.9817 - r2: 0.8376 - val_loss: 3606125.5000 - val_mae: 1354.8347 - val_r2: 0.8499\n",
      "Epoch 102/200\n",
      "1649/1649 [==============================] - 6s 3ms/step - loss: 3741617.0000 - mae: 1418.7773 - r2: 0.8474 - val_loss: 3521471.0000 - val_mae: 1333.2495 - val_r2: 0.8533\n",
      "Epoch 103/200\n",
      "1649/1649 [==============================] - 6s 4ms/step - loss: 3541153.2500 - mae: 1374.9464 - r2: 0.8552 - val_loss: 3372857.2500 - val_mae: 1309.6116 - val_r2: 0.8594\n",
      "Epoch 104/200\n",
      "1649/1649 [==============================] - 6s 3ms/step - loss: 3345150.0000 - mae: 1329.7415 - r2: 0.8632 - val_loss: 3270735.0000 - val_mae: 1285.6504 - val_r2: 0.8636\n",
      "Epoch 105/200\n",
      "1649/1649 [==============================] - 6s 3ms/step - loss: 3183358.5000 - mae: 1292.0350 - r2: 0.8694 - val_loss: 3211816.7500 - val_mae: 1284.5906 - val_r2: 0.8659\n",
      "Epoch 106/200\n",
      "1649/1649 [==============================] - 6s 3ms/step - loss: 3062059.0000 - mae: 1261.8604 - r2: 0.8737 - val_loss: 3026842.0000 - val_mae: 1228.6479 - val_r2: 0.8735\n",
      "Epoch 107/200\n",
      "1649/1649 [==============================] - 6s 3ms/step - loss: 2920471.2500 - mae: 1225.3661 - r2: 0.8795 - val_loss: 2966250.7500 - val_mae: 1228.5909 - val_r2: 0.8759\n",
      "Epoch 108/200\n",
      "1649/1649 [==============================] - 6s 3ms/step - loss: 2843855.2500 - mae: 1201.9686 - r2: 0.8824 - val_loss: 2827804.5000 - val_mae: 1170.1755 - val_r2: 0.8816\n",
      "Epoch 109/200\n",
      "1649/1649 [==============================] - 6s 3ms/step - loss: 2771363.7500 - mae: 1181.7871 - r2: 0.8852 - val_loss: 2980793.0000 - val_mae: 1236.4248 - val_r2: 0.8752\n",
      "Epoch 110/200\n",
      "1649/1649 [==============================] - 6s 3ms/step - loss: 2714632.0000 - mae: 1162.7367 - r2: 0.8870 - val_loss: 2973934.0000 - val_mae: 1235.4446 - val_r2: 0.8754\n",
      "Epoch 111/200\n",
      "1649/1649 [==============================] - 6s 4ms/step - loss: 2636918.7500 - mae: 1139.5376 - r2: 0.8901 - val_loss: 2673296.7500 - val_mae: 1117.5844 - val_r2: 0.8879\n",
      "Epoch 112/200\n",
      "1649/1649 [==============================] - 6s 3ms/step - loss: 2587638.0000 - mae: 1111.5598 - r2: 0.8919 - val_loss: 2810723.2500 - val_mae: 1155.6384 - val_r2: 0.8820\n",
      "Epoch 113/200\n",
      "1649/1649 [==============================] - 6s 3ms/step - loss: 2556086.2500 - mae: 1086.5256 - r2: 0.8931 - val_loss: 3094965.7500 - val_mae: 1260.2180 - val_r2: 0.8701\n",
      "Epoch 114/200\n",
      "1649/1649 [==============================] - 6s 3ms/step - loss: 2508516.2500 - mae: 1069.9468 - r2: 0.8950 - val_loss: 2734771.2500 - val_mae: 1125.0309 - val_r2: 0.8852\n",
      "Epoch 115/200\n",
      "1649/1649 [==============================] - 6s 3ms/step - loss: 2526017.0000 - mae: 1071.6760 - r2: 0.8939 - val_loss: 2641344.7500 - val_mae: 1083.0778 - val_r2: 0.8893\n",
      "Epoch 116/200\n",
      "1649/1649 [==============================] - 6s 3ms/step - loss: 2495740.2500 - mae: 1063.2531 - r2: 0.8954 - val_loss: 2701721.7500 - val_mae: 1111.0906 - val_r2: 0.8866\n",
      "Epoch 117/200\n",
      "1649/1649 [==============================] - 6s 3ms/step - loss: 2502241.5000 - mae: 1063.5034 - r2: 0.8945 - val_loss: 2596287.7500 - val_mae: 1057.8683 - val_r2: 0.8910\n",
      "Epoch 118/200\n",
      "1649/1649 [==============================] - 6s 3ms/step - loss: 2489736.2500 - mae: 1060.1241 - r2: 0.8951 - val_loss: 2662107.2500 - val_mae: 1088.7649 - val_r2: 0.8883\n",
      "Epoch 119/200\n",
      "1649/1649 [==============================] - 6s 3ms/step - loss: 2474535.7500 - mae: 1056.3016 - r2: 0.8960 - val_loss: 3068690.7500 - val_mae: 1243.8651 - val_r2: 0.8710\n",
      "Epoch 120/200\n",
      "1649/1649 [==============================] - 6s 4ms/step - loss: 2458706.7500 - mae: 1053.8369 - r2: 0.8964 - val_loss: 2597680.2500 - val_mae: 1055.2749 - val_r2: 0.8909\n",
      "Epoch 121/200\n",
      "1649/1649 [==============================] - 6s 4ms/step - loss: 2448497.7500 - mae: 1050.4097 - r2: 0.8969 - val_loss: 2867528.0000 - val_mae: 1168.5334 - val_r2: 0.8796\n",
      "Epoch 122/200\n",
      "1649/1649 [==============================] - 6s 4ms/step - loss: 2468580.2500 - mae: 1057.1952 - r2: 0.8958 - val_loss: 2595823.5000 - val_mae: 1059.4734 - val_r2: 0.8911\n",
      "Epoch 123/200\n",
      "1649/1649 [==============================] - 6s 3ms/step - loss: 2460589.5000 - mae: 1051.4307 - r2: 0.8960 - val_loss: 2601794.5000 - val_mae: 1060.5220 - val_r2: 0.8908\n",
      "Epoch 124/200\n",
      "1649/1649 [==============================] - 6s 3ms/step - loss: 2450481.2500 - mae: 1052.2104 - r2: 0.8967 - val_loss: 2632293.2500 - val_mae: 1075.2986 - val_r2: 0.8895\n",
      "Epoch 125/200\n",
      "1649/1649 [==============================] - 6s 4ms/step - loss: 2427719.2500 - mae: 1045.0745 - r2: 0.8974 - val_loss: 2677853.7500 - val_mae: 1089.4235 - val_r2: 0.8875\n",
      "Epoch 126/200\n",
      "1649/1649 [==============================] - 6s 3ms/step - loss: 2442721.5000 - mae: 1048.5522 - r2: 0.8971 - val_loss: 2741110.2500 - val_mae: 1118.3530 - val_r2: 0.8848\n",
      "Epoch 127/200\n",
      "1649/1649 [==============================] - 6s 4ms/step - loss: 2435875.5000 - mae: 1048.0580 - r2: 0.8971 - val_loss: 2662901.0000 - val_mae: 1083.9950 - val_r2: 0.8880\n",
      "Epoch 128/200\n",
      "1649/1649 [==============================] - 6s 4ms/step - loss: 2433616.2500 - mae: 1048.3601 - r2: 0.8972 - val_loss: 2582863.5000 - val_mae: 1041.0398 - val_r2: 0.8914\n",
      "Epoch 129/200\n",
      "1649/1649 [==============================] - 6s 4ms/step - loss: 2429972.2500 - mae: 1048.7756 - r2: 0.8974 - val_loss: 2567810.7500 - val_mae: 1036.2384 - val_r2: 0.8922\n",
      "Epoch 130/200\n",
      "1649/1649 [==============================] - 6s 3ms/step - loss: 2409980.7500 - mae: 1042.6388 - r2: 0.8983 - val_loss: 2717331.7500 - val_mae: 1109.4432 - val_r2: 0.8859\n",
      "Epoch 131/200\n",
      "1649/1649 [==============================] - 6s 3ms/step - loss: 2427865.7500 - mae: 1044.8477 - r2: 0.8976 - val_loss: 2614717.2500 - val_mae: 1055.0795 - val_r2: 0.8902\n",
      "Epoch 132/200\n",
      "1649/1649 [==============================] - 6s 3ms/step - loss: 2428218.0000 - mae: 1045.8290 - r2: 0.8974 - val_loss: 2579471.5000 - val_mae: 1050.6838 - val_r2: 0.8917\n",
      "Epoch 133/200\n",
      "1649/1649 [==============================] - 6s 4ms/step - loss: 2445752.7500 - mae: 1051.5385 - r2: 0.8962 - val_loss: 2652889.0000 - val_mae: 1078.5269 - val_r2: 0.8885\n",
      "Epoch 134/200\n",
      "1649/1649 [==============================] - 6s 3ms/step - loss: 2416611.0000 - mae: 1045.9160 - r2: 0.8977 - val_loss: 2708474.2500 - val_mae: 1112.0779 - val_r2: 0.8862\n",
      "Epoch 135/200\n",
      "1649/1649 [==============================] - 6s 3ms/step - loss: 2415206.0000 - mae: 1041.9714 - r2: 0.8976 - val_loss: 3093769.7500 - val_mae: 1248.9657 - val_r2: 0.8699\n",
      "Epoch 136/200\n",
      "1649/1649 [==============================] - 6s 3ms/step - loss: 2427303.0000 - mae: 1048.7175 - r2: 0.8973 - val_loss: 2554667.5000 - val_mae: 1028.7761 - val_r2: 0.8927\n",
      "Epoch 137/200\n",
      "1649/1649 [==============================] - 6s 3ms/step - loss: 2426241.0000 - mae: 1046.3560 - r2: 0.8973 - val_loss: 2969073.5000 - val_mae: 1210.4517 - val_r2: 0.8752\n",
      "Epoch 138/200\n",
      "1649/1649 [==============================] - 6s 3ms/step - loss: 2414989.7500 - mae: 1043.2638 - r2: 0.8981 - val_loss: 2844485.2500 - val_mae: 1167.0044 - val_r2: 0.8805\n",
      "Epoch 139/200\n",
      "1649/1649 [==============================] - 6s 3ms/step - loss: 2407888.2500 - mae: 1043.0770 - r2: 0.8982 - val_loss: 3214556.0000 - val_mae: 1272.1434 - val_r2: 0.8648\n",
      "Epoch 140/200\n",
      "1649/1649 [==============================] - 6s 3ms/step - loss: 2413094.5000 - mae: 1046.4656 - r2: 0.8982 - val_loss: 2696018.0000 - val_mae: 1094.4172 - val_r2: 0.8867\n",
      "Epoch 141/200\n",
      "1649/1649 [==============================] - 6s 3ms/step - loss: 2413369.7500 - mae: 1041.9253 - r2: 0.8979 - val_loss: 2582950.5000 - val_mae: 1047.1486 - val_r2: 0.8915\n",
      "Epoch 142/200\n",
      "1649/1649 [==============================] - 6s 3ms/step - loss: 2421124.2500 - mae: 1047.3129 - r2: 0.8976 - val_loss: 2985717.5000 - val_mae: 1195.4021 - val_r2: 0.8744\n",
      "Epoch 143/200\n",
      "1649/1649 [==============================] - 6s 3ms/step - loss: 2403165.5000 - mae: 1042.3019 - r2: 0.8983 - val_loss: 2638789.7500 - val_mae: 1068.3394 - val_r2: 0.8891\n",
      "Epoch 144/200\n",
      "1649/1649 [==============================] - 6s 3ms/step - loss: 2410236.5000 - mae: 1044.2114 - r2: 0.8981 - val_loss: 2568379.5000 - val_mae: 1031.8876 - val_r2: 0.8921\n",
      "Epoch 145/200\n",
      "1649/1649 [==============================] - 6s 4ms/step - loss: 2405156.2500 - mae: 1043.9617 - r2: 0.8984 - val_loss: 3046601.5000 - val_mae: 1232.4573 - val_r2: 0.8719\n",
      "Epoch 146/200\n",
      "1649/1649 [==============================] - 6s 3ms/step - loss: 2398758.7500 - mae: 1042.2275 - r2: 0.8987 - val_loss: 2586191.5000 - val_mae: 1048.6688 - val_r2: 0.8914\n",
      "Epoch 147/200\n",
      "1649/1649 [==============================] - 6s 3ms/step - loss: 2403788.0000 - mae: 1042.9155 - r2: 0.8983 - val_loss: 2559152.0000 - val_mae: 1033.8270 - val_r2: 0.8925\n",
      "Epoch 148/200\n",
      "1649/1649 [==============================] - 6s 3ms/step - loss: 2406529.0000 - mae: 1041.9342 - r2: 0.8984 - val_loss: 2574588.7500 - val_mae: 1035.9946 - val_r2: 0.8918\n",
      "Epoch 149/200\n",
      "1649/1649 [==============================] - 6s 3ms/step - loss: 2390225.7500 - mae: 1039.8340 - r2: 0.8988 - val_loss: 2754790.5000 - val_mae: 1121.0947 - val_r2: 0.8842\n",
      "Epoch 150/200\n",
      "1649/1649 [==============================] - 6s 3ms/step - loss: 2385938.5000 - mae: 1038.3461 - r2: 0.8995 - val_loss: 2592629.2500 - val_mae: 1045.2581 - val_r2: 0.8911\n",
      "Epoch 151/200\n",
      "1649/1649 [==============================] - 6s 3ms/step - loss: 2400912.7500 - mae: 1044.2738 - r2: 0.8985 - val_loss: 2893514.2500 - val_mae: 1164.3688 - val_r2: 0.8783\n",
      "Epoch 152/200\n",
      "1649/1649 [==============================] - 6s 3ms/step - loss: 2390969.2500 - mae: 1041.5065 - r2: 0.8991 - val_loss: 2650694.2500 - val_mae: 1075.7816 - val_r2: 0.8886\n",
      "Epoch 153/200\n",
      "1649/1649 [==============================] - 6s 4ms/step - loss: 2400356.0000 - mae: 1043.1068 - r2: 0.8985 - val_loss: 2575974.7500 - val_mae: 1045.1205 - val_r2: 0.8918\n",
      "Epoch 154/200\n",
      "1649/1649 [==============================] - 6s 3ms/step - loss: 2393097.2500 - mae: 1042.6442 - r2: 0.8988 - val_loss: 2904764.7500 - val_mae: 1178.6929 - val_r2: 0.8779\n",
      "Epoch 155/200\n",
      "1649/1649 [==============================] - 6s 3ms/step - loss: 2386805.2500 - mae: 1041.5734 - r2: 0.8992 - val_loss: 2833045.5000 - val_mae: 1140.8802 - val_r2: 0.8809\n",
      "Epoch 156/200\n",
      "1649/1649 [==============================] - 6s 4ms/step - loss: 2371110.0000 - mae: 1035.8243 - r2: 0.8998 - val_loss: 2781226.2500 - val_mae: 1130.6832 - val_r2: 0.8831\n",
      "1610/1610 [==============================] - 3s 2ms/step - loss: 2808814.7500 - mae: 1136.5093 - r2: 0.8759\n",
      "Deep Learning Regression Mean Absolute Error: 1136.51\n",
      "Deep Learning Regression R-squared Score: 0.88\n"
     ]
    }
   ],
   "source": [
    "from tensorflow.keras.layers import BatchNormalization, Activation\n",
    "from tensorflow.keras.regularizers import L2\n",
    "\n",
    "# Split the data into training and testing sets\n",
    "X_train, X_test, y_train, y_test = train_test_split(X, y, test_size=0.2, random_state=42)\n",
    "\n",
    "# Define the model\n",
    "model = Sequential()\n",
    "model.add(Dense(128, input_shape=(X_train.shape[1],)))\n",
    "model.add(BatchNormalization())\n",
    "model.add(Activation('relu'))\n",
    "model.add(Dense(64, kernel_regularizer=L2(0.001)))\n",
    "model.add(BatchNormalization())\n",
    "model.add(Activation('relu'))\n",
    "model.add(Dense(32, kernel_regularizer=L2(0.001)))\n",
    "model.add(BatchNormalization())\n",
    "model.add(Activation('relu'))\n",
    "model.add(Dense(16, kernel_regularizer=L2(0.001)))\n",
    "model.add(BatchNormalization())\n",
    "model.add(Activation('relu'))\n",
    "model.add(Dense(1))\n",
    "\n",
    "# Compile the model\n",
    "model.compile(optimizer=tf.keras.optimizers.Adam(learning_rate=0.0001), loss='mse', metrics=['mae', r2])\n",
    "\n",
    "# Fit the model with early stopping\n",
    "early_stop = EarlyStopping(monitor='val_loss', patience=20)\n",
    "history = model.fit(X_train, y_train, validation_split=0.2, batch_size=100, epochs=200, callbacks=[early_stop])\n",
    "\n",
    "# Evaluate the model\n",
    "score = model.evaluate(X_test, y_test)\n",
    "print(f'Deep Learning Regression Mean Absolute Error: {score[1]:.2f}')\n",
    "print(f'Deep Learning Regression R-squared Score: {score[2]:.2f}')\n"
   ]
  },
  {
   "cell_type": "code",
   "execution_count": 9,
   "metadata": {},
   "outputs": [
    {
     "name": "stdout",
     "output_type": "stream",
     "text": [
      "Model: \"sequential\"\n",
      "_________________________________________________________________\n",
      " Layer (type)                Output Shape              Param #   \n",
      "=================================================================\n",
      " dense (Dense)               (None, 128)               40064     \n",
      "                                                                 \n",
      " batch_normalization (BatchN  (None, 128)              512       \n",
      " ormalization)                                                   \n",
      "                                                                 \n",
      " activation (Activation)     (None, 128)               0         \n",
      "                                                                 \n",
      " dense_1 (Dense)             (None, 64)                8256      \n",
      "                                                                 \n",
      " batch_normalization_1 (Batc  (None, 64)               256       \n",
      " hNormalization)                                                 \n",
      "                                                                 \n",
      " activation_1 (Activation)   (None, 64)                0         \n",
      "                                                                 \n",
      " dense_2 (Dense)             (None, 32)                2080      \n",
      "                                                                 \n",
      " batch_normalization_2 (Batc  (None, 32)               128       \n",
      " hNormalization)                                                 \n",
      "                                                                 \n",
      " activation_2 (Activation)   (None, 32)                0         \n",
      "                                                                 \n",
      " dense_3 (Dense)             (None, 16)                528       \n",
      "                                                                 \n",
      " batch_normalization_3 (Batc  (None, 16)               64        \n",
      " hNormalization)                                                 \n",
      "                                                                 \n",
      " activation_3 (Activation)   (None, 16)                0         \n",
      "                                                                 \n",
      " dense_4 (Dense)             (None, 1)                 17        \n",
      "                                                                 \n",
      "=================================================================\n",
      "Total params: 51,905\n",
      "Trainable params: 51,425\n",
      "Non-trainable params: 480\n",
      "_________________________________________________________________\n"
     ]
    }
   ],
   "source": [
    "model.summary()"
   ]
  },
  {
   "cell_type": "code",
   "execution_count": 10,
   "metadata": {},
   "outputs": [
    {
     "data": {
      "text/plain": [
       "[array([[-0.03082647,  0.12253547, -0.11337942, ..., -0.10161384,\n",
       "          0.07782235,  0.10203256],\n",
       "        [ 0.1159596 ,  0.01763499,  0.08365362, ..., -0.02457507,\n",
       "         -0.09158264,  0.05369059],\n",
       "        [-0.02652977,  0.00748462,  0.00583593, ..., -0.06302212,\n",
       "          0.03608722, -0.02692152],\n",
       "        ...,\n",
       "        [ 0.07927043,  0.09692229,  0.1189595 , ..., -0.13317047,\n",
       "          0.04576525, -0.13527492],\n",
       "        [ 0.07093561, -0.03799438,  0.02079128, ..., -0.11825249,\n",
       "         -0.18583432, -0.17016944],\n",
       "        [ 0.09321684, -0.1467033 , -0.25949898, ..., -0.15730649,\n",
       "         -0.3178821 ,  0.185068  ]], dtype=float32),\n",
       " array([-0.05957586, -0.01982239, -0.00180681,  0.00542803,  0.00489021,\n",
       "        -0.04892663,  0.17336951,  0.00988051, -0.08383168, -0.01357914,\n",
       "        -0.0180062 , -0.11164711,  0.00333419,  0.02593752, -0.05148034,\n",
       "        -0.09912967,  0.03207267,  0.08760954,  0.03487348, -0.03512776,\n",
       "        -0.03090615,  0.08617678,  0.0669327 , -0.05977809, -0.00855365,\n",
       "         0.03643784,  0.06338492, -0.03238447,  0.00815695, -0.10970405,\n",
       "        -0.00542626,  0.02783451,  0.02265755,  0.05637269, -0.03279964,\n",
       "        -0.036951  ,  0.05366053,  0.00933271,  0.00400899, -0.02022236,\n",
       "         0.02852373, -0.00991528, -0.01740738, -0.01283311,  0.03630265,\n",
       "         0.00860791, -0.00235273,  0.04579792,  0.0262374 , -0.03604868,\n",
       "         0.1103525 , -0.10245483, -0.04667374,  0.05491359, -0.06149343,\n",
       "        -0.00196971, -0.06502002,  0.05427119,  0.04962295,  0.03778289,\n",
       "        -0.03340645, -0.0397512 , -0.00121425,  0.06378819,  0.08551498,\n",
       "        -0.02071547,  0.05917491, -0.05259335,  0.00542327,  0.12544939,\n",
       "         0.02582647,  0.06785115,  0.00421877, -0.0246041 ,  0.00524554,\n",
       "         0.01262861, -0.02117338, -0.00941857,  0.05019199,  0.03857219,\n",
       "         0.00941784, -0.06569262,  0.05194993,  0.03091279, -0.03619778,\n",
       "         0.08827912, -0.05499146,  0.00636115,  0.05840373,  0.00231337,\n",
       "         0.12102759,  0.03812319, -0.01725193,  0.0487094 , -0.02662884,\n",
       "        -0.01920973, -0.03698727,  0.02329869, -0.03471144,  0.09309186,\n",
       "        -0.08613446, -0.03030703, -0.02446497,  0.03545272,  0.05856601,\n",
       "         0.04331522,  0.06994901,  0.07234139, -0.02090946, -0.01176894,\n",
       "         0.09313142, -0.08194882, -0.08048116, -0.04934793, -0.07928077,\n",
       "        -0.00160817, -0.05855291,  0.05149223, -0.03860014, -0.08714771,\n",
       "        -0.09523657, -0.03349901, -0.02562302,  0.02751649, -0.03862859,\n",
       "        -0.00235325, -0.0140117 , -0.03863458], dtype=float32),\n",
       " array([0.91048247, 1.1200613 , 0.9578022 , 0.922369  , 1.0520184 ,\n",
       "        1.0642723 , 1.2258229 , 0.9429792 , 1.0499461 , 1.0158261 ,\n",
       "        1.1029305 , 0.95509666, 1.0807632 , 0.92641604, 1.0761182 ,\n",
       "        0.971981  , 1.0710438 , 1.1025451 , 1.0251757 , 0.87604266,\n",
       "        0.95433444, 1.0323862 , 1.0164049 , 0.97941077, 1.0350157 ,\n",
       "        0.9144276 , 1.0656763 , 1.0526758 , 0.9196302 , 0.94995105,\n",
       "        0.99453515, 0.9238049 , 1.0295424 , 0.9222149 , 0.90037286,\n",
       "        1.0922899 , 0.9580639 , 0.9307921 , 1.005762  , 0.8551041 ,\n",
       "        0.9959205 , 0.89330065, 1.0391326 , 1.2686116 , 0.9795009 ,\n",
       "        1.0460826 , 1.0851616 , 0.9722136 , 0.94390404, 1.0012168 ,\n",
       "        0.96545804, 1.0436213 , 1.0606872 , 1.0639592 , 0.93735874,\n",
       "        0.92043287, 0.9328633 , 0.9994856 , 0.9722645 , 1.0989628 ,\n",
       "        0.92099065, 0.9453634 , 0.8562234 , 1.0111195 , 1.0076791 ,\n",
       "        0.9136774 , 0.97745484, 0.9364909 , 0.87027067, 0.9418879 ,\n",
       "        0.99475396, 1.1626981 , 0.99305415, 1.0626622 , 1.0589521 ,\n",
       "        1.0771918 , 0.9991618 , 0.9982    , 1.0476232 , 0.9444358 ,\n",
       "        0.983889  , 0.9653574 , 1.0425341 , 1.0081195 , 1.0038657 ,\n",
       "        0.9389585 , 0.9491715 , 1.145984  , 0.95637226, 1.1280997 ,\n",
       "        1.048305  , 0.8898131 , 1.0508194 , 1.0631858 , 1.0712047 ,\n",
       "        1.1486921 , 1.0473505 , 1.0760577 , 1.1436058 , 0.9339401 ,\n",
       "        1.0815384 , 0.97472644, 0.9247018 , 0.94453937, 1.0429446 ,\n",
       "        1.0232767 , 1.1782153 , 1.159843  , 0.92783386, 0.9782198 ,\n",
       "        1.0577319 , 1.1060818 , 0.8485843 , 0.8772475 , 0.9486294 ,\n",
       "        0.90238154, 1.0004667 , 0.98015654, 1.0640247 , 0.9691309 ,\n",
       "        1.0237591 , 1.0551397 , 0.9431627 , 0.96332777, 1.1568098 ,\n",
       "        1.0383865 , 0.9665672 , 1.062948  ], dtype=float32),\n",
       " array([ 1.03184089e-01, -1.44182043e-02,  3.28216739e-02,  1.25005946e-01,\n",
       "         2.79202312e-02,  1.34831565e-02, -7.08851069e-02,  1.20383821e-01,\n",
       "         1.80383306e-02, -1.16102628e-01,  5.35559170e-02, -8.37408006e-02,\n",
       "        -9.42855515e-03, -9.44483951e-02,  1.21265665e-01,  1.03137046e-01,\n",
       "        -3.16005759e-02, -1.22668892e-01,  6.93308702e-03,  9.03952569e-02,\n",
       "         6.52657254e-05, -4.03541252e-02, -8.38487223e-02,  5.01941144e-02,\n",
       "        -4.13728924e-03,  1.28785655e-01, -2.44041011e-02, -7.56106973e-02,\n",
       "         9.22601111e-03,  9.18361917e-03, -1.18727468e-01,  3.86818685e-02,\n",
       "        -6.31315708e-02,  5.52781560e-02,  9.22485217e-02, -1.26476884e-02,\n",
       "        -2.42636073e-02,  5.79958484e-02,  6.73006549e-02, -2.48691905e-02,\n",
       "        -2.10626889e-02, -7.42229596e-02, -1.17196999e-01, -9.42035839e-02,\n",
       "        -1.02028191e-01, -2.10821882e-01, -3.98359932e-02, -7.04508498e-02,\n",
       "        -1.61347091e-02, -9.02398154e-02, -6.49851784e-02,  3.60552082e-03,\n",
       "        -3.26818377e-02,  1.11857884e-01, -1.02525577e-01,  2.18454786e-02,\n",
       "        -1.61472708e-02, -6.18106686e-02, -9.65549275e-02, -6.16914704e-02,\n",
       "        -3.58219557e-02, -6.45037964e-02,  1.56916767e-01, -4.14119922e-02,\n",
       "        -1.75258759e-02, -2.97598951e-02, -2.90121827e-02,  2.11095139e-02,\n",
       "         5.36738671e-02,  1.07409790e-01, -3.29845063e-02, -1.35558188e-01,\n",
       "         7.29402676e-02, -6.37758747e-02, -4.31088470e-02, -1.09860584e-01,\n",
       "        -6.10334091e-02, -1.09536164e-01, -1.01538025e-01,  1.13670655e-01,\n",
       "        -2.13239901e-03,  1.31667748e-01, -6.05812408e-02,  1.28364405e-02,\n",
       "        -8.69928226e-02, -4.91151400e-02, -1.59473851e-01, -5.99745885e-02,\n",
       "         1.41291553e-02, -1.88679453e-02, -8.22729617e-02,  2.47064270e-02,\n",
       "         4.28549722e-02,  2.37052832e-02, -1.00343768e-02, -1.19963847e-01,\n",
       "        -6.44764975e-02, -1.15433186e-01, -1.85672686e-01,  3.27543728e-02,\n",
       "        -1.02496140e-01, -2.61405446e-02,  6.42703474e-02,  6.53656796e-02,\n",
       "        -3.19590494e-02,  1.25453889e-01, -7.80494362e-02, -6.88115954e-02,\n",
       "         2.06417069e-02,  2.58644726e-02,  1.04400046e-01, -6.57537729e-02,\n",
       "        -1.00188479e-02,  1.80800855e-02,  2.64654271e-02,  9.16078091e-02,\n",
       "        -9.72538143e-02,  4.55307700e-02,  1.51630035e-02,  1.40589431e-01,\n",
       "         1.74745601e-02, -7.80355185e-04, -1.64062947e-01,  3.64178568e-02,\n",
       "        -9.93428677e-02, -6.51791617e-02, -3.25083919e-02, -6.93190144e-03],\n",
       "       dtype=float32),\n",
       " array([-2.14034423e-01, -8.51031020e-02, -7.28308733e-05,  7.29240701e-02,\n",
       "         6.85979798e-02, -5.82486577e-02,  2.25579292e-01,  1.66999668e-01,\n",
       "        -1.10901073e-01,  2.47445740e-02,  5.36117097e-03, -1.45910352e-01,\n",
       "         3.69717553e-02,  1.25954628e-01,  6.89293295e-02, -1.86508104e-01,\n",
       "         8.18137527e-02, -2.38749664e-02, -3.12219542e-02,  5.77509031e-02,\n",
       "        -1.67895004e-01,  1.64454520e-01,  1.76460013e-01, -6.52018487e-02,\n",
       "         4.42681946e-02,  7.53109157e-02,  1.15316756e-01, -4.31847461e-02,\n",
       "         1.56621933e-01, -3.79607677e-02, -6.40432462e-02, -1.01034850e-01,\n",
       "        -2.71280552e-03,  1.67606547e-01,  2.31165085e-02,  9.46668014e-02,\n",
       "         1.13422766e-01,  5.17340098e-03,  1.00813866e-01, -6.94905445e-02,\n",
       "         1.43112153e-01,  6.59870803e-02, -1.80410534e-01, -3.99324000e-02,\n",
       "        -6.59334362e-02,  6.61596134e-02,  1.21972673e-01, -1.77916121e-02,\n",
       "        -1.32853324e-02, -3.49990316e-02,  1.44285128e-01, -1.65246174e-01,\n",
       "         2.69856304e-02,  1.50119007e-01, -6.08087108e-02, -1.08214326e-01,\n",
       "         1.07237451e-01, -4.81510907e-02, -2.70914547e-02,  7.15165911e-03,\n",
       "         2.86174323e-02,  6.82983026e-02,  3.27267721e-02, -8.22980031e-02,\n",
       "         5.83954453e-02, -1.32781062e-02, -1.66045427e-02, -8.93576518e-02,\n",
       "         9.31753293e-02,  1.84228912e-01,  7.07342476e-02,  1.32051378e-01,\n",
       "        -4.39495258e-02,  5.50948381e-02,  1.73668638e-01,  2.33452860e-02,\n",
       "         1.52232340e-02,  3.78364436e-02,  9.32783335e-02,  1.08553395e-01,\n",
       "         1.04386233e-01, -2.16191504e-02,  1.04134455e-01,  6.00634962e-02,\n",
       "         6.08829898e-04,  4.66934294e-02,  4.27063033e-02, -2.35099681e-02,\n",
       "        -9.88340601e-02,  1.00075342e-01,  2.21315071e-01, -7.63852373e-02,\n",
       "         2.38564327e-01,  3.52011174e-02, -8.79692063e-02, -5.58598340e-02,\n",
       "        -1.12181574e-01,  1.57429263e-01, -4.68533747e-02, -2.12735264e-03,\n",
       "        -2.50858627e-02,  6.39836416e-02,  9.70005617e-02, -1.30901039e-01,\n",
       "         2.16257811e-01,  6.76493049e-02,  2.43938982e-01, -7.47593259e-03,\n",
       "        -3.94582376e-02,  3.31798494e-02,  1.10485233e-01, -1.86505765e-01,\n",
       "        -1.47254005e-01,  9.55883414e-03, -9.58660841e-02,  1.03792548e-01,\n",
       "        -1.61231518e-01,  1.01326644e-01,  1.61690754e-04, -1.84568558e-02,\n",
       "         1.66264281e-01,  9.47002880e-03, -6.43416718e-02,  6.84062615e-02,\n",
       "        -1.16300561e-01, -9.44483839e-03,  1.30657434e-01, -1.96650885e-02],\n",
       "       dtype=float32),\n",
       " array([0.0591288 , 0.07599927, 0.02951791, 0.07608791, 0.03627896,\n",
       "        0.0604332 , 0.22619623, 0.03717594, 0.06872395, 0.11073494,\n",
       "        0.06851584, 0.04004377, 0.03541411, 0.03109986, 0.04177593,\n",
       "        0.03950692, 0.04924101, 0.07335632, 0.07487864, 0.03991868,\n",
       "        0.03028   , 0.03391479, 0.06324378, 0.04802906, 0.02680012,\n",
       "        0.05089057, 0.09445056, 0.11983314, 0.02973609, 0.03681714,\n",
       "        0.01820838, 0.05485728, 0.04919095, 0.02839127, 0.03266446,\n",
       "        0.06478292, 0.02353773, 0.04588568, 0.05799843, 0.02919677,\n",
       "        0.03608832, 0.03299041, 0.08156965, 0.13092479, 0.04193094,\n",
       "        0.02569037, 0.05192825, 0.02340488, 0.03745904, 0.04544499,\n",
       "        0.05156338, 0.13614188, 0.09350748, 0.0518784 , 0.03283248,\n",
       "        0.02888388, 0.0263788 , 0.02288627, 0.085813  , 0.05571051,\n",
       "        0.05343588, 0.05236699, 0.07960014, 0.03694604, 0.03699088,\n",
       "        0.03768836, 0.03427207, 0.03202933, 0.04768075, 0.03357393,\n",
       "        0.07539061, 0.05805599, 0.04597182, 0.04556189, 0.04407902,\n",
       "        0.02987908, 0.02596963, 0.03462951, 0.02791813, 0.03816962,\n",
       "        0.05240706, 0.04748492, 0.04111286, 0.03717487, 0.03993064,\n",
       "        0.04776873, 0.04372844, 0.03968199, 0.03532163, 0.04427273,\n",
       "        0.0472928 , 0.02551965, 0.02665978, 0.04932256, 0.07711687,\n",
       "        0.03792723, 0.07851896, 0.04085688, 0.04071842, 0.05263071,\n",
       "        0.04753627, 0.0271538 , 0.03326378, 0.03233499, 0.08522199,\n",
       "        0.03427172, 0.05742428, 0.04351963, 0.03550481, 0.04107808,\n",
       "        0.04412263, 0.05172614, 0.03501641, 0.03969331, 0.05100614,\n",
       "        0.04173554, 0.05118857, 0.02697116, 0.06179227, 0.03286435,\n",
       "        0.03388883, 0.05464755, 0.03483812, 0.06345247, 0.14920484,\n",
       "        0.0322348 , 0.02818682, 0.04171257], dtype=float32),\n",
       " array([[ 0.00256992, -0.14954853,  0.07804468, ..., -0.09803804,\n",
       "         -0.05311569,  0.04307481],\n",
       "        [ 0.04196046,  0.08074719, -0.13535371, ...,  0.14989907,\n",
       "         -0.16645904, -0.01449786],\n",
       "        [-0.16075248, -0.12048657, -0.14076301, ...,  0.0574425 ,\n",
       "         -0.14727524, -0.07221298],\n",
       "        ...,\n",
       "        [ 0.00397427, -0.00998371,  0.06182991, ...,  0.08363483,\n",
       "         -0.14333616,  0.13190196],\n",
       "        [-0.01659878,  0.06881829,  0.07569329, ..., -0.00651346,\n",
       "         -0.15789925,  0.08368336],\n",
       "        [ 0.0011861 ,  0.03122159,  0.16557021, ...,  0.03176384,\n",
       "         -0.18233098,  0.20753622]], dtype=float32),\n",
       " array([-0.10210162,  0.0621755 , -0.00506883, -0.07350191, -0.01944364,\n",
       "        -0.07411793, -0.05012261, -0.05723393,  0.05605461,  0.03887416,\n",
       "         0.0655956 ,  0.03232046,  0.04852704, -0.02829663, -0.03714186,\n",
       "         0.01493797,  0.00642399,  0.00423039, -0.05741159,  0.04025022,\n",
       "        -0.01127944,  0.08751007,  0.00425347, -0.06534529, -0.01416548,\n",
       "         0.06353419, -0.00529179,  0.05442394, -0.15168156,  0.04402948,\n",
       "         0.07837366, -0.0339619 , -0.04921038, -0.01191062,  0.00069773,\n",
       "         0.0101384 ,  0.00331838,  0.13513492,  0.0070004 , -0.04604815,\n",
       "         0.00543738,  0.02355709, -0.00233097, -0.02848483, -0.02779438,\n",
       "        -0.08539508, -0.05892073, -0.00488864,  0.00873558,  0.01088105,\n",
       "         0.00190024, -0.09473911,  0.04305642, -0.02808519,  0.02719354,\n",
       "         0.06656274, -0.07840291,  0.00061146, -0.04828506,  0.01643094,\n",
       "        -0.02688232,  0.0332337 ,  0.00950926,  0.03338766], dtype=float32),\n",
       " array([1.1099759 , 1.1251274 , 0.9723158 , 0.9529386 , 1.0743784 ,\n",
       "        1.0683411 , 1.155357  , 0.8637996 , 0.7531806 , 1.103946  ,\n",
       "        0.95201755, 1.0029943 , 0.9657264 , 1.0059646 , 0.8963388 ,\n",
       "        1.0546314 , 0.90625864, 1.0136298 , 0.95405483, 0.9581582 ,\n",
       "        0.8768773 , 0.79761505, 1.0601196 , 0.96719843, 0.73004967,\n",
       "        0.95134443, 0.9827995 , 1.1348819 , 0.86252916, 0.913325  ,\n",
       "        1.0709354 , 0.9892398 , 1.0310677 , 0.8470685 , 1.0470643 ,\n",
       "        0.94998276, 0.9118763 , 0.9773318 , 0.9002022 , 0.9426176 ,\n",
       "        1.1100044 , 1.0439973 , 0.91137195, 0.9781449 , 0.92237973,\n",
       "        0.966264  , 0.9811847 , 0.99582475, 0.92824054, 0.85145587,\n",
       "        0.9660371 , 0.9733465 , 1.0747406 , 0.8868056 , 1.0128609 ,\n",
       "        0.9314339 , 0.90944386, 0.947333  , 0.7812593 , 0.89367294,\n",
       "        0.97564906, 1.0467322 , 1.0568389 , 1.2540966 ], dtype=float32),\n",
       " array([-0.13700466, -0.24428076, -0.13556094,  0.06901719, -0.10927647,\n",
       "        -0.14307201, -0.40762627, -0.3487313 , -0.27025634,  0.00362237,\n",
       "        -0.01753609, -0.16727553, -0.07573461, -0.1309776 , -0.18627438,\n",
       "        -0.4473271 , -0.01192504, -0.09535331, -0.08348268,  0.05258524,\n",
       "        -0.00489383, -0.09527647, -0.25054324, -0.11253168, -0.17148694,\n",
       "        -0.05694003, -0.1484871 , -0.37150693,  0.06027129, -0.19472948,\n",
       "        -0.18168469, -0.13241225, -0.02719693, -0.00970079,  0.22586744,\n",
       "         0.04954701, -0.09832828, -0.05164817, -0.10315652, -0.01435043,\n",
       "        -0.05629333,  0.6313253 , -0.21473897, -0.63880336, -0.02545561,\n",
       "        -0.25378513, -0.07724369, -0.12921827, -0.24588814, -0.07153301,\n",
       "        -0.01596277,  0.10386912, -0.29545447, -0.08987653, -0.11335767,\n",
       "        -0.08295428,  0.41111198,  0.04671208, -0.14065129, -0.79254025,\n",
       "        -0.02672016,  0.08248742,  0.3305494 , -0.12655616], dtype=float32),\n",
       " array([ 1.9701351e-01,  8.6964232e-01,  5.2610713e-01,  2.1638624e-01,\n",
       "         1.4262835e+00,  1.1662151e+00,  7.7813423e-01,  1.7214723e+00,\n",
       "         9.7837996e-01,  5.8014244e-01, -8.9273793e-01, -4.2404532e-01,\n",
       "        -1.7200124e+00,  3.1962958e-01, -5.4889441e-01,  3.2907233e-01,\n",
       "         2.9516467e-03,  3.7078652e-01, -5.0461066e-01,  1.6069483e-02,\n",
       "         2.7603945e-01, -8.2102072e-01, -9.8127492e-02, -1.1741213e+00,\n",
       "        -3.9269760e-01, -3.7222698e-01,  2.6846454e-01, -4.2237323e-02,\n",
       "        -1.7058096e+00, -8.1546474e-01, -3.0756664e-01,  6.8644851e-02,\n",
       "         1.3884457e+00, -8.5593581e-02, -9.7584349e-01,  5.9439916e-02,\n",
       "        -3.3878931e-01,  1.6339844e-01, -3.3376411e-02, -1.4647987e+00,\n",
       "         4.7605324e-01, -1.8259963e+00, -6.8051010e-01,  1.8379679e-01,\n",
       "        -2.5577357e-01,  2.1174391e-01, -1.6133668e-01,  3.7474748e-01,\n",
       "        -4.3007299e-01, -1.4505441e-01, -9.9611044e-01, -1.8005303e+00,\n",
       "         1.3370125e+00,  1.3906489e-01,  1.3671929e-01, -6.1424738e-01,\n",
       "        -2.4978757e+00,  3.3769336e-01, -6.3654351e-01,  8.5713500e-01,\n",
       "        -7.6769847e-01, -4.6045393e-01, -3.2073107e+00,  1.3818442e+00],\n",
       "       dtype=float32),\n",
       " array([0.8443076 , 1.0871382 , 1.4046575 , 1.8515544 , 0.73068225,\n",
       "        0.9650186 , 0.78607684, 0.86154145, 1.5002594 , 2.0363753 ,\n",
       "        0.6395619 , 0.6286581 , 1.2966747 , 0.7241685 , 1.3413309 ,\n",
       "        0.70836914, 0.7363327 , 0.7547704 , 1.9174047 , 0.4267357 ,\n",
       "        0.6133579 , 1.0430845 , 0.6657966 , 0.7732142 , 0.37931395,\n",
       "        1.1977234 , 0.99170655, 0.6582712 , 1.4806489 , 0.8776043 ,\n",
       "        1.138652  , 1.067791  , 1.2277596 , 1.5345521 , 2.0706193 ,\n",
       "        1.1665776 , 0.8245426 , 0.9223521 , 1.1132964 , 1.7138174 ,\n",
       "        1.4631486 , 3.0197904 , 1.515063  , 0.837821  , 0.7113914 ,\n",
       "        0.71302396, 1.3513258 , 0.61905736, 1.1884825 , 0.3989051 ,\n",
       "        1.8553177 , 1.5570647 , 1.0857968 , 1.1768601 , 0.6671955 ,\n",
       "        0.9605203 , 3.0318904 , 1.6175756 , 0.8360739 , 0.75674796,\n",
       "        0.9489406 , 0.6418747 , 1.5773834 , 1.4586058 ], dtype=float32),\n",
       " array([[-0.24390326,  0.15876736, -0.3163043 , ...,  0.13977976,\n",
       "         -0.14347057, -0.31736025],\n",
       "        [-0.05028372,  0.2834739 , -0.4480389 , ...,  0.41110885,\n",
       "         -0.37505454, -0.31829563],\n",
       "        [-0.08576849,  0.12283456, -0.28995514, ...,  0.0433193 ,\n",
       "         -0.02069691, -0.38153398],\n",
       "        ...,\n",
       "        [-0.0685491 ,  0.10660829, -0.12542741, ...,  0.21606207,\n",
       "         -0.08884029, -0.15797187],\n",
       "        [-0.00311029,  0.20948942,  0.04691776, ..., -0.09023261,\n",
       "          0.07533906, -0.00150465],\n",
       "        [ 0.1901017 ,  0.15963061, -0.27174228, ...,  0.24661289,\n",
       "          0.0785345 , -0.00628398]], dtype=float32),\n",
       " array([-0.04422165, -0.08802842,  0.04050052,  0.02815305,  0.02899237,\n",
       "        -0.06949326, -0.07385212,  0.00160803, -0.02356427,  0.01809491,\n",
       "        -0.02910062,  0.04995086,  0.07682841, -0.07107772, -0.01675581,\n",
       "         0.01383522,  0.03617866, -0.01363589, -0.01225677,  0.00491772,\n",
       "         0.00591929, -0.03422127,  0.02762886, -0.02796181, -0.01575479,\n",
       "        -0.01110233, -0.05895947,  0.039411  ,  0.00096198, -0.06364963,\n",
       "         0.02799917, -0.0279151 ], dtype=float32),\n",
       " array([0.89270395, 0.96781176, 0.7825395 , 1.0578966 , 0.8293917 ,\n",
       "        0.84769464, 0.9016304 , 1.5216317 , 0.7777658 , 1.037829  ,\n",
       "        0.9607808 , 0.6742301 , 0.8507157 , 0.91397655, 0.93627924,\n",
       "        0.6913818 , 1.0093814 , 0.6867218 , 0.9619044 , 0.8827869 ,\n",
       "        1.4497368 , 0.979615  , 1.0017927 , 0.83736986, 1.0218979 ,\n",
       "        0.82348746, 1.0436532 , 1.0990831 , 0.8626038 , 0.87101686,\n",
       "        0.8773996 , 0.55538136], dtype=float32),\n",
       " array([-0.21715379, -0.46409827,  0.837645  , -0.33406886, -0.67759514,\n",
       "        -0.47504666,  0.10249903,  1.0423703 ,  0.8858922 , -0.40179005,\n",
       "        -0.30902988,  0.16853285, -0.3798975 , -0.33842468,  0.08023763,\n",
       "        -0.4198866 , -0.3250562 ,  0.7907197 , -0.31780863, -0.6046528 ,\n",
       "         0.18638492, -0.40182447,  0.4047271 , -0.28543466, -0.08703432,\n",
       "        -0.03551887,  0.35081893, -0.6521566 ,  0.06877032, -0.17854036,\n",
       "         0.86548495,  0.66558695], dtype=float32),\n",
       " array([-0.24838313,  1.4703035 , -0.3354903 ,  2.256786  ,  0.32232308,\n",
       "         0.6281793 , -2.0182405 ,  0.02362362, -0.5477561 , -0.6616092 ,\n",
       "         1.6859796 ,  0.4672002 ,  1.737472  ,  1.9221023 , -1.7312994 ,\n",
       "         0.7615806 ,  1.9995714 , -0.70667696, -0.5954773 ,  0.4778322 ,\n",
       "        -0.28036815,  0.97587997, -0.91270894,  1.7670432 ,  1.1187303 ,\n",
       "         0.9759252 , -0.37341556,  0.35673547,  1.0563399 ,  1.0471215 ,\n",
       "        -0.7948217 , -1.1241612 ], dtype=float32),\n",
       " array([0.32798553, 0.7745642 , 6.470357  , 0.8811502 , 1.2022048 ,\n",
       "        5.0314035 , 2.9900174 , 0.9776268 , 3.6637037 , 0.38973695,\n",
       "        2.598633  , 0.7487353 , 1.5153798 , 0.61217624, 1.1740193 ,\n",
       "        1.0059143 , 0.9061619 , 1.7063789 , 0.28371152, 1.6366875 ,\n",
       "        0.27224252, 0.8045433 , 2.4482248 , 1.5657128 , 1.206369  ,\n",
       "        1.6721011 , 0.5339879 , 2.1826441 , 1.4745924 , 3.5004559 ,\n",
       "        2.5811052 , 2.2532468 ], dtype=float32),\n",
       " array([[ 0.2827003 ,  0.24297383,  0.23397657,  0.25264883,  0.23375677,\n",
       "          0.29271045,  0.295717  ,  0.33783844,  0.33494714,  0.28609103,\n",
       "          0.3056423 ,  0.24032666,  0.30121687,  0.30551666,  0.22863942,\n",
       "          0.2432652 ],\n",
       "        [-0.19061662, -0.01404953,  0.0198994 ,  0.13418007, -0.11530878,\n",
       "         -0.39094752,  0.05719652, -0.23003687, -0.28688335, -0.47627085,\n",
       "         -0.3494663 ,  0.08524246, -0.36374983, -0.18173507, -0.39674583,\n",
       "         -0.05251155],\n",
       "        [ 0.40672103,  0.23648033,  0.30117851,  0.45531008,  0.24620326,\n",
       "          0.11638382,  0.40299064,  0.15703967,  0.24300888,  0.14517832,\n",
       "          0.11849626,  0.39693233,  0.28168896,  0.3190652 ,  0.16355704,\n",
       "          0.39457583],\n",
       "        [-0.17800517,  0.17164019, -0.3122737 ,  0.02359371,  0.04385602,\n",
       "         -0.01192751,  0.10809517, -0.2060831 , -0.06178262, -0.38432264,\n",
       "         -0.20695364,  0.16122468,  0.07430668, -0.3027531 , -0.19351433,\n",
       "          0.00619333],\n",
       "        [-0.57358193, -0.43149072, -0.20514981, -0.19020449, -0.65021974,\n",
       "         -0.661023  , -0.45247248, -0.6902654 , -0.5822886 , -0.5401804 ,\n",
       "         -0.67273307, -0.1537198 , -0.5684881 , -0.56958765, -0.60053927,\n",
       "         -0.42730403],\n",
       "        [-0.35387716, -0.06369366, -0.3500326 , -0.33301565, -0.14057995,\n",
       "         -0.27362597, -0.42063168,  0.01838851, -0.29868355,  0.12096278,\n",
       "          0.02413666, -0.3476278 , -0.22971882, -0.23405251, -0.19483538,\n",
       "         -0.26324612],\n",
       "        [-0.27459615, -0.33483535, -0.31616482, -0.27653995, -0.22847128,\n",
       "         -0.354778  , -0.23481874, -0.34299973, -0.321997  , -0.30865395,\n",
       "         -0.38630512, -0.27524173, -0.2970388 , -0.31940612, -0.26196513,\n",
       "         -0.26527837],\n",
       "        [ 0.44647807,  0.8266514 ,  0.6787614 ,  0.76703167,  0.39555594,\n",
       "         -0.41694957,  0.71074486, -0.19783336, -0.27794623, -0.46184152,\n",
       "         -0.5369337 ,  0.78677607,  0.02373498,  0.22466417, -0.46746573,\n",
       "          0.9117185 ],\n",
       "        [ 0.2916919 ,  0.18218733,  0.32639134,  0.10908406,  0.43604663,\n",
       "          0.2444816 ,  0.05189328,  0.3457711 ,  0.32458013,  0.10920759,\n",
       "          0.08093288,  0.03148777,  0.3496503 ,  0.33525607,  0.13843146,\n",
       "          0.02803687],\n",
       "        [ 0.3461891 ,  0.39746156,  0.3738964 ,  0.25569487,  0.2910163 ,\n",
       "          0.38280296,  0.4355547 ,  0.46451613,  0.4176059 ,  0.33978137,\n",
       "          0.42380524,  0.32117888,  0.3804404 ,  0.42959875,  0.28047192,\n",
       "          0.3607075 ],\n",
       "        [ 0.41172072,  0.03066198,  0.20209573,  0.21925032,  0.16472156,\n",
       "          0.12593247,  0.23623373, -0.10540254,  0.07051048,  0.29723245,\n",
       "         -0.05607494, -0.16207899,  0.15404338,  0.3961175 ,  0.36861905,\n",
       "         -0.01420021],\n",
       "        [ 0.34458193,  0.09971666,  0.17452808,  0.23537596,  0.28550038,\n",
       "         -0.12923378,  0.27804467,  0.11456098,  0.02911125, -0.02596633,\n",
       "         -0.13315177,  0.12998201,  0.02775621,  0.07772481, -0.18112646,\n",
       "          0.24928796],\n",
       "        [ 0.1204502 ,  0.0330894 ,  0.03632061, -0.06480418, -0.05299616,\n",
       "          0.21142723,  0.10693416, -0.16927512,  0.01238848,  0.18215875,\n",
       "         -0.11943237,  0.27948695, -0.02079044,  0.32259205,  0.38882098,\n",
       "          0.28235433],\n",
       "        [ 0.16262978,  0.15559071,  0.29785448,  0.23613872,  0.11295111,\n",
       "          0.00400797,  0.00973359,  0.34414884,  0.04873829, -0.11993439,\n",
       "          0.15159552,  0.09511652,  0.08104315,  0.2717233 , -0.18880494,\n",
       "         -0.0520401 ],\n",
       "        [-0.11014592, -0.14184806, -0.12040661, -0.12042602, -0.12579961,\n",
       "         -0.2896685 , -0.13819915, -0.27437514, -0.2430334 , -0.3454752 ,\n",
       "         -0.32693824, -0.09222909, -0.18854204, -0.19261861, -0.27628458,\n",
       "         -0.10461585],\n",
       "        [ 0.07283109,  0.00645144,  0.04885386, -0.20075218,  0.15125817,\n",
       "          0.11139422, -0.10090722,  0.22471546,  0.14900857,  0.09567391,\n",
       "          0.12375673, -0.07678957,  0.06775051,  0.00270398,  0.08506233,\n",
       "         -0.05790285],\n",
       "        [ 0.02832389,  0.17673428,  0.17771251,  0.2577346 ,  0.27031785,\n",
       "          0.12018122, -0.01474993,  0.43723568,  0.35711288, -0.09358545,\n",
       "          0.25019243,  0.05213791,  0.3419389 ,  0.10405581, -0.12869829,\n",
       "          0.09647745],\n",
       "        [ 0.5255278 ,  0.2309382 ,  0.35481897,  0.34011155,  0.47670794,\n",
       "          0.3882699 ,  0.35785922,  0.527351  ,  0.5505659 ,  0.29746914,\n",
       "          0.34031665,  0.22791354,  0.51412207,  0.50628054,  0.27595836,\n",
       "          0.26303986],\n",
       "        [ 0.3235411 ,  0.25822496,  0.25031054,  0.47234404,  0.42149162,\n",
       "          0.514778  ,  0.21318917,  0.31754133,  0.3653418 ,  0.21616818,\n",
       "          0.42264685,  0.28146985,  0.3469784 ,  0.29348662,  0.40681657,\n",
       "          0.24087271],\n",
       "        [-0.17506658, -0.24280795, -0.2654223 , -0.40850472, -0.08742309,\n",
       "         -0.43543866,  0.00184349, -0.27623743, -0.27586624, -0.45855036,\n",
       "         -0.47744682, -0.09313826, -0.24900082, -0.387777  , -0.30915427,\n",
       "         -0.00831245],\n",
       "        [ 0.46256912,  0.44983444,  0.40386036,  0.4871735 ,  0.4725344 ,\n",
       "          0.47864333,  0.46812585,  0.5080375 ,  0.5015882 ,  0.5182065 ,\n",
       "          0.4411658 ,  0.41361678,  0.4814813 ,  0.46728   ,  0.45705584,\n",
       "          0.41162404],\n",
       "        [-0.20021869, -0.2992381 , -0.07446492, -0.27683815, -0.22002211,\n",
       "         -0.23795289, -0.17179658, -0.21025193, -0.156416  , -0.12965561,\n",
       "         -0.25791648, -0.22654063, -0.31779698, -0.23747335, -0.19258459,\n",
       "         -0.16620927],\n",
       "        [ 0.36548263,  0.19999005,  0.26885453,  0.26905385,  0.31555167,\n",
       "          0.15751001,  0.31864095,  0.2989951 ,  0.2963188 ,  0.21594568,\n",
       "          0.1437917 ,  0.24670888,  0.2716993 ,  0.30040827,  0.14531972,\n",
       "          0.2565961 ],\n",
       "        [ 0.2521754 ,  0.07570248,  0.05953596,  0.14715777,  0.08646924,\n",
       "          0.02499277,  0.23224701,  0.05584792,  0.19513208,  0.15289262,\n",
       "          0.009548  ,  0.35078105,  0.25087896, -0.0788412 ,  0.08869151,\n",
       "          0.37303624],\n",
       "        [ 0.04233369, -0.07217592,  0.1603134 , -0.21244332, -0.21037304,\n",
       "          0.23265189, -0.3340653 , -0.04797796,  0.06350689,  0.5372168 ,\n",
       "          0.15953873,  0.02502942,  0.20059119,  0.25417036,  0.43619433,\n",
       "         -0.16821662],\n",
       "        [ 0.09822879,  0.17313547,  0.01740527,  0.28265244,  0.01477475,\n",
       "          0.24688324,  0.18953238,  0.17741609,  0.0883509 ,  0.26224813,\n",
       "          0.13234206,  0.37627763,  0.08546329, -0.03149041,  0.45031068,\n",
       "          0.00599548],\n",
       "        [ 0.24561991,  0.2150307 ,  0.24101073,  0.23375241,  0.24543421,\n",
       "          0.09880916,  0.22925654,  0.17901224,  0.16226868,  0.12096866,\n",
       "          0.0679782 ,  0.18346116,  0.17656171,  0.19842067,  0.05520095,\n",
       "          0.22392891],\n",
       "        [-0.03047298, -0.77232903, -0.3567317 , -0.3678645 , -0.14636317,\n",
       "         -0.20037772, -0.4076437 , -0.22555153, -0.08245376,  0.05496828,\n",
       "         -0.24116483, -0.80696374, -0.26965207, -0.1803084 ,  0.1283674 ,\n",
       "         -0.41694862],\n",
       "        [-0.01546406,  0.23596607,  0.06646261,  0.03175954,  0.35243928,\n",
       "          0.15860981,  0.15376218,  0.2114948 ,  0.22328214,  0.17183849,\n",
       "          0.35487556, -0.16479471,  0.16799495,  0.24480417,  0.06690328,\n",
       "          0.31997803],\n",
       "        [-0.21482483, -0.23473532, -0.23926038, -0.41961414, -0.18045694,\n",
       "         -0.15425709, -0.31387678, -0.11738033, -0.20583591,  0.17534749,\n",
       "         -0.05964876, -0.36315447, -0.1647102 , -0.34814933,  0.01667665,\n",
       "         -0.47301298],\n",
       "        [ 0.55708396,  0.34635058,  0.46423835,  0.5053326 ,  0.5951838 ,\n",
       "          0.42468935,  0.37263525,  0.481154  ,  0.5253023 ,  0.24725725,\n",
       "          0.30899227,  0.34871444,  0.5478861 ,  0.5231106 ,  0.33352602,\n",
       "          0.34183222],\n",
       "        [ 0.12741454,  0.09315136,  0.19319004, -0.08931398,  0.08374385,\n",
       "          0.20440671, -0.01723876,  0.26419103,  0.36251864,  0.15506569,\n",
       "          0.18344457, -0.03037169,  0.37473106,  0.35496306,  0.14809623,\n",
       "         -0.07422402]], dtype=float32),\n",
       " array([-0.0198663 ,  0.00426882,  0.0840778 ,  0.02244784, -0.06608105,\n",
       "        -0.15251832,  0.01758861, -0.01680249, -0.00467172, -0.06181485,\n",
       "         0.01324687,  0.04066408, -0.0030112 ,  0.00549276,  0.05836633,\n",
       "        -0.00738995], dtype=float32),\n",
       " array([18.738842, 18.107038, 18.412949, 18.484406, 18.954947, 19.197292,\n",
       "        18.385046, 19.142412, 19.205164, 19.352282, 19.187729, 18.027943,\n",
       "        18.920788, 18.829576, 19.153643, 18.15609 ], dtype=float32),\n",
       " array([17.949709, 17.422184, 17.640526, 17.680729, 18.108072, 18.472069,\n",
       "        17.604326, 18.39618 , 18.445856, 18.572392, 18.497427, 17.353329,\n",
       "        18.152348, 18.062012, 18.450241, 17.444029], dtype=float32),\n",
       " array([3.2477882 , 2.681586  , 3.146915  , 2.9962237 , 3.093114  ,\n",
       "        1.0777123 , 2.776475  , 2.08885   , 2.2008405 , 0.95833075,\n",
       "        0.6297612 , 2.5332477 , 2.6651866 , 2.886475  , 1.048152  ,\n",
       "        2.7192469 ], dtype=float32),\n",
       " array([6.1880183 , 6.452426  , 5.9725356 , 7.6477194 , 6.1278596 ,\n",
       "        1.4907234 , 6.784269  , 3.2913315 , 2.9111621 , 0.55732167,\n",
       "        0.95140314, 6.1007495 , 3.9359412 , 4.373492  , 0.46722817,\n",
       "        6.6376143 ], dtype=float32),\n",
       " array([[17.99365 ],\n",
       "        [17.65135 ],\n",
       "        [17.855698],\n",
       "        [17.878809],\n",
       "        [18.156908],\n",
       "        [18.508709],\n",
       "        [17.824238],\n",
       "        [18.790293],\n",
       "        [18.54594 ],\n",
       "        [18.542297],\n",
       "        [18.508944],\n",
       "        [17.614925],\n",
       "        [18.123945],\n",
       "        [18.04046 ],\n",
       "        [18.73168 ],\n",
       "        [17.685436]], dtype=float32),\n",
       " array([18.24822], dtype=float32)]"
      ]
     },
     "execution_count": 10,
     "metadata": {},
     "output_type": "execute_result"
    }
   ],
   "source": [
    "model.get_weights()"
   ]
  },
  {
   "cell_type": "code",
   "execution_count": 11,
   "metadata": {},
   "outputs": [
    {
     "name": "stdout",
     "output_type": "stream",
     "text": [
      "1610/1610 [==============================] - 2s 1ms/step\n",
      "[[15095.299  ]\n",
      " [  975.77985]\n",
      " [  855.2763 ]\n",
      " ...\n",
      " [ 1126.3646 ]\n",
      " [ 1161.2719 ]\n",
      " [  799.882  ]]\n"
     ]
    }
   ],
   "source": [
    "predictions = model.predict(X_test)\n",
    "\n",
    "# Print the predicted prices\n",
    "print(predictions)"
   ]
  },
  {
   "cell_type": "code",
   "execution_count": 12,
   "metadata": {},
   "outputs": [
    {
     "data": {
      "text/plain": [
       "43806     15499.0\n",
       "217182      500.0\n",
       "137747     1640.0\n",
       "74434       500.0\n",
       "55548     12800.0\n",
       "           ...   \n",
       "54430       500.0\n",
       "119793    15499.0\n",
       "139112     1299.0\n",
       "221066      500.0\n",
       "116067      500.0\n",
       "Name: price, Length: 51514, dtype: float64"
      ]
     },
     "execution_count": 12,
     "metadata": {},
     "output_type": "execute_result"
    }
   ],
   "source": [
    "y_test"
   ]
  },
  {
   "cell_type": "code",
   "execution_count": 13,
   "metadata": {},
   "outputs": [
    {
     "data": {
      "application/vnd.plotly.v1+json": {
       "config": {
        "plotlyServerURL": "https://plot.ly"
       },
       "data": [
        {
         "hovertemplate": "variable=loss<br>Epoch=%{x}<br>Loss=%{y}<extra></extra>",
         "legendgroup": "loss",
         "line": {
          "color": "#636efa",
          "dash": "solid"
         },
         "marker": {
          "symbol": "circle"
         },
         "mode": "lines",
         "name": "loss",
         "orientation": "v",
         "showlegend": true,
         "type": "scatter",
         "x": [
          1,
          2,
          3,
          4,
          5,
          6,
          7,
          8,
          9,
          10,
          11,
          12,
          13,
          14,
          15,
          16,
          17,
          18,
          19,
          20,
          21,
          22,
          23,
          24,
          25,
          26,
          27,
          28,
          29,
          30,
          31,
          32,
          33,
          34,
          35,
          36,
          37,
          38,
          39,
          40,
          41,
          42,
          43,
          44,
          45,
          46,
          47,
          48,
          49,
          50,
          51,
          52,
          53,
          54,
          55,
          56,
          57,
          58,
          59,
          60,
          61,
          62,
          63,
          64,
          65,
          66,
          67,
          68,
          69,
          70,
          71,
          72,
          73,
          74,
          75,
          76,
          77,
          78,
          79,
          80,
          81,
          82,
          83,
          84,
          85,
          86,
          87,
          88,
          89,
          90,
          91,
          92,
          93,
          94,
          95,
          96,
          97,
          98,
          99,
          100,
          101,
          102,
          103,
          104,
          105,
          106,
          107,
          108,
          109,
          110,
          111,
          112,
          113,
          114,
          115,
          116,
          117,
          118,
          119,
          120,
          121,
          122,
          123,
          124,
          125,
          126,
          127,
          128,
          129,
          130,
          131,
          132,
          133,
          134,
          135,
          136,
          137,
          138,
          139,
          140,
          141,
          142,
          143,
          144,
          145,
          146,
          147,
          148,
          149,
          150,
          151,
          152,
          153,
          154,
          155,
          156
         ],
         "xaxis": "x",
         "y": [
          55911824,
          55877124,
          55836136,
          55772776,
          55698920,
          55602588,
          55472624,
          55330540,
          55170832,
          54992024,
          54795992,
          54580968,
          54348840,
          54098424,
          53830660,
          53545160,
          53243208,
          52924996,
          52590124,
          52237116,
          51868600,
          51484472,
          51084508,
          50668468,
          50238020,
          49793492,
          49329944,
          48855524,
          48368456,
          47862464,
          47348016,
          46815848,
          46272836,
          45718632,
          45151556,
          44568408,
          43973948,
          43371164,
          42760136,
          42132860,
          41500744,
          40852280,
          40199748,
          39539332,
          38862752,
          38183496,
          37501220,
          36802276,
          36105120,
          35393400,
          34676504,
          33957552,
          33234952,
          32504244,
          31768566,
          31037848,
          30295646,
          29562054,
          28814228,
          28066186,
          27319046,
          26573526,
          25833332,
          25086934,
          24333894,
          23594038,
          22857482,
          22130306,
          21391964,
          20666312,
          19946128,
          19225080,
          18512028,
          17806572,
          17121602,
          16430493,
          15763508,
          15085996,
          14435512,
          13789828,
          13139311,
          12512559,
          11909956,
          11323237,
          10736475,
          10178027,
          9619003,
          9089746,
          8574580,
          8076481,
          7593996.5,
          7150885.5,
          6702091,
          6267055.5,
          5888559.5,
          5508677.5,
          5143504,
          4809213,
          4524608.5,
          4233610,
          3980057.5,
          3741617,
          3541153.25,
          3345150,
          3183358.5,
          3062059,
          2920471.25,
          2843855.25,
          2771363.75,
          2714632,
          2636918.75,
          2587638,
          2556086.25,
          2508516.25,
          2526017,
          2495740.25,
          2502241.5,
          2489736.25,
          2474535.75,
          2458706.75,
          2448497.75,
          2468580.25,
          2460589.5,
          2450481.25,
          2427719.25,
          2442721.5,
          2435875.5,
          2433616.25,
          2429972.25,
          2409980.75,
          2427865.75,
          2428218,
          2445752.75,
          2416611,
          2415206,
          2427303,
          2426241,
          2414989.75,
          2407888.25,
          2413094.5,
          2413369.75,
          2421124.25,
          2403165.5,
          2410236.5,
          2405156.25,
          2398758.75,
          2403788,
          2406529,
          2390225.75,
          2385938.5,
          2400912.75,
          2390969.25,
          2400356,
          2393097.25,
          2386805.25,
          2371110
         ],
         "yaxis": "y"
        },
        {
         "hovertemplate": "variable=val_loss<br>Epoch=%{x}<br>Loss=%{y}<extra></extra>",
         "legendgroup": "val_loss",
         "line": {
          "color": "#EF553B",
          "dash": "solid"
         },
         "marker": {
          "symbol": "circle"
         },
         "mode": "lines",
         "name": "val_loss",
         "orientation": "v",
         "showlegend": true,
         "type": "scatter",
         "x": [
          1,
          2,
          3,
          4,
          5,
          6,
          7,
          8,
          9,
          10,
          11,
          12,
          13,
          14,
          15,
          16,
          17,
          18,
          19,
          20,
          21,
          22,
          23,
          24,
          25,
          26,
          27,
          28,
          29,
          30,
          31,
          32,
          33,
          34,
          35,
          36,
          37,
          38,
          39,
          40,
          41,
          42,
          43,
          44,
          45,
          46,
          47,
          48,
          49,
          50,
          51,
          52,
          53,
          54,
          55,
          56,
          57,
          58,
          59,
          60,
          61,
          62,
          63,
          64,
          65,
          66,
          67,
          68,
          69,
          70,
          71,
          72,
          73,
          74,
          75,
          76,
          77,
          78,
          79,
          80,
          81,
          82,
          83,
          84,
          85,
          86,
          87,
          88,
          89,
          90,
          91,
          92,
          93,
          94,
          95,
          96,
          97,
          98,
          99,
          100,
          101,
          102,
          103,
          104,
          105,
          106,
          107,
          108,
          109,
          110,
          111,
          112,
          113,
          114,
          115,
          116,
          117,
          118,
          119,
          120,
          121,
          122,
          123,
          124,
          125,
          126,
          127,
          128,
          129,
          130,
          131,
          132,
          133,
          134,
          135,
          136,
          137,
          138,
          139,
          140,
          141,
          142,
          143,
          144,
          145,
          146,
          147,
          148,
          149,
          150,
          151,
          152,
          153,
          154,
          155,
          156
         ],
         "xaxis": "x",
         "y": [
          55630144,
          55594736,
          55542444,
          55474592,
          55400956,
          55279104,
          55134784,
          54990440,
          54818920,
          54626556,
          54444380,
          54197640,
          53996060,
          53710684,
          53444224,
          53136748,
          52823576,
          52511344,
          52172468,
          51764152,
          51366556,
          51040496,
          50529748,
          50240280,
          49836112,
          49300656,
          48797688,
          48363028,
          47884132,
          47425936,
          46788708,
          46214104,
          45793456,
          45154692,
          44612296,
          43988204,
          43359964,
          42864412,
          42225460,
          41433952,
          41020108,
          40339584,
          39624968,
          38887944,
          38138300,
          37382604,
          36494160,
          36151972,
          35259332,
          34615068,
          33800204,
          33152094,
          32247268,
          31732270,
          30999324,
          30381074,
          29913082,
          28822472,
          28197206,
          26846066,
          26403658,
          25919102,
          25201270,
          23717990,
          23439016,
          23018940,
          22251764,
          21408876,
          20572446,
          19443366,
          18923088,
          18599994,
          17500760,
          16905326,
          16260017,
          15419186,
          15419302,
          15106645,
          14159806,
          12545663,
          12681691,
          11498550,
          11250835,
          11134885,
          10253875,
          9894362,
          8790923,
          8386633,
          8308243.5,
          7521873,
          7318427.5,
          6646381.5,
          6197154.5,
          6125858,
          5578152.5,
          4944518,
          4596830,
          4237233,
          4000386.75,
          3919923,
          3606125.5,
          3521471,
          3372857.25,
          3270735,
          3211816.75,
          3026842,
          2966250.75,
          2827804.5,
          2980793,
          2973934,
          2673296.75,
          2810723.25,
          3094965.75,
          2734771.25,
          2641344.75,
          2701721.75,
          2596287.75,
          2662107.25,
          3068690.75,
          2597680.25,
          2867528,
          2595823.5,
          2601794.5,
          2632293.25,
          2677853.75,
          2741110.25,
          2662901,
          2582863.5,
          2567810.75,
          2717331.75,
          2614717.25,
          2579471.5,
          2652889,
          2708474.25,
          3093769.75,
          2554667.5,
          2969073.5,
          2844485.25,
          3214556,
          2696018,
          2582950.5,
          2985717.5,
          2638789.75,
          2568379.5,
          3046601.5,
          2586191.5,
          2559152,
          2574588.75,
          2754790.5,
          2592629.25,
          2893514.25,
          2650694.25,
          2575974.75,
          2904764.75,
          2833045.5,
          2781226.25
         ],
         "yaxis": "y"
        }
       ],
       "layout": {
        "legend": {
         "title": {
          "text": "variable"
         },
         "tracegroupgap": 0
        },
        "template": {
         "data": {
          "bar": [
           {
            "error_x": {
             "color": "#2a3f5f"
            },
            "error_y": {
             "color": "#2a3f5f"
            },
            "marker": {
             "line": {
              "color": "#E5ECF6",
              "width": 0.5
             },
             "pattern": {
              "fillmode": "overlay",
              "size": 10,
              "solidity": 0.2
             }
            },
            "type": "bar"
           }
          ],
          "barpolar": [
           {
            "marker": {
             "line": {
              "color": "#E5ECF6",
              "width": 0.5
             },
             "pattern": {
              "fillmode": "overlay",
              "size": 10,
              "solidity": 0.2
             }
            },
            "type": "barpolar"
           }
          ],
          "carpet": [
           {
            "aaxis": {
             "endlinecolor": "#2a3f5f",
             "gridcolor": "white",
             "linecolor": "white",
             "minorgridcolor": "white",
             "startlinecolor": "#2a3f5f"
            },
            "baxis": {
             "endlinecolor": "#2a3f5f",
             "gridcolor": "white",
             "linecolor": "white",
             "minorgridcolor": "white",
             "startlinecolor": "#2a3f5f"
            },
            "type": "carpet"
           }
          ],
          "choropleth": [
           {
            "colorbar": {
             "outlinewidth": 0,
             "ticks": ""
            },
            "type": "choropleth"
           }
          ],
          "contour": [
           {
            "colorbar": {
             "outlinewidth": 0,
             "ticks": ""
            },
            "colorscale": [
             [
              0,
              "#0d0887"
             ],
             [
              0.1111111111111111,
              "#46039f"
             ],
             [
              0.2222222222222222,
              "#7201a8"
             ],
             [
              0.3333333333333333,
              "#9c179e"
             ],
             [
              0.4444444444444444,
              "#bd3786"
             ],
             [
              0.5555555555555556,
              "#d8576b"
             ],
             [
              0.6666666666666666,
              "#ed7953"
             ],
             [
              0.7777777777777778,
              "#fb9f3a"
             ],
             [
              0.8888888888888888,
              "#fdca26"
             ],
             [
              1,
              "#f0f921"
             ]
            ],
            "type": "contour"
           }
          ],
          "contourcarpet": [
           {
            "colorbar": {
             "outlinewidth": 0,
             "ticks": ""
            },
            "type": "contourcarpet"
           }
          ],
          "heatmap": [
           {
            "colorbar": {
             "outlinewidth": 0,
             "ticks": ""
            },
            "colorscale": [
             [
              0,
              "#0d0887"
             ],
             [
              0.1111111111111111,
              "#46039f"
             ],
             [
              0.2222222222222222,
              "#7201a8"
             ],
             [
              0.3333333333333333,
              "#9c179e"
             ],
             [
              0.4444444444444444,
              "#bd3786"
             ],
             [
              0.5555555555555556,
              "#d8576b"
             ],
             [
              0.6666666666666666,
              "#ed7953"
             ],
             [
              0.7777777777777778,
              "#fb9f3a"
             ],
             [
              0.8888888888888888,
              "#fdca26"
             ],
             [
              1,
              "#f0f921"
             ]
            ],
            "type": "heatmap"
           }
          ],
          "heatmapgl": [
           {
            "colorbar": {
             "outlinewidth": 0,
             "ticks": ""
            },
            "colorscale": [
             [
              0,
              "#0d0887"
             ],
             [
              0.1111111111111111,
              "#46039f"
             ],
             [
              0.2222222222222222,
              "#7201a8"
             ],
             [
              0.3333333333333333,
              "#9c179e"
             ],
             [
              0.4444444444444444,
              "#bd3786"
             ],
             [
              0.5555555555555556,
              "#d8576b"
             ],
             [
              0.6666666666666666,
              "#ed7953"
             ],
             [
              0.7777777777777778,
              "#fb9f3a"
             ],
             [
              0.8888888888888888,
              "#fdca26"
             ],
             [
              1,
              "#f0f921"
             ]
            ],
            "type": "heatmapgl"
           }
          ],
          "histogram": [
           {
            "marker": {
             "pattern": {
              "fillmode": "overlay",
              "size": 10,
              "solidity": 0.2
             }
            },
            "type": "histogram"
           }
          ],
          "histogram2d": [
           {
            "colorbar": {
             "outlinewidth": 0,
             "ticks": ""
            },
            "colorscale": [
             [
              0,
              "#0d0887"
             ],
             [
              0.1111111111111111,
              "#46039f"
             ],
             [
              0.2222222222222222,
              "#7201a8"
             ],
             [
              0.3333333333333333,
              "#9c179e"
             ],
             [
              0.4444444444444444,
              "#bd3786"
             ],
             [
              0.5555555555555556,
              "#d8576b"
             ],
             [
              0.6666666666666666,
              "#ed7953"
             ],
             [
              0.7777777777777778,
              "#fb9f3a"
             ],
             [
              0.8888888888888888,
              "#fdca26"
             ],
             [
              1,
              "#f0f921"
             ]
            ],
            "type": "histogram2d"
           }
          ],
          "histogram2dcontour": [
           {
            "colorbar": {
             "outlinewidth": 0,
             "ticks": ""
            },
            "colorscale": [
             [
              0,
              "#0d0887"
             ],
             [
              0.1111111111111111,
              "#46039f"
             ],
             [
              0.2222222222222222,
              "#7201a8"
             ],
             [
              0.3333333333333333,
              "#9c179e"
             ],
             [
              0.4444444444444444,
              "#bd3786"
             ],
             [
              0.5555555555555556,
              "#d8576b"
             ],
             [
              0.6666666666666666,
              "#ed7953"
             ],
             [
              0.7777777777777778,
              "#fb9f3a"
             ],
             [
              0.8888888888888888,
              "#fdca26"
             ],
             [
              1,
              "#f0f921"
             ]
            ],
            "type": "histogram2dcontour"
           }
          ],
          "mesh3d": [
           {
            "colorbar": {
             "outlinewidth": 0,
             "ticks": ""
            },
            "type": "mesh3d"
           }
          ],
          "parcoords": [
           {
            "line": {
             "colorbar": {
              "outlinewidth": 0,
              "ticks": ""
             }
            },
            "type": "parcoords"
           }
          ],
          "pie": [
           {
            "automargin": true,
            "type": "pie"
           }
          ],
          "scatter": [
           {
            "marker": {
             "colorbar": {
              "outlinewidth": 0,
              "ticks": ""
             }
            },
            "type": "scatter"
           }
          ],
          "scatter3d": [
           {
            "line": {
             "colorbar": {
              "outlinewidth": 0,
              "ticks": ""
             }
            },
            "marker": {
             "colorbar": {
              "outlinewidth": 0,
              "ticks": ""
             }
            },
            "type": "scatter3d"
           }
          ],
          "scattercarpet": [
           {
            "marker": {
             "colorbar": {
              "outlinewidth": 0,
              "ticks": ""
             }
            },
            "type": "scattercarpet"
           }
          ],
          "scattergeo": [
           {
            "marker": {
             "colorbar": {
              "outlinewidth": 0,
              "ticks": ""
             }
            },
            "type": "scattergeo"
           }
          ],
          "scattergl": [
           {
            "marker": {
             "colorbar": {
              "outlinewidth": 0,
              "ticks": ""
             }
            },
            "type": "scattergl"
           }
          ],
          "scattermapbox": [
           {
            "marker": {
             "colorbar": {
              "outlinewidth": 0,
              "ticks": ""
             }
            },
            "type": "scattermapbox"
           }
          ],
          "scatterpolar": [
           {
            "marker": {
             "colorbar": {
              "outlinewidth": 0,
              "ticks": ""
             }
            },
            "type": "scatterpolar"
           }
          ],
          "scatterpolargl": [
           {
            "marker": {
             "colorbar": {
              "outlinewidth": 0,
              "ticks": ""
             }
            },
            "type": "scatterpolargl"
           }
          ],
          "scatterternary": [
           {
            "marker": {
             "colorbar": {
              "outlinewidth": 0,
              "ticks": ""
             }
            },
            "type": "scatterternary"
           }
          ],
          "surface": [
           {
            "colorbar": {
             "outlinewidth": 0,
             "ticks": ""
            },
            "colorscale": [
             [
              0,
              "#0d0887"
             ],
             [
              0.1111111111111111,
              "#46039f"
             ],
             [
              0.2222222222222222,
              "#7201a8"
             ],
             [
              0.3333333333333333,
              "#9c179e"
             ],
             [
              0.4444444444444444,
              "#bd3786"
             ],
             [
              0.5555555555555556,
              "#d8576b"
             ],
             [
              0.6666666666666666,
              "#ed7953"
             ],
             [
              0.7777777777777778,
              "#fb9f3a"
             ],
             [
              0.8888888888888888,
              "#fdca26"
             ],
             [
              1,
              "#f0f921"
             ]
            ],
            "type": "surface"
           }
          ],
          "table": [
           {
            "cells": {
             "fill": {
              "color": "#EBF0F8"
             },
             "line": {
              "color": "white"
             }
            },
            "header": {
             "fill": {
              "color": "#C8D4E3"
             },
             "line": {
              "color": "white"
             }
            },
            "type": "table"
           }
          ]
         },
         "layout": {
          "annotationdefaults": {
           "arrowcolor": "#2a3f5f",
           "arrowhead": 0,
           "arrowwidth": 1
          },
          "autotypenumbers": "strict",
          "coloraxis": {
           "colorbar": {
            "outlinewidth": 0,
            "ticks": ""
           }
          },
          "colorscale": {
           "diverging": [
            [
             0,
             "#8e0152"
            ],
            [
             0.1,
             "#c51b7d"
            ],
            [
             0.2,
             "#de77ae"
            ],
            [
             0.3,
             "#f1b6da"
            ],
            [
             0.4,
             "#fde0ef"
            ],
            [
             0.5,
             "#f7f7f7"
            ],
            [
             0.6,
             "#e6f5d0"
            ],
            [
             0.7,
             "#b8e186"
            ],
            [
             0.8,
             "#7fbc41"
            ],
            [
             0.9,
             "#4d9221"
            ],
            [
             1,
             "#276419"
            ]
           ],
           "sequential": [
            [
             0,
             "#0d0887"
            ],
            [
             0.1111111111111111,
             "#46039f"
            ],
            [
             0.2222222222222222,
             "#7201a8"
            ],
            [
             0.3333333333333333,
             "#9c179e"
            ],
            [
             0.4444444444444444,
             "#bd3786"
            ],
            [
             0.5555555555555556,
             "#d8576b"
            ],
            [
             0.6666666666666666,
             "#ed7953"
            ],
            [
             0.7777777777777778,
             "#fb9f3a"
            ],
            [
             0.8888888888888888,
             "#fdca26"
            ],
            [
             1,
             "#f0f921"
            ]
           ],
           "sequentialminus": [
            [
             0,
             "#0d0887"
            ],
            [
             0.1111111111111111,
             "#46039f"
            ],
            [
             0.2222222222222222,
             "#7201a8"
            ],
            [
             0.3333333333333333,
             "#9c179e"
            ],
            [
             0.4444444444444444,
             "#bd3786"
            ],
            [
             0.5555555555555556,
             "#d8576b"
            ],
            [
             0.6666666666666666,
             "#ed7953"
            ],
            [
             0.7777777777777778,
             "#fb9f3a"
            ],
            [
             0.8888888888888888,
             "#fdca26"
            ],
            [
             1,
             "#f0f921"
            ]
           ]
          },
          "colorway": [
           "#636efa",
           "#EF553B",
           "#00cc96",
           "#ab63fa",
           "#FFA15A",
           "#19d3f3",
           "#FF6692",
           "#B6E880",
           "#FF97FF",
           "#FECB52"
          ],
          "font": {
           "color": "#2a3f5f"
          },
          "geo": {
           "bgcolor": "white",
           "lakecolor": "white",
           "landcolor": "#E5ECF6",
           "showlakes": true,
           "showland": true,
           "subunitcolor": "white"
          },
          "hoverlabel": {
           "align": "left"
          },
          "hovermode": "closest",
          "mapbox": {
           "style": "light"
          },
          "paper_bgcolor": "white",
          "plot_bgcolor": "#E5ECF6",
          "polar": {
           "angularaxis": {
            "gridcolor": "white",
            "linecolor": "white",
            "ticks": ""
           },
           "bgcolor": "#E5ECF6",
           "radialaxis": {
            "gridcolor": "white",
            "linecolor": "white",
            "ticks": ""
           }
          },
          "scene": {
           "xaxis": {
            "backgroundcolor": "#E5ECF6",
            "gridcolor": "white",
            "gridwidth": 2,
            "linecolor": "white",
            "showbackground": true,
            "ticks": "",
            "zerolinecolor": "white"
           },
           "yaxis": {
            "backgroundcolor": "#E5ECF6",
            "gridcolor": "white",
            "gridwidth": 2,
            "linecolor": "white",
            "showbackground": true,
            "ticks": "",
            "zerolinecolor": "white"
           },
           "zaxis": {
            "backgroundcolor": "#E5ECF6",
            "gridcolor": "white",
            "gridwidth": 2,
            "linecolor": "white",
            "showbackground": true,
            "ticks": "",
            "zerolinecolor": "white"
           }
          },
          "shapedefaults": {
           "line": {
            "color": "#2a3f5f"
           }
          },
          "ternary": {
           "aaxis": {
            "gridcolor": "white",
            "linecolor": "white",
            "ticks": ""
           },
           "baxis": {
            "gridcolor": "white",
            "linecolor": "white",
            "ticks": ""
           },
           "bgcolor": "#E5ECF6",
           "caxis": {
            "gridcolor": "white",
            "linecolor": "white",
            "ticks": ""
           }
          },
          "title": {
           "x": 0.05
          },
          "xaxis": {
           "automargin": true,
           "gridcolor": "white",
           "linecolor": "white",
           "ticks": "",
           "title": {
            "standoff": 15
           },
           "zerolinecolor": "white",
           "zerolinewidth": 2
          },
          "yaxis": {
           "automargin": true,
           "gridcolor": "white",
           "linecolor": "white",
           "ticks": "",
           "title": {
            "standoff": 15
           },
           "zerolinecolor": "white",
           "zerolinewidth": 2
          }
         }
        },
        "title": {
         "text": "Training and Validation Loss"
        },
        "xaxis": {
         "anchor": "y",
         "domain": [
          0,
          1
         ],
         "title": {
          "text": "Epoch"
         }
        },
        "yaxis": {
         "anchor": "x",
         "domain": [
          0,
          1
         ],
         "title": {
          "text": "Loss"
         }
        }
       }
      }
     },
     "metadata": {},
     "output_type": "display_data"
    },
    {
     "data": {
      "application/vnd.plotly.v1+json": {
       "config": {
        "plotlyServerURL": "https://plot.ly"
       },
       "data": [
        {
         "hovertemplate": "variable=mae<br>Epoch=%{x}<br>MAE=%{y}<extra></extra>",
         "legendgroup": "mae",
         "line": {
          "color": "#636efa",
          "dash": "solid"
         },
         "marker": {
          "symbol": "circle"
         },
         "mode": "lines",
         "name": "mae",
         "orientation": "v",
         "showlegend": true,
         "type": "scatter",
         "x": [
          1,
          2,
          3,
          4,
          5,
          6,
          7,
          8,
          9,
          10,
          11,
          12,
          13,
          14,
          15,
          16,
          17,
          18,
          19,
          20,
          21,
          22,
          23,
          24,
          25,
          26,
          27,
          28,
          29,
          30,
          31,
          32,
          33,
          34,
          35,
          36,
          37,
          38,
          39,
          40,
          41,
          42,
          43,
          44,
          45,
          46,
          47,
          48,
          49,
          50,
          51,
          52,
          53,
          54,
          55,
          56,
          57,
          58,
          59,
          60,
          61,
          62,
          63,
          64,
          65,
          66,
          67,
          68,
          69,
          70,
          71,
          72,
          73,
          74,
          75,
          76,
          77,
          78,
          79,
          80,
          81,
          82,
          83,
          84,
          85,
          86,
          87,
          88,
          89,
          90,
          91,
          92,
          93,
          94,
          95,
          96,
          97,
          98,
          99,
          100,
          101,
          102,
          103,
          104,
          105,
          106,
          107,
          108,
          109,
          110,
          111,
          112,
          113,
          114,
          115,
          116,
          117,
          118,
          119,
          120,
          121,
          122,
          123,
          124,
          125,
          126,
          127,
          128,
          129,
          130,
          131,
          132,
          133,
          134,
          135,
          136,
          137,
          138,
          139,
          140,
          141,
          142,
          143,
          144,
          145,
          146,
          147,
          148,
          149,
          150,
          151,
          152,
          153,
          154,
          155,
          156
         ],
         "xaxis": "x",
         "y": [
          5621.64013671875,
          5619.7666015625,
          5617.6201171875,
          5614.658203125,
          5611.1767578125,
          5606.677734375,
          5600.91064453125,
          5594.33251953125,
          5586.85400390625,
          5578.44287109375,
          5569.11865234375,
          5558.849609375,
          5547.6953125,
          5535.59326171875,
          5522.61328125,
          5508.72802734375,
          5493.89013671875,
          5478.14306640625,
          5461.5546875,
          5444.05615234375,
          5425.66259765625,
          5406.3974609375,
          5386.23046875,
          5365.21923828125,
          5343.2509765625,
          5320.4384765625,
          5296.78564453125,
          5272.16748046875,
          5246.75048828125,
          5220.4638671875,
          5193.13330078125,
          5165.0107421875,
          5136.10693359375,
          5106.31201171875,
          5075.509765625,
          5043.9404296875,
          5011.62255859375,
          4978.099609375,
          4943.74169921875,
          4908.5556640625,
          4872.5849609375,
          4835.7861328125,
          4798.1591796875,
          4759.326171875,
          4719.91455078125,
          4679.37060546875,
          4638.1943359375,
          4596.07470703125,
          4552.76708984375,
          4509.291015625,
          4464.58447265625,
          4418.86376953125,
          4372.54248046875,
          4325.1396484375,
          4276.9658203125,
          4227.8251953125,
          4177.9404296875,
          4127.044921875,
          4075.73291015625,
          4023.0712890625,
          3970.071044921875,
          3915.668212890625,
          3861.169677734375,
          3805.35595703125,
          3749.13818359375,
          3691.2861328125,
          3633.244140625,
          3573.79248046875,
          3514.49853515625,
          3454.76806640625,
          3393.072021484375,
          3331.57568359375,
          3269.440185546875,
          3205.864013671875,
          3142.172119140625,
          3077.130615234375,
          3013.00537109375,
          2947.671142578125,
          2881.203125,
          2815.222900390625,
          2746.98291015625,
          2680.344482421875,
          2612.62353515625,
          2546.07763671875,
          2477.4833984375,
          2409.18212890625,
          2340.584716796875,
          2273.305908203125,
          2205.464599609375,
          2138.381591796875,
          2071.133056640625,
          2006.101806640625,
          1939.66357421875,
          1874.201416015625,
          1811.69775390625,
          1748.2647705078125,
          1686.637939453125,
          1629.0911865234375,
          1575.135986328125,
          1518.6405029296875,
          1466.981689453125,
          1418.77734375,
          1374.9464111328125,
          1329.741455078125,
          1292.0350341796875,
          1261.8603515625,
          1225.3660888671875,
          1201.9686279296875,
          1181.787109375,
          1162.7366943359375,
          1139.53759765625,
          1111.559814453125,
          1086.525634765625,
          1069.94677734375,
          1071.676025390625,
          1063.2530517578125,
          1063.50341796875,
          1060.1241455078125,
          1056.3016357421875,
          1053.8369140625,
          1050.40966796875,
          1057.1951904296875,
          1051.4306640625,
          1052.21044921875,
          1045.074462890625,
          1048.55224609375,
          1048.0579833984375,
          1048.360107421875,
          1048.775634765625,
          1042.6387939453125,
          1044.84765625,
          1045.8289794921875,
          1051.5384521484375,
          1045.916015625,
          1041.971435546875,
          1048.717529296875,
          1046.35595703125,
          1043.2637939453125,
          1043.0770263671875,
          1046.465576171875,
          1041.92529296875,
          1047.3128662109375,
          1042.3018798828125,
          1044.21142578125,
          1043.961669921875,
          1042.2275390625,
          1042.91552734375,
          1041.9342041015625,
          1039.833984375,
          1038.3460693359375,
          1044.2738037109375,
          1041.5064697265625,
          1043.1068115234375,
          1042.6441650390625,
          1041.5733642578125,
          1035.8243408203125
         ],
         "yaxis": "y"
        },
        {
         "hovertemplate": "variable=val_mae<br>Epoch=%{x}<br>MAE=%{y}<extra></extra>",
         "legendgroup": "val_mae",
         "line": {
          "color": "#EF553B",
          "dash": "solid"
         },
         "marker": {
          "symbol": "circle"
         },
         "mode": "lines",
         "name": "val_mae",
         "orientation": "v",
         "showlegend": true,
         "type": "scatter",
         "x": [
          1,
          2,
          3,
          4,
          5,
          6,
          7,
          8,
          9,
          10,
          11,
          12,
          13,
          14,
          15,
          16,
          17,
          18,
          19,
          20,
          21,
          22,
          23,
          24,
          25,
          26,
          27,
          28,
          29,
          30,
          31,
          32,
          33,
          34,
          35,
          36,
          37,
          38,
          39,
          40,
          41,
          42,
          43,
          44,
          45,
          46,
          47,
          48,
          49,
          50,
          51,
          52,
          53,
          54,
          55,
          56,
          57,
          58,
          59,
          60,
          61,
          62,
          63,
          64,
          65,
          66,
          67,
          68,
          69,
          70,
          71,
          72,
          73,
          74,
          75,
          76,
          77,
          78,
          79,
          80,
          81,
          82,
          83,
          84,
          85,
          86,
          87,
          88,
          89,
          90,
          91,
          92,
          93,
          94,
          95,
          96,
          97,
          98,
          99,
          100,
          101,
          102,
          103,
          104,
          105,
          106,
          107,
          108,
          109,
          110,
          111,
          112,
          113,
          114,
          115,
          116,
          117,
          118,
          119,
          120,
          121,
          122,
          123,
          124,
          125,
          126,
          127,
          128,
          129,
          130,
          131,
          132,
          133,
          134,
          135,
          136,
          137,
          138,
          139,
          140,
          141,
          142,
          143,
          144,
          145,
          146,
          147,
          148,
          149,
          150,
          151,
          152,
          153,
          154,
          155,
          156
         ],
         "xaxis": "x",
         "y": [
          5588.13232421875,
          5586.13232421875,
          5583.69970703125,
          5580.57177734375,
          5576.91015625,
          5571.265625,
          5564.80712890625,
          5558.3544921875,
          5550.30712890625,
          5541.17822265625,
          5530.6435546875,
          5520.49462890625,
          5507.91064453125,
          5496.49462890625,
          5483.56640625,
          5464.978515625,
          5450.61962890625,
          5439.013671875,
          5420.46630859375,
          5394.88720703125,
          5377.63720703125,
          5352.31201171875,
          5327.63818359375,
          5322.30517578125,
          5300.3310546875,
          5261.2724609375,
          5238.16552734375,
          5218.0693359375,
          5193.56591796875,
          5180.21142578125,
          5143.0205078125,
          5093.65771484375,
          5085.064453125,
          5044.58203125,
          5008.421875,
          4987.697265625,
          4913.81884765625,
          4937.32666015625,
          4865.16845703125,
          4835.6728515625,
          4822.3134765625,
          4784.52392578125,
          4737.24951171875,
          4690.8359375,
          4631.17822265625,
          4588.88134765625,
          4527.64697265625,
          4510.6044921875,
          4411.03271484375,
          4403.10009765625,
          4329.98046875,
          4305.6572265625,
          4215.81201171875,
          4221.08984375,
          4182.8291015625,
          4134.818359375,
          4126.2138671875,
          4040.168701171875,
          3990.103271484375,
          3813.48828125,
          3844.245361328125,
          3811.84716796875,
          3745.1689453125,
          3550.396484375,
          3567.767333984375,
          3573.384521484375,
          3550.966064453125,
          3473.039306640625,
          3385.588134765625,
          3232.71484375,
          3215.346435546875,
          3199.844970703125,
          3043.831298828125,
          3023.034423828125,
          2968.950439453125,
          2847.69970703125,
          2895.308349609375,
          2906.54248046875,
          2831.5703125,
          2539.361572265625,
          2597.86328125,
          2396.281005859375,
          2483.815185546875,
          2505.19921875,
          2354.7919921875,
          2323.26904296875,
          2184.7216796875,
          2091.3017578125,
          2127.103515625,
          1940.7589111328125,
          1947.0943603515625,
          1808.6278076171875,
          1807.1365966796875,
          1823.5552978515625,
          1683.6732177734375,
          1603.2783203125,
          1522.9532470703125,
          1463.2786865234375,
          1421.961181640625,
          1415.4754638671875,
          1354.834716796875,
          1333.24951171875,
          1309.611572265625,
          1285.650390625,
          1284.590576171875,
          1228.64794921875,
          1228.5909423828125,
          1170.175537109375,
          1236.4248046875,
          1235.444580078125,
          1117.5843505859375,
          1155.638427734375,
          1260.218017578125,
          1125.0308837890625,
          1083.0777587890625,
          1111.090576171875,
          1057.8682861328125,
          1088.764892578125,
          1243.8651123046875,
          1055.27490234375,
          1168.533447265625,
          1059.473388671875,
          1060.52197265625,
          1075.298583984375,
          1089.4234619140625,
          1118.35302734375,
          1083.9949951171875,
          1041.039794921875,
          1036.2384033203125,
          1109.4432373046875,
          1055.0794677734375,
          1050.683837890625,
          1078.52685546875,
          1112.077880859375,
          1248.9656982421875,
          1028.776123046875,
          1210.45166015625,
          1167.00439453125,
          1272.1434326171875,
          1094.417236328125,
          1047.1485595703125,
          1195.402099609375,
          1068.33935546875,
          1031.8875732421875,
          1232.457275390625,
          1048.6688232421875,
          1033.8270263671875,
          1035.99462890625,
          1121.0947265625,
          1045.258056640625,
          1164.3687744140625,
          1075.7816162109375,
          1045.1204833984375,
          1178.69287109375,
          1140.8802490234375,
          1130.6832275390625
         ],
         "yaxis": "y"
        }
       ],
       "layout": {
        "legend": {
         "title": {
          "text": "variable"
         },
         "tracegroupgap": 0
        },
        "template": {
         "data": {
          "bar": [
           {
            "error_x": {
             "color": "#2a3f5f"
            },
            "error_y": {
             "color": "#2a3f5f"
            },
            "marker": {
             "line": {
              "color": "#E5ECF6",
              "width": 0.5
             },
             "pattern": {
              "fillmode": "overlay",
              "size": 10,
              "solidity": 0.2
             }
            },
            "type": "bar"
           }
          ],
          "barpolar": [
           {
            "marker": {
             "line": {
              "color": "#E5ECF6",
              "width": 0.5
             },
             "pattern": {
              "fillmode": "overlay",
              "size": 10,
              "solidity": 0.2
             }
            },
            "type": "barpolar"
           }
          ],
          "carpet": [
           {
            "aaxis": {
             "endlinecolor": "#2a3f5f",
             "gridcolor": "white",
             "linecolor": "white",
             "minorgridcolor": "white",
             "startlinecolor": "#2a3f5f"
            },
            "baxis": {
             "endlinecolor": "#2a3f5f",
             "gridcolor": "white",
             "linecolor": "white",
             "minorgridcolor": "white",
             "startlinecolor": "#2a3f5f"
            },
            "type": "carpet"
           }
          ],
          "choropleth": [
           {
            "colorbar": {
             "outlinewidth": 0,
             "ticks": ""
            },
            "type": "choropleth"
           }
          ],
          "contour": [
           {
            "colorbar": {
             "outlinewidth": 0,
             "ticks": ""
            },
            "colorscale": [
             [
              0,
              "#0d0887"
             ],
             [
              0.1111111111111111,
              "#46039f"
             ],
             [
              0.2222222222222222,
              "#7201a8"
             ],
             [
              0.3333333333333333,
              "#9c179e"
             ],
             [
              0.4444444444444444,
              "#bd3786"
             ],
             [
              0.5555555555555556,
              "#d8576b"
             ],
             [
              0.6666666666666666,
              "#ed7953"
             ],
             [
              0.7777777777777778,
              "#fb9f3a"
             ],
             [
              0.8888888888888888,
              "#fdca26"
             ],
             [
              1,
              "#f0f921"
             ]
            ],
            "type": "contour"
           }
          ],
          "contourcarpet": [
           {
            "colorbar": {
             "outlinewidth": 0,
             "ticks": ""
            },
            "type": "contourcarpet"
           }
          ],
          "heatmap": [
           {
            "colorbar": {
             "outlinewidth": 0,
             "ticks": ""
            },
            "colorscale": [
             [
              0,
              "#0d0887"
             ],
             [
              0.1111111111111111,
              "#46039f"
             ],
             [
              0.2222222222222222,
              "#7201a8"
             ],
             [
              0.3333333333333333,
              "#9c179e"
             ],
             [
              0.4444444444444444,
              "#bd3786"
             ],
             [
              0.5555555555555556,
              "#d8576b"
             ],
             [
              0.6666666666666666,
              "#ed7953"
             ],
             [
              0.7777777777777778,
              "#fb9f3a"
             ],
             [
              0.8888888888888888,
              "#fdca26"
             ],
             [
              1,
              "#f0f921"
             ]
            ],
            "type": "heatmap"
           }
          ],
          "heatmapgl": [
           {
            "colorbar": {
             "outlinewidth": 0,
             "ticks": ""
            },
            "colorscale": [
             [
              0,
              "#0d0887"
             ],
             [
              0.1111111111111111,
              "#46039f"
             ],
             [
              0.2222222222222222,
              "#7201a8"
             ],
             [
              0.3333333333333333,
              "#9c179e"
             ],
             [
              0.4444444444444444,
              "#bd3786"
             ],
             [
              0.5555555555555556,
              "#d8576b"
             ],
             [
              0.6666666666666666,
              "#ed7953"
             ],
             [
              0.7777777777777778,
              "#fb9f3a"
             ],
             [
              0.8888888888888888,
              "#fdca26"
             ],
             [
              1,
              "#f0f921"
             ]
            ],
            "type": "heatmapgl"
           }
          ],
          "histogram": [
           {
            "marker": {
             "pattern": {
              "fillmode": "overlay",
              "size": 10,
              "solidity": 0.2
             }
            },
            "type": "histogram"
           }
          ],
          "histogram2d": [
           {
            "colorbar": {
             "outlinewidth": 0,
             "ticks": ""
            },
            "colorscale": [
             [
              0,
              "#0d0887"
             ],
             [
              0.1111111111111111,
              "#46039f"
             ],
             [
              0.2222222222222222,
              "#7201a8"
             ],
             [
              0.3333333333333333,
              "#9c179e"
             ],
             [
              0.4444444444444444,
              "#bd3786"
             ],
             [
              0.5555555555555556,
              "#d8576b"
             ],
             [
              0.6666666666666666,
              "#ed7953"
             ],
             [
              0.7777777777777778,
              "#fb9f3a"
             ],
             [
              0.8888888888888888,
              "#fdca26"
             ],
             [
              1,
              "#f0f921"
             ]
            ],
            "type": "histogram2d"
           }
          ],
          "histogram2dcontour": [
           {
            "colorbar": {
             "outlinewidth": 0,
             "ticks": ""
            },
            "colorscale": [
             [
              0,
              "#0d0887"
             ],
             [
              0.1111111111111111,
              "#46039f"
             ],
             [
              0.2222222222222222,
              "#7201a8"
             ],
             [
              0.3333333333333333,
              "#9c179e"
             ],
             [
              0.4444444444444444,
              "#bd3786"
             ],
             [
              0.5555555555555556,
              "#d8576b"
             ],
             [
              0.6666666666666666,
              "#ed7953"
             ],
             [
              0.7777777777777778,
              "#fb9f3a"
             ],
             [
              0.8888888888888888,
              "#fdca26"
             ],
             [
              1,
              "#f0f921"
             ]
            ],
            "type": "histogram2dcontour"
           }
          ],
          "mesh3d": [
           {
            "colorbar": {
             "outlinewidth": 0,
             "ticks": ""
            },
            "type": "mesh3d"
           }
          ],
          "parcoords": [
           {
            "line": {
             "colorbar": {
              "outlinewidth": 0,
              "ticks": ""
             }
            },
            "type": "parcoords"
           }
          ],
          "pie": [
           {
            "automargin": true,
            "type": "pie"
           }
          ],
          "scatter": [
           {
            "marker": {
             "colorbar": {
              "outlinewidth": 0,
              "ticks": ""
             }
            },
            "type": "scatter"
           }
          ],
          "scatter3d": [
           {
            "line": {
             "colorbar": {
              "outlinewidth": 0,
              "ticks": ""
             }
            },
            "marker": {
             "colorbar": {
              "outlinewidth": 0,
              "ticks": ""
             }
            },
            "type": "scatter3d"
           }
          ],
          "scattercarpet": [
           {
            "marker": {
             "colorbar": {
              "outlinewidth": 0,
              "ticks": ""
             }
            },
            "type": "scattercarpet"
           }
          ],
          "scattergeo": [
           {
            "marker": {
             "colorbar": {
              "outlinewidth": 0,
              "ticks": ""
             }
            },
            "type": "scattergeo"
           }
          ],
          "scattergl": [
           {
            "marker": {
             "colorbar": {
              "outlinewidth": 0,
              "ticks": ""
             }
            },
            "type": "scattergl"
           }
          ],
          "scattermapbox": [
           {
            "marker": {
             "colorbar": {
              "outlinewidth": 0,
              "ticks": ""
             }
            },
            "type": "scattermapbox"
           }
          ],
          "scatterpolar": [
           {
            "marker": {
             "colorbar": {
              "outlinewidth": 0,
              "ticks": ""
             }
            },
            "type": "scatterpolar"
           }
          ],
          "scatterpolargl": [
           {
            "marker": {
             "colorbar": {
              "outlinewidth": 0,
              "ticks": ""
             }
            },
            "type": "scatterpolargl"
           }
          ],
          "scatterternary": [
           {
            "marker": {
             "colorbar": {
              "outlinewidth": 0,
              "ticks": ""
             }
            },
            "type": "scatterternary"
           }
          ],
          "surface": [
           {
            "colorbar": {
             "outlinewidth": 0,
             "ticks": ""
            },
            "colorscale": [
             [
              0,
              "#0d0887"
             ],
             [
              0.1111111111111111,
              "#46039f"
             ],
             [
              0.2222222222222222,
              "#7201a8"
             ],
             [
              0.3333333333333333,
              "#9c179e"
             ],
             [
              0.4444444444444444,
              "#bd3786"
             ],
             [
              0.5555555555555556,
              "#d8576b"
             ],
             [
              0.6666666666666666,
              "#ed7953"
             ],
             [
              0.7777777777777778,
              "#fb9f3a"
             ],
             [
              0.8888888888888888,
              "#fdca26"
             ],
             [
              1,
              "#f0f921"
             ]
            ],
            "type": "surface"
           }
          ],
          "table": [
           {
            "cells": {
             "fill": {
              "color": "#EBF0F8"
             },
             "line": {
              "color": "white"
             }
            },
            "header": {
             "fill": {
              "color": "#C8D4E3"
             },
             "line": {
              "color": "white"
             }
            },
            "type": "table"
           }
          ]
         },
         "layout": {
          "annotationdefaults": {
           "arrowcolor": "#2a3f5f",
           "arrowhead": 0,
           "arrowwidth": 1
          },
          "autotypenumbers": "strict",
          "coloraxis": {
           "colorbar": {
            "outlinewidth": 0,
            "ticks": ""
           }
          },
          "colorscale": {
           "diverging": [
            [
             0,
             "#8e0152"
            ],
            [
             0.1,
             "#c51b7d"
            ],
            [
             0.2,
             "#de77ae"
            ],
            [
             0.3,
             "#f1b6da"
            ],
            [
             0.4,
             "#fde0ef"
            ],
            [
             0.5,
             "#f7f7f7"
            ],
            [
             0.6,
             "#e6f5d0"
            ],
            [
             0.7,
             "#b8e186"
            ],
            [
             0.8,
             "#7fbc41"
            ],
            [
             0.9,
             "#4d9221"
            ],
            [
             1,
             "#276419"
            ]
           ],
           "sequential": [
            [
             0,
             "#0d0887"
            ],
            [
             0.1111111111111111,
             "#46039f"
            ],
            [
             0.2222222222222222,
             "#7201a8"
            ],
            [
             0.3333333333333333,
             "#9c179e"
            ],
            [
             0.4444444444444444,
             "#bd3786"
            ],
            [
             0.5555555555555556,
             "#d8576b"
            ],
            [
             0.6666666666666666,
             "#ed7953"
            ],
            [
             0.7777777777777778,
             "#fb9f3a"
            ],
            [
             0.8888888888888888,
             "#fdca26"
            ],
            [
             1,
             "#f0f921"
            ]
           ],
           "sequentialminus": [
            [
             0,
             "#0d0887"
            ],
            [
             0.1111111111111111,
             "#46039f"
            ],
            [
             0.2222222222222222,
             "#7201a8"
            ],
            [
             0.3333333333333333,
             "#9c179e"
            ],
            [
             0.4444444444444444,
             "#bd3786"
            ],
            [
             0.5555555555555556,
             "#d8576b"
            ],
            [
             0.6666666666666666,
             "#ed7953"
            ],
            [
             0.7777777777777778,
             "#fb9f3a"
            ],
            [
             0.8888888888888888,
             "#fdca26"
            ],
            [
             1,
             "#f0f921"
            ]
           ]
          },
          "colorway": [
           "#636efa",
           "#EF553B",
           "#00cc96",
           "#ab63fa",
           "#FFA15A",
           "#19d3f3",
           "#FF6692",
           "#B6E880",
           "#FF97FF",
           "#FECB52"
          ],
          "font": {
           "color": "#2a3f5f"
          },
          "geo": {
           "bgcolor": "white",
           "lakecolor": "white",
           "landcolor": "#E5ECF6",
           "showlakes": true,
           "showland": true,
           "subunitcolor": "white"
          },
          "hoverlabel": {
           "align": "left"
          },
          "hovermode": "closest",
          "mapbox": {
           "style": "light"
          },
          "paper_bgcolor": "white",
          "plot_bgcolor": "#E5ECF6",
          "polar": {
           "angularaxis": {
            "gridcolor": "white",
            "linecolor": "white",
            "ticks": ""
           },
           "bgcolor": "#E5ECF6",
           "radialaxis": {
            "gridcolor": "white",
            "linecolor": "white",
            "ticks": ""
           }
          },
          "scene": {
           "xaxis": {
            "backgroundcolor": "#E5ECF6",
            "gridcolor": "white",
            "gridwidth": 2,
            "linecolor": "white",
            "showbackground": true,
            "ticks": "",
            "zerolinecolor": "white"
           },
           "yaxis": {
            "backgroundcolor": "#E5ECF6",
            "gridcolor": "white",
            "gridwidth": 2,
            "linecolor": "white",
            "showbackground": true,
            "ticks": "",
            "zerolinecolor": "white"
           },
           "zaxis": {
            "backgroundcolor": "#E5ECF6",
            "gridcolor": "white",
            "gridwidth": 2,
            "linecolor": "white",
            "showbackground": true,
            "ticks": "",
            "zerolinecolor": "white"
           }
          },
          "shapedefaults": {
           "line": {
            "color": "#2a3f5f"
           }
          },
          "ternary": {
           "aaxis": {
            "gridcolor": "white",
            "linecolor": "white",
            "ticks": ""
           },
           "baxis": {
            "gridcolor": "white",
            "linecolor": "white",
            "ticks": ""
           },
           "bgcolor": "#E5ECF6",
           "caxis": {
            "gridcolor": "white",
            "linecolor": "white",
            "ticks": ""
           }
          },
          "title": {
           "x": 0.05
          },
          "xaxis": {
           "automargin": true,
           "gridcolor": "white",
           "linecolor": "white",
           "ticks": "",
           "title": {
            "standoff": 15
           },
           "zerolinecolor": "white",
           "zerolinewidth": 2
          },
          "yaxis": {
           "automargin": true,
           "gridcolor": "white",
           "linecolor": "white",
           "ticks": "",
           "title": {
            "standoff": 15
           },
           "zerolinecolor": "white",
           "zerolinewidth": 2
          }
         }
        },
        "title": {
         "text": "Training and Validation MAE"
        },
        "xaxis": {
         "anchor": "y",
         "domain": [
          0,
          1
         ],
         "title": {
          "text": "Epoch"
         }
        },
        "yaxis": {
         "anchor": "x",
         "domain": [
          0,
          1
         ],
         "title": {
          "text": "MAE"
         }
        }
       }
      }
     },
     "metadata": {},
     "output_type": "display_data"
    }
   ],
   "source": [
    "import plotly.express as px\n",
    "import pandas as pd\n",
    "\n",
    "# create a dataframe with the training history\n",
    "df_graph = pd.DataFrame(history.history)\n",
    "\n",
    "# create line charts for loss and MAE\n",
    "fig = px.line(df_graph, x=df_graph.index+1, y=['loss', 'val_loss'], labels={'x':'Epoch', 'value':'Loss'},\n",
    "              title='Training and Validation Loss')\n",
    "fig.update_traces(mode='lines')\n",
    "fig.show()\n",
    "\n",
    "fig = px.line(df_graph, x=df_graph.index+1, y=['mae', 'val_mae'], labels={'x':'Epoch', 'value':'MAE'},\n",
    "              title='Training and Validation MAE')\n",
    "fig.update_traces(mode='lines')\n",
    "fig.show()"
   ]
  },
  {
   "cell_type": "code",
   "execution_count": null,
   "metadata": {},
   "outputs": [],
   "source": [
    "residuals = y_test - predictions.flatten()\n",
    "\n",
    "# Plot the residuals\n",
    "plt.scatter(y_test, residuals)\n",
    "plt.xlabel('Actual Values')\n",
    "plt.ylabel('Residuals')\n",
    "plt.title('Residual Plot')\n",
    "plt.show()"
   ]
  }
 ],
 "metadata": {
  "kernelspec": {
   "display_name": "base",
   "language": "python",
   "name": "python3"
  },
  "language_info": {
   "codemirror_mode": {
    "name": "ipython",
    "version": 3
   },
   "file_extension": ".py",
   "mimetype": "text/x-python",
   "name": "python",
   "nbconvert_exporter": "python",
   "pygments_lexer": "ipython3",
   "version": "3.9.12"
  },
  "orig_nbformat": 4,
  "vscode": {
   "interpreter": {
    "hash": "8891f3cfb547db503e78f25128202364d60f1c09259e140a1bd236c27b0b7a43"
   }
  }
 },
 "nbformat": 4,
 "nbformat_minor": 2
}
