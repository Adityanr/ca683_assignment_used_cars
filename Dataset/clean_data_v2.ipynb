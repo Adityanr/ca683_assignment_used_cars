{
 "cells": [
  {
   "cell_type": "code",
   "execution_count": 234,
   "metadata": {},
   "outputs": [],
   "source": [
    "import pandas as pd\n",
    "import random"
   ]
  },
  {
   "cell_type": "code",
   "execution_count": 241,
   "metadata": {},
   "outputs": [],
   "source": [
    "df = pd.read_csv('autos.csv')"
   ]
  },
  {
   "cell_type": "code",
   "execution_count": 236,
   "metadata": {},
   "outputs": [],
   "source": [
    "values_to_replace = ['privat',\n",
    "    'gewerblich',\n",
    "    'limousine',\n",
    "    'kleinwagen',\n",
    "    'kombi',\n",
    "    'cabrio',\n",
    "    'andere',\n",
    "    'manuell',\n",
    "    'automatik',\n",
    "    'benzin',\n",
    "    'elektro',\n",
    "    'ja',\n",
    "    'nein'\n",
    "]\n",
    "\n",
    "new_values = ['private',\n",
    "    'commercial',\n",
    "    'sedan',\n",
    "    'compact car',\n",
    "    'station wagon',\n",
    "    'convertible',\n",
    "    'other',\n",
    "    'manual',\n",
    "    'automatic',\n",
    "    'gasoline',\n",
    "    'electric',\n",
    "    'yes',\n",
    "    'no'\n",
    "]"
   ]
  },
  {
   "cell_type": "code",
   "execution_count": 237,
   "metadata": {},
   "outputs": [],
   "source": [
    "df = df.drop(['index','name','dateCrawled','nrOfPictures', 'dateCreated', 'postalCode', 'offerType', 'seller', 'lastSeen'], axis=1)\n",
    "df = df.dropna(subset=['model'])\n",
    "df = df.replace(values_to_replace, new_values)"
   ]
  },
  {
   "cell_type": "code",
   "execution_count": 238,
   "metadata": {},
   "outputs": [],
   "source": [
    "df['vehicleType'] = df['vehicleType'].apply(lambda x: x if pd.notnull(x) else random.choice(['convertible','coupe','suv','other']))\n",
    "df['fuelType'] = df['fuelType'].apply(lambda x: x if pd.notnull(x) else random.choice(['electric','hybrid']))\n",
    "df['notRepairedDamage'].fillna(\"yes\",inplace=True)\n",
    "df['gearbox'].fillna(\"automatic\",inplace=True)"
   ]
  },
  {
   "cell_type": "code",
   "execution_count": 239,
   "metadata": {},
   "outputs": [
    {
     "name": "stdout",
     "output_type": "stream",
     "text": [
      "<class 'pandas.core.frame.DataFrame'>\n",
      "Int64Index: 351044 entries, 0 to 371527\n",
      "Data columns (total 12 columns):\n",
      " #   Column               Non-Null Count   Dtype \n",
      "---  ------               --------------   ----- \n",
      " 0   price                351044 non-null  int64 \n",
      " 1   abtest               351044 non-null  object\n",
      " 2   vehicleType          351044 non-null  object\n",
      " 3   yearOfRegistration   351044 non-null  int64 \n",
      " 4   gearbox              351044 non-null  object\n",
      " 5   powerPS              351044 non-null  int64 \n",
      " 6   model                351044 non-null  object\n",
      " 7   kilometer            351044 non-null  int64 \n",
      " 8   monthOfRegistration  351044 non-null  int64 \n",
      " 9   fuelType             351044 non-null  object\n",
      " 10  brand                351044 non-null  object\n",
      " 11  notRepairedDamage    351044 non-null  object\n",
      "dtypes: int64(5), object(7)\n",
      "memory usage: 34.8+ MB\n"
     ]
    }
   ],
   "source": [
    "df.info()"
   ]
  },
  {
   "cell_type": "code",
   "execution_count": 240,
   "metadata": {},
   "outputs": [],
   "source": [
    "df.to_csv('cleaned_used_cars.csv', index=False)"
   ]
  },
  {
   "cell_type": "code",
   "execution_count": null,
   "metadata": {},
   "outputs": [],
   "source": []
  }
 ],
 "metadata": {
  "kernelspec": {
   "display_name": "Python 3",
   "language": "python",
   "name": "python3"
  },
  "language_info": {
   "codemirror_mode": {
    "name": "ipython",
    "version": 3
   },
   "file_extension": ".py",
   "mimetype": "text/x-python",
   "name": "python",
   "nbconvert_exporter": "python",
   "pygments_lexer": "ipython3",
   "version": "3.10.10"
  },
  "orig_nbformat": 4,
  "vscode": {
   "interpreter": {
    "hash": "0e08af0f12cee5debeb741571517edb6308eea34c0f66b883731c7e0e05f39ab"
   }
  }
 },
 "nbformat": 4,
 "nbformat_minor": 2
}
