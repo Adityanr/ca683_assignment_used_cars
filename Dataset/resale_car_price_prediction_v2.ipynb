{
 "cells": [
  {
   "cell_type": "markdown",
   "metadata": {},
   "source": [
    "# Import Libraries"
   ]
  },
  {
   "cell_type": "code",
   "execution_count": 1,
   "metadata": {
    "ExecuteTime": {
     "end_time": "2023-04-12T09:02:59.528813Z",
     "start_time": "2023-04-12T09:02:59.514971Z"
    }
   },
   "outputs": [],
   "source": [
    "import pandas as pd\n",
    "import numpy as np\n",
    "import matplotlib.pyplot as plt\n",
    "import seaborn as sns\n",
    "import plotly.express as px"
   ]
  },
  {
   "cell_type": "markdown",
   "metadata": {},
   "source": [
    "# Dataset Description"
   ]
  },
  {
   "cell_type": "code",
   "execution_count": 2,
   "metadata": {
    "ExecuteTime": {
     "end_time": "2023-04-12T09:03:03.337112Z",
     "start_time": "2023-04-12T09:02:59.955643Z"
    }
   },
   "outputs": [],
   "source": [
    "car_data = pd.read_csv(\"autos.csv\")"
   ]
  },
  {
   "cell_type": "code",
   "execution_count": 3,
   "metadata": {},
   "outputs": [],
   "source": [
    "car_data = car_data.query(\"yearOfRegistration <= 2020 & yearOfRegistration >= 2000\")"
   ]
  },
  {
   "cell_type": "code",
   "execution_count": 4,
   "metadata": {
    "ExecuteTime": {
     "end_time": "2023-04-12T09:03:03.361810Z",
     "start_time": "2023-04-12T09:03:03.344440Z"
    }
   },
   "outputs": [
    {
     "data": {
      "text/plain": [
       "(267784, 21)"
      ]
     },
     "execution_count": 4,
     "metadata": {},
     "output_type": "execute_result"
    }
   ],
   "source": [
    "car_data.shape"
   ]
  },
  {
   "cell_type": "markdown",
   "metadata": {},
   "source": [
    "## Columns Description\n",
    "\n",
    "- dateCrawled - When this ad was first crawled. All field-values are taken from this date.\n",
    "- name - Name of the car.\n",
    "- seller - Whether the seller is private or a dealer.\n",
    "- offerType - The type of listing\n",
    "- price - The price on the ad to sell the car.\n",
    "- abtest - Whether the listing is included in an A/B test.\n",
    "- vehicleType - The vehicle Type.\n",
    "- yearOfRegistration - The year in which the car was first registered.\n",
    "- gearbox - The transmission type.\n",
    "- powerPS - The power of the car in PS.\n",
    "- model - The car model name.\n",
    "- kilometer - How many kilometers the car has driven.\n",
    "- monthOfRegistration - The month in which the car was first registered.\n",
    "- fuelType - What type of fuel the car uses.\n",
    "- brand - The brand of the car.\n",
    "- notRepairedDamage - If the car has a damage which is not yet repaired.\n",
    "- dateCreated - The date on which the eBay listing was created.\n",
    "- nrOfPictures - The number of pictures in the ad.\n",
    "- postalCode - The postal code for the location of the vehicle.\n",
    "- lastSeenOnline - When the crawler saw this ad last online."
   ]
  },
  {
   "cell_type": "code",
   "execution_count": 5,
   "metadata": {
    "ExecuteTime": {
     "end_time": "2023-04-12T09:03:16.854952Z",
     "start_time": "2023-04-12T09:03:16.823538Z"
    },
    "scrolled": false
   },
   "outputs": [
    {
     "data": {
      "text/html": [
       "<div>\n",
       "<style scoped>\n",
       "    .dataframe tbody tr th:only-of-type {\n",
       "        vertical-align: middle;\n",
       "    }\n",
       "\n",
       "    .dataframe tbody tr th {\n",
       "        vertical-align: top;\n",
       "    }\n",
       "\n",
       "    .dataframe thead th {\n",
       "        text-align: right;\n",
       "    }\n",
       "</style>\n",
       "<table border=\"1\" class=\"dataframe\">\n",
       "  <thead>\n",
       "    <tr style=\"text-align: right;\">\n",
       "      <th></th>\n",
       "      <th>index</th>\n",
       "      <th>dateCrawled</th>\n",
       "      <th>name</th>\n",
       "      <th>seller</th>\n",
       "      <th>offerType</th>\n",
       "      <th>price</th>\n",
       "      <th>abtest</th>\n",
       "      <th>vehicleType</th>\n",
       "      <th>yearOfRegistration</th>\n",
       "      <th>gearbox</th>\n",
       "      <th>...</th>\n",
       "      <th>model</th>\n",
       "      <th>kilometer</th>\n",
       "      <th>monthOfRegistration</th>\n",
       "      <th>fuelType</th>\n",
       "      <th>brand</th>\n",
       "      <th>notRepairedDamage</th>\n",
       "      <th>dateCreated</th>\n",
       "      <th>nrOfPictures</th>\n",
       "      <th>postalCode</th>\n",
       "      <th>lastSeen</th>\n",
       "    </tr>\n",
       "  </thead>\n",
       "  <tbody>\n",
       "    <tr>\n",
       "      <th>1</th>\n",
       "      <td>1</td>\n",
       "      <td>2016-03-24 10:58:45</td>\n",
       "      <td>A5_Sportback_2.7_Tdi</td>\n",
       "      <td>privat</td>\n",
       "      <td>Angebot</td>\n",
       "      <td>18300</td>\n",
       "      <td>test</td>\n",
       "      <td>coupe</td>\n",
       "      <td>2011</td>\n",
       "      <td>manuell</td>\n",
       "      <td>...</td>\n",
       "      <td>NaN</td>\n",
       "      <td>125000</td>\n",
       "      <td>5</td>\n",
       "      <td>diesel</td>\n",
       "      <td>audi</td>\n",
       "      <td>ja</td>\n",
       "      <td>2016-03-24 00:00:00</td>\n",
       "      <td>0</td>\n",
       "      <td>66954</td>\n",
       "      <td>2016-04-07 01:46:50</td>\n",
       "    </tr>\n",
       "    <tr>\n",
       "      <th>2</th>\n",
       "      <td>2</td>\n",
       "      <td>2016-03-14 12:52:21</td>\n",
       "      <td>Jeep_Grand_Cherokee_\"Overland\"</td>\n",
       "      <td>privat</td>\n",
       "      <td>Angebot</td>\n",
       "      <td>9800</td>\n",
       "      <td>test</td>\n",
       "      <td>suv</td>\n",
       "      <td>2004</td>\n",
       "      <td>automatik</td>\n",
       "      <td>...</td>\n",
       "      <td>grand</td>\n",
       "      <td>125000</td>\n",
       "      <td>8</td>\n",
       "      <td>diesel</td>\n",
       "      <td>jeep</td>\n",
       "      <td>NaN</td>\n",
       "      <td>2016-03-14 00:00:00</td>\n",
       "      <td>0</td>\n",
       "      <td>90480</td>\n",
       "      <td>2016-04-05 12:47:46</td>\n",
       "    </tr>\n",
       "    <tr>\n",
       "      <th>3</th>\n",
       "      <td>3</td>\n",
       "      <td>2016-03-17 16:54:04</td>\n",
       "      <td>GOLF_4_1_4__3TÜRER</td>\n",
       "      <td>privat</td>\n",
       "      <td>Angebot</td>\n",
       "      <td>1500</td>\n",
       "      <td>test</td>\n",
       "      <td>kleinwagen</td>\n",
       "      <td>2001</td>\n",
       "      <td>manuell</td>\n",
       "      <td>...</td>\n",
       "      <td>golf</td>\n",
       "      <td>150000</td>\n",
       "      <td>6</td>\n",
       "      <td>benzin</td>\n",
       "      <td>volkswagen</td>\n",
       "      <td>nein</td>\n",
       "      <td>2016-03-17 00:00:00</td>\n",
       "      <td>0</td>\n",
       "      <td>91074</td>\n",
       "      <td>2016-03-17 17:40:17</td>\n",
       "    </tr>\n",
       "    <tr>\n",
       "      <th>4</th>\n",
       "      <td>4</td>\n",
       "      <td>2016-03-31 17:25:20</td>\n",
       "      <td>Skoda_Fabia_1.4_TDI_PD_Classic</td>\n",
       "      <td>privat</td>\n",
       "      <td>Angebot</td>\n",
       "      <td>3600</td>\n",
       "      <td>test</td>\n",
       "      <td>kleinwagen</td>\n",
       "      <td>2008</td>\n",
       "      <td>manuell</td>\n",
       "      <td>...</td>\n",
       "      <td>fabia</td>\n",
       "      <td>90000</td>\n",
       "      <td>7</td>\n",
       "      <td>diesel</td>\n",
       "      <td>skoda</td>\n",
       "      <td>nein</td>\n",
       "      <td>2016-03-31 00:00:00</td>\n",
       "      <td>0</td>\n",
       "      <td>60437</td>\n",
       "      <td>2016-04-06 10:17:21</td>\n",
       "    </tr>\n",
       "    <tr>\n",
       "      <th>6</th>\n",
       "      <td>6</td>\n",
       "      <td>2016-04-01 20:48:51</td>\n",
       "      <td>Peugeot_206_CC_110_Platinum</td>\n",
       "      <td>privat</td>\n",
       "      <td>Angebot</td>\n",
       "      <td>2200</td>\n",
       "      <td>test</td>\n",
       "      <td>cabrio</td>\n",
       "      <td>2004</td>\n",
       "      <td>manuell</td>\n",
       "      <td>...</td>\n",
       "      <td>2_reihe</td>\n",
       "      <td>150000</td>\n",
       "      <td>8</td>\n",
       "      <td>benzin</td>\n",
       "      <td>peugeot</td>\n",
       "      <td>nein</td>\n",
       "      <td>2016-04-01 00:00:00</td>\n",
       "      <td>0</td>\n",
       "      <td>67112</td>\n",
       "      <td>2016-04-05 18:18:39</td>\n",
       "    </tr>\n",
       "  </tbody>\n",
       "</table>\n",
       "<p>5 rows × 21 columns</p>\n",
       "</div>"
      ],
      "text/plain": [
       "   index          dateCrawled                            name  seller   \n",
       "1      1  2016-03-24 10:58:45            A5_Sportback_2.7_Tdi  privat  \\\n",
       "2      2  2016-03-14 12:52:21  Jeep_Grand_Cherokee_\"Overland\"  privat   \n",
       "3      3  2016-03-17 16:54:04              GOLF_4_1_4__3TÜRER  privat   \n",
       "4      4  2016-03-31 17:25:20  Skoda_Fabia_1.4_TDI_PD_Classic  privat   \n",
       "6      6  2016-04-01 20:48:51     Peugeot_206_CC_110_Platinum  privat   \n",
       "\n",
       "  offerType  price abtest vehicleType  yearOfRegistration    gearbox  ...   \n",
       "1   Angebot  18300   test       coupe                2011    manuell  ...  \\\n",
       "2   Angebot   9800   test         suv                2004  automatik  ...   \n",
       "3   Angebot   1500   test  kleinwagen                2001    manuell  ...   \n",
       "4   Angebot   3600   test  kleinwagen                2008    manuell  ...   \n",
       "6   Angebot   2200   test      cabrio                2004    manuell  ...   \n",
       "\n",
       "     model kilometer  monthOfRegistration  fuelType       brand   \n",
       "1      NaN    125000                    5    diesel        audi  \\\n",
       "2    grand    125000                    8    diesel        jeep   \n",
       "3     golf    150000                    6    benzin  volkswagen   \n",
       "4    fabia     90000                    7    diesel       skoda   \n",
       "6  2_reihe    150000                    8    benzin     peugeot   \n",
       "\n",
       "  notRepairedDamage          dateCreated nrOfPictures  postalCode   \n",
       "1                ja  2016-03-24 00:00:00            0       66954  \\\n",
       "2               NaN  2016-03-14 00:00:00            0       90480   \n",
       "3              nein  2016-03-17 00:00:00            0       91074   \n",
       "4              nein  2016-03-31 00:00:00            0       60437   \n",
       "6              nein  2016-04-01 00:00:00            0       67112   \n",
       "\n",
       "              lastSeen  \n",
       "1  2016-04-07 01:46:50  \n",
       "2  2016-04-05 12:47:46  \n",
       "3  2016-03-17 17:40:17  \n",
       "4  2016-04-06 10:17:21  \n",
       "6  2016-04-05 18:18:39  \n",
       "\n",
       "[5 rows x 21 columns]"
      ]
     },
     "execution_count": 5,
     "metadata": {},
     "output_type": "execute_result"
    }
   ],
   "source": [
    "car_data.head()"
   ]
  },
  {
   "cell_type": "markdown",
   "metadata": {},
   "source": [
    "# Data Cleaning and Transformation"
   ]
  },
  {
   "cell_type": "markdown",
   "metadata": {},
   "source": [
    "## Column Exploration"
   ]
  },
  {
   "cell_type": "code",
   "execution_count": 6,
   "metadata": {
    "ExecuteTime": {
     "end_time": "2023-04-12T09:03:18.280739Z",
     "start_time": "2023-04-12T09:03:17.950240Z"
    }
   },
   "outputs": [
    {
     "name": "stdout",
     "output_type": "stream",
     "text": [
      "<class 'pandas.core.frame.DataFrame'>\n",
      "Index: 267784 entries, 1 to 371527\n",
      "Data columns (total 21 columns):\n",
      " #   Column               Non-Null Count   Dtype \n",
      "---  ------               --------------   ----- \n",
      " 0   index                267784 non-null  int64 \n",
      " 1   dateCrawled          267784 non-null  object\n",
      " 2   name                 267784 non-null  object\n",
      " 3   seller               267784 non-null  object\n",
      " 4   offerType            267784 non-null  object\n",
      " 5   price                267784 non-null  int64 \n",
      " 6   abtest               267784 non-null  object\n",
      " 7   vehicleType          234170 non-null  object\n",
      " 8   yearOfRegistration   267784 non-null  int64 \n",
      " 9   gearbox              253769 non-null  object\n",
      " 10  powerPS              267784 non-null  int64 \n",
      " 11  model                255312 non-null  object\n",
      " 12  kilometer            267784 non-null  int64 \n",
      " 13  monthOfRegistration  267784 non-null  int64 \n",
      " 14  fuelType             245244 non-null  object\n",
      " 15  brand                267784 non-null  object\n",
      " 16  notRepairedDamage    222319 non-null  object\n",
      " 17  dateCreated          267784 non-null  object\n",
      " 18  nrOfPictures         267784 non-null  int64 \n",
      " 19  postalCode           267784 non-null  int64 \n",
      " 20  lastSeen             267784 non-null  object\n",
      "dtypes: int64(8), object(13)\n",
      "memory usage: 44.9+ MB\n"
     ]
    }
   ],
   "source": [
    "car_data.info()"
   ]
  },
  {
   "cell_type": "code",
   "execution_count": 7,
   "metadata": {
    "ExecuteTime": {
     "end_time": "2023-04-12T09:03:18.690660Z",
     "start_time": "2023-04-12T09:03:18.286487Z"
    }
   },
   "outputs": [
    {
     "name": "stdout",
     "output_type": "stream",
     "text": [
      "seller\n",
      "['privat' 'gewerblich']\n",
      "\n",
      "offerType\n",
      "['Angebot' 'Gesuch']\n",
      "\n",
      "abtest\n",
      "['test' 'control']\n",
      "\n",
      "vehicleType\n",
      "['coupe' 'suv' 'kleinwagen' 'cabrio' 'bus' 'limousine' 'kombi' nan\n",
      " 'andere']\n",
      "\n",
      "gearbox\n",
      "['manuell' 'automatik' nan]\n",
      "\n",
      "model\n",
      "[nan 'grand' 'golf' 'fabia' '2_reihe' 'c_max' '3_reihe' 'passat' 'navara'\n",
      " 'polo' 'twingo' 'a_klasse' 'scirocco' '5er' 'meriva' 'c4' 'civic' 'punto'\n",
      " 'clio' '3er' 'e_klasse' 'kangoo' 'andere' 'one' 'fortwo' '1er' 'b_klasse'\n",
      " 'signum' 'a8' 'jetta' 'astra' 'fiesta' 'c_klasse' 'micra' 'vito'\n",
      " 'sprinter' '156' 'xc_reihe' 'scenic' 'a4' 'ka' 'a1' 'insignia'\n",
      " 'transporter' 'combo' 'focus' 'a6' 'jazz' 'omega' 'slk' 'corsa' '147'\n",
      " 'glk' 'z_reihe' 'sportage' 'sorento' 'ibiza' 'mustang' 'eos' 'touran'\n",
      " 'getz' 'a3' 'almera' 'megane' 'lupo' 'zafira' 'mondeo' 'cordoba'\n",
      " 'impreza' 'vectra' 'berlingo' 'm_klasse' 'tiguan' 'i_reihe' 'espace'\n",
      " 'sharan' 'tt' '6_reihe' 'up' 'seicento' 'ceed' '5_reihe' 'yeti' 'octavia'\n",
      " 'mii' 'rx_reihe' 'modus' 'fox' 'matiz' 'panda' 'beetle' 'c1' 'rio'\n",
      " 'touareg' 'logan' 'caddy' 'spider' 'cuore' 's_max' 'a2' 'x_reihe' 'a5'\n",
      " 'galaxy' 'c3' 'viano' 's_klasse' 'avensis' 'roomster' 'q5' 'santa'\n",
      " 'cooper' 'leon' '4_reihe' '500' 'ptcruiser' 'clk' 'primera' 'exeo' '159'\n",
      " 'transit' 'juke' 'qashqai' 'carisma' 'accord' 'corolla' 'lanos' 'phaeton'\n",
      " 'boxster' 'verso' 'rav' 'kuga' 'colt' 'swift' 'picanto' 'kalos' 'superb'\n",
      " 'stilo' 'alhambra' '911' 'm_reihe' 'roadster' 'ypsilon' 'justy' 'sirion'\n",
      " 'crossfire' 'agila' 'duster' 'forester' '7er' 'cr_reihe' 'v50' 'mx_reihe'\n",
      " 'discovery' 'c_reihe' 'v_klasse' 'yaris' 'c5' 'aygo' 'cc' 'carnival'\n",
      " 'fusion' 'galant' 'bora' 'forfour' 'cl' 'tigra' '300c' 'q3' 'spark' 'v70'\n",
      " 'x_type' 'ducato' 'x_trail' 'toledo' 'altea' 'voyager' 'range_rover'\n",
      " 'antara' 'tucson' 'arosa' 'q7' 'v40' 'citigo' 'jimny' 'cx_reihe'\n",
      " 'cayenne' 'lybra' 'range_rover_sport' 'freelander' 's_type' 'sl'\n",
      " 'captiva' '1_reihe' 'c2' 'range_rover_evoque' 'sandero' 'note' 'laguna'\n",
      " 'defender' 'clubman' '601' 'lancer' 'legacy' 'pajero' 'auris' '80' 's60'\n",
      " 'vivaro' 'cherokee' 'niva' 'lodgy' 'g_klasse' 'kadett' '6er' 'charade'\n",
      " 'croma' 'bravo' 'nubira' 'outlander' 'gl' 'doblo' 'musa' 'amarok'\n",
      " 'escort' '100' 'v60' '145' 'aveo' 'wrangler' 'b_max' 'terios' 'kaefer'\n",
      " 'samara' '850' '900' 'materia' 'calibra' 'kalina' 'r19' 'delta' 'i3'\n",
      " 'move' 'serie_2' '90' 'rangerover' 'elefantino' '9000' 'kappa'\n",
      " 'discovery_sport']\n",
      "\n",
      "fuelType\n",
      "['diesel' 'benzin' nan 'lpg' 'andere' 'hybrid' 'cng' 'elektro']\n",
      "\n",
      "brand\n",
      "['audi' 'jeep' 'volkswagen' 'skoda' 'peugeot' 'ford' 'mazda' 'nissan'\n",
      " 'renault' 'mercedes_benz' 'bmw' 'opel' 'citroen' 'honda' 'fiat' 'mini'\n",
      " 'smart' 'hyundai' 'seat' 'alfa_romeo' 'volvo' 'mitsubishi' 'kia' 'lancia'\n",
      " 'subaru' 'porsche' 'sonstige_autos' 'chevrolet' 'dacia' 'daihatsu'\n",
      " 'toyota' 'suzuki' 'chrysler' 'daewoo' 'rover' 'saab' 'jaguar'\n",
      " 'land_rover' 'lada' 'trabant']\n",
      "\n",
      "notRepairedDamage\n",
      "['ja' nan 'nein']\n",
      "\n"
     ]
    }
   ],
   "source": [
    "object_cols = ['seller', 'offerType', 'abtest', 'vehicleType', 'gearbox', 'model', 'fuelType', 'brand', 'notRepairedDamage']\n",
    "\n",
    "for i in object_cols:\n",
    "    print(f\"{i}\")\n",
    "    print(car_data[i].unique())\n",
    "    print()"
   ]
  },
  {
   "cell_type": "code",
   "execution_count": 8,
   "metadata": {
    "ExecuteTime": {
     "end_time": "2023-04-12T09:03:18.928077Z",
     "start_time": "2023-04-12T09:03:18.695361Z"
    }
   },
   "outputs": [
    {
     "data": {
      "text/html": [
       "<div>\n",
       "<style scoped>\n",
       "    .dataframe tbody tr th:only-of-type {\n",
       "        vertical-align: middle;\n",
       "    }\n",
       "\n",
       "    .dataframe tbody tr th {\n",
       "        vertical-align: top;\n",
       "    }\n",
       "\n",
       "    .dataframe thead th {\n",
       "        text-align: right;\n",
       "    }\n",
       "</style>\n",
       "<table border=\"1\" class=\"dataframe\">\n",
       "  <thead>\n",
       "    <tr style=\"text-align: right;\">\n",
       "      <th></th>\n",
       "      <th>index</th>\n",
       "      <th>price</th>\n",
       "      <th>yearOfRegistration</th>\n",
       "      <th>powerPS</th>\n",
       "      <th>kilometer</th>\n",
       "      <th>monthOfRegistration</th>\n",
       "      <th>nrOfPictures</th>\n",
       "      <th>postalCode</th>\n",
       "    </tr>\n",
       "  </thead>\n",
       "  <tbody>\n",
       "    <tr>\n",
       "      <th>count</th>\n",
       "      <td>267784.0</td>\n",
       "      <td>267784.0</td>\n",
       "      <td>267784.0</td>\n",
       "      <td>267784.0</td>\n",
       "      <td>267784.0</td>\n",
       "      <td>267784.0</td>\n",
       "      <td>267784.0</td>\n",
       "      <td>267784.0</td>\n",
       "    </tr>\n",
       "    <tr>\n",
       "      <th>mean</th>\n",
       "      <td>185704.98278089805</td>\n",
       "      <td>11023.225961969349</td>\n",
       "      <td>2006.7011061153767</td>\n",
       "      <td>122.75018298329998</td>\n",
       "      <td>121789.72604785947</td>\n",
       "      <td>5.869346189466137</td>\n",
       "      <td>0.0</td>\n",
       "      <td>51405.149071639826</td>\n",
       "    </tr>\n",
       "    <tr>\n",
       "      <th>std</th>\n",
       "      <td>107259.23078318953</td>\n",
       "      <td>544904.5571093333</td>\n",
       "      <td>4.963868221737747</td>\n",
       "      <td>186.93591706705166</td>\n",
       "      <td>41548.00537937703</td>\n",
       "      <td>3.6566956649995523</td>\n",
       "      <td>0.0</td>\n",
       "      <td>25580.866647194558</td>\n",
       "    </tr>\n",
       "    <tr>\n",
       "      <th>min</th>\n",
       "      <td>1.0</td>\n",
       "      <td>0.0</td>\n",
       "      <td>2000.0</td>\n",
       "      <td>0.0</td>\n",
       "      <td>5000.0</td>\n",
       "      <td>0.0</td>\n",
       "      <td>0.0</td>\n",
       "      <td>1067.0</td>\n",
       "    </tr>\n",
       "    <tr>\n",
       "      <th>25%</th>\n",
       "      <td>92822.25</td>\n",
       "      <td>1950.0</td>\n",
       "      <td>2003.0</td>\n",
       "      <td>75.0</td>\n",
       "      <td>100000.0</td>\n",
       "      <td>3.0</td>\n",
       "      <td>0.0</td>\n",
       "      <td>31177.0</td>\n",
       "    </tr>\n",
       "    <tr>\n",
       "      <th>50%</th>\n",
       "      <td>185679.5</td>\n",
       "      <td>4300.0</td>\n",
       "      <td>2006.0</td>\n",
       "      <td>115.0</td>\n",
       "      <td>150000.0</td>\n",
       "      <td>6.0</td>\n",
       "      <td>0.0</td>\n",
       "      <td>50374.0</td>\n",
       "    </tr>\n",
       "    <tr>\n",
       "      <th>75%</th>\n",
       "      <td>278530.25</td>\n",
       "      <td>8999.0</td>\n",
       "      <td>2010.0</td>\n",
       "      <td>150.0</td>\n",
       "      <td>150000.0</td>\n",
       "      <td>9.0</td>\n",
       "      <td>0.0</td>\n",
       "      <td>72074.0</td>\n",
       "    </tr>\n",
       "    <tr>\n",
       "      <th>max</th>\n",
       "      <td>371527.0</td>\n",
       "      <td>99999999.0</td>\n",
       "      <td>2019.0</td>\n",
       "      <td>19211.0</td>\n",
       "      <td>150000.0</td>\n",
       "      <td>12.0</td>\n",
       "      <td>0.0</td>\n",
       "      <td>99998.0</td>\n",
       "    </tr>\n",
       "  </tbody>\n",
       "</table>\n",
       "</div>"
      ],
      "text/plain": [
       "                    index               price  yearOfRegistration   \n",
       "count            267784.0            267784.0            267784.0  \\\n",
       "mean   185704.98278089805  11023.225961969349  2006.7011061153767   \n",
       "std    107259.23078318953   544904.5571093333   4.963868221737747   \n",
       "min                   1.0                 0.0              2000.0   \n",
       "25%              92822.25              1950.0              2003.0   \n",
       "50%              185679.5              4300.0              2006.0   \n",
       "75%             278530.25              8999.0              2010.0   \n",
       "max              371527.0          99999999.0              2019.0   \n",
       "\n",
       "                  powerPS           kilometer monthOfRegistration   \n",
       "count            267784.0            267784.0            267784.0  \\\n",
       "mean   122.75018298329998  121789.72604785947   5.869346189466137   \n",
       "std    186.93591706705166   41548.00537937703  3.6566956649995523   \n",
       "min                   0.0              5000.0                 0.0   \n",
       "25%                  75.0            100000.0                 3.0   \n",
       "50%                 115.0            150000.0                 6.0   \n",
       "75%                 150.0            150000.0                 9.0   \n",
       "max               19211.0            150000.0                12.0   \n",
       "\n",
       "      nrOfPictures          postalCode  \n",
       "count     267784.0            267784.0  \n",
       "mean           0.0  51405.149071639826  \n",
       "std            0.0  25580.866647194558  \n",
       "min            0.0              1067.0  \n",
       "25%            0.0             31177.0  \n",
       "50%            0.0             50374.0  \n",
       "75%            0.0             72074.0  \n",
       "max            0.0             99998.0  "
      ]
     },
     "execution_count": 8,
     "metadata": {},
     "output_type": "execute_result"
    }
   ],
   "source": [
    "car_data.describe().astype(str)"
   ]
  },
  {
   "cell_type": "markdown",
   "metadata": {},
   "source": [
    "## Observations\n",
    "\n",
    "- Some Columns are in German (Converting to English for our convenience)\n",
    "- NULL Values in vehicleType, gearbox, model, fuelType, notRepairedDamage\n",
    "- No Missing Data for target variable\n",
    "- Target variable \"*price*\" has Erroneous Values prices e.g. 2147483647.0 (2 Billion ...)\n",
    "- Year of Registration is 9999 and 1000"
   ]
  },
  {
   "cell_type": "markdown",
   "metadata": {},
   "source": [
    "## Converting German Words to English"
   ]
  },
  {
   "cell_type": "code",
   "execution_count": 9,
   "metadata": {
    "ExecuteTime": {
     "end_time": "2023-04-12T09:03:21.387161Z",
     "start_time": "2023-04-12T09:03:19.876726Z"
    }
   },
   "outputs": [
    {
     "name": "stdout",
     "output_type": "stream",
     "text": [
      "seller\n",
      "['private' 'commercial']\n",
      "\n",
      "offerType\n",
      "['offer' 'request']\n",
      "\n",
      "vehicleType\n",
      "['coupe' 'suv' 'compact car' 'convertible' 'bus' 'sedan' 'station wagon'\n",
      " nan 'other']\n",
      "\n",
      "gearbox\n",
      "['manual' 'automatic' nan]\n",
      "\n",
      "fuelType\n",
      "['diesel' 'gasoline' nan 'lpg' 'other' 'hybrid' 'natural gas' 'electric']\n",
      "\n",
      "notRepairedDamage\n",
      "['yes' nan 'no']\n",
      "\n"
     ]
    }
   ],
   "source": [
    "german_to_english = {\n",
    "    'privat': 'private',\n",
    "    'gewerblich': 'commercial',\n",
    "    'Angebot': 'offer',\n",
    "    'Gesuch': 'request',\n",
    "    'limousine': 'sedan',\n",
    "    'kleinwagen': 'compact car',\n",
    "    'kombi': 'station wagon',\n",
    "    'cabrio': 'convertible',\n",
    "    'andere': 'other',\n",
    "    'manuell': 'manual',\n",
    "    'automatik': 'automatic',\n",
    "    'benzin': 'gasoline',\n",
    "    'diesel': 'diesel',\n",
    "    'cng': 'natural gas',\n",
    "    'lpg': 'lpg',\n",
    "    'ja': 'yes',\n",
    "    'nein': 'no',\n",
    "    'elektro': 'electric'\n",
    "}\n",
    "\n",
    "# Convert the specified columns from German to English\n",
    "car_data['seller'] = car_data['seller'].map(lambda x: german_to_english[x] if x in german_to_english.keys() else x)\n",
    "car_data['offerType'] = car_data['offerType'].map(lambda x: german_to_english[x] if x in german_to_english.keys() else x)\n",
    "car_data['vehicleType'] = car_data['vehicleType'].map(lambda x: german_to_english[x] if x in german_to_english.keys() else x)\n",
    "car_data['gearbox'] = car_data['gearbox'].map(lambda x: german_to_english[x] if x in german_to_english.keys() else x)\n",
    "car_data['fuelType'] = car_data['fuelType'].map(lambda x: german_to_english[x] if x in german_to_english.keys() else x)\n",
    "car_data['notRepairedDamage'] = car_data['notRepairedDamage'].map(lambda x: german_to_english[x] if x in german_to_english.keys() else x)\n",
    "\n",
    "object_cols = ['seller', 'offerType', 'vehicleType', 'gearbox', 'fuelType', 'notRepairedDamage']\n",
    "\n",
    "for i in object_cols:\n",
    "    print(f\"{i}\")\n",
    "    print(car_data[i].unique())\n",
    "    print()"
   ]
  },
  {
   "cell_type": "markdown",
   "metadata": {},
   "source": [
    "## Removing Irrelevant Columns"
   ]
  },
  {
   "cell_type": "code",
   "execution_count": 10,
   "metadata": {
    "ExecuteTime": {
     "end_time": "2023-04-12T09:03:25.493900Z",
     "start_time": "2023-04-12T09:03:25.423160Z"
    }
   },
   "outputs": [],
   "source": [
    "remove_cols = ['index', 'dateCrawled', 'name', 'monthOfRegistration', 'lastSeen', 'nrOfPictures', 'postalCode', 'seller', 'offerType', 'dateCreated']\n",
    "\n",
    "car_data.drop(columns=remove_cols, inplace=True, axis=1)"
   ]
  },
  {
   "cell_type": "code",
   "execution_count": 11,
   "metadata": {
    "ExecuteTime": {
     "end_time": "2023-04-12T09:03:26.115727Z",
     "start_time": "2023-04-12T09:03:26.090175Z"
    }
   },
   "outputs": [
    {
     "data": {
      "text/html": [
       "<div>\n",
       "<style scoped>\n",
       "    .dataframe tbody tr th:only-of-type {\n",
       "        vertical-align: middle;\n",
       "    }\n",
       "\n",
       "    .dataframe tbody tr th {\n",
       "        vertical-align: top;\n",
       "    }\n",
       "\n",
       "    .dataframe thead th {\n",
       "        text-align: right;\n",
       "    }\n",
       "</style>\n",
       "<table border=\"1\" class=\"dataframe\">\n",
       "  <thead>\n",
       "    <tr style=\"text-align: right;\">\n",
       "      <th></th>\n",
       "      <th>price</th>\n",
       "      <th>abtest</th>\n",
       "      <th>vehicleType</th>\n",
       "      <th>yearOfRegistration</th>\n",
       "      <th>gearbox</th>\n",
       "      <th>powerPS</th>\n",
       "      <th>model</th>\n",
       "      <th>kilometer</th>\n",
       "      <th>fuelType</th>\n",
       "      <th>brand</th>\n",
       "      <th>notRepairedDamage</th>\n",
       "    </tr>\n",
       "  </thead>\n",
       "  <tbody>\n",
       "    <tr>\n",
       "      <th>1</th>\n",
       "      <td>18300</td>\n",
       "      <td>test</td>\n",
       "      <td>coupe</td>\n",
       "      <td>2011</td>\n",
       "      <td>manual</td>\n",
       "      <td>190</td>\n",
       "      <td>NaN</td>\n",
       "      <td>125000</td>\n",
       "      <td>diesel</td>\n",
       "      <td>audi</td>\n",
       "      <td>yes</td>\n",
       "    </tr>\n",
       "    <tr>\n",
       "      <th>2</th>\n",
       "      <td>9800</td>\n",
       "      <td>test</td>\n",
       "      <td>suv</td>\n",
       "      <td>2004</td>\n",
       "      <td>automatic</td>\n",
       "      <td>163</td>\n",
       "      <td>grand</td>\n",
       "      <td>125000</td>\n",
       "      <td>diesel</td>\n",
       "      <td>jeep</td>\n",
       "      <td>NaN</td>\n",
       "    </tr>\n",
       "    <tr>\n",
       "      <th>3</th>\n",
       "      <td>1500</td>\n",
       "      <td>test</td>\n",
       "      <td>compact car</td>\n",
       "      <td>2001</td>\n",
       "      <td>manual</td>\n",
       "      <td>75</td>\n",
       "      <td>golf</td>\n",
       "      <td>150000</td>\n",
       "      <td>gasoline</td>\n",
       "      <td>volkswagen</td>\n",
       "      <td>no</td>\n",
       "    </tr>\n",
       "    <tr>\n",
       "      <th>4</th>\n",
       "      <td>3600</td>\n",
       "      <td>test</td>\n",
       "      <td>compact car</td>\n",
       "      <td>2008</td>\n",
       "      <td>manual</td>\n",
       "      <td>69</td>\n",
       "      <td>fabia</td>\n",
       "      <td>90000</td>\n",
       "      <td>diesel</td>\n",
       "      <td>skoda</td>\n",
       "      <td>no</td>\n",
       "    </tr>\n",
       "    <tr>\n",
       "      <th>6</th>\n",
       "      <td>2200</td>\n",
       "      <td>test</td>\n",
       "      <td>convertible</td>\n",
       "      <td>2004</td>\n",
       "      <td>manual</td>\n",
       "      <td>109</td>\n",
       "      <td>2_reihe</td>\n",
       "      <td>150000</td>\n",
       "      <td>gasoline</td>\n",
       "      <td>peugeot</td>\n",
       "      <td>no</td>\n",
       "    </tr>\n",
       "  </tbody>\n",
       "</table>\n",
       "</div>"
      ],
      "text/plain": [
       "   price abtest  vehicleType  yearOfRegistration    gearbox  powerPS    model   \n",
       "1  18300   test        coupe                2011     manual      190      NaN  \\\n",
       "2   9800   test          suv                2004  automatic      163    grand   \n",
       "3   1500   test  compact car                2001     manual       75     golf   \n",
       "4   3600   test  compact car                2008     manual       69    fabia   \n",
       "6   2200   test  convertible                2004     manual      109  2_reihe   \n",
       "\n",
       "   kilometer  fuelType       brand notRepairedDamage  \n",
       "1     125000    diesel        audi               yes  \n",
       "2     125000    diesel        jeep               NaN  \n",
       "3     150000  gasoline  volkswagen                no  \n",
       "4      90000    diesel       skoda                no  \n",
       "6     150000  gasoline     peugeot                no  "
      ]
     },
     "execution_count": 11,
     "metadata": {},
     "output_type": "execute_result"
    }
   ],
   "source": [
    "car_data.head()"
   ]
  },
  {
   "cell_type": "markdown",
   "metadata": {},
   "source": [
    "## Columns having NULL values "
   ]
  },
  {
   "cell_type": "code",
   "execution_count": 12,
   "metadata": {
    "ExecuteTime": {
     "end_time": "2023-04-12T09:03:30.687531Z",
     "start_time": "2023-04-12T09:03:30.408034Z"
    }
   },
   "outputs": [
    {
     "data": {
      "application/vnd.plotly.v1+json": {
       "config": {
        "plotlyServerURL": "https://plot.ly"
       },
       "data": [
        {
         "alignmentgroup": "True",
         "hovertemplate": "Column Name=%{x}<br>Percent Missing=%{y}<extra></extra>",
         "legendgroup": "",
         "marker": {
          "color": "#636efa",
          "pattern": {
           "shape": ""
          }
         },
         "name": "",
         "offsetgroup": "",
         "orientation": "v",
         "showlegend": false,
         "textposition": "auto",
         "texttemplate": "%{y}",
         "type": "bar",
         "x": [
          "notRepairedDamage",
          "vehicleType",
          "fuelType",
          "gearbox",
          "model",
          "price",
          "abtest",
          "yearOfRegistration",
          "powerPS",
          "kilometer",
          "brand"
         ],
         "xaxis": "x",
         "y": [
          16.98,
          12.55,
          8.42,
          5.23,
          4.66,
          0,
          0,
          0,
          0,
          0,
          0
         ],
         "yaxis": "y"
        }
       ],
       "layout": {
        "barmode": "relative",
        "legend": {
         "tracegroupgap": 0
        },
        "template": {
         "data": {
          "bar": [
           {
            "error_x": {
             "color": "#2a3f5f"
            },
            "error_y": {
             "color": "#2a3f5f"
            },
            "marker": {
             "line": {
              "color": "#E5ECF6",
              "width": 0.5
             },
             "pattern": {
              "fillmode": "overlay",
              "size": 10,
              "solidity": 0.2
             }
            },
            "type": "bar"
           }
          ],
          "barpolar": [
           {
            "marker": {
             "line": {
              "color": "#E5ECF6",
              "width": 0.5
             },
             "pattern": {
              "fillmode": "overlay",
              "size": 10,
              "solidity": 0.2
             }
            },
            "type": "barpolar"
           }
          ],
          "carpet": [
           {
            "aaxis": {
             "endlinecolor": "#2a3f5f",
             "gridcolor": "white",
             "linecolor": "white",
             "minorgridcolor": "white",
             "startlinecolor": "#2a3f5f"
            },
            "baxis": {
             "endlinecolor": "#2a3f5f",
             "gridcolor": "white",
             "linecolor": "white",
             "minorgridcolor": "white",
             "startlinecolor": "#2a3f5f"
            },
            "type": "carpet"
           }
          ],
          "choropleth": [
           {
            "colorbar": {
             "outlinewidth": 0,
             "ticks": ""
            },
            "type": "choropleth"
           }
          ],
          "contour": [
           {
            "colorbar": {
             "outlinewidth": 0,
             "ticks": ""
            },
            "colorscale": [
             [
              0,
              "#0d0887"
             ],
             [
              0.1111111111111111,
              "#46039f"
             ],
             [
              0.2222222222222222,
              "#7201a8"
             ],
             [
              0.3333333333333333,
              "#9c179e"
             ],
             [
              0.4444444444444444,
              "#bd3786"
             ],
             [
              0.5555555555555556,
              "#d8576b"
             ],
             [
              0.6666666666666666,
              "#ed7953"
             ],
             [
              0.7777777777777778,
              "#fb9f3a"
             ],
             [
              0.8888888888888888,
              "#fdca26"
             ],
             [
              1,
              "#f0f921"
             ]
            ],
            "type": "contour"
           }
          ],
          "contourcarpet": [
           {
            "colorbar": {
             "outlinewidth": 0,
             "ticks": ""
            },
            "type": "contourcarpet"
           }
          ],
          "heatmap": [
           {
            "colorbar": {
             "outlinewidth": 0,
             "ticks": ""
            },
            "colorscale": [
             [
              0,
              "#0d0887"
             ],
             [
              0.1111111111111111,
              "#46039f"
             ],
             [
              0.2222222222222222,
              "#7201a8"
             ],
             [
              0.3333333333333333,
              "#9c179e"
             ],
             [
              0.4444444444444444,
              "#bd3786"
             ],
             [
              0.5555555555555556,
              "#d8576b"
             ],
             [
              0.6666666666666666,
              "#ed7953"
             ],
             [
              0.7777777777777778,
              "#fb9f3a"
             ],
             [
              0.8888888888888888,
              "#fdca26"
             ],
             [
              1,
              "#f0f921"
             ]
            ],
            "type": "heatmap"
           }
          ],
          "heatmapgl": [
           {
            "colorbar": {
             "outlinewidth": 0,
             "ticks": ""
            },
            "colorscale": [
             [
              0,
              "#0d0887"
             ],
             [
              0.1111111111111111,
              "#46039f"
             ],
             [
              0.2222222222222222,
              "#7201a8"
             ],
             [
              0.3333333333333333,
              "#9c179e"
             ],
             [
              0.4444444444444444,
              "#bd3786"
             ],
             [
              0.5555555555555556,
              "#d8576b"
             ],
             [
              0.6666666666666666,
              "#ed7953"
             ],
             [
              0.7777777777777778,
              "#fb9f3a"
             ],
             [
              0.8888888888888888,
              "#fdca26"
             ],
             [
              1,
              "#f0f921"
             ]
            ],
            "type": "heatmapgl"
           }
          ],
          "histogram": [
           {
            "marker": {
             "pattern": {
              "fillmode": "overlay",
              "size": 10,
              "solidity": 0.2
             }
            },
            "type": "histogram"
           }
          ],
          "histogram2d": [
           {
            "colorbar": {
             "outlinewidth": 0,
             "ticks": ""
            },
            "colorscale": [
             [
              0,
              "#0d0887"
             ],
             [
              0.1111111111111111,
              "#46039f"
             ],
             [
              0.2222222222222222,
              "#7201a8"
             ],
             [
              0.3333333333333333,
              "#9c179e"
             ],
             [
              0.4444444444444444,
              "#bd3786"
             ],
             [
              0.5555555555555556,
              "#d8576b"
             ],
             [
              0.6666666666666666,
              "#ed7953"
             ],
             [
              0.7777777777777778,
              "#fb9f3a"
             ],
             [
              0.8888888888888888,
              "#fdca26"
             ],
             [
              1,
              "#f0f921"
             ]
            ],
            "type": "histogram2d"
           }
          ],
          "histogram2dcontour": [
           {
            "colorbar": {
             "outlinewidth": 0,
             "ticks": ""
            },
            "colorscale": [
             [
              0,
              "#0d0887"
             ],
             [
              0.1111111111111111,
              "#46039f"
             ],
             [
              0.2222222222222222,
              "#7201a8"
             ],
             [
              0.3333333333333333,
              "#9c179e"
             ],
             [
              0.4444444444444444,
              "#bd3786"
             ],
             [
              0.5555555555555556,
              "#d8576b"
             ],
             [
              0.6666666666666666,
              "#ed7953"
             ],
             [
              0.7777777777777778,
              "#fb9f3a"
             ],
             [
              0.8888888888888888,
              "#fdca26"
             ],
             [
              1,
              "#f0f921"
             ]
            ],
            "type": "histogram2dcontour"
           }
          ],
          "mesh3d": [
           {
            "colorbar": {
             "outlinewidth": 0,
             "ticks": ""
            },
            "type": "mesh3d"
           }
          ],
          "parcoords": [
           {
            "line": {
             "colorbar": {
              "outlinewidth": 0,
              "ticks": ""
             }
            },
            "type": "parcoords"
           }
          ],
          "pie": [
           {
            "automargin": true,
            "type": "pie"
           }
          ],
          "scatter": [
           {
            "fillpattern": {
             "fillmode": "overlay",
             "size": 10,
             "solidity": 0.2
            },
            "type": "scatter"
           }
          ],
          "scatter3d": [
           {
            "line": {
             "colorbar": {
              "outlinewidth": 0,
              "ticks": ""
             }
            },
            "marker": {
             "colorbar": {
              "outlinewidth": 0,
              "ticks": ""
             }
            },
            "type": "scatter3d"
           }
          ],
          "scattercarpet": [
           {
            "marker": {
             "colorbar": {
              "outlinewidth": 0,
              "ticks": ""
             }
            },
            "type": "scattercarpet"
           }
          ],
          "scattergeo": [
           {
            "marker": {
             "colorbar": {
              "outlinewidth": 0,
              "ticks": ""
             }
            },
            "type": "scattergeo"
           }
          ],
          "scattergl": [
           {
            "marker": {
             "colorbar": {
              "outlinewidth": 0,
              "ticks": ""
             }
            },
            "type": "scattergl"
           }
          ],
          "scattermapbox": [
           {
            "marker": {
             "colorbar": {
              "outlinewidth": 0,
              "ticks": ""
             }
            },
            "type": "scattermapbox"
           }
          ],
          "scatterpolar": [
           {
            "marker": {
             "colorbar": {
              "outlinewidth": 0,
              "ticks": ""
             }
            },
            "type": "scatterpolar"
           }
          ],
          "scatterpolargl": [
           {
            "marker": {
             "colorbar": {
              "outlinewidth": 0,
              "ticks": ""
             }
            },
            "type": "scatterpolargl"
           }
          ],
          "scatterternary": [
           {
            "marker": {
             "colorbar": {
              "outlinewidth": 0,
              "ticks": ""
             }
            },
            "type": "scatterternary"
           }
          ],
          "surface": [
           {
            "colorbar": {
             "outlinewidth": 0,
             "ticks": ""
            },
            "colorscale": [
             [
              0,
              "#0d0887"
             ],
             [
              0.1111111111111111,
              "#46039f"
             ],
             [
              0.2222222222222222,
              "#7201a8"
             ],
             [
              0.3333333333333333,
              "#9c179e"
             ],
             [
              0.4444444444444444,
              "#bd3786"
             ],
             [
              0.5555555555555556,
              "#d8576b"
             ],
             [
              0.6666666666666666,
              "#ed7953"
             ],
             [
              0.7777777777777778,
              "#fb9f3a"
             ],
             [
              0.8888888888888888,
              "#fdca26"
             ],
             [
              1,
              "#f0f921"
             ]
            ],
            "type": "surface"
           }
          ],
          "table": [
           {
            "cells": {
             "fill": {
              "color": "#EBF0F8"
             },
             "line": {
              "color": "white"
             }
            },
            "header": {
             "fill": {
              "color": "#C8D4E3"
             },
             "line": {
              "color": "white"
             }
            },
            "type": "table"
           }
          ]
         },
         "layout": {
          "annotationdefaults": {
           "arrowcolor": "#2a3f5f",
           "arrowhead": 0,
           "arrowwidth": 1
          },
          "autotypenumbers": "strict",
          "coloraxis": {
           "colorbar": {
            "outlinewidth": 0,
            "ticks": ""
           }
          },
          "colorscale": {
           "diverging": [
            [
             0,
             "#8e0152"
            ],
            [
             0.1,
             "#c51b7d"
            ],
            [
             0.2,
             "#de77ae"
            ],
            [
             0.3,
             "#f1b6da"
            ],
            [
             0.4,
             "#fde0ef"
            ],
            [
             0.5,
             "#f7f7f7"
            ],
            [
             0.6,
             "#e6f5d0"
            ],
            [
             0.7,
             "#b8e186"
            ],
            [
             0.8,
             "#7fbc41"
            ],
            [
             0.9,
             "#4d9221"
            ],
            [
             1,
             "#276419"
            ]
           ],
           "sequential": [
            [
             0,
             "#0d0887"
            ],
            [
             0.1111111111111111,
             "#46039f"
            ],
            [
             0.2222222222222222,
             "#7201a8"
            ],
            [
             0.3333333333333333,
             "#9c179e"
            ],
            [
             0.4444444444444444,
             "#bd3786"
            ],
            [
             0.5555555555555556,
             "#d8576b"
            ],
            [
             0.6666666666666666,
             "#ed7953"
            ],
            [
             0.7777777777777778,
             "#fb9f3a"
            ],
            [
             0.8888888888888888,
             "#fdca26"
            ],
            [
             1,
             "#f0f921"
            ]
           ],
           "sequentialminus": [
            [
             0,
             "#0d0887"
            ],
            [
             0.1111111111111111,
             "#46039f"
            ],
            [
             0.2222222222222222,
             "#7201a8"
            ],
            [
             0.3333333333333333,
             "#9c179e"
            ],
            [
             0.4444444444444444,
             "#bd3786"
            ],
            [
             0.5555555555555556,
             "#d8576b"
            ],
            [
             0.6666666666666666,
             "#ed7953"
            ],
            [
             0.7777777777777778,
             "#fb9f3a"
            ],
            [
             0.8888888888888888,
             "#fdca26"
            ],
            [
             1,
             "#f0f921"
            ]
           ]
          },
          "colorway": [
           "#636efa",
           "#EF553B",
           "#00cc96",
           "#ab63fa",
           "#FFA15A",
           "#19d3f3",
           "#FF6692",
           "#B6E880",
           "#FF97FF",
           "#FECB52"
          ],
          "font": {
           "color": "#2a3f5f"
          },
          "geo": {
           "bgcolor": "white",
           "lakecolor": "white",
           "landcolor": "#E5ECF6",
           "showlakes": true,
           "showland": true,
           "subunitcolor": "white"
          },
          "hoverlabel": {
           "align": "left"
          },
          "hovermode": "closest",
          "mapbox": {
           "style": "light"
          },
          "paper_bgcolor": "white",
          "plot_bgcolor": "#E5ECF6",
          "polar": {
           "angularaxis": {
            "gridcolor": "white",
            "linecolor": "white",
            "ticks": ""
           },
           "bgcolor": "#E5ECF6",
           "radialaxis": {
            "gridcolor": "white",
            "linecolor": "white",
            "ticks": ""
           }
          },
          "scene": {
           "xaxis": {
            "backgroundcolor": "#E5ECF6",
            "gridcolor": "white",
            "gridwidth": 2,
            "linecolor": "white",
            "showbackground": true,
            "ticks": "",
            "zerolinecolor": "white"
           },
           "yaxis": {
            "backgroundcolor": "#E5ECF6",
            "gridcolor": "white",
            "gridwidth": 2,
            "linecolor": "white",
            "showbackground": true,
            "ticks": "",
            "zerolinecolor": "white"
           },
           "zaxis": {
            "backgroundcolor": "#E5ECF6",
            "gridcolor": "white",
            "gridwidth": 2,
            "linecolor": "white",
            "showbackground": true,
            "ticks": "",
            "zerolinecolor": "white"
           }
          },
          "shapedefaults": {
           "line": {
            "color": "#2a3f5f"
           }
          },
          "ternary": {
           "aaxis": {
            "gridcolor": "white",
            "linecolor": "white",
            "ticks": ""
           },
           "baxis": {
            "gridcolor": "white",
            "linecolor": "white",
            "ticks": ""
           },
           "bgcolor": "#E5ECF6",
           "caxis": {
            "gridcolor": "white",
            "linecolor": "white",
            "ticks": ""
           }
          },
          "title": {
           "x": 0.05
          },
          "xaxis": {
           "automargin": true,
           "gridcolor": "white",
           "linecolor": "white",
           "ticks": "",
           "title": {
            "standoff": 15
           },
           "zerolinecolor": "white",
           "zerolinewidth": 2
          },
          "yaxis": {
           "automargin": true,
           "gridcolor": "white",
           "linecolor": "white",
           "ticks": "",
           "title": {
            "standoff": 15
           },
           "zerolinecolor": "white",
           "zerolinewidth": 2
          }
         }
        },
        "title": {
         "text": "Missing Values in Used Car Data"
        },
        "xaxis": {
         "anchor": "y",
         "domain": [
          0,
          1
         ],
         "title": {
          "text": "Column Name"
         }
        },
        "yaxis": {
         "anchor": "x",
         "domain": [
          0,
          1
         ],
         "title": {
          "text": "Percent Missing"
         }
        }
       }
      }
     },
     "metadata": {},
     "output_type": "display_data"
    }
   ],
   "source": [
    "null_values_cols = (np.round(car_data.isnull().sum() * 100 / len(car_data), 2)).sort_values(ascending=False)\n",
    "\n",
    "missing_value_df = pd.DataFrame({'Column Name': null_values_cols.index,\n",
    "                                 'Percent Missing': null_values_cols.values})\n",
    "\n",
    "fig = px.bar(missing_value_df,\n",
    "    x = 'Column Name', \n",
    "    y = 'Percent Missing', \n",
    "    title = \"Missing Values in Used Car Data\", \n",
    "    labels = {\"x\" : \"Columns\", \"y\" : \"Percentage of Missing Values\"},\n",
    "    text_auto=True)\n",
    "\n",
    "fig.show()"
   ]
  },
  {
   "cell_type": "code",
   "execution_count": 13,
   "metadata": {
    "ExecuteTime": {
     "end_time": "2023-04-12T09:01:58.532989Z",
     "start_time": "2023-04-12T09:01:58.212946Z"
    }
   },
   "outputs": [],
   "source": [
    "# Filling the NULL data points with Mode Value of Columns\n",
    "car_data['notRepairedDamage'].fillna(value=car_data['notRepairedDamage'].mode()[0], inplace=True)\n",
    "car_data['vehicleType'].fillna(car_data['vehicleType'].mode()[0], inplace=True)\n",
    "car_data['fuelType'].fillna(car_data['fuelType'].mode()[0], inplace=True)\n",
    "car_data['model'].fillna('unknown', inplace=True)\n",
    "car_data['gearbox'].fillna(car_data['gearbox'].mode()[0], inplace=True)"
   ]
  },
  {
   "attachments": {},
   "cell_type": "markdown",
   "metadata": {},
   "source": [
    "## Outlier Analysis"
   ]
  },
  {
   "cell_type": "markdown",
   "metadata": {},
   "source": [
    "### Distribution of Price (Target) Variable"
   ]
  },
  {
   "cell_type": "code",
   "execution_count": 14,
   "metadata": {
    "ExecuteTime": {
     "end_time": "2023-04-11T10:56:50.797877Z",
     "start_time": "2023-04-11T10:56:49.587124Z"
    },
    "scrolled": true
   },
   "outputs": [
    {
     "data": {
      "text/plain": [
       "<AxesSubplot: xlabel='price'>"
      ]
     },
     "execution_count": 14,
     "metadata": {},
     "output_type": "execute_result"
    },
    {
     "data": {
      "image/png": "[encoded data removed]",
      "text/plain": [
       "<Figure size 1440x216 with 1 Axes>"
      ]
     },
     "metadata": {
      "needs_background": "light"
     },
     "output_type": "display_data"
    }
   ],
   "source": [
    "fig, ax = plt.subplots(figsize=(20, 3))\n",
    "sns.boxplot(x='price', data=car_data)"
   ]
  },
  {
   "attachments": {},
   "cell_type": "markdown",
   "metadata": {},
   "source": [
    "- The Shapiro-Wilk test is a statistical test used to determine whether a data sample is normally distributed. \n",
    "\n",
    "- The null hypothesis for the test is that the data are normally distributed, while the alternative hypothesis is that they are not.\n",
    "\n",
    "- The shapiro() function returns two values: the test statistic and the p-value. The test statistic is a measure of how far the sample distribution is from a normal distribution, with larger values indicating a larger departure from normality. \n",
    "\n",
    "- The p-value is the probability of observing the test statistic or a more extreme value under the null hypothesis.\n",
    "\n",
    "- If the p-value is less than the chosen significance level (often 0.05), we reject the null hypothesis that the data are normally distributed, meaning that the data are unlikely to have come from a normal distribution. \n",
    "\n",
    "- Conversely, if the p-value is greater than the significance level, we fail to reject the null hypothesis, meaning that there is not enough evidence to conclude that the data are not normally distributed."
   ]
  },
  {
   "cell_type": "code",
   "execution_count": 15,
   "metadata": {},
   "outputs": [
    {
     "name": "stdout",
     "output_type": "stream",
     "text": [
      "Test statistic: 0.00186997652053833\n",
      "p-value: 0.0\n",
      "Data does not look normally distributed (reject H0)\n"
     ]
    },
    {
     "name": "stderr",
     "output_type": "stream",
     "text": [
      "g:\\Softwares\\Python\\lib\\site-packages\\scipy\\stats\\_morestats.py:1800: UserWarning:\n",
      "\n",
      "p-value may not be accurate for N > 5000.\n",
      "\n"
     ]
    }
   ],
   "source": [
    "from scipy.stats import shapiro\n",
    "\n",
    "# assume that 'data' is the variable containing the data to be tested\n",
    "stat, p = shapiro(car_data['price'])\n",
    "\n",
    "# print the test statistic and p-value\n",
    "print('Test statistic:', stat)\n",
    "print('p-value:', p)\n",
    "\n",
    "# interpret the results\n",
    "alpha = 0.05  # significance level\n",
    "if p > alpha:\n",
    "    print('Data looks normally distributed (fail to reject H0)')\n",
    "else:\n",
    "    print('Data does not look normally distributed (reject H0)')"
   ]
  },
  {
   "attachments": {},
   "cell_type": "markdown",
   "metadata": {},
   "source": [
    "- Log transformation is commonly applied to target variables in regression problems to transform data that are not normally distributed into a normal or more symmetric distribution. \n",
    "\n",
    "- This is important because many statistical models rely on the assumption of normality for the target variable, and the transformation can help to satisfy this assumption. \n",
    "\n",
    "- Additionally, log transformation can help to stabilize the variance of the target variable and reduce the impact of outliers.\n",
    "\n",
    "- In some cases, applying a log transform can also improve the interpretability of the model. \n",
    "\n",
    "- For example, if the target variable represents a count or a measurement that follows a power law distribution, taking the logarithm can make the relationship between the predictor variables and the target variable more linear and easier to interpret."
   ]
  },
  {
   "cell_type": "code",
   "execution_count": 16,
   "metadata": {},
   "outputs": [],
   "source": [
    "# Apply Log Transformation to Target variable \"Price\" column\n",
    "c = 1\n",
    "car_data['price'] = np.log(car_data['price'] + c)"
   ]
  },
  {
   "cell_type": "code",
   "execution_count": 17,
   "metadata": {},
   "outputs": [
    {
     "data": {
      "text/plain": [
       "<seaborn.axisgrid.FacetGrid at 0x2191b78dd90>"
      ]
     },
     "execution_count": 17,
     "metadata": {},
     "output_type": "execute_result"
    },
    {
     "data": {
      "image/png": "[encoded data removed]",
      "text/plain": [
       "<Figure size 360x360 with 1 Axes>"
      ]
     },
     "metadata": {
      "needs_background": "light"
     },
     "output_type": "display_data"
    }
   ],
   "source": [
    "sns.displot(car_data['price'])"
   ]
  },
  {
   "attachments": {},
   "cell_type": "markdown",
   "metadata": {},
   "source": [
    "If the goal is to build a predictive model, then it may be beneficial to do outlier analysis after log transformation. This is because log transformation can reduce the impact of outliers on the model and improve the performance of the model. By identifying and removing outliers in the transformed scale, the model may become more accurate and robust."
   ]
  },
  {
   "attachments": {},
   "cell_type": "markdown",
   "metadata": {},
   "source": [
    "### Outlier Analysis of Features\n",
    "\n",
    "**1. IQR Method**\n",
    "\n",
    "The box plot uses inter-quartile range to detect outliers. Here, we first determine the quartiles Q1 and Q3. Interquartile range is given by, \n",
    "\n",
    "- IQR = Q3 - Q1\n",
    "- Upper limit = Q3 + 1.5 * IQR\n",
    "- Lower limit = Q1 – 1.5 * IQR\n",
    "\n",
    "Anything below the lower limit and above the upper limit is considered an outlier\n",
    "\n",
    "**2. Winsorization**\n",
    "- This technique replaces extreme values with less extreme values by truncating the distribution at a specified percentile. This approach preserves the shape of the distribution while reducing the impact of outliers. This can be useful in cases where removing the outliers is not appropriate.\n",
    "- For example, the top 1% and bottom 1% of the values can be replaced with the next highest and lowest values, respectively. \n",
    "- Winsorization is particularly useful when we suspect that the outliers are due to measurement errors or data entry errors, rather than genuine extreme values that we want to preserve in our analysis."
   ]
  },
  {
   "cell_type": "code",
   "execution_count": 19,
   "metadata": {},
   "outputs": [],
   "source": [
    "from scipy.stats.mstats import winsorize\n",
    "\n",
    "# # apply Winsorization with 10% trimming on both ends\n",
    "car_data['price_winsorized'] = winsorize(car_data['price'], limits=[0.1, 0.1])"
   ]
  },
  {
   "cell_type": "code",
   "execution_count": 20,
   "metadata": {},
   "outputs": [
    {
     "data": {
      "text/plain": [
       "<seaborn.axisgrid.FacetGrid at 0x21923eed4c0>"
      ]
     },
     "execution_count": 20,
     "metadata": {},
     "output_type": "execute_result"
    },
    {
     "data": {
      "image/png": "[encoded data removed]",
      "text/plain": [
       "<Figure size 360x360 with 1 Axes>"
      ]
     },
     "metadata": {
      "needs_background": "light"
     },
     "output_type": "display_data"
    }
   ],
   "source": [
    "sns.displot(car_data['price_winsorized'])"
   ]
  },
  {
   "attachments": {},
   "cell_type": "markdown",
   "metadata": {},
   "source": [
    "### Converting Categorical Variables into Numerical Features\n",
    "\n",
    "**Factorization**\n",
    "\n",
    "Factorizing categorical data involves converting categorical variables into numerical variables by assigning a unique integer value to each category.\n",
    "\n",
    "**Advantages:**\n",
    "\n",
    "- Reduced memory usage: By converting categorical variables to numerical variables, the memory usage of the data is reduced as integers occupy less space than strings.\n",
    "\n",
    "- Faster computation: Many machine learning algorithms require numerical inputs. By factorizing categorical variables, computation can be performed faster as numerical variables are easier and faster to process.\n",
    "\n",
    "- Simplified feature engineering: Factorizing categorical variables can simplify feature engineering as numerical variables can be more easily manipulated and transformed."
   ]
  },
  {
   "cell_type": "code",
   "execution_count": 21,
   "metadata": {},
   "outputs": [
    {
     "data": {
      "text/plain": [
       "((array([0, 0, 0, ..., 0, 0, 1], dtype=int64),\n",
       "  Index(['test', 'control'], dtype='object')),\n",
       " (array([0, 1, 0, ..., 1, 0, 0], dtype=int64),\n",
       "  Index(['manual', 'automatic'], dtype='object')),\n",
       " (array([0, 1, 1, ..., 1, 1, 1], dtype=int64),\n",
       "  Index(['yes', 'no'], dtype='object')))"
      ]
     },
     "execution_count": 21,
     "metadata": {},
     "output_type": "execute_result"
    }
   ],
   "source": [
    "pd.factorize(car_data['abtest']), pd.factorize(car_data['gearbox']), pd.factorize(car_data['notRepairedDamage'])"
   ]
  },
  {
   "cell_type": "code",
   "execution_count": 22,
   "metadata": {},
   "outputs": [],
   "source": [
    "car_data['abtest'] = pd.factorize(car_data['abtest'])[0]\n",
    "car_data['gearbox'] = pd.factorize(car_data['gearbox'])[0]\n",
    "car_data['notRepairedDamage'] = pd.factorize(car_data['notRepairedDamage'])[0]"
   ]
  },
  {
   "attachments": {},
   "cell_type": "markdown",
   "metadata": {},
   "source": [
    "- The reason is that standardization scales the data based on the standard deviation, which makes it more robust to outliers. \n",
    "\n",
    "- Distance travelled in kilometers and horsepower of a car are continuous variables with a range of values, and standardization preserves the distribution of the data while transforming it to have a mean of 0 and a standard deviation of 1."
   ]
  },
  {
   "cell_type": "code",
   "execution_count": 23,
   "metadata": {},
   "outputs": [],
   "source": [
    "from sklearn.preprocessing import StandardScaler\n",
    "\n",
    "scaler = StandardScaler()\n",
    "\n",
    "car_data[['kilometer', 'powerPS']] = scaler.fit_transform(car_data[['kilometer', 'powerPS']])"
   ]
  },
  {
   "cell_type": "code",
   "execution_count": 24,
   "metadata": {},
   "outputs": [
    {
     "data": {
      "text/html": [
       "<div>\n",
       "<style scoped>\n",
       "    .dataframe tbody tr th:only-of-type {\n",
       "        vertical-align: middle;\n",
       "    }\n",
       "\n",
       "    .dataframe tbody tr th {\n",
       "        vertical-align: top;\n",
       "    }\n",
       "\n",
       "    .dataframe thead th {\n",
       "        text-align: right;\n",
       "    }\n",
       "</style>\n",
       "<table border=\"1\" class=\"dataframe\">\n",
       "  <thead>\n",
       "    <tr style=\"text-align: right;\">\n",
       "      <th></th>\n",
       "      <th>price</th>\n",
       "      <th>abtest</th>\n",
       "      <th>vehicleType</th>\n",
       "      <th>yearOfRegistration</th>\n",
       "      <th>gearbox</th>\n",
       "      <th>powerPS</th>\n",
       "      <th>model</th>\n",
       "      <th>kilometer</th>\n",
       "      <th>fuelType</th>\n",
       "      <th>brand</th>\n",
       "      <th>notRepairedDamage</th>\n",
       "      <th>price_winsorized</th>\n",
       "    </tr>\n",
       "  </thead>\n",
       "  <tbody>\n",
       "    <tr>\n",
       "      <th>1</th>\n",
       "      <td>9.814711</td>\n",
       "      <td>0</td>\n",
       "      <td>coupe</td>\n",
       "      <td>2011</td>\n",
       "      <td>0</td>\n",
       "      <td>0.359749</td>\n",
       "      <td>unknown</td>\n",
       "      <td>0.077267</td>\n",
       "      <td>diesel</td>\n",
       "      <td>audi</td>\n",
       "      <td>0</td>\n",
       "      <td>9.680344</td>\n",
       "    </tr>\n",
       "    <tr>\n",
       "      <th>2</th>\n",
       "      <td>9.190240</td>\n",
       "      <td>0</td>\n",
       "      <td>suv</td>\n",
       "      <td>2004</td>\n",
       "      <td>1</td>\n",
       "      <td>0.215314</td>\n",
       "      <td>grand</td>\n",
       "      <td>0.077267</td>\n",
       "      <td>diesel</td>\n",
       "      <td>jeep</td>\n",
       "      <td>1</td>\n",
       "      <td>9.190240</td>\n",
       "    </tr>\n",
       "    <tr>\n",
       "      <th>3</th>\n",
       "      <td>7.313887</td>\n",
       "      <td>0</td>\n",
       "      <td>compact car</td>\n",
       "      <td>2001</td>\n",
       "      <td>0</td>\n",
       "      <td>-0.255437</td>\n",
       "      <td>golf</td>\n",
       "      <td>0.678981</td>\n",
       "      <td>gasoline</td>\n",
       "      <td>volkswagen</td>\n",
       "      <td>1</td>\n",
       "      <td>7.313887</td>\n",
       "    </tr>\n",
       "    <tr>\n",
       "      <th>4</th>\n",
       "      <td>8.188967</td>\n",
       "      <td>0</td>\n",
       "      <td>compact car</td>\n",
       "      <td>2008</td>\n",
       "      <td>0</td>\n",
       "      <td>-0.287533</td>\n",
       "      <td>fabia</td>\n",
       "      <td>-0.765134</td>\n",
       "      <td>diesel</td>\n",
       "      <td>skoda</td>\n",
       "      <td>1</td>\n",
       "      <td>8.188967</td>\n",
       "    </tr>\n",
       "    <tr>\n",
       "      <th>6</th>\n",
       "      <td>7.696667</td>\n",
       "      <td>0</td>\n",
       "      <td>convertible</td>\n",
       "      <td>2004</td>\n",
       "      <td>0</td>\n",
       "      <td>-0.073556</td>\n",
       "      <td>2_reihe</td>\n",
       "      <td>0.678981</td>\n",
       "      <td>gasoline</td>\n",
       "      <td>peugeot</td>\n",
       "      <td>1</td>\n",
       "      <td>7.696667</td>\n",
       "    </tr>\n",
       "  </tbody>\n",
       "</table>\n",
       "</div>"
      ],
      "text/plain": [
       "      price  abtest  vehicleType  yearOfRegistration  gearbox   powerPS   \n",
       "1  9.814711       0        coupe                2011        0  0.359749  \\\n",
       "2  9.190240       0          suv                2004        1  0.215314   \n",
       "3  7.313887       0  compact car                2001        0 -0.255437   \n",
       "4  8.188967       0  compact car                2008        0 -0.287533   \n",
       "6  7.696667       0  convertible                2004        0 -0.073556   \n",
       "\n",
       "     model  kilometer  fuelType       brand  notRepairedDamage   \n",
       "1  unknown   0.077267    diesel        audi                  0  \\\n",
       "2    grand   0.077267    diesel        jeep                  1   \n",
       "3     golf   0.678981  gasoline  volkswagen                  1   \n",
       "4    fabia  -0.765134    diesel       skoda                  1   \n",
       "6  2_reihe   0.678981  gasoline     peugeot                  1   \n",
       "\n",
       "   price_winsorized  \n",
       "1          9.680344  \n",
       "2          9.190240  \n",
       "3          7.313887  \n",
       "4          8.188967  \n",
       "6          7.696667  "
      ]
     },
     "execution_count": 24,
     "metadata": {},
     "output_type": "execute_result"
    }
   ],
   "source": [
    "car_data.head()"
   ]
  },
  {
   "attachments": {},
   "cell_type": "markdown",
   "metadata": {},
   "source": [
    "- When there are more than two categories in a categorical variable, one of the best encoding methods is one-hot encoding or dummy variable encoding. \n",
    "\n",
    "- This method creates a new binary variable for each category in the original variable, with a value of 1 indicating the presence of that category and 0 indicating its absence."
   ]
  },
  {
   "cell_type": "code",
   "execution_count": 25,
   "metadata": {},
   "outputs": [],
   "source": [
    "# Applying One-Hot Encoding\n",
    "car_data_v2 = pd.get_dummies(car_data, prefix='vehicleType', prefix_sep='.', columns=['vehicleType'], dtype=float)\n",
    "car_data_v2 = pd.get_dummies(car_data_v2, prefix='fuelType', prefix_sep='.', columns=['fuelType'], dtype=float)\n",
    "\n",
    "# Encoding brand\n",
    "car_data_v3 = pd.get_dummies(car_data_v2, prefix='brand', prefix_sep='.', columns=['brand'], dtype=float)\n",
    "\n",
    "# Encoding model\n",
    "car_data_v4 = pd.get_dummies(car_data_v3, prefix='model', prefix_sep='.', columns=['model'], dtype=float)"
   ]
  },
  {
   "cell_type": "code",
   "execution_count": 26,
   "metadata": {},
   "outputs": [
    {
     "data": {
      "text/html": [
       "<div>\n",
       "<style scoped>\n",
       "    .dataframe tbody tr th:only-of-type {\n",
       "        vertical-align: middle;\n",
       "    }\n",
       "\n",
       "    .dataframe tbody tr th {\n",
       "        vertical-align: top;\n",
       "    }\n",
       "\n",
       "    .dataframe thead th {\n",
       "        text-align: right;\n",
       "    }\n",
       "</style>\n",
       "<table border=\"1\" class=\"dataframe\">\n",
       "  <thead>\n",
       "    <tr style=\"text-align: right;\">\n",
       "      <th></th>\n",
       "      <th>price</th>\n",
       "      <th>abtest</th>\n",
       "      <th>yearOfRegistration</th>\n",
       "      <th>gearbox</th>\n",
       "      <th>powerPS</th>\n",
       "      <th>model</th>\n",
       "      <th>kilometer</th>\n",
       "      <th>brand</th>\n",
       "      <th>notRepairedDamage</th>\n",
       "      <th>price_winsorized</th>\n",
       "      <th>...</th>\n",
       "      <th>vehicleType.sedan</th>\n",
       "      <th>vehicleType.station wagon</th>\n",
       "      <th>vehicleType.suv</th>\n",
       "      <th>fuelType.diesel</th>\n",
       "      <th>fuelType.electric</th>\n",
       "      <th>fuelType.gasoline</th>\n",
       "      <th>fuelType.hybrid</th>\n",
       "      <th>fuelType.lpg</th>\n",
       "      <th>fuelType.natural gas</th>\n",
       "      <th>fuelType.other</th>\n",
       "    </tr>\n",
       "  </thead>\n",
       "  <tbody>\n",
       "    <tr>\n",
       "      <th>1</th>\n",
       "      <td>9.814711</td>\n",
       "      <td>0</td>\n",
       "      <td>2011</td>\n",
       "      <td>0</td>\n",
       "      <td>0.359749</td>\n",
       "      <td>unknown</td>\n",
       "      <td>0.077267</td>\n",
       "      <td>audi</td>\n",
       "      <td>0</td>\n",
       "      <td>9.680344</td>\n",
       "      <td>...</td>\n",
       "      <td>0.0</td>\n",
       "      <td>0.0</td>\n",
       "      <td>0.0</td>\n",
       "      <td>1.0</td>\n",
       "      <td>0.0</td>\n",
       "      <td>0.0</td>\n",
       "      <td>0.0</td>\n",
       "      <td>0.0</td>\n",
       "      <td>0.0</td>\n",
       "      <td>0.0</td>\n",
       "    </tr>\n",
       "    <tr>\n",
       "      <th>2</th>\n",
       "      <td>9.190240</td>\n",
       "      <td>0</td>\n",
       "      <td>2004</td>\n",
       "      <td>1</td>\n",
       "      <td>0.215314</td>\n",
       "      <td>grand</td>\n",
       "      <td>0.077267</td>\n",
       "      <td>jeep</td>\n",
       "      <td>1</td>\n",
       "      <td>9.190240</td>\n",
       "      <td>...</td>\n",
       "      <td>0.0</td>\n",
       "      <td>0.0</td>\n",
       "      <td>1.0</td>\n",
       "      <td>1.0</td>\n",
       "      <td>0.0</td>\n",
       "      <td>0.0</td>\n",
       "      <td>0.0</td>\n",
       "      <td>0.0</td>\n",
       "      <td>0.0</td>\n",
       "      <td>0.0</td>\n",
       "    </tr>\n",
       "    <tr>\n",
       "      <th>3</th>\n",
       "      <td>7.313887</td>\n",
       "      <td>0</td>\n",
       "      <td>2001</td>\n",
       "      <td>0</td>\n",
       "      <td>-0.255437</td>\n",
       "      <td>golf</td>\n",
       "      <td>0.678981</td>\n",
       "      <td>volkswagen</td>\n",
       "      <td>1</td>\n",
       "      <td>7.313887</td>\n",
       "      <td>...</td>\n",
       "      <td>0.0</td>\n",
       "      <td>0.0</td>\n",
       "      <td>0.0</td>\n",
       "      <td>0.0</td>\n",
       "      <td>0.0</td>\n",
       "      <td>1.0</td>\n",
       "      <td>0.0</td>\n",
       "      <td>0.0</td>\n",
       "      <td>0.0</td>\n",
       "      <td>0.0</td>\n",
       "    </tr>\n",
       "    <tr>\n",
       "      <th>4</th>\n",
       "      <td>8.188967</td>\n",
       "      <td>0</td>\n",
       "      <td>2008</td>\n",
       "      <td>0</td>\n",
       "      <td>-0.287533</td>\n",
       "      <td>fabia</td>\n",
       "      <td>-0.765134</td>\n",
       "      <td>skoda</td>\n",
       "      <td>1</td>\n",
       "      <td>8.188967</td>\n",
       "      <td>...</td>\n",
       "      <td>0.0</td>\n",
       "      <td>0.0</td>\n",
       "      <td>0.0</td>\n",
       "      <td>1.0</td>\n",
       "      <td>0.0</td>\n",
       "      <td>0.0</td>\n",
       "      <td>0.0</td>\n",
       "      <td>0.0</td>\n",
       "      <td>0.0</td>\n",
       "      <td>0.0</td>\n",
       "    </tr>\n",
       "    <tr>\n",
       "      <th>6</th>\n",
       "      <td>7.696667</td>\n",
       "      <td>0</td>\n",
       "      <td>2004</td>\n",
       "      <td>0</td>\n",
       "      <td>-0.073556</td>\n",
       "      <td>2_reihe</td>\n",
       "      <td>0.678981</td>\n",
       "      <td>peugeot</td>\n",
       "      <td>1</td>\n",
       "      <td>7.696667</td>\n",
       "      <td>...</td>\n",
       "      <td>0.0</td>\n",
       "      <td>0.0</td>\n",
       "      <td>0.0</td>\n",
       "      <td>0.0</td>\n",
       "      <td>0.0</td>\n",
       "      <td>1.0</td>\n",
       "      <td>0.0</td>\n",
       "      <td>0.0</td>\n",
       "      <td>0.0</td>\n",
       "      <td>0.0</td>\n",
       "    </tr>\n",
       "  </tbody>\n",
       "</table>\n",
       "<p>5 rows × 25 columns</p>\n",
       "</div>"
      ],
      "text/plain": [
       "      price  abtest  yearOfRegistration  gearbox   powerPS    model   \n",
       "1  9.814711       0                2011        0  0.359749  unknown  \\\n",
       "2  9.190240       0                2004        1  0.215314    grand   \n",
       "3  7.313887       0                2001        0 -0.255437     golf   \n",
       "4  8.188967       0                2008        0 -0.287533    fabia   \n",
       "6  7.696667       0                2004        0 -0.073556  2_reihe   \n",
       "\n",
       "   kilometer       brand  notRepairedDamage  price_winsorized  ...   \n",
       "1   0.077267        audi                  0          9.680344  ...  \\\n",
       "2   0.077267        jeep                  1          9.190240  ...   \n",
       "3   0.678981  volkswagen                  1          7.313887  ...   \n",
       "4  -0.765134       skoda                  1          8.188967  ...   \n",
       "6   0.678981     peugeot                  1          7.696667  ...   \n",
       "\n",
       "   vehicleType.sedan  vehicleType.station wagon  vehicleType.suv   \n",
       "1                0.0                        0.0              0.0  \\\n",
       "2                0.0                        0.0              1.0   \n",
       "3                0.0                        0.0              0.0   \n",
       "4                0.0                        0.0              0.0   \n",
       "6                0.0                        0.0              0.0   \n",
       "\n",
       "   fuelType.diesel  fuelType.electric  fuelType.gasoline  fuelType.hybrid   \n",
       "1              1.0                0.0                0.0              0.0  \\\n",
       "2              1.0                0.0                0.0              0.0   \n",
       "3              0.0                0.0                1.0              0.0   \n",
       "4              1.0                0.0                0.0              0.0   \n",
       "6              0.0                0.0                1.0              0.0   \n",
       "\n",
       "   fuelType.lpg  fuelType.natural gas  fuelType.other  \n",
       "1           0.0                   0.0             0.0  \n",
       "2           0.0                   0.0             0.0  \n",
       "3           0.0                   0.0             0.0  \n",
       "4           0.0                   0.0             0.0  \n",
       "6           0.0                   0.0             0.0  \n",
       "\n",
       "[5 rows x 25 columns]"
      ]
     },
     "execution_count": 26,
     "metadata": {},
     "output_type": "execute_result"
    }
   ],
   "source": [
    "car_data_v2.head()"
   ]
  },
  {
   "cell_type": "code",
   "execution_count": 27,
   "metadata": {},
   "outputs": [],
   "source": [
    "car_data_winsor_price = car_data_v4.drop(columns=['price'], axis=1)\n",
    "car_data_price = car_data_v4.drop(columns=['price_winsorized'], axis=1)"
   ]
  },
  {
   "attachments": {},
   "cell_type": "markdown",
   "metadata": {},
   "source": [
    "# Feature Selection"
   ]
  },
  {
   "attachments": {},
   "cell_type": "markdown",
   "metadata": {},
   "source": [
    "## Heatmap"
   ]
  },
  {
   "cell_type": "code",
   "execution_count": 32,
   "metadata": {},
   "outputs": [
    {
     "data": {
      "text/html": [
       "<div>\n",
       "<style scoped>\n",
       "    .dataframe tbody tr th:only-of-type {\n",
       "        vertical-align: middle;\n",
       "    }\n",
       "\n",
       "    .dataframe tbody tr th {\n",
       "        vertical-align: top;\n",
       "    }\n",
       "\n",
       "    .dataframe thead th {\n",
       "        text-align: right;\n",
       "    }\n",
       "</style>\n",
       "<table border=\"1\" class=\"dataframe\">\n",
       "  <thead>\n",
       "    <tr style=\"text-align: right;\">\n",
       "      <th></th>\n",
       "      <th>price</th>\n",
       "      <th>abtest</th>\n",
       "      <th>yearOfRegistration</th>\n",
       "      <th>gearbox</th>\n",
       "      <th>powerPS</th>\n",
       "      <th>model</th>\n",
       "      <th>kilometer</th>\n",
       "      <th>brand</th>\n",
       "      <th>notRepairedDamage</th>\n",
       "      <th>price_winsorized</th>\n",
       "      <th>...</th>\n",
       "      <th>vehicleType.sedan</th>\n",
       "      <th>vehicleType.station wagon</th>\n",
       "      <th>vehicleType.suv</th>\n",
       "      <th>fuelType.diesel</th>\n",
       "      <th>fuelType.electric</th>\n",
       "      <th>fuelType.gasoline</th>\n",
       "      <th>fuelType.hybrid</th>\n",
       "      <th>fuelType.lpg</th>\n",
       "      <th>fuelType.natural gas</th>\n",
       "      <th>fuelType.other</th>\n",
       "    </tr>\n",
       "  </thead>\n",
       "  <tbody>\n",
       "    <tr>\n",
       "      <th>1</th>\n",
       "      <td>9.814711</td>\n",
       "      <td>0</td>\n",
       "      <td>2011</td>\n",
       "      <td>0</td>\n",
       "      <td>0.359749</td>\n",
       "      <td>unknown</td>\n",
       "      <td>0.077267</td>\n",
       "      <td>audi</td>\n",
       "      <td>0</td>\n",
       "      <td>9.680344</td>\n",
       "      <td>...</td>\n",
       "      <td>0.0</td>\n",
       "      <td>0.0</td>\n",
       "      <td>0.0</td>\n",
       "      <td>1.0</td>\n",
       "      <td>0.0</td>\n",
       "      <td>0.0</td>\n",
       "      <td>0.0</td>\n",
       "      <td>0.0</td>\n",
       "      <td>0.0</td>\n",
       "      <td>0.0</td>\n",
       "    </tr>\n",
       "    <tr>\n",
       "      <th>2</th>\n",
       "      <td>9.190240</td>\n",
       "      <td>0</td>\n",
       "      <td>2004</td>\n",
       "      <td>1</td>\n",
       "      <td>0.215314</td>\n",
       "      <td>grand</td>\n",
       "      <td>0.077267</td>\n",
       "      <td>jeep</td>\n",
       "      <td>1</td>\n",
       "      <td>9.190240</td>\n",
       "      <td>...</td>\n",
       "      <td>0.0</td>\n",
       "      <td>0.0</td>\n",
       "      <td>1.0</td>\n",
       "      <td>1.0</td>\n",
       "      <td>0.0</td>\n",
       "      <td>0.0</td>\n",
       "      <td>0.0</td>\n",
       "      <td>0.0</td>\n",
       "      <td>0.0</td>\n",
       "      <td>0.0</td>\n",
       "    </tr>\n",
       "    <tr>\n",
       "      <th>3</th>\n",
       "      <td>7.313887</td>\n",
       "      <td>0</td>\n",
       "      <td>2001</td>\n",
       "      <td>0</td>\n",
       "      <td>-0.255437</td>\n",
       "      <td>golf</td>\n",
       "      <td>0.678981</td>\n",
       "      <td>volkswagen</td>\n",
       "      <td>1</td>\n",
       "      <td>7.313887</td>\n",
       "      <td>...</td>\n",
       "      <td>0.0</td>\n",
       "      <td>0.0</td>\n",
       "      <td>0.0</td>\n",
       "      <td>0.0</td>\n",
       "      <td>0.0</td>\n",
       "      <td>1.0</td>\n",
       "      <td>0.0</td>\n",
       "      <td>0.0</td>\n",
       "      <td>0.0</td>\n",
       "      <td>0.0</td>\n",
       "    </tr>\n",
       "    <tr>\n",
       "      <th>4</th>\n",
       "      <td>8.188967</td>\n",
       "      <td>0</td>\n",
       "      <td>2008</td>\n",
       "      <td>0</td>\n",
       "      <td>-0.287533</td>\n",
       "      <td>fabia</td>\n",
       "      <td>-0.765134</td>\n",
       "      <td>skoda</td>\n",
       "      <td>1</td>\n",
       "      <td>8.188967</td>\n",
       "      <td>...</td>\n",
       "      <td>0.0</td>\n",
       "      <td>0.0</td>\n",
       "      <td>0.0</td>\n",
       "      <td>1.0</td>\n",
       "      <td>0.0</td>\n",
       "      <td>0.0</td>\n",
       "      <td>0.0</td>\n",
       "      <td>0.0</td>\n",
       "      <td>0.0</td>\n",
       "      <td>0.0</td>\n",
       "    </tr>\n",
       "    <tr>\n",
       "      <th>6</th>\n",
       "      <td>7.696667</td>\n",
       "      <td>0</td>\n",
       "      <td>2004</td>\n",
       "      <td>0</td>\n",
       "      <td>-0.073556</td>\n",
       "      <td>2_reihe</td>\n",
       "      <td>0.678981</td>\n",
       "      <td>peugeot</td>\n",
       "      <td>1</td>\n",
       "      <td>7.696667</td>\n",
       "      <td>...</td>\n",
       "      <td>0.0</td>\n",
       "      <td>0.0</td>\n",
       "      <td>0.0</td>\n",
       "      <td>0.0</td>\n",
       "      <td>0.0</td>\n",
       "      <td>1.0</td>\n",
       "      <td>0.0</td>\n",
       "      <td>0.0</td>\n",
       "      <td>0.0</td>\n",
       "      <td>0.0</td>\n",
       "    </tr>\n",
       "  </tbody>\n",
       "</table>\n",
       "<p>5 rows × 25 columns</p>\n",
       "</div>"
      ],
      "text/plain": [
       "      price  abtest  yearOfRegistration  gearbox   powerPS    model   \n",
       "1  9.814711       0                2011        0  0.359749  unknown  \\\n",
       "2  9.190240       0                2004        1  0.215314    grand   \n",
       "3  7.313887       0                2001        0 -0.255437     golf   \n",
       "4  8.188967       0                2008        0 -0.287533    fabia   \n",
       "6  7.696667       0                2004        0 -0.073556  2_reihe   \n",
       "\n",
       "   kilometer       brand  notRepairedDamage  price_winsorized  ...   \n",
       "1   0.077267        audi                  0          9.680344  ...  \\\n",
       "2   0.077267        jeep                  1          9.190240  ...   \n",
       "3   0.678981  volkswagen                  1          7.313887  ...   \n",
       "4  -0.765134       skoda                  1          8.188967  ...   \n",
       "6   0.678981     peugeot                  1          7.696667  ...   \n",
       "\n",
       "   vehicleType.sedan  vehicleType.station wagon  vehicleType.suv   \n",
       "1                0.0                        0.0              0.0  \\\n",
       "2                0.0                        0.0              1.0   \n",
       "3                0.0                        0.0              0.0   \n",
       "4                0.0                        0.0              0.0   \n",
       "6                0.0                        0.0              0.0   \n",
       "\n",
       "   fuelType.diesel  fuelType.electric  fuelType.gasoline  fuelType.hybrid   \n",
       "1              1.0                0.0                0.0              0.0  \\\n",
       "2              1.0                0.0                0.0              0.0   \n",
       "3              0.0                0.0                1.0              0.0   \n",
       "4              1.0                0.0                0.0              0.0   \n",
       "6              0.0                0.0                1.0              0.0   \n",
       "\n",
       "   fuelType.lpg  fuelType.natural gas  fuelType.other  \n",
       "1           0.0                   0.0             0.0  \n",
       "2           0.0                   0.0             0.0  \n",
       "3           0.0                   0.0             0.0  \n",
       "4           0.0                   0.0             0.0  \n",
       "6           0.0                   0.0             0.0  \n",
       "\n",
       "[5 rows x 25 columns]"
      ]
     },
     "execution_count": 32,
     "metadata": {},
     "output_type": "execute_result"
    }
   ],
   "source": [
    "car_data_v2.head()"
   ]
  },
  {
   "cell_type": "code",
   "execution_count": 34,
   "metadata": {},
   "outputs": [],
   "source": [
    "corr_matrix = car_data_v2.drop(columns=['price', 'model', 'brand'], axis=1).corr()"
   ]
  },
  {
   "cell_type": "code",
   "execution_count": 35,
   "metadata": {},
   "outputs": [
    {
     "data": {
      "text/plain": [
       "<AxesSubplot: >"
      ]
     },
     "execution_count": 35,
     "metadata": {},
     "output_type": "execute_result"
    },
    {
     "data": {
      "image/png": "[encoded data removed]",
      "text/plain": [
       "<Figure size 1440x1080 with 2 Axes>"
      ]
     },
     "metadata": {
      "needs_background": "light"
     },
     "output_type": "display_data"
    }
   ],
   "source": [
    "# Plot correlation matrix (without brand and model)\n",
    "fig, ax = plt.subplots(figsize=(20, 15))\n",
    "sns.heatmap(corr_matrix, annot=True)"
   ]
  },
  {
   "cell_type": "code",
   "execution_count": 36,
   "metadata": {},
   "outputs": [
    {
     "name": "stdout",
     "output_type": "stream",
     "text": [
      "Highly correlated features:\n",
      "('fuelType.diesel', 'fuelType.gasoline')\n"
     ]
    }
   ],
   "source": [
    "# Set threshold for correlation coefficient\n",
    "threshold = 0.5\n",
    "\n",
    "# Identify highly correlated features\n",
    "high_corr_features = np.where(corr_matrix.abs() > threshold)\n",
    "\n",
    "# Remove duplicate pairs\n",
    "high_corr_features = [(corr_matrix.columns[x], corr_matrix.columns[y])\n",
    "                      for x, y in zip(*high_corr_features)\n",
    "                      if x != y and x < y]\n",
    "\n",
    "# Print highly correlated features\n",
    "print(\"Highly correlated features:\")\n",
    "for feature in high_corr_features:\n",
    "    print(feature)"
   ]
  },
  {
   "cell_type": "code",
   "execution_count": 39,
   "metadata": {},
   "outputs": [
    {
     "data": {
      "text/plain": [
       "Index(['yearOfRegistration', 'gearbox', 'powerPS', 'kilometer',\n",
       "       'notRepairedDamage', 'vehicleType.compact car',\n",
       "       'vehicleType.convertible', 'vehicleType.suv', 'fuelType.diesel',\n",
       "       'fuelType.gasoline', 'brand.audi', 'brand.bmw', 'brand.mercedes_benz',\n",
       "       'brand.opel', 'brand.renault'],\n",
       "      dtype='object')"
      ]
     },
     "execution_count": 39,
     "metadata": {},
     "output_type": "execute_result"
    }
   ],
   "source": [
    "from sklearn.feature_selection import SelectKBest, f_regression, chi2\n",
    "\n",
    "selector = SelectKBest(score_func=f_regression, k=15)\n",
    "\n",
    "X = car_data_winsor_price.drop(columns=['price_winsorized'], axis=1)\n",
    "y = car_data_winsor_price['price_winsorized']\n",
    "\n",
    "X_new = selector.fit_transform(X, y)\n",
    "\n",
    "# Get selected features\n",
    "selected_features = X.columns[selector.get_support(indices=True)]\n",
    "selected_features"
   ]
  },
  {
   "attachments": {},
   "cell_type": "markdown",
   "metadata": {},
   "source": [
    "# Dimensionality Reduction (PCA)"
   ]
  },
  {
   "cell_type": "code",
   "execution_count": null,
   "metadata": {},
   "outputs": [],
   "source": [
    "# from sklearn.decomposition import PCA\n",
    "\n",
    "# pca = PCA()\n",
    "# X_pca = pca.fit_transform(X)\n",
    "\n",
    "# # Convert to dataframe\n",
    "# component_names = [f\"PC{i+1}\" for i in range(X_pca.shape[1])]\n",
    "# X_pca = pd.DataFrame(X_pca, columns=component_names)\n",
    "\n",
    "# X_pca.head()"
   ]
  },
  {
   "cell_type": "code",
   "execution_count": 50,
   "metadata": {},
   "outputs": [
    {
     "data": {
      "text/plain": [
       "[(2010.0, 2015.0], (2000.0, 2005.0], (2005.0, 2010.0], (2015.0, 2020.0], NaN]\n",
       "Categories (4, interval[int64, right]): [(2000, 2005] < (2005, 2010] < (2010, 2015] < (2015, 2020]]"
      ]
     },
     "execution_count": 50,
     "metadata": {},
     "output_type": "execute_result"
    }
   ],
   "source": [
    "# create bins for years, e.g. every 5 years\n",
    "bins = [2000, 2005, 2010, 2015, 2020]\n",
    "\n",
    "# use the cut function to assign each year to a bin\n",
    "X['year_range'] = pd.cut(X['yearOfRegistration'], bins)\n",
    "X['year_range'].unique()\n",
    "\n",
    "X = pd.get_dummies(X, prefix='year_range', prefix_sep='.', columns=['year_range'], dtype=float)\n",
    "X.drop(columns=['year_bin'], inplace=True)"
   ]
  },
  {
   "attachments": {},
   "cell_type": "markdown",
   "metadata": {},
   "source": [
    "# Modelling"
   ]
  },
  {
   "cell_type": "code",
   "execution_count": 59,
   "metadata": {},
   "outputs": [],
   "source": [
    "from sklearn.model_selection import train_test_split\n",
    "\n",
    "X = car_data_winsor_price[selected_features]\n",
    "y = car_data_winsor_price['price_winsorized']\n",
    "\n",
    "X_train, X_test, y_train, y_test = train_test_split(X, y, test_size=0.2, random_state=42)"
   ]
  },
  {
   "attachments": {},
   "cell_type": "markdown",
   "metadata": {},
   "source": [
    "## XGBoost"
   ]
  },
  {
   "cell_type": "code",
   "execution_count": 60,
   "metadata": {},
   "outputs": [],
   "source": [
    "from sklearn.metrics import mean_absolute_error, mean_squared_error, r2_score\n",
    "import xgboost as xgb"
   ]
  },
  {
   "cell_type": "code",
   "execution_count": 61,
   "metadata": {},
   "outputs": [
    {
     "name": "stderr",
     "output_type": "stream",
     "text": [
      "g:\\Softwares\\Python\\lib\\site-packages\\xgboost\\sklearn.py:835: UserWarning:\n",
      "\n",
      "`eval_metric` in `fit` method is deprecated for better compatibility with scikit-learn, use `eval_metric` in constructor or`set_params` instead.\n",
      "\n",
      "g:\\Softwares\\Python\\lib\\site-packages\\xgboost\\sklearn.py:835: UserWarning:\n",
      "\n",
      "`early_stopping_rounds` in `fit` method is deprecated for better compatibility with scikit-learn, use `early_stopping_rounds` in constructor or`set_params` instead.\n",
      "\n"
     ]
    },
    {
     "name": "stdout",
     "output_type": "stream",
     "text": [
      "[0]\tvalidation_0-mae:5.47311\n",
      "[1]\tvalidation_0-mae:3.83170\n",
      "[2]\tvalidation_0-mae:2.68240\n",
      "[3]\tvalidation_0-mae:1.88041\n",
      "[4]\tvalidation_0-mae:1.32548\n",
      "[5]\tvalidation_0-mae:0.94693\n",
      "[6]\tvalidation_0-mae:0.69669\n",
      "[7]\tvalidation_0-mae:0.53783\n",
      "[8]\tvalidation_0-mae:0.43997\n",
      "[9]\tvalidation_0-mae:0.38305\n",
      "[10]\tvalidation_0-mae:0.35023\n",
      "[11]\tvalidation_0-mae:0.32919\n",
      "[12]\tvalidation_0-mae:0.31686\n",
      "[13]\tvalidation_0-mae:0.30927\n",
      "[14]\tvalidation_0-mae:0.30449\n",
      "[15]\tvalidation_0-mae:0.30082\n",
      "[16]\tvalidation_0-mae:0.29890\n",
      "[17]\tvalidation_0-mae:0.29704\n",
      "[18]\tvalidation_0-mae:0.29527\n",
      "[19]\tvalidation_0-mae:0.29415\n",
      "[20]\tvalidation_0-mae:0.29311\n",
      "[21]\tvalidation_0-mae:0.29226\n",
      "[22]\tvalidation_0-mae:0.29142\n",
      "[23]\tvalidation_0-mae:0.29067\n",
      "[24]\tvalidation_0-mae:0.28975\n",
      "[25]\tvalidation_0-mae:0.28921\n",
      "[26]\tvalidation_0-mae:0.28900\n",
      "[27]\tvalidation_0-mae:0.28861\n",
      "[28]\tvalidation_0-mae:0.28806\n",
      "[29]\tvalidation_0-mae:0.28716\n",
      "[30]\tvalidation_0-mae:0.28693\n",
      "[31]\tvalidation_0-mae:0.28654\n",
      "[32]\tvalidation_0-mae:0.28603\n",
      "[33]\tvalidation_0-mae:0.28542\n",
      "[34]\tvalidation_0-mae:0.28486\n",
      "[35]\tvalidation_0-mae:0.28452\n",
      "[36]\tvalidation_0-mae:0.28451\n",
      "[37]\tvalidation_0-mae:0.28410\n",
      "[38]\tvalidation_0-mae:0.28378\n",
      "[39]\tvalidation_0-mae:0.28337\n",
      "[40]\tvalidation_0-mae:0.28327\n",
      "[41]\tvalidation_0-mae:0.28319\n",
      "[42]\tvalidation_0-mae:0.28257\n",
      "[43]\tvalidation_0-mae:0.28217\n",
      "[44]\tvalidation_0-mae:0.28191\n",
      "[45]\tvalidation_0-mae:0.28161\n",
      "[46]\tvalidation_0-mae:0.28151\n",
      "[47]\tvalidation_0-mae:0.28151\n",
      "[48]\tvalidation_0-mae:0.28133\n",
      "[49]\tvalidation_0-mae:0.28098\n",
      "[50]\tvalidation_0-mae:0.28088\n",
      "[51]\tvalidation_0-mae:0.28083\n",
      "[52]\tvalidation_0-mae:0.28065\n",
      "[53]\tvalidation_0-mae:0.28029\n",
      "[54]\tvalidation_0-mae:0.28013\n",
      "[55]\tvalidation_0-mae:0.28011\n",
      "[56]\tvalidation_0-mae:0.27997\n",
      "[57]\tvalidation_0-mae:0.27992\n",
      "[58]\tvalidation_0-mae:0.27971\n",
      "[59]\tvalidation_0-mae:0.27966\n",
      "[60]\tvalidation_0-mae:0.27954\n",
      "[61]\tvalidation_0-mae:0.27940\n",
      "[62]\tvalidation_0-mae:0.27925\n",
      "[63]\tvalidation_0-mae:0.27916\n",
      "[64]\tvalidation_0-mae:0.27907\n",
      "[65]\tvalidation_0-mae:0.27904\n",
      "[66]\tvalidation_0-mae:0.27866\n",
      "[67]\tvalidation_0-mae:0.27845\n",
      "[68]\tvalidation_0-mae:0.27828\n",
      "[69]\tvalidation_0-mae:0.27801\n",
      "[70]\tvalidation_0-mae:0.27793\n",
      "[71]\tvalidation_0-mae:0.27786\n",
      "[72]\tvalidation_0-mae:0.27772\n",
      "[73]\tvalidation_0-mae:0.27775\n",
      "[74]\tvalidation_0-mae:0.27751\n",
      "[75]\tvalidation_0-mae:0.27728\n",
      "[76]\tvalidation_0-mae:0.27726\n",
      "[77]\tvalidation_0-mae:0.27713\n",
      "[78]\tvalidation_0-mae:0.27699\n",
      "[79]\tvalidation_0-mae:0.27672\n",
      "[80]\tvalidation_0-mae:0.27663\n",
      "[81]\tvalidation_0-mae:0.27661\n",
      "[82]\tvalidation_0-mae:0.27660\n",
      "[83]\tvalidation_0-mae:0.27659\n",
      "[84]\tvalidation_0-mae:0.27653\n",
      "[85]\tvalidation_0-mae:0.27648\n",
      "[86]\tvalidation_0-mae:0.27645\n",
      "[87]\tvalidation_0-mae:0.27641\n",
      "[88]\tvalidation_0-mae:0.27623\n",
      "[89]\tvalidation_0-mae:0.27621\n",
      "[90]\tvalidation_0-mae:0.27618\n",
      "[91]\tvalidation_0-mae:0.27617\n",
      "[92]\tvalidation_0-mae:0.27615\n",
      "[93]\tvalidation_0-mae:0.27609\n",
      "[94]\tvalidation_0-mae:0.27597\n",
      "[95]\tvalidation_0-mae:0.27587\n",
      "[96]\tvalidation_0-mae:0.27571\n",
      "[97]\tvalidation_0-mae:0.27565\n",
      "[98]\tvalidation_0-mae:0.27565\n",
      "[99]\tvalidation_0-mae:0.27561\n",
      "mean_absolute_error =  0.2756084612637925\n",
      "R2 score is  0.8100981103599705\n",
      "mean_squared_error is  0.16760273825320385\n"
     ]
    }
   ],
   "source": [
    "xgb_model1 = xgb.XGBRegressor()\n",
    "xgb_model1.fit(X_train, y_train, eval_metric=\"mae\", early_stopping_rounds=5 ,eval_set=[(X_test,y_test)], verbose=1)\n",
    "\n",
    "y_pred = xgb_model1.predict(X_test)\n",
    "\n",
    "print('mean_absolute_error = ', mean_absolute_error(y_test,y_pred))\n",
    "print('R2 score is ',r2_score(y_test, y_pred))\n",
    "print('mean_squared_error is ', mean_squared_error(y_test, y_pred))"
   ]
  },
  {
   "cell_type": "code",
   "execution_count": 63,
   "metadata": {},
   "outputs": [
    {
     "name": "stdout",
     "output_type": "stream",
     "text": [
      "Fitting 5 folds for each of 24 candidates, totalling 120 fits\n"
     ]
    },
    {
     "ename": "",
     "evalue": "",
     "output_type": "error",
     "traceback": [
      "\u001b[1;31mFailed to interrupt the Kernel. \n",
      "\u001b[1;31mUnable to start Kernel 'Python 3.8.3' due to connection timeout. \n",
      "\u001b[1;31mView Jupyter <a href='command:jupyter.viewOutput'>log</a> for further details."
     ]
    }
   ],
   "source": [
    "from sklearn.model_selection import GridSearchCV\n",
    "\n",
    "param_tuning = {\n",
    "        'learning_rate': [0.01, 0.1],\n",
    "        'max_depth': [3, 5, 7, 10],\n",
    "        'n_estimators' : [100, 200, 500],\n",
    "        'objective': ['reg:squarederror']\n",
    "    }\n",
    "\n",
    "xgb_model2 = xgb.XGBRegressor()\n",
    "\n",
    "gsearch = GridSearchCV(estimator = xgb_model2,\n",
    "                        param_grid = param_tuning,                        \n",
    "                        scoring = 'neg_mean_squared_error',  #MSE\n",
    "                        cv = 5,\n",
    "                        n_jobs = -1,\n",
    "                        verbose = 1)\n",
    "\n",
    "gsearch.fit(X_train,y_train)"
   ]
  },
  {
   "cell_type": "code",
   "execution_count": null,
   "metadata": {},
   "outputs": [],
   "source": [
    "# Evaluate the best model on the test set\n",
    "best_model = grid_search.best_estimator_\n",
    "best_model"
   ]
  },
  {
   "cell_type": "code",
   "execution_count": null,
   "metadata": {},
   "outputs": [
    {
     "name": "stdout",
     "output_type": "stream",
     "text": [
      "[0]\tvalidation_0-mae:5.47351\n"
     ]
    },
    {
     "name": "stderr",
     "output_type": "stream",
     "text": [
      "g:\\Softwares\\Python\\lib\\site-packages\\xgboost\\sklearn.py:835: UserWarning:\n",
      "\n",
      "`eval_metric` in `fit` method is deprecated for better compatibility with scikit-learn, use `eval_metric` in constructor or`set_params` instead.\n",
      "\n",
      "g:\\Softwares\\Python\\lib\\site-packages\\xgboost\\sklearn.py:835: UserWarning:\n",
      "\n",
      "`early_stopping_rounds` in `fit` method is deprecated for better compatibility with scikit-learn, use `early_stopping_rounds` in constructor or`set_params` instead.\n",
      "\n"
     ]
    },
    {
     "name": "stdout",
     "output_type": "stream",
     "text": [
      "[1]\tvalidation_0-mae:3.83217\n",
      "[2]\tvalidation_0-mae:2.68341\n",
      "[3]\tvalidation_0-mae:1.88203\n",
      "[4]\tvalidation_0-mae:1.32746\n",
      "[5]\tvalidation_0-mae:0.94726\n",
      "[6]\tvalidation_0-mae:0.69426\n",
      "[7]\tvalidation_0-mae:0.53203\n",
      "[8]\tvalidation_0-mae:0.43122\n",
      "[9]\tvalidation_0-mae:0.37178\n",
      "[10]\tvalidation_0-mae:0.33734\n",
      "[11]\tvalidation_0-mae:0.31752\n",
      "[12]\tvalidation_0-mae:0.30576\n",
      "[13]\tvalidation_0-mae:0.29905\n",
      "[14]\tvalidation_0-mae:0.29499\n",
      "[15]\tvalidation_0-mae:0.29234\n",
      "[16]\tvalidation_0-mae:0.29066\n",
      "[17]\tvalidation_0-mae:0.28951\n",
      "[18]\tvalidation_0-mae:0.28872\n",
      "[19]\tvalidation_0-mae:0.28829\n",
      "[20]\tvalidation_0-mae:0.28781\n",
      "[21]\tvalidation_0-mae:0.28753\n",
      "[22]\tvalidation_0-mae:0.28735\n",
      "[23]\tvalidation_0-mae:0.28721\n",
      "[24]\tvalidation_0-mae:0.28715\n",
      "[25]\tvalidation_0-mae:0.28702\n",
      "[26]\tvalidation_0-mae:0.28696\n",
      "[27]\tvalidation_0-mae:0.28682\n",
      "[28]\tvalidation_0-mae:0.28686\n",
      "[29]\tvalidation_0-mae:0.28676\n",
      "[30]\tvalidation_0-mae:0.28679\n",
      "[31]\tvalidation_0-mae:0.28683\n",
      "[32]\tvalidation_0-mae:0.28684\n",
      "[33]\tvalidation_0-mae:0.28682\n",
      "[34]\tvalidation_0-mae:0.28675\n",
      "[35]\tvalidation_0-mae:0.28680\n",
      "[36]\tvalidation_0-mae:0.28685\n",
      "[37]\tvalidation_0-mae:0.28692\n",
      "[38]\tvalidation_0-mae:0.28698\n"
     ]
    }
   ],
   "source": [
    "y_pred = best_model.predict(X_test)\n",
    "\n",
    "print('mean_absolute_error = ', mean_absolute_error(y_test,y_pred))\n",
    "print('R2 score is ',r2_score(y_test, y_pred))\n",
    "print('mean_squared_error is ', mean_squared_error(y_test, y_pred))"
   ]
  },
  {
   "attachments": {},
   "cell_type": "markdown",
   "metadata": {},
   "source": [
    "## Linear Regression"
   ]
  },
  {
   "cell_type": "code",
   "execution_count": null,
   "metadata": {},
   "outputs": [],
   "source": [
    "from sklearn.linear_model import LinearRegression\n",
    "\n",
    "lr = LinearRegression()\n",
    "\n",
    "lr.fit(X_train, y_train)\n",
    "\n",
    "y_pred = lr.predict(X_test)"
   ]
  },
  {
   "cell_type": "code",
   "execution_count": null,
   "metadata": {},
   "outputs": [
    {
     "name": "stdout",
     "output_type": "stream",
     "text": [
      "mean_absolute_error =  0.5412947916275763\n",
      "R2 score is  0.41935369399964395\n",
      "mean_squared_error is  0.512464152024708\n"
     ]
    }
   ],
   "source": [
    "print('mean_absolute_error = ', mean_absolute_error(y_test,y_pred))\n",
    "print('R2 score is ',r2_score(y_test, y_pred))\n",
    "print('mean_squared_error is ', mean_squared_error(y_test, y_pred))"
   ]
  },
  {
   "attachments": {},
   "cell_type": "markdown",
   "metadata": {},
   "source": [
    "## Lasso Regression"
   ]
  },
  {
   "cell_type": "code",
   "execution_count": null,
   "metadata": {},
   "outputs": [
    {
     "name": "stdout",
     "output_type": "stream",
     "text": [
      "Best hyperparameters: {'alpha': 0.0001}\n",
      "Best score: 0.4949815726570578\n"
     ]
    }
   ],
   "source": [
    "from sklearn.linear_model import Lasso\n",
    "\n",
    "# Create a linear regression object\n",
    "lasso = Lasso()\n",
    "\n",
    "# Define the hyperparameters to tune\n",
    "param_grid = {'alpha': [0.0001, 0.001, 0.01, 0.1, 1, 10]}\n",
    "\n",
    "# Create a grid search object\n",
    "grid_search = GridSearchCV(lasso, param_grid, cv=5, scoring='neg_mean_squared_error')\n",
    "\n",
    "# Fit the grid search object to the data\n",
    "grid_search.fit(X_train, y_train)\n",
    "\n",
    "# Print the best hyperparameters and the best score\n",
    "print(\"Best hyperparameters:\", grid_search.best_params_)\n",
    "print(\"Best score:\", -grid_search.best_score_)"
   ]
  },
  {
   "cell_type": "code",
   "execution_count": null,
   "metadata": {},
   "outputs": [
    {
     "data": {
      "text/html": [
       "<style>#sk-container-id-1 {color: black;background-color: white;}#sk-container-id-1 pre{padding: 0;}#sk-container-id-1 div.sk-toggleable {background-color: white;}#sk-container-id-1 label.sk-toggleable__label {cursor: pointer;display: block;width: 100%;margin-bottom: 0;padding: 0.3em;box-sizing: border-box;text-align: center;}#sk-container-id-1 label.sk-toggleable__label-arrow:before {content: \"▸\";float: left;margin-right: 0.25em;color: #696969;}#sk-container-id-1 label.sk-toggleable__label-arrow:hover:before {color: black;}#sk-container-id-1 div.sk-estimator:hover label.sk-toggleable__label-arrow:before {color: black;}#sk-container-id-1 div.sk-toggleable__content {max-height: 0;max-width: 0;overflow: hidden;text-align: left;background-color: #f0f8ff;}#sk-container-id-1 div.sk-toggleable__content pre {margin: 0.2em;color: black;border-radius: 0.25em;background-color: #f0f8ff;}#sk-container-id-1 input.sk-toggleable__control:checked~div.sk-toggleable__content {max-height: 200px;max-width: 100%;overflow: auto;}#sk-container-id-1 input.sk-toggleable__control:checked~label.sk-toggleable__label-arrow:before {content: \"▾\";}#sk-container-id-1 div.sk-estimator input.sk-toggleable__control:checked~label.sk-toggleable__label {background-color: #d4ebff;}#sk-container-id-1 div.sk-label input.sk-toggleable__control:checked~label.sk-toggleable__label {background-color: #d4ebff;}#sk-container-id-1 input.sk-hidden--visually {border: 0;clip: rect(1px 1px 1px 1px);clip: rect(1px, 1px, 1px, 1px);height: 1px;margin: -1px;overflow: hidden;padding: 0;position: absolute;width: 1px;}#sk-container-id-1 div.sk-estimator {font-family: monospace;background-color: #f0f8ff;border: 1px dotted black;border-radius: 0.25em;box-sizing: border-box;margin-bottom: 0.5em;}#sk-container-id-1 div.sk-estimator:hover {background-color: #d4ebff;}#sk-container-id-1 div.sk-parallel-item::after {content: \"\";width: 100%;border-bottom: 1px solid gray;flex-grow: 1;}#sk-container-id-1 div.sk-label:hover label.sk-toggleable__label {background-color: #d4ebff;}#sk-container-id-1 div.sk-serial::before {content: \"\";position: absolute;border-left: 1px solid gray;box-sizing: border-box;top: 0;bottom: 0;left: 50%;z-index: 0;}#sk-container-id-1 div.sk-serial {display: flex;flex-direction: column;align-items: center;background-color: white;padding-right: 0.2em;padding-left: 0.2em;position: relative;}#sk-container-id-1 div.sk-item {position: relative;z-index: 1;}#sk-container-id-1 div.sk-parallel {display: flex;align-items: stretch;justify-content: center;background-color: white;position: relative;}#sk-container-id-1 div.sk-item::before, #sk-container-id-1 div.sk-parallel-item::before {content: \"\";position: absolute;border-left: 1px solid gray;box-sizing: border-box;top: 0;bottom: 0;left: 50%;z-index: -1;}#sk-container-id-1 div.sk-parallel-item {display: flex;flex-direction: column;z-index: 1;position: relative;background-color: white;}#sk-container-id-1 div.sk-parallel-item:first-child::after {align-self: flex-end;width: 50%;}#sk-container-id-1 div.sk-parallel-item:last-child::after {align-self: flex-start;width: 50%;}#sk-container-id-1 div.sk-parallel-item:only-child::after {width: 0;}#sk-container-id-1 div.sk-dashed-wrapped {border: 1px dashed gray;margin: 0 0.4em 0.5em 0.4em;box-sizing: border-box;padding-bottom: 0.4em;background-color: white;}#sk-container-id-1 div.sk-label label {font-family: monospace;font-weight: bold;display: inline-block;line-height: 1.2em;}#sk-container-id-1 div.sk-label-container {text-align: center;}#sk-container-id-1 div.sk-container {/* jupyter's `normalize.less` sets `[hidden] { display: none; }` but bootstrap.min.css set `[hidden] { display: none !important; }` so we also need the `!important` here to be able to override the default hidden behavior on the sphinx rendered scikit-learn.org. See: https://github.com/scikit-learn/scikit-learn/issues/21755 */display: inline-block !important;position: relative;}#sk-container-id-1 div.sk-text-repr-fallback {display: none;}</style><div id=\"sk-container-id-1\" class=\"sk-top-container\"><div class=\"sk-text-repr-fallback\"><pre>Lasso(alpha=0.0001)</pre><b>In a Jupyter environment, please rerun this cell to show the HTML representation or trust the notebook. <br />On GitHub, the HTML representation is unable to render, please try loading this page with nbviewer.org.</b></div><div class=\"sk-container\" hidden><div class=\"sk-item\"><div class=\"sk-estimator sk-toggleable\"><input class=\"sk-toggleable__control sk-hidden--visually\" id=\"sk-estimator-id-1\" type=\"checkbox\" checked><label for=\"sk-estimator-id-1\" class=\"sk-toggleable__label sk-toggleable__label-arrow\">Lasso</label><div class=\"sk-toggleable__content\"><pre>Lasso(alpha=0.0001)</pre></div></div></div></div></div>"
      ],
      "text/plain": [
       "Lasso(alpha=0.0001)"
      ]
     },
     "execution_count": 140,
     "metadata": {},
     "output_type": "execute_result"
    }
   ],
   "source": [
    "# Evaluate the best model on the test set\n",
    "best_model = grid_search.best_estimator_\n",
    "best_model"
   ]
  },
  {
   "cell_type": "code",
   "execution_count": null,
   "metadata": {},
   "outputs": [
    {
     "name": "stdout",
     "output_type": "stream",
     "text": [
      "mean_absolute_error =  0.54132065333978\n",
      "R2 score is  0.41936316920792716\n",
      "mean_squared_error is  0.5124557894388654\n"
     ]
    }
   ],
   "source": [
    "y_pred = best_model.predict(X_test)\n",
    "\n",
    "print('mean_absolute_error = ', mean_absolute_error(y_test,y_pred))\n",
    "print('R2 score is ',r2_score(y_test, y_pred))\n",
    "print('mean_squared_error is ', mean_squared_error(y_test, y_pred))"
   ]
  },
  {
   "attachments": {},
   "cell_type": "markdown",
   "metadata": {},
   "source": [
    "## Ridge Regression"
   ]
  },
  {
   "cell_type": "code",
   "execution_count": null,
   "metadata": {},
   "outputs": [
    {
     "name": "stdout",
     "output_type": "stream",
     "text": [
      "Best hyperparameters: {'alpha': 0.0001}\n",
      "Best score: 0.49498110506807436\n"
     ]
    }
   ],
   "source": [
    "from sklearn.linear_model import Ridge\n",
    "\n",
    "# Create a linear regression object\n",
    "ridge = Ridge()\n",
    "\n",
    "# Define the hyperparameters to tune\n",
    "param_grid = {'alpha': [0.0001, 0.001, 0.01, 0.1, 1, 10]}\n",
    "\n",
    "# Create a grid search object\n",
    "grid_search = GridSearchCV(ridge, param_grid, cv=5, scoring='neg_mean_squared_error')\n",
    "\n",
    "# Fit the grid search object to the data\n",
    "grid_search.fit(X_train, y_train)\n",
    "\n",
    "# Print the best hyperparameters and the best score\n",
    "print(\"Best hyperparameters:\", grid_search.best_params_)\n",
    "print(\"Best score:\", -grid_search.best_score_)"
   ]
  },
  {
   "cell_type": "code",
   "execution_count": null,
   "metadata": {},
   "outputs": [
    {
     "data": {
      "text/html": [
       "<style>#sk-container-id-2 {color: black;background-color: white;}#sk-container-id-2 pre{padding: 0;}#sk-container-id-2 div.sk-toggleable {background-color: white;}#sk-container-id-2 label.sk-toggleable__label {cursor: pointer;display: block;width: 100%;margin-bottom: 0;padding: 0.3em;box-sizing: border-box;text-align: center;}#sk-container-id-2 label.sk-toggleable__label-arrow:before {content: \"▸\";float: left;margin-right: 0.25em;color: #696969;}#sk-container-id-2 label.sk-toggleable__label-arrow:hover:before {color: black;}#sk-container-id-2 div.sk-estimator:hover label.sk-toggleable__label-arrow:before {color: black;}#sk-container-id-2 div.sk-toggleable__content {max-height: 0;max-width: 0;overflow: hidden;text-align: left;background-color: #f0f8ff;}#sk-container-id-2 div.sk-toggleable__content pre {margin: 0.2em;color: black;border-radius: 0.25em;background-color: #f0f8ff;}#sk-container-id-2 input.sk-toggleable__control:checked~div.sk-toggleable__content {max-height: 200px;max-width: 100%;overflow: auto;}#sk-container-id-2 input.sk-toggleable__control:checked~label.sk-toggleable__label-arrow:before {content: \"▾\";}#sk-container-id-2 div.sk-estimator input.sk-toggleable__control:checked~label.sk-toggleable__label {background-color: #d4ebff;}#sk-container-id-2 div.sk-label input.sk-toggleable__control:checked~label.sk-toggleable__label {background-color: #d4ebff;}#sk-container-id-2 input.sk-hidden--visually {border: 0;clip: rect(1px 1px 1px 1px);clip: rect(1px, 1px, 1px, 1px);height: 1px;margin: -1px;overflow: hidden;padding: 0;position: absolute;width: 1px;}#sk-container-id-2 div.sk-estimator {font-family: monospace;background-color: #f0f8ff;border: 1px dotted black;border-radius: 0.25em;box-sizing: border-box;margin-bottom: 0.5em;}#sk-container-id-2 div.sk-estimator:hover {background-color: #d4ebff;}#sk-container-id-2 div.sk-parallel-item::after {content: \"\";width: 100%;border-bottom: 1px solid gray;flex-grow: 1;}#sk-container-id-2 div.sk-label:hover label.sk-toggleable__label {background-color: #d4ebff;}#sk-container-id-2 div.sk-serial::before {content: \"\";position: absolute;border-left: 1px solid gray;box-sizing: border-box;top: 0;bottom: 0;left: 50%;z-index: 0;}#sk-container-id-2 div.sk-serial {display: flex;flex-direction: column;align-items: center;background-color: white;padding-right: 0.2em;padding-left: 0.2em;position: relative;}#sk-container-id-2 div.sk-item {position: relative;z-index: 1;}#sk-container-id-2 div.sk-parallel {display: flex;align-items: stretch;justify-content: center;background-color: white;position: relative;}#sk-container-id-2 div.sk-item::before, #sk-container-id-2 div.sk-parallel-item::before {content: \"\";position: absolute;border-left: 1px solid gray;box-sizing: border-box;top: 0;bottom: 0;left: 50%;z-index: -1;}#sk-container-id-2 div.sk-parallel-item {display: flex;flex-direction: column;z-index: 1;position: relative;background-color: white;}#sk-container-id-2 div.sk-parallel-item:first-child::after {align-self: flex-end;width: 50%;}#sk-container-id-2 div.sk-parallel-item:last-child::after {align-self: flex-start;width: 50%;}#sk-container-id-2 div.sk-parallel-item:only-child::after {width: 0;}#sk-container-id-2 div.sk-dashed-wrapped {border: 1px dashed gray;margin: 0 0.4em 0.5em 0.4em;box-sizing: border-box;padding-bottom: 0.4em;background-color: white;}#sk-container-id-2 div.sk-label label {font-family: monospace;font-weight: bold;display: inline-block;line-height: 1.2em;}#sk-container-id-2 div.sk-label-container {text-align: center;}#sk-container-id-2 div.sk-container {/* jupyter's `normalize.less` sets `[hidden] { display: none; }` but bootstrap.min.css set `[hidden] { display: none !important; }` so we also need the `!important` here to be able to override the default hidden behavior on the sphinx rendered scikit-learn.org. See: https://github.com/scikit-learn/scikit-learn/issues/21755 */display: inline-block !important;position: relative;}#sk-container-id-2 div.sk-text-repr-fallback {display: none;}</style><div id=\"sk-container-id-2\" class=\"sk-top-container\"><div class=\"sk-text-repr-fallback\"><pre>Ridge(alpha=0.0001)</pre><b>In a Jupyter environment, please rerun this cell to show the HTML representation or trust the notebook. <br />On GitHub, the HTML representation is unable to render, please try loading this page with nbviewer.org.</b></div><div class=\"sk-container\" hidden><div class=\"sk-item\"><div class=\"sk-estimator sk-toggleable\"><input class=\"sk-toggleable__control sk-hidden--visually\" id=\"sk-estimator-id-2\" type=\"checkbox\" checked><label for=\"sk-estimator-id-2\" class=\"sk-toggleable__label sk-toggleable__label-arrow\">Ridge</label><div class=\"sk-toggleable__content\"><pre>Ridge(alpha=0.0001)</pre></div></div></div></div></div>"
      ],
      "text/plain": [
       "Ridge(alpha=0.0001)"
      ]
     },
     "execution_count": 143,
     "metadata": {},
     "output_type": "execute_result"
    }
   ],
   "source": [
    "# Evaluate the best model on the test set\n",
    "best_model = grid_search.best_estimator_\n",
    "best_model"
   ]
  },
  {
   "cell_type": "code",
   "execution_count": null,
   "metadata": {},
   "outputs": [
    {
     "name": "stdout",
     "output_type": "stream",
     "text": [
      "mean_absolute_error =  0.541294791660196\n",
      "R2 score is  0.4193536939776067\n",
      "mean_squared_error is  0.5124641520441575\n"
     ]
    }
   ],
   "source": [
    "y_pred = best_model.predict(X_test)\n",
    "\n",
    "print('mean_absolute_error = ', mean_absolute_error(y_test,y_pred))\n",
    "print('R2 score is ',r2_score(y_test, y_pred))\n",
    "print('mean_squared_error is ', mean_squared_error(y_test, y_pred))"
   ]
  },
  {
   "attachments": {},
   "cell_type": "markdown",
   "metadata": {},
   "source": [
    "## "
   ]
  },
  {
   "cell_type": "code",
   "execution_count": null,
   "metadata": {},
   "outputs": [],
   "source": []
  }
 ],
 "metadata": {
  "kernelspec": {
   "display_name": "Python 3",
   "language": "python",
   "name": "python3"
  },
  "language_info": {
   "codemirror_mode": {
    "name": "ipython",
    "version": 3
   },
   "file_extension": ".py",
   "mimetype": "text/x-python",
   "name": "python",
   "nbconvert_exporter": "python",
   "pygments_lexer": "ipython3",
   "version": "3.8.3"
  },
  "toc": {
   "base_numbering": 1,
   "nav_menu": {},
   "number_sections": true,
   "sideBar": true,
   "skip_h1_title": false,
   "title_cell": "Table of Contents",
   "title_sidebar": "Contents",
   "toc_cell": false,
   "toc_position": {
    "height": "calc(100% - 180px)",
    "left": "10px",
    "top": "150px",
    "width": "214.188px"
   },
   "toc_section_display": true,
   "toc_window_display": true
  },
  "vscode": {
   "interpreter": {
    "hash": "3dddbad05299a33eff5b7e15160c3c13e1a7bf06ca44312c6a8f9ef10a32c58b"
   }
  }
 },
 "nbformat": 4,
 "nbformat_minor": 2
}
